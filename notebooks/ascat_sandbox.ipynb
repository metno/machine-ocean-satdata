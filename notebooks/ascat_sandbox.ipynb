{
 "cells": [
  {
   "cell_type": "code",
   "execution_count": 1,
   "id": "b9f32cff",
   "metadata": {},
   "outputs": [],
   "source": [
    "# Import the library EUMDAC\n",
    "import eumdac\n",
    "import time\n",
    "import fnmatch\n",
    "import shutil\n",
    "\n",
    "from IPython.core.display import HTML\n",
    "import datetime\n",
    "import xarray as xr"
   ]
  },
  {
   "cell_type": "markdown",
   "id": "364e2fe6",
   "metadata": {},
   "source": [
    "# Authentication"
   ]
  },
  {
   "cell_type": "code",
   "execution_count": 2,
   "id": "0687b14d",
   "metadata": {},
   "outputs": [
    {
     "name": "stdout",
     "output_type": "stream",
     "text": [
      "This token 'd4f84738-0383-32b5-9db5-901650b6f90a' expires 2022-10-26 01:30:32.641144\n"
     ]
    }
   ],
   "source": [
    "# Insert your personal key and secret into the single quotes\n",
    "\n",
    "consumer_key = 'JSXRnY1_XgcYeOox8PjKozflwrMa' #'YOUR_CONSUMER_KEY'\n",
    "consumer_secret = 'fbKReD9xf6vh7iE9R5lVVtBID0Ua' #'YOUR_CONSUMER_SECRET'\n",
    "\n",
    "credentials = (consumer_key, consumer_secret)\n",
    "\n",
    "token = eumdac.AccessToken(credentials)\n",
    "print(f\"This token '{token}' expires {token.expiration}\")"
   ]
  },
  {
   "cell_type": "markdown",
   "id": "486b710a",
   "metadata": {},
   "source": [
    "# Selecting a product from the Data Store"
   ]
  },
  {
   "cell_type": "code",
   "execution_count": 3,
   "id": "3e080893",
   "metadata": {},
   "outputs": [],
   "source": [
    "datastore = eumdac.DataStore(token)\n",
    "selected_collection = datastore.get_collection('EO:EUM:DAT:METOP:ASCSZR1B')"
   ]
  },
  {
   "cell_type": "code",
   "execution_count": 4,
   "id": "d505a3bb",
   "metadata": {},
   "outputs": [
    {
     "data": {
      "text/html": [
       "<b>ASCAT Level 1 Sigma0 resampled at 12.5 km Swath Grid - Metop - Global</b>"
      ],
      "text/plain": [
       "<IPython.core.display.HTML object>"
      ]
     },
     "metadata": {},
     "output_type": "display_data"
    },
    {
     "data": {
      "text/html": [
       "<b>ID:</b> EO:EUM:DAT:METOP:ASCSZR1B"
      ],
      "text/plain": [
       "<IPython.core.display.HTML object>"
      ]
     },
     "metadata": {},
     "output_type": "display_data"
    },
    {
     "data": {
      "text/html": [
       "<b>Abstract:</b> The prime objective of the Advanced SCATterometer (ASCAT) is to measure wind speed and direction over the oceans, and the main operational application is the assimilation of ocean winds in NWP models. Other operational applications, based on the use of measurements of the backscattering coefficient, are sea ice edge detection and monitoring, monitoring sea ice, snow cover, soil moisture and surface parameters. The product is available from the archive in 2 different spatial resolutions; 25 km and 12.5 km. Note that some of the data are reprocessed. Please refer to the associated product validation reports or product release notes for further information. Near real-time distribution discontinued on 29/09/2015 but the product contents are now available in the corresponding Level 2 product 'ASCAT Soil Moisture at 12.5 km Swath Grid'. Metop-A data are available in the Data Centre up to 15/11/2021."
      ],
      "text/plain": [
       "<IPython.core.display.HTML object>"
      ]
     },
     "metadata": {},
     "output_type": "display_data"
    }
   ],
   "source": [
    "display(HTML('<b>'+selected_collection.title+'</b>'))\n",
    "display(HTML('<b>ID:</b> '+str(selected_collection)))\n",
    "display(HTML('<b>Abstract:</b> '+selected_collection.abstract))"
   ]
  },
  {
   "cell_type": "code",
   "execution_count": 5,
   "id": "d6a207aa",
   "metadata": {},
   "outputs": [],
   "source": [
    "start = datetime.datetime(2018, 10, 30, 2, 10)\n",
    "\n",
    "end = datetime.datetime(2018, 11, 1, 2, 10)\n",
    "\n",
    "geometry = [[41, -71], [41, -70], [40, -70], [40, -71], [41, -71]]"
   ]
  },
  {
   "cell_type": "code",
   "execution_count": 6,
   "id": "b9f35fa8",
   "metadata": {},
   "outputs": [],
   "source": [
    "products = selected_collection.search(\n",
    "     geo='POLYGON(({}))'.format(','.join([\"{} {}\".format(*coord) for coord in geometry])),\n",
    "     dtstart=start,\n",
    "     dtend=end)"
   ]
  },
  {
   "cell_type": "code",
   "execution_count": 7,
   "id": "4c543fbe",
   "metadata": {},
   "outputs": [
    {
     "data": {
      "text/plain": [
       "<class 'eumdac.product.Product'>(EO:EUM:DAT:METOP:ASCSZR1B, ASCA_SZR_1B_M01_20221025184500Z_20221025202658Z_N_O_20221025193642Z)"
      ]
     },
     "execution_count": 7,
     "metadata": {},
     "output_type": "execute_result"
    }
   ],
   "source": [
    "# Select only one \n",
    "latest = selected_collection.search().first()\n",
    "latest\n"
   ]
  },
  {
   "cell_type": "markdown",
   "id": "78e9f527",
   "metadata": {},
   "source": [
    "# Customization"
   ]
  },
  {
   "cell_type": "code",
   "execution_count": 8,
   "id": "a8f9bb00",
   "metadata": {},
   "outputs": [],
   "source": [
    "datatailor = eumdac.DataTailor(token)"
   ]
  },
  {
   "cell_type": "code",
   "execution_count": 9,
   "id": "c4ec191c",
   "metadata": {},
   "outputs": [],
   "source": [
    "chain = eumdac.tailor_models.Chain(\n",
    "     product='ASCATL1SZR',\n",
    "     format='netcdf4'\n",
    "     )"
   ]
  },
  {
   "cell_type": "code",
   "execution_count": null,
   "id": "d8621fac",
   "metadata": {},
   "outputs": [],
   "source": []
  },
  {
   "cell_type": "code",
   "execution_count": 10,
   "id": "4ec74182",
   "metadata": {},
   "outputs": [
    {
     "data": {
      "text/plain": [
       "<class 'eumdac.customisation.Customisation'>(68e304ad)"
      ]
     },
     "execution_count": 10,
     "metadata": {},
     "output_type": "execute_result"
    }
   ],
   "source": [
    "customisation = datatailor.new_customisation(latest, chain)\n",
    "customisation # By calling the newly created customisation we will start the customisation process"
   ]
  },
  {
   "cell_type": "code",
   "execution_count": 11,
   "id": "3e007d95",
   "metadata": {},
   "outputs": [
    {
     "name": "stdout",
     "output_type": "stream",
     "text": [
      "QUEUED\n",
      "RUNNING\n",
      "RUNNING\n",
      "RUNNING\n",
      "RUNNING\n",
      "RUNNING\n",
      "RUNNING\n",
      "RUNNING\n",
      "RUNNING\n",
      "RUNNING\n",
      "RUNNING\n",
      "RUNNING\n",
      "RUNNING\n",
      "RUNNING\n",
      "RUNNING\n",
      "RUNNING\n",
      "RUNNING\n",
      "RUNNING\n",
      "RUNNING\n",
      "RUNNING\n",
      "RUNNING\n",
      "SUCCESS\n"
     ]
    }
   ],
   "source": [
    "status = \"QUEUED\"\n",
    "sleep_time = 10 # seconds\n",
    "\n",
    "# Customisation Loop\n",
    "while status == \"QUEUED\" or status == \"RUNNING\":\n",
    "    # Get the status of the ongoing customisation\n",
    "    status = customisation.status\n",
    "\n",
    "    if \"DONE\" in status:\n",
    "        print(f\"SUCCESS\")\n",
    "        break\n",
    "    elif \"ERROR\" in status or 'KILLED' in status:\n",
    "        print(f\"UNSUCCESS, exiting\")\n",
    "        break\n",
    "    elif \"QUEUED\" in status:\n",
    "        print(f\"QUEUED\")\n",
    "    elif \"RUNNING\" in status:\n",
    "        print(f\"RUNNING\")\n",
    "    elif \"INACTIVE\" in status:\n",
    "        sleep_time = max(60*10, sleep_time*2)\n",
    "        print(f\"INACTIVE, doubling status polling time to {sleep_time} (max 10 mins)\")\n",
    "    time.sleep(sleep_time)"
   ]
  },
  {
   "cell_type": "markdown",
   "id": "5937cba1",
   "metadata": {},
   "source": [
    "# Download"
   ]
  },
  {
   "cell_type": "code",
   "execution_count": 12,
   "id": "8a46e254",
   "metadata": {},
   "outputs": [
    {
     "data": {
      "text/plain": [
       "['ASCATL1SZR--68e304ad/ASCATL1SZR_20221025T184500Z_20221025T202658Z_epct_68e304ad_F.nc']"
      ]
     },
     "execution_count": 12,
     "metadata": {},
     "output_type": "execute_result"
    }
   ],
   "source": [
    "customisation.outputs"
   ]
  },
  {
   "cell_type": "code",
   "execution_count": 13,
   "id": "09dc2499",
   "metadata": {},
   "outputs": [
    {
     "data": {
      "text/plain": [
       "'ASCATL1SZR--68e304ad/ASCATL1SZR_20221025T184500Z_20221025T202658Z_epct_68e304ad_F.nc'"
      ]
     },
     "execution_count": 13,
     "metadata": {},
     "output_type": "execute_result"
    }
   ],
   "source": [
    "nc, = fnmatch.filter(customisation.outputs, '*.nc')\n",
    "nc"
   ]
  },
  {
   "cell_type": "code",
   "execution_count": 14,
   "id": "964a9e78",
   "metadata": {},
   "outputs": [],
   "source": [
    "jobID= customisation._id"
   ]
  },
  {
   "cell_type": "code",
   "execution_count": 15,
   "id": "8ec0933a",
   "metadata": {},
   "outputs": [
    {
     "name": "stdout",
     "output_type": "stream",
     "text": [
      "Dowloading the NetCDF output of the customisation 68e304ad\n",
      "Dowloaded the NetCDF output of the customisation 68e304ad\n"
     ]
    }
   ],
   "source": [
    "print(f\"Dowloading the NetCDF output of the customisation {jobID}\")\n",
    "\n",
    "with customisation.stream_output(nc,) as stream, \\\n",
    "        open(stream.name, mode='wb') as fdst:\n",
    "    shutil.copyfileobj(stream, fdst)\n",
    "\n",
    "print(f\"Dowloaded the NetCDF output of the customisation {jobID}\")"
   ]
  },
  {
   "cell_type": "code",
   "execution_count": 16,
   "id": "0614fa8a",
   "metadata": {},
   "outputs": [
    {
     "data": {
      "text/plain": [
       "'ASCATL1SZR_20221025T184500Z_20221025T202658Z_epct_68e304ad_F.nc'"
      ]
     },
     "execution_count": 16,
     "metadata": {},
     "output_type": "execute_result"
    }
   ],
   "source": [
    "stream.name"
   ]
  },
  {
   "cell_type": "markdown",
   "id": "e4320afb",
   "metadata": {},
   "source": [
    "# Open NetCDF"
   ]
  },
  {
   "cell_type": "code",
   "execution_count": 17,
   "id": "9f6f5da6",
   "metadata": {},
   "outputs": [
    {
     "ename": "ValueError",
     "evalue": "found the following matches with the input file in xarray's IO backends: ['netcdf4', 'h5netcdf']. But their dependencies may not be installed, see:\nhttp://xarray.pydata.org/en/stable/user-guide/io.html \nhttp://xarray.pydata.org/en/stable/getting-started-guide/installing.html",
     "output_type": "error",
     "traceback": [
      "\u001b[0;31m---------------------------------------------------------------------------\u001b[0m",
      "\u001b[0;31mValueError\u001b[0m                                Traceback (most recent call last)",
      "Input \u001b[0;32mIn [17]\u001b[0m, in \u001b[0;36m<cell line: 1>\u001b[0;34m()\u001b[0m\n\u001b[0;32m----> 1\u001b[0m data \u001b[38;5;241m=\u001b[39m \u001b[43mxr\u001b[49m\u001b[38;5;241;43m.\u001b[39;49m\u001b[43mopen_dataset\u001b[49m\u001b[43m(\u001b[49m\u001b[43mstream\u001b[49m\u001b[38;5;241;43m.\u001b[39;49m\u001b[43mname\u001b[49m\u001b[43m)\u001b[49m\n\u001b[1;32m      2\u001b[0m data\n",
      "File \u001b[0;32m~/anaconda3/envs/satdata/lib/python3.10/site-packages/xarray/backends/api.py:479\u001b[0m, in \u001b[0;36mopen_dataset\u001b[0;34m(filename_or_obj, engine, chunks, cache, decode_cf, mask_and_scale, decode_times, decode_timedelta, use_cftime, concat_characters, decode_coords, drop_variables, backend_kwargs, *args, **kwargs)\u001b[0m\n\u001b[1;32m    476\u001b[0m     kwargs\u001b[38;5;241m.\u001b[39mupdate(backend_kwargs)\n\u001b[1;32m    478\u001b[0m \u001b[38;5;28;01mif\u001b[39;00m engine \u001b[38;5;129;01mis\u001b[39;00m \u001b[38;5;28;01mNone\u001b[39;00m:\n\u001b[0;32m--> 479\u001b[0m     engine \u001b[38;5;241m=\u001b[39m \u001b[43mplugins\u001b[49m\u001b[38;5;241;43m.\u001b[39;49m\u001b[43mguess_engine\u001b[49m\u001b[43m(\u001b[49m\u001b[43mfilename_or_obj\u001b[49m\u001b[43m)\u001b[49m\n\u001b[1;32m    481\u001b[0m backend \u001b[38;5;241m=\u001b[39m plugins\u001b[38;5;241m.\u001b[39mget_backend(engine)\n\u001b[1;32m    483\u001b[0m decoders \u001b[38;5;241m=\u001b[39m _resolve_decoders_kwargs(\n\u001b[1;32m    484\u001b[0m     decode_cf,\n\u001b[1;32m    485\u001b[0m     open_backend_dataset_parameters\u001b[38;5;241m=\u001b[39mbackend\u001b[38;5;241m.\u001b[39mopen_dataset_parameters,\n\u001b[0;32m   (...)\u001b[0m\n\u001b[1;32m    491\u001b[0m     decode_coords\u001b[38;5;241m=\u001b[39mdecode_coords,\n\u001b[1;32m    492\u001b[0m )\n",
      "File \u001b[0;32m~/anaconda3/envs/satdata/lib/python3.10/site-packages/xarray/backends/plugins.py:152\u001b[0m, in \u001b[0;36mguess_engine\u001b[0;34m(store_spec)\u001b[0m\n\u001b[1;32m    144\u001b[0m \u001b[38;5;28;01melse\u001b[39;00m:\n\u001b[1;32m    145\u001b[0m     error_msg \u001b[38;5;241m=\u001b[39m (\n\u001b[1;32m    146\u001b[0m         \u001b[38;5;124m\"\u001b[39m\u001b[38;5;124mfound the following matches with the input file in xarray\u001b[39m\u001b[38;5;124m'\u001b[39m\u001b[38;5;124ms IO \u001b[39m\u001b[38;5;124m\"\u001b[39m\n\u001b[1;32m    147\u001b[0m         \u001b[38;5;124mf\u001b[39m\u001b[38;5;124m\"\u001b[39m\u001b[38;5;124mbackends: \u001b[39m\u001b[38;5;132;01m{\u001b[39;00mcompatible_engines\u001b[38;5;132;01m}\u001b[39;00m\u001b[38;5;124m. But their dependencies may not be installed, see:\u001b[39m\u001b[38;5;130;01m\\n\u001b[39;00m\u001b[38;5;124m\"\u001b[39m\n\u001b[1;32m    148\u001b[0m         \u001b[38;5;124m\"\u001b[39m\u001b[38;5;124mhttp://xarray.pydata.org/en/stable/user-guide/io.html \u001b[39m\u001b[38;5;130;01m\\n\u001b[39;00m\u001b[38;5;124m\"\u001b[39m\n\u001b[1;32m    149\u001b[0m         \u001b[38;5;124m\"\u001b[39m\u001b[38;5;124mhttp://xarray.pydata.org/en/stable/getting-started-guide/installing.html\u001b[39m\u001b[38;5;124m\"\u001b[39m\n\u001b[1;32m    150\u001b[0m     )\n\u001b[0;32m--> 152\u001b[0m \u001b[38;5;28;01mraise\u001b[39;00m \u001b[38;5;167;01mValueError\u001b[39;00m(error_msg)\n",
      "\u001b[0;31mValueError\u001b[0m: found the following matches with the input file in xarray's IO backends: ['netcdf4', 'h5netcdf']. But their dependencies may not be installed, see:\nhttp://xarray.pydata.org/en/stable/user-guide/io.html \nhttp://xarray.pydata.org/en/stable/getting-started-guide/installing.html"
     ]
    }
   ],
   "source": [
    "data = xr.open_dataset(stream.name)\n",
    "data"
   ]
  },
  {
   "cell_type": "code",
   "execution_count": null,
   "id": "4c0023fa",
   "metadata": {},
   "outputs": [],
   "source": []
  }
 ],
 "metadata": {
  "kernelspec": {
   "display_name": "Python 3 (ipykernel)",
   "language": "python",
   "name": "python3"
  },
  "language_info": {
   "codemirror_mode": {
    "name": "ipython",
    "version": 3
   },
   "file_extension": ".py",
   "mimetype": "text/x-python",
   "name": "python",
   "nbconvert_exporter": "python",
   "pygments_lexer": "ipython3",
   "version": "3.10.6"
  }
 },
 "nbformat": 4,
 "nbformat_minor": 5
}
