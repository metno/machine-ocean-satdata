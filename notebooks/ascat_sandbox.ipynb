{
 "cells": [
  {
   "cell_type": "code",
   "execution_count": 1,
   "id": "b9f32cff",
   "metadata": {},
   "outputs": [],
   "source": [
    "# Import the library EUMDAC\n",
    "import eumdac\n",
    "import time\n",
    "import fnmatch\n",
    "import shutil\n",
    "\n",
    "from IPython.core.display import HTML\n",
    "import datetime\n",
    "import xarray as xr"
   ]
  },
  {
   "cell_type": "markdown",
   "id": "364e2fe6",
   "metadata": {},
   "source": [
    "# Authentication"
   ]
  },
  {
   "cell_type": "code",
   "execution_count": 2,
   "id": "0687b14d",
   "metadata": {},
   "outputs": [
    {
     "name": "stdout",
     "output_type": "stream",
     "text": [
      "This token 'd4f84738-0383-32b5-9db5-901650b6f90a' expires 2022-10-26 01:30:32.641144\n"
     ]
    }
   ],
   "source": [
    "# Insert your personal key and secret into the single quotes\n",
    "\n",
    "consumer_key = 'YOUR_CONSUMER_KEY'\n",
    "consumer_secret = 'YOUR_CONSUMER_SECRET'\n",
    "\n",
    "credentials = (consumer_key, consumer_secret)\n",
    "\n",
    "token = eumdac.AccessToken(credentials)\n",
    "print(f\"This token '{token}' expires {token.expiration}\")"
   ]
  },
  {
   "cell_type": "markdown",
   "id": "486b710a",
   "metadata": {},
   "source": [
    "# Selecting a product from the Data Store"
   ]
  },
  {
   "cell_type": "code",
   "execution_count": 3,
   "id": "3e080893",
   "metadata": {},
   "outputs": [],
   "source": [
    "datastore = eumdac.DataStore(token)\n",
    "selected_collection = datastore.get_collection('EO:EUM:DAT:METOP:ASCSZR1B')"
   ]
  },
  {
   "cell_type": "code",
   "execution_count": 4,
   "id": "d505a3bb",
   "metadata": {},
   "outputs": [
    {
     "data": {
      "text/html": [
       "<b>ASCAT Level 1 Sigma0 resampled at 12.5 km Swath Grid - Metop - Global</b>"
      ],
      "text/plain": [
       "<IPython.core.display.HTML object>"
      ]
     },
     "metadata": {},
     "output_type": "display_data"
    },
    {
     "data": {
      "text/html": [
       "<b>ID:</b> EO:EUM:DAT:METOP:ASCSZR1B"
      ],
      "text/plain": [
       "<IPython.core.display.HTML object>"
      ]
     },
     "metadata": {},
     "output_type": "display_data"
    },
    {
     "data": {
      "text/html": [
       "<b>Abstract:</b> The prime objective of the Advanced SCATterometer (ASCAT) is to measure wind speed and direction over the oceans, and the main operational application is the assimilation of ocean winds in NWP models. Other operational applications, based on the use of measurements of the backscattering coefficient, are sea ice edge detection and monitoring, monitoring sea ice, snow cover, soil moisture and surface parameters. The product is available from the archive in 2 different spatial resolutions; 25 km and 12.5 km. Note that some of the data are reprocessed. Please refer to the associated product validation reports or product release notes for further information. Near real-time distribution discontinued on 29/09/2015 but the product contents are now available in the corresponding Level 2 product 'ASCAT Soil Moisture at 12.5 km Swath Grid'. Metop-A data are available in the Data Centre up to 15/11/2021."
      ],
      "text/plain": [
       "<IPython.core.display.HTML object>"
      ]
     },
     "metadata": {},
     "output_type": "display_data"
    }
   ],
   "source": [
    "display(HTML('<b>'+selected_collection.title+'</b>'))\n",
    "display(HTML('<b>ID:</b> '+str(selected_collection)))\n",
    "display(HTML('<b>Abstract:</b> '+selected_collection.abstract))"
   ]
  },
  {
   "cell_type": "code",
   "execution_count": 5,
   "id": "d6a207aa",
   "metadata": {},
   "outputs": [],
   "source": [
    "start = datetime.datetime(2018, 10, 30, 2, 10)\n",
    "\n",
    "end = datetime.datetime(2018, 11, 1, 2, 10)\n",
    "\n",
    "geometry = [[41, -71], [41, -70], [40, -70], [40, -71], [41, -71]]"
   ]
  },
  {
   "cell_type": "code",
   "execution_count": 6,
   "id": "b9f35fa8",
   "metadata": {},
   "outputs": [],
   "source": [
    "products = selected_collection.search(\n",
    "     geo='POLYGON(({}))'.format(','.join([\"{} {}\".format(*coord) for coord in geometry])),\n",
    "     dtstart=start,\n",
    "     dtend=end)"
   ]
  },
  {
   "cell_type": "code",
   "execution_count": 7,
   "id": "4c543fbe",
   "metadata": {},
   "outputs": [
    {
     "data": {
      "text/plain": [
       "<class 'eumdac.product.Product'>(EO:EUM:DAT:METOP:ASCSZR1B, ASCA_SZR_1B_M01_20221025184500Z_20221025202658Z_N_O_20221025193642Z)"
      ]
     },
     "execution_count": 7,
     "metadata": {},
     "output_type": "execute_result"
    }
   ],
   "source": [
    "# Select only one \n",
    "latest = selected_collection.search().first()\n",
    "latest\n"
   ]
  },
  {
   "cell_type": "markdown",
   "id": "78e9f527",
   "metadata": {},
   "source": [
    "# Customization"
   ]
  },
  {
   "cell_type": "code",
   "execution_count": 8,
   "id": "a8f9bb00",
   "metadata": {},
   "outputs": [],
   "source": [
    "datatailor = eumdac.DataTailor(token)"
   ]
  },
  {
   "cell_type": "code",
   "execution_count": 9,
   "id": "c4ec191c",
   "metadata": {},
   "outputs": [],
   "source": [
    "chain = eumdac.tailor_models.Chain(\n",
    "     product='ASCATL1SZR',\n",
    "     format='netcdf4'\n",
    "     )"
   ]
  },
  {
   "cell_type": "code",
   "execution_count": null,
   "id": "d8621fac",
   "metadata": {},
   "outputs": [],
   "source": []
  },
  {
   "cell_type": "code",
   "execution_count": 10,
   "id": "4ec74182",
   "metadata": {},
   "outputs": [
    {
     "data": {
      "text/plain": [
       "<class 'eumdac.customisation.Customisation'>(68e304ad)"
      ]
     },
     "execution_count": 10,
     "metadata": {},
     "output_type": "execute_result"
    }
   ],
   "source": [
    "customisation = datatailor.new_customisation(latest, chain)\n",
    "customisation # By calling the newly created customisation we will start the customisation process"
   ]
  },
  {
   "cell_type": "code",
   "execution_count": 11,
   "id": "3e007d95",
   "metadata": {},
   "outputs": [
    {
     "name": "stdout",
     "output_type": "stream",
     "text": [
      "QUEUED\n",
      "RUNNING\n",
      "RUNNING\n",
      "RUNNING\n",
      "RUNNING\n",
      "RUNNING\n",
      "RUNNING\n",
      "RUNNING\n",
      "RUNNING\n",
      "RUNNING\n",
      "RUNNING\n",
      "RUNNING\n",
      "RUNNING\n",
      "RUNNING\n",
      "RUNNING\n",
      "RUNNING\n",
      "RUNNING\n",
      "RUNNING\n",
      "RUNNING\n",
      "RUNNING\n",
      "RUNNING\n",
      "SUCCESS\n"
     ]
    }
   ],
   "source": [
    "status = \"QUEUED\"\n",
    "sleep_time = 10 # seconds\n",
    "\n",
    "# Customisation Loop\n",
    "while status == \"QUEUED\" or status == \"RUNNING\":\n",
    "    # Get the status of the ongoing customisation\n",
    "    status = customisation.status\n",
    "\n",
    "    if \"DONE\" in status:\n",
    "        print(f\"SUCCESS\")\n",
    "        break\n",
    "    elif \"ERROR\" in status or 'KILLED' in status:\n",
    "        print(f\"UNSUCCESS, exiting\")\n",
    "        break\n",
    "    elif \"QUEUED\" in status:\n",
    "        print(f\"QUEUED\")\n",
    "    elif \"RUNNING\" in status:\n",
    "        print(f\"RUNNING\")\n",
    "    elif \"INACTIVE\" in status:\n",
    "        sleep_time = max(60*10, sleep_time*2)\n",
    "        print(f\"INACTIVE, doubling status polling time to {sleep_time} (max 10 mins)\")\n",
    "    time.sleep(sleep_time)"
   ]
  },
  {
   "cell_type": "markdown",
   "id": "5937cba1",
   "metadata": {},
   "source": [
    "# Download"
   ]
  },
  {
   "cell_type": "code",
   "execution_count": 12,
   "id": "8a46e254",
   "metadata": {},
   "outputs": [
    {
     "data": {
      "text/plain": [
       "['ASCATL1SZR--68e304ad/ASCATL1SZR_20221025T184500Z_20221025T202658Z_epct_68e304ad_F.nc']"
      ]
     },
     "execution_count": 12,
     "metadata": {},
     "output_type": "execute_result"
    }
   ],
   "source": [
    "customisation.outputs"
   ]
  },
  {
   "cell_type": "code",
   "execution_count": 13,
   "id": "09dc2499",
   "metadata": {},
   "outputs": [
    {
     "data": {
      "text/plain": [
       "'ASCATL1SZR--68e304ad/ASCATL1SZR_20221025T184500Z_20221025T202658Z_epct_68e304ad_F.nc'"
      ]
     },
     "execution_count": 13,
     "metadata": {},
     "output_type": "execute_result"
    }
   ],
   "source": [
    "nc, = fnmatch.filter(customisation.outputs, '*.nc')\n",
    "nc"
   ]
  },
  {
   "cell_type": "code",
   "execution_count": 14,
   "id": "964a9e78",
   "metadata": {},
   "outputs": [],
   "source": [
    "jobID= customisation._id"
   ]
  },
  {
   "cell_type": "code",
   "execution_count": 15,
   "id": "8ec0933a",
   "metadata": {},
   "outputs": [
    {
     "name": "stdout",
     "output_type": "stream",
     "text": [
      "Dowloading the NetCDF output of the customisation 68e304ad\n",
      "Dowloaded the NetCDF output of the customisation 68e304ad\n"
     ]
    }
   ],
   "source": [
    "print(f\"Dowloading the NetCDF output of the customisation {jobID}\")\n",
    "\n",
    "with customisation.stream_output(nc,) as stream, \\\n",
    "        open(stream.name, mode='wb') as fdst:\n",
    "    shutil.copyfileobj(stream, fdst)\n",
    "\n",
    "print(f\"Dowloaded the NetCDF output of the customisation {jobID}\")"
   ]
  },
  {
   "cell_type": "code",
   "execution_count": 16,
   "id": "0614fa8a",
   "metadata": {},
   "outputs": [
    {
     "data": {
      "text/plain": [
       "'ASCATL1SZR_20221025T184500Z_20221025T202658Z_epct_68e304ad_F.nc'"
      ]
     },
     "execution_count": 16,
     "metadata": {},
     "output_type": "execute_result"
    }
   ],
   "source": [
    "stream.name"
   ]
  },
  {
   "cell_type": "markdown",
   "id": "e4320afb",
   "metadata": {},
   "source": [
    "# Open NetCDF"
   ]
  },
  {
   "cell_type": "code",
   "execution_count": 2,
   "id": "38e89fc1",
   "metadata": {},
   "outputs": [],
   "source": [
    "data = xr.open_dataset('ASCATL1SZR_20221025T184500Z_20221025T202658Z_epct_68e304ad_F.nc')"
   ]
  },
  {
   "cell_type": "code",
   "execution_count": 3,
   "id": "3a9d6e76",
   "metadata": {},
   "outputs": [
    {
     "data": {
      "text/html": [
       "<div><svg style=\"position: absolute; width: 0; height: 0; overflow: hidden\">\n",
       "<defs>\n",
       "<symbol id=\"icon-database\" viewBox=\"0 0 32 32\">\n",
       "<path d=\"M16 0c-8.837 0-16 2.239-16 5v4c0 2.761 7.163 5 16 5s16-2.239 16-5v-4c0-2.761-7.163-5-16-5z\"></path>\n",
       "<path d=\"M16 17c-8.837 0-16-2.239-16-5v6c0 2.761 7.163 5 16 5s16-2.239 16-5v-6c0 2.761-7.163 5-16 5z\"></path>\n",
       "<path d=\"M16 26c-8.837 0-16-2.239-16-5v6c0 2.761 7.163 5 16 5s16-2.239 16-5v-6c0 2.761-7.163 5-16 5z\"></path>\n",
       "</symbol>\n",
       "<symbol id=\"icon-file-text2\" viewBox=\"0 0 32 32\">\n",
       "<path d=\"M28.681 7.159c-0.694-0.947-1.662-2.053-2.724-3.116s-2.169-2.030-3.116-2.724c-1.612-1.182-2.393-1.319-2.841-1.319h-15.5c-1.378 0-2.5 1.121-2.5 2.5v27c0 1.378 1.122 2.5 2.5 2.5h23c1.378 0 2.5-1.122 2.5-2.5v-19.5c0-0.448-0.137-1.23-1.319-2.841zM24.543 5.457c0.959 0.959 1.712 1.825 2.268 2.543h-4.811v-4.811c0.718 0.556 1.584 1.309 2.543 2.268zM28 29.5c0 0.271-0.229 0.5-0.5 0.5h-23c-0.271 0-0.5-0.229-0.5-0.5v-27c0-0.271 0.229-0.5 0.5-0.5 0 0 15.499-0 15.5 0v7c0 0.552 0.448 1 1 1h7v19.5z\"></path>\n",
       "<path d=\"M23 26h-14c-0.552 0-1-0.448-1-1s0.448-1 1-1h14c0.552 0 1 0.448 1 1s-0.448 1-1 1z\"></path>\n",
       "<path d=\"M23 22h-14c-0.552 0-1-0.448-1-1s0.448-1 1-1h14c0.552 0 1 0.448 1 1s-0.448 1-1 1z\"></path>\n",
       "<path d=\"M23 18h-14c-0.552 0-1-0.448-1-1s0.448-1 1-1h14c0.552 0 1 0.448 1 1s-0.448 1-1 1z\"></path>\n",
       "</symbol>\n",
       "</defs>\n",
       "</svg>\n",
       "<style>/* CSS stylesheet for displaying xarray objects in jupyterlab.\n",
       " *\n",
       " */\n",
       "\n",
       ":root {\n",
       "  --xr-font-color0: var(--jp-content-font-color0, rgba(0, 0, 0, 1));\n",
       "  --xr-font-color2: var(--jp-content-font-color2, rgba(0, 0, 0, 0.54));\n",
       "  --xr-font-color3: var(--jp-content-font-color3, rgba(0, 0, 0, 0.38));\n",
       "  --xr-border-color: var(--jp-border-color2, #e0e0e0);\n",
       "  --xr-disabled-color: var(--jp-layout-color3, #bdbdbd);\n",
       "  --xr-background-color: var(--jp-layout-color0, white);\n",
       "  --xr-background-color-row-even: var(--jp-layout-color1, white);\n",
       "  --xr-background-color-row-odd: var(--jp-layout-color2, #eeeeee);\n",
       "}\n",
       "\n",
       "html[theme=dark],\n",
       "body.vscode-dark {\n",
       "  --xr-font-color0: rgba(255, 255, 255, 1);\n",
       "  --xr-font-color2: rgba(255, 255, 255, 0.54);\n",
       "  --xr-font-color3: rgba(255, 255, 255, 0.38);\n",
       "  --xr-border-color: #1F1F1F;\n",
       "  --xr-disabled-color: #515151;\n",
       "  --xr-background-color: #111111;\n",
       "  --xr-background-color-row-even: #111111;\n",
       "  --xr-background-color-row-odd: #313131;\n",
       "}\n",
       "\n",
       ".xr-wrap {\n",
       "  display: block;\n",
       "  min-width: 300px;\n",
       "  max-width: 700px;\n",
       "}\n",
       "\n",
       ".xr-text-repr-fallback {\n",
       "  /* fallback to plain text repr when CSS is not injected (untrusted notebook) */\n",
       "  display: none;\n",
       "}\n",
       "\n",
       ".xr-header {\n",
       "  padding-top: 6px;\n",
       "  padding-bottom: 6px;\n",
       "  margin-bottom: 4px;\n",
       "  border-bottom: solid 1px var(--xr-border-color);\n",
       "}\n",
       "\n",
       ".xr-header > div,\n",
       ".xr-header > ul {\n",
       "  display: inline;\n",
       "  margin-top: 0;\n",
       "  margin-bottom: 0;\n",
       "}\n",
       "\n",
       ".xr-obj-type,\n",
       ".xr-array-name {\n",
       "  margin-left: 2px;\n",
       "  margin-right: 10px;\n",
       "}\n",
       "\n",
       ".xr-obj-type {\n",
       "  color: var(--xr-font-color2);\n",
       "}\n",
       "\n",
       ".xr-sections {\n",
       "  padding-left: 0 !important;\n",
       "  display: grid;\n",
       "  grid-template-columns: 150px auto auto 1fr 20px 20px;\n",
       "}\n",
       "\n",
       ".xr-section-item {\n",
       "  display: contents;\n",
       "}\n",
       "\n",
       ".xr-section-item input {\n",
       "  display: none;\n",
       "}\n",
       "\n",
       ".xr-section-item input + label {\n",
       "  color: var(--xr-disabled-color);\n",
       "}\n",
       "\n",
       ".xr-section-item input:enabled + label {\n",
       "  cursor: pointer;\n",
       "  color: var(--xr-font-color2);\n",
       "}\n",
       "\n",
       ".xr-section-item input:enabled + label:hover {\n",
       "  color: var(--xr-font-color0);\n",
       "}\n",
       "\n",
       ".xr-section-summary {\n",
       "  grid-column: 1;\n",
       "  color: var(--xr-font-color2);\n",
       "  font-weight: 500;\n",
       "}\n",
       "\n",
       ".xr-section-summary > span {\n",
       "  display: inline-block;\n",
       "  padding-left: 0.5em;\n",
       "}\n",
       "\n",
       ".xr-section-summary-in:disabled + label {\n",
       "  color: var(--xr-font-color2);\n",
       "}\n",
       "\n",
       ".xr-section-summary-in + label:before {\n",
       "  display: inline-block;\n",
       "  content: '►';\n",
       "  font-size: 11px;\n",
       "  width: 15px;\n",
       "  text-align: center;\n",
       "}\n",
       "\n",
       ".xr-section-summary-in:disabled + label:before {\n",
       "  color: var(--xr-disabled-color);\n",
       "}\n",
       "\n",
       ".xr-section-summary-in:checked + label:before {\n",
       "  content: '▼';\n",
       "}\n",
       "\n",
       ".xr-section-summary-in:checked + label > span {\n",
       "  display: none;\n",
       "}\n",
       "\n",
       ".xr-section-summary,\n",
       ".xr-section-inline-details {\n",
       "  padding-top: 4px;\n",
       "  padding-bottom: 4px;\n",
       "}\n",
       "\n",
       ".xr-section-inline-details {\n",
       "  grid-column: 2 / -1;\n",
       "}\n",
       "\n",
       ".xr-section-details {\n",
       "  display: none;\n",
       "  grid-column: 1 / -1;\n",
       "  margin-bottom: 5px;\n",
       "}\n",
       "\n",
       ".xr-section-summary-in:checked ~ .xr-section-details {\n",
       "  display: contents;\n",
       "}\n",
       "\n",
       ".xr-array-wrap {\n",
       "  grid-column: 1 / -1;\n",
       "  display: grid;\n",
       "  grid-template-columns: 20px auto;\n",
       "}\n",
       "\n",
       ".xr-array-wrap > label {\n",
       "  grid-column: 1;\n",
       "  vertical-align: top;\n",
       "}\n",
       "\n",
       ".xr-preview {\n",
       "  color: var(--xr-font-color3);\n",
       "}\n",
       "\n",
       ".xr-array-preview,\n",
       ".xr-array-data {\n",
       "  padding: 0 5px !important;\n",
       "  grid-column: 2;\n",
       "}\n",
       "\n",
       ".xr-array-data,\n",
       ".xr-array-in:checked ~ .xr-array-preview {\n",
       "  display: none;\n",
       "}\n",
       "\n",
       ".xr-array-in:checked ~ .xr-array-data,\n",
       ".xr-array-preview {\n",
       "  display: inline-block;\n",
       "}\n",
       "\n",
       ".xr-dim-list {\n",
       "  display: inline-block !important;\n",
       "  list-style: none;\n",
       "  padding: 0 !important;\n",
       "  margin: 0;\n",
       "}\n",
       "\n",
       ".xr-dim-list li {\n",
       "  display: inline-block;\n",
       "  padding: 0;\n",
       "  margin: 0;\n",
       "}\n",
       "\n",
       ".xr-dim-list:before {\n",
       "  content: '(';\n",
       "}\n",
       "\n",
       ".xr-dim-list:after {\n",
       "  content: ')';\n",
       "}\n",
       "\n",
       ".xr-dim-list li:not(:last-child):after {\n",
       "  content: ',';\n",
       "  padding-right: 5px;\n",
       "}\n",
       "\n",
       ".xr-has-index {\n",
       "  font-weight: bold;\n",
       "}\n",
       "\n",
       ".xr-var-list,\n",
       ".xr-var-item {\n",
       "  display: contents;\n",
       "}\n",
       "\n",
       ".xr-var-item > div,\n",
       ".xr-var-item label,\n",
       ".xr-var-item > .xr-var-name span {\n",
       "  background-color: var(--xr-background-color-row-even);\n",
       "  margin-bottom: 0;\n",
       "}\n",
       "\n",
       ".xr-var-item > .xr-var-name:hover span {\n",
       "  padding-right: 5px;\n",
       "}\n",
       "\n",
       ".xr-var-list > li:nth-child(odd) > div,\n",
       ".xr-var-list > li:nth-child(odd) > label,\n",
       ".xr-var-list > li:nth-child(odd) > .xr-var-name span {\n",
       "  background-color: var(--xr-background-color-row-odd);\n",
       "}\n",
       "\n",
       ".xr-var-name {\n",
       "  grid-column: 1;\n",
       "}\n",
       "\n",
       ".xr-var-dims {\n",
       "  grid-column: 2;\n",
       "}\n",
       "\n",
       ".xr-var-dtype {\n",
       "  grid-column: 3;\n",
       "  text-align: right;\n",
       "  color: var(--xr-font-color2);\n",
       "}\n",
       "\n",
       ".xr-var-preview {\n",
       "  grid-column: 4;\n",
       "}\n",
       "\n",
       ".xr-var-name,\n",
       ".xr-var-dims,\n",
       ".xr-var-dtype,\n",
       ".xr-preview,\n",
       ".xr-attrs dt {\n",
       "  white-space: nowrap;\n",
       "  overflow: hidden;\n",
       "  text-overflow: ellipsis;\n",
       "  padding-right: 10px;\n",
       "}\n",
       "\n",
       ".xr-var-name:hover,\n",
       ".xr-var-dims:hover,\n",
       ".xr-var-dtype:hover,\n",
       ".xr-attrs dt:hover {\n",
       "  overflow: visible;\n",
       "  width: auto;\n",
       "  z-index: 1;\n",
       "}\n",
       "\n",
       ".xr-var-attrs,\n",
       ".xr-var-data {\n",
       "  display: none;\n",
       "  background-color: var(--xr-background-color) !important;\n",
       "  padding-bottom: 5px !important;\n",
       "}\n",
       "\n",
       ".xr-var-attrs-in:checked ~ .xr-var-attrs,\n",
       ".xr-var-data-in:checked ~ .xr-var-data {\n",
       "  display: block;\n",
       "}\n",
       "\n",
       ".xr-var-data > table {\n",
       "  float: right;\n",
       "}\n",
       "\n",
       ".xr-var-name span,\n",
       ".xr-var-data,\n",
       ".xr-attrs {\n",
       "  padding-left: 25px !important;\n",
       "}\n",
       "\n",
       ".xr-attrs,\n",
       ".xr-var-attrs,\n",
       ".xr-var-data {\n",
       "  grid-column: 1 / -1;\n",
       "}\n",
       "\n",
       "dl.xr-attrs {\n",
       "  padding: 0;\n",
       "  margin: 0;\n",
       "  display: grid;\n",
       "  grid-template-columns: 125px auto;\n",
       "}\n",
       "\n",
       ".xr-attrs dt,\n",
       ".xr-attrs dd {\n",
       "  padding: 0;\n",
       "  margin: 0;\n",
       "  float: left;\n",
       "  padding-right: 10px;\n",
       "  width: auto;\n",
       "}\n",
       "\n",
       ".xr-attrs dt {\n",
       "  font-weight: normal;\n",
       "  grid-column: 1;\n",
       "}\n",
       "\n",
       ".xr-attrs dt:hover span {\n",
       "  display: inline-block;\n",
       "  background: var(--xr-background-color);\n",
       "  padding-right: 10px;\n",
       "}\n",
       "\n",
       ".xr-attrs dd {\n",
       "  grid-column: 2;\n",
       "  white-space: pre-wrap;\n",
       "  word-break: break-all;\n",
       "}\n",
       "\n",
       ".xr-icon-database,\n",
       ".xr-icon-file-text2 {\n",
       "  display: inline-block;\n",
       "  vertical-align: middle;\n",
       "  width: 1em;\n",
       "  height: 1.5em !important;\n",
       "  stroke-width: 0;\n",
       "  stroke: currentColor;\n",
       "  fill: currentColor;\n",
       "}\n",
       "</style><pre class='xr-text-repr-fallback'>&lt;xarray.Dataset&gt;\n",
       "Dimensions:              (y: 3264, x: 82, coord_grid_y: 3264, coord_grid_x: 82)\n",
       "Coordinates:\n",
       "    lat                  (coord_grid_y, coord_grid_x) float32 ...\n",
       "    lon                  (coord_grid_y, coord_grid_x) float32 ...\n",
       "Dimensions without coordinates: y, x, coord_grid_y, coord_grid_x\n",
       "Data variables: (12/43)\n",
       "    azi_angle_trip_fore  (y, x) float32 ...\n",
       "    azi_angle_trip_mid   (y, x) float32 ...\n",
       "    azi_angle_trip_aft   (y, x) float32 ...\n",
       "    f_f_fore             (y, x) float32 ...\n",
       "    f_f_mid              (y, x) float32 ...\n",
       "    f_f_aft              (y, x) float32 ...\n",
       "    ...                   ...\n",
       "    num_val_trip_mid     (y, x) float32 ...\n",
       "    num_val_trip_aft     (y, x) float32 ...\n",
       "    sigma0_trip_fore     (y, x) float32 ...\n",
       "    sigma0_trip_mid      (y, x) float32 ...\n",
       "    sigma0_trip_aft      (y, x) float32 ...\n",
       "    swath_indicator      (y, x) float32 ...\n",
       "Attributes: (12/34)\n",
       "    Conventions:               CF-1.5\n",
       "    start_sensing_time:        20221025T184500Z\n",
       "    stop_sensing_time:         20221025T202658.125000Z\n",
       "    EPCT_geospatial_lat_max:   84.8518\n",
       "    EPCT_geospatial_lat_min:   71.8730\n",
       "    EPCT_geospatial_lon_max:   293.6086\n",
       "    ...                        ...\n",
       "    EPCT_roi:                  null\n",
       "    EPCT_sensing_start:        null\n",
       "    EPCT_sensing_stop:         null\n",
       "    EPCT_software_ version:    3.0.2\n",
       "    EPCT_software_name:        DataTailor\n",
       "    EPCT_stretch_method:       null</pre><div class='xr-wrap' hidden><div class='xr-header'><div class='xr-obj-type'>xarray.Dataset</div></div><ul class='xr-sections'><li class='xr-section-item'><input id='section-63ca6e32-0bcb-4300-9ccd-b114b5f5d83f' class='xr-section-summary-in' type='checkbox' disabled ><label for='section-63ca6e32-0bcb-4300-9ccd-b114b5f5d83f' class='xr-section-summary'  title='Expand/collapse section'>Dimensions:</label><div class='xr-section-inline-details'><ul class='xr-dim-list'><li><span>y</span>: 3264</li><li><span>x</span>: 82</li><li><span>coord_grid_y</span>: 3264</li><li><span>coord_grid_x</span>: 82</li></ul></div><div class='xr-section-details'></div></li><li class='xr-section-item'><input id='section-d4a7f79a-ef6a-4e83-8c6e-9e2525ea13ed' class='xr-section-summary-in' type='checkbox'  checked><label for='section-d4a7f79a-ef6a-4e83-8c6e-9e2525ea13ed' class='xr-section-summary' >Coordinates: <span>(2)</span></label><div class='xr-section-inline-details'></div><div class='xr-section-details'><ul class='xr-var-list'><li class='xr-var-item'><div class='xr-var-name'><span>lat</span></div><div class='xr-var-dims'>(coord_grid_y, coord_grid_x)</div><div class='xr-var-dtype'>float32</div><div class='xr-var-preview xr-preview'>...</div><input id='attrs-6a2eaa9a-b228-498e-b918-86f01b385682' class='xr-var-attrs-in' type='checkbox' disabled><label for='attrs-6a2eaa9a-b228-498e-b918-86f01b385682' title='Show/Hide attributes'><svg class='icon xr-icon-file-text2'><use xlink:href='#icon-file-text2'></use></svg></label><input id='data-d57d31c9-0794-4e7c-8fde-4c774539b0b1' class='xr-var-data-in' type='checkbox'><label for='data-d57d31c9-0794-4e7c-8fde-4c774539b0b1' title='Show/Hide data repr'><svg class='icon xr-icon-database'><use xlink:href='#icon-database'></use></svg></label><div class='xr-var-attrs'><dl class='xr-attrs'></dl></div><div class='xr-var-data'><pre>[267648 values with dtype=float32]</pre></div></li><li class='xr-var-item'><div class='xr-var-name'><span>lon</span></div><div class='xr-var-dims'>(coord_grid_y, coord_grid_x)</div><div class='xr-var-dtype'>float32</div><div class='xr-var-preview xr-preview'>...</div><input id='attrs-a5c94d6f-ea68-4b85-92a6-5b2d1f9daf8c' class='xr-var-attrs-in' type='checkbox' disabled><label for='attrs-a5c94d6f-ea68-4b85-92a6-5b2d1f9daf8c' title='Show/Hide attributes'><svg class='icon xr-icon-file-text2'><use xlink:href='#icon-file-text2'></use></svg></label><input id='data-4b720af2-37e7-4ef9-8f40-22c4b95383ee' class='xr-var-data-in' type='checkbox'><label for='data-4b720af2-37e7-4ef9-8f40-22c4b95383ee' title='Show/Hide data repr'><svg class='icon xr-icon-database'><use xlink:href='#icon-database'></use></svg></label><div class='xr-var-attrs'><dl class='xr-attrs'></dl></div><div class='xr-var-data'><pre>[267648 values with dtype=float32]</pre></div></li></ul></div></li><li class='xr-section-item'><input id='section-856d7c09-99e1-49b4-8451-0b9ad692fc5d' class='xr-section-summary-in' type='checkbox'  ><label for='section-856d7c09-99e1-49b4-8451-0b9ad692fc5d' class='xr-section-summary' >Data variables: <span>(43)</span></label><div class='xr-section-inline-details'></div><div class='xr-section-details'><ul class='xr-var-list'><li class='xr-var-item'><div class='xr-var-name'><span>azi_angle_trip_fore</span></div><div class='xr-var-dims'>(y, x)</div><div class='xr-var-dtype'>float32</div><div class='xr-var-preview xr-preview'>...</div><input id='attrs-51c6f48e-4555-49fc-be03-661047c016ff' class='xr-var-attrs-in' type='checkbox' ><label for='attrs-51c6f48e-4555-49fc-be03-661047c016ff' title='Show/Hide attributes'><svg class='icon xr-icon-file-text2'><use xlink:href='#icon-file-text2'></use></svg></label><input id='data-68c068f1-0a45-4e1a-990e-1bcaebf706eb' class='xr-var-data-in' type='checkbox'><label for='data-68c068f1-0a45-4e1a-990e-1bcaebf706eb' title='Show/Hide data repr'><svg class='icon xr-icon-database'><use xlink:href='#icon-database'></use></svg></label><div class='xr-var-attrs'><dl class='xr-attrs'><dt><span>long_name :</span></dt><dd>azi_angle_trip_fore</dd><dt><span>short_name :</span></dt><dd>azi_angle_trip_fore</dd><dt><span>comment :</span></dt><dd>azi_angle_trip_fore</dd></dl></div><div class='xr-var-data'><pre>[267648 values with dtype=float32]</pre></div></li><li class='xr-var-item'><div class='xr-var-name'><span>azi_angle_trip_mid</span></div><div class='xr-var-dims'>(y, x)</div><div class='xr-var-dtype'>float32</div><div class='xr-var-preview xr-preview'>...</div><input id='attrs-7731b1c1-b169-4d77-9de1-3dab153e5ee6' class='xr-var-attrs-in' type='checkbox' ><label for='attrs-7731b1c1-b169-4d77-9de1-3dab153e5ee6' title='Show/Hide attributes'><svg class='icon xr-icon-file-text2'><use xlink:href='#icon-file-text2'></use></svg></label><input id='data-8a7999e3-6c62-40a2-a014-043b506fe1d1' class='xr-var-data-in' type='checkbox'><label for='data-8a7999e3-6c62-40a2-a014-043b506fe1d1' title='Show/Hide data repr'><svg class='icon xr-icon-database'><use xlink:href='#icon-database'></use></svg></label><div class='xr-var-attrs'><dl class='xr-attrs'><dt><span>long_name :</span></dt><dd>azi_angle_trip_mid</dd><dt><span>short_name :</span></dt><dd>azi_angle_trip_mid</dd><dt><span>comment :</span></dt><dd>azi_angle_trip_mid</dd></dl></div><div class='xr-var-data'><pre>[267648 values with dtype=float32]</pre></div></li><li class='xr-var-item'><div class='xr-var-name'><span>azi_angle_trip_aft</span></div><div class='xr-var-dims'>(y, x)</div><div class='xr-var-dtype'>float32</div><div class='xr-var-preview xr-preview'>...</div><input id='attrs-dc60bf29-e687-48cd-9fab-1f1d24873643' class='xr-var-attrs-in' type='checkbox' ><label for='attrs-dc60bf29-e687-48cd-9fab-1f1d24873643' title='Show/Hide attributes'><svg class='icon xr-icon-file-text2'><use xlink:href='#icon-file-text2'></use></svg></label><input id='data-336a7a64-a3d3-44b2-8399-a1908c87e8dc' class='xr-var-data-in' type='checkbox'><label for='data-336a7a64-a3d3-44b2-8399-a1908c87e8dc' title='Show/Hide data repr'><svg class='icon xr-icon-database'><use xlink:href='#icon-database'></use></svg></label><div class='xr-var-attrs'><dl class='xr-attrs'><dt><span>long_name :</span></dt><dd>azi_angle_trip_aft</dd><dt><span>short_name :</span></dt><dd>azi_angle_trip_aft</dd><dt><span>comment :</span></dt><dd>azi_angle_trip_aft</dd></dl></div><div class='xr-var-data'><pre>[267648 values with dtype=float32]</pre></div></li><li class='xr-var-item'><div class='xr-var-name'><span>f_f_fore</span></div><div class='xr-var-dims'>(y, x)</div><div class='xr-var-dtype'>float32</div><div class='xr-var-preview xr-preview'>...</div><input id='attrs-c041272d-d92e-481a-9efc-e32ad9ea6b62' class='xr-var-attrs-in' type='checkbox' ><label for='attrs-c041272d-d92e-481a-9efc-e32ad9ea6b62' title='Show/Hide attributes'><svg class='icon xr-icon-file-text2'><use xlink:href='#icon-file-text2'></use></svg></label><input id='data-b85a073e-ee55-4462-ba45-85da9af8e18b' class='xr-var-data-in' type='checkbox'><label for='data-b85a073e-ee55-4462-ba45-85da9af8e18b' title='Show/Hide data repr'><svg class='icon xr-icon-database'><use xlink:href='#icon-database'></use></svg></label><div class='xr-var-attrs'><dl class='xr-attrs'><dt><span>long_name :</span></dt><dd>f_f_fore</dd><dt><span>short_name :</span></dt><dd>f_f_fore</dd><dt><span>comment :</span></dt><dd>f_f_fore</dd></dl></div><div class='xr-var-data'><pre>[267648 values with dtype=float32]</pre></div></li><li class='xr-var-item'><div class='xr-var-name'><span>f_f_mid</span></div><div class='xr-var-dims'>(y, x)</div><div class='xr-var-dtype'>float32</div><div class='xr-var-preview xr-preview'>...</div><input id='attrs-e0a65aa5-18b5-4f3c-956c-4d521d3538ba' class='xr-var-attrs-in' type='checkbox' ><label for='attrs-e0a65aa5-18b5-4f3c-956c-4d521d3538ba' title='Show/Hide attributes'><svg class='icon xr-icon-file-text2'><use xlink:href='#icon-file-text2'></use></svg></label><input id='data-e7182d73-c6a6-47e8-9fa8-ec615b920526' class='xr-var-data-in' type='checkbox'><label for='data-e7182d73-c6a6-47e8-9fa8-ec615b920526' title='Show/Hide data repr'><svg class='icon xr-icon-database'><use xlink:href='#icon-database'></use></svg></label><div class='xr-var-attrs'><dl class='xr-attrs'><dt><span>long_name :</span></dt><dd>f_f_mid</dd><dt><span>short_name :</span></dt><dd>f_f_mid</dd><dt><span>comment :</span></dt><dd>f_f_mid</dd></dl></div><div class='xr-var-data'><pre>[267648 values with dtype=float32]</pre></div></li><li class='xr-var-item'><div class='xr-var-name'><span>f_f_aft</span></div><div class='xr-var-dims'>(y, x)</div><div class='xr-var-dtype'>float32</div><div class='xr-var-preview xr-preview'>...</div><input id='attrs-07f5d282-48de-4d8a-a755-646fc3ae9f69' class='xr-var-attrs-in' type='checkbox' ><label for='attrs-07f5d282-48de-4d8a-a755-646fc3ae9f69' title='Show/Hide attributes'><svg class='icon xr-icon-file-text2'><use xlink:href='#icon-file-text2'></use></svg></label><input id='data-aac3121c-a973-466f-9120-1862af6112ef' class='xr-var-data-in' type='checkbox'><label for='data-aac3121c-a973-466f-9120-1862af6112ef' title='Show/Hide data repr'><svg class='icon xr-icon-database'><use xlink:href='#icon-database'></use></svg></label><div class='xr-var-attrs'><dl class='xr-attrs'><dt><span>long_name :</span></dt><dd>f_f_aft</dd><dt><span>short_name :</span></dt><dd>f_f_aft</dd><dt><span>comment :</span></dt><dd>f_f_aft</dd></dl></div><div class='xr-var-data'><pre>[267648 values with dtype=float32]</pre></div></li><li class='xr-var-item'><div class='xr-var-name'><span>f_kp_fore</span></div><div class='xr-var-dims'>(y, x)</div><div class='xr-var-dtype'>float32</div><div class='xr-var-preview xr-preview'>...</div><input id='attrs-9d4bad40-ad43-4800-b213-d141edbfe984' class='xr-var-attrs-in' type='checkbox' ><label for='attrs-9d4bad40-ad43-4800-b213-d141edbfe984' title='Show/Hide attributes'><svg class='icon xr-icon-file-text2'><use xlink:href='#icon-file-text2'></use></svg></label><input id='data-25cc94d3-99c0-4210-a29f-71191c604809' class='xr-var-data-in' type='checkbox'><label for='data-25cc94d3-99c0-4210-a29f-71191c604809' title='Show/Hide data repr'><svg class='icon xr-icon-database'><use xlink:href='#icon-database'></use></svg></label><div class='xr-var-attrs'><dl class='xr-attrs'><dt><span>long_name :</span></dt><dd>f_kp_fore</dd><dt><span>short_name :</span></dt><dd>f_kp_fore</dd><dt><span>comment :</span></dt><dd>f_kp_fore</dd></dl></div><div class='xr-var-data'><pre>[267648 values with dtype=float32]</pre></div></li><li class='xr-var-item'><div class='xr-var-name'><span>f_kp_mid</span></div><div class='xr-var-dims'>(y, x)</div><div class='xr-var-dtype'>float32</div><div class='xr-var-preview xr-preview'>...</div><input id='attrs-f237fda8-dc35-4549-af46-85a0874d29fc' class='xr-var-attrs-in' type='checkbox' ><label for='attrs-f237fda8-dc35-4549-af46-85a0874d29fc' title='Show/Hide attributes'><svg class='icon xr-icon-file-text2'><use xlink:href='#icon-file-text2'></use></svg></label><input id='data-1f83118f-971b-498e-884c-12ced3205822' class='xr-var-data-in' type='checkbox'><label for='data-1f83118f-971b-498e-884c-12ced3205822' title='Show/Hide data repr'><svg class='icon xr-icon-database'><use xlink:href='#icon-database'></use></svg></label><div class='xr-var-attrs'><dl class='xr-attrs'><dt><span>long_name :</span></dt><dd>f_kp_mid</dd><dt><span>short_name :</span></dt><dd>f_kp_mid</dd><dt><span>comment :</span></dt><dd>f_kp_mid</dd></dl></div><div class='xr-var-data'><pre>[267648 values with dtype=float32]</pre></div></li><li class='xr-var-item'><div class='xr-var-name'><span>f_kp_aft</span></div><div class='xr-var-dims'>(y, x)</div><div class='xr-var-dtype'>float32</div><div class='xr-var-preview xr-preview'>...</div><input id='attrs-02316d3e-e04a-427c-964b-e5b54c79686c' class='xr-var-attrs-in' type='checkbox' ><label for='attrs-02316d3e-e04a-427c-964b-e5b54c79686c' title='Show/Hide attributes'><svg class='icon xr-icon-file-text2'><use xlink:href='#icon-file-text2'></use></svg></label><input id='data-49458620-c6ca-4c41-be3b-f3e6f435be63' class='xr-var-data-in' type='checkbox'><label for='data-49458620-c6ca-4c41-be3b-f3e6f435be63' title='Show/Hide data repr'><svg class='icon xr-icon-database'><use xlink:href='#icon-database'></use></svg></label><div class='xr-var-attrs'><dl class='xr-attrs'><dt><span>long_name :</span></dt><dd>f_kp_aft</dd><dt><span>short_name :</span></dt><dd>f_kp_aft</dd><dt><span>comment :</span></dt><dd>f_kp_aft</dd></dl></div><div class='xr-var-data'><pre>[267648 values with dtype=float32]</pre></div></li><li class='xr-var-item'><div class='xr-var-name'><span>f_land_fore</span></div><div class='xr-var-dims'>(y, x)</div><div class='xr-var-dtype'>float32</div><div class='xr-var-preview xr-preview'>...</div><input id='attrs-ba55aea5-1ce1-4735-8e24-364086aac35f' class='xr-var-attrs-in' type='checkbox' ><label for='attrs-ba55aea5-1ce1-4735-8e24-364086aac35f' title='Show/Hide attributes'><svg class='icon xr-icon-file-text2'><use xlink:href='#icon-file-text2'></use></svg></label><input id='data-f2957ed0-73a1-4593-8414-9cd4e717d5ea' class='xr-var-data-in' type='checkbox'><label for='data-f2957ed0-73a1-4593-8414-9cd4e717d5ea' title='Show/Hide data repr'><svg class='icon xr-icon-database'><use xlink:href='#icon-database'></use></svg></label><div class='xr-var-attrs'><dl class='xr-attrs'><dt><span>long_name :</span></dt><dd>f_land_fore</dd><dt><span>short_name :</span></dt><dd>f_land_fore</dd><dt><span>comment :</span></dt><dd>f_land_fore</dd></dl></div><div class='xr-var-data'><pre>[267648 values with dtype=float32]</pre></div></li><li class='xr-var-item'><div class='xr-var-name'><span>f_land_mid</span></div><div class='xr-var-dims'>(y, x)</div><div class='xr-var-dtype'>float32</div><div class='xr-var-preview xr-preview'>...</div><input id='attrs-0d56ba53-fdc1-4eb8-a590-a3223fff1356' class='xr-var-attrs-in' type='checkbox' ><label for='attrs-0d56ba53-fdc1-4eb8-a590-a3223fff1356' title='Show/Hide attributes'><svg class='icon xr-icon-file-text2'><use xlink:href='#icon-file-text2'></use></svg></label><input id='data-d00ba4f8-86f4-4070-80d2-9d4bf62140fc' class='xr-var-data-in' type='checkbox'><label for='data-d00ba4f8-86f4-4070-80d2-9d4bf62140fc' title='Show/Hide data repr'><svg class='icon xr-icon-database'><use xlink:href='#icon-database'></use></svg></label><div class='xr-var-attrs'><dl class='xr-attrs'><dt><span>long_name :</span></dt><dd>f_land_mid</dd><dt><span>short_name :</span></dt><dd>f_land_mid</dd><dt><span>comment :</span></dt><dd>f_land_mid</dd></dl></div><div class='xr-var-data'><pre>[267648 values with dtype=float32]</pre></div></li><li class='xr-var-item'><div class='xr-var-name'><span>f_land_aft</span></div><div class='xr-var-dims'>(y, x)</div><div class='xr-var-dtype'>float32</div><div class='xr-var-preview xr-preview'>...</div><input id='attrs-1d5159fd-5ea1-49a0-9801-662b4f5aeafe' class='xr-var-attrs-in' type='checkbox' ><label for='attrs-1d5159fd-5ea1-49a0-9801-662b4f5aeafe' title='Show/Hide attributes'><svg class='icon xr-icon-file-text2'><use xlink:href='#icon-file-text2'></use></svg></label><input id='data-916bfff3-f3d1-46a9-ad82-9575ac97e5f4' class='xr-var-data-in' type='checkbox'><label for='data-916bfff3-f3d1-46a9-ad82-9575ac97e5f4' title='Show/Hide data repr'><svg class='icon xr-icon-database'><use xlink:href='#icon-database'></use></svg></label><div class='xr-var-attrs'><dl class='xr-attrs'><dt><span>long_name :</span></dt><dd>f_land_aft</dd><dt><span>short_name :</span></dt><dd>f_land_aft</dd><dt><span>comment :</span></dt><dd>f_land_aft</dd></dl></div><div class='xr-var-data'><pre>[267648 values with dtype=float32]</pre></div></li><li class='xr-var-item'><div class='xr-var-name'><span>f_oa_fore</span></div><div class='xr-var-dims'>(y, x)</div><div class='xr-var-dtype'>float32</div><div class='xr-var-preview xr-preview'>...</div><input id='attrs-1e5766b1-17cd-42f6-9272-138b5f13e582' class='xr-var-attrs-in' type='checkbox' ><label for='attrs-1e5766b1-17cd-42f6-9272-138b5f13e582' title='Show/Hide attributes'><svg class='icon xr-icon-file-text2'><use xlink:href='#icon-file-text2'></use></svg></label><input id='data-c6e4dd9a-cc5e-4b3e-a7ab-5a77aaeb648b' class='xr-var-data-in' type='checkbox'><label for='data-c6e4dd9a-cc5e-4b3e-a7ab-5a77aaeb648b' title='Show/Hide data repr'><svg class='icon xr-icon-database'><use xlink:href='#icon-database'></use></svg></label><div class='xr-var-attrs'><dl class='xr-attrs'><dt><span>long_name :</span></dt><dd>f_oa_fore</dd><dt><span>short_name :</span></dt><dd>f_oa_fore</dd><dt><span>comment :</span></dt><dd>f_oa_fore</dd></dl></div><div class='xr-var-data'><pre>[267648 values with dtype=float32]</pre></div></li><li class='xr-var-item'><div class='xr-var-name'><span>f_oa_mid</span></div><div class='xr-var-dims'>(y, x)</div><div class='xr-var-dtype'>float32</div><div class='xr-var-preview xr-preview'>...</div><input id='attrs-509697b1-36a5-4128-85d1-5fae70dd119f' class='xr-var-attrs-in' type='checkbox' ><label for='attrs-509697b1-36a5-4128-85d1-5fae70dd119f' title='Show/Hide attributes'><svg class='icon xr-icon-file-text2'><use xlink:href='#icon-file-text2'></use></svg></label><input id='data-789847a9-76b1-4aad-99f2-f532fb489df4' class='xr-var-data-in' type='checkbox'><label for='data-789847a9-76b1-4aad-99f2-f532fb489df4' title='Show/Hide data repr'><svg class='icon xr-icon-database'><use xlink:href='#icon-database'></use></svg></label><div class='xr-var-attrs'><dl class='xr-attrs'><dt><span>long_name :</span></dt><dd>f_oa_mid</dd><dt><span>short_name :</span></dt><dd>f_oa_mid</dd><dt><span>comment :</span></dt><dd>f_oa_mid</dd></dl></div><div class='xr-var-data'><pre>[267648 values with dtype=float32]</pre></div></li><li class='xr-var-item'><div class='xr-var-name'><span>f_oa_aft</span></div><div class='xr-var-dims'>(y, x)</div><div class='xr-var-dtype'>float32</div><div class='xr-var-preview xr-preview'>...</div><input id='attrs-c2623f7d-5c4a-45d6-920c-c93e42050ceb' class='xr-var-attrs-in' type='checkbox' ><label for='attrs-c2623f7d-5c4a-45d6-920c-c93e42050ceb' title='Show/Hide attributes'><svg class='icon xr-icon-file-text2'><use xlink:href='#icon-file-text2'></use></svg></label><input id='data-6f853ec3-d125-423a-8f04-e2134f9eaa85' class='xr-var-data-in' type='checkbox'><label for='data-6f853ec3-d125-423a-8f04-e2134f9eaa85' title='Show/Hide data repr'><svg class='icon xr-icon-database'><use xlink:href='#icon-database'></use></svg></label><div class='xr-var-attrs'><dl class='xr-attrs'><dt><span>long_name :</span></dt><dd>f_oa_aft</dd><dt><span>short_name :</span></dt><dd>f_oa_aft</dd><dt><span>comment :</span></dt><dd>f_oa_aft</dd></dl></div><div class='xr-var-data'><pre>[267648 values with dtype=float32]</pre></div></li><li class='xr-var-item'><div class='xr-var-name'><span>f_ref_fore</span></div><div class='xr-var-dims'>(y, x)</div><div class='xr-var-dtype'>float32</div><div class='xr-var-preview xr-preview'>...</div><input id='attrs-887f6622-3d32-45b6-afb2-8e052bf5808f' class='xr-var-attrs-in' type='checkbox' ><label for='attrs-887f6622-3d32-45b6-afb2-8e052bf5808f' title='Show/Hide attributes'><svg class='icon xr-icon-file-text2'><use xlink:href='#icon-file-text2'></use></svg></label><input id='data-ddc3aec5-1417-45d4-81b6-d1955769622d' class='xr-var-data-in' type='checkbox'><label for='data-ddc3aec5-1417-45d4-81b6-d1955769622d' title='Show/Hide data repr'><svg class='icon xr-icon-database'><use xlink:href='#icon-database'></use></svg></label><div class='xr-var-attrs'><dl class='xr-attrs'><dt><span>long_name :</span></dt><dd>f_ref_fore</dd><dt><span>short_name :</span></dt><dd>f_ref_fore</dd><dt><span>comment :</span></dt><dd>f_ref_fore</dd></dl></div><div class='xr-var-data'><pre>[267648 values with dtype=float32]</pre></div></li><li class='xr-var-item'><div class='xr-var-name'><span>f_ref_mid</span></div><div class='xr-var-dims'>(y, x)</div><div class='xr-var-dtype'>float32</div><div class='xr-var-preview xr-preview'>...</div><input id='attrs-eb6e7dbe-8c44-44a1-9795-5da2c40797e1' class='xr-var-attrs-in' type='checkbox' ><label for='attrs-eb6e7dbe-8c44-44a1-9795-5da2c40797e1' title='Show/Hide attributes'><svg class='icon xr-icon-file-text2'><use xlink:href='#icon-file-text2'></use></svg></label><input id='data-59a5a4bf-ddf7-4f1c-a0d4-12f229900e4e' class='xr-var-data-in' type='checkbox'><label for='data-59a5a4bf-ddf7-4f1c-a0d4-12f229900e4e' title='Show/Hide data repr'><svg class='icon xr-icon-database'><use xlink:href='#icon-database'></use></svg></label><div class='xr-var-attrs'><dl class='xr-attrs'><dt><span>long_name :</span></dt><dd>f_ref_mid</dd><dt><span>short_name :</span></dt><dd>f_ref_mid</dd><dt><span>comment :</span></dt><dd>f_ref_mid</dd></dl></div><div class='xr-var-data'><pre>[267648 values with dtype=float32]</pre></div></li><li class='xr-var-item'><div class='xr-var-name'><span>f_ref_aft</span></div><div class='xr-var-dims'>(y, x)</div><div class='xr-var-dtype'>float32</div><div class='xr-var-preview xr-preview'>...</div><input id='attrs-c0d819a6-d8f4-4708-ad37-756cce5d863d' class='xr-var-attrs-in' type='checkbox' ><label for='attrs-c0d819a6-d8f4-4708-ad37-756cce5d863d' title='Show/Hide attributes'><svg class='icon xr-icon-file-text2'><use xlink:href='#icon-file-text2'></use></svg></label><input id='data-012424c3-e53c-43e3-84e1-2c9f4bf84a06' class='xr-var-data-in' type='checkbox'><label for='data-012424c3-e53c-43e3-84e1-2c9f4bf84a06' title='Show/Hide data repr'><svg class='icon xr-icon-database'><use xlink:href='#icon-database'></use></svg></label><div class='xr-var-attrs'><dl class='xr-attrs'><dt><span>long_name :</span></dt><dd>f_ref_aft</dd><dt><span>short_name :</span></dt><dd>f_ref_aft</dd><dt><span>comment :</span></dt><dd>f_ref_aft</dd></dl></div><div class='xr-var-data'><pre>[267648 values with dtype=float32]</pre></div></li><li class='xr-var-item'><div class='xr-var-name'><span>f_sa_fore</span></div><div class='xr-var-dims'>(y, x)</div><div class='xr-var-dtype'>float32</div><div class='xr-var-preview xr-preview'>...</div><input id='attrs-7ff84b70-4b6e-4102-a084-9b9339deeb08' class='xr-var-attrs-in' type='checkbox' ><label for='attrs-7ff84b70-4b6e-4102-a084-9b9339deeb08' title='Show/Hide attributes'><svg class='icon xr-icon-file-text2'><use xlink:href='#icon-file-text2'></use></svg></label><input id='data-f84a6147-2187-4567-8e11-c03d787e9604' class='xr-var-data-in' type='checkbox'><label for='data-f84a6147-2187-4567-8e11-c03d787e9604' title='Show/Hide data repr'><svg class='icon xr-icon-database'><use xlink:href='#icon-database'></use></svg></label><div class='xr-var-attrs'><dl class='xr-attrs'><dt><span>long_name :</span></dt><dd>f_sa_fore</dd><dt><span>short_name :</span></dt><dd>f_sa_fore</dd><dt><span>comment :</span></dt><dd>f_sa_fore</dd></dl></div><div class='xr-var-data'><pre>[267648 values with dtype=float32]</pre></div></li><li class='xr-var-item'><div class='xr-var-name'><span>f_sa_mid</span></div><div class='xr-var-dims'>(y, x)</div><div class='xr-var-dtype'>float32</div><div class='xr-var-preview xr-preview'>...</div><input id='attrs-bee8c6f0-2e35-4401-889f-749576f610be' class='xr-var-attrs-in' type='checkbox' ><label for='attrs-bee8c6f0-2e35-4401-889f-749576f610be' title='Show/Hide attributes'><svg class='icon xr-icon-file-text2'><use xlink:href='#icon-file-text2'></use></svg></label><input id='data-9fe0b58f-4aa2-4078-aba7-1e9f097e9e77' class='xr-var-data-in' type='checkbox'><label for='data-9fe0b58f-4aa2-4078-aba7-1e9f097e9e77' title='Show/Hide data repr'><svg class='icon xr-icon-database'><use xlink:href='#icon-database'></use></svg></label><div class='xr-var-attrs'><dl class='xr-attrs'><dt><span>long_name :</span></dt><dd>f_sa_mid</dd><dt><span>short_name :</span></dt><dd>f_sa_mid</dd><dt><span>comment :</span></dt><dd>f_sa_mid</dd></dl></div><div class='xr-var-data'><pre>[267648 values with dtype=float32]</pre></div></li><li class='xr-var-item'><div class='xr-var-name'><span>f_sa_aft</span></div><div class='xr-var-dims'>(y, x)</div><div class='xr-var-dtype'>float32</div><div class='xr-var-preview xr-preview'>...</div><input id='attrs-f60300b0-658f-4dc3-889c-2edecac7e303' class='xr-var-attrs-in' type='checkbox' ><label for='attrs-f60300b0-658f-4dc3-889c-2edecac7e303' title='Show/Hide attributes'><svg class='icon xr-icon-file-text2'><use xlink:href='#icon-file-text2'></use></svg></label><input id='data-d4817aba-e8db-4a29-92cd-73a5950bb195' class='xr-var-data-in' type='checkbox'><label for='data-d4817aba-e8db-4a29-92cd-73a5950bb195' title='Show/Hide data repr'><svg class='icon xr-icon-database'><use xlink:href='#icon-database'></use></svg></label><div class='xr-var-attrs'><dl class='xr-attrs'><dt><span>long_name :</span></dt><dd>f_sa_aft</dd><dt><span>short_name :</span></dt><dd>f_sa_aft</dd><dt><span>comment :</span></dt><dd>f_sa_aft</dd></dl></div><div class='xr-var-data'><pre>[267648 values with dtype=float32]</pre></div></li><li class='xr-var-item'><div class='xr-var-name'><span>f_tel_fore</span></div><div class='xr-var-dims'>(y, x)</div><div class='xr-var-dtype'>float32</div><div class='xr-var-preview xr-preview'>...</div><input id='attrs-7b63a4e3-6a9a-4433-8232-7ce18f217c0a' class='xr-var-attrs-in' type='checkbox' ><label for='attrs-7b63a4e3-6a9a-4433-8232-7ce18f217c0a' title='Show/Hide attributes'><svg class='icon xr-icon-file-text2'><use xlink:href='#icon-file-text2'></use></svg></label><input id='data-f192be00-c81d-49d6-94c8-8107a047e37c' class='xr-var-data-in' type='checkbox'><label for='data-f192be00-c81d-49d6-94c8-8107a047e37c' title='Show/Hide data repr'><svg class='icon xr-icon-database'><use xlink:href='#icon-database'></use></svg></label><div class='xr-var-attrs'><dl class='xr-attrs'><dt><span>long_name :</span></dt><dd>f_tel_fore</dd><dt><span>short_name :</span></dt><dd>f_tel_fore</dd><dt><span>comment :</span></dt><dd>f_tel_fore</dd></dl></div><div class='xr-var-data'><pre>[267648 values with dtype=float32]</pre></div></li><li class='xr-var-item'><div class='xr-var-name'><span>f_tel_mid</span></div><div class='xr-var-dims'>(y, x)</div><div class='xr-var-dtype'>float32</div><div class='xr-var-preview xr-preview'>...</div><input id='attrs-938779a0-d145-41f9-8847-f61f54f02f56' class='xr-var-attrs-in' type='checkbox' ><label for='attrs-938779a0-d145-41f9-8847-f61f54f02f56' title='Show/Hide attributes'><svg class='icon xr-icon-file-text2'><use xlink:href='#icon-file-text2'></use></svg></label><input id='data-51c810fd-552f-4cbf-a41f-f44054be4e01' class='xr-var-data-in' type='checkbox'><label for='data-51c810fd-552f-4cbf-a41f-f44054be4e01' title='Show/Hide data repr'><svg class='icon xr-icon-database'><use xlink:href='#icon-database'></use></svg></label><div class='xr-var-attrs'><dl class='xr-attrs'><dt><span>long_name :</span></dt><dd>f_tel_mid</dd><dt><span>short_name :</span></dt><dd>f_tel_mid</dd><dt><span>comment :</span></dt><dd>f_tel_mid</dd></dl></div><div class='xr-var-data'><pre>[267648 values with dtype=float32]</pre></div></li><li class='xr-var-item'><div class='xr-var-name'><span>f_tel_aft</span></div><div class='xr-var-dims'>(y, x)</div><div class='xr-var-dtype'>float32</div><div class='xr-var-preview xr-preview'>...</div><input id='attrs-575c4e4a-80f5-418d-a245-090841959a34' class='xr-var-attrs-in' type='checkbox' ><label for='attrs-575c4e4a-80f5-418d-a245-090841959a34' title='Show/Hide attributes'><svg class='icon xr-icon-file-text2'><use xlink:href='#icon-file-text2'></use></svg></label><input id='data-6490b6c7-16a6-4d3f-9416-b53a6ebed109' class='xr-var-data-in' type='checkbox'><label for='data-6490b6c7-16a6-4d3f-9416-b53a6ebed109' title='Show/Hide data repr'><svg class='icon xr-icon-database'><use xlink:href='#icon-database'></use></svg></label><div class='xr-var-attrs'><dl class='xr-attrs'><dt><span>long_name :</span></dt><dd>f_tel_aft</dd><dt><span>short_name :</span></dt><dd>f_tel_aft</dd><dt><span>comment :</span></dt><dd>f_tel_aft</dd></dl></div><div class='xr-var-data'><pre>[267648 values with dtype=float32]</pre></div></li><li class='xr-var-item'><div class='xr-var-name'><span>f_usable_fore</span></div><div class='xr-var-dims'>(y, x)</div><div class='xr-var-dtype'>float32</div><div class='xr-var-preview xr-preview'>...</div><input id='attrs-e6399da5-ee34-4403-896d-73cf8a6ddf47' class='xr-var-attrs-in' type='checkbox' ><label for='attrs-e6399da5-ee34-4403-896d-73cf8a6ddf47' title='Show/Hide attributes'><svg class='icon xr-icon-file-text2'><use xlink:href='#icon-file-text2'></use></svg></label><input id='data-510dd2b4-4c51-4972-9632-72e4f07e1293' class='xr-var-data-in' type='checkbox'><label for='data-510dd2b4-4c51-4972-9632-72e4f07e1293' title='Show/Hide data repr'><svg class='icon xr-icon-database'><use xlink:href='#icon-database'></use></svg></label><div class='xr-var-attrs'><dl class='xr-attrs'><dt><span>long_name :</span></dt><dd>f_usable_fore</dd><dt><span>short_name :</span></dt><dd>f_usable_fore</dd><dt><span>comment :</span></dt><dd>f_usable_fore</dd></dl></div><div class='xr-var-data'><pre>[267648 values with dtype=float32]</pre></div></li><li class='xr-var-item'><div class='xr-var-name'><span>f_usable_mid</span></div><div class='xr-var-dims'>(y, x)</div><div class='xr-var-dtype'>float32</div><div class='xr-var-preview xr-preview'>...</div><input id='attrs-92b0d361-298d-448c-bbfd-e4ce0b285b5c' class='xr-var-attrs-in' type='checkbox' ><label for='attrs-92b0d361-298d-448c-bbfd-e4ce0b285b5c' title='Show/Hide attributes'><svg class='icon xr-icon-file-text2'><use xlink:href='#icon-file-text2'></use></svg></label><input id='data-1258d9a2-9c98-4822-a9c1-443a8ba1d50c' class='xr-var-data-in' type='checkbox'><label for='data-1258d9a2-9c98-4822-a9c1-443a8ba1d50c' title='Show/Hide data repr'><svg class='icon xr-icon-database'><use xlink:href='#icon-database'></use></svg></label><div class='xr-var-attrs'><dl class='xr-attrs'><dt><span>long_name :</span></dt><dd>f_usable_mid</dd><dt><span>short_name :</span></dt><dd>f_usable_mid</dd><dt><span>comment :</span></dt><dd>f_usable_mid</dd></dl></div><div class='xr-var-data'><pre>[267648 values with dtype=float32]</pre></div></li><li class='xr-var-item'><div class='xr-var-name'><span>f_usable_aft</span></div><div class='xr-var-dims'>(y, x)</div><div class='xr-var-dtype'>float32</div><div class='xr-var-preview xr-preview'>...</div><input id='attrs-ab531277-65d4-4668-901b-98b990b56f0a' class='xr-var-attrs-in' type='checkbox' ><label for='attrs-ab531277-65d4-4668-901b-98b990b56f0a' title='Show/Hide attributes'><svg class='icon xr-icon-file-text2'><use xlink:href='#icon-file-text2'></use></svg></label><input id='data-37a49c13-cdb2-4ef3-8415-75d7be35d61f' class='xr-var-data-in' type='checkbox'><label for='data-37a49c13-cdb2-4ef3-8415-75d7be35d61f' title='Show/Hide data repr'><svg class='icon xr-icon-database'><use xlink:href='#icon-database'></use></svg></label><div class='xr-var-attrs'><dl class='xr-attrs'><dt><span>long_name :</span></dt><dd>f_usable_aft</dd><dt><span>short_name :</span></dt><dd>f_usable_aft</dd><dt><span>comment :</span></dt><dd>f_usable_aft</dd></dl></div><div class='xr-var-data'><pre>[267648 values with dtype=float32]</pre></div></li><li class='xr-var-item'><div class='xr-var-name'><span>f_v_fore</span></div><div class='xr-var-dims'>(y, x)</div><div class='xr-var-dtype'>float32</div><div class='xr-var-preview xr-preview'>...</div><input id='attrs-1caeeb40-75b4-4461-a861-f5ca2cc48cd9' class='xr-var-attrs-in' type='checkbox' ><label for='attrs-1caeeb40-75b4-4461-a861-f5ca2cc48cd9' title='Show/Hide attributes'><svg class='icon xr-icon-file-text2'><use xlink:href='#icon-file-text2'></use></svg></label><input id='data-dc2355b7-3faf-44cd-b8cf-f2310dd17a72' class='xr-var-data-in' type='checkbox'><label for='data-dc2355b7-3faf-44cd-b8cf-f2310dd17a72' title='Show/Hide data repr'><svg class='icon xr-icon-database'><use xlink:href='#icon-database'></use></svg></label><div class='xr-var-attrs'><dl class='xr-attrs'><dt><span>long_name :</span></dt><dd>f_v_fore</dd><dt><span>short_name :</span></dt><dd>f_v_fore</dd><dt><span>comment :</span></dt><dd>f_v_fore</dd></dl></div><div class='xr-var-data'><pre>[267648 values with dtype=float32]</pre></div></li><li class='xr-var-item'><div class='xr-var-name'><span>f_v_mid</span></div><div class='xr-var-dims'>(y, x)</div><div class='xr-var-dtype'>float32</div><div class='xr-var-preview xr-preview'>...</div><input id='attrs-73b3bb0f-fdc4-4b10-ab1a-c966fa3d9db2' class='xr-var-attrs-in' type='checkbox' ><label for='attrs-73b3bb0f-fdc4-4b10-ab1a-c966fa3d9db2' title='Show/Hide attributes'><svg class='icon xr-icon-file-text2'><use xlink:href='#icon-file-text2'></use></svg></label><input id='data-718f72ca-1eca-427d-966f-a9712961fb91' class='xr-var-data-in' type='checkbox'><label for='data-718f72ca-1eca-427d-966f-a9712961fb91' title='Show/Hide data repr'><svg class='icon xr-icon-database'><use xlink:href='#icon-database'></use></svg></label><div class='xr-var-attrs'><dl class='xr-attrs'><dt><span>long_name :</span></dt><dd>f_v_mid</dd><dt><span>short_name :</span></dt><dd>f_v_mid</dd><dt><span>comment :</span></dt><dd>f_v_mid</dd></dl></div><div class='xr-var-data'><pre>[267648 values with dtype=float32]</pre></div></li><li class='xr-var-item'><div class='xr-var-name'><span>f_v_aft</span></div><div class='xr-var-dims'>(y, x)</div><div class='xr-var-dtype'>float32</div><div class='xr-var-preview xr-preview'>...</div><input id='attrs-7e00605c-81de-4249-92f4-3bb8f0d66daf' class='xr-var-attrs-in' type='checkbox' ><label for='attrs-7e00605c-81de-4249-92f4-3bb8f0d66daf' title='Show/Hide attributes'><svg class='icon xr-icon-file-text2'><use xlink:href='#icon-file-text2'></use></svg></label><input id='data-ed05d4e3-c1f6-41c1-883b-196ac0eff068' class='xr-var-data-in' type='checkbox'><label for='data-ed05d4e3-c1f6-41c1-883b-196ac0eff068' title='Show/Hide data repr'><svg class='icon xr-icon-database'><use xlink:href='#icon-database'></use></svg></label><div class='xr-var-attrs'><dl class='xr-attrs'><dt><span>long_name :</span></dt><dd>f_v_aft</dd><dt><span>short_name :</span></dt><dd>f_v_aft</dd><dt><span>comment :</span></dt><dd>f_v_aft</dd></dl></div><div class='xr-var-data'><pre>[267648 values with dtype=float32]</pre></div></li><li class='xr-var-item'><div class='xr-var-name'><span>inc_angle_trip_fore</span></div><div class='xr-var-dims'>(y, x)</div><div class='xr-var-dtype'>float32</div><div class='xr-var-preview xr-preview'>...</div><input id='attrs-805c88f2-6b0b-4f0e-8248-d659e1d1e5a3' class='xr-var-attrs-in' type='checkbox' ><label for='attrs-805c88f2-6b0b-4f0e-8248-d659e1d1e5a3' title='Show/Hide attributes'><svg class='icon xr-icon-file-text2'><use xlink:href='#icon-file-text2'></use></svg></label><input id='data-3cce5906-7906-4c2c-8a35-eaaf6f34d644' class='xr-var-data-in' type='checkbox'><label for='data-3cce5906-7906-4c2c-8a35-eaaf6f34d644' title='Show/Hide data repr'><svg class='icon xr-icon-database'><use xlink:href='#icon-database'></use></svg></label><div class='xr-var-attrs'><dl class='xr-attrs'><dt><span>long_name :</span></dt><dd>inc_angle_trip_fore</dd><dt><span>short_name :</span></dt><dd>inc_angle_trip_fore</dd><dt><span>comment :</span></dt><dd>inc_angle_trip_fore</dd></dl></div><div class='xr-var-data'><pre>[267648 values with dtype=float32]</pre></div></li><li class='xr-var-item'><div class='xr-var-name'><span>inc_angle_trip_mid</span></div><div class='xr-var-dims'>(y, x)</div><div class='xr-var-dtype'>float32</div><div class='xr-var-preview xr-preview'>...</div><input id='attrs-86dcd3c4-3810-44c1-93e9-c6de59f24473' class='xr-var-attrs-in' type='checkbox' ><label for='attrs-86dcd3c4-3810-44c1-93e9-c6de59f24473' title='Show/Hide attributes'><svg class='icon xr-icon-file-text2'><use xlink:href='#icon-file-text2'></use></svg></label><input id='data-5de24b69-c384-44d0-ad85-56ef8b581811' class='xr-var-data-in' type='checkbox'><label for='data-5de24b69-c384-44d0-ad85-56ef8b581811' title='Show/Hide data repr'><svg class='icon xr-icon-database'><use xlink:href='#icon-database'></use></svg></label><div class='xr-var-attrs'><dl class='xr-attrs'><dt><span>long_name :</span></dt><dd>inc_angle_trip_mid</dd><dt><span>short_name :</span></dt><dd>inc_angle_trip_mid</dd><dt><span>comment :</span></dt><dd>inc_angle_trip_mid</dd></dl></div><div class='xr-var-data'><pre>[267648 values with dtype=float32]</pre></div></li><li class='xr-var-item'><div class='xr-var-name'><span>inc_angle_trip_aft</span></div><div class='xr-var-dims'>(y, x)</div><div class='xr-var-dtype'>float32</div><div class='xr-var-preview xr-preview'>...</div><input id='attrs-0c282be9-9c78-449f-94e3-93a2b24f0b0e' class='xr-var-attrs-in' type='checkbox' ><label for='attrs-0c282be9-9c78-449f-94e3-93a2b24f0b0e' title='Show/Hide attributes'><svg class='icon xr-icon-file-text2'><use xlink:href='#icon-file-text2'></use></svg></label><input id='data-1e6f17b0-1315-462a-92b7-3683e855e311' class='xr-var-data-in' type='checkbox'><label for='data-1e6f17b0-1315-462a-92b7-3683e855e311' title='Show/Hide data repr'><svg class='icon xr-icon-database'><use xlink:href='#icon-database'></use></svg></label><div class='xr-var-attrs'><dl class='xr-attrs'><dt><span>long_name :</span></dt><dd>inc_angle_trip_aft</dd><dt><span>short_name :</span></dt><dd>inc_angle_trip_aft</dd><dt><span>comment :</span></dt><dd>inc_angle_trip_aft</dd></dl></div><div class='xr-var-data'><pre>[267648 values with dtype=float32]</pre></div></li><li class='xr-var-item'><div class='xr-var-name'><span>kp_fore</span></div><div class='xr-var-dims'>(y, x)</div><div class='xr-var-dtype'>float32</div><div class='xr-var-preview xr-preview'>...</div><input id='attrs-776e659b-7531-49c1-ac43-71c5dcb16333' class='xr-var-attrs-in' type='checkbox' ><label for='attrs-776e659b-7531-49c1-ac43-71c5dcb16333' title='Show/Hide attributes'><svg class='icon xr-icon-file-text2'><use xlink:href='#icon-file-text2'></use></svg></label><input id='data-54803c2d-81e9-4990-a870-2c0eb5d4c3aa' class='xr-var-data-in' type='checkbox'><label for='data-54803c2d-81e9-4990-a870-2c0eb5d4c3aa' title='Show/Hide data repr'><svg class='icon xr-icon-database'><use xlink:href='#icon-database'></use></svg></label><div class='xr-var-attrs'><dl class='xr-attrs'><dt><span>long_name :</span></dt><dd>kp_fore</dd><dt><span>short_name :</span></dt><dd>kp_fore</dd><dt><span>comment :</span></dt><dd>kp_fore</dd></dl></div><div class='xr-var-data'><pre>[267648 values with dtype=float32]</pre></div></li><li class='xr-var-item'><div class='xr-var-name'><span>kp_mid</span></div><div class='xr-var-dims'>(y, x)</div><div class='xr-var-dtype'>float32</div><div class='xr-var-preview xr-preview'>...</div><input id='attrs-516eed30-70a8-445c-9692-8620f763f7ef' class='xr-var-attrs-in' type='checkbox' ><label for='attrs-516eed30-70a8-445c-9692-8620f763f7ef' title='Show/Hide attributes'><svg class='icon xr-icon-file-text2'><use xlink:href='#icon-file-text2'></use></svg></label><input id='data-88a7ae1e-ea3d-486f-8795-8fc0abc50070' class='xr-var-data-in' type='checkbox'><label for='data-88a7ae1e-ea3d-486f-8795-8fc0abc50070' title='Show/Hide data repr'><svg class='icon xr-icon-database'><use xlink:href='#icon-database'></use></svg></label><div class='xr-var-attrs'><dl class='xr-attrs'><dt><span>long_name :</span></dt><dd>kp_mid</dd><dt><span>short_name :</span></dt><dd>kp_mid</dd><dt><span>comment :</span></dt><dd>kp_mid</dd></dl></div><div class='xr-var-data'><pre>[267648 values with dtype=float32]</pre></div></li><li class='xr-var-item'><div class='xr-var-name'><span>kp_aft</span></div><div class='xr-var-dims'>(y, x)</div><div class='xr-var-dtype'>float32</div><div class='xr-var-preview xr-preview'>...</div><input id='attrs-9ada604f-1fb2-419d-89de-1ab461b08bf7' class='xr-var-attrs-in' type='checkbox' ><label for='attrs-9ada604f-1fb2-419d-89de-1ab461b08bf7' title='Show/Hide attributes'><svg class='icon xr-icon-file-text2'><use xlink:href='#icon-file-text2'></use></svg></label><input id='data-3df686e9-25f7-4d63-a964-8da283455d42' class='xr-var-data-in' type='checkbox'><label for='data-3df686e9-25f7-4d63-a964-8da283455d42' title='Show/Hide data repr'><svg class='icon xr-icon-database'><use xlink:href='#icon-database'></use></svg></label><div class='xr-var-attrs'><dl class='xr-attrs'><dt><span>long_name :</span></dt><dd>kp_aft</dd><dt><span>short_name :</span></dt><dd>kp_aft</dd><dt><span>comment :</span></dt><dd>kp_aft</dd></dl></div><div class='xr-var-data'><pre>[267648 values with dtype=float32]</pre></div></li><li class='xr-var-item'><div class='xr-var-name'><span>num_val_trip_fore</span></div><div class='xr-var-dims'>(y, x)</div><div class='xr-var-dtype'>float32</div><div class='xr-var-preview xr-preview'>...</div><input id='attrs-5fe805cb-1490-4c69-8101-6072cb1712ff' class='xr-var-attrs-in' type='checkbox' ><label for='attrs-5fe805cb-1490-4c69-8101-6072cb1712ff' title='Show/Hide attributes'><svg class='icon xr-icon-file-text2'><use xlink:href='#icon-file-text2'></use></svg></label><input id='data-a1875e21-f010-45b4-9fa0-b8bb631523ff' class='xr-var-data-in' type='checkbox'><label for='data-a1875e21-f010-45b4-9fa0-b8bb631523ff' title='Show/Hide data repr'><svg class='icon xr-icon-database'><use xlink:href='#icon-database'></use></svg></label><div class='xr-var-attrs'><dl class='xr-attrs'><dt><span>long_name :</span></dt><dd>num_val_trip_fore</dd><dt><span>short_name :</span></dt><dd>num_val_trip_fore</dd><dt><span>comment :</span></dt><dd>num_val_trip_fore</dd></dl></div><div class='xr-var-data'><pre>[267648 values with dtype=float32]</pre></div></li><li class='xr-var-item'><div class='xr-var-name'><span>num_val_trip_mid</span></div><div class='xr-var-dims'>(y, x)</div><div class='xr-var-dtype'>float32</div><div class='xr-var-preview xr-preview'>...</div><input id='attrs-594e9380-be19-420f-8271-a4421209214f' class='xr-var-attrs-in' type='checkbox' ><label for='attrs-594e9380-be19-420f-8271-a4421209214f' title='Show/Hide attributes'><svg class='icon xr-icon-file-text2'><use xlink:href='#icon-file-text2'></use></svg></label><input id='data-f588f48f-db00-45f7-a4fe-83a732f7f2a2' class='xr-var-data-in' type='checkbox'><label for='data-f588f48f-db00-45f7-a4fe-83a732f7f2a2' title='Show/Hide data repr'><svg class='icon xr-icon-database'><use xlink:href='#icon-database'></use></svg></label><div class='xr-var-attrs'><dl class='xr-attrs'><dt><span>long_name :</span></dt><dd>num_val_trip_mid</dd><dt><span>short_name :</span></dt><dd>num_val_trip_mid</dd><dt><span>comment :</span></dt><dd>num_val_trip_mid</dd></dl></div><div class='xr-var-data'><pre>[267648 values with dtype=float32]</pre></div></li><li class='xr-var-item'><div class='xr-var-name'><span>num_val_trip_aft</span></div><div class='xr-var-dims'>(y, x)</div><div class='xr-var-dtype'>float32</div><div class='xr-var-preview xr-preview'>...</div><input id='attrs-ac4dd592-c33e-4c53-ae2e-7f8c81a3ae2c' class='xr-var-attrs-in' type='checkbox' ><label for='attrs-ac4dd592-c33e-4c53-ae2e-7f8c81a3ae2c' title='Show/Hide attributes'><svg class='icon xr-icon-file-text2'><use xlink:href='#icon-file-text2'></use></svg></label><input id='data-69c135f6-b841-4008-97de-c0194b52a6a7' class='xr-var-data-in' type='checkbox'><label for='data-69c135f6-b841-4008-97de-c0194b52a6a7' title='Show/Hide data repr'><svg class='icon xr-icon-database'><use xlink:href='#icon-database'></use></svg></label><div class='xr-var-attrs'><dl class='xr-attrs'><dt><span>long_name :</span></dt><dd>num_val_trip_aft</dd><dt><span>short_name :</span></dt><dd>num_val_trip_aft</dd><dt><span>comment :</span></dt><dd>num_val_trip_aft</dd></dl></div><div class='xr-var-data'><pre>[267648 values with dtype=float32]</pre></div></li><li class='xr-var-item'><div class='xr-var-name'><span>sigma0_trip_fore</span></div><div class='xr-var-dims'>(y, x)</div><div class='xr-var-dtype'>float32</div><div class='xr-var-preview xr-preview'>...</div><input id='attrs-059ac4f8-6bea-4e0d-ae7e-8b6f202474b5' class='xr-var-attrs-in' type='checkbox' ><label for='attrs-059ac4f8-6bea-4e0d-ae7e-8b6f202474b5' title='Show/Hide attributes'><svg class='icon xr-icon-file-text2'><use xlink:href='#icon-file-text2'></use></svg></label><input id='data-1a287369-9643-4393-8a36-21cf387b66cd' class='xr-var-data-in' type='checkbox'><label for='data-1a287369-9643-4393-8a36-21cf387b66cd' title='Show/Hide data repr'><svg class='icon xr-icon-database'><use xlink:href='#icon-database'></use></svg></label><div class='xr-var-attrs'><dl class='xr-attrs'><dt><span>long_name :</span></dt><dd>sigma0_trip_fore</dd><dt><span>short_name :</span></dt><dd>sigma0_trip_fore</dd><dt><span>comment :</span></dt><dd>sigma0_trip_fore</dd></dl></div><div class='xr-var-data'><pre>[267648 values with dtype=float32]</pre></div></li><li class='xr-var-item'><div class='xr-var-name'><span>sigma0_trip_mid</span></div><div class='xr-var-dims'>(y, x)</div><div class='xr-var-dtype'>float32</div><div class='xr-var-preview xr-preview'>...</div><input id='attrs-3ea1b74c-4b15-4f1d-9d4f-1ce1f13125d2' class='xr-var-attrs-in' type='checkbox' ><label for='attrs-3ea1b74c-4b15-4f1d-9d4f-1ce1f13125d2' title='Show/Hide attributes'><svg class='icon xr-icon-file-text2'><use xlink:href='#icon-file-text2'></use></svg></label><input id='data-1070d6da-dacc-4210-87d9-41085c25f094' class='xr-var-data-in' type='checkbox'><label for='data-1070d6da-dacc-4210-87d9-41085c25f094' title='Show/Hide data repr'><svg class='icon xr-icon-database'><use xlink:href='#icon-database'></use></svg></label><div class='xr-var-attrs'><dl class='xr-attrs'><dt><span>long_name :</span></dt><dd>sigma0_trip_mid</dd><dt><span>short_name :</span></dt><dd>sigma0_trip_mid</dd><dt><span>comment :</span></dt><dd>sigma0_trip_mid</dd></dl></div><div class='xr-var-data'><pre>[267648 values with dtype=float32]</pre></div></li><li class='xr-var-item'><div class='xr-var-name'><span>sigma0_trip_aft</span></div><div class='xr-var-dims'>(y, x)</div><div class='xr-var-dtype'>float32</div><div class='xr-var-preview xr-preview'>...</div><input id='attrs-f8a426ec-0797-4ebe-be18-697a16c04b71' class='xr-var-attrs-in' type='checkbox' ><label for='attrs-f8a426ec-0797-4ebe-be18-697a16c04b71' title='Show/Hide attributes'><svg class='icon xr-icon-file-text2'><use xlink:href='#icon-file-text2'></use></svg></label><input id='data-fe990305-8525-4198-9bad-49d0373119f3' class='xr-var-data-in' type='checkbox'><label for='data-fe990305-8525-4198-9bad-49d0373119f3' title='Show/Hide data repr'><svg class='icon xr-icon-database'><use xlink:href='#icon-database'></use></svg></label><div class='xr-var-attrs'><dl class='xr-attrs'><dt><span>long_name :</span></dt><dd>sigma0_trip_aft</dd><dt><span>short_name :</span></dt><dd>sigma0_trip_aft</dd><dt><span>comment :</span></dt><dd>sigma0_trip_aft</dd></dl></div><div class='xr-var-data'><pre>[267648 values with dtype=float32]</pre></div></li><li class='xr-var-item'><div class='xr-var-name'><span>swath_indicator</span></div><div class='xr-var-dims'>(y, x)</div><div class='xr-var-dtype'>float32</div><div class='xr-var-preview xr-preview'>...</div><input id='attrs-a61a9da5-6707-4583-809e-68930b8cac63' class='xr-var-attrs-in' type='checkbox' ><label for='attrs-a61a9da5-6707-4583-809e-68930b8cac63' title='Show/Hide attributes'><svg class='icon xr-icon-file-text2'><use xlink:href='#icon-file-text2'></use></svg></label><input id='data-c8bcd87d-17ba-4690-9f26-9a23fca6a8ef' class='xr-var-data-in' type='checkbox'><label for='data-c8bcd87d-17ba-4690-9f26-9a23fca6a8ef' title='Show/Hide data repr'><svg class='icon xr-icon-database'><use xlink:href='#icon-database'></use></svg></label><div class='xr-var-attrs'><dl class='xr-attrs'><dt><span>long_name :</span></dt><dd>swath_indicator</dd><dt><span>short_name :</span></dt><dd>swath_indicator</dd><dt><span>comment :</span></dt><dd>swath_indicator</dd></dl></div><div class='xr-var-data'><pre>[267648 values with dtype=float32]</pre></div></li></ul></div></li><li class='xr-section-item'><input id='section-b6255ab2-f136-4675-8763-0597703e422d' class='xr-section-summary-in' type='checkbox'  ><label for='section-b6255ab2-f136-4675-8763-0597703e422d' class='xr-section-summary' >Attributes: <span>(34)</span></label><div class='xr-section-inline-details'></div><div class='xr-section-details'><dl class='xr-attrs'><dt><span>Conventions :</span></dt><dd>CF-1.5</dd><dt><span>start_sensing_time :</span></dt><dd>20221025T184500Z</dd><dt><span>stop_sensing_time :</span></dt><dd>20221025T202658.125000Z</dd><dt><span>EPCT_geospatial_lat_max :</span></dt><dd>84.8518</dd><dt><span>EPCT_geospatial_lat_min :</span></dt><dd>71.8730</dd><dt><span>EPCT_geospatial_lon_max :</span></dt><dd>293.6086</dd><dt><span>EPCT_geospatial_lon_min :</span></dt><dd>201.5339</dd><dt><span>EPCT_level :</span></dt><dd>1B</dd><dt><span>EPCT_orbit :</span></dt><dd>52425</dd><dt><span>EPCT_processing_mode :</span></dt><dd>nominal (NRT processing)</dd><dt><span>EPCT_product_name :</span></dt><dd>ASCA_SZR_1B_M01_20221025184500Z_20221025202658Z_N_O_20221025193642Z</dd><dt><span>EPCT_satellite :</span></dt><dd>M01</dd><dt><span>EPCT_sensor :</span></dt><dd>ASCAX</dd><dt><span>EPCT_start_sensing_time :</span></dt><dd>20221025T184500Z</dd><dt><span>EPCT_stop_sensing_time :</span></dt><dd>20221025T202658Z</dd><dt><span>EPCT_aggregation :</span></dt><dd>null</dd><dt><span>EPCT_chain name :</span></dt><dd>Custom</dd><dt><span>EPCT_creation_time :</span></dt><dd>2022-10-25T22:31:06.143550Z</dd><dt><span>EPCT_filter :</span></dt><dd>null</dd><dt><span>EPCT_format :</span></dt><dd>netcdf4</dd><dt><span>EPCT_plugin_name :</span></dt><dd>epct_plugin_gis</dd><dt><span>EPCT_plugin_version :</span></dt><dd>3.0.1</dd><dt><span>EPCT_process_id :</span></dt><dd>EPCT_ASCATL1SZR_68e304ad</dd><dt><span>EPCT_process_uuid :</span></dt><dd>68e304ad</dd><dt><span>EPCT_projection :</span></dt><dd>null</dd><dt><span>EPCT_quicklook :</span></dt><dd>null</dd><dt><span>EPCT_resample_method :</span></dt><dd>null</dd><dt><span>EPCT_resample_resolution :</span></dt><dd>null</dd><dt><span>EPCT_roi :</span></dt><dd>null</dd><dt><span>EPCT_sensing_start :</span></dt><dd>null</dd><dt><span>EPCT_sensing_stop :</span></dt><dd>null</dd><dt><span>EPCT_software_ version :</span></dt><dd>3.0.2</dd><dt><span>EPCT_software_name :</span></dt><dd>DataTailor</dd><dt><span>EPCT_stretch_method :</span></dt><dd>null</dd></dl></div></li></ul></div></div>"
      ],
      "text/plain": [
       "<xarray.Dataset>\n",
       "Dimensions:              (y: 3264, x: 82, coord_grid_y: 3264, coord_grid_x: 82)\n",
       "Coordinates:\n",
       "    lat                  (coord_grid_y, coord_grid_x) float32 ...\n",
       "    lon                  (coord_grid_y, coord_grid_x) float32 ...\n",
       "Dimensions without coordinates: y, x, coord_grid_y, coord_grid_x\n",
       "Data variables: (12/43)\n",
       "    azi_angle_trip_fore  (y, x) float32 ...\n",
       "    azi_angle_trip_mid   (y, x) float32 ...\n",
       "    azi_angle_trip_aft   (y, x) float32 ...\n",
       "    f_f_fore             (y, x) float32 ...\n",
       "    f_f_mid              (y, x) float32 ...\n",
       "    f_f_aft              (y, x) float32 ...\n",
       "    ...                   ...\n",
       "    num_val_trip_mid     (y, x) float32 ...\n",
       "    num_val_trip_aft     (y, x) float32 ...\n",
       "    sigma0_trip_fore     (y, x) float32 ...\n",
       "    sigma0_trip_mid      (y, x) float32 ...\n",
       "    sigma0_trip_aft      (y, x) float32 ...\n",
       "    swath_indicator      (y, x) float32 ...\n",
       "Attributes: (12/34)\n",
       "    Conventions:               CF-1.5\n",
       "    start_sensing_time:        20221025T184500Z\n",
       "    stop_sensing_time:         20221025T202658.125000Z\n",
       "    EPCT_geospatial_lat_max:   84.8518\n",
       "    EPCT_geospatial_lat_min:   71.8730\n",
       "    EPCT_geospatial_lon_max:   293.6086\n",
       "    ...                        ...\n",
       "    EPCT_roi:                  null\n",
       "    EPCT_sensing_start:        null\n",
       "    EPCT_sensing_stop:         null\n",
       "    EPCT_software_ version:    3.0.2\n",
       "    EPCT_software_name:        DataTailor\n",
       "    EPCT_stretch_method:       null"
      ]
     },
     "execution_count": 3,
     "metadata": {},
     "output_type": "execute_result"
    }
   ],
   "source": [
    "data"
   ]
  },
  {
   "cell_type": "code",
   "execution_count": null,
   "id": "827628c0",
   "metadata": {},
   "outputs": [],
   "source": []
  },
  {
   "cell_type": "markdown",
   "id": "292665ef",
   "metadata": {},
   "source": [
    "data = xr.open_dataset(stream.name)\n",
    "data"
   ]
  },
  {
   "cell_type": "code",
   "execution_count": null,
   "id": "4c0023fa",
   "metadata": {},
   "outputs": [],
   "source": []
  }
 ],
 "metadata": {
  "kernelspec": {
   "display_name": "Python 3 (ipykernel)",
   "language": "python",
   "name": "python3"
  },
  "language_info": {
   "codemirror_mode": {
    "name": "ipython",
    "version": 3
   },
   "file_extension": ".py",
   "mimetype": "text/x-python",
   "name": "python",
   "nbconvert_exporter": "python",
   "pygments_lexer": "ipython3",
   "version": "3.10.6"
  }
 },
 "nbformat": 4,
 "nbformat_minor": 5
}
