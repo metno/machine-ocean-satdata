{
 "cells": [
  {
   "cell_type": "code",
   "execution_count": null,
   "id": "fc27e1c3-6244-492a-964c-5442a61aa9fc",
   "metadata": {},
   "outputs": [],
   "source": []
  },
  {
   "cell_type": "code",
   "execution_count": 6,
   "id": "f47551c5-d91e-444e-9990-be56399b03e6",
   "metadata": {},
   "outputs": [
    {
     "name": "stdout",
     "output_type": "stream",
     "text": [
      "/home/paulinast/.conda/envs/mlstormsurge/lib/python3.9/site-packages/zmq/backend/cython/../../../../.././libstdc++.so.6: version `GLIBCXX_3.4.30' not found (required by /modules/rhel8/conda/install/envs/production-10-2022/lib/libgdal.so.31)\n"
     ]
    },
    {
     "name": "stderr",
     "output_type": "stream",
     "text": [
      "/home/paulinast/repos/github/nansat/nansat/__init__.py:30: UserWarning: Cannot register C pixel functions!\n",
      "                     Either nansat was not installed using setup.py or\n",
      "                     pixel functions were not compiled automatically.\n",
      "                     For development, use \"python setup.py build_ext --inplace\"\n",
      "                     to compile pixel functions manually into the source tree.\n",
      "                     \n",
      "  warnings.warn('''Cannot register C pixel functions!\n"
     ]
    }
   ],
   "source": [
    "import pickle\n",
    "import numpy as np\n",
    "import pandas as pd\n",
    "import matplotlib.pyplot as plt\n",
    "import datetime\n",
    "from icecream import ic\n",
    "from pathlib import Path\n",
    "import time\n",
    "import os\n",
    "import tqdm\n",
    "from nansat.nansat import Nansat"
   ]
  },
  {
   "cell_type": "code",
   "execution_count": 7,
   "id": "34e11c06-cf56-40e5-a8fb-b395eb9860d8",
   "metadata": {},
   "outputs": [
    {
     "name": "stdout",
     "output_type": "stream",
     "text": [
      "***** Put the interpreter in UTC, to make sure no TZ issues\n"
     ]
    }
   ],
   "source": [
    "print(\"***** Put the interpreter in UTC, to make sure no TZ issues\")\n",
    "os.environ[\"TZ\"] = \"UTC\"\n",
    "time.tzset()"
   ]
  },
  {
   "cell_type": "code",
   "execution_count": 10,
   "id": "e986dfc6-9155-4a24-85e0-a5f28566ebb4",
   "metadata": {},
   "outputs": [],
   "source": [
    "file = 'S1A_IW_GRDH_1SSV_20160528T142207_20160528T142232_011460_011746_2405.SAFE'\n",
    "data_dir = '/lustre/storeB/project/IT/geout/machine-ocean/data_raw/sentinel/'"
   ]
  },
  {
   "cell_type": "code",
   "execution_count": 11,
   "id": "50872b97-fd72-4ecf-95b9-009f8b6e9663",
   "metadata": {},
   "outputs": [],
   "source": [
    "n = Nansat(data_dir + file)"
   ]
  },
  {
   "cell_type": "code",
   "execution_count": 12,
   "id": "19525217-6599-4ec6-986a-deb64e8e62b3",
   "metadata": {},
   "outputs": [
    {
     "data": {
      "text/plain": [
       "----------------------------------------\n",
       "/lustre/storeB/project/IT/geout/machine-ocean/data_raw/sentinel/S1A_IW_GRDH_1SSV_20160528T142207_20160528T142232_011460_011746_2405.SAFE----------------------------------------\n",
       "Mapper: sentinel1_l1Band : 1 DN_VV\n",
       "  dataType: 2\n",
       "  name: DN_VV\n",
       "  SourceBand: 1\n",
       "  SourceFilename: /lustre/storeB/project/IT/geout/machine-ocean/data_raw/sentinel/S1A_IW_GRDH_1SSV_20160528T142207_20160528T142232_011460_011746_2405.SAFE/measurement/s1a-iw-grd-vv-20160528t142207-20160528t142232-011460-011746-001.tiff\n",
       "Band : 2 sigmaNought_VV\n",
       "  dataType: 7\n",
       "  name: sigmaNought_VV\n",
       "  SourceBand: 1\n",
       "  SourceFilename: /vsimem/GA96XRFM6Q.vrt\n",
       "Band : 3 noise_VV\n",
       "  dataType: 7\n",
       "  name: noise_VV\n",
       "  SourceBand: 1\n",
       "  SourceFilename: /vsimem/VY48E0EYPX.vrt\n",
       "Band : 4 look_direction\n",
       "  colormap: jet\n",
       "  dataType: 6\n",
       "  long_name: Sensor Azimuth Angle\n",
       "  minmax: 0 360\n",
       "  name: look_direction\n",
       "  short_name: sensor_azimuth\n",
       "  SourceBand: 1\n",
       "  SourceFilename: /vsimem/BO9NTPA4SO.vrt\n",
       "  standard_name: sensor_azimuth_angle\n",
       "  units: degrees\n",
       "  wkv: sensor_azimuth_angle\n",
       "Band : 5 sigma0_VV\n",
       "  colormap: gray\n",
       "  dataType: 6\n",
       "  long_name: Normalized Radar Cross Section\n",
       "  minmax: 0 0.1\n",
       "  name: sigma0_VV\n",
       "  PixelFunctionType: Sentinel1Calibration\n",
       "  polarization: VV\n",
       "  short_name: sigma0\n",
       "  SourceBand: 1\n",
       "  SourceFilename: /vsimem/UE7CYBFJS9.vrt\n",
       "  standard_name: surface_backwards_scattering_coefficient_of_radar_wave\n",
       "  suffix: VV\n",
       "  units: m/m\n",
       "  wkv: surface_backwards_scattering_coefficient_of_radar_wave\n",
       "Band : 6 beta0_VV\n",
       "  colormap: gray\n",
       "  dataType: 6\n",
       "  long_name: Reflectivity per unit area in slant range\n",
       "  minmax: 0 0.1\n",
       "  name: beta0_VV\n",
       "  PixelFunctionType: Sentinel1Calibration\n",
       "  polarization: VV\n",
       "  short_name: beta0\n",
       "  SourceBand: 1\n",
       "  SourceFilename: /vsimem/UE7CYBFJS9.vrt\n",
       "  standard_name: surface_backwards_brightness_coefficient_of_radar_wave\n",
       "  suffix: VV\n",
       "  units: m/m\n",
       "  wkv: surface_backwards_brightness_coefficient_of_radar_wave\n",
       "Band : 7 incidence_angle\n",
       "  colormap: jet\n",
       "  dataType: 7\n",
       "  long_name: Incidence Angle\n",
       "  minmax: 0 90\n",
       "  name: incidence_angle\n",
       "  short_name: incidence_angle\n",
       "  SourceBand: 1\n",
       "  SourceFilename: /vsimem/Y3HZ0XBJEF.vrt\n",
       "  standard_name: angle_of_incidence\n",
       "  units: degrees\n",
       "  wkv: angle_of_incidence\n",
       "Band : 8 elevation_angle\n",
       "  dataType: 7\n",
       "  name: elevation_angle\n",
       "  SourceBand: 1\n",
       "  SourceFilename: /vsimem/321JL9BKB8.vrt\n",
       "  wkv: angle_of_elevation\n",
       "----------------------------------------\n",
       "Domain:[25688 x 16694]\n",
       "----------------------------------------\n",
       "Projection(gcps):\n",
       "GEOGCS[\"WGS 84\",\n",
       "    DATUM[\"WGS_1984\",\n",
       "        SPHEROID[\"WGS 84\",6378137,298.257223563]],\n",
       "    PRIMEM[\"Greenwich\",0],\n",
       "    UNIT[\"degree\",0.0174532925199433]]\n",
       "----------------------------------------\n",
       "Corners (lon, lat):\n",
       "\t (-121.90,  44.82)  (-125.11,  45.21)\n",
       "\t (-122.31,  43.32)  (-125.44,  43.72)"
      ]
     },
     "execution_count": 12,
     "metadata": {},
     "output_type": "execute_result"
    }
   ],
   "source": [
    "n"
   ]
  },
  {
   "cell_type": "code",
   "execution_count": 14,
   "id": "9596b01c-869a-434c-aaee-45f87273699d",
   "metadata": {},
   "outputs": [],
   "source": [
    "band_no = n.get_band_number({\n",
    "            'standard_name': 'surface_backwards_scattering_coefficient_of_radar_wave',\n",
    "            'polarization': 'VV',\n",
    "            'dataType': '6',})"
   ]
  },
  {
   "cell_type": "code",
   "execution_count": 16,
   "id": "d1f592df-5a32-4411-9e66-028eb900ee1e",
   "metadata": {},
   "outputs": [
    {
     "data": {
      "text/plain": [
       "'VV'"
      ]
     },
     "execution_count": 16,
     "metadata": {},
     "output_type": "execute_result"
    }
   ],
   "source": [
    "pol = n.get_metadata(key='polarization', band_id=band_no)\n",
    "pol"
   ]
  },
  {
   "cell_type": "code",
   "execution_count": null,
   "id": "9c547ab5-cafa-4f81-b66e-03dfbbf6d8aa",
   "metadata": {},
   "outputs": [],
   "source": []
  }
 ],
 "metadata": {
  "kernelspec": {
   "display_name": "Python 3 (ipykernel)",
   "language": "python",
   "name": "python3"
  },
  "language_info": {
   "codemirror_mode": {
    "name": "ipython",
    "version": 3
   },
   "file_extension": ".py",
   "mimetype": "text/x-python",
   "name": "python",
   "nbconvert_exporter": "python",
   "pygments_lexer": "ipython3",
   "version": "3.9.16"
  }
 },
 "nbformat": 4,
 "nbformat_minor": 5
}
