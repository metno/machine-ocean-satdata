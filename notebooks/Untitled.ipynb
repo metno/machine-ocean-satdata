{
 "cells": [
  {
   "cell_type": "markdown",
   "id": "19ef5ad5-c11b-4a20-941f-da9bb2edfe68",
   "metadata": {},
   "source": [
    "# Write CSV with collocated ASCAT for retrieving SST data"
   ]
  },
  {
   "cell_type": "code",
   "execution_count": 4,
   "id": "66d008d7-e883-463e-af40-3016621847e6",
   "metadata": {},
   "outputs": [],
   "source": [
    "import numpy as np\n",
    "import pandas as pd\n",
    "import pickle"
   ]
  },
  {
   "cell_type": "code",
   "execution_count": 5,
   "id": "60a9571d-8497-4f19-adb3-660b89751b4c",
   "metadata": {},
   "outputs": [],
   "source": [
    "data_dir = \"/lustre/storeB/project/IT/geout/machine-ocean/data_raw/metop/\""
   ]
  },
  {
   "cell_type": "code",
   "execution_count": 6,
   "id": "4603eae5-ab75-482f-827b-6c848a1a3a5e",
   "metadata": {},
   "outputs": [],
   "source": [
    "with open(data_dir + 'collocated_dict_ascat_9000_images.pickle', 'rb') as handle:\n",
    "        ascat_dict = pickle.load(handle)"
   ]
  },
  {
   "cell_type": "code",
   "execution_count": 9,
   "id": "f9bf75a2-67a8-47ba-9604-509270bfac5e",
   "metadata": {},
   "outputs": [
    {
     "data": {
      "text/plain": [
       "Index(['CE', 'CN', 'IR', 'Lv', 'P10', 'Pair', 'Q10', 'Qair', 'RH', 'RH10',\n",
       "       'SSQ', 'SST', 'Sbytes', 'Solar', 'T10', 'Tair', 'Tm', 'Tp', 'Tsea',\n",
       "       'Tseasonic', 'Tsonic', 'U10e', 'U10r', 'UE', 'UEr', 'UN', 'UNr', 'UW',\n",
       "       'UWr', 'Ue', 'Ur', 'VW', 'VWr', 'WT', 'WTr', 'Wdir', 'Wdirr', 'cp',\n",
       "       'lhf', 'moL', 'mtime', 'rain', 'rhoair', 'shf', 'sigH', 'sigHDir',\n",
       "       'stress', 'ustar', 'yday', 'yyyy', 'lat', 'lon', 'datetime_rounded',\n",
       "       'valid_flag', 'sigma0_trip_fore', 'sigma0_trip_mid', 'sigma0_trip_aft',\n",
       "       'azi_angle_trip_fore', 'azi_angle_trip_mid', 'azi_angle_trip_aft',\n",
       "       'inc_angle_trip_fore', 'inc_angle_trip_mid', 'inc_angle_trip_aft',\n",
       "       'start_sensing_time', 'stop_sensing_time'],\n",
       "      dtype='object')"
      ]
     },
     "execution_count": 9,
     "metadata": {},
     "output_type": "execute_result"
    }
   ],
   "source": [
    "ascat_dict['Endurance_7'].keys()"
   ]
  },
  {
   "cell_type": "code",
   "execution_count": 12,
   "id": "884e00e5-d374-431d-b779-724a2c2df27a",
   "metadata": {},
   "outputs": [
    {
     "data": {
      "text/plain": [
       "(548,)"
      ]
     },
     "execution_count": 12,
     "metadata": {},
     "output_type": "execute_result"
    }
   ],
   "source": [
    "ascat_dict['Endurance_7']['start_sensing_time'].values.shape"
   ]
  },
  {
   "cell_type": "code",
   "execution_count": 18,
   "id": "6a408755-664a-4f7b-83e1-9b711a0464b8",
   "metadata": {},
   "outputs": [
    {
     "data": {
      "text/plain": [
       "datetime\n",
       "2018-04-03 03:09:59.981548    44.6393\n",
       "2018-04-03 04:09:59.991824    44.6393\n",
       "2018-04-04 05:10:00.034628    44.6393\n",
       "2018-04-04 06:10:00.012758    44.6393\n",
       "2018-04-04 18:10:00.011240    44.6393\n",
       "                               ...   \n",
       "2018-08-28 02:41:59.995096    44.6393\n",
       "2018-08-28 04:41:59.991820    44.6393\n",
       "2018-08-28 18:41:59.985627    44.6393\n",
       "2018-08-29 20:41:59.976860    44.6393\n",
       "2018-08-30 18:41:59.955070    44.6393\n",
       "Name: lat, Length: 548, dtype: float64"
      ]
     },
     "execution_count": 18,
     "metadata": {},
     "output_type": "execute_result"
    }
   ],
   "source": [
    "ascat_dict['Endurance_7']['lat']"
   ]
  },
  {
   "cell_type": "code",
   "execution_count": 13,
   "id": "2386ca9e-cdae-4044-9c8c-be656a7899c5",
   "metadata": {},
   "outputs": [],
   "source": [
    "df_endurance_7 = pd.DataFrame()\n",
    "df_endurance_7['start_sensing_time'] = ascat_dict['Endurance_7']['start_sensing_time'].values"
   ]
  },
  {
   "cell_type": "code",
   "execution_count": 22,
   "id": "d914c1ed-8af1-4e9e-81df-f4369a96b30d",
   "metadata": {},
   "outputs": [],
   "source": [
    "for buoy in ascat_dict.keys():\n",
    "    df_buoy = pd.DataFrame()\n",
    "    df_buoy['start_sensing_time'] = ascat_dict[buoy]['start_sensing_time'].values\n",
    "    df_buoy['stop_sensing_time'] = ascat_dict[buoy]['stop_sensing_time'].values\n",
    "    df_buoy['datetime_rounded'] = ascat_dict[buoy]['datetime_rounded'].values\n",
    "    df_buoy['lat'] = ascat_dict[buoy]['lat'].values\n",
    "    df_buoy['lon'] = ascat_dict[buoy]['lon'].values\n",
    "    df_buoy.to_csv('csv_time_position_collocated_ascat/collocated_ascat_' + buoy + '.csv')"
   ]
  },
  {
   "cell_type": "code",
   "execution_count": null,
   "id": "b04c1dec-54bf-41d4-bbf8-4e1e6bf725d7",
   "metadata": {},
   "outputs": [],
   "source": []
  }
 ],
 "metadata": {
  "kernelspec": {
   "display_name": "Python 3 (ipykernel)",
   "language": "python",
   "name": "python3"
  },
  "language_info": {
   "codemirror_mode": {
    "name": "ipython",
    "version": 3
   },
   "file_extension": ".py",
   "mimetype": "text/x-python",
   "name": "python",
   "nbconvert_exporter": "python",
   "pygments_lexer": "ipython3",
   "version": "3.9.16"
  }
 },
 "nbformat": 4,
 "nbformat_minor": 5
}
