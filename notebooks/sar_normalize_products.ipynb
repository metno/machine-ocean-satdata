{
 "cells": [
  {
   "cell_type": "code",
   "execution_count": 1,
   "id": "3d5d14e7-ad56-4666-809d-31cb79eafa6c",
   "metadata": {},
   "outputs": [],
   "source": [
    "import matplotlib.pyplot as plt\n",
    "\n",
    "import sys\n",
    "sys.path.append(\"../../nansat/\")\n",
    "from nansat import Nansat"
   ]
  },
  {
   "cell_type": "code",
   "execution_count": 2,
   "id": "65af194b-56cc-4425-ae6b-e240401b190f",
   "metadata": {},
   "outputs": [],
   "source": [
    "from sentinelsat import SentinelAPI, read_geojson, geojson_to_wkt, make_path_filter\n",
    "\n",
    "local_api = SentinelAPI(None, None, \"https://colhub-archive.met.no\" ,timeout=180)\n",
    "api = SentinelAPI(None, None, \"https://scihub.copernicus.eu/dhus\", timeout=180)\n",
    "\n",
    "data_dir = \"/lustre/storeB/project/IT/geout/machine-ocean/data_raw/sentinel/\""
   ]
  },
  {
   "cell_type": "code",
   "execution_count": 3,
   "id": "f8f07ae4-eee4-4313-aaf6-b2dd7f4d41ee",
   "metadata": {},
   "outputs": [
    {
     "name": "stdout",
     "output_type": "stream",
     "text": [
      "dict_keys(['Endurance_8', 'Irminger_7', 'SPURS2', 'Endurance_4', 'Irminger_6', 'Pioneer_5', 'CLIMODE', 'Endurance_9', 'Pioneer_10', 'SouthernOcean2', 'Endurance_3', 'Pioneer_3', 'SPURS1', 'Endurance_7', 'Irminger_3', 'Pioneer_7', 'Pioneer_6', 'Pioneer_8'])\n"
     ]
    }
   ],
   "source": [
    "# import dict containing metadata for in-situ data\n",
    "# https://raw.githubusercontent.com/jerabaul29/MachineOcean_WP1_WHOI/main/mo_whoi_data/data_files/in_situ_dict.py\n",
    "# from private repo at https://github.com/jerabaul29/MachineOcean_WP1_WHOI\n",
    "import time\n",
    "import os\n",
    "\n",
    "os.environ[\"TZ\"] = \"UTC\"\n",
    "time.tzset()\n",
    "\n",
    "import datetime\n",
    "import pytz\n",
    "\n",
    "utc_timezone = pytz.timezone(\"UTC\")\n",
    "\n",
    "wd = os.getcwd()\n",
    "\n",
    "os.chdir(\"../../MachineOcean_WP1_WHOI/mo_whoi_data/data_files\")\n",
    "\n",
    "import in_situ_dict\n",
    "in_situ_obs = in_situ_dict.get_in_situ_metadata()\n",
    "\n",
    "os.chdir(wd)\n",
    "\n",
    "print(in_situ_obs.keys())"
   ]
  },
  {
   "cell_type": "code",
   "execution_count": 4,
   "id": "0361444f-341a-4c06-a520-7e4bcd6818a2",
   "metadata": {},
   "outputs": [
    {
     "data": {
      "text/plain": [
       "{'datetime_start': datetime.datetime(2017, 6, 9, 13, 11, 0, 17529, tzinfo=<UTC>),\n",
       " 'datetime_end': datetime.datetime(2017, 10, 31, 23, 12, 0, 16778, tzinfo=<UTC>),\n",
       " 'type': 'whoi_buoy',\n",
       " 'lat': [40.1334],\n",
       " 'lon': [-70.7785],\n",
       " 'nc_data_location': 'received, exported from .mat'}"
      ]
     },
     "execution_count": 4,
     "metadata": {},
     "output_type": "execute_result"
    }
   ],
   "source": [
    "in_situ_obs['Pioneer_7']"
   ]
  },
  {
   "cell_type": "code",
   "execution_count": 5,
   "id": "6ed69ae1-2dfa-4af8-8188-2fb06dd54197",
   "metadata": {},
   "outputs": [],
   "source": [
    "##### read pickled imported in-situ measurements metadata with attached colocated Sentinel-1 sat products metadata\n",
    "# (to avoid having to rerun the API search)\n",
    "import pickle\n",
    "\n",
    "with open('in_situ_obs.pickle', 'rb') as handle:\n",
    "    in_situ_obs = pickle.load(handle)\n",
    "\n",
    "with open('products_scihub.pickle', 'rb') as handle:\n",
    "    products_scihub = pickle.load(handle)"
   ]
  },
  {
   "cell_type": "code",
   "execution_count": 6,
   "id": "306be2ec-e16a-4d90-8539-0835ba4db98d",
   "metadata": {},
   "outputs": [
    {
     "data": {
      "text/plain": [
       "dict_keys(['Endurance_8', 'Irminger_7', 'SPURS2', 'Endurance_4', 'Irminger_6', 'Pioneer_5', 'CLIMODE', 'Endurance_9', 'Pioneer_10', 'SouthernOcean2', 'Endurance_3', 'Pioneer_3', 'SPURS1', 'Endurance_7', 'Irminger_3', 'Pioneer_7', 'Pioneer_6', 'Pioneer_8'])"
      ]
     },
     "execution_count": 6,
     "metadata": {},
     "output_type": "execute_result"
    }
   ],
   "source": [
    "in_situ_obs.keys()"
   ]
  },
  {
   "cell_type": "code",
   "execution_count": 7,
   "id": "669ad25e-4ef3-4731-b7c6-8ccab6489dd8",
   "metadata": {
    "scrolled": true,
    "tags": []
   },
   "outputs": [
    {
     "data": {
      "text/plain": [
       "OrderedDict([('7e1d1641-af53-4486-bb45-8411c61d1aba',\n",
       "              {'title': 'S1A_IW_GRDH_1SDV_20171022T224224_20171022T224249_018932_01FFE8_5D27',\n",
       "               'link': \"https://scihub.copernicus.eu/dhus/odata/v1/Products('7e1d1641-af53-4486-bb45-8411c61d1aba')/$value\",\n",
       "               'link_alternative': \"https://scihub.copernicus.eu/dhus/odata/v1/Products('7e1d1641-af53-4486-bb45-8411c61d1aba')/\",\n",
       "               'link_icon': \"https://scihub.copernicus.eu/dhus/odata/v1/Products('7e1d1641-af53-4486-bb45-8411c61d1aba')/Products('Quicklook')/$value\",\n",
       "               'summary': 'Date: 2017-10-22T22:42:24.875Z, Instrument: SAR-C SAR, Mode: VV VH, Satellite: Sentinel-1, Size: 1.61 GB',\n",
       "               'ondemand': 'false',\n",
       "               'ingestiondate': datetime.datetime(2017, 10, 23, 5, 16, 24, 259000),\n",
       "               'beginposition': datetime.datetime(2017, 10, 22, 22, 42, 24, 875000),\n",
       "               'endposition': datetime.datetime(2017, 10, 22, 22, 42, 49, 874000),\n",
       "               'missiondatatakeid': 131048,\n",
       "               'orbitnumber': 18932,\n",
       "               'lastorbitnumber': 18932,\n",
       "               'relativeorbitnumber': 135,\n",
       "               'lastrelativeorbitnumber': 135,\n",
       "               'slicenumber': 5,\n",
       "               'acquisitiontype': 'NOMINAL',\n",
       "               'filename': 'S1A_IW_GRDH_1SDV_20171022T224224_20171022T224249_018932_01FFE8_5D27.SAFE',\n",
       "               'gmlfootprint': '<gml:Polygon srsName=\"http://www.opengis.net/gml/srs/epsg.xml#4326\" xmlns:gml=\"http://www.opengis.net/gml\">\\n   <gml:outerBoundaryIs>\\n      <gml:LinearRing>\\n         <gml:coordinates>40.464302,-73.116463 40.865818,-70.097900 39.365147,-69.783722 38.962429,-72.736824 40.464302,-73.116463</gml:coordinates>\\n      </gml:LinearRing>\\n   </gml:outerBoundaryIs>\\n</gml:Polygon>',\n",
       "               'format': 'SAFE',\n",
       "               'identifier': 'S1A_IW_GRDH_1SDV_20171022T224224_20171022T224249_018932_01FFE8_5D27',\n",
       "               'instrumentshortname': 'SAR-C SAR',\n",
       "               'sensoroperationalmode': 'IW',\n",
       "               'instrumentname': 'Synthetic Aperture Radar (C-band)',\n",
       "               'swathidentifier': 'IW',\n",
       "               'footprint': 'POLYGON ((-73.116463 40.464302,-70.097900 40.865818,-69.783722 39.365147,-72.736824 38.962429,-73.116463 40.464302))',\n",
       "               'platformidentifier': '2014-016A',\n",
       "               'orbitdirection': 'ASCENDING',\n",
       "               'polarisationmode': 'VV VH',\n",
       "               'productclass': 'S',\n",
       "               'producttype': 'GRD',\n",
       "               'platformname': 'Sentinel-1',\n",
       "               'size': '1.61 GB',\n",
       "               'status': 'ARCHIVED',\n",
       "               'uuid': '7e1d1641-af53-4486-bb45-8411c61d1aba'}),\n",
       "             ('c882d69c-7786-494c-9a59-7b2e4718e4dc',\n",
       "              {'title': 'S1B_IW_GRDH_1SDV_20171022T104857_20171022T104922_007941_00E06E_F905',\n",
       "               'link': \"https://scihub.copernicus.eu/dhus/odata/v1/Products('c882d69c-7786-494c-9a59-7b2e4718e4dc')/$value\",\n",
       "               'link_alternative': \"https://scihub.copernicus.eu/dhus/odata/v1/Products('c882d69c-7786-494c-9a59-7b2e4718e4dc')/\",\n",
       "               'link_icon': \"https://scihub.copernicus.eu/dhus/odata/v1/Products('c882d69c-7786-494c-9a59-7b2e4718e4dc')/Products('Quicklook')/$value\",\n",
       "               'summary': 'Date: 2017-10-22T10:48:57.625Z, Instrument: SAR-C SAR, Mode: VV VH, Satellite: Sentinel-1, Size: 1.59 GB',\n",
       "               'ondemand': 'false',\n",
       "               'ingestiondate': datetime.datetime(2017, 10, 23, 4, 54, 46, 860000),\n",
       "               'beginposition': datetime.datetime(2017, 10, 22, 10, 48, 57, 625000),\n",
       "               'endposition': datetime.datetime(2017, 10, 22, 10, 49, 22, 623000),\n",
       "               'missiondatatakeid': 57454,\n",
       "               'orbitnumber': 7941,\n",
       "               'lastorbitnumber': 7941,\n",
       "               'relativeorbitnumber': 40,\n",
       "               'lastrelativeorbitnumber': 40,\n",
       "               'slicenumber': 4,\n",
       "               'acquisitiontype': 'NOMINAL',\n",
       "               'filename': 'S1B_IW_GRDH_1SDV_20171022T104857_20171022T104922_007941_00E06E_F905.SAFE',\n",
       "               'gmlfootprint': '<gml:Polygon srsName=\"http://www.opengis.net/gml/srs/epsg.xml#4326\" xmlns:gml=\"http://www.opengis.net/gml\">\\n   <gml:outerBoundaryIs>\\n      <gml:LinearRing>\\n         <gml:coordinates>38.729294,-69.991882 39.125675,-72.885315 40.626480,-72.570915 40.231304,-69.613884 38.729294,-69.991882</gml:coordinates>\\n      </gml:LinearRing>\\n   </gml:outerBoundaryIs>\\n</gml:Polygon>',\n",
       "               'format': 'SAFE',\n",
       "               'identifier': 'S1B_IW_GRDH_1SDV_20171022T104857_20171022T104922_007941_00E06E_F905',\n",
       "               'instrumentshortname': 'SAR-C SAR',\n",
       "               'sensoroperationalmode': 'IW',\n",
       "               'instrumentname': 'Synthetic Aperture Radar (C-band)',\n",
       "               'swathidentifier': 'IW',\n",
       "               'footprint': 'POLYGON ((-69.991882 38.729294,-72.885315 39.125675,-72.570915 40.626480,-69.613884 40.231304,-69.991882 38.729294))',\n",
       "               'platformidentifier': '2016-025A',\n",
       "               'orbitdirection': 'DESCENDING',\n",
       "               'polarisationmode': 'VV VH',\n",
       "               'productclass': 'S',\n",
       "               'producttype': 'GRD',\n",
       "               'platformname': 'Sentinel-1',\n",
       "               'size': '1.59 GB',\n",
       "               'status': 'ARCHIVED',\n",
       "               'uuid': 'c882d69c-7786-494c-9a59-7b2e4718e4dc'}),\n",
       "             ('3d47e4ed-93cf-48b0-93e4-d1fbd78e422a',\n",
       "              {'title': 'S1A_IW_GRDH_1SDV_20171010T224224_20171010T224249_018757_01FA86_DB26',\n",
       "               'link': \"https://scihub.copernicus.eu/dhus/odata/v1/Products('3d47e4ed-93cf-48b0-93e4-d1fbd78e422a')/$value\",\n",
       "               'link_alternative': \"https://scihub.copernicus.eu/dhus/odata/v1/Products('3d47e4ed-93cf-48b0-93e4-d1fbd78e422a')/\",\n",
       "               'link_icon': \"https://scihub.copernicus.eu/dhus/odata/v1/Products('3d47e4ed-93cf-48b0-93e4-d1fbd78e422a')/Products('Quicklook')/$value\",\n",
       "               'summary': 'Date: 2017-10-10T22:42:24.754Z, Instrument: SAR-C SAR, Mode: VV VH, Satellite: Sentinel-1, Size: 1.61 GB',\n",
       "               'ondemand': 'false',\n",
       "               'ingestiondate': datetime.datetime(2017, 10, 12, 8, 4, 48, 461000),\n",
       "               'beginposition': datetime.datetime(2017, 10, 10, 22, 42, 24, 754000),\n",
       "               'endposition': datetime.datetime(2017, 10, 10, 22, 42, 49, 753000),\n",
       "               'missiondatatakeid': 129670,\n",
       "               'orbitnumber': 18757,\n",
       "               'lastorbitnumber': 18757,\n",
       "               'relativeorbitnumber': 135,\n",
       "               'lastrelativeorbitnumber': 135,\n",
       "               'slicenumber': 5,\n",
       "               'acquisitiontype': 'NOMINAL',\n",
       "               'filename': 'S1A_IW_GRDH_1SDV_20171010T224224_20171010T224249_018757_01FA86_DB26.SAFE',\n",
       "               'gmlfootprint': '<gml:Polygon srsName=\"http://www.opengis.net/gml/srs/epsg.xml#4326\" xmlns:gml=\"http://www.opengis.net/gml\">\\n   <gml:outerBoundaryIs>\\n      <gml:LinearRing>\\n         <gml:coordinates>40.464317,-73.117256 40.865864,-70.098824 39.365192,-69.784607 38.962448,-72.737579 40.464317,-73.117256</gml:coordinates>\\n      </gml:LinearRing>\\n   </gml:outerBoundaryIs>\\n</gml:Polygon>',\n",
       "               'format': 'SAFE',\n",
       "               'identifier': 'S1A_IW_GRDH_1SDV_20171010T224224_20171010T224249_018757_01FA86_DB26',\n",
       "               'instrumentshortname': 'SAR-C SAR',\n",
       "               'sensoroperationalmode': 'IW',\n",
       "               'instrumentname': 'Synthetic Aperture Radar (C-band)',\n",
       "               'swathidentifier': 'IW',\n",
       "               'footprint': 'POLYGON ((-73.117256 40.464317,-70.098824 40.865864,-69.784607 39.365192,-72.737579 38.962448,-73.117256 40.464317))',\n",
       "               'platformidentifier': '2014-016A',\n",
       "               'orbitdirection': 'ASCENDING',\n",
       "               'polarisationmode': 'VV VH',\n",
       "               'productclass': 'S',\n",
       "               'producttype': 'GRD',\n",
       "               'platformname': 'Sentinel-1',\n",
       "               'size': '1.61 GB',\n",
       "               'status': 'ARCHIVED',\n",
       "               'uuid': '3d47e4ed-93cf-48b0-93e4-d1fbd78e422a'}),\n",
       "             ('a542d732-39e9-46f7-8ad2-95ca6ea1f1b9',\n",
       "              {'title': 'S1B_IW_GRDH_1SDV_20171010T104840_20171010T104906_007766_00DB71_74A4',\n",
       "               'link': \"https://scihub.copernicus.eu/dhus/odata/v1/Products('a542d732-39e9-46f7-8ad2-95ca6ea1f1b9')/$value\",\n",
       "               'link_alternative': \"https://scihub.copernicus.eu/dhus/odata/v1/Products('a542d732-39e9-46f7-8ad2-95ca6ea1f1b9')/\",\n",
       "               'link_icon': \"https://scihub.copernicus.eu/dhus/odata/v1/Products('a542d732-39e9-46f7-8ad2-95ca6ea1f1b9')/Products('Quicklook')/$value\",\n",
       "               'summary': 'Date: 2017-10-10T10:48:40.735Z, Instrument: SAR-C SAR, Mode: VV VH, Satellite: Sentinel-1, Size: 1.6 GB',\n",
       "               'ondemand': 'false',\n",
       "               'ingestiondate': datetime.datetime(2017, 10, 10, 14, 6, 39, 603000),\n",
       "               'beginposition': datetime.datetime(2017, 10, 10, 10, 48, 40, 735000),\n",
       "               'endposition': datetime.datetime(2017, 10, 10, 10, 49, 6, 187000),\n",
       "               'missiondatatakeid': 56177,\n",
       "               'orbitnumber': 7766,\n",
       "               'lastorbitnumber': 7766,\n",
       "               'relativeorbitnumber': 40,\n",
       "               'lastrelativeorbitnumber': 40,\n",
       "               'slicenumber': 3,\n",
       "               'acquisitiontype': 'NOMINAL',\n",
       "               'filename': 'S1B_IW_GRDH_1SDV_20171010T104840_20171010T104906_007766_00DB71_74A4.SAFE',\n",
       "               'gmlfootprint': '<gml:Polygon srsName=\"http://www.opengis.net/gml/srs/epsg.xml#4326\" xmlns:gml=\"http://www.opengis.net/gml\">\\n   <gml:outerBoundaryIs>\\n      <gml:LinearRing>\\n         <gml:coordinates>39.709026,-69.758911 40.101833,-72.672920 41.629456,-72.349716 41.237671,-69.368141 39.709026,-69.758911</gml:coordinates>\\n      </gml:LinearRing>\\n   </gml:outerBoundaryIs>\\n</gml:Polygon>',\n",
       "               'format': 'SAFE',\n",
       "               'identifier': 'S1B_IW_GRDH_1SDV_20171010T104840_20171010T104906_007766_00DB71_74A4',\n",
       "               'instrumentshortname': 'SAR-C SAR',\n",
       "               'sensoroperationalmode': 'IW',\n",
       "               'instrumentname': 'Synthetic Aperture Radar (C-band)',\n",
       "               'swathidentifier': 'IW',\n",
       "               'footprint': 'POLYGON ((-69.758911 39.709026,-72.672920 40.101833,-72.349716 41.629456,-69.368141 41.237671,-69.758911 39.709026))',\n",
       "               'platformidentifier': '2016-025A',\n",
       "               'orbitdirection': 'DESCENDING',\n",
       "               'polarisationmode': 'VV VH',\n",
       "               'productclass': 'S',\n",
       "               'producttype': 'GRD',\n",
       "               'platformname': 'Sentinel-1',\n",
       "               'size': '1.6 GB',\n",
       "               'status': 'ARCHIVED',\n",
       "               'uuid': 'a542d732-39e9-46f7-8ad2-95ca6ea1f1b9'}),\n",
       "             ('c925dd01-3a51-4124-9c3f-5aec94b9d188',\n",
       "              {'title': 'S1A_IW_GRDH_1SDV_20170928T224224_20170928T224249_018582_01F530_D6EB',\n",
       "               'link': \"https://scihub.copernicus.eu/dhus/odata/v1/Products('c925dd01-3a51-4124-9c3f-5aec94b9d188')/$value\",\n",
       "               'link_alternative': \"https://scihub.copernicus.eu/dhus/odata/v1/Products('c925dd01-3a51-4124-9c3f-5aec94b9d188')/\",\n",
       "               'link_icon': \"https://scihub.copernicus.eu/dhus/odata/v1/Products('c925dd01-3a51-4124-9c3f-5aec94b9d188')/Products('Quicklook')/$value\",\n",
       "               'summary': 'Date: 2017-09-28T22:42:24.538Z, Instrument: SAR-C SAR, Mode: VV VH, Satellite: Sentinel-1, Size: 1.61 GB',\n",
       "               'ondemand': 'false',\n",
       "               'ingestiondate': datetime.datetime(2017, 9, 29, 3, 54, 21, 725000),\n",
       "               'beginposition': datetime.datetime(2017, 9, 28, 22, 42, 24, 538000),\n",
       "               'endposition': datetime.datetime(2017, 9, 28, 22, 42, 49, 535000),\n",
       "               'missiondatatakeid': 128304,\n",
       "               'orbitnumber': 18582,\n",
       "               'lastorbitnumber': 18582,\n",
       "               'relativeorbitnumber': 135,\n",
       "               'lastrelativeorbitnumber': 135,\n",
       "               'slicenumber': 5,\n",
       "               'acquisitiontype': 'NOMINAL',\n",
       "               'filename': 'S1A_IW_GRDH_1SDV_20170928T224224_20170928T224249_018582_01F530_D6EB.SAFE',\n",
       "               'gmlfootprint': '<gml:Polygon srsName=\"http://www.opengis.net/gml/srs/epsg.xml#4326\" xmlns:gml=\"http://www.opengis.net/gml\">\\n   <gml:outerBoundaryIs>\\n      <gml:LinearRing>\\n         <gml:coordinates>40.464264,-73.117195 40.865799,-70.098877 39.365219,-69.784683 38.962486,-72.737549 40.464264,-73.117195</gml:coordinates>\\n      </gml:LinearRing>\\n   </gml:outerBoundaryIs>\\n</gml:Polygon>',\n",
       "               'format': 'SAFE',\n",
       "               'identifier': 'S1A_IW_GRDH_1SDV_20170928T224224_20170928T224249_018582_01F530_D6EB',\n",
       "               'instrumentshortname': 'SAR-C SAR',\n",
       "               'sensoroperationalmode': 'IW',\n",
       "               'instrumentname': 'Synthetic Aperture Radar (C-band)',\n",
       "               'swathidentifier': 'IW',\n",
       "               'footprint': 'POLYGON ((-73.117195 40.464264,-70.098877 40.865799,-69.784683 39.365219,-72.737549 38.962486,-73.117195 40.464264))',\n",
       "               'platformidentifier': '2014-016A',\n",
       "               'orbitdirection': 'ASCENDING',\n",
       "               'polarisationmode': 'VV VH',\n",
       "               'productclass': 'S',\n",
       "               'producttype': 'GRD',\n",
       "               'platformname': 'Sentinel-1',\n",
       "               'size': '1.61 GB',\n",
       "               'status': 'ARCHIVED',\n",
       "               'uuid': 'c925dd01-3a51-4124-9c3f-5aec94b9d188'}),\n",
       "             ('443ea012-e193-4a85-8788-bef674cabd7c',\n",
       "              {'title': 'S1A_IW_GRDH_1SDV_20170916T224224_20170916T224249_018407_01EFDA_A8C7',\n",
       "               'link': \"https://scihub.copernicus.eu/dhus/odata/v1/Products('443ea012-e193-4a85-8788-bef674cabd7c')/$value\",\n",
       "               'link_alternative': \"https://scihub.copernicus.eu/dhus/odata/v1/Products('443ea012-e193-4a85-8788-bef674cabd7c')/\",\n",
       "               'link_icon': \"https://scihub.copernicus.eu/dhus/odata/v1/Products('443ea012-e193-4a85-8788-bef674cabd7c')/Products('Quicklook')/$value\",\n",
       "               'summary': 'Date: 2017-09-16T22:42:24.276Z, Instrument: SAR-C SAR, Mode: VV VH, Satellite: Sentinel-1, Size: 1.61 GB',\n",
       "               'ondemand': 'false',\n",
       "               'ingestiondate': datetime.datetime(2017, 9, 17, 4, 2, 29, 120000),\n",
       "               'beginposition': datetime.datetime(2017, 9, 16, 22, 42, 24, 276000),\n",
       "               'endposition': datetime.datetime(2017, 9, 16, 22, 42, 49, 275000),\n",
       "               'missiondatatakeid': 126938,\n",
       "               'orbitnumber': 18407,\n",
       "               'lastorbitnumber': 18407,\n",
       "               'relativeorbitnumber': 135,\n",
       "               'lastrelativeorbitnumber': 135,\n",
       "               'slicenumber': 5,\n",
       "               'acquisitiontype': 'NOMINAL',\n",
       "               'filename': 'S1A_IW_GRDH_1SDV_20170916T224224_20170916T224249_018407_01EFDA_A8C7.SAFE',\n",
       "               'gmlfootprint': '<gml:Polygon srsName=\"http://www.opengis.net/gml/srs/epsg.xml#4326\" xmlns:gml=\"http://www.opengis.net/gml\">\\n   <gml:outerBoundaryIs>\\n      <gml:LinearRing>\\n         <gml:coordinates>40.464451,-73.116234 40.865917,-70.098015 39.365242,-69.783852 38.962578,-72.736610 40.464451,-73.116234</gml:coordinates>\\n      </gml:LinearRing>\\n   </gml:outerBoundaryIs>\\n</gml:Polygon>',\n",
       "               'format': 'SAFE',\n",
       "               'identifier': 'S1A_IW_GRDH_1SDV_20170916T224224_20170916T224249_018407_01EFDA_A8C7',\n",
       "               'instrumentshortname': 'SAR-C SAR',\n",
       "               'sensoroperationalmode': 'IW',\n",
       "               'instrumentname': 'Synthetic Aperture Radar (C-band)',\n",
       "               'swathidentifier': 'IW',\n",
       "               'footprint': 'POLYGON ((-73.116234 40.464451,-70.098015 40.865917,-69.783852 39.365242,-72.736610 38.962578,-73.116234 40.464451))',\n",
       "               'platformidentifier': '2014-016A',\n",
       "               'orbitdirection': 'ASCENDING',\n",
       "               'polarisationmode': 'VV VH',\n",
       "               'productclass': 'S',\n",
       "               'producttype': 'GRD',\n",
       "               'platformname': 'Sentinel-1',\n",
       "               'size': '1.61 GB',\n",
       "               'status': 'ARCHIVED',\n",
       "               'uuid': '443ea012-e193-4a85-8788-bef674cabd7c'}),\n",
       "             ('83cb7b5f-a4e7-47da-8ede-74d27e15abfb',\n",
       "              {'title': 'S1A_IW_GRDH_1SDV_20170823T224223_20170823T224248_018057_01E51C_DE72',\n",
       "               'link': \"https://scihub.copernicus.eu/dhus/odata/v1/Products('83cb7b5f-a4e7-47da-8ede-74d27e15abfb')/$value\",\n",
       "               'link_alternative': \"https://scihub.copernicus.eu/dhus/odata/v1/Products('83cb7b5f-a4e7-47da-8ede-74d27e15abfb')/\",\n",
       "               'link_icon': \"https://scihub.copernicus.eu/dhus/odata/v1/Products('83cb7b5f-a4e7-47da-8ede-74d27e15abfb')/Products('Quicklook')/$value\",\n",
       "               'summary': 'Date: 2017-08-23T22:42:23.338Z, Instrument: SAR-C SAR, Mode: VV VH, Satellite: Sentinel-1, Size: 1.61 GB',\n",
       "               'ondemand': 'false',\n",
       "               'ingestiondate': datetime.datetime(2017, 8, 24, 5, 48, 23, 207000),\n",
       "               'beginposition': datetime.datetime(2017, 8, 23, 22, 42, 23, 338000),\n",
       "               'endposition': datetime.datetime(2017, 8, 23, 22, 42, 48, 337000),\n",
       "               'missiondatatakeid': 124188,\n",
       "               'orbitnumber': 18057,\n",
       "               'lastorbitnumber': 18057,\n",
       "               'relativeorbitnumber': 135,\n",
       "               'lastrelativeorbitnumber': 135,\n",
       "               'slicenumber': 5,\n",
       "               'acquisitiontype': 'NOMINAL',\n",
       "               'filename': 'S1A_IW_GRDH_1SDV_20170823T224223_20170823T224248_018057_01E51C_DE72.SAFE',\n",
       "               'gmlfootprint': '<gml:Polygon srsName=\"http://www.opengis.net/gml/srs/epsg.xml#4326\" xmlns:gml=\"http://www.opengis.net/gml\">\\n   <gml:outerBoundaryIs>\\n      <gml:LinearRing>\\n         <gml:coordinates>40.464508,-73.114487 40.865932,-70.096138 39.365253,-69.782021 38.962624,-72.734917 40.464508,-73.114487</gml:coordinates>\\n      </gml:LinearRing>\\n   </gml:outerBoundaryIs>\\n</gml:Polygon>',\n",
       "               'format': 'SAFE',\n",
       "               'identifier': 'S1A_IW_GRDH_1SDV_20170823T224223_20170823T224248_018057_01E51C_DE72',\n",
       "               'instrumentshortname': 'SAR-C SAR',\n",
       "               'sensoroperationalmode': 'IW',\n",
       "               'instrumentname': 'Synthetic Aperture Radar (C-band)',\n",
       "               'swathidentifier': 'IW',\n",
       "               'footprint': 'POLYGON ((-73.114487 40.464508,-70.096138 40.865932,-69.782021 39.365253,-72.734917 38.962624,-73.114487 40.464508))',\n",
       "               'platformidentifier': '2014-016A',\n",
       "               'orbitdirection': 'ASCENDING',\n",
       "               'polarisationmode': 'VV VH',\n",
       "               'productclass': 'S',\n",
       "               'producttype': 'GRD',\n",
       "               'platformname': 'Sentinel-1',\n",
       "               'size': '1.61 GB',\n",
       "               'status': 'ARCHIVED',\n",
       "               'uuid': '83cb7b5f-a4e7-47da-8ede-74d27e15abfb'}),\n",
       "             ('24a6cea2-69a1-49af-872c-8653b47aa09d',\n",
       "              {'title': 'S1B_IW_GRDH_1SDV_20170823T104839_20170823T104904_007066_00C72C_6916',\n",
       "               'link': \"https://scihub.copernicus.eu/dhus/odata/v1/Products('24a6cea2-69a1-49af-872c-8653b47aa09d')/$value\",\n",
       "               'link_alternative': \"https://scihub.copernicus.eu/dhus/odata/v1/Products('24a6cea2-69a1-49af-872c-8653b47aa09d')/\",\n",
       "               'link_icon': \"https://scihub.copernicus.eu/dhus/odata/v1/Products('24a6cea2-69a1-49af-872c-8653b47aa09d')/Products('Quicklook')/$value\",\n",
       "               'summary': 'Date: 2017-08-23T10:48:39.231Z, Instrument: SAR-C SAR, Mode: VV VH, Satellite: Sentinel-1, Size: 1.6 GB',\n",
       "               'ondemand': 'false',\n",
       "               'ingestiondate': datetime.datetime(2017, 8, 23, 13, 42, 52, 192000),\n",
       "               'beginposition': datetime.datetime(2017, 8, 23, 10, 48, 39, 231000),\n",
       "               'endposition': datetime.datetime(2017, 8, 23, 10, 49, 4, 667000),\n",
       "               'missiondatatakeid': 50988,\n",
       "               'orbitnumber': 7066,\n",
       "               'lastorbitnumber': 7066,\n",
       "               'relativeorbitnumber': 40,\n",
       "               'lastrelativeorbitnumber': 40,\n",
       "               'slicenumber': 3,\n",
       "               'acquisitiontype': 'NOMINAL',\n",
       "               'filename': 'S1B_IW_GRDH_1SDV_20170823T104839_20170823T104904_007066_00C72C_6916.SAFE',\n",
       "               'gmlfootprint': '<gml:Polygon srsName=\"http://www.opengis.net/gml/srs/epsg.xml#4326\" xmlns:gml=\"http://www.opengis.net/gml\">\\n   <gml:outerBoundaryIs>\\n      <gml:LinearRing>\\n         <gml:coordinates>39.709957,-69.759323 40.102650,-72.673042 41.629379,-72.350098 41.237709,-69.368866 39.709957,-69.759323</gml:coordinates>\\n      </gml:LinearRing>\\n   </gml:outerBoundaryIs>\\n</gml:Polygon>',\n",
       "               'format': 'SAFE',\n",
       "               'identifier': 'S1B_IW_GRDH_1SDV_20170823T104839_20170823T104904_007066_00C72C_6916',\n",
       "               'instrumentshortname': 'SAR-C SAR',\n",
       "               'sensoroperationalmode': 'IW',\n",
       "               'instrumentname': 'Synthetic Aperture Radar (C-band)',\n",
       "               'swathidentifier': 'IW',\n",
       "               'footprint': 'POLYGON ((-69.759323 39.709957,-72.673042 40.102650,-72.350098 41.629379,-69.368866 41.237709,-69.759323 39.709957))',\n",
       "               'platformidentifier': '2016-025A',\n",
       "               'orbitdirection': 'DESCENDING',\n",
       "               'polarisationmode': 'VV VH',\n",
       "               'productclass': 'S',\n",
       "               'producttype': 'GRD',\n",
       "               'platformname': 'Sentinel-1',\n",
       "               'size': '1.6 GB',\n",
       "               'status': 'ARCHIVED',\n",
       "               'uuid': '24a6cea2-69a1-49af-872c-8653b47aa09d'}),\n",
       "             ('257259ca-74ac-43f2-8187-82f6e84140bf',\n",
       "              {'title': 'S1A_IW_GRDH_1SDV_20170811T224222_20170811T224247_017882_01DFCC_1FEB',\n",
       "               'link': \"https://scihub.copernicus.eu/dhus/odata/v1/Products('257259ca-74ac-43f2-8187-82f6e84140bf')/$value\",\n",
       "               'link_alternative': \"https://scihub.copernicus.eu/dhus/odata/v1/Products('257259ca-74ac-43f2-8187-82f6e84140bf')/\",\n",
       "               'link_icon': \"https://scihub.copernicus.eu/dhus/odata/v1/Products('257259ca-74ac-43f2-8187-82f6e84140bf')/Products('Quicklook')/$value\",\n",
       "               'summary': 'Date: 2017-08-11T22:42:22.725Z, Instrument: SAR-C SAR, Mode: VV VH, Satellite: Sentinel-1, Size: 1.61 GB',\n",
       "               'ondemand': 'false',\n",
       "               'ingestiondate': datetime.datetime(2017, 8, 12, 5, 12, 23, 557000),\n",
       "               'beginposition': datetime.datetime(2017, 8, 11, 22, 42, 22, 725000),\n",
       "               'endposition': datetime.datetime(2017, 8, 11, 22, 42, 47, 723000),\n",
       "               'missiondatatakeid': 122828,\n",
       "               'orbitnumber': 17882,\n",
       "               'lastorbitnumber': 17882,\n",
       "               'relativeorbitnumber': 135,\n",
       "               'lastrelativeorbitnumber': 135,\n",
       "               'slicenumber': 5,\n",
       "               'acquisitiontype': 'NOMINAL',\n",
       "               'filename': 'S1A_IW_GRDH_1SDV_20170811T224222_20170811T224247_017882_01DFCC_1FEB.SAFE',\n",
       "               'gmlfootprint': '<gml:Polygon srsName=\"http://www.opengis.net/gml/srs/epsg.xml#4326\" xmlns:gml=\"http://www.opengis.net/gml\">\\n   <gml:outerBoundaryIs>\\n      <gml:LinearRing>\\n         <gml:coordinates>40.464397,-73.115906 40.865849,-70.097809 39.365173,-69.783653 38.962524,-72.736305 40.464397,-73.115906</gml:coordinates>\\n      </gml:LinearRing>\\n   </gml:outerBoundaryIs>\\n</gml:Polygon>',\n",
       "               'format': 'SAFE',\n",
       "               'identifier': 'S1A_IW_GRDH_1SDV_20170811T224222_20170811T224247_017882_01DFCC_1FEB',\n",
       "               'instrumentshortname': 'SAR-C SAR',\n",
       "               'sensoroperationalmode': 'IW',\n",
       "               'instrumentname': 'Synthetic Aperture Radar (C-band)',\n",
       "               'swathidentifier': 'IW',\n",
       "               'footprint': 'POLYGON ((-73.115906 40.464397,-70.097809 40.865849,-69.783653 39.365173,-72.736305 38.962524,-73.115906 40.464397))',\n",
       "               'platformidentifier': '2014-016A',\n",
       "               'orbitdirection': 'ASCENDING',\n",
       "               'polarisationmode': 'VV VH',\n",
       "               'productclass': 'S',\n",
       "               'producttype': 'GRD',\n",
       "               'platformname': 'Sentinel-1',\n",
       "               'size': '1.61 GB',\n",
       "               'status': 'ARCHIVED',\n",
       "               'uuid': '257259ca-74ac-43f2-8187-82f6e84140bf'}),\n",
       "             ('f7ef3950-8289-4207-ab58-d18091bf751a',\n",
       "              {'title': 'S1A_IW_GRDH_1SDV_20170730T224222_20170730T224247_017707_01DA78_3B66',\n",
       "               'link': \"https://scihub.copernicus.eu/dhus/odata/v1/Products('f7ef3950-8289-4207-ab58-d18091bf751a')/$value\",\n",
       "               'link_alternative': \"https://scihub.copernicus.eu/dhus/odata/v1/Products('f7ef3950-8289-4207-ab58-d18091bf751a')/\",\n",
       "               'link_icon': \"https://scihub.copernicus.eu/dhus/odata/v1/Products('f7ef3950-8289-4207-ab58-d18091bf751a')/Products('Quicklook')/$value\",\n",
       "               'summary': 'Date: 2017-07-30T22:42:22.166Z, Instrument: SAR-C SAR, Mode: VV VH, Satellite: Sentinel-1, Size: 1.61 GB',\n",
       "               'ondemand': 'false',\n",
       "               'ingestiondate': datetime.datetime(2017, 7, 31, 4, 4, 30, 861000),\n",
       "               'beginposition': datetime.datetime(2017, 7, 30, 22, 42, 22, 166000),\n",
       "               'endposition': datetime.datetime(2017, 7, 30, 22, 42, 47, 165000),\n",
       "               'missiondatatakeid': 121464,\n",
       "               'orbitnumber': 17707,\n",
       "               'lastorbitnumber': 17707,\n",
       "               'relativeorbitnumber': 135,\n",
       "               'lastrelativeorbitnumber': 135,\n",
       "               'slicenumber': 5,\n",
       "               'acquisitiontype': 'NOMINAL',\n",
       "               'filename': 'S1A_IW_GRDH_1SDV_20170730T224222_20170730T224247_017707_01DA78_3B66.SAFE',\n",
       "               'gmlfootprint': '<gml:Polygon srsName=\"http://www.opengis.net/gml/srs/epsg.xml#4326\" xmlns:gml=\"http://www.opengis.net/gml\">\\n   <gml:outerBoundaryIs>\\n      <gml:LinearRing>\\n         <gml:coordinates>40.464390,-73.115997 40.865845,-70.097900 39.365170,-69.783737 38.962517,-72.736382 40.464390,-73.115997</gml:coordinates>\\n      </gml:LinearRing>\\n   </gml:outerBoundaryIs>\\n</gml:Polygon>',\n",
       "               'format': 'SAFE',\n",
       "               'identifier': 'S1A_IW_GRDH_1SDV_20170730T224222_20170730T224247_017707_01DA78_3B66',\n",
       "               'instrumentshortname': 'SAR-C SAR',\n",
       "               'sensoroperationalmode': 'IW',\n",
       "               'instrumentname': 'Synthetic Aperture Radar (C-band)',\n",
       "               'swathidentifier': 'IW',\n",
       "               'footprint': 'POLYGON ((-73.115997 40.464390,-70.097900 40.865845,-69.783737 39.365170,-72.736382 38.962517,-73.115997 40.464390))',\n",
       "               'platformidentifier': '2014-016A',\n",
       "               'orbitdirection': 'ASCENDING',\n",
       "               'polarisationmode': 'VV VH',\n",
       "               'productclass': 'S',\n",
       "               'producttype': 'GRD',\n",
       "               'platformname': 'Sentinel-1',\n",
       "               'size': '1.61 GB',\n",
       "               'status': 'ARCHIVED',\n",
       "               'uuid': 'f7ef3950-8289-4207-ab58-d18091bf751a'}),\n",
       "             ('23be2c5f-a7d1-4ec1-809e-6d795b28761c',\n",
       "              {'title': 'S1B_IW_GRDH_1SDV_20170730T104838_20170730T104903_006716_00BD05_1883',\n",
       "               'link': \"https://scihub.copernicus.eu/dhus/odata/v1/Products('23be2c5f-a7d1-4ec1-809e-6d795b28761c')/$value\",\n",
       "               'link_alternative': \"https://scihub.copernicus.eu/dhus/odata/v1/Products('23be2c5f-a7d1-4ec1-809e-6d795b28761c')/\",\n",
       "               'link_icon': \"https://scihub.copernicus.eu/dhus/odata/v1/Products('23be2c5f-a7d1-4ec1-809e-6d795b28761c')/Products('Quicklook')/$value\",\n",
       "               'summary': 'Date: 2017-07-30T10:48:38.056Z, Instrument: SAR-C SAR, Mode: VV VH, Satellite: Sentinel-1, Size: 1.6 GB',\n",
       "               'ondemand': 'false',\n",
       "               'ingestiondate': datetime.datetime(2017, 7, 30, 13, 42, 15, 180000),\n",
       "               'beginposition': datetime.datetime(2017, 7, 30, 10, 48, 38, 56000),\n",
       "               'endposition': datetime.datetime(2017, 7, 30, 10, 49, 3, 478000),\n",
       "               'missiondatatakeid': 48389,\n",
       "               'orbitnumber': 6716,\n",
       "               'lastorbitnumber': 6716,\n",
       "               'relativeorbitnumber': 40,\n",
       "               'lastrelativeorbitnumber': 40,\n",
       "               'slicenumber': 3,\n",
       "               'acquisitiontype': 'NOMINAL',\n",
       "               'filename': 'S1B_IW_GRDH_1SDV_20170730T104838_20170730T104903_006716_00BD05_1883.SAFE',\n",
       "               'gmlfootprint': '<gml:Polygon srsName=\"http://www.opengis.net/gml/srs/epsg.xml#4326\" xmlns:gml=\"http://www.opengis.net/gml\">\\n   <gml:outerBoundaryIs>\\n      <gml:LinearRing>\\n         <gml:coordinates>39.710701,-69.759155 40.103436,-72.673012 41.629356,-72.350227 41.237644,-69.368881 39.710701,-69.759155</gml:coordinates>\\n      </gml:LinearRing>\\n   </gml:outerBoundaryIs>\\n</gml:Polygon>',\n",
       "               'format': 'SAFE',\n",
       "               'identifier': 'S1B_IW_GRDH_1SDV_20170730T104838_20170730T104903_006716_00BD05_1883',\n",
       "               'instrumentshortname': 'SAR-C SAR',\n",
       "               'sensoroperationalmode': 'IW',\n",
       "               'instrumentname': 'Synthetic Aperture Radar (C-band)',\n",
       "               'swathidentifier': 'IW',\n",
       "               'footprint': 'POLYGON ((-69.759155 39.710701,-72.673012 40.103436,-72.350227 41.629356,-69.368881 41.237644,-69.759155 39.710701))',\n",
       "               'platformidentifier': '2016-025A',\n",
       "               'orbitdirection': 'DESCENDING',\n",
       "               'polarisationmode': 'VV VH',\n",
       "               'productclass': 'S',\n",
       "               'producttype': 'GRD',\n",
       "               'platformname': 'Sentinel-1',\n",
       "               'size': '1.6 GB',\n",
       "               'status': 'ARCHIVED',\n",
       "               'uuid': '23be2c5f-a7d1-4ec1-809e-6d795b28761c'}),\n",
       "             ('cc42efbf-02ed-4ad4-ad73-69725339da4a',\n",
       "              {'title': 'S1A_IW_GRDH_1SDV_20170718T224221_20170718T224246_017532_01D51F_B909',\n",
       "               'link': \"https://scihub.copernicus.eu/dhus/odata/v1/Products('cc42efbf-02ed-4ad4-ad73-69725339da4a')/$value\",\n",
       "               'link_alternative': \"https://scihub.copernicus.eu/dhus/odata/v1/Products('cc42efbf-02ed-4ad4-ad73-69725339da4a')/\",\n",
       "               'link_icon': \"https://scihub.copernicus.eu/dhus/odata/v1/Products('cc42efbf-02ed-4ad4-ad73-69725339da4a')/Products('Quicklook')/$value\",\n",
       "               'summary': 'Date: 2017-07-18T22:42:21.29Z, Instrument: SAR-C SAR, Mode: VV VH, Satellite: Sentinel-1, Size: 1.61 GB',\n",
       "               'ondemand': 'false',\n",
       "               'ingestiondate': datetime.datetime(2017, 7, 19, 3, 50, 12, 761000),\n",
       "               'beginposition': datetime.datetime(2017, 7, 18, 22, 42, 21, 290000),\n",
       "               'endposition': datetime.datetime(2017, 7, 18, 22, 42, 46, 289000),\n",
       "               'missiondatatakeid': 120095,\n",
       "               'orbitnumber': 17532,\n",
       "               'lastorbitnumber': 17532,\n",
       "               'relativeorbitnumber': 135,\n",
       "               'lastrelativeorbitnumber': 135,\n",
       "               'slicenumber': 5,\n",
       "               'acquisitiontype': 'NOMINAL',\n",
       "               'filename': 'S1A_IW_GRDH_1SDV_20170718T224221_20170718T224246_017532_01D51F_B909.SAFE',\n",
       "               'gmlfootprint': '<gml:Polygon srsName=\"http://www.opengis.net/gml/srs/epsg.xml#4326\" xmlns:gml=\"http://www.opengis.net/gml\">\\n   <gml:outerBoundaryIs>\\n      <gml:LinearRing>\\n         <gml:coordinates>40.464268,-73.115791 40.865738,-70.097702 39.365067,-69.783539 38.962391,-72.736176 40.464268,-73.115791</gml:coordinates>\\n      </gml:LinearRing>\\n   </gml:outerBoundaryIs>\\n</gml:Polygon>',\n",
       "               'format': 'SAFE',\n",
       "               'identifier': 'S1A_IW_GRDH_1SDV_20170718T224221_20170718T224246_017532_01D51F_B909',\n",
       "               'instrumentshortname': 'SAR-C SAR',\n",
       "               'sensoroperationalmode': 'IW',\n",
       "               'instrumentname': 'Synthetic Aperture Radar (C-band)',\n",
       "               'swathidentifier': 'IW',\n",
       "               'footprint': 'POLYGON ((-73.115791 40.464268,-70.097702 40.865738,-69.783539 39.365067,-72.736176 38.962391,-73.115791 40.464268))',\n",
       "               'platformidentifier': '2014-016A',\n",
       "               'orbitdirection': 'ASCENDING',\n",
       "               'polarisationmode': 'VV VH',\n",
       "               'productclass': 'S',\n",
       "               'producttype': 'GRD',\n",
       "               'platformname': 'Sentinel-1',\n",
       "               'size': '1.61 GB',\n",
       "               'status': 'ARCHIVED',\n",
       "               'uuid': 'cc42efbf-02ed-4ad4-ad73-69725339da4a'}),\n",
       "             ('a54c47ae-f211-4b0e-b6bf-b80b30443a9c',\n",
       "              {'title': 'S1B_IW_GRDH_1SDV_20170706T104836_20170706T104901_006366_00B2FE_7FF3',\n",
       "               'link': \"https://scihub.copernicus.eu/dhus/odata/v1/Products('a54c47ae-f211-4b0e-b6bf-b80b30443a9c')/$value\",\n",
       "               'link_alternative': \"https://scihub.copernicus.eu/dhus/odata/v1/Products('a54c47ae-f211-4b0e-b6bf-b80b30443a9c')/\",\n",
       "               'link_icon': \"https://scihub.copernicus.eu/dhus/odata/v1/Products('a54c47ae-f211-4b0e-b6bf-b80b30443a9c')/Products('Quicklook')/$value\",\n",
       "               'summary': 'Date: 2017-07-06T10:48:36.446Z, Instrument: SAR-C SAR, Mode: VV VH, Satellite: Sentinel-1, Size: 1.6 GB',\n",
       "               'ondemand': 'false',\n",
       "               'ingestiondate': datetime.datetime(2017, 7, 6, 13, 42, 7, 558000),\n",
       "               'beginposition': datetime.datetime(2017, 7, 6, 10, 48, 36, 446000),\n",
       "               'endposition': datetime.datetime(2017, 7, 6, 10, 49, 1, 867000),\n",
       "               'missiondatatakeid': 45822,\n",
       "               'orbitnumber': 6366,\n",
       "               'lastorbitnumber': 6366,\n",
       "               'relativeorbitnumber': 40,\n",
       "               'lastrelativeorbitnumber': 40,\n",
       "               'slicenumber': 3,\n",
       "               'acquisitiontype': 'NOMINAL',\n",
       "               'filename': 'S1B_IW_GRDH_1SDV_20170706T104836_20170706T104901_006366_00B2FE_7FF3.SAFE',\n",
       "               'gmlfootprint': '<gml:Polygon srsName=\"http://www.opengis.net/gml/srs/epsg.xml#4326\" xmlns:gml=\"http://www.opengis.net/gml\">\\n   <gml:outerBoundaryIs>\\n      <gml:LinearRing>\\n         <gml:coordinates>39.710926,-69.758995 40.103622,-72.672874 41.629456,-72.350143 41.237782,-69.368782 39.710926,-69.758995</gml:coordinates>\\n      </gml:LinearRing>\\n   </gml:outerBoundaryIs>\\n</gml:Polygon>',\n",
       "               'format': 'SAFE',\n",
       "               'identifier': 'S1B_IW_GRDH_1SDV_20170706T104836_20170706T104901_006366_00B2FE_7FF3',\n",
       "               'instrumentshortname': 'SAR-C SAR',\n",
       "               'sensoroperationalmode': 'IW',\n",
       "               'instrumentname': 'Synthetic Aperture Radar (C-band)',\n",
       "               'swathidentifier': 'IW',\n",
       "               'footprint': 'POLYGON ((-69.758995 39.710926,-72.672874 40.103622,-72.350143 41.629456,-69.368782 41.237782,-69.758995 39.710926))',\n",
       "               'platformidentifier': '2016-025A',\n",
       "               'orbitdirection': 'DESCENDING',\n",
       "               'polarisationmode': 'VV VH',\n",
       "               'productclass': 'S',\n",
       "               'producttype': 'GRD',\n",
       "               'platformname': 'Sentinel-1',\n",
       "               'size': '1.6 GB',\n",
       "               'status': 'ARCHIVED',\n",
       "               'uuid': 'a54c47ae-f211-4b0e-b6bf-b80b30443a9c'}),\n",
       "             ('138a79e4-c0a7-40dc-a757-81fef176d0b7',\n",
       "              {'title': 'S1A_IW_GRDH_1SDV_20170624T224220_20170624T224245_017182_01CA82_856D',\n",
       "               'link': \"https://scihub.copernicus.eu/dhus/odata/v1/Products('138a79e4-c0a7-40dc-a757-81fef176d0b7')/$value\",\n",
       "               'link_alternative': \"https://scihub.copernicus.eu/dhus/odata/v1/Products('138a79e4-c0a7-40dc-a757-81fef176d0b7')/\",\n",
       "               'link_icon': \"https://scihub.copernicus.eu/dhus/odata/v1/Products('138a79e4-c0a7-40dc-a757-81fef176d0b7')/Products('Quicklook')/$value\",\n",
       "               'summary': 'Date: 2017-06-24T22:42:20.089Z, Instrument: SAR-C SAR, Mode: VV VH, Satellite: Sentinel-1, Size: 1.61 GB',\n",
       "               'ondemand': 'false',\n",
       "               'ingestiondate': datetime.datetime(2017, 6, 25, 4, 2, 46, 957000),\n",
       "               'beginposition': datetime.datetime(2017, 6, 24, 22, 42, 20, 89000),\n",
       "               'endposition': datetime.datetime(2017, 6, 24, 22, 42, 45, 87000),\n",
       "               'missiondatatakeid': 117378,\n",
       "               'orbitnumber': 17182,\n",
       "               'lastorbitnumber': 17182,\n",
       "               'relativeorbitnumber': 135,\n",
       "               'lastrelativeorbitnumber': 135,\n",
       "               'slicenumber': 5,\n",
       "               'acquisitiontype': 'NOMINAL',\n",
       "               'filename': 'S1A_IW_GRDH_1SDV_20170624T224220_20170624T224245_017182_01CA82_856D.SAFE',\n",
       "               'gmlfootprint': '<gml:Polygon srsName=\"http://www.opengis.net/gml/srs/epsg.xml#4326\" xmlns:gml=\"http://www.opengis.net/gml\">\\n   <gml:outerBoundaryIs>\\n      <gml:LinearRing>\\n         <gml:coordinates>40.464363,-73.114784 40.865757,-70.096680 39.365078,-69.782570 38.962482,-72.735229 40.464363,-73.114784</gml:coordinates>\\n      </gml:LinearRing>\\n   </gml:outerBoundaryIs>\\n</gml:Polygon>',\n",
       "               'format': 'SAFE',\n",
       "               'identifier': 'S1A_IW_GRDH_1SDV_20170624T224220_20170624T224245_017182_01CA82_856D',\n",
       "               'instrumentshortname': 'SAR-C SAR',\n",
       "               'sensoroperationalmode': 'IW',\n",
       "               'instrumentname': 'Synthetic Aperture Radar (C-band)',\n",
       "               'swathidentifier': 'IW',\n",
       "               'footprint': 'POLYGON ((-73.114784 40.464363,-70.096680 40.865757,-69.782570 39.365078,-72.735229 38.962482,-73.114784 40.464363))',\n",
       "               'platformidentifier': '2014-016A',\n",
       "               'orbitdirection': 'ASCENDING',\n",
       "               'polarisationmode': 'VV VH',\n",
       "               'productclass': 'S',\n",
       "               'producttype': 'GRD',\n",
       "               'platformname': 'Sentinel-1',\n",
       "               'size': '1.61 GB',\n",
       "               'status': 'ARCHIVED',\n",
       "               'uuid': '138a79e4-c0a7-40dc-a757-81fef176d0b7'}),\n",
       "             ('eb114830-e564-4351-9afb-5f2d109a0dba',\n",
       "              {'title': 'S1A_IW_GRDH_1SDV_20170612T224219_20170612T224244_017007_01C52B_7624',\n",
       "               'link': \"https://scihub.copernicus.eu/dhus/odata/v1/Products('eb114830-e564-4351-9afb-5f2d109a0dba')/$value\",\n",
       "               'link_alternative': \"https://scihub.copernicus.eu/dhus/odata/v1/Products('eb114830-e564-4351-9afb-5f2d109a0dba')/\",\n",
       "               'link_icon': \"https://scihub.copernicus.eu/dhus/odata/v1/Products('eb114830-e564-4351-9afb-5f2d109a0dba')/Products('Quicklook')/$value\",\n",
       "               'summary': 'Date: 2017-06-12T22:42:19.348Z, Instrument: SAR-C SAR, Mode: VV VH, Satellite: Sentinel-1, Size: 1.61 GB',\n",
       "               'ondemand': 'false',\n",
       "               'ingestiondate': datetime.datetime(2017, 6, 13, 4, 0, 47, 710000),\n",
       "               'beginposition': datetime.datetime(2017, 6, 12, 22, 42, 19, 348000),\n",
       "               'endposition': datetime.datetime(2017, 6, 12, 22, 42, 44, 347000),\n",
       "               'missiondatatakeid': 116011,\n",
       "               'orbitnumber': 17007,\n",
       "               'lastorbitnumber': 17007,\n",
       "               'relativeorbitnumber': 135,\n",
       "               'lastrelativeorbitnumber': 135,\n",
       "               'slicenumber': 5,\n",
       "               'acquisitiontype': 'NOMINAL',\n",
       "               'filename': 'S1A_IW_GRDH_1SDV_20170612T224219_20170612T224244_017007_01C52B_7624.SAFE',\n",
       "               'gmlfootprint': '<gml:Polygon srsName=\"http://www.opengis.net/gml/srs/epsg.xml#4326\" xmlns:gml=\"http://www.opengis.net/gml\">\\n   <gml:outerBoundaryIs>\\n      <gml:LinearRing>\\n         <gml:coordinates>40.464268,-73.115517 40.865719,-70.097305 39.365044,-69.783165 38.962391,-72.735924 40.464268,-73.115517</gml:coordinates>\\n      </gml:LinearRing>\\n   </gml:outerBoundaryIs>\\n</gml:Polygon>',\n",
       "               'format': 'SAFE',\n",
       "               'identifier': 'S1A_IW_GRDH_1SDV_20170612T224219_20170612T224244_017007_01C52B_7624',\n",
       "               'instrumentshortname': 'SAR-C SAR',\n",
       "               'sensoroperationalmode': 'IW',\n",
       "               'instrumentname': 'Synthetic Aperture Radar (C-band)',\n",
       "               'swathidentifier': 'IW',\n",
       "               'footprint': 'POLYGON ((-73.115517 40.464268,-70.097305 40.865719,-69.783165 39.365044,-72.735924 38.962391,-73.115517 40.464268))',\n",
       "               'platformidentifier': '2014-016A',\n",
       "               'orbitdirection': 'ASCENDING',\n",
       "               'polarisationmode': 'VV VH',\n",
       "               'productclass': 'S',\n",
       "               'producttype': 'GRD',\n",
       "               'platformname': 'Sentinel-1',\n",
       "               'size': '1.61 GB',\n",
       "               'status': 'ARCHIVED',\n",
       "               'uuid': 'eb114830-e564-4351-9afb-5f2d109a0dba'}),\n",
       "             ('54ebf099-d5ff-495e-ac7e-3598b2954512',\n",
       "              {'title': 'S1B_IW_GRDH_1SDV_20170612T104835_20170612T104900_006016_00A8F4_F976',\n",
       "               'link': \"https://scihub.copernicus.eu/dhus/odata/v1/Products('54ebf099-d5ff-495e-ac7e-3598b2954512')/$value\",\n",
       "               'link_alternative': \"https://scihub.copernicus.eu/dhus/odata/v1/Products('54ebf099-d5ff-495e-ac7e-3598b2954512')/\",\n",
       "               'link_icon': \"https://scihub.copernicus.eu/dhus/odata/v1/Products('54ebf099-d5ff-495e-ac7e-3598b2954512')/Products('Quicklook')/$value\",\n",
       "               'summary': 'Date: 2017-06-12T10:48:35.322Z, Instrument: SAR-C SAR, Mode: VV VH, Satellite: Sentinel-1, Size: 1.6 GB',\n",
       "               'ondemand': 'false',\n",
       "               'ingestiondate': datetime.datetime(2017, 6, 12, 13, 44, 17, 567000),\n",
       "               'beginposition': datetime.datetime(2017, 6, 12, 10, 48, 35, 322000),\n",
       "               'endposition': datetime.datetime(2017, 6, 12, 10, 49, 0, 740000),\n",
       "               'missiondatatakeid': 43252,\n",
       "               'orbitnumber': 6016,\n",
       "               'lastorbitnumber': 6016,\n",
       "               'relativeorbitnumber': 40,\n",
       "               'lastrelativeorbitnumber': 40,\n",
       "               'slicenumber': 3,\n",
       "               'acquisitiontype': 'NOMINAL',\n",
       "               'filename': 'S1B_IW_GRDH_1SDV_20170612T104835_20170612T104900_006016_00A8F4_F976.SAFE',\n",
       "               'gmlfootprint': '<gml:Polygon srsName=\"http://www.opengis.net/gml/srs/epsg.xml#4326\" xmlns:gml=\"http://www.opengis.net/gml\">\\n   <gml:outerBoundaryIs>\\n      <gml:LinearRing>\\n         <gml:coordinates>39.711079,-69.759834 40.103783,-72.673714 41.629436,-72.351006 41.237751,-69.369652 39.711079,-69.759834</gml:coordinates>\\n      </gml:LinearRing>\\n   </gml:outerBoundaryIs>\\n</gml:Polygon>',\n",
       "               'format': 'SAFE',\n",
       "               'identifier': 'S1B_IW_GRDH_1SDV_20170612T104835_20170612T104900_006016_00A8F4_F976',\n",
       "               'instrumentshortname': 'SAR-C SAR',\n",
       "               'sensoroperationalmode': 'IW',\n",
       "               'instrumentname': 'Synthetic Aperture Radar (C-band)',\n",
       "               'swathidentifier': 'IW',\n",
       "               'footprint': 'POLYGON ((-69.759834 39.711079,-72.673714 40.103783,-72.351006 41.629436,-69.369652 41.237751,-69.759834 39.711079))',\n",
       "               'platformidentifier': '2016-025A',\n",
       "               'orbitdirection': 'DESCENDING',\n",
       "               'polarisationmode': 'VV VH',\n",
       "               'productclass': 'S',\n",
       "               'producttype': 'GRD',\n",
       "               'platformname': 'Sentinel-1',\n",
       "               'size': '1.6 GB',\n",
       "               'status': 'ARCHIVED',\n",
       "               'uuid': '54ebf099-d5ff-495e-ac7e-3598b2954512'})])"
      ]
     },
     "execution_count": 7,
     "metadata": {},
     "output_type": "execute_result"
    }
   ],
   "source": [
    "in_situ_obs['Pioneer_7']['products']"
   ]
  },
  {
   "cell_type": "code",
   "execution_count": 8,
   "id": "aac2ca09-4c05-47a7-8b27-e5058ad198d0",
   "metadata": {
    "scrolled": true,
    "tags": []
   },
   "outputs": [
    {
     "name": "stdout",
     "output_type": "stream",
     "text": [
      "----------------------------------------\n",
      "/lustre/storeB/project/IT/geout/machine-ocean/data_raw/sentinel/S1A_IW_GRDH_1SDV_20171022T224224_20171022T224249_018932_01FFE8_5D27.SAFE----------------------------------------\n",
      "Mapper: sentinel1_l1Band : 1 DN_VH\n",
      "  dataType: 2\n",
      "  name: DN_VH\n",
      "  SourceBand: 1\n",
      "  SourceFilename: /lustre/storeB/project/IT/geout/machine-ocean/data_raw/sentinel/S1A_IW_GRDH_1SDV_20171022T224224_20171022T224249_018932_01FFE8_5D27.SAFE/measurement/s1a-iw-grd-vh-20171022t224224-20171022t224249-018932-01ffe8-002.tiff\n",
      "Band : 2 DN_VV\n",
      "  dataType: 2\n",
      "  name: DN_VV\n",
      "  SourceBand: 1\n",
      "  SourceFilename: /lustre/storeB/project/IT/geout/machine-ocean/data_raw/sentinel/S1A_IW_GRDH_1SDV_20171022T224224_20171022T224249_018932_01FFE8_5D27.SAFE/measurement/s1a-iw-grd-vv-20171022t224224-20171022t224249-018932-01ffe8-001.tiff\n",
      "Band : 3 sigmaNought_VH\n",
      "  dataType: 7\n",
      "  name: sigmaNought_VH\n",
      "  SourceBand: 1\n",
      "  SourceFilename: /vsimem/VS1GLEJ88L.vrt\n",
      "Band : 4 noise_VH\n",
      "  dataType: 7\n",
      "  name: noise_VH\n",
      "  SourceBand: 1\n",
      "  SourceFilename: /vsimem/MZ5ZFL1IHP.vrt\n",
      "Band : 5 sigmaNought_VV\n",
      "  dataType: 7\n",
      "  name: sigmaNought_VV\n",
      "  SourceBand: 1\n",
      "  SourceFilename: /vsimem/1VM9Y65ZZI.vrt\n",
      "Band : 6 noise_VV\n",
      "  dataType: 7\n",
      "  name: noise_VV\n",
      "  SourceBand: 1\n",
      "  SourceFilename: /vsimem/0H2NTSDJG9.vrt\n",
      "Band : 7 look_direction\n",
      "  colormap: jet\n",
      "  dataType: 6\n",
      "  long_name: Sensor Azimuth Angle\n",
      "  minmax: 0 360\n",
      "  name: look_direction\n",
      "  short_name: sensor_azimuth\n",
      "  SourceBand: 1\n",
      "  SourceFilename: /vsimem/R3I182OY2Y.vrt\n",
      "  standard_name: sensor_azimuth_angle\n",
      "  units: degrees\n",
      "  wkv: sensor_azimuth_angle\n",
      "Band : 8 sigma0_VH\n",
      "  colormap: gray\n",
      "  dataType: 6\n",
      "  long_name: Normalized Radar Cross Section\n",
      "  minmax: 0 0.1\n",
      "  name: sigma0_VH\n",
      "  PixelFunctionType: Sentinel1Calibration\n",
      "  polarization: VH\n",
      "  short_name: sigma0\n",
      "  SourceBand: 1\n",
      "  SourceFilename: /vsimem/XR270AG3D9.vrt\n",
      "  standard_name: surface_backwards_scattering_coefficient_of_radar_wave\n",
      "  suffix: VH\n",
      "  units: m/m\n",
      "  wkv: surface_backwards_scattering_coefficient_of_radar_wave\n",
      "Band : 9 beta0_VH\n",
      "  colormap: gray\n",
      "  dataType: 6\n",
      "  long_name: Reflectivity per unit area in slant range\n",
      "  minmax: 0 0.1\n",
      "  name: beta0_VH\n",
      "  PixelFunctionType: Sentinel1Calibration\n",
      "  polarization: VH\n",
      "  short_name: beta0\n",
      "  SourceBand: 1\n",
      "  SourceFilename: /vsimem/XR270AG3D9.vrt\n",
      "  standard_name: surface_backwards_brightness_coefficient_of_radar_wave\n",
      "  suffix: VH\n",
      "  units: m/m\n",
      "  wkv: surface_backwards_brightness_coefficient_of_radar_wave\n",
      "Band : 10 sigma0_VV\n",
      "  colormap: gray\n",
      "  dataType: 6\n",
      "  long_name: Normalized Radar Cross Section\n",
      "  minmax: 0 0.1\n",
      "  name: sigma0_VV\n",
      "  PixelFunctionType: Sentinel1Calibration\n",
      "  polarization: VV\n",
      "  short_name: sigma0\n",
      "  SourceBand: 2\n",
      "  SourceFilename: /vsimem/XR270AG3D9.vrt\n",
      "  standard_name: surface_backwards_scattering_coefficient_of_radar_wave\n",
      "  suffix: VV\n",
      "  units: m/m\n",
      "  wkv: surface_backwards_scattering_coefficient_of_radar_wave\n",
      "Band : 11 beta0_VV\n",
      "  colormap: gray\n",
      "  dataType: 6\n",
      "  long_name: Reflectivity per unit area in slant range\n",
      "  minmax: 0 0.1\n",
      "  name: beta0_VV\n",
      "  PixelFunctionType: Sentinel1Calibration\n",
      "  polarization: VV\n",
      "  short_name: beta0\n",
      "  SourceBand: 2\n",
      "  SourceFilename: /vsimem/XR270AG3D9.vrt\n",
      "  standard_name: surface_backwards_brightness_coefficient_of_radar_wave\n",
      "  suffix: VV\n",
      "  units: m/m\n",
      "  wkv: surface_backwards_brightness_coefficient_of_radar_wave\n",
      "Band : 12 incidence_angle\n",
      "  colormap: jet\n",
      "  dataType: 7\n",
      "  long_name: Incidence Angle\n",
      "  minmax: 0 90\n",
      "  name: incidence_angle\n",
      "  short_name: incidence_angle\n",
      "  SourceBand: 1\n",
      "  SourceFilename: /vsimem/IZI91HORXG.vrt\n",
      "  standard_name: angle_of_incidence\n",
      "  units: degrees\n",
      "  wkv: angle_of_incidence\n",
      "Band : 13 elevation_angle\n",
      "  dataType: 7\n",
      "  name: elevation_angle\n",
      "  SourceBand: 1\n",
      "  SourceFilename: /vsimem/T46QVOLOU7.vrt\n",
      "  wkv: angle_of_elevation\n",
      "----------------------------------------\n",
      "Domain:[25911 x 16701]\n",
      "----------------------------------------\n",
      "Projection(gcps):\n",
      "GEOGCS[\"WGS 84\",\n",
      "    DATUM[\"WGS_1984\",\n",
      "        SPHEROID[\"WGS 84\",6378137,298.257223563]],\n",
      "    PRIMEM[\"Greenwich\",0],\n",
      "    UNIT[\"degree\",0.0174532925199433]]\n",
      "----------------------------------------\n",
      "Corners (lon, lat):\n",
      "\t (-72.74,  38.96)  (-69.78,  39.36)\n",
      "\t (-73.12,  40.46)  (-70.10,  40.87)\n",
      "\n"
     ]
    }
   ],
   "source": [
    "# (might have to compile some code in Nansat, see warning when importing from nansat)\n",
    "# (in nansat root dir: python setup.py build_ext --inplace)\n",
    "\n",
    "# Install nansat dependency (not found in conda env production-10-2022)\n",
    "#%pip install --user pythesint\n",
    "\n",
    "# if you are running on you own laptop you will also need to do:\n",
    "#!sudo apt-get install libgdal-dev\n",
    "#!pip install --user GDAL==$(gdal-config --version | awk -F'[.]' '{print $1\".\"$2}')\n",
    "\n",
    "# list a SAR product with Nansat\n",
    "n = Nansat(data_dir + \"S1A_IW_GRDH_1SDV_20171022T224224_20171022T224249_018932_01FFE8_5D27.SAFE\")\n",
    "print(n)\n",
    "\n"
   ]
  },
  {
   "cell_type": "code",
   "execution_count": 9,
   "id": "51e4bc46-2d17-4f8e-8f57-0268df0cfc20",
   "metadata": {},
   "outputs": [
    {
     "name": "stdout",
     "output_type": "stream",
     "text": [
      "Variable           Type              Data/Info\n",
      "----------------------------------------------\n",
      "Nansat             type              <class 'nansat.nansat.Nansat'>\n",
      "SentinelAPI        type              <class 'sentinelsat.sentinel.SentinelAPI'>\n",
      "api                SentinelAPI       <sentinelsat.sentinel.Sen<...>object at 0x150a1c330940>\n",
      "b1                 ndarray           16701x25911: 432739611 elems, type `uint16`, 865479222 bytes (825.3853054046631 Mb)\n",
      "data_dir           str               /lustre/storeB/project/IT<...>-ocean/data_raw/sentinel/\n",
      "datetime           module            <module 'datetime' from '<...>b/python3.9/datetime.py'>\n",
      "geojson_to_wkt     function          <function geojson_to_wkt at 0x1509e92023a0>\n",
      "handle             BufferedReader    <_io.BufferedReader name=<...>'products_scihub.pickle'>\n",
      "in_situ_dict       module            <module 'in_situ_dict' fr<...>a_files/in_situ_dict.py'>\n",
      "in_situ_obs        dict              n=18\n",
      "local_api          SentinelAPI       <sentinelsat.sentinel.Sen<...>object at 0x150a1b15ff40>\n",
      "make_path_filter   function          <function make_path_filter at 0x1509e9202af0>\n",
      "n                  Nansat            -------------------------<...>0.46)  (-70.10,  40.87)\\n\n",
      "os                 module            <module 'os' from '/modul<...>022/lib/python3.9/os.py'>\n",
      "pickle             module            <module 'pickle' from '/m<...>lib/python3.9/pickle.py'>\n",
      "plt                module            <module 'matplotlib.pyplo<...>es/matplotlib/pyplot.py'>\n",
      "products_scihub    dict              n=1054\n",
      "pytz               module            <module 'pytz' from '/mod<...>ckages/pytz/__init__.py'>\n",
      "read_geojson       function          <function read_geojson at 0x1509e933d280>\n",
      "sys                module            <module 'sys' (built-in)>\n",
      "time               module            <module 'time' (built-in)>\n",
      "utc_timezone       UTC               UTC\n",
      "wd                 str               /home/paulinast/repos/git<...>e-ocean-satdata/notebooks\n"
     ]
    },
    {
     "data": {
      "image/png": "[encoded data removed]",
      "text/plain": [
       "<Figure size 640x480 with 2 Axes>"
      ]
     },
     "metadata": {},
     "output_type": "display_data"
    }
   ],
   "source": [
    "%matplotlib inline\n",
    "# plot a SAR product with Nansat\n",
    "b1 = n[1]\n",
    "\n",
    "%whos\n",
    "plt.imshow(b1);plt.colorbar()\n",
    "plt.show()\n",
    "\n",
    "# write to file\n",
    "#n.write_figure('map.png', pltshow=True)"
   ]
  },
  {
   "cell_type": "code",
   "execution_count": 10,
   "id": "7b82b9a7-4a4a-4a76-8160-90fe58a8ca93",
   "metadata": {},
   "outputs": [
    {
     "data": {
      "text/plain": [
       "942"
      ]
     },
     "execution_count": 10,
     "metadata": {},
     "output_type": "execute_result"
    }
   ],
   "source": [
    "b1.max()"
   ]
  },
  {
   "cell_type": "code",
   "execution_count": 11,
   "id": "8a3df885-d405-4411-bd73-e48aa070fde3",
   "metadata": {
    "scrolled": true,
    "tags": []
   },
   "outputs": [
    {
     "data": {
      "text/plain": [
       "----------------------------------------\n",
       "/lustre/storeB/project/IT/geout/machine-ocean/data_raw/sentinel/S1A_IW_GRDH_1SDV_20171022T224224_20171022T224249_018932_01FFE8_5D27.SAFE----------------------------------------\n",
       "Mapper: sentinel1_l1Band : 1 DN_VH\n",
       "  dataType: 2\n",
       "  name: DN_VH\n",
       "  SourceBand: 1\n",
       "  SourceFilename: /vsimem/OYGHOEYITM.vrt\n",
       "Band : 2 DN_VV\n",
       "  dataType: 2\n",
       "  name: DN_VV\n",
       "  SourceBand: 2\n",
       "  SourceFilename: /vsimem/OYGHOEYITM.vrt\n",
       "Band : 3 sigmaNought_VH\n",
       "  dataType: 7\n",
       "  name: sigmaNought_VH\n",
       "  SourceBand: 3\n",
       "  SourceFilename: /vsimem/OYGHOEYITM.vrt\n",
       "Band : 4 noise_VH\n",
       "  dataType: 7\n",
       "  name: noise_VH\n",
       "  SourceBand: 4\n",
       "  SourceFilename: /vsimem/OYGHOEYITM.vrt\n",
       "Band : 5 sigmaNought_VV\n",
       "  dataType: 7\n",
       "  name: sigmaNought_VV\n",
       "  SourceBand: 5\n",
       "  SourceFilename: /vsimem/OYGHOEYITM.vrt\n",
       "Band : 6 noise_VV\n",
       "  dataType: 7\n",
       "  name: noise_VV\n",
       "  SourceBand: 6\n",
       "  SourceFilename: /vsimem/OYGHOEYITM.vrt\n",
       "Band : 7 look_direction\n",
       "  colormap: jet\n",
       "  dataType: 6\n",
       "  long_name: Sensor Azimuth Angle\n",
       "  minmax: 0 360\n",
       "  name: look_direction\n",
       "  short_name: sensor_azimuth\n",
       "  SourceBand: 7\n",
       "  SourceFilename: /vsimem/OYGHOEYITM.vrt\n",
       "  standard_name: sensor_azimuth_angle\n",
       "  units: degrees\n",
       "  wkv: sensor_azimuth_angle\n",
       "Band : 8 sigma0_VH\n",
       "  colormap: gray\n",
       "  dataType: 6\n",
       "  long_name: Normalized Radar Cross Section\n",
       "  minmax: 0 0.1\n",
       "  name: sigma0_VH\n",
       "  polarization: VH\n",
       "  short_name: sigma0\n",
       "  SourceBand: 8\n",
       "  SourceFilename: /vsimem/OYGHOEYITM.vrt\n",
       "  standard_name: surface_backwards_scattering_coefficient_of_radar_wave\n",
       "  suffix: VH\n",
       "  units: m/m\n",
       "  wkv: surface_backwards_scattering_coefficient_of_radar_wave\n",
       "Band : 9 beta0_VH\n",
       "  colormap: gray\n",
       "  dataType: 6\n",
       "  long_name: Reflectivity per unit area in slant range\n",
       "  minmax: 0 0.1\n",
       "  name: beta0_VH\n",
       "  polarization: VH\n",
       "  short_name: beta0\n",
       "  SourceBand: 9\n",
       "  SourceFilename: /vsimem/OYGHOEYITM.vrt\n",
       "  standard_name: surface_backwards_brightness_coefficient_of_radar_wave\n",
       "  suffix: VH\n",
       "  units: m/m\n",
       "  wkv: surface_backwards_brightness_coefficient_of_radar_wave\n",
       "Band : 10 sigma0_VV\n",
       "  colormap: gray\n",
       "  dataType: 6\n",
       "  long_name: Normalized Radar Cross Section\n",
       "  minmax: 0 0.1\n",
       "  name: sigma0_VV\n",
       "  polarization: VV\n",
       "  short_name: sigma0\n",
       "  SourceBand: 10\n",
       "  SourceFilename: /vsimem/OYGHOEYITM.vrt\n",
       "  standard_name: surface_backwards_scattering_coefficient_of_radar_wave\n",
       "  suffix: VV\n",
       "  units: m/m\n",
       "  wkv: surface_backwards_scattering_coefficient_of_radar_wave\n",
       "Band : 11 beta0_VV\n",
       "  colormap: gray\n",
       "  dataType: 6\n",
       "  long_name: Reflectivity per unit area in slant range\n",
       "  minmax: 0 0.1\n",
       "  name: beta0_VV\n",
       "  polarization: VV\n",
       "  short_name: beta0\n",
       "  SourceBand: 11\n",
       "  SourceFilename: /vsimem/OYGHOEYITM.vrt\n",
       "  standard_name: surface_backwards_brightness_coefficient_of_radar_wave\n",
       "  suffix: VV\n",
       "  units: m/m\n",
       "  wkv: surface_backwards_brightness_coefficient_of_radar_wave\n",
       "Band : 12 incidence_angle\n",
       "  colormap: jet\n",
       "  dataType: 7\n",
       "  long_name: Incidence Angle\n",
       "  minmax: 0 90\n",
       "  name: incidence_angle\n",
       "  short_name: incidence_angle\n",
       "  SourceBand: 12\n",
       "  SourceFilename: /vsimem/OYGHOEYITM.vrt\n",
       "  standard_name: angle_of_incidence\n",
       "  units: degrees\n",
       "  wkv: angle_of_incidence\n",
       "Band : 13 elevation_angle\n",
       "  dataType: 7\n",
       "  name: elevation_angle\n",
       "  SourceBand: 13\n",
       "  SourceFilename: /vsimem/OYGHOEYITM.vrt\n",
       "  wkv: angle_of_elevation\n",
       "----------------------------------------\n",
       "Domain:[10 x 12]\n",
       "----------------------------------------\n",
       "Projection(gcps):\n",
       "GEOGCS[\"WGS 84\",\n",
       "    DATUM[\"WGS_1984\",\n",
       "        SPHEROID[\"WGS 84\",6378137,298.257223563]],\n",
       "    PRIMEM[\"Greenwich\",0],\n",
       "    UNIT[\"degree\",0.0174532925199433]]\n",
       "----------------------------------------\n",
       "Corners (lon, lat):\n",
       "\t (-70.78,  40.13)  (-70.78,  40.13)\n",
       "\t (-70.78,  40.13)  (-70.78,  40.13)"
      ]
     },
     "execution_count": 11,
     "metadata": {},
     "output_type": "execute_result"
    }
   ],
   "source": [
    "#extent = n.crop_lonlat(lonlim=[-70.77,-70.78], latlim=[40.13,40.14]) \n",
    "epsilon =  0.0005\n",
    "n.crop_lonlat(lonlim=[-70.7785 - epsilon, -70.7785 + epsilon], latlim=[40.1334 - epsilon, 40.1334 + epsilon])\n",
    "n\n",
    "#'lat': [40.1334],\n",
    "#'lon': [-70.7785]"
   ]
  },
  {
   "cell_type": "code",
   "execution_count": 12,
   "id": "f7805178-3947-46cd-a84d-0512104f89fc",
   "metadata": {},
   "outputs": [],
   "source": [
    "lon, lat = n.get_geolocation_grids()"
   ]
  },
  {
   "cell_type": "code",
   "execution_count": 13,
   "id": "0d77c4f7-8ea2-4952-ae25-05a96fcc16ee",
   "metadata": {},
   "outputs": [
    {
     "data": {
      "text/plain": [
       "'VV'"
      ]
     },
     "execution_count": 13,
     "metadata": {},
     "output_type": "execute_result"
    }
   ],
   "source": [
    "try:\n",
    "    band_no = n.get_band_number({\n",
    "        'standard_name': 'surface_backwards_scattering_coefficient_of_radar_wave',\n",
    "        'polarization': 'HH',\n",
    "        'dataType': '6',})\n",
    "except ValueError:\n",
    "    band_no = n.get_band_number({\n",
    "        'standard_name': 'surface_backwards_scattering_coefficient_of_radar_wave',\n",
    "        'polarization': 'VV',\n",
    "        'dataType': '6',})\n",
    "pol = n.get_metadata(key='polarization', band_id=band_no)\n",
    "pol"
   ]
  },
  {
   "cell_type": "code",
   "execution_count": 14,
   "id": "7fe3deb0-4e81-4373-a310-502827c54b5e",
   "metadata": {},
   "outputs": [],
   "source": [
    "# Get NRCS, incidence angle, and sensor azimuth angle\n",
    "s0 = n[band_no]\n",
    "inc = n['incidence_angle']\n",
    "az = n['look_direction']"
   ]
  },
  {
   "cell_type": "markdown",
   "id": "6cc426b5-e267-46f3-a61a-c6c74a3d769d",
   "metadata": {},
   "source": [
    "# Test the normalization function with different crop sizes"
   ]
  },
  {
   "cell_type": "code",
   "execution_count": 15,
   "id": "d72a9cab-ffcd-4b55-8cb9-66d96c40fb00",
   "metadata": {},
   "outputs": [],
   "source": [
    "station_lon = -70.7785\n",
    "station_lat = 40.1334"
   ]
  },
  {
   "cell_type": "markdown",
   "id": "11fa3c94-ff5f-4b1d-9522-fe50d543d93f",
   "metadata": {},
   "source": [
    "## epsilon = 0.00005"
   ]
  },
  {
   "cell_type": "code",
   "execution_count": 16,
   "id": "90a9e354-2bfc-461e-803d-b7b6198654cb",
   "metadata": {},
   "outputs": [
    {
     "name": "stdout",
     "output_type": "stream",
     "text": [
      "CPU times: user 594 ms, sys: 38.3 ms, total: 632 ms\n",
      "Wall time: 652 ms\n"
     ]
    }
   ],
   "source": [
    "%%time\n",
    "\n",
    "sys.path.append(\"..\")\n",
    "import sar\n",
    "\n",
    "# plot a normalize SAR product\n",
    "\n",
    "# this is VERY memory consuming. I ran this on PPI with: qlogin -q bigmem-r8.q -pe mpi 32\n",
    "# bigmem-r8.q queue is pretty busy... this may also run with: qlogin -q research-r8.q (but I have not tested it.. might have to tune mem)\n",
    "\n",
    "s0, inc, az, grid_lons, grid_lats, pol = sar.sar_params(\n",
    "    data_dir + \"S1A_IW_GRDH_1SDV_20171022T224224_20171022T224249_018932_01FFE8_5D27.SAFE\",\n",
    "    station_lon=station_lon,\n",
    "    station_lat=station_lat,\n",
    "    epsilon=0.00005\n",
    ")"
   ]
  },
  {
   "cell_type": "code",
   "execution_count": 17,
   "id": "48e5719b-2966-4a1c-b303-cd54bd1c34a0",
   "metadata": {},
   "outputs": [
    {
     "data": {
      "text/plain": [
       "array([[-15.21855473]])"
      ]
     },
     "execution_count": 17,
     "metadata": {},
     "output_type": "execute_result"
    }
   ],
   "source": [
    "s0"
   ]
  },
  {
   "cell_type": "code",
   "execution_count": 18,
   "id": "71d8662e-878e-4c3a-bc2a-8a5a9afe2d71",
   "metadata": {},
   "outputs": [
    {
     "data": {
      "text/plain": [
       "(12, 10)"
      ]
     },
     "execution_count": 18,
     "metadata": {},
     "output_type": "execute_result"
    }
   ],
   "source": [
    "lon.shape"
   ]
  },
  {
   "cell_type": "code",
   "execution_count": 19,
   "id": "773bf9de-8de8-459e-b0bd-cd29a51159ff",
   "metadata": {},
   "outputs": [
    {
     "data": {
      "text/plain": [
       "array([[40.1327545 , 40.13276934, 40.13278418, 40.13279901, 40.13281385,\n",
       "        40.13282869, 40.13284352, 40.13285836, 40.1328732 , 40.13288803],\n",
       "       [40.1328444 , 40.13285924, 40.13287407, 40.13288891, 40.13290375,\n",
       "        40.13291858, 40.13293342, 40.13294826, 40.13296309, 40.13297793],\n",
       "       [40.13293429, 40.13294913, 40.13296397, 40.13297881, 40.13299364,\n",
       "        40.13300848, 40.13302332, 40.13303815, 40.13305299, 40.13306782],\n",
       "       [40.13302419, 40.13303903, 40.13305386, 40.1330687 , 40.13308354,\n",
       "        40.13309838, 40.13311321, 40.13312805, 40.13314288, 40.13315772],\n",
       "       [40.13311409, 40.13312892, 40.13314376, 40.1331586 , 40.13317343,\n",
       "        40.13318827, 40.13320311, 40.13321794, 40.13323278, 40.13324762],\n",
       "       [40.13320398, 40.13321882, 40.13323366, 40.13324849, 40.13326333,\n",
       "        40.13327817, 40.133293  , 40.13330784, 40.13332268, 40.13333751],\n",
       "       [40.13329388, 40.13330872, 40.13332355, 40.13333839, 40.13335323,\n",
       "        40.13336806, 40.1333829 , 40.13339774, 40.13341257, 40.13342741],\n",
       "       [40.13338377, 40.13339861, 40.13341345, 40.13342829, 40.13344312,\n",
       "        40.13345796, 40.13347279, 40.13348763, 40.13350247, 40.1335173 ],\n",
       "       [40.13347367, 40.13348851, 40.13350334, 40.13351818, 40.13353302,\n",
       "        40.13354785, 40.13356269, 40.13357753, 40.13359236, 40.1336072 ],\n",
       "       [40.13356357, 40.1335784 , 40.13359324, 40.13360808, 40.13362291,\n",
       "        40.13363775, 40.13365259, 40.13366742, 40.13368226, 40.1336971 ],\n",
       "       [40.13365346, 40.1336683 , 40.13368314, 40.13369797, 40.13371281,\n",
       "        40.13372765, 40.13374248, 40.13375732, 40.13377216, 40.13378699],\n",
       "       [40.13374336, 40.13375819, 40.13377303, 40.13378787, 40.13380271,\n",
       "        40.13381754, 40.13383238, 40.13384721, 40.13386205, 40.13387689]])"
      ]
     },
     "execution_count": 19,
     "metadata": {},
     "output_type": "execute_result"
    }
   ],
   "source": [
    "lat"
   ]
  },
  {
   "cell_type": "code",
   "execution_count": 20,
   "id": "82c2e411-5482-4a73-bd3b-7f810114f8a4",
   "metadata": {},
   "outputs": [
    {
     "data": {
      "text/plain": [
       "array([[-70.77893794, -70.7788222 , -70.77870647, -70.77859073,\n",
       "        -70.77847499, -70.77835925, -70.77824352, -70.77812778,\n",
       "        -70.77801204, -70.7778963 ],\n",
       "       [-70.77895786, -70.77884212, -70.77872638, -70.77861065,\n",
       "        -70.77849491, -70.77837917, -70.77826343, -70.7781477 ,\n",
       "        -70.77803196, -70.77791622],\n",
       "       [-70.77897778, -70.77886204, -70.7787463 , -70.77863056,\n",
       "        -70.77851483, -70.77839909, -70.77828335, -70.77816761,\n",
       "        -70.77805187, -70.77793614],\n",
       "       [-70.77899769, -70.77888196, -70.77876622, -70.77865048,\n",
       "        -70.77853474, -70.778419  , -70.77830327, -70.77818753,\n",
       "        -70.77807179, -70.77795605],\n",
       "       [-70.77901761, -70.77890187, -70.77878614, -70.7786704 ,\n",
       "        -70.77855466, -70.77843892, -70.77832318, -70.77820744,\n",
       "        -70.77809171, -70.77797597],\n",
       "       [-70.77903753, -70.77892179, -70.77880605, -70.77869031,\n",
       "        -70.77857458, -70.77845884, -70.7783431 , -70.77822736,\n",
       "        -70.77811162, -70.77799588],\n",
       "       [-70.77905745, -70.77894171, -70.77882597, -70.77871023,\n",
       "        -70.77859449, -70.77847875, -70.77836302, -70.77824728,\n",
       "        -70.77813154, -70.7780158 ],\n",
       "       [-70.77907736, -70.77896163, -70.77884589, -70.77873015,\n",
       "        -70.77861441, -70.77849867, -70.77838293, -70.77826719,\n",
       "        -70.77815146, -70.77803572],\n",
       "       [-70.77909728, -70.77898154, -70.7788658 , -70.77875007,\n",
       "        -70.77863433, -70.77851859, -70.77840285, -70.77828711,\n",
       "        -70.77817137, -70.77805563],\n",
       "       [-70.7791172 , -70.77900146, -70.77888572, -70.77876998,\n",
       "        -70.77865424, -70.77853851, -70.77842277, -70.77830703,\n",
       "        -70.77819129, -70.77807555],\n",
       "       [-70.77913712, -70.77902138, -70.77890564, -70.7787899 ,\n",
       "        -70.77867416, -70.77855842, -70.77844268, -70.77832694,\n",
       "        -70.7782112 , -70.77809547],\n",
       "       [-70.77915703, -70.7790413 , -70.77892556, -70.77880982,\n",
       "        -70.77869408, -70.77857834, -70.7784626 , -70.77834686,\n",
       "        -70.77823112, -70.77811538]])"
      ]
     },
     "execution_count": 20,
     "metadata": {},
     "output_type": "execute_result"
    }
   ],
   "source": [
    "lon"
   ]
  },
  {
   "cell_type": "markdown",
   "id": "70c2e052-3ef5-4946-a8ef-44263939bf77",
   "metadata": {},
   "source": [
    "## epsilon = 0.0005"
   ]
  },
  {
   "cell_type": "code",
   "execution_count": 21,
   "id": "bd49153b-3fbe-4aa8-b07b-6af81331098b",
   "metadata": {},
   "outputs": [
    {
     "name": "stdout",
     "output_type": "stream",
     "text": [
      "CPU times: user 531 ms, sys: 6.22 ms, total: 537 ms\n",
      "Wall time: 554 ms\n"
     ]
    }
   ],
   "source": [
    "%%time\n",
    "\n",
    "sys.path.append(\"..\")\n",
    "import sar\n",
    "\n",
    "# plot a normalize SAR product\n",
    "\n",
    "# this is VERY memory consuming. I ran this on PPI with: qlogin -q bigmem-r8.q -pe mpi 32\n",
    "# bigmem-r8.q queue is pretty busy... this may also run with: qlogin -q research-r8.q (but I have not tested it.. might have to tune mem)\n",
    "\n",
    "s0, inc, az, grid_lons, grid_lats, pol = sar.sar_params(\n",
    "    data_dir + \"S1A_IW_GRDH_1SDV_20171022T224224_20171022T224249_018932_01FFE8_5D27.SAFE\",\n",
    "    station_lon=station_lon,\n",
    "    station_lat=station_lat,\n",
    "    epsilon=0.0005\n",
    ")"
   ]
  },
  {
   "cell_type": "code",
   "execution_count": 22,
   "id": "4b1e46e7-43af-41eb-99a9-85797dad0f7d",
   "metadata": {},
   "outputs": [
    {
     "data": {
      "text/plain": [
       "array([[-13.1782983 , -13.75798055, -14.19240008, -13.36242104,\n",
       "        -14.19192496, -15.83979017, -17.94808647, -16.18693698,\n",
       "        -14.67402129, -14.425549  ],\n",
       "       [-13.00101316, -13.00077559, -13.00053707, -13.17758757,\n",
       "        -13.00006196, -12.50764453, -12.82925299, -14.19121331,\n",
       "        -14.6740223 , -14.93707421],\n",
       "       [-14.42768901, -13.36289723, -14.42721292, -14.93850052,\n",
       "        -12.20825007, -11.18138974, -11.66419872, -13.17663836,\n",
       "        -13.17640082, -12.82854231],\n",
       "       [-14.19287919, -13.55595053, -14.42721393, -13.55547445,\n",
       "        -13.17735107, -12.66558932, -12.99958791, -13.17663937,\n",
       "        -12.06489727, -11.53759636],\n",
       "       [-13.97011522, -13.75798458, -13.0005401 , -12.66606448,\n",
       "        -13.96916498, -15.8397942 , -14.93778891, -12.99935232,\n",
       "        -12.35453489, -12.50669641],\n",
       "       [-15.21950397, -16.56625127, -14.42721595, -13.75751046,\n",
       "        -13.55523891, -15.51794729, -15.83955765, -12.99935333,\n",
       "        -13.36123832, -15.21736598],\n",
       "       [-13.55619112, -14.67569117, -14.67545266, -14.93850455,\n",
       "        -15.21855473, -15.21831718, -13.96869188, -12.66511628,\n",
       "        -12.82878388, -14.19074326],\n",
       "       [-14.42769405, -13.96988163, -14.93874407, -14.93850556,\n",
       "        -14.42674284, -13.96893044, -13.17688   , -13.1766434 ,\n",
       "        -12.82878489, -12.50669943],\n",
       "       [-16.18860795, -14.19264666, -13.36266571, -12.82997366,\n",
       "        -13.36218964, -13.75703837, -13.75680082, -14.4260312 ,\n",
       "        -13.55429173, -12.66464416],\n",
       "       [-15.84098704, -13.96988365, -13.36266672, -13.75751449,\n",
       "        -13.75727693, -15.2183202 , -15.51771377, -13.96845831,\n",
       "        -14.19098383, -14.42555807],\n",
       "       [-14.93922222, -14.93898466, -14.93874709, -15.84027535,\n",
       "        -14.93827102, -14.19169844, -13.17688302, -12.99935837,\n",
       "        -13.55429374, -13.96798328],\n",
       "       [-13.36314481, -13.17807181, -12.83021329, -13.00030959,\n",
       "        -13.75727895, -14.19169944, -13.75680384, -13.17664743,\n",
       "        -13.17640988, -14.1907483 ]])"
      ]
     },
     "execution_count": 22,
     "metadata": {},
     "output_type": "execute_result"
    }
   ],
   "source": [
    "s0"
   ]
  },
  {
   "cell_type": "code",
   "execution_count": 23,
   "id": "0eb2dcb2-a2cc-4213-92aa-792f9058e708",
   "metadata": {},
   "outputs": [
    {
     "data": {
      "text/plain": [
       "(12, 10)"
      ]
     },
     "execution_count": 23,
     "metadata": {},
     "output_type": "execute_result"
    }
   ],
   "source": [
    "lon.shape"
   ]
  },
  {
   "cell_type": "code",
   "execution_count": 24,
   "id": "6e6d1126-6ac5-4560-8461-204e0cca13c2",
   "metadata": {},
   "outputs": [],
   "source": [
    "import numpy as np\n",
    "\n",
    "# Find index of pixel at desired location (input longitude and latitude variables)\n",
    "y_idx = []\n",
    "x_idx = []\n",
    "\n",
    "# something like this?? or do we need something more accurate? \n",
    "abslat = np.abs(lat-station_lat)\n",
    "abslon = np.abs(lon-station_lon)\n",
    "cor = np.maximum(abslon, abslat)\n",
    "([y_idx], [x_idx]) = np.where(cor == np.min(cor))"
   ]
  },
  {
   "cell_type": "code",
   "execution_count": 25,
   "id": "1d328a44-8780-481c-8d8c-3dbcbb151d82",
   "metadata": {},
   "outputs": [
    {
     "data": {
      "text/plain": [
       "6"
      ]
     },
     "execution_count": 25,
     "metadata": {},
     "output_type": "execute_result"
    }
   ],
   "source": [
    "y_idx"
   ]
  },
  {
   "cell_type": "code",
   "execution_count": 26,
   "id": "b2b17264-6fec-4f82-9b35-aa0fb7f4f113",
   "metadata": {},
   "outputs": [
    {
     "data": {
      "text/plain": [
       "5"
      ]
     },
     "execution_count": 26,
     "metadata": {},
     "output_type": "execute_result"
    }
   ],
   "source": [
    "x_idx"
   ]
  },
  {
   "cell_type": "code",
   "execution_count": 27,
   "id": "acab0f04-794f-4693-8ca6-8293b0603350",
   "metadata": {},
   "outputs": [
    {
     "data": {
      "text/plain": [
       "-15.839557652703023"
      ]
     },
     "execution_count": 27,
     "metadata": {},
     "output_type": "execute_result"
    }
   ],
   "source": [
    "s0[x_idx, y_idx]"
   ]
  },
  {
   "cell_type": "code",
   "execution_count": null,
   "id": "f3245940-2c82-4238-ae0a-fb89d3746cd6",
   "metadata": {},
   "outputs": [],
   "source": []
  },
  {
   "cell_type": "markdown",
   "id": "f97aa888-ae17-458b-978e-2052b48ff698",
   "metadata": {},
   "source": [
    "## epsilon = 0.005"
   ]
  },
  {
   "cell_type": "code",
   "execution_count": 28,
   "id": "932c134d-96a8-46ac-b08e-dc06c1caa302",
   "metadata": {},
   "outputs": [
    {
     "name": "stdout",
     "output_type": "stream",
     "text": [
      "CPU times: user 612 ms, sys: 16.8 ms, total: 629 ms\n",
      "Wall time: 647 ms\n"
     ]
    }
   ],
   "source": [
    "%%time\n",
    "\n",
    "sys.path.append(\"..\")\n",
    "import sar\n",
    "\n",
    "# plot a normalize SAR product\n",
    "\n",
    "# this is VERY memory consuming. I ran this on PPI with: qlogin -q bigmem-r8.q -pe mpi 32\n",
    "# bigmem-r8.q queue is pretty busy... this may also run with: qlogin -q research-r8.q (but I have not tested it.. might have to tune mem)\n",
    "\n",
    "s0, inc, az, grid_lons, grid_lats, pol = sar.sar_params(\n",
    "    data_dir + \"S1A_IW_GRDH_1SDV_20171022T224224_20171022T224249_018932_01FFE8_5D27.SAFE\",\n",
    "    station_lon=station_lon,\n",
    "    station_lat=station_lat,\n",
    "    epsilon=0.005\n",
    ")"
   ]
  },
  {
   "cell_type": "code",
   "execution_count": 29,
   "id": "c739289b-5421-4d1e-91cd-9d08d9304ef6",
   "metadata": {},
   "outputs": [
    {
     "data": {
      "text/plain": [
       "(122, 103)"
      ]
     },
     "execution_count": 29,
     "metadata": {},
     "output_type": "execute_result"
    }
   ],
   "source": [
    "s0.shape"
   ]
  },
  {
   "cell_type": "code",
   "execution_count": 30,
   "id": "435e7652-2636-49ec-a5ad-90f5f9deef1c",
   "metadata": {},
   "outputs": [
    {
     "data": {
      "text/plain": [
       "(12, 10)"
      ]
     },
     "execution_count": 30,
     "metadata": {},
     "output_type": "execute_result"
    }
   ],
   "source": [
    "lon.shape"
   ]
  },
  {
   "cell_type": "code",
   "execution_count": 31,
   "id": "58472f18-445f-49de-89ff-b45d48f9c55e",
   "metadata": {},
   "outputs": [],
   "source": [
    "import numpy as np\n",
    "\n",
    "# Find index of pixel at desired location (input longitude and latitude variables)\n",
    "y_idx = []\n",
    "x_idx = []\n",
    "\n",
    "# something like this?? or do we need something more accurate? \n",
    "abslat = np.abs(lat-station_lat)\n",
    "abslon = np.abs(lon-station_lon)\n",
    "cor = np.maximum(abslon, abslat)\n",
    "([y_idx], [x_idx]) = np.where(cor == np.min(cor))"
   ]
  },
  {
   "cell_type": "code",
   "execution_count": 32,
   "id": "54e7f78c-40a3-45dd-9482-b92d28676f7a",
   "metadata": {},
   "outputs": [
    {
     "data": {
      "text/plain": [
       "40.1334"
      ]
     },
     "execution_count": 32,
     "metadata": {},
     "output_type": "execute_result"
    }
   ],
   "source": [
    "station_lat"
   ]
  },
  {
   "cell_type": "code",
   "execution_count": 33,
   "id": "a146afae-59c6-4507-bc6a-6e9523720f90",
   "metadata": {},
   "outputs": [
    {
     "data": {
      "text/plain": [
       "40.1276512729377"
      ]
     },
     "execution_count": 33,
     "metadata": {},
     "output_type": "execute_result"
    }
   ],
   "source": [
    "grid_lats[x_idx, y_idx]"
   ]
  },
  {
   "cell_type": "code",
   "execution_count": 34,
   "id": "5a464a3d-d43a-4bd8-a948-f637d4bf4383",
   "metadata": {},
   "outputs": [
    {
     "data": {
      "text/plain": [
       "40.12766611488924"
      ]
     },
     "execution_count": 34,
     "metadata": {},
     "output_type": "execute_result"
    }
   ],
   "source": [
    "grid_lats[x_idx, y_idx+1]"
   ]
  },
  {
   "cell_type": "code",
   "execution_count": 35,
   "id": "325ce99e-5c37-409d-a9bc-272d084a10e6",
   "metadata": {},
   "outputs": [
    {
     "data": {
      "text/plain": [
       "-70.7785"
      ]
     },
     "execution_count": 35,
     "metadata": {},
     "output_type": "execute_result"
    }
   ],
   "source": [
    "station_lon"
   ]
  },
  {
   "cell_type": "code",
   "execution_count": 36,
   "id": "e6481665-3d85-408e-ac12-e85240d0cd16",
   "metadata": {},
   "outputs": [
    {
     "data": {
      "text/plain": [
       "-14.437380274776201"
      ]
     },
     "execution_count": 36,
     "metadata": {},
     "output_type": "execute_result"
    }
   ],
   "source": [
    "s0[x_idx, y_idx]"
   ]
  },
  {
   "cell_type": "markdown",
   "id": "e8ae66ce-0edc-4445-ad60-5c8d06de30b4",
   "metadata": {},
   "source": [
    "### Check neighbour values"
   ]
  },
  {
   "cell_type": "markdown",
   "id": "ced2bd26-1381-4fae-9b67-ab015f6db324",
   "metadata": {},
   "source": [
    "The differences in the locations are very small, but the values change a lot"
   ]
  },
  {
   "cell_type": "code",
   "execution_count": 37,
   "id": "7eb1ebfe-0bc0-4f62-93aa-4671f7481545",
   "metadata": {},
   "outputs": [
    {
     "data": {
      "text/plain": [
       "-13.76791134087714"
      ]
     },
     "execution_count": 37,
     "metadata": {},
     "output_type": "execute_result"
    }
   ],
   "source": [
    "s0[x_idx-1, y_idx]"
   ]
  },
  {
   "cell_type": "code",
   "execution_count": 38,
   "id": "efa8b474-9008-4289-9772-a826dac2601f",
   "metadata": {},
   "outputs": [
    {
     "data": {
      "text/plain": [
       "-13.010943065837461"
      ]
     },
     "execution_count": 38,
     "metadata": {},
     "output_type": "execute_result"
    }
   ],
   "source": [
    "s0[x_idx-1, y_idx-1]"
   ]
  },
  {
   "cell_type": "code",
   "execution_count": 39,
   "id": "858f1b76-4f3a-4f26-bc46-b36341be5a62",
   "metadata": {},
   "outputs": [
    {
     "data": {
      "text/plain": [
       "-13.565639659111673"
      ]
     },
     "execution_count": 39,
     "metadata": {},
     "output_type": "execute_result"
    }
   ],
   "source": [
    "s0[x_idx-1, y_idx+1]"
   ]
  },
  {
   "cell_type": "code",
   "execution_count": 40,
   "id": "3781ff7d-3eda-4d0e-830b-5f32c167e7e7",
   "metadata": {},
   "outputs": [
    {
     "data": {
      "text/plain": [
       "-14.202569499814809"
      ]
     },
     "execution_count": 40,
     "metadata": {},
     "output_type": "execute_result"
    }
   ],
   "source": [
    "s0[x_idx+1, y_idx]"
   ]
  },
  {
   "cell_type": "code",
   "execution_count": 41,
   "id": "924ab066-8361-4423-a8c5-8f8da094b637",
   "metadata": {},
   "outputs": [
    {
     "data": {
      "text/plain": [
       "-13.566118001831866"
      ]
     },
     "execution_count": 41,
     "metadata": {},
     "output_type": "execute_result"
    }
   ],
   "source": [
    "s0[x_idx+1, y_idx-1]"
   ]
  },
  {
   "cell_type": "code",
   "execution_count": 42,
   "id": "e4b8b52c-933c-4766-8b1f-4409845c8920",
   "metadata": {},
   "outputs": [
    {
     "data": {
      "text/plain": [
       "-15.528587612953059"
      ]
     },
     "execution_count": 42,
     "metadata": {},
     "output_type": "execute_result"
    }
   ],
   "source": [
    "s0[x_idx+1, y_idx +1]"
   ]
  },
  {
   "cell_type": "code",
   "execution_count": 43,
   "id": "f0c9f465-b596-4883-9c66-863ded003b16",
   "metadata": {},
   "outputs": [
    {
     "data": {
      "text/plain": [
       "-13.56611699394726"
      ]
     },
     "execution_count": 43,
     "metadata": {},
     "output_type": "execute_result"
    }
   ],
   "source": [
    "s0[x_idx, y_idx -1]"
   ]
  },
  {
   "cell_type": "code",
   "execution_count": 44,
   "id": "020de1c9-0f12-4d47-bc64-a51986e85f0c",
   "metadata": {},
   "outputs": [
    {
     "data": {
      "text/plain": [
       "-14.202331760421087"
      ]
     },
     "execution_count": 44,
     "metadata": {},
     "output_type": "execute_result"
    }
   ],
   "source": [
    "s0[x_idx, y_idx +1]"
   ]
  },
  {
   "cell_type": "markdown",
   "id": "001febac-8e1a-4251-966e-f6fd67b554e8",
   "metadata": {},
   "source": []
  },
  {
   "cell_type": "markdown",
   "id": "dbba63c0-bbc0-4cc3-beaf-ee5606e1c587",
   "metadata": {},
   "source": [
    "## epsilon = 0.05"
   ]
  },
  {
   "cell_type": "code",
   "execution_count": 45,
   "id": "d2cf3686-7c3f-4103-919b-f8f0925a809c",
   "metadata": {},
   "outputs": [
    {
     "name": "stdout",
     "output_type": "stream",
     "text": [
      "CPU times: user 1.88 s, sys: 103 ms, total: 1.98 s\n",
      "Wall time: 2 s\n"
     ]
    }
   ],
   "source": [
    "%%time\n",
    "\n",
    "sys.path.append(\"..\")\n",
    "import sar\n",
    "\n",
    "# plot a normalize SAR product\n",
    "\n",
    "# this is VERY memory consuming. I ran this on PPI with: qlogin -q bigmem-r8.q -pe mpi 32\n",
    "# bigmem-r8.q queue is pretty busy... this may also run with: qlogin -q research-r8.q (but I have not tested it.. might have to tune mem)\n",
    "\n",
    "s0, inc, az, grid_lons, grid_lats, pol = sar.sar_params(\n",
    "    data_dir + \"S1A_IW_GRDH_1SDV_20171022T224224_20171022T224249_018932_01FFE8_5D27.SAFE\",\n",
    "    station_lon=station_lon,\n",
    "    station_lat=station_lat,\n",
    "    epsilon=0.05\n",
    ")"
   ]
  },
  {
   "cell_type": "code",
   "execution_count": 46,
   "id": "2c813aea-a9fd-45ed-b569-ff776195448f",
   "metadata": {},
   "outputs": [
    {
     "data": {
      "text/plain": [
       "(1220, 1026)"
      ]
     },
     "execution_count": 46,
     "metadata": {},
     "output_type": "execute_result"
    }
   ],
   "source": [
    "s0.shape"
   ]
  },
  {
   "cell_type": "code",
   "execution_count": 47,
   "id": "de5fffbd-535b-41cd-9831-caf0c04260ef",
   "metadata": {},
   "outputs": [
    {
     "data": {
      "text/plain": [
       "(1220, 1026)"
      ]
     },
     "execution_count": 47,
     "metadata": {},
     "output_type": "execute_result"
    }
   ],
   "source": [
    "grid_lons.shape"
   ]
  },
  {
   "cell_type": "code",
   "execution_count": 48,
   "id": "ec3bb35d-0443-4c92-8e2a-3ff8ef9a3bae",
   "metadata": {},
   "outputs": [],
   "source": [
    "import numpy as np\n",
    "\n",
    "# Find index of pixel at desired location (input longitude and latitude variables)\n",
    "y_idx = []\n",
    "x_idx = []\n",
    "\n",
    "# something like this?? or do we need something more accurate? \n",
    "abslat = np.abs(lat-station_lat)\n",
    "abslon = np.abs(lon-station_lon)\n",
    "cor = np.maximum(abslon, abslat)\n",
    "([y_idx], [x_idx]) = np.where(cor == np.min(cor))"
   ]
  },
  {
   "cell_type": "code",
   "execution_count": 49,
   "id": "0a45da24-41ce-4269-9797-49e971a56087",
   "metadata": {},
   "outputs": [
    {
     "data": {
      "text/plain": [
       "40.1334"
      ]
     },
     "execution_count": 49,
     "metadata": {},
     "output_type": "execute_result"
    }
   ],
   "source": [
    "station_lat"
   ]
  },
  {
   "cell_type": "code",
   "execution_count": 50,
   "id": "05079ae6-bf28-4cc9-b160-751285ab85ce",
   "metadata": {},
   "outputs": [
    {
     "data": {
      "text/plain": [
       "40.071427915548064"
      ]
     },
     "execution_count": 50,
     "metadata": {},
     "output_type": "execute_result"
    }
   ],
   "source": [
    "grid_lats[x_idx, y_idx]"
   ]
  },
  {
   "cell_type": "code",
   "execution_count": 51,
   "id": "dee5ac70-0fb7-4eda-827a-b7f7503315b5",
   "metadata": {},
   "outputs": [
    {
     "data": {
      "text/plain": [
       "40.071442811908796"
      ]
     },
     "execution_count": 51,
     "metadata": {},
     "output_type": "execute_result"
    }
   ],
   "source": [
    "grid_lats[x_idx, y_idx+1]"
   ]
  },
  {
   "cell_type": "code",
   "execution_count": 52,
   "id": "d8a1c432-b32a-4310-b7ba-d9b6d8b32608",
   "metadata": {},
   "outputs": [
    {
     "data": {
      "text/plain": [
       "-70.7785"
      ]
     },
     "execution_count": 52,
     "metadata": {},
     "output_type": "execute_result"
    }
   ],
   "source": [
    "station_lon"
   ]
  },
  {
   "cell_type": "code",
   "execution_count": 53,
   "id": "75ddaf87-8387-458b-bdef-137c8675176b",
   "metadata": {},
   "outputs": [
    {
     "data": {
      "text/plain": [
       "-12.186159261629859"
      ]
     },
     "execution_count": 53,
     "metadata": {},
     "output_type": "execute_result"
    }
   ],
   "source": [
    "s0[x_idx, y_idx]"
   ]
  },
  {
   "cell_type": "markdown",
   "id": "a6fe1ef7-1222-460e-aa58-748c0ba62242",
   "metadata": {},
   "source": [
    "### We see that the the latitudes are different when we use different epsilon.\n",
    "### Therefore, we need to use another distance function"
   ]
  },
  {
   "cell_type": "markdown",
   "id": "01c0cfa4-e9c0-459d-a3eb-392b77813c57",
   "metadata": {
    "tags": []
   },
   "source": [
    "## Use another distance function"
   ]
  },
  {
   "cell_type": "code",
   "execution_count": 54,
   "id": "3e46b990-27ee-488a-9ffa-5441f3fdf4ea",
   "metadata": {},
   "outputs": [],
   "source": [
    "x_idx, y_idx = sar.get_idx_of_station_in_cropped_image(grid_lons, grid_lats, station_lat, station_lon)"
   ]
  },
  {
   "cell_type": "code",
   "execution_count": 55,
   "id": "72ac6413-87c6-4548-b629-bd19e01bf337",
   "metadata": {},
   "outputs": [
    {
     "data": {
      "text/plain": [
       "610"
      ]
     },
     "execution_count": 55,
     "metadata": {},
     "output_type": "execute_result"
    }
   ],
   "source": [
    "x_idx"
   ]
  },
  {
   "cell_type": "code",
   "execution_count": 56,
   "id": "7718b5f9-aacb-4999-aac1-c581ec87540d",
   "metadata": {},
   "outputs": [
    {
     "data": {
      "text/plain": [
       "514"
      ]
     },
     "execution_count": 56,
     "metadata": {},
     "output_type": "execute_result"
    }
   ],
   "source": [
    "y_idx"
   ]
  },
  {
   "cell_type": "code",
   "execution_count": 57,
   "id": "47eb6ce8-475f-4a8a-a2b1-f4159f15cac5",
   "metadata": {},
   "outputs": [
    {
     "data": {
      "text/plain": [
       "40.13336806262561"
      ]
     },
     "execution_count": 57,
     "metadata": {},
     "output_type": "execute_result"
    }
   ],
   "source": [
    "grid_lats[x_idx, y_idx]"
   ]
  },
  {
   "cell_type": "code",
   "execution_count": 58,
   "id": "d33d73f7-308d-4b99-a77e-1fd2ba16181e",
   "metadata": {},
   "outputs": [
    {
     "data": {
      "text/plain": [
       "-70.77847875460353"
      ]
     },
     "execution_count": 58,
     "metadata": {},
     "output_type": "execute_result"
    }
   ],
   "source": [
    "grid_lons[x_idx, y_idx]"
   ]
  },
  {
   "cell_type": "code",
   "execution_count": 59,
   "id": "9e1336dc-db81-4491-adba-ccecee106428",
   "metadata": {},
   "outputs": [
    {
     "data": {
      "text/plain": [
       "-15.218317177704465"
      ]
     },
     "execution_count": 59,
     "metadata": {},
     "output_type": "execute_result"
    }
   ],
   "source": [
    "s0[x_idx, y_idx]"
   ]
  },
  {
   "cell_type": "code",
   "execution_count": null,
   "id": "29311783-7f86-4bc4-8259-a25216d34356",
   "metadata": {},
   "outputs": [],
   "source": []
  },
  {
   "cell_type": "code",
   "execution_count": null,
   "id": "cb2c437f-aa08-46e0-b088-814f27410557",
   "metadata": {},
   "outputs": [],
   "source": []
  }
 ],
 "metadata": {
  "kernelspec": {
   "display_name": "Python [conda env:production-10-2022] *",
   "language": "python",
   "name": "conda-env-production-10-2022-py"
  },
  "language_info": {
   "codemirror_mode": {
    "name": "ipython",
    "version": 3
   },
   "file_extension": ".py",
   "mimetype": "text/x-python",
   "name": "python",
   "nbconvert_exporter": "python",
   "pygments_lexer": "ipython3",
   "version": "3.9.13"
  }
 },
 "nbformat": 4,
 "nbformat_minor": 5
}
