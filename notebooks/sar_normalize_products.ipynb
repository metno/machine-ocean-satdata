{
 "cells": [
  {
   "cell_type": "code",
   "execution_count": 1,
   "id": "3d5d14e7-ad56-4666-809d-31cb79eafa6c",
   "metadata": {},
   "outputs": [],
   "source": [
    "import matplotlib.pyplot as plt\n",
    "\n",
    "import sys\n",
    "sys.path.append(\"../../nansat/\")\n",
    "from nansat import Nansat\n",
    "\n",
    "sys.path.append(\"..\")\n",
    "import sar"
   ]
  },
  {
   "cell_type": "code",
   "execution_count": 2,
   "id": "65af194b-56cc-4425-ae6b-e240401b190f",
   "metadata": {},
   "outputs": [],
   "source": [
    "from sentinelsat import SentinelAPI, read_geojson, geojson_to_wkt, make_path_filter\n",
    "\n",
    "local_api = SentinelAPI(None, None, \"https://colhub-archive.met.no\" ,timeout=180)\n",
    "api = SentinelAPI(None, None, \"https://scihub.copernicus.eu/dhus\", timeout=180)\n",
    "\n",
    "data_dir = \"/lustre/storeB/project/IT/geout/machine-ocean/data_raw/sentinel/\""
   ]
  },
  {
   "cell_type": "code",
   "execution_count": 3,
   "id": "f8f07ae4-eee4-4313-aaf6-b2dd7f4d41ee",
   "metadata": {},
   "outputs": [
    {
     "name": "stdout",
     "output_type": "stream",
     "text": [
      "dict_keys(['Endurance_8', 'Irminger_7', 'SPURS2', 'Endurance_4', 'Irminger_6', 'Pioneer_5', 'CLIMODE', 'Endurance_9', 'Pioneer_10', 'SouthernOcean2', 'Endurance_3', 'Pioneer_3', 'SPURS1', 'Endurance_7', 'Irminger_3', 'Pioneer_7', 'Pioneer_6', 'Pioneer_8'])\n"
     ]
    }
   ],
   "source": [
    "# import dict containing metadata for in-situ data\n",
    "# https://raw.githubusercontent.com/jerabaul29/MachineOcean_WP1_WHOI/main/mo_whoi_data/data_files/in_situ_dict.py\n",
    "# from private repo at https://github.com/jerabaul29/MachineOcean_WP1_WHOI\n",
    "import time\n",
    "import os\n",
    "\n",
    "os.environ[\"TZ\"] = \"UTC\"\n",
    "time.tzset()\n",
    "\n",
    "import datetime\n",
    "import pytz\n",
    "\n",
    "utc_timezone = pytz.timezone(\"UTC\")\n",
    "\n",
    "wd = os.getcwd()\n",
    "\n",
    "os.chdir(\"../../MachineOcean_WP1_WHOI/mo_whoi_data/data_files\")\n",
    "\n",
    "import in_situ_dict\n",
    "in_situ_obs = in_situ_dict.get_in_situ_metadata()\n",
    "\n",
    "os.chdir(wd)\n",
    "\n",
    "print(in_situ_obs.keys())"
   ]
  },
  {
   "cell_type": "code",
   "execution_count": 4,
   "id": "0361444f-341a-4c06-a520-7e4bcd6818a2",
   "metadata": {},
   "outputs": [
    {
     "data": {
      "text/plain": [
       "{'datetime_start': datetime.datetime(2017, 6, 9, 13, 11, 0, 17529, tzinfo=<UTC>),\n",
       " 'datetime_end': datetime.datetime(2017, 10, 31, 23, 12, 0, 16778, tzinfo=<UTC>),\n",
       " 'type': 'whoi_buoy',\n",
       " 'lat': [40.1334],\n",
       " 'lon': [-70.7785],\n",
       " 'nc_data_location': 'received, exported from .mat'}"
      ]
     },
     "execution_count": 4,
     "metadata": {},
     "output_type": "execute_result"
    }
   ],
   "source": [
    "in_situ_obs['Pioneer_7']"
   ]
  },
  {
   "cell_type": "code",
   "execution_count": 5,
   "id": "6ed69ae1-2dfa-4af8-8188-2fb06dd54197",
   "metadata": {},
   "outputs": [],
   "source": [
    "##### read pickled imported in-situ measurements metadata with attached colocated Sentinel-1 sat products metadata\n",
    "# (to avoid having to rerun the API search)\n",
    "import pickle\n",
    "\n",
    "with open('in_situ_obs.pickle', 'rb') as handle:\n",
    "    in_situ_obs = pickle.load(handle)\n",
    "\n",
    "with open('products_scihub.pickle', 'rb') as handle:\n",
    "    products_scihub = pickle.load(handle)"
   ]
  },
  {
   "cell_type": "code",
   "execution_count": 6,
   "id": "306be2ec-e16a-4d90-8539-0835ba4db98d",
   "metadata": {},
   "outputs": [
    {
     "data": {
      "text/plain": [
       "dict_keys(['Endurance_8', 'Irminger_7', 'SPURS2', 'Endurance_4', 'Irminger_6', 'Pioneer_5', 'CLIMODE', 'Endurance_9', 'Pioneer_10', 'SouthernOcean2', 'Endurance_3', 'Pioneer_3', 'SPURS1', 'Endurance_7', 'Irminger_3', 'Pioneer_7', 'Pioneer_6', 'Pioneer_8'])"
      ]
     },
     "execution_count": 6,
     "metadata": {},
     "output_type": "execute_result"
    }
   ],
   "source": [
    "in_situ_obs.keys()"
   ]
  },
  {
   "cell_type": "markdown",
   "id": "8237672e-4f91-467c-b655-e9e5435f7744",
   "metadata": {},
   "source": [
    "# Experiments on Endurance"
   ]
  },
  {
   "cell_type": "code",
   "execution_count": 7,
   "id": "f8382bef-6172-4018-bcda-b2e90fb9a883",
   "metadata": {
    "scrolled": true,
    "tags": []
   },
   "outputs": [
    {
     "data": {
      "text/plain": [
       "OrderedDict([('d995afdb-29f3-406f-a0e8-b2e1cf54e4b0',\n",
       "              {'title': 'S1A_IW_GRDH_1SDV_20160918T143013_20160918T143038_013108_014CE4_9241',\n",
       "               'link': \"https://scihub.copernicus.eu/dhus/odata/v1/Products('d995afdb-29f3-406f-a0e8-b2e1cf54e4b0')/$value\",\n",
       "               'link_alternative': \"https://scihub.copernicus.eu/dhus/odata/v1/Products('d995afdb-29f3-406f-a0e8-b2e1cf54e4b0')/\",\n",
       "               'link_icon': \"https://scihub.copernicus.eu/dhus/odata/v1/Products('d995afdb-29f3-406f-a0e8-b2e1cf54e4b0')/Products('Quicklook')/$value\",\n",
       "               'summary': 'Date: 2016-09-18T14:30:13.677Z, Instrument: SAR-C SAR, Mode: VV VH, Satellite: Sentinel-1, Size: 1.58 GB',\n",
       "               'ondemand': 'false',\n",
       "               'ingestiondate': datetime.datetime(2016, 9, 18, 17, 15, 47, 684000),\n",
       "               'beginposition': datetime.datetime(2016, 9, 18, 14, 30, 13, 677000),\n",
       "               'endposition': datetime.datetime(2016, 9, 18, 14, 30, 38, 676000),\n",
       "               'missiondatatakeid': 85220,\n",
       "               'orbitnumber': 13108,\n",
       "               'lastorbitnumber': 13108,\n",
       "               'relativeorbitnumber': 86,\n",
       "               'lastrelativeorbitnumber': 86,\n",
       "               'slicenumber': 4,\n",
       "               'uuid': 'd995afdb-29f3-406f-a0e8-b2e1cf54e4b0',\n",
       "               'acquisitiontype': 'NOMINAL',\n",
       "               'filename': 'S1A_IW_GRDH_1SDV_20160918T143013_20160918T143038_013108_014CE4_9241.SAFE',\n",
       "               'gmlfootprint': '<gml:Polygon srsName=\"http://www.opengis.net/gml/srs/epsg.xml#4326\" xmlns:gml=\"http://www.opengis.net/gml\">\\n   <gml:outerBoundaryIs>\\n      <gml:LinearRing>\\n         <gml:coordinates>44.144539,-124.147842 44.536331,-127.284760 46.034943,-126.952065 45.643188,-123.732040 44.144539,-124.147842</gml:coordinates>\\n      </gml:LinearRing>\\n   </gml:outerBoundaryIs>\\n</gml:Polygon>',\n",
       "               'format': 'SAFE',\n",
       "               'identifier': 'S1A_IW_GRDH_1SDV_20160918T143013_20160918T143038_013108_014CE4_9241',\n",
       "               'instrumentshortname': 'SAR-C SAR',\n",
       "               'sensoroperationalmode': 'IW',\n",
       "               'instrumentname': 'Synthetic Aperture Radar (C-band)',\n",
       "               'swathidentifier': 'IW',\n",
       "               'footprint': 'POLYGON ((-124.147842 44.144539,-127.284760 44.536331,-126.952065 46.034943,-123.732040 45.643188,-124.147842 44.144539))',\n",
       "               'platformidentifier': '2014-016A',\n",
       "               'orbitdirection': 'DESCENDING',\n",
       "               'polarisationmode': 'VV VH',\n",
       "               'productclass': 'S',\n",
       "               'producttype': 'GRD',\n",
       "               'platformname': 'Sentinel-1',\n",
       "               'size': '1.58 GB',\n",
       "               'status': 'ARCHIVED',\n",
       "               'processed': 'F'}),\n",
       "             ('3963ee7d-63a8-47c5-a611-b598ea1117d8',\n",
       "              {'title': 'S1A_IW_GRDH_1SDV_20160913T142210_20160913T142235_013035_014A71_1F7E',\n",
       "               'link': \"https://scihub.copernicus.eu/dhus/odata/v1/Products('3963ee7d-63a8-47c5-a611-b598ea1117d8')/$value\",\n",
       "               'link_alternative': \"https://scihub.copernicus.eu/dhus/odata/v1/Products('3963ee7d-63a8-47c5-a611-b598ea1117d8')/\",\n",
       "               'link_icon': \"https://scihub.copernicus.eu/dhus/odata/v1/Products('3963ee7d-63a8-47c5-a611-b598ea1117d8')/Products('Quicklook')/$value\",\n",
       "               'summary': 'Date: 2016-09-13T14:22:10.083Z, Instrument: SAR-C SAR, Mode: VV VH, Satellite: Sentinel-1, Size: 1.58 GB',\n",
       "               'ondemand': 'false',\n",
       "               'ingestiondate': datetime.datetime(2016, 9, 13, 17, 4, 39, 432000),\n",
       "               'beginposition': datetime.datetime(2016, 9, 13, 14, 22, 10, 83000),\n",
       "               'endposition': datetime.datetime(2016, 9, 13, 14, 22, 35, 83000),\n",
       "               'missiondatatakeid': 84593,\n",
       "               'orbitnumber': 13035,\n",
       "               'lastorbitnumber': 13035,\n",
       "               'relativeorbitnumber': 13,\n",
       "               'lastrelativeorbitnumber': 13,\n",
       "               'slicenumber': 4,\n",
       "               'uuid': '3963ee7d-63a8-47c5-a611-b598ea1117d8',\n",
       "               'acquisitiontype': 'NOMINAL',\n",
       "               'filename': 'S1A_IW_GRDH_1SDV_20160913T142210_20160913T142235_013035_014A71_1F7E.SAFE',\n",
       "               'gmlfootprint': '<gml:Polygon srsName=\"http://www.opengis.net/gml/srs/epsg.xml#4326\" xmlns:gml=\"http://www.opengis.net/gml\">\\n   <gml:outerBoundaryIs>\\n      <gml:LinearRing>\\n         <gml:coordinates>43.528839,-122.272758 43.919525,-125.369804 45.417812,-125.034348 45.027164,-121.856880 43.528839,-122.272758</gml:coordinates>\\n      </gml:LinearRing>\\n   </gml:outerBoundaryIs>\\n</gml:Polygon>',\n",
       "               'format': 'SAFE',\n",
       "               'identifier': 'S1A_IW_GRDH_1SDV_20160913T142210_20160913T142235_013035_014A71_1F7E',\n",
       "               'instrumentshortname': 'SAR-C SAR',\n",
       "               'sensoroperationalmode': 'IW',\n",
       "               'instrumentname': 'Synthetic Aperture Radar (C-band)',\n",
       "               'swathidentifier': 'IW',\n",
       "               'footprint': 'POLYGON ((-122.272758 43.528839,-125.369804 43.919525,-125.034348 45.417812,-121.856880 45.027164,-122.272758 43.528839))',\n",
       "               'platformidentifier': '2014-016A',\n",
       "               'orbitdirection': 'DESCENDING',\n",
       "               'polarisationmode': 'VV VH',\n",
       "               'productclass': 'S',\n",
       "               'producttype': 'GRD',\n",
       "               'platformname': 'Sentinel-1',\n",
       "               'size': '1.58 GB',\n",
       "               'status': 'ARCHIVED',\n",
       "               'processed': 'F'}),\n",
       "             ('cc2374e6-328a-4412-8027-dbf5f2a2f4e1',\n",
       "              {'title': 'S1A_IW_GRDH_1SSV_20160901T142212_20160901T142237_012860_0144D7_F0C2',\n",
       "               'link': \"https://scihub.copernicus.eu/dhus/odata/v1/Products('cc2374e6-328a-4412-8027-dbf5f2a2f4e1')/$value\",\n",
       "               'link_alternative': \"https://scihub.copernicus.eu/dhus/odata/v1/Products('cc2374e6-328a-4412-8027-dbf5f2a2f4e1')/\",\n",
       "               'link_icon': \"https://scihub.copernicus.eu/dhus/odata/v1/Products('cc2374e6-328a-4412-8027-dbf5f2a2f4e1')/Products('Quicklook')/$value\",\n",
       "               'summary': 'Date: 2016-09-01T14:22:12.926Z, Instrument: SAR-C SAR, Mode: VV, Satellite: Sentinel-1, Size: 821.18 MB',\n",
       "               'ondemand': 'false',\n",
       "               'ingestiondate': datetime.datetime(2016, 9, 1, 17, 1, 0, 226000),\n",
       "               'beginposition': datetime.datetime(2016, 9, 1, 14, 22, 12, 926000),\n",
       "               'endposition': datetime.datetime(2016, 9, 1, 14, 22, 37, 925000),\n",
       "               'missiondatatakeid': 83159,\n",
       "               'orbitnumber': 12860,\n",
       "               'lastorbitnumber': 12860,\n",
       "               'relativeorbitnumber': 13,\n",
       "               'lastrelativeorbitnumber': 13,\n",
       "               'slicenumber': 8,\n",
       "               'uuid': 'cc2374e6-328a-4412-8027-dbf5f2a2f4e1',\n",
       "               'acquisitiontype': 'NOMINAL',\n",
       "               'filename': 'S1A_IW_GRDH_1SSV_20160901T142212_20160901T142237_012860_0144D7_F0C2.SAFE',\n",
       "               'gmlfootprint': '<gml:Polygon srsName=\"http://www.opengis.net/gml/srs/epsg.xml#4326\" xmlns:gml=\"http://www.opengis.net/gml\">\\n   <gml:outerBoundaryIs>\\n      <gml:LinearRing>\\n         <gml:coordinates>43.319309,-122.313179 43.715328,-125.443184 45.213970,-125.112442 44.818150,-121.901772 43.319309,-122.313179</gml:coordinates>\\n      </gml:LinearRing>\\n   </gml:outerBoundaryIs>\\n</gml:Polygon>',\n",
       "               'format': 'SAFE',\n",
       "               'identifier': 'S1A_IW_GRDH_1SSV_20160901T142212_20160901T142237_012860_0144D7_F0C2',\n",
       "               'instrumentshortname': 'SAR-C SAR',\n",
       "               'sensoroperationalmode': 'IW',\n",
       "               'instrumentname': 'Synthetic Aperture Radar (C-band)',\n",
       "               'swathidentifier': 'IW',\n",
       "               'footprint': 'POLYGON ((-122.313179 43.319309,-125.443184 43.715328,-125.112442 45.213970,-121.901772 44.818150,-122.313179 43.319309))',\n",
       "               'platformidentifier': '2014-016A',\n",
       "               'orbitdirection': 'DESCENDING',\n",
       "               'polarisationmode': 'VV',\n",
       "               'productclass': 'S',\n",
       "               'producttype': 'GRD',\n",
       "               'platformname': 'Sentinel-1',\n",
       "               'size': '821.18 MB',\n",
       "               'status': 'ARCHIVED',\n",
       "               'processed': 'F'}),\n",
       "             ('8892ece2-b58e-42c4-a5ff-856e615c947e',\n",
       "              {'title': 'S1A_IW_GRDH_1SDV_20160822T020909_20160822T020934_012707_013FB0_55BF',\n",
       "               'link': \"https://scihub.copernicus.eu/dhus/odata/v1/Products('8892ece2-b58e-42c4-a5ff-856e615c947e')/$value\",\n",
       "               'link_alternative': \"https://scihub.copernicus.eu/dhus/odata/v1/Products('8892ece2-b58e-42c4-a5ff-856e615c947e')/\",\n",
       "               'link_icon': \"https://scihub.copernicus.eu/dhus/odata/v1/Products('8892ece2-b58e-42c4-a5ff-856e615c947e')/Products('Quicklook')/$value\",\n",
       "               'summary': 'Date: 2016-08-22T02:09:09.323Z, Instrument: SAR-C SAR, Mode: VV VH, Satellite: Sentinel-1, Size: 1.61 GB',\n",
       "               'ondemand': 'false',\n",
       "               'ingestiondate': datetime.datetime(2016, 8, 22, 7, 31, 33, 640000),\n",
       "               'beginposition': datetime.datetime(2016, 8, 22, 2, 9, 9, 323000),\n",
       "               'endposition': datetime.datetime(2016, 8, 22, 2, 9, 34, 321000),\n",
       "               'missiondatatakeid': 81840,\n",
       "               'orbitnumber': 12707,\n",
       "               'lastorbitnumber': 12707,\n",
       "               'relativeorbitnumber': 35,\n",
       "               'lastrelativeorbitnumber': 35,\n",
       "               'slicenumber': 7,\n",
       "               'uuid': '8892ece2-b58e-42c4-a5ff-856e615c947e',\n",
       "               'acquisitiontype': 'NOMINAL',\n",
       "               'filename': 'S1A_IW_GRDH_1SDV_20160822T020909_20160822T020934_012707_013FB0_55BF.SAFE',\n",
       "               'gmlfootprint': '<gml:Polygon srsName=\"http://www.opengis.net/gml/srs/epsg.xml#4326\" xmlns:gml=\"http://www.opengis.net/gml\">\\n   <gml:outerBoundaryIs>\\n      <gml:LinearRing>\\n         <gml:coordinates>44.589691,-125.632568 44.989109,-122.408524 43.490189,-122.079697 43.090492,-125.223389 44.589691,-125.632568</gml:coordinates>\\n      </gml:LinearRing>\\n   </gml:outerBoundaryIs>\\n</gml:Polygon>',\n",
       "               'format': 'SAFE',\n",
       "               'identifier': 'S1A_IW_GRDH_1SDV_20160822T020909_20160822T020934_012707_013FB0_55BF',\n",
       "               'instrumentshortname': 'SAR-C SAR',\n",
       "               'sensoroperationalmode': 'IW',\n",
       "               'instrumentname': 'Synthetic Aperture Radar (C-band)',\n",
       "               'swathidentifier': 'IW',\n",
       "               'footprint': 'POLYGON ((-125.632568 44.589691,-122.408524 44.989109,-122.079697 43.490189,-125.223389 43.090492,-125.632568 44.589691))',\n",
       "               'platformidentifier': '2014-016A',\n",
       "               'orbitdirection': 'ASCENDING',\n",
       "               'polarisationmode': 'VV VH',\n",
       "               'productclass': 'S',\n",
       "               'producttype': 'GRD',\n",
       "               'platformname': 'Sentinel-1',\n",
       "               'size': '1.61 GB',\n",
       "               'status': 'ARCHIVED',\n",
       "               'processed': 'F'}),\n",
       "             ('7f50965b-e877-4a30-8cf5-59aebd4d0e41',\n",
       "              {'title': 'S1A_IW_GRDH_1SSV_20160808T142211_20160808T142236_012510_013923_5333',\n",
       "               'link': \"https://scihub.copernicus.eu/dhus/odata/v1/Products('7f50965b-e877-4a30-8cf5-59aebd4d0e41')/$value\",\n",
       "               'link_alternative': \"https://scihub.copernicus.eu/dhus/odata/v1/Products('7f50965b-e877-4a30-8cf5-59aebd4d0e41')/\",\n",
       "               'link_icon': \"https://scihub.copernicus.eu/dhus/odata/v1/Products('7f50965b-e877-4a30-8cf5-59aebd4d0e41')/Products('Quicklook')/$value\",\n",
       "               'summary': 'Date: 2016-08-08T14:22:11.993Z, Instrument: SAR-C SAR, Mode: VV, Satellite: Sentinel-1, Size: 821.11 MB',\n",
       "               'ondemand': 'false',\n",
       "               'ingestiondate': datetime.datetime(2016, 8, 8, 17, 10, 8, 970000),\n",
       "               'beginposition': datetime.datetime(2016, 8, 8, 14, 22, 11, 993000),\n",
       "               'endposition': datetime.datetime(2016, 8, 8, 14, 22, 36, 991000),\n",
       "               'missiondatatakeid': 80163,\n",
       "               'orbitnumber': 12510,\n",
       "               'lastorbitnumber': 12510,\n",
       "               'relativeorbitnumber': 13,\n",
       "               'lastrelativeorbitnumber': 13,\n",
       "               'slicenumber': 8,\n",
       "               'uuid': '7f50965b-e877-4a30-8cf5-59aebd4d0e41',\n",
       "               'acquisitiontype': 'NOMINAL',\n",
       "               'filename': 'S1A_IW_GRDH_1SSV_20160808T142211_20160808T142236_012510_013923_5333.SAFE',\n",
       "               'gmlfootprint': '<gml:Polygon srsName=\"http://www.opengis.net/gml/srs/epsg.xml#4326\" xmlns:gml=\"http://www.opengis.net/gml\">\\n   <gml:outerBoundaryIs>\\n      <gml:LinearRing>\\n         <gml:coordinates>43.319305,-122.313904 43.715343,-125.443649 45.213982,-125.112846 44.818138,-121.902435 43.319305,-122.313904</gml:coordinates>\\n      </gml:LinearRing>\\n   </gml:outerBoundaryIs>\\n</gml:Polygon>',\n",
       "               'format': 'SAFE',\n",
       "               'identifier': 'S1A_IW_GRDH_1SSV_20160808T142211_20160808T142236_012510_013923_5333',\n",
       "               'instrumentshortname': 'SAR-C SAR',\n",
       "               'sensoroperationalmode': 'IW',\n",
       "               'instrumentname': 'Synthetic Aperture Radar (C-band)',\n",
       "               'swathidentifier': 'IW',\n",
       "               'footprint': 'POLYGON ((-122.313904 43.319305,-125.443649 43.715343,-125.112846 45.213982,-121.902435 44.818138,-122.313904 43.319305))',\n",
       "               'platformidentifier': '2014-016A',\n",
       "               'orbitdirection': 'DESCENDING',\n",
       "               'polarisationmode': 'VV',\n",
       "               'productclass': 'S',\n",
       "               'producttype': 'GRD',\n",
       "               'platformname': 'Sentinel-1',\n",
       "               'size': '821.11 MB',\n",
       "               'status': 'ARCHIVED',\n",
       "               'processed': 'F'}),\n",
       "             ('6c811dd7-3a1c-4374-8b81-6912474a2bb4',\n",
       "              {'title': 'S1A_IW_GRDH_1SSV_20160729T020924_20160729T020949_012357_013406_F602',\n",
       "               'link': \"https://scihub.copernicus.eu/dhus/odata/v1/Products('6c811dd7-3a1c-4374-8b81-6912474a2bb4')/$value\",\n",
       "               'link_alternative': \"https://scihub.copernicus.eu/dhus/odata/v1/Products('6c811dd7-3a1c-4374-8b81-6912474a2bb4')/\",\n",
       "               'link_icon': \"https://scihub.copernicus.eu/dhus/odata/v1/Products('6c811dd7-3a1c-4374-8b81-6912474a2bb4')/Products('Quicklook')/$value\",\n",
       "               'summary': 'Date: 2016-07-29T02:09:24.796Z, Instrument: SAR-C SAR, Mode: VV, Satellite: Sentinel-1, Size: 829.52 MB',\n",
       "               'ondemand': 'false',\n",
       "               'ingestiondate': datetime.datetime(2016, 7, 29, 23, 12, 25, 752000),\n",
       "               'beginposition': datetime.datetime(2016, 7, 29, 2, 9, 24, 796000),\n",
       "               'endposition': datetime.datetime(2016, 7, 29, 2, 9, 49, 795000),\n",
       "               'missiondatatakeid': 78854,\n",
       "               'orbitnumber': 12357,\n",
       "               'lastorbitnumber': 12357,\n",
       "               'relativeorbitnumber': 35,\n",
       "               'lastrelativeorbitnumber': 35,\n",
       "               'slicenumber': 9,\n",
       "               'uuid': '6c811dd7-3a1c-4374-8b81-6912474a2bb4',\n",
       "               'acquisitiontype': 'NOMINAL',\n",
       "               'filename': 'S1A_IW_GRDH_1SSV_20160729T020924_20160729T020949_012357_013406_F602.SAFE',\n",
       "               'gmlfootprint': '<gml:Polygon srsName=\"http://www.opengis.net/gml/srs/epsg.xml#4326\" xmlns:gml=\"http://www.opengis.net/gml\">\\n   <gml:outerBoundaryIs>\\n      <gml:LinearRing>\\n         <gml:coordinates>45.601967,-125.920303 46.002140,-122.633057 44.503597,-122.300606 44.103397,-125.503098 45.601967,-125.920303</gml:coordinates>\\n      </gml:LinearRing>\\n   </gml:outerBoundaryIs>\\n</gml:Polygon>',\n",
       "               'format': 'SAFE',\n",
       "               'identifier': 'S1A_IW_GRDH_1SSV_20160729T020924_20160729T020949_012357_013406_F602',\n",
       "               'instrumentshortname': 'SAR-C SAR',\n",
       "               'sensoroperationalmode': 'IW',\n",
       "               'instrumentname': 'Synthetic Aperture Radar (C-band)',\n",
       "               'swathidentifier': 'IW',\n",
       "               'footprint': 'POLYGON ((-125.920303 45.601967,-122.633057 46.002140,-122.300606 44.503597,-125.503098 44.103397,-125.920303 45.601967))',\n",
       "               'platformidentifier': '2014-016A',\n",
       "               'orbitdirection': 'ASCENDING',\n",
       "               'polarisationmode': 'VV',\n",
       "               'productclass': 'S',\n",
       "               'producttype': 'GRD',\n",
       "               'platformname': 'Sentinel-1',\n",
       "               'size': '829.52 MB',\n",
       "               'status': 'ARCHIVED',\n",
       "               'processed': 'F'}),\n",
       "             ('65ad67f9-a654-4088-b7f7-16a05af08fe4',\n",
       "              {'title': 'S1A_IW_GRDH_1SSV_20160715T142210_20160715T142235_012160_012D97_9745',\n",
       "               'link': \"https://scihub.copernicus.eu/dhus/odata/v1/Products('65ad67f9-a654-4088-b7f7-16a05af08fe4')/$value\",\n",
       "               'link_alternative': \"https://scihub.copernicus.eu/dhus/odata/v1/Products('65ad67f9-a654-4088-b7f7-16a05af08fe4')/\",\n",
       "               'link_icon': \"https://scihub.copernicus.eu/dhus/odata/v1/Products('65ad67f9-a654-4088-b7f7-16a05af08fe4')/Products('Quicklook')/$value\",\n",
       "               'summary': 'Date: 2016-07-15T14:22:10.548Z, Instrument: SAR-C SAR, Mode: VV, Satellite: Sentinel-1, Size: 821.13 MB',\n",
       "               'ondemand': 'false',\n",
       "               'ingestiondate': datetime.datetime(2016, 7, 15, 17, 8, 11, 299000),\n",
       "               'beginposition': datetime.datetime(2016, 7, 15, 14, 22, 10, 548000),\n",
       "               'endposition': datetime.datetime(2016, 7, 15, 14, 22, 35, 545000),\n",
       "               'missiondatatakeid': 77207,\n",
       "               'orbitnumber': 12160,\n",
       "               'lastorbitnumber': 12160,\n",
       "               'relativeorbitnumber': 13,\n",
       "               'lastrelativeorbitnumber': 13,\n",
       "               'slicenumber': 8,\n",
       "               'uuid': '65ad67f9-a654-4088-b7f7-16a05af08fe4',\n",
       "               'acquisitiontype': 'NOMINAL',\n",
       "               'filename': 'S1A_IW_GRDH_1SSV_20160715T142210_20160715T142235_012160_012D97_9745.SAFE',\n",
       "               'gmlfootprint': '<gml:Polygon srsName=\"http://www.opengis.net/gml/srs/epsg.xml#4326\" xmlns:gml=\"http://www.opengis.net/gml\">\\n   <gml:outerBoundaryIs>\\n      <gml:LinearRing>\\n         <gml:coordinates>43.319344,-122.313118 43.715420,-125.443108 45.213966,-125.112343 44.818089,-121.901688 43.319344,-122.313118</gml:coordinates>\\n      </gml:LinearRing>\\n   </gml:outerBoundaryIs>\\n</gml:Polygon>',\n",
       "               'format': 'SAFE',\n",
       "               'identifier': 'S1A_IW_GRDH_1SSV_20160715T142210_20160715T142235_012160_012D97_9745',\n",
       "               'instrumentshortname': 'SAR-C SAR',\n",
       "               'sensoroperationalmode': 'IW',\n",
       "               'instrumentname': 'Synthetic Aperture Radar (C-band)',\n",
       "               'swathidentifier': 'IW',\n",
       "               'footprint': 'POLYGON ((-122.313118 43.319344,-125.443108 43.715420,-125.112343 45.213966,-121.901688 44.818089,-122.313118 43.319344))',\n",
       "               'platformidentifier': '2014-016A',\n",
       "               'orbitdirection': 'DESCENDING',\n",
       "               'polarisationmode': 'VV',\n",
       "               'productclass': 'S',\n",
       "               'producttype': 'GRD',\n",
       "               'platformname': 'Sentinel-1',\n",
       "               'size': '821.13 MB',\n",
       "               'status': 'ARCHIVED',\n",
       "               'processed': 'F'}),\n",
       "             ('ce01eea0-cfd7-4ddb-9772-15f559a2d575',\n",
       "              {'title': 'S1A_IW_GRDH_1SSV_20160611T020922_20160611T020947_011657_011D78_A02D',\n",
       "               'link': \"https://scihub.copernicus.eu/dhus/odata/v1/Products('ce01eea0-cfd7-4ddb-9772-15f559a2d575')/$value\",\n",
       "               'link_alternative': \"https://scihub.copernicus.eu/dhus/odata/v1/Products('ce01eea0-cfd7-4ddb-9772-15f559a2d575')/\",\n",
       "               'link_icon': \"https://scihub.copernicus.eu/dhus/odata/v1/Products('ce01eea0-cfd7-4ddb-9772-15f559a2d575')/Products('Quicklook')/$value\",\n",
       "               'summary': 'Date: 2016-06-11T02:09:22.24Z, Instrument: SAR-C SAR, Mode: VV, Satellite: Sentinel-1, Size: 829.43 MB',\n",
       "               'ondemand': 'false',\n",
       "               'ingestiondate': datetime.datetime(2016, 6, 11, 16, 46, 17, 252000),\n",
       "               'beginposition': datetime.datetime(2016, 6, 11, 2, 9, 22, 240000),\n",
       "               'endposition': datetime.datetime(2016, 6, 11, 2, 9, 47, 237000),\n",
       "               'missiondatatakeid': 73080,\n",
       "               'orbitnumber': 11657,\n",
       "               'lastorbitnumber': 11657,\n",
       "               'relativeorbitnumber': 35,\n",
       "               'lastrelativeorbitnumber': 35,\n",
       "               'slicenumber': 9,\n",
       "               'uuid': 'ce01eea0-cfd7-4ddb-9772-15f559a2d575',\n",
       "               'acquisitiontype': 'NOMINAL',\n",
       "               'filename': 'S1A_IW_GRDH_1SSV_20160611T020922_20160611T020947_011657_011D78_A02D.SAFE',\n",
       "               'gmlfootprint': '<gml:Polygon srsName=\"http://www.opengis.net/gml/srs/epsg.xml#4326\" xmlns:gml=\"http://www.opengis.net/gml\">\\n   <gml:outerBoundaryIs>\\n      <gml:LinearRing>\\n         <gml:coordinates>45.601875,-125.920639 46.002033,-122.633522 44.503578,-122.301094 44.103394,-125.503464 45.601875,-125.920639</gml:coordinates>\\n      </gml:LinearRing>\\n   </gml:outerBoundaryIs>\\n</gml:Polygon>',\n",
       "               'format': 'SAFE',\n",
       "               'identifier': 'S1A_IW_GRDH_1SSV_20160611T020922_20160611T020947_011657_011D78_A02D',\n",
       "               'instrumentshortname': 'SAR-C SAR',\n",
       "               'sensoroperationalmode': 'IW',\n",
       "               'instrumentname': 'Synthetic Aperture Radar (C-band)',\n",
       "               'swathidentifier': 'IW',\n",
       "               'footprint': 'POLYGON ((-125.920639 45.601875,-122.633522 46.002033,-122.301094 44.503578,-125.503464 44.103394,-125.920639 45.601875))',\n",
       "               'platformidentifier': '0000-000A',\n",
       "               'orbitdirection': 'ASCENDING',\n",
       "               'polarisationmode': 'VV',\n",
       "               'productclass': 'S',\n",
       "               'producttype': 'GRD',\n",
       "               'platformname': 'Sentinel-1',\n",
       "               'size': '829.43 MB',\n",
       "               'status': 'ARCHIVED',\n",
       "               'processed': 'F'}),\n",
       "             ('cc140cdb-71c1-44ca-9562-e074d64c1e46',\n",
       "              {'title': 'S1A_IW_GRDH_1SSV_20160528T142207_20160528T142232_011460_011746_2405',\n",
       "               'link': \"https://scihub.copernicus.eu/dhus/odata/v1/Products('cc140cdb-71c1-44ca-9562-e074d64c1e46')/$value\",\n",
       "               'link_alternative': \"https://scihub.copernicus.eu/dhus/odata/v1/Products('cc140cdb-71c1-44ca-9562-e074d64c1e46')/\",\n",
       "               'link_icon': \"https://scihub.copernicus.eu/dhus/odata/v1/Products('cc140cdb-71c1-44ca-9562-e074d64c1e46')/Products('Quicklook')/$value\",\n",
       "               'summary': 'Date: 2016-05-28T14:22:07.915Z, Instrument: SAR-C SAR, Mode: VV, Satellite: Sentinel-1, Size: 821.15 MB',\n",
       "               'ondemand': 'false',\n",
       "               'ingestiondate': datetime.datetime(2016, 5, 28, 18, 11, 3, 880000),\n",
       "               'beginposition': datetime.datetime(2016, 5, 28, 14, 22, 7, 915000),\n",
       "               'endposition': datetime.datetime(2016, 5, 28, 14, 22, 32, 914000),\n",
       "               'missiondatatakeid': 71494,\n",
       "               'orbitnumber': 11460,\n",
       "               'lastorbitnumber': 11460,\n",
       "               'relativeorbitnumber': 13,\n",
       "               'lastrelativeorbitnumber': 13,\n",
       "               'slicenumber': 8,\n",
       "               'uuid': 'cc140cdb-71c1-44ca-9562-e074d64c1e46',\n",
       "               'acquisitiontype': 'NOMINAL',\n",
       "               'filename': 'S1A_IW_GRDH_1SSV_20160528T142207_20160528T142232_011460_011746_2405.SAFE',\n",
       "               'gmlfootprint': '<gml:Polygon srsName=\"http://www.opengis.net/gml/srs/epsg.xml#4326\" xmlns:gml=\"http://www.opengis.net/gml\">\\n   <gml:outerBoundaryIs>\\n      <gml:LinearRing>\\n         <gml:coordinates>43.319347,-122.313652 43.715408,-125.443520 45.214043,-125.112717 44.818176,-121.902176 43.319347,-122.313652</gml:coordinates>\\n      </gml:LinearRing>\\n   </gml:outerBoundaryIs>\\n</gml:Polygon>',\n",
       "               'format': 'SAFE',\n",
       "               'identifier': 'S1A_IW_GRDH_1SSV_20160528T142207_20160528T142232_011460_011746_2405',\n",
       "               'instrumentshortname': 'SAR-C SAR',\n",
       "               'sensoroperationalmode': 'IW',\n",
       "               'instrumentname': 'Synthetic Aperture Radar (C-band)',\n",
       "               'swathidentifier': 'IW',\n",
       "               'footprint': 'POLYGON ((-122.313652 43.319347,-125.443520 43.715408,-125.112717 45.214043,-121.902176 44.818176,-122.313652 43.319347))',\n",
       "               'platformidentifier': '0000-000A',\n",
       "               'orbitdirection': 'DESCENDING',\n",
       "               'polarisationmode': 'VV',\n",
       "               'productclass': 'S',\n",
       "               'producttype': 'GRD',\n",
       "               'platformname': 'Sentinel-1',\n",
       "               'size': '821.15 MB',\n",
       "               'status': 'ARCHIVED',\n",
       "               'processed': 'F'}),\n",
       "             ('1b2b3f6c-15bc-4467-a6fb-946f30922132',\n",
       "              {'title': 'S1A_IW_GRDH_1SSV_20160518T020920_20160518T020945_011307_011247_5A05',\n",
       "               'link': \"https://scihub.copernicus.eu/dhus/odata/v1/Products('1b2b3f6c-15bc-4467-a6fb-946f30922132')/$value\",\n",
       "               'link_alternative': \"https://scihub.copernicus.eu/dhus/odata/v1/Products('1b2b3f6c-15bc-4467-a6fb-946f30922132')/\",\n",
       "               'link_icon': \"https://scihub.copernicus.eu/dhus/odata/v1/Products('1b2b3f6c-15bc-4467-a6fb-946f30922132')/Products('Quicklook')/$value\",\n",
       "               'summary': 'Date: 2016-05-18T02:09:20.753Z, Instrument: SAR-C SAR, Mode: VV, Satellite: Sentinel-1, Size: 829.49 MB',\n",
       "               'ondemand': 'false',\n",
       "               'ingestiondate': datetime.datetime(2016, 5, 18, 8, 3, 51, 65000),\n",
       "               'beginposition': datetime.datetime(2016, 5, 18, 2, 9, 20, 753000),\n",
       "               'endposition': datetime.datetime(2016, 5, 18, 2, 9, 45, 751000),\n",
       "               'missiondatatakeid': 70215,\n",
       "               'orbitnumber': 11307,\n",
       "               'lastorbitnumber': 11307,\n",
       "               'relativeorbitnumber': 35,\n",
       "               'lastrelativeorbitnumber': 35,\n",
       "               'slicenumber': 9,\n",
       "               'uuid': '1b2b3f6c-15bc-4467-a6fb-946f30922132',\n",
       "               'acquisitiontype': 'NOMINAL',\n",
       "               'filename': 'S1A_IW_GRDH_1SSV_20160518T020920_20160518T020945_011307_011247_5A05.SAFE',\n",
       "               'gmlfootprint': '<gml:Polygon srsName=\"http://www.opengis.net/gml/srs/epsg.xml#4326\" xmlns:gml=\"http://www.opengis.net/gml\">\\n   <gml:outerBoundaryIs>\\n      <gml:LinearRing>\\n         <gml:coordinates>45.602005,-125.919472 46.002121,-122.632347 44.503574,-122.299934 44.103428,-125.502312 45.602005,-125.919472</gml:coordinates>\\n      </gml:LinearRing>\\n   </gml:outerBoundaryIs>\\n</gml:Polygon>',\n",
       "               'format': 'SAFE',\n",
       "               'identifier': 'S1A_IW_GRDH_1SSV_20160518T020920_20160518T020945_011307_011247_5A05',\n",
       "               'instrumentshortname': 'SAR-C SAR',\n",
       "               'sensoroperationalmode': 'IW',\n",
       "               'instrumentname': 'Synthetic Aperture Radar (C-band)',\n",
       "               'swathidentifier': 'IW',\n",
       "               'footprint': 'POLYGON ((-125.919472 45.602005,-122.632347 46.002121,-122.299934 44.503574,-125.502312 44.103428,-125.919472 45.602005))',\n",
       "               'platformidentifier': '0000-000A',\n",
       "               'orbitdirection': 'ASCENDING',\n",
       "               'polarisationmode': 'VV',\n",
       "               'productclass': 'S',\n",
       "               'producttype': 'GRD',\n",
       "               'platformname': 'Sentinel-1',\n",
       "               'size': '829.49 MB',\n",
       "               'status': 'ARCHIVED',\n",
       "               'processed': 'F'})])"
      ]
     },
     "execution_count": 7,
     "metadata": {},
     "output_type": "execute_result"
    }
   ],
   "source": [
    "in_situ_obs['Endurance_3']['products']"
   ]
  },
  {
   "cell_type": "code",
   "execution_count": 8,
   "id": "e999b675-c098-4cd1-ad98-74fe81a52ac8",
   "metadata": {},
   "outputs": [],
   "source": [
    "fname = 'S1A_IW_GRDH_1SDV_20160918T143013_20160918T143038_013108_014CE4_9241.SAFE'"
   ]
  },
  {
   "cell_type": "code",
   "execution_count": 9,
   "id": "944b0615-fc9b-4d72-9fad-2d594ce158fe",
   "metadata": {},
   "outputs": [
    {
     "data": {
      "text/plain": [
       "44.6393"
      ]
     },
     "execution_count": 9,
     "metadata": {},
     "output_type": "execute_result"
    }
   ],
   "source": [
    "lat = in_situ_obs['Endurance_3']['lat'][0]\n",
    "lat"
   ]
  },
  {
   "cell_type": "code",
   "execution_count": 10,
   "id": "6acf5ac1-b2e4-4ab2-ab70-20f8d1d635f8",
   "metadata": {},
   "outputs": [
    {
     "data": {
      "text/plain": [
       "-124.304"
      ]
     },
     "execution_count": 10,
     "metadata": {},
     "output_type": "execute_result"
    }
   ],
   "source": [
    "lon = in_situ_obs['Endurance_3']['lon'][0]\n",
    "lon"
   ]
  },
  {
   "cell_type": "markdown",
   "id": "d035c741-b0d1-4013-9185-5748b2ecb24b",
   "metadata": {},
   "source": [
    "## Load product"
   ]
  },
  {
   "cell_type": "code",
   "execution_count": 11,
   "id": "77623024-9fdf-4b55-9f2e-20563c47aba6",
   "metadata": {},
   "outputs": [],
   "source": [
    "n = Nansat(data_dir + fname)"
   ]
  },
  {
   "cell_type": "code",
   "execution_count": 12,
   "id": "ff4717b3-6efb-410e-89ff-ebe28fb11a98",
   "metadata": {
    "scrolled": true,
    "tags": []
   },
   "outputs": [
    {
     "data": {
      "text/plain": [
       "(array([-123.73179473, -124.14808758, -126.95166136, -127.28485376]),\n",
       " array([45.64333992, 44.14426782, 46.0351342 , 44.53608917]))"
      ]
     },
     "execution_count": 12,
     "metadata": {},
     "output_type": "execute_result"
    }
   ],
   "source": [
    "n.get_corners()"
   ]
  },
  {
   "cell_type": "markdown",
   "id": "424a46d6-6669-4289-8934-52bc4e8b4f1d",
   "metadata": {
    "jp-MarkdownHeadingCollapsed": true,
    "tags": []
   },
   "source": [
    "## Crop product\n",
    "\n",
    "## Works but cannot control the corners!"
   ]
  },
  {
   "cell_type": "markdown",
   "id": "77ec2a85-ad07-449e-a23a-8e11b9cc17cf",
   "metadata": {},
   "source": [
    "### a)"
   ]
  },
  {
   "cell_type": "code",
   "execution_count": 13,
   "id": "f5df6783-eba5-4b20-a1c1-e451e12f9276",
   "metadata": {},
   "outputs": [],
   "source": [
    "epsilon = 0.05"
   ]
  },
  {
   "cell_type": "code",
   "execution_count": 14,
   "id": "19ecf903-db5d-4ab3-b315-b158c3f3c1ec",
   "metadata": {},
   "outputs": [],
   "source": [
    "extent = sar.crop_sar_data(n, lon, lat, epsilon)"
   ]
  },
  {
   "cell_type": "code",
   "execution_count": 15,
   "id": "3909b529-9673-4575-968c-3ea22deac287",
   "metadata": {
    "scrolled": true,
    "tags": []
   },
   "outputs": [
    {
     "data": {
      "text/plain": [
       "(array([-124.22758393, -124.25746094, -124.35029898, -124.37993915]),\n",
       " array([44.68568896, 44.57613339, 44.70237624, 44.59282289]))"
      ]
     },
     "execution_count": 15,
     "metadata": {},
     "output_type": "execute_result"
    }
   ],
   "source": [
    "n.get_corners()"
   ]
  },
  {
   "cell_type": "markdown",
   "id": "594291bb-b863-4df4-aa06-8cf4dd43f38d",
   "metadata": {},
   "source": [
    "### Is it inside the lat/lon limits?\n",
    "\n",
    "### No - corners outside the limits"
   ]
  },
  {
   "cell_type": "code",
   "execution_count": 16,
   "id": "bfabc9b3-bd0f-438a-9806-fa94ed94b60c",
   "metadata": {},
   "outputs": [
    {
     "data": {
      "text/plain": [
       "[-124.354, -124.254]"
      ]
     },
     "execution_count": 16,
     "metadata": {},
     "output_type": "execute_result"
    }
   ],
   "source": [
    "lonlim=[lon - epsilon, lon + epsilon]\n",
    "lonlim"
   ]
  },
  {
   "cell_type": "code",
   "execution_count": 17,
   "id": "2ac2e433-5da9-45dc-826f-e9acb48b1b78",
   "metadata": {},
   "outputs": [
    {
     "data": {
      "text/plain": [
       "[44.5893, 44.689299999999996]"
      ]
     },
     "execution_count": 17,
     "metadata": {},
     "output_type": "execute_result"
    }
   ],
   "source": [
    "latlim=[lat - epsilon, lat + epsilon]\n",
    "latlim"
   ]
  },
  {
   "cell_type": "code",
   "execution_count": 18,
   "id": "e9f1cced-ea21-43c1-8d71-148a61630274",
   "metadata": {},
   "outputs": [],
   "source": [
    "lons, lats = n.get_corners()"
   ]
  },
  {
   "cell_type": "code",
   "execution_count": 19,
   "id": "45bca981-276d-4e0f-ac4f-724fa921af31",
   "metadata": {},
   "outputs": [
    {
     "data": {
      "text/plain": [
       "(-124.379939147211, 44.57613339386014, -124.2275839327008, 44.70237624339955)"
      ]
     },
     "execution_count": 19,
     "metadata": {},
     "output_type": "execute_result"
    }
   ],
   "source": [
    "(min(lons), min(lats), max(lons), max(lats))"
   ]
  },
  {
   "cell_type": "code",
   "execution_count": 20,
   "id": "f4ba5bd6-6751-4aec-a983-7488f12c3ae0",
   "metadata": {},
   "outputs": [
    {
     "data": {
      "text/plain": [
       "(10.16357559530454, 9.969262476095434)"
      ]
     },
     "execution_count": 20,
     "metadata": {},
     "output_type": "execute_result"
    }
   ],
   "source": [
    "n.get_pixelsize_meters()"
   ]
  },
  {
   "cell_type": "code",
   "execution_count": 21,
   "id": "06f12a91-6ed2-4b76-b9b6-25fc8a907936",
   "metadata": {},
   "outputs": [],
   "source": [
    "# (x_offset, y_offset, x_size, y_size)"
   ]
  },
  {
   "cell_type": "code",
   "execution_count": 22,
   "id": "9bebcf98-c6ea-4a60-888a-4753b5b8acbc",
   "metadata": {},
   "outputs": [
    {
     "data": {
      "text/plain": [
       "(1, 0, 989, 1220)"
      ]
     },
     "execution_count": 22,
     "metadata": {},
     "output_type": "execute_result"
    }
   ],
   "source": [
    "n.crop_lonlat(lonlim=lonlim, latlim=latlim)"
   ]
  },
  {
   "cell_type": "code",
   "execution_count": null,
   "id": "7e0edafb-4a9e-4e80-bc0f-aa59da9b6753",
   "metadata": {},
   "outputs": [],
   "source": []
  },
  {
   "cell_type": "markdown",
   "id": "1815a1e6-beb3-48e8-b082-e9ddf2f159b9",
   "metadata": {},
   "source": [
    "### b)"
   ]
  },
  {
   "cell_type": "code",
   "execution_count": 23,
   "id": "35d07fff-2a13-48f0-aeda-89886d09b07b",
   "metadata": {},
   "outputs": [],
   "source": [
    "epsilon = 0.0005"
   ]
  },
  {
   "cell_type": "code",
   "execution_count": 24,
   "id": "04aa8630-a8dc-4172-9ef6-2d08c9a0b3a6",
   "metadata": {},
   "outputs": [],
   "source": [
    "n = Nansat(data_dir + fname)"
   ]
  },
  {
   "cell_type": "code",
   "execution_count": 25,
   "id": "d28300e1-f864-4b88-90f4-d0b8a0c82cdf",
   "metadata": {},
   "outputs": [
    {
     "data": {
      "text/plain": [
       "(2271, 11608, 10, 12)"
      ]
     },
     "execution_count": 25,
     "metadata": {},
     "output_type": "execute_result"
    }
   ],
   "source": [
    "sar.crop_sar_data(n, lon, lat, epsilon)"
   ]
  },
  {
   "cell_type": "code",
   "execution_count": 26,
   "id": "225bae93-5b4b-46c1-8b20-4fe8092cf7ab",
   "metadata": {
    "scrolled": true,
    "tags": []
   },
   "outputs": [
    {
     "data": {
      "text/plain": [
       "(array([-124.30317635, -124.30346907, -124.30441471, -124.3047074 ]),\n",
       " array([44.63974379, 44.63866619, 44.63991235, 44.63883475]))"
      ]
     },
     "execution_count": 26,
     "metadata": {},
     "output_type": "execute_result"
    }
   ],
   "source": [
    "n.get_corners()"
   ]
  },
  {
   "cell_type": "markdown",
   "id": "8746968f-dac8-483a-9370-87de90dd3779",
   "metadata": {},
   "source": [
    "### c)"
   ]
  },
  {
   "cell_type": "markdown",
   "id": "3d953709-8af5-466f-b28d-189fb75c1b12",
   "metadata": {},
   "source": [
    "#### This is the smalles epsilon that works"
   ]
  },
  {
   "cell_type": "code",
   "execution_count": 27,
   "id": "0c45fa26-2fc1-43f4-9ca1-1f1278e816a6",
   "metadata": {},
   "outputs": [],
   "source": [
    "epsilon = 0.00005"
   ]
  },
  {
   "cell_type": "code",
   "execution_count": 28,
   "id": "68e83e07-4f12-4b9a-9e61-ab761194777d",
   "metadata": {},
   "outputs": [],
   "source": [
    "n = Nansat(data_dir + fname)"
   ]
  },
  {
   "cell_type": "code",
   "execution_count": 29,
   "id": "be947e6f-08bf-4d5a-9d8e-e56cc1fee146",
   "metadata": {},
   "outputs": [
    {
     "data": {
      "text/plain": [
       "(2275, 11614, 1, 1)"
      ]
     },
     "execution_count": 29,
     "metadata": {},
     "output_type": "execute_result"
    }
   ],
   "source": [
    "sar.crop_sar_data(n, lon, lat, epsilon)"
   ]
  },
  {
   "cell_type": "code",
   "execution_count": 30,
   "id": "3ba92aa1-b8f8-489f-ab62-386c31e97178",
   "metadata": {
    "scrolled": true,
    "tags": []
   },
   "outputs": [
    {
     "data": {
      "text/plain": [
       "(array([-124.30381805, -124.30384244, -124.30394188, -124.30396627]),\n",
       " array([44.63927241, 44.63918262, 44.63928927, 44.63919947]))"
      ]
     },
     "execution_count": 30,
     "metadata": {},
     "output_type": "execute_result"
    }
   ],
   "source": [
    "n.get_corners()"
   ]
  },
  {
   "cell_type": "code",
   "execution_count": null,
   "id": "e2f23980-e3ce-43b4-b7cc-8f71babe5dad",
   "metadata": {},
   "outputs": [],
   "source": []
  },
  {
   "cell_type": "markdown",
   "id": "6b81f28b-224b-41b1-a7a2-caa91628dc13",
   "metadata": {},
   "source": [
    "### What if I use another product? Do I get the same corners?\n",
    "\n",
    "### No - probably because the image is tilted"
   ]
  },
  {
   "cell_type": "code",
   "execution_count": 31,
   "id": "c52b6f49-77d5-448d-ba85-2b99f27dc87a",
   "metadata": {},
   "outputs": [],
   "source": [
    "fname2 = 'S1A_IW_GRDH_1SDV_20160913T142210_20160913T142235_013035_014A71_1F7E.SAFE'"
   ]
  },
  {
   "cell_type": "code",
   "execution_count": 32,
   "id": "c9f144a8-ff41-4bbb-bb78-a2df2716ac48",
   "metadata": {},
   "outputs": [],
   "source": [
    "n2 = Nansat(data_dir + fname2)"
   ]
  },
  {
   "cell_type": "code",
   "execution_count": 33,
   "id": "8e781d93-eee5-4d9b-a9cf-41acf2d99e93",
   "metadata": {
    "scrolled": true,
    "tags": []
   },
   "outputs": [
    {
     "data": {
      "text/plain": [
       "(array([-121.85589143, -122.26912943, -125.03419407, -125.36737697]),\n",
       " array([45.02719571, 43.52801979, 45.41803194, 43.919014  ]))"
      ]
     },
     "execution_count": 33,
     "metadata": {},
     "output_type": "execute_result"
    }
   ],
   "source": [
    "n2.get_corners()"
   ]
  },
  {
   "cell_type": "code",
   "execution_count": 34,
   "id": "c2052fdd-1d33-43b4-a3b7-25ada761b4a8",
   "metadata": {},
   "outputs": [],
   "source": [
    "epsilon = 0.05"
   ]
  },
  {
   "cell_type": "code",
   "execution_count": 35,
   "id": "1937c859-79cf-4cf6-a4b5-35d6c420e2f8",
   "metadata": {},
   "outputs": [
    {
     "data": {
      "text/plain": [
       "(17781, 6950, 967, 1211)"
      ]
     },
     "execution_count": 35,
     "metadata": {},
     "output_type": "execute_result"
    }
   ],
   "source": [
    "sar.crop_sar_data(n2, lon, lat, epsilon)"
   ]
  },
  {
   "cell_type": "code",
   "execution_count": 36,
   "id": "ab0d684f-3f46-4c83-86b8-99a6c3215715",
   "metadata": {},
   "outputs": [
    {
     "data": {
      "text/plain": [
       "(array([-124.23083755, -124.25672235, -124.35123294, -124.37689611]),\n",
       " array([44.68652005, 44.57780005, 44.70071553, 44.59199596]))"
      ]
     },
     "execution_count": 36,
     "metadata": {},
     "output_type": "execute_result"
    }
   ],
   "source": [
    "n2.get_corners()"
   ]
  },
  {
   "cell_type": "code",
   "execution_count": 37,
   "id": "f7797c43-3914-4312-be08-e5de920371de",
   "metadata": {},
   "outputs": [
    {
     "name": "stderr",
     "output_type": "stream",
     "text": [
      "11:14:58|40|nansat|crop|WARNING! Cropping region is larger or equal to image!\n"
     ]
    },
    {
     "data": {
      "text/plain": [
       "(0, 0, 967, 1211)"
      ]
     },
     "execution_count": 37,
     "metadata": {},
     "output_type": "execute_result"
    }
   ],
   "source": [
    "n2.crop_lonlat(lonlim=lonlim, latlim=latlim)"
   ]
  },
  {
   "cell_type": "code",
   "execution_count": null,
   "id": "ec46c1e4-05a3-4467-894f-5417fbca65ef",
   "metadata": {},
   "outputs": [],
   "source": []
  },
  {
   "cell_type": "markdown",
   "id": "ac08b782-64e4-4eaf-82fe-8c52922734ef",
   "metadata": {
    "jp-MarkdownHeadingCollapsed": true,
    "tags": []
   },
   "source": [
    "## Use sar_params to normalize the images\n",
    "\n",
    "## Works"
   ]
  },
  {
   "cell_type": "code",
   "execution_count": 39,
   "id": "da5a68d9-0194-44f6-be9f-fe89b737054f",
   "metadata": {},
   "outputs": [],
   "source": [
    "epsilon = 0.0005\n",
    "s0, s0_norm, inc, az, grid_lons, grid_lats, pol = sar.sar_params(\n",
    "    data_dir + fname,\n",
    "    station_lon=lon,\n",
    "    station_lat=lat,\n",
    "    epsilon=epsilon\n",
    ")"
   ]
  },
  {
   "cell_type": "code",
   "execution_count": 41,
   "id": "5ba212d1-5483-4534-9fd0-640786580440",
   "metadata": {},
   "outputs": [
    {
     "data": {
      "text/plain": [
       "(12, 10)"
      ]
     },
     "execution_count": 41,
     "metadata": {},
     "output_type": "execute_result"
    }
   ],
   "source": [
    "s0.shape"
   ]
  },
  {
   "cell_type": "code",
   "execution_count": 42,
   "id": "5fb4dcc7-2fba-496e-b120-db4a03ac9863",
   "metadata": {},
   "outputs": [
    {
     "data": {
      "text/plain": [
       "(12, 10)"
      ]
     },
     "execution_count": 42,
     "metadata": {},
     "output_type": "execute_result"
    }
   ],
   "source": [
    "s0_norm.shape"
   ]
  },
  {
   "cell_type": "code",
   "execution_count": 44,
   "id": "bd028a51-753b-4e6e-b2b3-2dc83c7cc12e",
   "metadata": {},
   "outputs": [
    {
     "data": {
      "text/plain": [
       "(12, 10)"
      ]
     },
     "execution_count": 44,
     "metadata": {},
     "output_type": "execute_result"
    }
   ],
   "source": [
    "az.shape"
   ]
  },
  {
   "cell_type": "code",
   "execution_count": 46,
   "id": "68d81d03-f90f-4a41-b402-a488a1939798",
   "metadata": {},
   "outputs": [
    {
     "data": {
      "text/plain": [
       "(12, 10)"
      ]
     },
     "execution_count": 46,
     "metadata": {},
     "output_type": "execute_result"
    }
   ],
   "source": [
    "grid_lons.shape"
   ]
  },
  {
   "cell_type": "code",
   "execution_count": 47,
   "id": "39b85a55-dd7e-440f-aeb6-a5a835aa647c",
   "metadata": {},
   "outputs": [
    {
     "data": {
      "text/plain": [
       "(12, 10)"
      ]
     },
     "execution_count": 47,
     "metadata": {},
     "output_type": "execute_result"
    }
   ],
   "source": [
    "grid_lats.shape"
   ]
  },
  {
   "cell_type": "code",
   "execution_count": 48,
   "id": "1be2563c-ef77-40aa-85b1-2540654ef76c",
   "metadata": {},
   "outputs": [
    {
     "data": {
      "text/plain": [
       "'VV'"
      ]
     },
     "execution_count": 48,
     "metadata": {},
     "output_type": "execute_result"
    }
   ],
   "source": [
    "pol"
   ]
  },
  {
   "cell_type": "code",
   "execution_count": null,
   "id": "0fafacdd-528e-4942-998f-c20d5bd3f846",
   "metadata": {},
   "outputs": [],
   "source": []
  },
  {
   "cell_type": "code",
   "execution_count": null,
   "id": "cdaa325d-c9d9-4743-a0a5-9826f421b62f",
   "metadata": {},
   "outputs": [],
   "source": []
  },
  {
   "cell_type": "markdown",
   "id": "1a1f767b-e8a7-4391-8570-d87b53ee71e9",
   "metadata": {},
   "source": [
    "# Questions\n",
    "\n",
    "- What is the offset in extent?\n",
    "- how to use crop_interactive?\n",
    "- Is it possible to crop using the number of pixels from a certain lat/lon? E.g., 10 pixels in each direction from the center."
   ]
  },
  {
   "cell_type": "code",
   "execution_count": null,
   "id": "f6955f0d-ec36-40d8-b96a-829099ff866f",
   "metadata": {},
   "outputs": [],
   "source": []
  },
  {
   "cell_type": "markdown",
   "id": "c0631e31-6143-494b-83fb-c7e0ea896bfd",
   "metadata": {},
   "source": [
    "# Experiments on Pioneer"
   ]
  },
  {
   "cell_type": "code",
   "execution_count": 7,
   "id": "6d501197-c28f-41d5-abde-c2a4fb555235",
   "metadata": {},
   "outputs": [
    {
     "data": {
      "text/plain": [
       "dict_keys(['datetime_start', 'datetime_end', 'type', 'lat', 'lon', 'nc_data_location', 'products'])"
      ]
     },
     "execution_count": 7,
     "metadata": {},
     "output_type": "execute_result"
    }
   ],
   "source": [
    "in_situ_obs['Pioneer_7'].keys()"
   ]
  },
  {
   "cell_type": "code",
   "execution_count": 8,
   "id": "669ad25e-4ef3-4731-b7c6-8ccab6489dd8",
   "metadata": {
    "scrolled": true,
    "tags": []
   },
   "outputs": [
    {
     "data": {
      "text/plain": [
       "OrderedDict([('7e1d1641-af53-4486-bb45-8411c61d1aba',\n",
       "              {'title': 'S1A_IW_GRDH_1SDV_20171022T224224_20171022T224249_018932_01FFE8_5D27',\n",
       "               'link': \"https://scihub.copernicus.eu/dhus/odata/v1/Products('7e1d1641-af53-4486-bb45-8411c61d1aba')/$value\",\n",
       "               'link_alternative': \"https://scihub.copernicus.eu/dhus/odata/v1/Products('7e1d1641-af53-4486-bb45-8411c61d1aba')/\",\n",
       "               'link_icon': \"https://scihub.copernicus.eu/dhus/odata/v1/Products('7e1d1641-af53-4486-bb45-8411c61d1aba')/Products('Quicklook')/$value\",\n",
       "               'summary': 'Date: 2017-10-22T22:42:24.875Z, Instrument: SAR-C SAR, Mode: VV VH, Satellite: Sentinel-1, Size: 1.61 GB',\n",
       "               'ondemand': 'false',\n",
       "               'ingestiondate': datetime.datetime(2017, 10, 23, 5, 16, 24, 259000),\n",
       "               'beginposition': datetime.datetime(2017, 10, 22, 22, 42, 24, 875000),\n",
       "               'endposition': datetime.datetime(2017, 10, 22, 22, 42, 49, 874000),\n",
       "               'missiondatatakeid': 131048,\n",
       "               'orbitnumber': 18932,\n",
       "               'lastorbitnumber': 18932,\n",
       "               'relativeorbitnumber': 135,\n",
       "               'lastrelativeorbitnumber': 135,\n",
       "               'slicenumber': 5,\n",
       "               'acquisitiontype': 'NOMINAL',\n",
       "               'filename': 'S1A_IW_GRDH_1SDV_20171022T224224_20171022T224249_018932_01FFE8_5D27.SAFE',\n",
       "               'gmlfootprint': '<gml:Polygon srsName=\"http://www.opengis.net/gml/srs/epsg.xml#4326\" xmlns:gml=\"http://www.opengis.net/gml\">\\n   <gml:outerBoundaryIs>\\n      <gml:LinearRing>\\n         <gml:coordinates>40.464302,-73.116463 40.865818,-70.097900 39.365147,-69.783722 38.962429,-72.736824 40.464302,-73.116463</gml:coordinates>\\n      </gml:LinearRing>\\n   </gml:outerBoundaryIs>\\n</gml:Polygon>',\n",
       "               'format': 'SAFE',\n",
       "               'identifier': 'S1A_IW_GRDH_1SDV_20171022T224224_20171022T224249_018932_01FFE8_5D27',\n",
       "               'instrumentshortname': 'SAR-C SAR',\n",
       "               'sensoroperationalmode': 'IW',\n",
       "               'instrumentname': 'Synthetic Aperture Radar (C-band)',\n",
       "               'swathidentifier': 'IW',\n",
       "               'footprint': 'POLYGON ((-73.116463 40.464302,-70.097900 40.865818,-69.783722 39.365147,-72.736824 38.962429,-73.116463 40.464302))',\n",
       "               'platformidentifier': '2014-016A',\n",
       "               'orbitdirection': 'ASCENDING',\n",
       "               'polarisationmode': 'VV VH',\n",
       "               'productclass': 'S',\n",
       "               'producttype': 'GRD',\n",
       "               'platformname': 'Sentinel-1',\n",
       "               'size': '1.61 GB',\n",
       "               'status': 'ARCHIVED',\n",
       "               'uuid': '7e1d1641-af53-4486-bb45-8411c61d1aba'}),\n",
       "             ('c882d69c-7786-494c-9a59-7b2e4718e4dc',\n",
       "              {'title': 'S1B_IW_GRDH_1SDV_20171022T104857_20171022T104922_007941_00E06E_F905',\n",
       "               'link': \"https://scihub.copernicus.eu/dhus/odata/v1/Products('c882d69c-7786-494c-9a59-7b2e4718e4dc')/$value\",\n",
       "               'link_alternative': \"https://scihub.copernicus.eu/dhus/odata/v1/Products('c882d69c-7786-494c-9a59-7b2e4718e4dc')/\",\n",
       "               'link_icon': \"https://scihub.copernicus.eu/dhus/odata/v1/Products('c882d69c-7786-494c-9a59-7b2e4718e4dc')/Products('Quicklook')/$value\",\n",
       "               'summary': 'Date: 2017-10-22T10:48:57.625Z, Instrument: SAR-C SAR, Mode: VV VH, Satellite: Sentinel-1, Size: 1.59 GB',\n",
       "               'ondemand': 'false',\n",
       "               'ingestiondate': datetime.datetime(2017, 10, 23, 4, 54, 46, 860000),\n",
       "               'beginposition': datetime.datetime(2017, 10, 22, 10, 48, 57, 625000),\n",
       "               'endposition': datetime.datetime(2017, 10, 22, 10, 49, 22, 623000),\n",
       "               'missiondatatakeid': 57454,\n",
       "               'orbitnumber': 7941,\n",
       "               'lastorbitnumber': 7941,\n",
       "               'relativeorbitnumber': 40,\n",
       "               'lastrelativeorbitnumber': 40,\n",
       "               'slicenumber': 4,\n",
       "               'acquisitiontype': 'NOMINAL',\n",
       "               'filename': 'S1B_IW_GRDH_1SDV_20171022T104857_20171022T104922_007941_00E06E_F905.SAFE',\n",
       "               'gmlfootprint': '<gml:Polygon srsName=\"http://www.opengis.net/gml/srs/epsg.xml#4326\" xmlns:gml=\"http://www.opengis.net/gml\">\\n   <gml:outerBoundaryIs>\\n      <gml:LinearRing>\\n         <gml:coordinates>38.729294,-69.991882 39.125675,-72.885315 40.626480,-72.570915 40.231304,-69.613884 38.729294,-69.991882</gml:coordinates>\\n      </gml:LinearRing>\\n   </gml:outerBoundaryIs>\\n</gml:Polygon>',\n",
       "               'format': 'SAFE',\n",
       "               'identifier': 'S1B_IW_GRDH_1SDV_20171022T104857_20171022T104922_007941_00E06E_F905',\n",
       "               'instrumentshortname': 'SAR-C SAR',\n",
       "               'sensoroperationalmode': 'IW',\n",
       "               'instrumentname': 'Synthetic Aperture Radar (C-band)',\n",
       "               'swathidentifier': 'IW',\n",
       "               'footprint': 'POLYGON ((-69.991882 38.729294,-72.885315 39.125675,-72.570915 40.626480,-69.613884 40.231304,-69.991882 38.729294))',\n",
       "               'platformidentifier': '2016-025A',\n",
       "               'orbitdirection': 'DESCENDING',\n",
       "               'polarisationmode': 'VV VH',\n",
       "               'productclass': 'S',\n",
       "               'producttype': 'GRD',\n",
       "               'platformname': 'Sentinel-1',\n",
       "               'size': '1.59 GB',\n",
       "               'status': 'ARCHIVED',\n",
       "               'uuid': 'c882d69c-7786-494c-9a59-7b2e4718e4dc'}),\n",
       "             ('3d47e4ed-93cf-48b0-93e4-d1fbd78e422a',\n",
       "              {'title': 'S1A_IW_GRDH_1SDV_20171010T224224_20171010T224249_018757_01FA86_DB26',\n",
       "               'link': \"https://scihub.copernicus.eu/dhus/odata/v1/Products('3d47e4ed-93cf-48b0-93e4-d1fbd78e422a')/$value\",\n",
       "               'link_alternative': \"https://scihub.copernicus.eu/dhus/odata/v1/Products('3d47e4ed-93cf-48b0-93e4-d1fbd78e422a')/\",\n",
       "               'link_icon': \"https://scihub.copernicus.eu/dhus/odata/v1/Products('3d47e4ed-93cf-48b0-93e4-d1fbd78e422a')/Products('Quicklook')/$value\",\n",
       "               'summary': 'Date: 2017-10-10T22:42:24.754Z, Instrument: SAR-C SAR, Mode: VV VH, Satellite: Sentinel-1, Size: 1.61 GB',\n",
       "               'ondemand': 'false',\n",
       "               'ingestiondate': datetime.datetime(2017, 10, 12, 8, 4, 48, 461000),\n",
       "               'beginposition': datetime.datetime(2017, 10, 10, 22, 42, 24, 754000),\n",
       "               'endposition': datetime.datetime(2017, 10, 10, 22, 42, 49, 753000),\n",
       "               'missiondatatakeid': 129670,\n",
       "               'orbitnumber': 18757,\n",
       "               'lastorbitnumber': 18757,\n",
       "               'relativeorbitnumber': 135,\n",
       "               'lastrelativeorbitnumber': 135,\n",
       "               'slicenumber': 5,\n",
       "               'acquisitiontype': 'NOMINAL',\n",
       "               'filename': 'S1A_IW_GRDH_1SDV_20171010T224224_20171010T224249_018757_01FA86_DB26.SAFE',\n",
       "               'gmlfootprint': '<gml:Polygon srsName=\"http://www.opengis.net/gml/srs/epsg.xml#4326\" xmlns:gml=\"http://www.opengis.net/gml\">\\n   <gml:outerBoundaryIs>\\n      <gml:LinearRing>\\n         <gml:coordinates>40.464317,-73.117256 40.865864,-70.098824 39.365192,-69.784607 38.962448,-72.737579 40.464317,-73.117256</gml:coordinates>\\n      </gml:LinearRing>\\n   </gml:outerBoundaryIs>\\n</gml:Polygon>',\n",
       "               'format': 'SAFE',\n",
       "               'identifier': 'S1A_IW_GRDH_1SDV_20171010T224224_20171010T224249_018757_01FA86_DB26',\n",
       "               'instrumentshortname': 'SAR-C SAR',\n",
       "               'sensoroperationalmode': 'IW',\n",
       "               'instrumentname': 'Synthetic Aperture Radar (C-band)',\n",
       "               'swathidentifier': 'IW',\n",
       "               'footprint': 'POLYGON ((-73.117256 40.464317,-70.098824 40.865864,-69.784607 39.365192,-72.737579 38.962448,-73.117256 40.464317))',\n",
       "               'platformidentifier': '2014-016A',\n",
       "               'orbitdirection': 'ASCENDING',\n",
       "               'polarisationmode': 'VV VH',\n",
       "               'productclass': 'S',\n",
       "               'producttype': 'GRD',\n",
       "               'platformname': 'Sentinel-1',\n",
       "               'size': '1.61 GB',\n",
       "               'status': 'ARCHIVED',\n",
       "               'uuid': '3d47e4ed-93cf-48b0-93e4-d1fbd78e422a'}),\n",
       "             ('a542d732-39e9-46f7-8ad2-95ca6ea1f1b9',\n",
       "              {'title': 'S1B_IW_GRDH_1SDV_20171010T104840_20171010T104906_007766_00DB71_74A4',\n",
       "               'link': \"https://scihub.copernicus.eu/dhus/odata/v1/Products('a542d732-39e9-46f7-8ad2-95ca6ea1f1b9')/$value\",\n",
       "               'link_alternative': \"https://scihub.copernicus.eu/dhus/odata/v1/Products('a542d732-39e9-46f7-8ad2-95ca6ea1f1b9')/\",\n",
       "               'link_icon': \"https://scihub.copernicus.eu/dhus/odata/v1/Products('a542d732-39e9-46f7-8ad2-95ca6ea1f1b9')/Products('Quicklook')/$value\",\n",
       "               'summary': 'Date: 2017-10-10T10:48:40.735Z, Instrument: SAR-C SAR, Mode: VV VH, Satellite: Sentinel-1, Size: 1.6 GB',\n",
       "               'ondemand': 'false',\n",
       "               'ingestiondate': datetime.datetime(2017, 10, 10, 14, 6, 39, 603000),\n",
       "               'beginposition': datetime.datetime(2017, 10, 10, 10, 48, 40, 735000),\n",
       "               'endposition': datetime.datetime(2017, 10, 10, 10, 49, 6, 187000),\n",
       "               'missiondatatakeid': 56177,\n",
       "               'orbitnumber': 7766,\n",
       "               'lastorbitnumber': 7766,\n",
       "               'relativeorbitnumber': 40,\n",
       "               'lastrelativeorbitnumber': 40,\n",
       "               'slicenumber': 3,\n",
       "               'acquisitiontype': 'NOMINAL',\n",
       "               'filename': 'S1B_IW_GRDH_1SDV_20171010T104840_20171010T104906_007766_00DB71_74A4.SAFE',\n",
       "               'gmlfootprint': '<gml:Polygon srsName=\"http://www.opengis.net/gml/srs/epsg.xml#4326\" xmlns:gml=\"http://www.opengis.net/gml\">\\n   <gml:outerBoundaryIs>\\n      <gml:LinearRing>\\n         <gml:coordinates>39.709026,-69.758911 40.101833,-72.672920 41.629456,-72.349716 41.237671,-69.368141 39.709026,-69.758911</gml:coordinates>\\n      </gml:LinearRing>\\n   </gml:outerBoundaryIs>\\n</gml:Polygon>',\n",
       "               'format': 'SAFE',\n",
       "               'identifier': 'S1B_IW_GRDH_1SDV_20171010T104840_20171010T104906_007766_00DB71_74A4',\n",
       "               'instrumentshortname': 'SAR-C SAR',\n",
       "               'sensoroperationalmode': 'IW',\n",
       "               'instrumentname': 'Synthetic Aperture Radar (C-band)',\n",
       "               'swathidentifier': 'IW',\n",
       "               'footprint': 'POLYGON ((-69.758911 39.709026,-72.672920 40.101833,-72.349716 41.629456,-69.368141 41.237671,-69.758911 39.709026))',\n",
       "               'platformidentifier': '2016-025A',\n",
       "               'orbitdirection': 'DESCENDING',\n",
       "               'polarisationmode': 'VV VH',\n",
       "               'productclass': 'S',\n",
       "               'producttype': 'GRD',\n",
       "               'platformname': 'Sentinel-1',\n",
       "               'size': '1.6 GB',\n",
       "               'status': 'ARCHIVED',\n",
       "               'uuid': 'a542d732-39e9-46f7-8ad2-95ca6ea1f1b9'}),\n",
       "             ('c925dd01-3a51-4124-9c3f-5aec94b9d188',\n",
       "              {'title': 'S1A_IW_GRDH_1SDV_20170928T224224_20170928T224249_018582_01F530_D6EB',\n",
       "               'link': \"https://scihub.copernicus.eu/dhus/odata/v1/Products('c925dd01-3a51-4124-9c3f-5aec94b9d188')/$value\",\n",
       "               'link_alternative': \"https://scihub.copernicus.eu/dhus/odata/v1/Products('c925dd01-3a51-4124-9c3f-5aec94b9d188')/\",\n",
       "               'link_icon': \"https://scihub.copernicus.eu/dhus/odata/v1/Products('c925dd01-3a51-4124-9c3f-5aec94b9d188')/Products('Quicklook')/$value\",\n",
       "               'summary': 'Date: 2017-09-28T22:42:24.538Z, Instrument: SAR-C SAR, Mode: VV VH, Satellite: Sentinel-1, Size: 1.61 GB',\n",
       "               'ondemand': 'false',\n",
       "               'ingestiondate': datetime.datetime(2017, 9, 29, 3, 54, 21, 725000),\n",
       "               'beginposition': datetime.datetime(2017, 9, 28, 22, 42, 24, 538000),\n",
       "               'endposition': datetime.datetime(2017, 9, 28, 22, 42, 49, 535000),\n",
       "               'missiondatatakeid': 128304,\n",
       "               'orbitnumber': 18582,\n",
       "               'lastorbitnumber': 18582,\n",
       "               'relativeorbitnumber': 135,\n",
       "               'lastrelativeorbitnumber': 135,\n",
       "               'slicenumber': 5,\n",
       "               'acquisitiontype': 'NOMINAL',\n",
       "               'filename': 'S1A_IW_GRDH_1SDV_20170928T224224_20170928T224249_018582_01F530_D6EB.SAFE',\n",
       "               'gmlfootprint': '<gml:Polygon srsName=\"http://www.opengis.net/gml/srs/epsg.xml#4326\" xmlns:gml=\"http://www.opengis.net/gml\">\\n   <gml:outerBoundaryIs>\\n      <gml:LinearRing>\\n         <gml:coordinates>40.464264,-73.117195 40.865799,-70.098877 39.365219,-69.784683 38.962486,-72.737549 40.464264,-73.117195</gml:coordinates>\\n      </gml:LinearRing>\\n   </gml:outerBoundaryIs>\\n</gml:Polygon>',\n",
       "               'format': 'SAFE',\n",
       "               'identifier': 'S1A_IW_GRDH_1SDV_20170928T224224_20170928T224249_018582_01F530_D6EB',\n",
       "               'instrumentshortname': 'SAR-C SAR',\n",
       "               'sensoroperationalmode': 'IW',\n",
       "               'instrumentname': 'Synthetic Aperture Radar (C-band)',\n",
       "               'swathidentifier': 'IW',\n",
       "               'footprint': 'POLYGON ((-73.117195 40.464264,-70.098877 40.865799,-69.784683 39.365219,-72.737549 38.962486,-73.117195 40.464264))',\n",
       "               'platformidentifier': '2014-016A',\n",
       "               'orbitdirection': 'ASCENDING',\n",
       "               'polarisationmode': 'VV VH',\n",
       "               'productclass': 'S',\n",
       "               'producttype': 'GRD',\n",
       "               'platformname': 'Sentinel-1',\n",
       "               'size': '1.61 GB',\n",
       "               'status': 'ARCHIVED',\n",
       "               'uuid': 'c925dd01-3a51-4124-9c3f-5aec94b9d188'}),\n",
       "             ('443ea012-e193-4a85-8788-bef674cabd7c',\n",
       "              {'title': 'S1A_IW_GRDH_1SDV_20170916T224224_20170916T224249_018407_01EFDA_A8C7',\n",
       "               'link': \"https://scihub.copernicus.eu/dhus/odata/v1/Products('443ea012-e193-4a85-8788-bef674cabd7c')/$value\",\n",
       "               'link_alternative': \"https://scihub.copernicus.eu/dhus/odata/v1/Products('443ea012-e193-4a85-8788-bef674cabd7c')/\",\n",
       "               'link_icon': \"https://scihub.copernicus.eu/dhus/odata/v1/Products('443ea012-e193-4a85-8788-bef674cabd7c')/Products('Quicklook')/$value\",\n",
       "               'summary': 'Date: 2017-09-16T22:42:24.276Z, Instrument: SAR-C SAR, Mode: VV VH, Satellite: Sentinel-1, Size: 1.61 GB',\n",
       "               'ondemand': 'false',\n",
       "               'ingestiondate': datetime.datetime(2017, 9, 17, 4, 2, 29, 120000),\n",
       "               'beginposition': datetime.datetime(2017, 9, 16, 22, 42, 24, 276000),\n",
       "               'endposition': datetime.datetime(2017, 9, 16, 22, 42, 49, 275000),\n",
       "               'missiondatatakeid': 126938,\n",
       "               'orbitnumber': 18407,\n",
       "               'lastorbitnumber': 18407,\n",
       "               'relativeorbitnumber': 135,\n",
       "               'lastrelativeorbitnumber': 135,\n",
       "               'slicenumber': 5,\n",
       "               'acquisitiontype': 'NOMINAL',\n",
       "               'filename': 'S1A_IW_GRDH_1SDV_20170916T224224_20170916T224249_018407_01EFDA_A8C7.SAFE',\n",
       "               'gmlfootprint': '<gml:Polygon srsName=\"http://www.opengis.net/gml/srs/epsg.xml#4326\" xmlns:gml=\"http://www.opengis.net/gml\">\\n   <gml:outerBoundaryIs>\\n      <gml:LinearRing>\\n         <gml:coordinates>40.464451,-73.116234 40.865917,-70.098015 39.365242,-69.783852 38.962578,-72.736610 40.464451,-73.116234</gml:coordinates>\\n      </gml:LinearRing>\\n   </gml:outerBoundaryIs>\\n</gml:Polygon>',\n",
       "               'format': 'SAFE',\n",
       "               'identifier': 'S1A_IW_GRDH_1SDV_20170916T224224_20170916T224249_018407_01EFDA_A8C7',\n",
       "               'instrumentshortname': 'SAR-C SAR',\n",
       "               'sensoroperationalmode': 'IW',\n",
       "               'instrumentname': 'Synthetic Aperture Radar (C-band)',\n",
       "               'swathidentifier': 'IW',\n",
       "               'footprint': 'POLYGON ((-73.116234 40.464451,-70.098015 40.865917,-69.783852 39.365242,-72.736610 38.962578,-73.116234 40.464451))',\n",
       "               'platformidentifier': '2014-016A',\n",
       "               'orbitdirection': 'ASCENDING',\n",
       "               'polarisationmode': 'VV VH',\n",
       "               'productclass': 'S',\n",
       "               'producttype': 'GRD',\n",
       "               'platformname': 'Sentinel-1',\n",
       "               'size': '1.61 GB',\n",
       "               'status': 'ARCHIVED',\n",
       "               'uuid': '443ea012-e193-4a85-8788-bef674cabd7c'}),\n",
       "             ('83cb7b5f-a4e7-47da-8ede-74d27e15abfb',\n",
       "              {'title': 'S1A_IW_GRDH_1SDV_20170823T224223_20170823T224248_018057_01E51C_DE72',\n",
       "               'link': \"https://scihub.copernicus.eu/dhus/odata/v1/Products('83cb7b5f-a4e7-47da-8ede-74d27e15abfb')/$value\",\n",
       "               'link_alternative': \"https://scihub.copernicus.eu/dhus/odata/v1/Products('83cb7b5f-a4e7-47da-8ede-74d27e15abfb')/\",\n",
       "               'link_icon': \"https://scihub.copernicus.eu/dhus/odata/v1/Products('83cb7b5f-a4e7-47da-8ede-74d27e15abfb')/Products('Quicklook')/$value\",\n",
       "               'summary': 'Date: 2017-08-23T22:42:23.338Z, Instrument: SAR-C SAR, Mode: VV VH, Satellite: Sentinel-1, Size: 1.61 GB',\n",
       "               'ondemand': 'false',\n",
       "               'ingestiondate': datetime.datetime(2017, 8, 24, 5, 48, 23, 207000),\n",
       "               'beginposition': datetime.datetime(2017, 8, 23, 22, 42, 23, 338000),\n",
       "               'endposition': datetime.datetime(2017, 8, 23, 22, 42, 48, 337000),\n",
       "               'missiondatatakeid': 124188,\n",
       "               'orbitnumber': 18057,\n",
       "               'lastorbitnumber': 18057,\n",
       "               'relativeorbitnumber': 135,\n",
       "               'lastrelativeorbitnumber': 135,\n",
       "               'slicenumber': 5,\n",
       "               'acquisitiontype': 'NOMINAL',\n",
       "               'filename': 'S1A_IW_GRDH_1SDV_20170823T224223_20170823T224248_018057_01E51C_DE72.SAFE',\n",
       "               'gmlfootprint': '<gml:Polygon srsName=\"http://www.opengis.net/gml/srs/epsg.xml#4326\" xmlns:gml=\"http://www.opengis.net/gml\">\\n   <gml:outerBoundaryIs>\\n      <gml:LinearRing>\\n         <gml:coordinates>40.464508,-73.114487 40.865932,-70.096138 39.365253,-69.782021 38.962624,-72.734917 40.464508,-73.114487</gml:coordinates>\\n      </gml:LinearRing>\\n   </gml:outerBoundaryIs>\\n</gml:Polygon>',\n",
       "               'format': 'SAFE',\n",
       "               'identifier': 'S1A_IW_GRDH_1SDV_20170823T224223_20170823T224248_018057_01E51C_DE72',\n",
       "               'instrumentshortname': 'SAR-C SAR',\n",
       "               'sensoroperationalmode': 'IW',\n",
       "               'instrumentname': 'Synthetic Aperture Radar (C-band)',\n",
       "               'swathidentifier': 'IW',\n",
       "               'footprint': 'POLYGON ((-73.114487 40.464508,-70.096138 40.865932,-69.782021 39.365253,-72.734917 38.962624,-73.114487 40.464508))',\n",
       "               'platformidentifier': '2014-016A',\n",
       "               'orbitdirection': 'ASCENDING',\n",
       "               'polarisationmode': 'VV VH',\n",
       "               'productclass': 'S',\n",
       "               'producttype': 'GRD',\n",
       "               'platformname': 'Sentinel-1',\n",
       "               'size': '1.61 GB',\n",
       "               'status': 'ARCHIVED',\n",
       "               'uuid': '83cb7b5f-a4e7-47da-8ede-74d27e15abfb'}),\n",
       "             ('24a6cea2-69a1-49af-872c-8653b47aa09d',\n",
       "              {'title': 'S1B_IW_GRDH_1SDV_20170823T104839_20170823T104904_007066_00C72C_6916',\n",
       "               'link': \"https://scihub.copernicus.eu/dhus/odata/v1/Products('24a6cea2-69a1-49af-872c-8653b47aa09d')/$value\",\n",
       "               'link_alternative': \"https://scihub.copernicus.eu/dhus/odata/v1/Products('24a6cea2-69a1-49af-872c-8653b47aa09d')/\",\n",
       "               'link_icon': \"https://scihub.copernicus.eu/dhus/odata/v1/Products('24a6cea2-69a1-49af-872c-8653b47aa09d')/Products('Quicklook')/$value\",\n",
       "               'summary': 'Date: 2017-08-23T10:48:39.231Z, Instrument: SAR-C SAR, Mode: VV VH, Satellite: Sentinel-1, Size: 1.6 GB',\n",
       "               'ondemand': 'false',\n",
       "               'ingestiondate': datetime.datetime(2017, 8, 23, 13, 42, 52, 192000),\n",
       "               'beginposition': datetime.datetime(2017, 8, 23, 10, 48, 39, 231000),\n",
       "               'endposition': datetime.datetime(2017, 8, 23, 10, 49, 4, 667000),\n",
       "               'missiondatatakeid': 50988,\n",
       "               'orbitnumber': 7066,\n",
       "               'lastorbitnumber': 7066,\n",
       "               'relativeorbitnumber': 40,\n",
       "               'lastrelativeorbitnumber': 40,\n",
       "               'slicenumber': 3,\n",
       "               'acquisitiontype': 'NOMINAL',\n",
       "               'filename': 'S1B_IW_GRDH_1SDV_20170823T104839_20170823T104904_007066_00C72C_6916.SAFE',\n",
       "               'gmlfootprint': '<gml:Polygon srsName=\"http://www.opengis.net/gml/srs/epsg.xml#4326\" xmlns:gml=\"http://www.opengis.net/gml\">\\n   <gml:outerBoundaryIs>\\n      <gml:LinearRing>\\n         <gml:coordinates>39.709957,-69.759323 40.102650,-72.673042 41.629379,-72.350098 41.237709,-69.368866 39.709957,-69.759323</gml:coordinates>\\n      </gml:LinearRing>\\n   </gml:outerBoundaryIs>\\n</gml:Polygon>',\n",
       "               'format': 'SAFE',\n",
       "               'identifier': 'S1B_IW_GRDH_1SDV_20170823T104839_20170823T104904_007066_00C72C_6916',\n",
       "               'instrumentshortname': 'SAR-C SAR',\n",
       "               'sensoroperationalmode': 'IW',\n",
       "               'instrumentname': 'Synthetic Aperture Radar (C-band)',\n",
       "               'swathidentifier': 'IW',\n",
       "               'footprint': 'POLYGON ((-69.759323 39.709957,-72.673042 40.102650,-72.350098 41.629379,-69.368866 41.237709,-69.759323 39.709957))',\n",
       "               'platformidentifier': '2016-025A',\n",
       "               'orbitdirection': 'DESCENDING',\n",
       "               'polarisationmode': 'VV VH',\n",
       "               'productclass': 'S',\n",
       "               'producttype': 'GRD',\n",
       "               'platformname': 'Sentinel-1',\n",
       "               'size': '1.6 GB',\n",
       "               'status': 'ARCHIVED',\n",
       "               'uuid': '24a6cea2-69a1-49af-872c-8653b47aa09d'}),\n",
       "             ('257259ca-74ac-43f2-8187-82f6e84140bf',\n",
       "              {'title': 'S1A_IW_GRDH_1SDV_20170811T224222_20170811T224247_017882_01DFCC_1FEB',\n",
       "               'link': \"https://scihub.copernicus.eu/dhus/odata/v1/Products('257259ca-74ac-43f2-8187-82f6e84140bf')/$value\",\n",
       "               'link_alternative': \"https://scihub.copernicus.eu/dhus/odata/v1/Products('257259ca-74ac-43f2-8187-82f6e84140bf')/\",\n",
       "               'link_icon': \"https://scihub.copernicus.eu/dhus/odata/v1/Products('257259ca-74ac-43f2-8187-82f6e84140bf')/Products('Quicklook')/$value\",\n",
       "               'summary': 'Date: 2017-08-11T22:42:22.725Z, Instrument: SAR-C SAR, Mode: VV VH, Satellite: Sentinel-1, Size: 1.61 GB',\n",
       "               'ondemand': 'false',\n",
       "               'ingestiondate': datetime.datetime(2017, 8, 12, 5, 12, 23, 557000),\n",
       "               'beginposition': datetime.datetime(2017, 8, 11, 22, 42, 22, 725000),\n",
       "               'endposition': datetime.datetime(2017, 8, 11, 22, 42, 47, 723000),\n",
       "               'missiondatatakeid': 122828,\n",
       "               'orbitnumber': 17882,\n",
       "               'lastorbitnumber': 17882,\n",
       "               'relativeorbitnumber': 135,\n",
       "               'lastrelativeorbitnumber': 135,\n",
       "               'slicenumber': 5,\n",
       "               'acquisitiontype': 'NOMINAL',\n",
       "               'filename': 'S1A_IW_GRDH_1SDV_20170811T224222_20170811T224247_017882_01DFCC_1FEB.SAFE',\n",
       "               'gmlfootprint': '<gml:Polygon srsName=\"http://www.opengis.net/gml/srs/epsg.xml#4326\" xmlns:gml=\"http://www.opengis.net/gml\">\\n   <gml:outerBoundaryIs>\\n      <gml:LinearRing>\\n         <gml:coordinates>40.464397,-73.115906 40.865849,-70.097809 39.365173,-69.783653 38.962524,-72.736305 40.464397,-73.115906</gml:coordinates>\\n      </gml:LinearRing>\\n   </gml:outerBoundaryIs>\\n</gml:Polygon>',\n",
       "               'format': 'SAFE',\n",
       "               'identifier': 'S1A_IW_GRDH_1SDV_20170811T224222_20170811T224247_017882_01DFCC_1FEB',\n",
       "               'instrumentshortname': 'SAR-C SAR',\n",
       "               'sensoroperationalmode': 'IW',\n",
       "               'instrumentname': 'Synthetic Aperture Radar (C-band)',\n",
       "               'swathidentifier': 'IW',\n",
       "               'footprint': 'POLYGON ((-73.115906 40.464397,-70.097809 40.865849,-69.783653 39.365173,-72.736305 38.962524,-73.115906 40.464397))',\n",
       "               'platformidentifier': '2014-016A',\n",
       "               'orbitdirection': 'ASCENDING',\n",
       "               'polarisationmode': 'VV VH',\n",
       "               'productclass': 'S',\n",
       "               'producttype': 'GRD',\n",
       "               'platformname': 'Sentinel-1',\n",
       "               'size': '1.61 GB',\n",
       "               'status': 'ARCHIVED',\n",
       "               'uuid': '257259ca-74ac-43f2-8187-82f6e84140bf'}),\n",
       "             ('f7ef3950-8289-4207-ab58-d18091bf751a',\n",
       "              {'title': 'S1A_IW_GRDH_1SDV_20170730T224222_20170730T224247_017707_01DA78_3B66',\n",
       "               'link': \"https://scihub.copernicus.eu/dhus/odata/v1/Products('f7ef3950-8289-4207-ab58-d18091bf751a')/$value\",\n",
       "               'link_alternative': \"https://scihub.copernicus.eu/dhus/odata/v1/Products('f7ef3950-8289-4207-ab58-d18091bf751a')/\",\n",
       "               'link_icon': \"https://scihub.copernicus.eu/dhus/odata/v1/Products('f7ef3950-8289-4207-ab58-d18091bf751a')/Products('Quicklook')/$value\",\n",
       "               'summary': 'Date: 2017-07-30T22:42:22.166Z, Instrument: SAR-C SAR, Mode: VV VH, Satellite: Sentinel-1, Size: 1.61 GB',\n",
       "               'ondemand': 'false',\n",
       "               'ingestiondate': datetime.datetime(2017, 7, 31, 4, 4, 30, 861000),\n",
       "               'beginposition': datetime.datetime(2017, 7, 30, 22, 42, 22, 166000),\n",
       "               'endposition': datetime.datetime(2017, 7, 30, 22, 42, 47, 165000),\n",
       "               'missiondatatakeid': 121464,\n",
       "               'orbitnumber': 17707,\n",
       "               'lastorbitnumber': 17707,\n",
       "               'relativeorbitnumber': 135,\n",
       "               'lastrelativeorbitnumber': 135,\n",
       "               'slicenumber': 5,\n",
       "               'acquisitiontype': 'NOMINAL',\n",
       "               'filename': 'S1A_IW_GRDH_1SDV_20170730T224222_20170730T224247_017707_01DA78_3B66.SAFE',\n",
       "               'gmlfootprint': '<gml:Polygon srsName=\"http://www.opengis.net/gml/srs/epsg.xml#4326\" xmlns:gml=\"http://www.opengis.net/gml\">\\n   <gml:outerBoundaryIs>\\n      <gml:LinearRing>\\n         <gml:coordinates>40.464390,-73.115997 40.865845,-70.097900 39.365170,-69.783737 38.962517,-72.736382 40.464390,-73.115997</gml:coordinates>\\n      </gml:LinearRing>\\n   </gml:outerBoundaryIs>\\n</gml:Polygon>',\n",
       "               'format': 'SAFE',\n",
       "               'identifier': 'S1A_IW_GRDH_1SDV_20170730T224222_20170730T224247_017707_01DA78_3B66',\n",
       "               'instrumentshortname': 'SAR-C SAR',\n",
       "               'sensoroperationalmode': 'IW',\n",
       "               'instrumentname': 'Synthetic Aperture Radar (C-band)',\n",
       "               'swathidentifier': 'IW',\n",
       "               'footprint': 'POLYGON ((-73.115997 40.464390,-70.097900 40.865845,-69.783737 39.365170,-72.736382 38.962517,-73.115997 40.464390))',\n",
       "               'platformidentifier': '2014-016A',\n",
       "               'orbitdirection': 'ASCENDING',\n",
       "               'polarisationmode': 'VV VH',\n",
       "               'productclass': 'S',\n",
       "               'producttype': 'GRD',\n",
       "               'platformname': 'Sentinel-1',\n",
       "               'size': '1.61 GB',\n",
       "               'status': 'ARCHIVED',\n",
       "               'uuid': 'f7ef3950-8289-4207-ab58-d18091bf751a'}),\n",
       "             ('23be2c5f-a7d1-4ec1-809e-6d795b28761c',\n",
       "              {'title': 'S1B_IW_GRDH_1SDV_20170730T104838_20170730T104903_006716_00BD05_1883',\n",
       "               'link': \"https://scihub.copernicus.eu/dhus/odata/v1/Products('23be2c5f-a7d1-4ec1-809e-6d795b28761c')/$value\",\n",
       "               'link_alternative': \"https://scihub.copernicus.eu/dhus/odata/v1/Products('23be2c5f-a7d1-4ec1-809e-6d795b28761c')/\",\n",
       "               'link_icon': \"https://scihub.copernicus.eu/dhus/odata/v1/Products('23be2c5f-a7d1-4ec1-809e-6d795b28761c')/Products('Quicklook')/$value\",\n",
       "               'summary': 'Date: 2017-07-30T10:48:38.056Z, Instrument: SAR-C SAR, Mode: VV VH, Satellite: Sentinel-1, Size: 1.6 GB',\n",
       "               'ondemand': 'false',\n",
       "               'ingestiondate': datetime.datetime(2017, 7, 30, 13, 42, 15, 180000),\n",
       "               'beginposition': datetime.datetime(2017, 7, 30, 10, 48, 38, 56000),\n",
       "               'endposition': datetime.datetime(2017, 7, 30, 10, 49, 3, 478000),\n",
       "               'missiondatatakeid': 48389,\n",
       "               'orbitnumber': 6716,\n",
       "               'lastorbitnumber': 6716,\n",
       "               'relativeorbitnumber': 40,\n",
       "               'lastrelativeorbitnumber': 40,\n",
       "               'slicenumber': 3,\n",
       "               'acquisitiontype': 'NOMINAL',\n",
       "               'filename': 'S1B_IW_GRDH_1SDV_20170730T104838_20170730T104903_006716_00BD05_1883.SAFE',\n",
       "               'gmlfootprint': '<gml:Polygon srsName=\"http://www.opengis.net/gml/srs/epsg.xml#4326\" xmlns:gml=\"http://www.opengis.net/gml\">\\n   <gml:outerBoundaryIs>\\n      <gml:LinearRing>\\n         <gml:coordinates>39.710701,-69.759155 40.103436,-72.673012 41.629356,-72.350227 41.237644,-69.368881 39.710701,-69.759155</gml:coordinates>\\n      </gml:LinearRing>\\n   </gml:outerBoundaryIs>\\n</gml:Polygon>',\n",
       "               'format': 'SAFE',\n",
       "               'identifier': 'S1B_IW_GRDH_1SDV_20170730T104838_20170730T104903_006716_00BD05_1883',\n",
       "               'instrumentshortname': 'SAR-C SAR',\n",
       "               'sensoroperationalmode': 'IW',\n",
       "               'instrumentname': 'Synthetic Aperture Radar (C-band)',\n",
       "               'swathidentifier': 'IW',\n",
       "               'footprint': 'POLYGON ((-69.759155 39.710701,-72.673012 40.103436,-72.350227 41.629356,-69.368881 41.237644,-69.759155 39.710701))',\n",
       "               'platformidentifier': '2016-025A',\n",
       "               'orbitdirection': 'DESCENDING',\n",
       "               'polarisationmode': 'VV VH',\n",
       "               'productclass': 'S',\n",
       "               'producttype': 'GRD',\n",
       "               'platformname': 'Sentinel-1',\n",
       "               'size': '1.6 GB',\n",
       "               'status': 'ARCHIVED',\n",
       "               'uuid': '23be2c5f-a7d1-4ec1-809e-6d795b28761c'}),\n",
       "             ('cc42efbf-02ed-4ad4-ad73-69725339da4a',\n",
       "              {'title': 'S1A_IW_GRDH_1SDV_20170718T224221_20170718T224246_017532_01D51F_B909',\n",
       "               'link': \"https://scihub.copernicus.eu/dhus/odata/v1/Products('cc42efbf-02ed-4ad4-ad73-69725339da4a')/$value\",\n",
       "               'link_alternative': \"https://scihub.copernicus.eu/dhus/odata/v1/Products('cc42efbf-02ed-4ad4-ad73-69725339da4a')/\",\n",
       "               'link_icon': \"https://scihub.copernicus.eu/dhus/odata/v1/Products('cc42efbf-02ed-4ad4-ad73-69725339da4a')/Products('Quicklook')/$value\",\n",
       "               'summary': 'Date: 2017-07-18T22:42:21.29Z, Instrument: SAR-C SAR, Mode: VV VH, Satellite: Sentinel-1, Size: 1.61 GB',\n",
       "               'ondemand': 'false',\n",
       "               'ingestiondate': datetime.datetime(2017, 7, 19, 3, 50, 12, 761000),\n",
       "               'beginposition': datetime.datetime(2017, 7, 18, 22, 42, 21, 290000),\n",
       "               'endposition': datetime.datetime(2017, 7, 18, 22, 42, 46, 289000),\n",
       "               'missiondatatakeid': 120095,\n",
       "               'orbitnumber': 17532,\n",
       "               'lastorbitnumber': 17532,\n",
       "               'relativeorbitnumber': 135,\n",
       "               'lastrelativeorbitnumber': 135,\n",
       "               'slicenumber': 5,\n",
       "               'acquisitiontype': 'NOMINAL',\n",
       "               'filename': 'S1A_IW_GRDH_1SDV_20170718T224221_20170718T224246_017532_01D51F_B909.SAFE',\n",
       "               'gmlfootprint': '<gml:Polygon srsName=\"http://www.opengis.net/gml/srs/epsg.xml#4326\" xmlns:gml=\"http://www.opengis.net/gml\">\\n   <gml:outerBoundaryIs>\\n      <gml:LinearRing>\\n         <gml:coordinates>40.464268,-73.115791 40.865738,-70.097702 39.365067,-69.783539 38.962391,-72.736176 40.464268,-73.115791</gml:coordinates>\\n      </gml:LinearRing>\\n   </gml:outerBoundaryIs>\\n</gml:Polygon>',\n",
       "               'format': 'SAFE',\n",
       "               'identifier': 'S1A_IW_GRDH_1SDV_20170718T224221_20170718T224246_017532_01D51F_B909',\n",
       "               'instrumentshortname': 'SAR-C SAR',\n",
       "               'sensoroperationalmode': 'IW',\n",
       "               'instrumentname': 'Synthetic Aperture Radar (C-band)',\n",
       "               'swathidentifier': 'IW',\n",
       "               'footprint': 'POLYGON ((-73.115791 40.464268,-70.097702 40.865738,-69.783539 39.365067,-72.736176 38.962391,-73.115791 40.464268))',\n",
       "               'platformidentifier': '2014-016A',\n",
       "               'orbitdirection': 'ASCENDING',\n",
       "               'polarisationmode': 'VV VH',\n",
       "               'productclass': 'S',\n",
       "               'producttype': 'GRD',\n",
       "               'platformname': 'Sentinel-1',\n",
       "               'size': '1.61 GB',\n",
       "               'status': 'ARCHIVED',\n",
       "               'uuid': 'cc42efbf-02ed-4ad4-ad73-69725339da4a'}),\n",
       "             ('a54c47ae-f211-4b0e-b6bf-b80b30443a9c',\n",
       "              {'title': 'S1B_IW_GRDH_1SDV_20170706T104836_20170706T104901_006366_00B2FE_7FF3',\n",
       "               'link': \"https://scihub.copernicus.eu/dhus/odata/v1/Products('a54c47ae-f211-4b0e-b6bf-b80b30443a9c')/$value\",\n",
       "               'link_alternative': \"https://scihub.copernicus.eu/dhus/odata/v1/Products('a54c47ae-f211-4b0e-b6bf-b80b30443a9c')/\",\n",
       "               'link_icon': \"https://scihub.copernicus.eu/dhus/odata/v1/Products('a54c47ae-f211-4b0e-b6bf-b80b30443a9c')/Products('Quicklook')/$value\",\n",
       "               'summary': 'Date: 2017-07-06T10:48:36.446Z, Instrument: SAR-C SAR, Mode: VV VH, Satellite: Sentinel-1, Size: 1.6 GB',\n",
       "               'ondemand': 'false',\n",
       "               'ingestiondate': datetime.datetime(2017, 7, 6, 13, 42, 7, 558000),\n",
       "               'beginposition': datetime.datetime(2017, 7, 6, 10, 48, 36, 446000),\n",
       "               'endposition': datetime.datetime(2017, 7, 6, 10, 49, 1, 867000),\n",
       "               'missiondatatakeid': 45822,\n",
       "               'orbitnumber': 6366,\n",
       "               'lastorbitnumber': 6366,\n",
       "               'relativeorbitnumber': 40,\n",
       "               'lastrelativeorbitnumber': 40,\n",
       "               'slicenumber': 3,\n",
       "               'acquisitiontype': 'NOMINAL',\n",
       "               'filename': 'S1B_IW_GRDH_1SDV_20170706T104836_20170706T104901_006366_00B2FE_7FF3.SAFE',\n",
       "               'gmlfootprint': '<gml:Polygon srsName=\"http://www.opengis.net/gml/srs/epsg.xml#4326\" xmlns:gml=\"http://www.opengis.net/gml\">\\n   <gml:outerBoundaryIs>\\n      <gml:LinearRing>\\n         <gml:coordinates>39.710926,-69.758995 40.103622,-72.672874 41.629456,-72.350143 41.237782,-69.368782 39.710926,-69.758995</gml:coordinates>\\n      </gml:LinearRing>\\n   </gml:outerBoundaryIs>\\n</gml:Polygon>',\n",
       "               'format': 'SAFE',\n",
       "               'identifier': 'S1B_IW_GRDH_1SDV_20170706T104836_20170706T104901_006366_00B2FE_7FF3',\n",
       "               'instrumentshortname': 'SAR-C SAR',\n",
       "               'sensoroperationalmode': 'IW',\n",
       "               'instrumentname': 'Synthetic Aperture Radar (C-band)',\n",
       "               'swathidentifier': 'IW',\n",
       "               'footprint': 'POLYGON ((-69.758995 39.710926,-72.672874 40.103622,-72.350143 41.629456,-69.368782 41.237782,-69.758995 39.710926))',\n",
       "               'platformidentifier': '2016-025A',\n",
       "               'orbitdirection': 'DESCENDING',\n",
       "               'polarisationmode': 'VV VH',\n",
       "               'productclass': 'S',\n",
       "               'producttype': 'GRD',\n",
       "               'platformname': 'Sentinel-1',\n",
       "               'size': '1.6 GB',\n",
       "               'status': 'ARCHIVED',\n",
       "               'uuid': 'a54c47ae-f211-4b0e-b6bf-b80b30443a9c'}),\n",
       "             ('138a79e4-c0a7-40dc-a757-81fef176d0b7',\n",
       "              {'title': 'S1A_IW_GRDH_1SDV_20170624T224220_20170624T224245_017182_01CA82_856D',\n",
       "               'link': \"https://scihub.copernicus.eu/dhus/odata/v1/Products('138a79e4-c0a7-40dc-a757-81fef176d0b7')/$value\",\n",
       "               'link_alternative': \"https://scihub.copernicus.eu/dhus/odata/v1/Products('138a79e4-c0a7-40dc-a757-81fef176d0b7')/\",\n",
       "               'link_icon': \"https://scihub.copernicus.eu/dhus/odata/v1/Products('138a79e4-c0a7-40dc-a757-81fef176d0b7')/Products('Quicklook')/$value\",\n",
       "               'summary': 'Date: 2017-06-24T22:42:20.089Z, Instrument: SAR-C SAR, Mode: VV VH, Satellite: Sentinel-1, Size: 1.61 GB',\n",
       "               'ondemand': 'false',\n",
       "               'ingestiondate': datetime.datetime(2017, 6, 25, 4, 2, 46, 957000),\n",
       "               'beginposition': datetime.datetime(2017, 6, 24, 22, 42, 20, 89000),\n",
       "               'endposition': datetime.datetime(2017, 6, 24, 22, 42, 45, 87000),\n",
       "               'missiondatatakeid': 117378,\n",
       "               'orbitnumber': 17182,\n",
       "               'lastorbitnumber': 17182,\n",
       "               'relativeorbitnumber': 135,\n",
       "               'lastrelativeorbitnumber': 135,\n",
       "               'slicenumber': 5,\n",
       "               'acquisitiontype': 'NOMINAL',\n",
       "               'filename': 'S1A_IW_GRDH_1SDV_20170624T224220_20170624T224245_017182_01CA82_856D.SAFE',\n",
       "               'gmlfootprint': '<gml:Polygon srsName=\"http://www.opengis.net/gml/srs/epsg.xml#4326\" xmlns:gml=\"http://www.opengis.net/gml\">\\n   <gml:outerBoundaryIs>\\n      <gml:LinearRing>\\n         <gml:coordinates>40.464363,-73.114784 40.865757,-70.096680 39.365078,-69.782570 38.962482,-72.735229 40.464363,-73.114784</gml:coordinates>\\n      </gml:LinearRing>\\n   </gml:outerBoundaryIs>\\n</gml:Polygon>',\n",
       "               'format': 'SAFE',\n",
       "               'identifier': 'S1A_IW_GRDH_1SDV_20170624T224220_20170624T224245_017182_01CA82_856D',\n",
       "               'instrumentshortname': 'SAR-C SAR',\n",
       "               'sensoroperationalmode': 'IW',\n",
       "               'instrumentname': 'Synthetic Aperture Radar (C-band)',\n",
       "               'swathidentifier': 'IW',\n",
       "               'footprint': 'POLYGON ((-73.114784 40.464363,-70.096680 40.865757,-69.782570 39.365078,-72.735229 38.962482,-73.114784 40.464363))',\n",
       "               'platformidentifier': '2014-016A',\n",
       "               'orbitdirection': 'ASCENDING',\n",
       "               'polarisationmode': 'VV VH',\n",
       "               'productclass': 'S',\n",
       "               'producttype': 'GRD',\n",
       "               'platformname': 'Sentinel-1',\n",
       "               'size': '1.61 GB',\n",
       "               'status': 'ARCHIVED',\n",
       "               'uuid': '138a79e4-c0a7-40dc-a757-81fef176d0b7'}),\n",
       "             ('eb114830-e564-4351-9afb-5f2d109a0dba',\n",
       "              {'title': 'S1A_IW_GRDH_1SDV_20170612T224219_20170612T224244_017007_01C52B_7624',\n",
       "               'link': \"https://scihub.copernicus.eu/dhus/odata/v1/Products('eb114830-e564-4351-9afb-5f2d109a0dba')/$value\",\n",
       "               'link_alternative': \"https://scihub.copernicus.eu/dhus/odata/v1/Products('eb114830-e564-4351-9afb-5f2d109a0dba')/\",\n",
       "               'link_icon': \"https://scihub.copernicus.eu/dhus/odata/v1/Products('eb114830-e564-4351-9afb-5f2d109a0dba')/Products('Quicklook')/$value\",\n",
       "               'summary': 'Date: 2017-06-12T22:42:19.348Z, Instrument: SAR-C SAR, Mode: VV VH, Satellite: Sentinel-1, Size: 1.61 GB',\n",
       "               'ondemand': 'false',\n",
       "               'ingestiondate': datetime.datetime(2017, 6, 13, 4, 0, 47, 710000),\n",
       "               'beginposition': datetime.datetime(2017, 6, 12, 22, 42, 19, 348000),\n",
       "               'endposition': datetime.datetime(2017, 6, 12, 22, 42, 44, 347000),\n",
       "               'missiondatatakeid': 116011,\n",
       "               'orbitnumber': 17007,\n",
       "               'lastorbitnumber': 17007,\n",
       "               'relativeorbitnumber': 135,\n",
       "               'lastrelativeorbitnumber': 135,\n",
       "               'slicenumber': 5,\n",
       "               'acquisitiontype': 'NOMINAL',\n",
       "               'filename': 'S1A_IW_GRDH_1SDV_20170612T224219_20170612T224244_017007_01C52B_7624.SAFE',\n",
       "               'gmlfootprint': '<gml:Polygon srsName=\"http://www.opengis.net/gml/srs/epsg.xml#4326\" xmlns:gml=\"http://www.opengis.net/gml\">\\n   <gml:outerBoundaryIs>\\n      <gml:LinearRing>\\n         <gml:coordinates>40.464268,-73.115517 40.865719,-70.097305 39.365044,-69.783165 38.962391,-72.735924 40.464268,-73.115517</gml:coordinates>\\n      </gml:LinearRing>\\n   </gml:outerBoundaryIs>\\n</gml:Polygon>',\n",
       "               'format': 'SAFE',\n",
       "               'identifier': 'S1A_IW_GRDH_1SDV_20170612T224219_20170612T224244_017007_01C52B_7624',\n",
       "               'instrumentshortname': 'SAR-C SAR',\n",
       "               'sensoroperationalmode': 'IW',\n",
       "               'instrumentname': 'Synthetic Aperture Radar (C-band)',\n",
       "               'swathidentifier': 'IW',\n",
       "               'footprint': 'POLYGON ((-73.115517 40.464268,-70.097305 40.865719,-69.783165 39.365044,-72.735924 38.962391,-73.115517 40.464268))',\n",
       "               'platformidentifier': '2014-016A',\n",
       "               'orbitdirection': 'ASCENDING',\n",
       "               'polarisationmode': 'VV VH',\n",
       "               'productclass': 'S',\n",
       "               'producttype': 'GRD',\n",
       "               'platformname': 'Sentinel-1',\n",
       "               'size': '1.61 GB',\n",
       "               'status': 'ARCHIVED',\n",
       "               'uuid': 'eb114830-e564-4351-9afb-5f2d109a0dba'}),\n",
       "             ('54ebf099-d5ff-495e-ac7e-3598b2954512',\n",
       "              {'title': 'S1B_IW_GRDH_1SDV_20170612T104835_20170612T104900_006016_00A8F4_F976',\n",
       "               'link': \"https://scihub.copernicus.eu/dhus/odata/v1/Products('54ebf099-d5ff-495e-ac7e-3598b2954512')/$value\",\n",
       "               'link_alternative': \"https://scihub.copernicus.eu/dhus/odata/v1/Products('54ebf099-d5ff-495e-ac7e-3598b2954512')/\",\n",
       "               'link_icon': \"https://scihub.copernicus.eu/dhus/odata/v1/Products('54ebf099-d5ff-495e-ac7e-3598b2954512')/Products('Quicklook')/$value\",\n",
       "               'summary': 'Date: 2017-06-12T10:48:35.322Z, Instrument: SAR-C SAR, Mode: VV VH, Satellite: Sentinel-1, Size: 1.6 GB',\n",
       "               'ondemand': 'false',\n",
       "               'ingestiondate': datetime.datetime(2017, 6, 12, 13, 44, 17, 567000),\n",
       "               'beginposition': datetime.datetime(2017, 6, 12, 10, 48, 35, 322000),\n",
       "               'endposition': datetime.datetime(2017, 6, 12, 10, 49, 0, 740000),\n",
       "               'missiondatatakeid': 43252,\n",
       "               'orbitnumber': 6016,\n",
       "               'lastorbitnumber': 6016,\n",
       "               'relativeorbitnumber': 40,\n",
       "               'lastrelativeorbitnumber': 40,\n",
       "               'slicenumber': 3,\n",
       "               'acquisitiontype': 'NOMINAL',\n",
       "               'filename': 'S1B_IW_GRDH_1SDV_20170612T104835_20170612T104900_006016_00A8F4_F976.SAFE',\n",
       "               'gmlfootprint': '<gml:Polygon srsName=\"http://www.opengis.net/gml/srs/epsg.xml#4326\" xmlns:gml=\"http://www.opengis.net/gml\">\\n   <gml:outerBoundaryIs>\\n      <gml:LinearRing>\\n         <gml:coordinates>39.711079,-69.759834 40.103783,-72.673714 41.629436,-72.351006 41.237751,-69.369652 39.711079,-69.759834</gml:coordinates>\\n      </gml:LinearRing>\\n   </gml:outerBoundaryIs>\\n</gml:Polygon>',\n",
       "               'format': 'SAFE',\n",
       "               'identifier': 'S1B_IW_GRDH_1SDV_20170612T104835_20170612T104900_006016_00A8F4_F976',\n",
       "               'instrumentshortname': 'SAR-C SAR',\n",
       "               'sensoroperationalmode': 'IW',\n",
       "               'instrumentname': 'Synthetic Aperture Radar (C-band)',\n",
       "               'swathidentifier': 'IW',\n",
       "               'footprint': 'POLYGON ((-69.759834 39.711079,-72.673714 40.103783,-72.351006 41.629436,-69.369652 41.237751,-69.759834 39.711079))',\n",
       "               'platformidentifier': '2016-025A',\n",
       "               'orbitdirection': 'DESCENDING',\n",
       "               'polarisationmode': 'VV VH',\n",
       "               'productclass': 'S',\n",
       "               'producttype': 'GRD',\n",
       "               'platformname': 'Sentinel-1',\n",
       "               'size': '1.6 GB',\n",
       "               'status': 'ARCHIVED',\n",
       "               'uuid': '54ebf099-d5ff-495e-ac7e-3598b2954512'})])"
      ]
     },
     "execution_count": 8,
     "metadata": {},
     "output_type": "execute_result"
    }
   ],
   "source": [
    "in_situ_obs['Pioneer_7']['products']"
   ]
  },
  {
   "cell_type": "code",
   "execution_count": 9,
   "id": "aac2ca09-4c05-47a7-8b27-e5058ad198d0",
   "metadata": {
    "scrolled": true,
    "tags": []
   },
   "outputs": [
    {
     "name": "stdout",
     "output_type": "stream",
     "text": [
      "----------------------------------------\n",
      "/lustre/storeB/project/IT/geout/machine-ocean/data_raw/sentinel/S1A_IW_GRDH_1SDV_20171022T224224_20171022T224249_018932_01FFE8_5D27.SAFE----------------------------------------\n",
      "Mapper: sentinel1_l1Band : 1 DN_VH\n",
      "  dataType: 2\n",
      "  name: DN_VH\n",
      "  SourceBand: 1\n",
      "  SourceFilename: /lustre/storeB/project/IT/geout/machine-ocean/data_raw/sentinel/S1A_IW_GRDH_1SDV_20171022T224224_20171022T224249_018932_01FFE8_5D27.SAFE/measurement/s1a-iw-grd-vh-20171022t224224-20171022t224249-018932-01ffe8-002.tiff\n",
      "Band : 2 DN_VV\n",
      "  dataType: 2\n",
      "  name: DN_VV\n",
      "  SourceBand: 1\n",
      "  SourceFilename: /lustre/storeB/project/IT/geout/machine-ocean/data_raw/sentinel/S1A_IW_GRDH_1SDV_20171022T224224_20171022T224249_018932_01FFE8_5D27.SAFE/measurement/s1a-iw-grd-vv-20171022t224224-20171022t224249-018932-01ffe8-001.tiff\n",
      "Band : 3 sigmaNought_VH\n",
      "  dataType: 7\n",
      "  name: sigmaNought_VH\n",
      "  SourceBand: 1\n",
      "  SourceFilename: /vsimem/YKVGZCXVNO.vrt\n",
      "Band : 4 noise_VH\n",
      "  dataType: 7\n",
      "  name: noise_VH\n",
      "  SourceBand: 1\n",
      "  SourceFilename: /vsimem/Y6B6Y9JXV6.vrt\n",
      "Band : 5 sigmaNought_VV\n",
      "  dataType: 7\n",
      "  name: sigmaNought_VV\n",
      "  SourceBand: 1\n",
      "  SourceFilename: /vsimem/MF8CV15XVA.vrt\n",
      "Band : 6 noise_VV\n",
      "  dataType: 7\n",
      "  name: noise_VV\n",
      "  SourceBand: 1\n",
      "  SourceFilename: /vsimem/JB3YABJ0ER.vrt\n",
      "Band : 7 look_direction\n",
      "  colormap: jet\n",
      "  dataType: 6\n",
      "  long_name: Sensor Azimuth Angle\n",
      "  minmax: 0 360\n",
      "  name: look_direction\n",
      "  short_name: sensor_azimuth\n",
      "  SourceBand: 1\n",
      "  SourceFilename: /vsimem/S48HXG0Q4A.vrt\n",
      "  standard_name: sensor_azimuth_angle\n",
      "  units: degrees\n",
      "  wkv: sensor_azimuth_angle\n",
      "Band : 8 sigma0_VH\n",
      "  colormap: gray\n",
      "  dataType: 6\n",
      "  long_name: Normalized Radar Cross Section\n",
      "  minmax: 0 0.1\n",
      "  name: sigma0_VH\n",
      "  PixelFunctionType: Sentinel1Calibration\n",
      "  polarization: VH\n",
      "  short_name: sigma0\n",
      "  SourceBand: 1\n",
      "  SourceFilename: /vsimem/GCDW6PZUIG.vrt\n",
      "  standard_name: surface_backwards_scattering_coefficient_of_radar_wave\n",
      "  suffix: VH\n",
      "  units: m/m\n",
      "  wkv: surface_backwards_scattering_coefficient_of_radar_wave\n",
      "Band : 9 beta0_VH\n",
      "  colormap: gray\n",
      "  dataType: 6\n",
      "  long_name: Reflectivity per unit area in slant range\n",
      "  minmax: 0 0.1\n",
      "  name: beta0_VH\n",
      "  PixelFunctionType: Sentinel1Calibration\n",
      "  polarization: VH\n",
      "  short_name: beta0\n",
      "  SourceBand: 1\n",
      "  SourceFilename: /vsimem/GCDW6PZUIG.vrt\n",
      "  standard_name: surface_backwards_brightness_coefficient_of_radar_wave\n",
      "  suffix: VH\n",
      "  units: m/m\n",
      "  wkv: surface_backwards_brightness_coefficient_of_radar_wave\n",
      "Band : 10 sigma0_VV\n",
      "  colormap: gray\n",
      "  dataType: 6\n",
      "  long_name: Normalized Radar Cross Section\n",
      "  minmax: 0 0.1\n",
      "  name: sigma0_VV\n",
      "  PixelFunctionType: Sentinel1Calibration\n",
      "  polarization: VV\n",
      "  short_name: sigma0\n",
      "  SourceBand: 2\n",
      "  SourceFilename: /vsimem/GCDW6PZUIG.vrt\n",
      "  standard_name: surface_backwards_scattering_coefficient_of_radar_wave\n",
      "  suffix: VV\n",
      "  units: m/m\n",
      "  wkv: surface_backwards_scattering_coefficient_of_radar_wave\n",
      "Band : 11 beta0_VV\n",
      "  colormap: gray\n",
      "  dataType: 6\n",
      "  long_name: Reflectivity per unit area in slant range\n",
      "  minmax: 0 0.1\n",
      "  name: beta0_VV\n",
      "  PixelFunctionType: Sentinel1Calibration\n",
      "  polarization: VV\n",
      "  short_name: beta0\n",
      "  SourceBand: 2\n",
      "  SourceFilename: /vsimem/GCDW6PZUIG.vrt\n",
      "  standard_name: surface_backwards_brightness_coefficient_of_radar_wave\n",
      "  suffix: VV\n",
      "  units: m/m\n",
      "  wkv: surface_backwards_brightness_coefficient_of_radar_wave\n",
      "Band : 12 incidence_angle\n",
      "  colormap: jet\n",
      "  dataType: 7\n",
      "  long_name: Incidence Angle\n",
      "  minmax: 0 90\n",
      "  name: incidence_angle\n",
      "  short_name: incidence_angle\n",
      "  SourceBand: 1\n",
      "  SourceFilename: /vsimem/RWEROQTNM4.vrt\n",
      "  standard_name: angle_of_incidence\n",
      "  units: degrees\n",
      "  wkv: angle_of_incidence\n",
      "Band : 13 elevation_angle\n",
      "  dataType: 7\n",
      "  name: elevation_angle\n",
      "  SourceBand: 1\n",
      "  SourceFilename: /vsimem/CXKZWQCBGS.vrt\n",
      "  wkv: angle_of_elevation\n",
      "----------------------------------------\n",
      "Domain:[25911 x 16701]\n",
      "----------------------------------------\n",
      "Projection(gcps):\n",
      "GEOGCS[\"WGS 84\",\n",
      "    DATUM[\"WGS_1984\",\n",
      "        SPHEROID[\"WGS 84\",6378137,298.257223563]],\n",
      "    PRIMEM[\"Greenwich\",0],\n",
      "    UNIT[\"degree\",0.0174532925199433]]\n",
      "----------------------------------------\n",
      "Corners (lon, lat):\n",
      "\t (-72.74,  38.96)  (-69.78,  39.36)\n",
      "\t (-73.12,  40.46)  (-70.10,  40.87)\n",
      "\n"
     ]
    }
   ],
   "source": [
    "# (might have to compile some code in Nansat, see warning when importing from nansat)\n",
    "# (in nansat root dir: python setup.py build_ext --inplace)\n",
    "\n",
    "# Install nansat dependency (not found in conda env production-10-2022)\n",
    "#%pip install --user pythesint\n",
    "\n",
    "# if you are running on you own laptop you will also need to do:\n",
    "#!sudo apt-get install libgdal-dev\n",
    "#!pip install --user GDAL==$(gdal-config --version | awk -F'[.]' '{print $1\".\"$2}')\n",
    "\n",
    "# list a SAR product with Nansat\n",
    "n = Nansat(data_dir + \"S1A_IW_GRDH_1SDV_20171022T224224_20171022T224249_018932_01FFE8_5D27.SAFE\")\n",
    "print(n)\n",
    "\n"
   ]
  },
  {
   "cell_type": "code",
   "execution_count": 10,
   "id": "51e4bc46-2d17-4f8e-8f57-0268df0cfc20",
   "metadata": {},
   "outputs": [
    {
     "name": "stdout",
     "output_type": "stream",
     "text": [
      "Variable           Type              Data/Info\n",
      "----------------------------------------------\n",
      "Nansat             type              <class 'nansat.nansat.Nansat'>\n",
      "SentinelAPI        type              <class 'sentinelsat.sentinel.SentinelAPI'>\n",
      "api                SentinelAPI       <sentinelsat.sentinel.Sen<...>object at 0x1524e21a3610>\n",
      "b1                 ndarray           16701x25911: 432739611 elems, type `uint16`, 865479222 bytes (825.3853054046631 Mb)\n",
      "data_dir           str               /lustre/storeB/project/IT<...>-ocean/data_raw/sentinel/\n",
      "datetime           module            <module 'datetime' from '<...>b/python3.9/datetime.py'>\n",
      "geojson_to_wkt     function          <function geojson_to_wkt at 0x1524b0211f70>\n",
      "handle             BufferedReader    <_io.BufferedReader name=<...>'products_scihub.pickle'>\n",
      "in_situ_dict       module            <module 'in_situ_dict' fr<...>a_files/in_situ_dict.py'>\n",
      "in_situ_obs        dict              n=18\n",
      "local_api          SentinelAPI       <sentinelsat.sentinel.Sen<...>object at 0x1524e21a3b50>\n",
      "make_path_filter   function          <function make_path_filter at 0x1524b0212700>\n",
      "n                  Nansat            -------------------------<...>0.46)  (-70.10,  40.87)\\n\n",
      "os                 module            <module 'os' from '/modul<...>022/lib/python3.9/os.py'>\n",
      "pickle             module            <module 'pickle' from '/m<...>lib/python3.9/pickle.py'>\n",
      "plt                module            <module 'matplotlib.pyplo<...>es/matplotlib/pyplot.py'>\n",
      "products_scihub    dict              n=1054\n",
      "pytz               module            <module 'pytz' from '/mod<...>ckages/pytz/__init__.py'>\n",
      "read_geojson       function          <function read_geojson at 0x1524b03aee50>\n",
      "sys                module            <module 'sys' (built-in)>\n",
      "time               module            <module 'time' (built-in)>\n",
      "utc_timezone       UTC               UTC\n",
      "wd                 str               /home/paulinast/repos/git<...>e-ocean-satdata/notebooks\n"
     ]
    },
    {
     "data": {
      "image/png": "[encoded data removed]",
      "text/plain": [
       "<Figure size 640x480 with 2 Axes>"
      ]
     },
     "metadata": {},
     "output_type": "display_data"
    }
   ],
   "source": [
    "%matplotlib inline\n",
    "# plot a SAR product with Nansat\n",
    "b1 = n[1]\n",
    "\n",
    "%whos\n",
    "plt.imshow(b1);plt.colorbar()\n",
    "plt.show()\n",
    "\n",
    "# write to file\n",
    "#n.write_figure('map.png', pltshow=True)"
   ]
  },
  {
   "cell_type": "code",
   "execution_count": 11,
   "id": "7b82b9a7-4a4a-4a76-8160-90fe58a8ca93",
   "metadata": {},
   "outputs": [
    {
     "data": {
      "text/plain": [
       "942"
      ]
     },
     "execution_count": 11,
     "metadata": {},
     "output_type": "execute_result"
    }
   ],
   "source": [
    "b1.max()"
   ]
  },
  {
   "cell_type": "code",
   "execution_count": 12,
   "id": "8a3df885-d405-4411-bd73-e48aa070fde3",
   "metadata": {
    "scrolled": true,
    "tags": []
   },
   "outputs": [
    {
     "data": {
      "text/plain": [
       "----------------------------------------\n",
       "/lustre/storeB/project/IT/geout/machine-ocean/data_raw/sentinel/S1A_IW_GRDH_1SDV_20171022T224224_20171022T224249_018932_01FFE8_5D27.SAFE----------------------------------------\n",
       "Mapper: sentinel1_l1Band : 1 DN_VH\n",
       "  dataType: 2\n",
       "  name: DN_VH\n",
       "  SourceBand: 1\n",
       "  SourceFilename: /vsimem/QVLBT755VU.vrt\n",
       "Band : 2 DN_VV\n",
       "  dataType: 2\n",
       "  name: DN_VV\n",
       "  SourceBand: 2\n",
       "  SourceFilename: /vsimem/QVLBT755VU.vrt\n",
       "Band : 3 sigmaNought_VH\n",
       "  dataType: 7\n",
       "  name: sigmaNought_VH\n",
       "  SourceBand: 3\n",
       "  SourceFilename: /vsimem/QVLBT755VU.vrt\n",
       "Band : 4 noise_VH\n",
       "  dataType: 7\n",
       "  name: noise_VH\n",
       "  SourceBand: 4\n",
       "  SourceFilename: /vsimem/QVLBT755VU.vrt\n",
       "Band : 5 sigmaNought_VV\n",
       "  dataType: 7\n",
       "  name: sigmaNought_VV\n",
       "  SourceBand: 5\n",
       "  SourceFilename: /vsimem/QVLBT755VU.vrt\n",
       "Band : 6 noise_VV\n",
       "  dataType: 7\n",
       "  name: noise_VV\n",
       "  SourceBand: 6\n",
       "  SourceFilename: /vsimem/QVLBT755VU.vrt\n",
       "Band : 7 look_direction\n",
       "  colormap: jet\n",
       "  dataType: 6\n",
       "  long_name: Sensor Azimuth Angle\n",
       "  minmax: 0 360\n",
       "  name: look_direction\n",
       "  short_name: sensor_azimuth\n",
       "  SourceBand: 7\n",
       "  SourceFilename: /vsimem/QVLBT755VU.vrt\n",
       "  standard_name: sensor_azimuth_angle\n",
       "  units: degrees\n",
       "  wkv: sensor_azimuth_angle\n",
       "Band : 8 sigma0_VH\n",
       "  colormap: gray\n",
       "  dataType: 6\n",
       "  long_name: Normalized Radar Cross Section\n",
       "  minmax: 0 0.1\n",
       "  name: sigma0_VH\n",
       "  polarization: VH\n",
       "  short_name: sigma0\n",
       "  SourceBand: 8\n",
       "  SourceFilename: /vsimem/QVLBT755VU.vrt\n",
       "  standard_name: surface_backwards_scattering_coefficient_of_radar_wave\n",
       "  suffix: VH\n",
       "  units: m/m\n",
       "  wkv: surface_backwards_scattering_coefficient_of_radar_wave\n",
       "Band : 9 beta0_VH\n",
       "  colormap: gray\n",
       "  dataType: 6\n",
       "  long_name: Reflectivity per unit area in slant range\n",
       "  minmax: 0 0.1\n",
       "  name: beta0_VH\n",
       "  polarization: VH\n",
       "  short_name: beta0\n",
       "  SourceBand: 9\n",
       "  SourceFilename: /vsimem/QVLBT755VU.vrt\n",
       "  standard_name: surface_backwards_brightness_coefficient_of_radar_wave\n",
       "  suffix: VH\n",
       "  units: m/m\n",
       "  wkv: surface_backwards_brightness_coefficient_of_radar_wave\n",
       "Band : 10 sigma0_VV\n",
       "  colormap: gray\n",
       "  dataType: 6\n",
       "  long_name: Normalized Radar Cross Section\n",
       "  minmax: 0 0.1\n",
       "  name: sigma0_VV\n",
       "  polarization: VV\n",
       "  short_name: sigma0\n",
       "  SourceBand: 10\n",
       "  SourceFilename: /vsimem/QVLBT755VU.vrt\n",
       "  standard_name: surface_backwards_scattering_coefficient_of_radar_wave\n",
       "  suffix: VV\n",
       "  units: m/m\n",
       "  wkv: surface_backwards_scattering_coefficient_of_radar_wave\n",
       "Band : 11 beta0_VV\n",
       "  colormap: gray\n",
       "  dataType: 6\n",
       "  long_name: Reflectivity per unit area in slant range\n",
       "  minmax: 0 0.1\n",
       "  name: beta0_VV\n",
       "  polarization: VV\n",
       "  short_name: beta0\n",
       "  SourceBand: 11\n",
       "  SourceFilename: /vsimem/QVLBT755VU.vrt\n",
       "  standard_name: surface_backwards_brightness_coefficient_of_radar_wave\n",
       "  suffix: VV\n",
       "  units: m/m\n",
       "  wkv: surface_backwards_brightness_coefficient_of_radar_wave\n",
       "Band : 12 incidence_angle\n",
       "  colormap: jet\n",
       "  dataType: 7\n",
       "  long_name: Incidence Angle\n",
       "  minmax: 0 90\n",
       "  name: incidence_angle\n",
       "  short_name: incidence_angle\n",
       "  SourceBand: 12\n",
       "  SourceFilename: /vsimem/QVLBT755VU.vrt\n",
       "  standard_name: angle_of_incidence\n",
       "  units: degrees\n",
       "  wkv: angle_of_incidence\n",
       "Band : 13 elevation_angle\n",
       "  dataType: 7\n",
       "  name: elevation_angle\n",
       "  SourceBand: 13\n",
       "  SourceFilename: /vsimem/QVLBT755VU.vrt\n",
       "  wkv: angle_of_elevation\n",
       "----------------------------------------\n",
       "Domain:[10 x 12]\n",
       "----------------------------------------\n",
       "Projection(gcps):\n",
       "GEOGCS[\"WGS 84\",\n",
       "    DATUM[\"WGS_1984\",\n",
       "        SPHEROID[\"WGS 84\",6378137,298.257223563]],\n",
       "    PRIMEM[\"Greenwich\",0],\n",
       "    UNIT[\"degree\",0.0174532925199433]]\n",
       "----------------------------------------\n",
       "Corners (lon, lat):\n",
       "\t (-70.78,  40.13)  (-70.78,  40.13)\n",
       "\t (-70.78,  40.13)  (-70.78,  40.13)"
      ]
     },
     "execution_count": 12,
     "metadata": {},
     "output_type": "execute_result"
    }
   ],
   "source": [
    "#extent = n.crop_lonlat(lonlim=[-70.77,-70.78], latlim=[40.13,40.14]) \n",
    "epsilon =  0.0005\n",
    "n.crop_lonlat(lonlim=[-70.7785 - epsilon, -70.7785 + epsilon], latlim=[40.1334 - epsilon, 40.1334 + epsilon])\n",
    "n\n",
    "#'lat': [40.1334],\n",
    "#'lon': [-70.7785]"
   ]
  },
  {
   "cell_type": "code",
   "execution_count": 13,
   "id": "0d77c4f7-8ea2-4952-ae25-05a96fcc16ee",
   "metadata": {},
   "outputs": [
    {
     "data": {
      "text/plain": [
       "'VV'"
      ]
     },
     "execution_count": 13,
     "metadata": {},
     "output_type": "execute_result"
    }
   ],
   "source": [
    "try:\n",
    "    band_no = n.get_band_number({\n",
    "        'standard_name': 'surface_backwards_scattering_coefficient_of_radar_wave',\n",
    "        'polarization': 'HH',\n",
    "        'dataType': '6',})\n",
    "except ValueError:\n",
    "    band_no = n.get_band_number({\n",
    "        'standard_name': 'surface_backwards_scattering_coefficient_of_radar_wave',\n",
    "        'polarization': 'VV',\n",
    "        'dataType': '6',})\n",
    "pol = n.get_metadata(key='polarization', band_id=band_no)\n",
    "pol"
   ]
  },
  {
   "cell_type": "code",
   "execution_count": 14,
   "id": "7fe3deb0-4e81-4373-a310-502827c54b5e",
   "metadata": {},
   "outputs": [],
   "source": [
    "# Get NRCS, incidence angle, and sensor azimuth angle\n",
    "s0 = n[band_no]\n",
    "inc = n['incidence_angle']\n",
    "az = n['look_direction']"
   ]
  },
  {
   "cell_type": "markdown",
   "id": "6cc426b5-e267-46f3-a61a-c6c74a3d769d",
   "metadata": {
    "jp-MarkdownHeadingCollapsed": true,
    "tags": []
   },
   "source": [
    "# Test the normalization function with different crop sizes"
   ]
  },
  {
   "cell_type": "code",
   "execution_count": 15,
   "id": "d72a9cab-ffcd-4b55-8cb9-66d96c40fb00",
   "metadata": {},
   "outputs": [],
   "source": [
    "station_lon = -70.7785\n",
    "station_lat = 40.1334"
   ]
  },
  {
   "cell_type": "markdown",
   "id": "11fa3c94-ff5f-4b1d-9522-fe50d543d93f",
   "metadata": {},
   "source": [
    "## epsilon = 0.00005"
   ]
  },
  {
   "cell_type": "code",
   "execution_count": 16,
   "id": "90a9e354-2bfc-461e-803d-b7b6198654cb",
   "metadata": {},
   "outputs": [
    {
     "name": "stdout",
     "output_type": "stream",
     "text": [
      "CPU times: user 513 ms, sys: 30.3 ms, total: 543 ms\n",
      "Wall time: 563 ms\n"
     ]
    }
   ],
   "source": [
    "%%time\n",
    "\n",
    "# plot a normalize SAR product\n",
    "\n",
    "# this is VERY memory consuming. I ran this on PPI with: qlogin -q bigmem-r8.q -pe mpi 32\n",
    "# bigmem-r8.q queue is pretty busy... this may also run with: qlogin -q research-r8.q (but I have not tested it.. might have to tune mem)\n",
    "\n",
    "s0, s0_norm, inc, az, grid_lons, grid_lats, pol = sar.sar_params(\n",
    "    data_dir + \"S1A_IW_GRDH_1SDV_20171022T224224_20171022T224249_018932_01FFE8_5D27.SAFE\",\n",
    "    station_lon=station_lon,\n",
    "    station_lat=station_lat,\n",
    "    epsilon=0.00005\n",
    ")"
   ]
  },
  {
   "cell_type": "code",
   "execution_count": 17,
   "id": "48e5719b-2966-4a1c-b303-cd54bd1c34a0",
   "metadata": {},
   "outputs": [
    {
     "data": {
      "text/plain": [
       "array([[-31.700638]], dtype=float32)"
      ]
     },
     "execution_count": 17,
     "metadata": {},
     "output_type": "execute_result"
    }
   ],
   "source": [
    "s0"
   ]
  },
  {
   "cell_type": "markdown",
   "id": "70c2e052-3ef5-4946-a8ef-44263939bf77",
   "metadata": {},
   "source": [
    "## epsilon = 0.0005"
   ]
  },
  {
   "cell_type": "code",
   "execution_count": 18,
   "id": "bd49153b-3fbe-4aa8-b07b-6af81331098b",
   "metadata": {},
   "outputs": [
    {
     "name": "stdout",
     "output_type": "stream",
     "text": [
      "CPU times: user 558 ms, sys: 11.2 ms, total: 569 ms\n",
      "Wall time: 586 ms\n"
     ]
    }
   ],
   "source": [
    "%%time\n",
    "\n",
    "sys.path.append(\"..\")\n",
    "import sar\n",
    "\n",
    "# plot a normalize SAR product\n",
    "\n",
    "# this is VERY memory consuming. I ran this on PPI with: qlogin -q bigmem-r8.q -pe mpi 32\n",
    "# bigmem-r8.q queue is pretty busy... this may also run with: qlogin -q research-r8.q (but I have not tested it.. might have to tune mem)\n",
    "\n",
    "s0, s0_norm, inc, az, grid_lons, grid_lats, pol = sar.sar_params(\n",
    "    data_dir + \"S1A_IW_GRDH_1SDV_20171022T224224_20171022T224249_018932_01FFE8_5D27.SAFE\",\n",
    "    station_lon=station_lon,\n",
    "    station_lat=station_lat,\n",
    "    epsilon=0.0005\n",
    ")"
   ]
  },
  {
   "cell_type": "code",
   "execution_count": 19,
   "id": "4b1e46e7-43af-41eb-99a9-85797dad0f7d",
   "metadata": {},
   "outputs": [
    {
     "data": {
      "text/plain": [
       "array([[-27.61842 , -28.778214, -29.647482, -27.987953, -29.64739 ,\n",
       "        -32.94355 , -37.160572, -33.638702, -30.6133  , -30.116785],\n",
       "       [-27.263847, -27.263802, -27.263754, -27.618284, -27.263662,\n",
       "        -26.279257, -26.922903, -29.647253, -30.6133  , -31.139833],\n",
       "       [-30.117197, -27.988043, -30.117104, -31.140108, -25.680037,\n",
       "        -23.626745, -24.592793, -27.618101, -27.618055, -26.922768],\n",
       "       [-29.647575, -28.374147, -30.117104, -28.374054, -27.618237,\n",
       "        -26.595142, -27.263569, -27.618101, -25.395046, -24.340874],\n",
       "       [-29.202045, -28.778214, -27.263754, -26.595232, -29.201862,\n",
       "        -32.94355 , -31.139969, -27.263525, -25.97432 , -26.279072],\n",
       "       [-31.70082 , -34.394745, -30.117104, -28.778122, -28.374008,\n",
       "        -32.299854, -32.943504, -27.263525, -27.987724, -31.700409],\n",
       "       [-28.374193, -30.613623, -30.613575, -31.140108, -31.700638,\n",
       "        -31.700592, -29.20177 , -26.595049, -26.922813, -29.647161],\n",
       "       [-30.117197, -29.202002, -31.140156, -31.140108, -30.117012,\n",
       "        -29.201817, -27.618145, -27.618101, -26.922813, -26.279072],\n",
       "       [-33.639023, -29.64753 , -27.987997, -26.923042, -27.987904,\n",
       "        -28.77803 , -28.777985, -30.116875, -28.373825, -26.59496 ],\n",
       "       [-32.94378 , -29.202002, -27.987997, -28.778122, -28.778076,\n",
       "        -31.700592, -32.29981 , -29.201727, -29.647207, -30.116785],\n",
       "       [-31.140247, -31.140202, -31.140156, -32.94364 , -31.140062,\n",
       "        -29.647346, -27.618145, -27.263525, -28.373825, -29.201633],\n",
       "       [-27.98809 , -27.618374, -26.923086, -27.263708, -28.778076,\n",
       "        -29.647346, -28.777985, -27.618101, -27.618055, -29.647161]],\n",
       "      dtype=float32)"
      ]
     },
     "execution_count": 19,
     "metadata": {},
     "output_type": "execute_result"
    }
   ],
   "source": [
    "s0"
   ]
  },
  {
   "cell_type": "code",
   "execution_count": 20,
   "id": "0eb2dcb2-a2cc-4213-92aa-792f9058e708",
   "metadata": {},
   "outputs": [
    {
     "ename": "NameError",
     "evalue": "name 'lon' is not defined",
     "output_type": "error",
     "traceback": [
      "\u001b[0;31m---------------------------------------------------------------------------\u001b[0m",
      "\u001b[0;31mNameError\u001b[0m                                 Traceback (most recent call last)",
      "Cell \u001b[0;32mIn [20], line 1\u001b[0m\n\u001b[0;32m----> 1\u001b[0m lon\u001b[38;5;241m.\u001b[39mshape\n",
      "\u001b[0;31mNameError\u001b[0m: name 'lon' is not defined"
     ]
    }
   ],
   "source": [
    "lon.shape"
   ]
  },
  {
   "cell_type": "code",
   "execution_count": null,
   "id": "6e6d1126-6ac5-4560-8461-204e0cca13c2",
   "metadata": {},
   "outputs": [],
   "source": [
    "import numpy as np\n",
    "\n",
    "# Find index of pixel at desired location (input longitude and latitude variables)\n",
    "y_idx = []\n",
    "x_idx = []\n",
    "\n",
    "# something like this?? or do we need something more accurate? \n",
    "abslat = np.abs(lat-station_lat)\n",
    "abslon = np.abs(lon-station_lon)\n",
    "cor = np.maximum(abslon, abslat)\n",
    "([y_idx], [x_idx]) = np.where(cor == np.min(cor))"
   ]
  },
  {
   "cell_type": "code",
   "execution_count": null,
   "id": "1d328a44-8780-481c-8d8c-3dbcbb151d82",
   "metadata": {},
   "outputs": [],
   "source": [
    "y_idx"
   ]
  },
  {
   "cell_type": "code",
   "execution_count": null,
   "id": "b2b17264-6fec-4f82-9b35-aa0fb7f4f113",
   "metadata": {},
   "outputs": [],
   "source": [
    "x_idx"
   ]
  },
  {
   "cell_type": "code",
   "execution_count": null,
   "id": "acab0f04-794f-4693-8ca6-8293b0603350",
   "metadata": {},
   "outputs": [],
   "source": [
    "s0[x_idx, y_idx]"
   ]
  },
  {
   "cell_type": "code",
   "execution_count": null,
   "id": "f3245940-2c82-4238-ae0a-fb89d3746cd6",
   "metadata": {},
   "outputs": [],
   "source": []
  },
  {
   "cell_type": "markdown",
   "id": "f97aa888-ae17-458b-978e-2052b48ff698",
   "metadata": {},
   "source": [
    "## epsilon = 0.005"
   ]
  },
  {
   "cell_type": "code",
   "execution_count": 29,
   "id": "932c134d-96a8-46ac-b08e-dc06c1caa302",
   "metadata": {},
   "outputs": [
    {
     "name": "stdout",
     "output_type": "stream",
     "text": [
      "CPU times: user 637 ms, sys: 14.8 ms, total: 652 ms\n",
      "Wall time: 742 ms\n"
     ]
    }
   ],
   "source": [
    "%%time\n",
    "\n",
    "sys.path.append(\"..\")\n",
    "import sar\n",
    "\n",
    "# plot a normalize SAR product\n",
    "\n",
    "# this is VERY memory consuming. I ran this on PPI with: qlogin -q bigmem-r8.q -pe mpi 32\n",
    "# bigmem-r8.q queue is pretty busy... this may also run with: qlogin -q research-r8.q (but I have not tested it.. might have to tune mem)\n",
    "\n",
    "s0, s0_norm, inc, az, grid_lons, grid_lats, pol = sar.sar_params(\n",
    "    data_dir + \"S1A_IW_GRDH_1SDV_20171022T224224_20171022T224249_018932_01FFE8_5D27.SAFE\",\n",
    "    station_lon=station_lon,\n",
    "    station_lat=station_lat,\n",
    "    epsilon=0.005\n",
    ")"
   ]
  },
  {
   "cell_type": "code",
   "execution_count": 30,
   "id": "c739289b-5421-4d1e-91cd-9d08d9304ef6",
   "metadata": {},
   "outputs": [
    {
     "data": {
      "text/plain": [
       "(122, 103)"
      ]
     },
     "execution_count": 30,
     "metadata": {},
     "output_type": "execute_result"
    }
   ],
   "source": [
    "s0.shape"
   ]
  },
  {
   "cell_type": "code",
   "execution_count": 31,
   "id": "435e7652-2636-49ec-a5ad-90f5f9deef1c",
   "metadata": {},
   "outputs": [
    {
     "data": {
      "text/plain": [
       "(12, 10)"
      ]
     },
     "execution_count": 31,
     "metadata": {},
     "output_type": "execute_result"
    }
   ],
   "source": [
    "lon.shape"
   ]
  },
  {
   "cell_type": "code",
   "execution_count": 32,
   "id": "58472f18-445f-49de-89ff-b45d48f9c55e",
   "metadata": {},
   "outputs": [],
   "source": [
    "import numpy as np\n",
    "\n",
    "# Find index of pixel at desired location (input longitude and latitude variables)\n",
    "y_idx = []\n",
    "x_idx = []\n",
    "\n",
    "# something like this?? or do we need something more accurate? \n",
    "abslat = np.abs(lat-station_lat)\n",
    "abslon = np.abs(lon-station_lon)\n",
    "cor = np.maximum(abslon, abslat)\n",
    "([y_idx], [x_idx]) = np.where(cor == np.min(cor))"
   ]
  },
  {
   "cell_type": "code",
   "execution_count": 33,
   "id": "54e7f78c-40a3-45dd-9482-b92d28676f7a",
   "metadata": {},
   "outputs": [
    {
     "data": {
      "text/plain": [
       "40.1334"
      ]
     },
     "execution_count": 33,
     "metadata": {},
     "output_type": "execute_result"
    }
   ],
   "source": [
    "station_lat"
   ]
  },
  {
   "cell_type": "code",
   "execution_count": 34,
   "id": "a146afae-59c6-4507-bc6a-6e9523720f90",
   "metadata": {},
   "outputs": [
    {
     "data": {
      "text/plain": [
       "40.1276512729377"
      ]
     },
     "execution_count": 34,
     "metadata": {},
     "output_type": "execute_result"
    }
   ],
   "source": [
    "grid_lats[x_idx, y_idx]"
   ]
  },
  {
   "cell_type": "code",
   "execution_count": 35,
   "id": "5a464a3d-d43a-4bd8-a948-f637d4bf4383",
   "metadata": {},
   "outputs": [
    {
     "data": {
      "text/plain": [
       "40.12766611488924"
      ]
     },
     "execution_count": 35,
     "metadata": {},
     "output_type": "execute_result"
    }
   ],
   "source": [
    "grid_lats[x_idx, y_idx+1]"
   ]
  },
  {
   "cell_type": "code",
   "execution_count": 36,
   "id": "325ce99e-5c37-409d-a9bc-272d084a10e6",
   "metadata": {},
   "outputs": [
    {
     "data": {
      "text/plain": [
       "-70.7785"
      ]
     },
     "execution_count": 36,
     "metadata": {},
     "output_type": "execute_result"
    }
   ],
   "source": [
    "station_lon"
   ]
  },
  {
   "cell_type": "code",
   "execution_count": 37,
   "id": "e6481665-3d85-408e-ac12-e85240d0cd16",
   "metadata": {},
   "outputs": [
    {
     "data": {
      "text/plain": [
       "-30.119076"
      ]
     },
     "execution_count": 37,
     "metadata": {},
     "output_type": "execute_result"
    }
   ],
   "source": [
    "s0[x_idx, y_idx]"
   ]
  },
  {
   "cell_type": "markdown",
   "id": "e8ae66ce-0edc-4445-ad60-5c8d06de30b4",
   "metadata": {},
   "source": [
    "### Check neighbour values"
   ]
  },
  {
   "cell_type": "markdown",
   "id": "ced2bd26-1381-4fae-9b67-ab015f6db324",
   "metadata": {},
   "source": [
    "The differences in the locations are very small, but the values change a lot"
   ]
  },
  {
   "cell_type": "code",
   "execution_count": 38,
   "id": "7eb1ebfe-0bc0-4f62-93aa-4671f7481545",
   "metadata": {},
   "outputs": [
    {
     "data": {
      "text/plain": [
       "-28.78014"
      ]
     },
     "execution_count": 38,
     "metadata": {},
     "output_type": "execute_result"
    }
   ],
   "source": [
    "s0[x_idx-1, y_idx]"
   ]
  },
  {
   "cell_type": "code",
   "execution_count": 39,
   "id": "efa8b474-9008-4289-9772-a826dac2601f",
   "metadata": {},
   "outputs": [
    {
     "data": {
      "text/plain": [
       "-27.265774"
      ]
     },
     "execution_count": 39,
     "metadata": {},
     "output_type": "execute_result"
    }
   ],
   "source": [
    "s0[x_idx-1, y_idx-1]"
   ]
  },
  {
   "cell_type": "code",
   "execution_count": 40,
   "id": "858f1b76-4f3a-4f26-bc46-b36341be5a62",
   "metadata": {},
   "outputs": [
    {
     "data": {
      "text/plain": [
       "-28.376026"
      ]
     },
     "execution_count": 40,
     "metadata": {},
     "output_type": "execute_result"
    }
   ],
   "source": [
    "s0[x_idx-1, y_idx+1]"
   ]
  },
  {
   "cell_type": "code",
   "execution_count": 41,
   "id": "3781ff7d-3eda-4d0e-830b-5f32c167e7e7",
   "metadata": {},
   "outputs": [
    {
     "data": {
      "text/plain": [
       "-29.649452"
      ]
     },
     "execution_count": 41,
     "metadata": {},
     "output_type": "execute_result"
    }
   ],
   "source": [
    "s0[x_idx+1, y_idx]"
   ]
  },
  {
   "cell_type": "code",
   "execution_count": 42,
   "id": "924ab066-8361-4423-a8c5-8f8da094b637",
   "metadata": {},
   "outputs": [
    {
     "data": {
      "text/plain": [
       "-28.37612"
      ]
     },
     "execution_count": 42,
     "metadata": {},
     "output_type": "execute_result"
    }
   ],
   "source": [
    "s0[x_idx+1, y_idx-1]"
   ]
  },
  {
   "cell_type": "code",
   "execution_count": 43,
   "id": "e4b8b52c-933c-4766-8b1f-4409845c8920",
   "metadata": {},
   "outputs": [
    {
     "data": {
      "text/plain": [
       "-32.301918"
      ]
     },
     "execution_count": 43,
     "metadata": {},
     "output_type": "execute_result"
    }
   ],
   "source": [
    "s0[x_idx+1, y_idx +1]"
   ]
  },
  {
   "cell_type": "code",
   "execution_count": 44,
   "id": "f0c9f465-b596-4883-9c66-863ded003b16",
   "metadata": {},
   "outputs": [
    {
     "data": {
      "text/plain": [
       "-28.37612"
      ]
     },
     "execution_count": 44,
     "metadata": {},
     "output_type": "execute_result"
    }
   ],
   "source": [
    "s0[x_idx, y_idx -1]"
   ]
  },
  {
   "cell_type": "code",
   "execution_count": 45,
   "id": "020de1c9-0f12-4d47-bc64-a51986e85f0c",
   "metadata": {},
   "outputs": [
    {
     "data": {
      "text/plain": [
       "-29.649408"
      ]
     },
     "execution_count": 45,
     "metadata": {},
     "output_type": "execute_result"
    }
   ],
   "source": [
    "s0[x_idx, y_idx +1]"
   ]
  },
  {
   "cell_type": "markdown",
   "id": "001febac-8e1a-4251-966e-f6fd67b554e8",
   "metadata": {},
   "source": []
  },
  {
   "cell_type": "markdown",
   "id": "dbba63c0-bbc0-4cc3-beaf-ee5606e1c587",
   "metadata": {},
   "source": [
    "## epsilon = 0.05"
   ]
  },
  {
   "cell_type": "code",
   "execution_count": 46,
   "id": "d2cf3686-7c3f-4103-919b-f8f0925a809c",
   "metadata": {},
   "outputs": [
    {
     "name": "stdout",
     "output_type": "stream",
     "text": [
      "CPU times: user 1.9 s, sys: 160 ms, total: 2.06 s\n",
      "Wall time: 2.35 s\n"
     ]
    }
   ],
   "source": [
    "%%time\n",
    "\n",
    "sys.path.append(\"..\")\n",
    "import sar\n",
    "\n",
    "# plot a normalize SAR product\n",
    "\n",
    "# this is VERY memory consuming. I ran this on PPI with: qlogin -q bigmem-r8.q -pe mpi 32\n",
    "# bigmem-r8.q queue is pretty busy... this may also run with: qlogin -q research-r8.q (but I have not tested it.. might have to tune mem)\n",
    "\n",
    "s0, s0_norm, inc, az, grid_lons, grid_lats, pol = sar.sar_params(\n",
    "    data_dir + \"S1A_IW_GRDH_1SDV_20171022T224224_20171022T224249_018932_01FFE8_5D27.SAFE\",\n",
    "    station_lon=station_lon,\n",
    "    station_lat=station_lat,\n",
    "    epsilon=0.05\n",
    ")"
   ]
  },
  {
   "cell_type": "code",
   "execution_count": 47,
   "id": "2c813aea-a9fd-45ed-b569-ff776195448f",
   "metadata": {},
   "outputs": [
    {
     "data": {
      "text/plain": [
       "(1220, 1026)"
      ]
     },
     "execution_count": 47,
     "metadata": {},
     "output_type": "execute_result"
    }
   ],
   "source": [
    "s0.shape"
   ]
  },
  {
   "cell_type": "code",
   "execution_count": 48,
   "id": "de5fffbd-535b-41cd-9831-caf0c04260ef",
   "metadata": {},
   "outputs": [
    {
     "data": {
      "text/plain": [
       "(1220, 1026)"
      ]
     },
     "execution_count": 48,
     "metadata": {},
     "output_type": "execute_result"
    }
   ],
   "source": [
    "grid_lons.shape"
   ]
  },
  {
   "cell_type": "code",
   "execution_count": 49,
   "id": "ec3bb35d-0443-4c92-8e2a-3ff8ef9a3bae",
   "metadata": {},
   "outputs": [],
   "source": [
    "import numpy as np\n",
    "\n",
    "# Find index of pixel at desired location (input longitude and latitude variables)\n",
    "y_idx = []\n",
    "x_idx = []\n",
    "\n",
    "# something like this?? or do we need something more accurate? \n",
    "abslat = np.abs(lat-station_lat)\n",
    "abslon = np.abs(lon-station_lon)\n",
    "cor = np.maximum(abslon, abslat)\n",
    "([y_idx], [x_idx]) = np.where(cor == np.min(cor))"
   ]
  },
  {
   "cell_type": "code",
   "execution_count": 50,
   "id": "0a45da24-41ce-4269-9797-49e971a56087",
   "metadata": {},
   "outputs": [
    {
     "data": {
      "text/plain": [
       "40.1334"
      ]
     },
     "execution_count": 50,
     "metadata": {},
     "output_type": "execute_result"
    }
   ],
   "source": [
    "station_lat"
   ]
  },
  {
   "cell_type": "code",
   "execution_count": 51,
   "id": "05079ae6-bf28-4cc9-b160-751285ab85ce",
   "metadata": {},
   "outputs": [
    {
     "data": {
      "text/plain": [
       "40.071427915548064"
      ]
     },
     "execution_count": 51,
     "metadata": {},
     "output_type": "execute_result"
    }
   ],
   "source": [
    "grid_lats[x_idx, y_idx]"
   ]
  },
  {
   "cell_type": "code",
   "execution_count": 52,
   "id": "dee5ac70-0fb7-4eda-827a-b7f7503315b5",
   "metadata": {},
   "outputs": [
    {
     "data": {
      "text/plain": [
       "40.071442811908796"
      ]
     },
     "execution_count": 52,
     "metadata": {},
     "output_type": "execute_result"
    }
   ],
   "source": [
    "grid_lats[x_idx, y_idx+1]"
   ]
  },
  {
   "cell_type": "code",
   "execution_count": 53,
   "id": "d8a1c432-b32a-4310-b7ba-d9b6d8b32608",
   "metadata": {},
   "outputs": [
    {
     "data": {
      "text/plain": [
       "-70.7785"
      ]
     },
     "execution_count": 53,
     "metadata": {},
     "output_type": "execute_result"
    }
   ],
   "source": [
    "station_lon"
   ]
  },
  {
   "cell_type": "code",
   "execution_count": 54,
   "id": "75ddaf87-8387-458b-bdef-137c8675176b",
   "metadata": {},
   "outputs": [
    {
     "data": {
      "text/plain": [
       "-25.418646"
      ]
     },
     "execution_count": 54,
     "metadata": {},
     "output_type": "execute_result"
    }
   ],
   "source": [
    "s0[x_idx, y_idx]"
   ]
  },
  {
   "cell_type": "markdown",
   "id": "a6fe1ef7-1222-460e-aa58-748c0ba62242",
   "metadata": {},
   "source": [
    "### We see that the the latitudes are different when we use different epsilon.\n",
    "### Therefore, we need to use another distance function"
   ]
  },
  {
   "cell_type": "markdown",
   "id": "01c0cfa4-e9c0-459d-a3eb-392b77813c57",
   "metadata": {
    "tags": []
   },
   "source": [
    "## Use another distance function"
   ]
  },
  {
   "cell_type": "code",
   "execution_count": 21,
   "id": "3e46b990-27ee-488a-9ffa-5441f3fdf4ea",
   "metadata": {},
   "outputs": [],
   "source": [
    "x_idx, y_idx = sar.get_idx_of_station_in_cropped_image(grid_lons, grid_lats, station_lat, station_lon)"
   ]
  },
  {
   "cell_type": "code",
   "execution_count": 22,
   "id": "72ac6413-87c6-4548-b629-bd19e01bf337",
   "metadata": {},
   "outputs": [
    {
     "data": {
      "text/plain": [
       "6"
      ]
     },
     "execution_count": 22,
     "metadata": {},
     "output_type": "execute_result"
    }
   ],
   "source": [
    "x_idx"
   ]
  },
  {
   "cell_type": "code",
   "execution_count": 23,
   "id": "7718b5f9-aacb-4999-aac1-c581ec87540d",
   "metadata": {},
   "outputs": [
    {
     "data": {
      "text/plain": [
       "5"
      ]
     },
     "execution_count": 23,
     "metadata": {},
     "output_type": "execute_result"
    }
   ],
   "source": [
    "y_idx"
   ]
  },
  {
   "cell_type": "code",
   "execution_count": 24,
   "id": "47eb6ce8-475f-4a8a-a2b1-f4159f15cac5",
   "metadata": {},
   "outputs": [
    {
     "data": {
      "text/plain": [
       "40.133368062625294"
      ]
     },
     "execution_count": 24,
     "metadata": {},
     "output_type": "execute_result"
    }
   ],
   "source": [
    "grid_lats[x_idx, y_idx]"
   ]
  },
  {
   "cell_type": "code",
   "execution_count": 25,
   "id": "d33d73f7-308d-4b99-a77e-1fd2ba16181e",
   "metadata": {},
   "outputs": [
    {
     "data": {
      "text/plain": [
       "-70.77847875460428"
      ]
     },
     "execution_count": 25,
     "metadata": {},
     "output_type": "execute_result"
    }
   ],
   "source": [
    "grid_lons[x_idx, y_idx]"
   ]
  },
  {
   "cell_type": "code",
   "execution_count": 26,
   "id": "9e1336dc-db81-4491-adba-ccecee106428",
   "metadata": {},
   "outputs": [
    {
     "data": {
      "text/plain": [
       "-31.700592"
      ]
     },
     "execution_count": 26,
     "metadata": {},
     "output_type": "execute_result"
    }
   ],
   "source": [
    "s0[x_idx, y_idx]"
   ]
  },
  {
   "cell_type": "code",
   "execution_count": null,
   "id": "29311783-7f86-4bc4-8259-a25216d34356",
   "metadata": {},
   "outputs": [],
   "source": []
  },
  {
   "cell_type": "markdown",
   "id": "4141e4dd-d489-429b-a565-f21539b22cbf",
   "metadata": {},
   "source": [
    "# Fill in in_situ_obs dict with SAR data"
   ]
  },
  {
   "cell_type": "code",
   "execution_count": 7,
   "id": "0c9fed4e-2f27-4fb2-ac82-914ac0046900",
   "metadata": {},
   "outputs": [],
   "source": [
    "with open(data_dir + 'in_situ_obs_with_sar_params.pickle', 'rb') as handle:\n",
    "    in_situ_obs = pickle.load(handle)"
   ]
  },
  {
   "cell_type": "code",
   "execution_count": 8,
   "id": "2976da44-d557-4c3b-9faa-7ae7136277c0",
   "metadata": {},
   "outputs": [
    {
     "data": {
      "text/plain": [
       "dict_keys(['Endurance_8', 'Irminger_7', 'SPURS2', 'Endurance_4', 'Irminger_6', 'Pioneer_5', 'CLIMODE', 'Endurance_9', 'Pioneer_10', 'SouthernOcean2', 'Endurance_3', 'Pioneer_3', 'SPURS1', 'Endurance_7', 'Irminger_3', 'Pioneer_7', 'Pioneer_6', 'Pioneer_8'])"
      ]
     },
     "execution_count": 8,
     "metadata": {},
     "output_type": "execute_result"
    }
   ],
   "source": [
    "in_situ_obs.keys()"
   ]
  },
  {
   "cell_type": "code",
   "execution_count": 9,
   "id": "e3af2688-6c9c-49e9-9a8d-4042f164ff1b",
   "metadata": {},
   "outputs": [
    {
     "data": {
      "text/plain": [
       "dict_keys(['title', 'link', 'link_alternative', 'link_icon', 'summary', 'ondemand', 'beginposition', 'endposition', 'ingestiondate', 'missiondatatakeid', 'slicenumber', 'orbitnumber', 'lastorbitnumber', 'relativeorbitnumber', 'lastrelativeorbitnumber', 'filename', 'format', 'identifier', 'size', 'status', 'timeliness', 'sensoroperationalmode', 'swathidentifier', 'orbitdirection', 'producttype', 'platformname', 'platformidentifier', 'instrumentname', 'instrumentshortname', 'productclass', 'polarisationmode', 'acquisitiontype', 'gmlfootprint', 'footprint', 'uuid', 'sar_params'])"
      ]
     },
     "execution_count": 9,
     "metadata": {},
     "output_type": "execute_result"
    }
   ],
   "source": [
    "in_situ_obs['Irminger_7']['products']['600bc942-80f1-43e1-83e0-c4397a8b5891'].keys()"
   ]
  },
  {
   "cell_type": "code",
   "execution_count": null,
   "id": "d6d1fb72-7f62-4fb7-841e-73bb1158afcb",
   "metadata": {
    "scrolled": true,
    "tags": []
   },
   "outputs": [
    {
     "name": "stdout",
     "output_type": "stream",
     "text": [
      "Endurance_8\n",
      "Irminger_7\n",
      "Buoy  Irminger_7 File  S1A_EW_GRDM_1SDH_20210729T200350_20210729T200450_038997_0499E6_20BC.SAFE  cannot be normalized for epsilon =  0.0001 .\n",
      "Buoy  Irminger_7 File  S1B_EW_GRDM_1SDH_20210728T201123_20210728T201223_027999_03571C_4E75.SAFE  cannot be normalized for epsilon =  0.0001 .\n",
      "Buoy  Irminger_7 File  S1B_EW_GRDM_1SDH_20210726T202749_20210726T202849_027970_03564C_53AE.SAFE  cannot be normalized for epsilon =  0.0001 .\n"
     ]
    },
    {
     "name": "stderr",
     "output_type": "stream",
     "text": [
      "/home/paulinast/repos/github/machine-ocean-satdata/notebooks/../sar.py:164: RuntimeWarning: divide by zero encountered in log10\n",
      "  s0 = 10.*np.log10(s0)\n"
     ]
    },
    {
     "name": "stdout",
     "output_type": "stream",
     "text": [
      "Buoy  Irminger_7 File  S1B_EW_GRDM_1SDH_20210723T200308_20210723T200408_027926_03550D_CDDD.SAFE  cannot be normalized for epsilon =  0.0001 .\n",
      "Buoy  Irminger_7 File  S1A_EW_GRDM_1SDH_20210722T201204_20210722T201304_038895_0496E9_F2E3.SAFE  cannot be normalized for epsilon =  0.0001 .\n",
      "Buoy  Irminger_7 File  S1B_EW_GRDM_1SDH_20210721T201934_20210721T202034_027897_035427_E8BD.SAFE  cannot be normalized for epsilon =  0.0001 .\n",
      "Buoy  Irminger_7 File  S1A_EW_GRDM_1SDH_20210717T200350_20210717T200450_038822_0494B4_47AD.SAFE  cannot be normalized for epsilon =  0.0001 .\n",
      "Buoy  Irminger_7 File  S1B_EW_GRDM_1SDH_20210716T201122_20210716T201222_027824_0351F8_8F78.SAFE  cannot be normalized for epsilon =  0.0001 .\n",
      "Buoy  Irminger_7 File  S1B_EW_GRDM_1SDH_20210714T202748_20210714T202848_027795_03511D_3CC4.SAFE  cannot be normalized for epsilon =  0.0001 .\n",
      "Buoy  Irminger_7 File  S1B_EW_GRDM_1SDH_20210711T200307_20210711T200407_027751_034FDC_F105.SAFE  cannot be normalized for epsilon =  0.0001 .\n",
      "Buoy  Irminger_7 File  S1A_EW_GRDM_1SDH_20210710T201204_20210710T201304_038720_0491AA_5B0E.SAFE  cannot be normalized for epsilon =  0.0001 .\n",
      "Buoy  Irminger_7 File  S1B_EW_GRDM_1SDH_20210709T201933_20210709T202033_027722_034EEC_C5C6.SAFE  cannot be normalized for epsilon =  0.0001 .\n",
      "Buoy  Irminger_7 File  S1A_EW_GRDM_1SDH_20210705T200349_20210705T200449_038647_048F77_50E1.SAFE  cannot be normalized for epsilon =  0.0001 .\n",
      "Buoy  Irminger_7 File  S1B_EW_GRDM_1SDH_20210704T201121_20210704T201221_027649_034CCB_A1B6.SAFE  cannot be normalized for epsilon =  0.0001 .\n",
      "Buoy  Irminger_7 File  S1B_EW_GRDM_1SDH_20210702T202747_20210702T202847_027620_034BEA_8D04.SAFE  cannot be normalized for epsilon =  0.0001 .\n",
      "Buoy  Irminger_7 File  S1B_EW_GRDM_1SDH_20210629T200307_20210629T200407_027576_034ABF_FB36.SAFE  cannot be normalized for epsilon =  0.0001 .\n",
      "Buoy  Irminger_7 File  S1A_EW_GRDM_1SDH_20210628T201203_20210628T201303_038545_048C6B_9769.SAFE  cannot be normalized for epsilon =  0.0001 .\n",
      "Buoy  Irminger_7 File  S1B_EW_GRDM_1SDH_20210627T201932_20210627T202032_027547_0349CF_AA22.SAFE  cannot be normalized for epsilon =  0.0001 .\n",
      "Buoy  Irminger_7 File  S1A_EW_GRDM_1SDH_20210623T200348_20210623T200448_038472_048A2D_96EE.SAFE  cannot be normalized for epsilon =  0.0001 .\n",
      "Buoy  Irminger_7 File  S1B_EW_GRDM_1SDH_20210622T201121_20210622T201221_027474_0347E1_4BB8.SAFE  cannot be normalized for epsilon =  0.0001 .\n",
      "Buoy  Irminger_7 File  S1B_EW_GRDM_1SDH_20210620T202747_20210620T202847_027445_034714_55CE.SAFE  cannot be normalized for epsilon =  0.0001 .\n",
      "Buoy  Irminger_7 File  S1B_EW_GRDM_1SDH_20210617T200306_20210617T200406_027401_0345D4_B1A3.SAFE  cannot be normalized for epsilon =  0.0001 .\n",
      "Buoy  Irminger_7 File  S1A_EW_GRDM_1SDH_20210616T201202_20210616T201302_038370_048725_38A3.SAFE  cannot be normalized for epsilon =  0.0001 .\n",
      "Buoy  Irminger_7 File  S1B_EW_GRDM_1SDH_20210615T201932_20210615T202032_027372_0344E5_4AAB.SAFE  cannot be normalized for epsilon =  0.0001 .\n",
      "Buoy  Irminger_7 File  S1A_EW_GRDM_1SDH_20210611T200347_20210611T200447_038297_0484F7_B082.SAFE  cannot be normalized for epsilon =  0.0001 .\n",
      "Buoy  Irminger_7 File  S1B_EW_GRDM_1SDH_20210610T201120_20210610T201220_027299_0342B7_1A2B.SAFE  cannot be normalized for epsilon =  0.0001 .\n",
      "Buoy  Irminger_7 File  S1B_EW_GRDM_1SDH_20210608T202746_20210608T202846_027270_0341D8_F7A7.SAFE  cannot be normalized for epsilon =  0.0001 .\n",
      "Buoy  Irminger_7 File  S1B_EW_GRDM_1SDH_20210605T200305_20210605T200405_027226_034099_9359.SAFE  cannot be normalized for epsilon =  0.0001 .\n",
      "Buoy  Irminger_7 File  S1A_EW_GRDM_1SDH_20210604T201201_20210604T201301_038195_0481F6_A7F7.SAFE  cannot be normalized for epsilon =  0.0001 .\n",
      "Buoy  Irminger_7 File  S1B_EW_GRDM_1SDH_20210603T201931_20210603T202031_027197_033FA2_9401.SAFE  cannot be normalized for epsilon =  0.0001 .\n",
      "Buoy  Irminger_7 File  S1A_EW_GRDM_1SDH_20210530T200347_20210530T200447_038122_047FC7_084F.SAFE  cannot be normalized for epsilon =  0.0001 .\n",
      "Buoy  Irminger_7 File  S1B_EW_GRDM_1SDH_20210529T201119_20210529T201219_027124_033D78_3FBC.SAFE  cannot be normalized for epsilon =  0.0001 .\n",
      "Buoy  Irminger_7 File  S1B_EW_GRDM_1SDH_20210527T202745_20210527T202845_027095_033C9E_4BA2.SAFE  cannot be normalized for epsilon =  0.0001 .\n",
      "Buoy  Irminger_7 File  S1B_EW_GRDM_1SDH_20210524T200304_20210524T200404_027051_033B61_D836.SAFE  cannot be normalized for epsilon =  0.0001 .\n",
      "Buoy  Irminger_7 File  S1A_EW_GRDM_1SDH_20210523T201201_20210523T201243_038020_047CBD_0B8D.SAFE  cannot be normalized for epsilon =  0.0001 .\n",
      "Buoy  Irminger_7 File  S1B_EW_GRDM_1SDH_20210522T201930_20210522T202030_027022_033A72_3C03.SAFE  cannot be normalized for epsilon =  0.0001 .\n",
      "Buoy  Irminger_7 File  S1A_EW_GRDM_1SDH_20210518T200346_20210518T200446_037947_047A86_3ED5.SAFE  cannot be normalized for epsilon =  0.0001 .\n",
      "Buoy  Irminger_7 File  S1B_EW_GRDM_1SDH_20210517T201119_20210517T201219_026949_03383B_12EB.SAFE  cannot be normalized for epsilon =  0.0001 .\n",
      "Buoy  Irminger_7 File  S1B_EW_GRDM_1SDH_20210515T202744_20210515T202844_026920_033750_1050.SAFE  cannot be normalized for epsilon =  0.0001 .\n",
      "Buoy  Irminger_7 File  S1B_EW_GRDM_1SDH_20210512T200304_20210512T200404_026876_033605_9378.SAFE  cannot be normalized for epsilon =  0.0001 .\n",
      "Buoy  Irminger_7 File  S1A_EW_GRDM_1SDH_20210511T201200_20210511T201300_037845_047775_2E89.SAFE  cannot be normalized for epsilon =  0.0001 .\n",
      "Buoy  Irminger_7 File  S1B_EW_GRDM_1SDH_20210510T201930_20210510T202030_026847_033507_E445.SAFE  cannot be normalized for epsilon =  0.0001 .\n",
      "Buoy  Irminger_7 File  S1A_EW_GRDM_1SDH_20210506T200345_20210506T200445_037772_04753F_72AE.SAFE  cannot be normalized for epsilon =  0.0001 .\n",
      "Buoy  Irminger_7 File  S1B_EW_GRDM_1SDH_20210505T201118_20210505T201218_026774_0332C4_80DF.SAFE  cannot be normalized for epsilon =  0.0001 .\n",
      "Buoy  Irminger_7 File  S1B_EW_GRDM_1SDH_20210503T202744_20210503T202844_026745_0331D9_A78C.SAFE  cannot be normalized for epsilon =  0.0001 .\n",
      "Buoy  Irminger_7 File  S1B_EW_GRDM_1SDH_20210430T200303_20210430T200403_026701_03307E_7BD5.SAFE  cannot be normalized for epsilon =  0.0001 .\n",
      "Buoy  Irminger_7 File  S1A_EW_GRDM_1SDH_20210429T201159_20210429T201259_037670_0471C3_A91E.SAFE  cannot be normalized for epsilon =  0.0001 .\n",
      "Buoy  Irminger_7 File  S1B_EW_GRDM_1SDH_20210428T201929_20210428T202029_026672_032F75_134C.SAFE  cannot be normalized for epsilon =  0.0001 .\n",
      "Buoy  Irminger_7 File  S1A_EW_GRDM_1SDH_20210424T200345_20210424T200445_037597_046F39_9E7A.SAFE  cannot be normalized for epsilon =  0.0001 .\n",
      "Buoy  Irminger_7 File  S1B_EW_GRDM_1SDH_20210423T201118_20210423T201218_026599_032D2B_338C.SAFE  cannot be normalized for epsilon =  0.0001 .\n",
      "Buoy  Irminger_7 File  S1A_EW_GRDM_1SDH_20210422T201934_20210422T202038_037568_046E38_D2A9.SAFE  cannot be normalized for epsilon =  0.0001 .\n",
      "Buoy  Irminger_7 File  S1B_EW_GRDM_1SDH_20210421T202743_20210421T202843_026570_032C44_CDC3.SAFE  cannot be normalized for epsilon =  0.0001 .\n",
      "Buoy  Irminger_7 File  S1B_EW_GRDM_1SDH_20210418T200303_20210418T200403_026526_032AE4_335B.SAFE  cannot be normalized for epsilon =  0.0001 .\n",
      "Buoy  Irminger_7 File  S1A_EW_GRDM_1SDH_20210417T201159_20210417T201259_037495_046BAA_484A.SAFE  cannot be normalized for epsilon =  0.0001 .\n",
      "Buoy  Irminger_7 File  S1B_EW_GRDM_1SDH_20210416T201928_20210416T202028_026497_0329D8_1CDD.SAFE  cannot be normalized for epsilon =  0.0001 .\n",
      "Buoy  Irminger_7 File  S1A_EW_GRDM_1SDH_20210412T200344_20210412T200444_037422_04692F_D0F0.SAFE  cannot be normalized for epsilon =  0.0001 .\n",
      "Buoy  Irminger_7 File  S1B_EW_GRDM_1SDH_20210411T201117_20210411T201217_026424_03278C_C906.SAFE  cannot be normalized for epsilon =  0.0001 .\n",
      "Buoy  Irminger_7 File  S1A_EW_GRDM_1SDH_20210410T201933_20210410T202037_037393_046824_6706.SAFE  cannot be normalized for epsilon =  0.0001 .\n",
      "Buoy  Irminger_7 File  S1B_EW_GRDM_1SDH_20210409T202743_20210409T202843_026395_0326A0_0F2C.SAFE  cannot be normalized for epsilon =  0.0001 .\n",
      "Buoy  Irminger_7 File  S1B_EW_GRDM_1SDH_20210406T200302_20210406T200402_026351_032551_EB87.SAFE  cannot be normalized for epsilon =  0.0001 .\n",
      "Buoy  Irminger_7 File  S1A_EW_GRDM_1SDH_20210405T201159_20210405T201259_037320_0465A4_5BDE.SAFE  cannot be normalized for epsilon =  0.0001 .\n",
      "Buoy  Irminger_7 File  S1B_EW_GRDM_1SDH_20210404T201928_20210404T202028_026322_032445_635D.SAFE  cannot be normalized for epsilon =  0.0001 .\n",
      "Buoy  Irminger_7 File  S1A_EW_GRDM_1SDH_20210331T200344_20210331T200444_037247_046327_681F.SAFE  cannot be normalized for epsilon =  0.0001 .\n",
      "Buoy  Irminger_7 File  S1B_EW_GRDM_1SDH_20210330T201116_20210330T201216_026249_032200_2CB7.SAFE  cannot be normalized for epsilon =  0.0001 .\n",
      "Buoy  Irminger_7 File  S1A_EW_GRDM_1SDH_20210329T201933_20210329T202037_037218_04621D_F301.SAFE  cannot be normalized for epsilon =  0.0001 .\n",
      "Buoy  Irminger_7 File  S1B_EW_GRDM_1SDH_20210328T202742_20210328T202842_026220_032117_57E3.SAFE  cannot be normalized for epsilon =  0.0001 .\n",
      "Buoy  Irminger_7 File  S1B_EW_GRDM_1SDH_20210325T200302_20210325T200402_026176_031FB8_466C.SAFE  cannot be normalized for epsilon =  0.0001 .\n",
      "Buoy  Irminger_7 File  S1A_EW_GRDM_1SDH_20210324T201158_20210324T201258_037145_045F96_40BF.SAFE  cannot be normalized for epsilon =  0.0001 .\n",
      "Buoy  Irminger_7 File  S1B_EW_GRDM_1SDH_20210323T201928_20210323T202028_026147_031EBA_2D96.SAFE  cannot be normalized for epsilon =  0.0001 .\n",
      "Buoy  Irminger_7 File  S1A_EW_GRDM_1SDH_20210319T200343_20210319T200443_037072_045D1B_BF1B.SAFE  cannot be normalized for epsilon =  0.0001 .\n",
      "Buoy  Irminger_7 File  S1B_EW_GRDM_1SDH_20210318T201116_20210318T201216_026074_031C70_290A.SAFE  cannot be normalized for epsilon =  0.0001 .\n",
      "Buoy  Irminger_7 File  S1A_EW_GRDM_1SDH_20210317T201932_20210317T202037_037043_045C14_7219.SAFE  cannot be normalized for epsilon =  0.0001 .\n",
      "Buoy  Irminger_7 File  S1B_EW_GRDM_1SDH_20210316T202742_20210316T202842_026045_031B8A_91F7.SAFE  cannot be normalized for epsilon =  0.0001 .\n",
      "Buoy  Irminger_7 File  S1B_EW_GRDM_1SDH_20210313T200302_20210313T200402_026001_031A27_35CB.SAFE  cannot be normalized for epsilon =  0.0001 .\n",
      "Buoy  Irminger_7 File  S1A_EW_GRDM_1SDH_20210312T201158_20210312T201258_036970_045986_BE8F.SAFE  cannot be normalized for epsilon =  0.0001 .\n",
      "Buoy  Irminger_7 File  S1B_EW_GRDM_1SDH_20210311T201928_20210311T202027_025972_031918_F5D9.SAFE  cannot be normalized for epsilon =  0.0001 .\n",
      "Buoy  Irminger_7 File  S1A_EW_GRDM_1SDH_20210307T200343_20210307T200443_036897_045702_7A00.SAFE  cannot be normalized for epsilon =  0.0001 .\n",
      "Buoy  Irminger_7 File  S1B_EW_GRDM_1SDH_20210306T201116_20210306T201216_025899_0316CB_6306.SAFE  cannot be normalized for epsilon =  0.0001 .\n",
      "Buoy  Irminger_7 File  S1A_EW_GRDM_1SDH_20210305T201932_20210305T202037_036868_0455F1_83F6.SAFE  cannot be normalized for epsilon =  0.0001 .\n",
      "Buoy  Irminger_7 File  S1B_EW_GRDM_1SDH_20210304T202742_20210304T202842_025870_0315DF_C99D.SAFE  cannot be normalized for epsilon =  0.0001 .\n",
      "Buoy  Irminger_7 File  S1B_EW_GRDM_1SDH_20210301T200301_20210301T200401_025826_031479_4CCA.SAFE  cannot be normalized for epsilon =  0.0001 .\n",
      "Buoy  Irminger_7 File  S1A_EW_GRDM_1SDH_20210228T201158_20210228T201258_036795_04536E_3CD8.SAFE  cannot be normalized for epsilon =  0.0001 .\n",
      "Buoy  Irminger_7 File  S1B_EW_GRDM_1SDH_20210227T201927_20210227T202027_025797_031369_400A.SAFE  cannot be normalized for epsilon =  0.0001 .\n",
      "Buoy  Irminger_7 File  S1B_EW_GRDM_1SDH_20210222T201116_20210222T201216_025724_031112_8C58.SAFE  cannot be normalized for epsilon =  0.0001 .\n",
      "Buoy  Irminger_7 File  S1A_EW_GRDM_1SDH_20210221T201932_20210221T202037_036693_044FE5_4C8F.SAFE  cannot be normalized for epsilon =  0.0001 .\n",
      "Buoy  Irminger_7 File  S1B_EW_GRDM_1SDH_20210220T202742_20210220T202842_025695_031026_F117.SAFE  cannot be normalized for epsilon =  0.0001 .\n",
      "Buoy  Irminger_7 File  S1B_EW_GRDM_1SDH_20210217T200302_20210217T200402_025651_030EC4_2BB3.SAFE  cannot be normalized for epsilon =  0.0001 .\n",
      "Buoy  Irminger_7 File  S1A_EW_GRDM_1SDH_20210216T201158_20210216T201258_036620_044D59_77AE.SAFE  cannot be normalized for epsilon =  0.0001 .\n",
      "Buoy  Irminger_7 File  S1B_EW_GRDM_1SDH_20210215T201928_20210215T202028_025622_030DB5_7946.SAFE  cannot be normalized for epsilon =  0.0001 .\n",
      "Buoy  Irminger_7 File  S1B_EW_GRDM_1SDH_20210210T201116_20210210T201216_025549_030B5E_6B34.SAFE  cannot be normalized for epsilon =  0.0001 .\n",
      "Buoy  Irminger_7 File  S1A_EW_GRDM_1SDH_20210211T200344_20210211T200444_036547_044ACB_6063.SAFE  cannot be normalized for epsilon =  0.0001 .\n",
      "Buoy  Irminger_7 File  S1A_EW_GRDM_1SDH_20210209T201933_20210209T202037_036518_0449C6_53DD.SAFE  cannot be normalized for epsilon =  0.0001 .\n",
      "Buoy  Irminger_7 File  S1B_EW_GRDM_1SDH_20210208T202742_20210208T202842_025520_030A73_928D.SAFE  cannot be normalized for epsilon =  0.0001 .\n",
      "Buoy  Irminger_7 File  S1B_EW_GRDM_1SDH_20210205T200302_20210205T200402_025476_030911_C753.SAFE  cannot be normalized for epsilon =  0.0001 .\n",
      "Buoy  Irminger_7 File  S1A_EW_GRDM_1SDH_20210204T201158_20210204T201258_036445_044739_9272.SAFE  cannot be normalized for epsilon =  0.0001 .\n",
      "Buoy  Irminger_7 File  S1B_EW_GRDM_1SDH_20210203T201928_20210203T202028_025447_0307FE_37D3.SAFE  cannot be normalized for epsilon =  0.0001 .\n",
      "Buoy  Irminger_7 File  S1A_EW_GRDM_1SDH_20210130T200344_20210130T200444_036372_0444BC_1C03.SAFE  cannot be normalized for epsilon =  0.0001 .\n",
      "Buoy  Irminger_7 File  S1A_EW_GRDM_1SDH_20210128T201933_20210128T202037_036343_0443B6_DF56.SAFE  cannot be normalized for epsilon =  0.0001 .\n",
      "Buoy  Irminger_7 File  S1B_EW_GRDM_1SDH_20210124T200302_20210124T200402_025301_030361_F132.SAFE  cannot be normalized for epsilon =  0.0001 .\n",
      "Buoy  Irminger_7 File  S1A_EW_GRDM_1SDH_20210118T200344_20210118T200444_036197_043EA7_7B71.SAFE  cannot be normalized for epsilon =  0.0001 .\n",
      "Buoy  Irminger_7 File  S1B_EW_GRDM_1SDH_20210112T200303_20210112T200403_025126_02FDD3_912B.SAFE  cannot be normalized for epsilon =  0.0001 .\n",
      "Buoy  Irminger_7 File  S1A_EW_GRDM_1SDH_20210106T200345_20210106T200445_036022_043883_950A.SAFE  cannot be normalized for epsilon =  0.0001 .\n",
      "Buoy  Irminger_7 File  S1B_EW_GRDM_1SDH_20201231T200303_20201231T200403_024951_02F832_4040.SAFE  cannot be normalized for epsilon =  0.0001 .\n",
      "Buoy  Irminger_7 File  S1A_EW_GRDM_1SDH_20201225T200346_20201225T200446_035847_043269_4B14.SAFE  cannot be normalized for epsilon =  0.0001 .\n",
      "Buoy  Irminger_7 File  S1B_EW_GRDM_1SDH_20201219T200304_20201219T200404_024776_02F28F_5A8A.SAFE  cannot be normalized for epsilon =  0.0001 .\n",
      "Buoy  Irminger_7 File  S1A_EW_GRDM_1SDH_20201213T200346_20201213T200446_035672_042C61_5D31.SAFE  cannot be normalized for epsilon =  0.0001 .\n",
      "Buoy  Irminger_7 File  S1B_EW_GRDM_1SDH_20201207T200305_20201207T200404_024601_02ECE5_AEE2.SAFE  cannot be normalized for epsilon =  0.0001 .\n",
      "Buoy  Irminger_7 File  S1A_EW_GRDM_1SDH_20201201T200347_20201201T200447_035497_042664_2FA9.SAFE  cannot be normalized for epsilon =  0.0001 .\n",
      "Buoy  Irminger_7 File  S1B_EW_GRDM_1SDH_20201130T201119_20201130T201219_024499_02E98D_0FFA.SAFE  cannot be normalized for epsilon =  0.0001 .\n",
      "Buoy  Irminger_7 File  S1B_EW_GRDM_1SDH_20201128T202745_20201128T202845_024470_02E8A3_ED38.SAFE  cannot be normalized for epsilon =  0.0001 .\n",
      "Buoy  Irminger_7 File  S1B_EW_GRDM_1SDH_20201125T200305_20201125T200405_024426_02E749_66C1.SAFE  cannot be normalized for epsilon =  0.0001 .\n",
      "Buoy  Irminger_7 File  S1A_EW_GRDM_1SDH_20201124T201201_20201124T201301_035395_0422CD_544D.SAFE  cannot be normalized for epsilon =  0.0001 .\n",
      "Buoy  Irminger_7 File  S1B_EW_GRDM_1SDH_20201123T201931_20201123T202031_024397_02E64C_1762.SAFE  cannot be normalized for epsilon =  0.0001 .\n",
      "Buoy  Irminger_7 File  S1A_EW_GRDM_1SDH_20201119T200347_20201119T200447_035322_04204E_031F.SAFE  cannot be normalized for epsilon =  0.0001 .\n",
      "Buoy  Irminger_7 File  S1B_EW_GRDM_1SDH_20201118T201120_20201118T201220_024324_02E402_7A77.SAFE  cannot be normalized for epsilon =  0.0001 .\n",
      "Buoy  Irminger_7 File  S1A_EW_GRDM_1SDH_20201117T201936_20201117T202040_035293_041F52_F4B9.SAFE  cannot be normalized for epsilon =  0.0001 .\n",
      "Buoy  Irminger_7 File  S1B_EW_GRDM_1SDH_20201116T202746_20201116T202846_024295_02E320_D694.SAFE  cannot be normalized for epsilon =  0.0001 .\n",
      "Buoy  Irminger_7 File  S1B_EW_GRDM_1SDH_20201113T200305_20201113T200405_024251_02E1C5_4220.SAFE  cannot be normalized for epsilon =  0.0001 .\n",
      "Buoy  Irminger_7 File  S1A_EW_GRDM_1SDH_20201112T201202_20201112T201302_035220_041CC3_36E7.SAFE  cannot be normalized for epsilon =  0.0001 .\n",
      "Buoy  Irminger_7 File  S1B_EW_GRDM_1SDH_20201111T201931_20201111T202031_024222_02E0BD_1241.SAFE  cannot be normalized for epsilon =  0.0001 .\n",
      "Buoy  Irminger_7 File  S1A_EW_GRDM_1SDH_20201107T200347_20201107T200447_035147_041A36_5FC3.SAFE  cannot be normalized for epsilon =  0.0001 .\n",
      "Buoy  Irminger_7 File  S1B_EW_GRDM_1SDH_20201106T201120_20201106T201220_024149_02DE7E_E0A6.SAFE  cannot be normalized for epsilon =  0.0001 .\n",
      "Buoy  Irminger_7 File  S1A_EW_GRDM_1SDH_20201105T201936_20201105T202041_035118_04192D_C4D9.SAFE  cannot be normalized for epsilon =  0.0001 .\n",
      "Buoy  Irminger_7 File  S1B_EW_GRDM_1SDH_20201104T202746_20201104T202846_024120_02DD99_0AE4.SAFE  cannot be normalized for epsilon =  0.0001 .\n",
      "Buoy  Irminger_7 File  S1B_EW_GRDM_1SDH_20201101T200306_20201101T200406_024076_02DC52_C32B.SAFE  cannot be normalized for epsilon =  0.0001 .\n",
      "Buoy  Irminger_7 File  S1A_EW_GRDM_1SDH_20201031T201202_20201031T201302_035045_0416A5_C40A.SAFE  cannot be normalized for epsilon =  0.0001 .\n",
      "Buoy  Irminger_7 File  S1B_EW_GRDM_1SDH_20201030T201931_20201030T202031_024047_02DB55_9E9E.SAFE  cannot be normalized for epsilon =  0.0001 .\n",
      "Buoy  Irminger_7 File  S1A_EW_GRDM_1SDH_20201026T200347_20201026T200447_034972_04142D_5C16.SAFE  cannot be normalized for epsilon =  0.0001 .\n",
      "Buoy  Irminger_7 File  S1B_EW_GRDM_1SDH_20201025T201120_20201025T201220_023974_02D919_EF30.SAFE  cannot be normalized for epsilon =  0.0001 .\n",
      "Buoy  Irminger_7 File  S1A_EW_GRDM_1SDH_20201024T201936_20201024T202041_034943_041330_8C7B.SAFE  cannot be normalized for epsilon =  0.0001 .\n",
      "Buoy  Irminger_7 File  S1B_EW_GRDM_1SDH_20201023T202746_20201023T202846_023945_02D830_C2EB.SAFE  cannot be normalized for epsilon =  0.0001 .\n",
      "Buoy  Irminger_7 File  S1B_EW_GRDM_1SDH_20201020T200305_20201020T200405_023901_02D6D8_8911.SAFE  cannot be normalized for epsilon =  0.0001 .\n",
      "Buoy  Irminger_7 File  S1A_EW_GRDM_1SDH_20201019T201202_20201019T201302_034870_0410B0_16AD.SAFE  cannot be normalized for epsilon =  0.0001 .\n",
      "Buoy  Irminger_7 File  S1B_EW_GRDM_1SDH_20201018T201931_20201018T202031_023872_02D5D7_664E.SAFE  cannot be normalized for epsilon =  0.0001 .\n",
      "Buoy  Irminger_7 File  S1A_EW_GRDM_1SDH_20201014T200348_20201014T200448_034797_040E2A_B4E3.SAFE  cannot be normalized for epsilon =  0.0001 .\n",
      "Buoy  Irminger_7 File  S1B_EW_GRDM_1SDH_20201013T201120_20201013T201220_023799_02D39B_01DA.SAFE  cannot be normalized for epsilon =  0.0001 .\n",
      "Buoy  Irminger_7 File  S1A_EW_GRDM_1SDH_20201012T201936_20201012T202041_034768_040D1B_12FD.SAFE  cannot be normalized for epsilon =  0.0001 .\n",
      "Buoy  Irminger_7 File  S1B_EW_GRDM_1SDH_20201011T202746_20201011T202846_023770_02D2B7_F14D.SAFE  cannot be normalized for epsilon =  0.0001 .\n",
      "Buoy  Irminger_7 File  S1B_EW_GRDM_1SDH_20201008T200305_20201008T200405_023726_02D168_FFD2.SAFE  cannot be normalized for epsilon =  0.0001 .\n",
      "Buoy  Irminger_7 File  S1A_EW_GRDM_1SDH_20201007T201202_20201007T201302_034695_040A8D_2ACE.SAFE  cannot be normalized for epsilon =  0.0001 .\n",
      "Buoy  Irminger_7 File  S1B_EW_GRDM_1SDH_20201006T201931_20201006T202031_023697_02D073_8667.SAFE  cannot be normalized for epsilon =  0.0001 .\n",
      "Buoy  Irminger_7 File  S1B_EW_GRDM_1SDH_20201006T201931_20201006T202031_023697_02D073_002E.SAFE  cannot be normalized for epsilon =  0.0001 .\n",
      "Buoy  Irminger_7 File  S1B_EW_GRDM_1SDH_20201006T201931_20201006T202031_023697_02D073_A804.SAFE  cannot be normalized for epsilon =  0.0001 .\n",
      "Buoy  Irminger_7 File  S1A_EW_GRDM_1SDH_20201002T200347_20201002T200447_034622_040810_09A3.SAFE  cannot be normalized for epsilon =  0.0001 .\n",
      "Buoy  Irminger_7 File  S1B_EW_GRDM_1SDH_20201001T201120_20201001T201220_023624_02CE2B_1C52.SAFE  cannot be normalized for epsilon =  0.0001 .\n",
      "Buoy  Irminger_7 File  S1A_EW_GRDM_1SDH_20200930T201936_20200930T202040_034593_040707_5603.SAFE  cannot be normalized for epsilon =  0.0001 .\n",
      "Buoy  Irminger_7 File  S1B_EW_GRDM_1SDH_20200929T202746_20200929T202846_023595_02CD49_14D8.SAFE  cannot be normalized for epsilon =  0.0001 .\n",
      "Buoy  Irminger_7 File  S1B_EW_GRDM_1SDH_20200926T200305_20200926T200405_023551_02CBF2_38C9.SAFE  cannot be normalized for epsilon =  0.0001 .\n",
      "Buoy  Irminger_7 File  S1A_EW_GRDM_1SDH_20200925T201202_20200925T201302_034520_040468_F9CC.SAFE  cannot be normalized for epsilon =  0.0001 .\n",
      "Buoy  Irminger_7 File  S1B_EW_GRDM_1SDH_20200924T201931_20200924T202031_023522_02CAF1_F4ED.SAFE  cannot be normalized for epsilon =  0.0001 .\n",
      "Buoy  Irminger_7 File  S1A_EW_GRDM_1SDH_20200920T200347_20200920T200447_034447_0401ED_537C.SAFE  cannot be normalized for epsilon =  0.0001 .\n",
      "Buoy  Irminger_7 File  S1B_EW_GRDM_1SDH_20200919T201120_20200919T201220_023449_02C8AF_B399.SAFE  cannot be normalized for epsilon =  0.0001 .\n",
      "Buoy  Irminger_7 File  S1A_EW_GRDM_1SDH_20200918T201936_20200918T202040_034418_0400D2_2F91.SAFE  cannot be normalized for epsilon =  0.0001 .\n",
      "Buoy  Irminger_7 File  S1B_EW_GRDM_1SDH_20200917T202745_20200917T202845_023420_02C7D2_2CAC.SAFE  cannot be normalized for epsilon =  0.0001 .\n",
      "Buoy  Irminger_7 File  S1B_EW_GRDM_1SDH_20200914T200305_20200914T200405_023376_02C676_34EE.SAFE  cannot be normalized for epsilon =  0.0001 .\n",
      "Buoy  Irminger_7 File  S1A_EW_GRDM_1SDH_20200913T201201_20200913T201301_034345_03FE3F_AB5D.SAFE  cannot be normalized for epsilon =  0.0001 .\n",
      "Buoy  Irminger_7 File  S1B_EW_GRDM_1SDH_20200912T201931_20200912T202031_023347_02C576_1548.SAFE  cannot be normalized for epsilon =  0.0001 .\n",
      "Buoy  Irminger_7 File  S1A_EW_GRDM_1SDH_20200908T200347_20200908T200447_034272_03FBAF_ECD9.SAFE  cannot be normalized for epsilon =  0.0001 .\n",
      "Buoy  Irminger_7 File  S1B_EW_GRDM_1SDH_20200907T201119_20200907T201219_023274_02C333_5DD7.SAFE  cannot be normalized for epsilon =  0.0001 .\n",
      "Buoy  Irminger_7 File  S1A_EW_GRDM_1SDH_20200906T201935_20200906T202040_034243_03FAAB_5A9E.SAFE  cannot be normalized for epsilon =  0.0001 .\n",
      "Buoy  Irminger_7 File  S1B_EW_GRDM_1SDH_20200905T202745_20200905T202845_023245_02C24B_61CD.SAFE  cannot be normalized for epsilon =  0.0001 .\n",
      "Buoy  Irminger_7 File  S1B_EW_GRDM_1SDH_20200902T200304_20200902T200404_023201_02C0F8_0613.SAFE  cannot be normalized for epsilon =  0.0001 .\n",
      "Buoy  Irminger_7 File  S1A_EW_GRDM_1SDH_20200901T201201_20200901T201301_034170_03F81F_544C.SAFE  cannot be normalized for epsilon =  0.0001 .\n",
      "Buoy  Irminger_7 File  S1B_EW_GRDM_1SDH_20200831T201930_20200831T202030_023172_02BFFC_0753.SAFE  cannot be normalized for epsilon =  0.0001 .\n",
      "Buoy  Irminger_7 File  S1A_EW_GRDM_1SDH_20200827T200346_20200827T200446_034097_03F586_5ECE.SAFE  cannot be normalized for epsilon =  0.0001 .\n",
      "Buoy  Irminger_7 File  S1B_EW_GRDM_1SDH_20200826T201119_20200826T201219_023099_02BDBE_99B3.SAFE  cannot be normalized for epsilon =  0.0001 .\n",
      "Buoy  Irminger_7 File  S1A_EW_GRDM_1SDH_20200825T201935_20200825T202039_034068_03F489_6F49.SAFE  cannot be normalized for epsilon =  0.0001 .\n",
      "Buoy  Irminger_7 File  S1B_EW_GRDM_1SDH_20200824T202745_20200824T202845_023070_02BCDB_4223.SAFE  cannot be normalized for epsilon =  0.0001 .\n",
      "Buoy  Irminger_7 File  S1B_EW_GRDM_1SDH_20200821T200304_20200821T200404_023026_02BB84_3823.SAFE  cannot be normalized for epsilon =  0.0001 .\n",
      "Buoy  Irminger_7 File  S1A_EW_GRDM_1SDH_20200820T201200_20200820T201300_033995_03F1F0_EC19.SAFE  cannot be normalized for epsilon =  0.0001 .\n",
      "Buoy  Irminger_7 File  S1B_EW_GRDM_1SDH_20200819T201929_20200819T202029_022997_02BA7E_85EC.SAFE  cannot be normalized for epsilon =  0.0001 .\n",
      "SPURS2\n",
      "Endurance_4\n",
      "Irminger_6\n",
      "Buoy  Irminger_6 File  S1B_EW_GRDM_1SDH_20200118T200257_20200118T200357_019876_025982_BDCD.SAFE  cannot be normalized for epsilon =  0.0001 .\n",
      "Buoy  Irminger_6 File  S1A_EW_GRDM_1SDH_20200112T200339_20200112T200439_030772_03876D_362D.SAFE  cannot be normalized for epsilon =  0.0001 .\n",
      "Buoy  Irminger_6 File  S1B_EW_GRDM_1SDH_20200106T200257_20200106T200357_019701_0253F0_3145.SAFE  cannot be normalized for epsilon =  0.0001 .\n",
      "Buoy  Irminger_6 File  S1A_EW_GRDM_1SDH_20191231T200339_20191231T200439_030597_038158_8A93.SAFE  cannot be normalized for epsilon =  0.0001 .\n",
      "Buoy  Irminger_6 File  S1B_EW_GRDM_1SDH_20191225T200258_20191225T200358_019526_024E61_0B0B.SAFE  cannot be normalized for epsilon =  0.0001 .\n",
      "Buoy  Irminger_6 File  S1A_EW_GRDM_1SDH_20191219T200340_20191219T200440_030422_037B4D_BF0B.SAFE  cannot be normalized for epsilon =  0.0001 .\n",
      "Buoy  Irminger_6 File  S1B_EW_GRDM_1SDH_20191218T201112_20191218T201212_019424_024B13_CAAD.SAFE  cannot be normalized for epsilon =  0.0001 .\n",
      "Buoy  Irminger_6 File  S1B_EW_GRDM_1SDH_20191216T202739_20191216T202839_019395_024A29_A4E6.SAFE  cannot be normalized for epsilon =  0.0001 .\n",
      "Buoy  Irminger_6 File  S1B_EW_GRDM_1SDH_20191213T200258_20191213T200358_019351_0248CF_1666.SAFE  cannot be normalized for epsilon =  0.0001 .\n",
      "Buoy  Irminger_6 File  S1A_EW_GRDM_1SDH_20191212T201155_20191212T201255_030320_0377CA_1D4F.SAFE  cannot be normalized for epsilon =  0.0001 .\n",
      "Buoy  Irminger_6 File  S1B_EW_GRDM_1SDH_20191211T201924_20191211T202024_019322_0247C9_CBB7.SAFE  cannot be normalized for epsilon =  0.0001 .\n",
      "Buoy  Irminger_6 File  S1B_EW_GRDM_1SDH_20191211T090422_20191211T090522_019315_024793_8A54.SAFE  cannot be normalized for epsilon =  0.0001 .\n",
      "Buoy  Irminger_6 File  S1A_EW_GRDM_1SDH_20191207T200340_20191207T200440_030247_03753F_ECC9.SAFE  cannot be normalized for epsilon =  0.0001 .\n",
      "Buoy  Irminger_6 File  S1B_EW_GRDM_1SDH_20191206T201113_20191206T201213_019249_02457E_40E7.SAFE  cannot be normalized for epsilon =  0.0001 .\n",
      "Buoy  Irminger_6 File  S1A_EW_GRDM_1SDH_20191205T201929_20191205T202033_030218_03743F_1E68.SAFE  cannot be normalized for epsilon =  0.0001 .\n",
      "Buoy  Irminger_6 File  S1B_EW_GRDM_1SDH_20191204T202739_20191204T202839_019220_024499_3D36.SAFE  cannot be normalized for epsilon =  0.0001 .\n",
      "Buoy  Irminger_6 File  S1B_EW_GRDM_1SDH_20191201T200259_20191201T200359_019176_02433C_3F8D.SAFE  cannot be normalized for epsilon =  0.0001 .\n",
      "Buoy  Irminger_6 File  S1A_EW_GRDM_1SDH_20191130T201155_20191130T201255_030145_0371C0_028C.SAFE  cannot be normalized for epsilon =  0.0001 .\n",
      "Buoy  Irminger_6 File  S1B_EW_GRDM_1SDH_20191129T201925_20191129T202024_019147_024236_D2D1.SAFE  cannot be normalized for epsilon =  0.0001 .\n",
      "Buoy  Irminger_6 File  S1B_EW_GRDM_1SDH_20191129T090422_20191129T090522_019140_024200_14F8.SAFE  cannot be normalized for epsilon =  0.0001 .\n",
      "Buoy  Irminger_6 File  S1A_EW_GRDM_1SDH_20191125T200341_20191125T200441_030072_036F3E_99FB.SAFE  cannot be normalized for epsilon =  0.0001 .\n",
      "Buoy  Irminger_6 File  S1B_EW_GRDM_1SDH_20191124T201113_20191124T201213_019074_023FF3_6F70.SAFE  cannot be normalized for epsilon =  0.0001 .\n"
     ]
    }
   ],
   "source": [
    "#crop_size = [0.00005]\n",
    "crop_size = [5e-4, 1e-4, 5e-3, 1e-3, 5e-2]\n",
    "#count = 0\n",
    "for buoy in in_situ_obs.keys():\n",
    "    station_lat = in_situ_obs[buoy]['lat'][0]\n",
    "    station_lon = in_situ_obs[buoy]['lon'][0]\n",
    "    print(buoy)\n",
    "    for product in in_situ_obs[buoy]['products']:\n",
    "        fname = in_situ_obs[buoy]['products'][product]['filename']\n",
    "        #count = count + 1\n",
    "        \n",
    "        if 'sar_params' not in in_situ_obs[buoy]['products'][product]:\n",
    "            in_situ_obs[buoy]['products'][product]['sar_params'] = {}\n",
    "        \n",
    "        for epsilon in crop_size:\n",
    "            if str(epsilon) not in in_situ_obs[buoy]['products'][product]['sar_params'] :\n",
    "                try:\n",
    "                    s0, s0_norm, inc, az, grid_lons, grid_lats, pol = sar.sar_params(\n",
    "                        data_dir + fname,\n",
    "                        station_lon=station_lon,\n",
    "                        station_lat=station_lat,\n",
    "                        epsilon=epsilon\n",
    "                    )\n",
    "\n",
    "                    epsilon_param_dict = {\n",
    "                        'epsilon' : epsilon,\n",
    "                        's0' : s0, \n",
    "                        's0_norm' : s0_norm,\n",
    "                        'inc' : inc,\n",
    "                        'az' : az,\n",
    "                        'grid_lons' : grid_lons,\n",
    "                        'grid_lats' : grid_lats,\n",
    "                        'pol' : pol\n",
    "                    }\n",
    "\n",
    "                    in_situ_obs[buoy]['products'][product]['sar_params'][str(epsilon)] = epsilon_param_dict\n",
    "                except:\n",
    "                    print('Buoy ', buoy, 'File ', fname, ' cannot be normalized for epsilon = ', epsilon) # Check if the image exists and if the crop area is within the image\n",
    "                    #count = count - 1"
   ]
  },
  {
   "cell_type": "code",
   "execution_count": null,
   "id": "532bf17d-2011-4a74-8d22-7a51c607c1fc",
   "metadata": {},
   "outputs": [],
   "source": [
    "count"
   ]
  },
  {
   "cell_type": "markdown",
   "id": "7b7118a3-0d88-4f6c-8bcd-0e70c2642986",
   "metadata": {},
   "source": [
    "with open(data_dir + 'in_situ_obs_with_sar_params.pickle', 'wb') as handle:\n",
    "    pickle.dump(in_situ_obs, handle, protocol=pickle.HIGHEST_PROTOCOL)"
   ]
  },
  {
   "cell_type": "code",
   "execution_count": 67,
   "id": "3f567b04-ab95-4399-981b-60e62afd4a5c",
   "metadata": {},
   "outputs": [
    {
     "data": {
      "text/plain": [
       "-23.36604"
      ]
     },
     "execution_count": 67,
     "metadata": {},
     "output_type": "execute_result"
    }
   ],
   "source": [
    "in_situ_obs[buoy]['products'][product]['sar_params'][str(epsilon)]['s0'].mean()"
   ]
  },
  {
   "cell_type": "code",
   "execution_count": null,
   "id": "0dda7cb2-2342-42cb-9a38-75d8fcf33f9d",
   "metadata": {},
   "outputs": [],
   "source": []
  },
  {
   "cell_type": "code",
   "execution_count": null,
   "id": "cbae033f-8787-4b50-9ed7-836f57cc6fc8",
   "metadata": {},
   "outputs": [],
   "source": []
  },
  {
   "cell_type": "code",
   "execution_count": 18,
   "id": "b7de134b-7978-4c3a-9c46-c81568a37df9",
   "metadata": {},
   "outputs": [
    {
     "data": {
      "text/plain": [
       "{'title': 'S1B_EW_GRDM_1SDH_20170720T084730_20170720T084830_006569_00B8D6_F92F',\n",
       " 'link': \"https://scihub.copernicus.eu/dhus/odata/v1/Products('ac7398fb-855a-4d9c-8975-6eb9698062e7')/$value\",\n",
       " 'link_alternative': \"https://scihub.copernicus.eu/dhus/odata/v1/Products('ac7398fb-855a-4d9c-8975-6eb9698062e7')/\",\n",
       " 'link_icon': \"https://scihub.copernicus.eu/dhus/odata/v1/Products('ac7398fb-855a-4d9c-8975-6eb9698062e7')/Products('Quicklook')/$value\",\n",
       " 'summary': 'Date: 2017-07-20T08:47:30.151Z, Instrument: SAR-C SAR, Mode: HH HV, Satellite: Sentinel-1, Size: 414.92 MB',\n",
       " 'ondemand': 'false',\n",
       " 'ingestiondate': datetime.datetime(2017, 7, 20, 11, 50, 11, 970000),\n",
       " 'beginposition': datetime.datetime(2017, 7, 20, 8, 47, 30, 151000),\n",
       " 'endposition': datetime.datetime(2017, 7, 20, 8, 48, 30, 144000),\n",
       " 'missiondatatakeid': 47318,\n",
       " 'orbitnumber': 6569,\n",
       " 'lastorbitnumber': 6569,\n",
       " 'relativeorbitnumber': 68,\n",
       " 'lastrelativeorbitnumber': 68,\n",
       " 'slicenumber': 9,\n",
       " 'acquisitiontype': 'NOMINAL',\n",
       " 'filename': 'S1B_EW_GRDM_1SDH_20170720T084730_20170720T084830_006569_00B8D6_F92F.SAFE',\n",
       " 'gmlfootprint': '<gml:Polygon srsName=\"http://www.opengis.net/gml/srs/epsg.xml#4326\" xmlns:gml=\"http://www.opengis.net/gml\">\\n   <gml:outerBoundaryIs>\\n      <gml:LinearRing>\\n         <gml:coordinates>58.588970,-32.453896 59.343998,-39.735390 62.918892,-38.618221 62.120735,-30.502453 58.588970,-32.453896</gml:coordinates>\\n      </gml:LinearRing>\\n   </gml:outerBoundaryIs>\\n</gml:Polygon>',\n",
       " 'format': 'SAFE',\n",
       " 'identifier': 'S1B_EW_GRDM_1SDH_20170720T084730_20170720T084830_006569_00B8D6_F92F',\n",
       " 'instrumentshortname': 'SAR-C SAR',\n",
       " 'sensoroperationalmode': 'EW',\n",
       " 'instrumentname': 'Synthetic Aperture Radar (C-band)',\n",
       " 'swathidentifier': 'EW',\n",
       " 'footprint': 'POLYGON ((-32.453896 58.588970,-39.735390 59.343998,-38.618221 62.918892,-30.502453 62.120735,-32.453896 58.588970))',\n",
       " 'platformidentifier': '2016-025A',\n",
       " 'orbitdirection': 'ASCENDING',\n",
       " 'polarisationmode': 'HH HV',\n",
       " 'productclass': 'S',\n",
       " 'producttype': 'GRD',\n",
       " 'platformname': 'Sentinel-1',\n",
       " 'size': '414.92 MB',\n",
       " 'status': 'ARCHIVED',\n",
       " 'uuid': 'ac7398fb-855a-4d9c-8975-6eb9698062e7',\n",
       " 'sar_params': {}}"
      ]
     },
     "execution_count": 18,
     "metadata": {},
     "output_type": "execute_result"
    }
   ],
   "source": [
    "in_situ_obs['Irminger_3']['products']['ac7398fb-855a-4d9c-8975-6eb9698062e7']"
   ]
  },
  {
   "cell_type": "code",
   "execution_count": 19,
   "id": "d578b132-902f-4f75-ae2c-fbf44ca0b0a6",
   "metadata": {},
   "outputs": [],
   "source": [
    "fname = in_situ_obs['Irminger_3']['products']['ac7398fb-855a-4d9c-8975-6eb9698062e7']['filename']"
   ]
  },
  {
   "cell_type": "code",
   "execution_count": 21,
   "id": "ffc1a206-d1d1-4423-b43b-fb9b62a8fbae",
   "metadata": {},
   "outputs": [
    {
     "data": {
      "text/plain": [
       "'S1B_EW_GRDM_1SDH_20170720T084730_20170720T084830_006569_00B8D6_F92F.SAFE'"
      ]
     },
     "execution_count": 21,
     "metadata": {},
     "output_type": "execute_result"
    }
   ],
   "source": [
    "fname"
   ]
  },
  {
   "cell_type": "code",
   "execution_count": 22,
   "id": "d8c6fca1-936b-4c24-ad06-b823bdf391c3",
   "metadata": {},
   "outputs": [
    {
     "data": {
      "text/plain": [
       "False"
      ]
     },
     "execution_count": 22,
     "metadata": {},
     "output_type": "execute_result"
    }
   ],
   "source": [
    "import os\n",
    "os.path.exists(data_dir + 'S1B_EW_GRDM_1SDH_20161120T090355_20161120T090455_003040_0052B3_FD0E.zip')"
   ]
  },
  {
   "cell_type": "code",
   "execution_count": 122,
   "id": "a94533a5-37a4-4310-a5f9-7335b879d91b",
   "metadata": {
    "scrolled": true,
    "tags": []
   },
   "outputs": [
    {
     "name": "stderr",
     "output_type": "stream",
     "text": [
      "02:06:49|40|nansat|_get_dataset_metadata|GDAL could not open /lustre/storeB/project/IT/geout/machine-ocean/data_raw/sentinel/S1B_EW_GRDM_1SDH_20170720T084730_20170720T084830_006569_00B8D6_F92F.SAFE, trying to read with Nansat mappers...\n"
     ]
    },
    {
     "ename": "OSError",
     "evalue": "/lustre/storeB/project/IT/geout/machine-ocean/data_raw/sentinel/S1B_EW_GRDM_1SDH_20170720T084730_20170720T084830_006569_00B8D6_F92F.SAFE: File does not exist",
     "output_type": "error",
     "traceback": [
      "\u001b[0;31m---------------------------------------------------------------------------\u001b[0m",
      "\u001b[0;31mOSError\u001b[0m                                   Traceback (most recent call last)",
      "Cell \u001b[0;32mIn [122], line 1\u001b[0m\n\u001b[0;32m----> 1\u001b[0m n \u001b[38;5;241m=\u001b[39m Nansat(data_dir \u001b[38;5;241m+\u001b[39mfname)\n\u001b[1;32m      2\u001b[0m n\n",
      "File \u001b[0;32m~/repos/github/nansat/nansat/nansat.py:159\u001b[0m, in \u001b[0;36mNansat.__init__\u001b[0;34m(self, filename, mapper, log_level, **kwargs)\u001b[0m\n\u001b[1;32m    157\u001b[0m \u001b[38;5;28mself\u001b[39m\u001b[38;5;241m.\u001b[39m_init_empty(filename, log_level)\n\u001b[1;32m    158\u001b[0m \u001b[38;5;66;03m# Create VRT object with mapping of variables\u001b[39;00m\n\u001b[0;32m--> 159\u001b[0m \u001b[38;5;28mself\u001b[39m\u001b[38;5;241m.\u001b[39mvrt \u001b[38;5;241m=\u001b[39m \u001b[38;5;28;43mself\u001b[39;49m\u001b[38;5;241;43m.\u001b[39;49m\u001b[43m_get_mapper\u001b[49m\u001b[43m(\u001b[49m\u001b[43mmapper\u001b[49m\u001b[43m,\u001b[49m\u001b[43m \u001b[49m\u001b[38;5;241;43m*\u001b[39;49m\u001b[38;5;241;43m*\u001b[39;49m\u001b[43mkwargs\u001b[49m\u001b[43m)\u001b[49m\n",
      "File \u001b[0;32m~/repos/github/nansat/nansat/nansat.py:1185\u001b[0m, in \u001b[0;36mNansat._get_mapper\u001b[0;34m(self, mappername, **kwargs)\u001b[0m\n\u001b[1;32m   1182\u001b[0m \u001b[38;5;28;01mif\u001b[39;00m tmp_vrt \u001b[38;5;129;01mis\u001b[39;00m \u001b[38;5;28;01mNone\u001b[39;00m \u001b[38;5;129;01mand\u001b[39;00m gdal_dataset \u001b[38;5;129;01mis\u001b[39;00m \u001b[38;5;28;01mNone\u001b[39;00m:\n\u001b[1;32m   1183\u001b[0m     \u001b[38;5;66;03m# check if given data file exists\u001b[39;00m\n\u001b[1;32m   1184\u001b[0m     \u001b[38;5;28;01mif\u001b[39;00m \u001b[38;5;129;01mnot\u001b[39;00m os\u001b[38;5;241m.\u001b[39mpath\u001b[38;5;241m.\u001b[39misfile(\u001b[38;5;28mself\u001b[39m\u001b[38;5;241m.\u001b[39mfilename):\n\u001b[0;32m-> 1185\u001b[0m         \u001b[38;5;28;01mraise\u001b[39;00m \u001b[38;5;167;01mIOError\u001b[39;00m(\u001b[38;5;124m'\u001b[39m\u001b[38;5;132;01m%s\u001b[39;00m\u001b[38;5;124m: File does not exist\u001b[39m\u001b[38;5;124m'\u001b[39m \u001b[38;5;241m%\u001b[39m (\u001b[38;5;28mself\u001b[39m\u001b[38;5;241m.\u001b[39mfilename))\n\u001b[1;32m   1186\u001b[0m     \u001b[38;5;28;01mraise\u001b[39;00m NansatReadError(\u001b[38;5;124m'\u001b[39m\u001b[38;5;132;01m%s\u001b[39;00m\u001b[38;5;124m: File cannot be read with NANSAT - \u001b[39m\u001b[38;5;124m'\u001b[39m\n\u001b[1;32m   1187\u001b[0m             \u001b[38;5;124m'\u001b[39m\u001b[38;5;124mconsider writing a mapper\u001b[39m\u001b[38;5;124m'\u001b[39m \u001b[38;5;241m%\u001b[39m \u001b[38;5;28mself\u001b[39m\u001b[38;5;241m.\u001b[39mfilename)\n\u001b[1;32m   1189\u001b[0m \u001b[38;5;28;01mreturn\u001b[39;00m tmp_vrt\n",
      "\u001b[0;31mOSError\u001b[0m: /lustre/storeB/project/IT/geout/machine-ocean/data_raw/sentinel/S1B_EW_GRDM_1SDH_20170720T084730_20170720T084830_006569_00B8D6_F92F.SAFE: File does not exist"
     ]
    }
   ],
   "source": [
    "n = Nansat(data_dir +fname)\n",
    "n"
   ]
  },
  {
   "cell_type": "code",
   "execution_count": 111,
   "id": "b88c894f-dbe5-4563-a046-c6666fe2fdda",
   "metadata": {},
   "outputs": [],
   "source": [
    "lons, lats = n.get_geolocation_grids()"
   ]
  },
  {
   "cell_type": "code",
   "execution_count": 95,
   "id": "1912569e-d92e-482f-a113-b8c4fb951a0b",
   "metadata": {},
   "outputs": [],
   "source": [
    "lonlim=[station_lon - epsilon, station_lon + epsilon]\n",
    "latlim=[station_lat - epsilon, station_lat + epsilon]"
   ]
  },
  {
   "cell_type": "code",
   "execution_count": 96,
   "id": "f3d0dda8-8048-413b-9acc-9dd98cc09e91",
   "metadata": {},
   "outputs": [
    {
     "data": {
      "text/plain": [
       "[-39.47383, -39.473729999999996]"
      ]
     },
     "execution_count": 96,
     "metadata": {},
     "output_type": "execute_result"
    }
   ],
   "source": [
    "lonlim"
   ]
  },
  {
   "cell_type": "code",
   "execution_count": 97,
   "id": "07f1d92d-31be-4d78-b7ec-37ca67a21628",
   "metadata": {},
   "outputs": [
    {
     "data": {
      "text/plain": [
       "[59.93365, 59.93375]"
      ]
     },
     "execution_count": 97,
     "metadata": {},
     "output_type": "execute_result"
    }
   ],
   "source": [
    "latlim"
   ]
  },
  {
   "cell_type": "code",
   "execution_count": 112,
   "id": "f51a0e5e-03a9-430d-8d92-3f92ecfd2aa4",
   "metadata": {},
   "outputs": [
    {
     "ename": "RuntimeError",
     "evalue": "Invalid dataset dimensions : 0 x 10004",
     "output_type": "error",
     "traceback": [
      "\u001b[0;31m---------------------------------------------------------------------------\u001b[0m",
      "\u001b[0;31mRuntimeError\u001b[0m                              Traceback (most recent call last)",
      "Cell \u001b[0;32mIn [112], line 1\u001b[0m\n\u001b[0;32m----> 1\u001b[0m n\u001b[38;5;241m.\u001b[39mcrop_lonlat(lonlim\u001b[38;5;241m=\u001b[39mlonlim, latlim\u001b[38;5;241m=\u001b[39mlatlim)\n",
      "File \u001b[0;32m~/repos/github/nansat/nansat/nansat.py:1438\u001b[0m, in \u001b[0;36mNansat.crop_lonlat\u001b[0;34m(self, lonlim, latlim)\u001b[0m\n\u001b[1;32m   1435\u001b[0m x_offset, x_size \u001b[38;5;241m=\u001b[39m offset_size(pix_corners)\n\u001b[1;32m   1436\u001b[0m y_offset, y_size \u001b[38;5;241m=\u001b[39m offset_size(lin_corners)\n\u001b[0;32m-> 1438\u001b[0m \u001b[38;5;28;01mreturn\u001b[39;00m \u001b[38;5;28;43mself\u001b[39;49m\u001b[38;5;241;43m.\u001b[39;49m\u001b[43mcrop\u001b[49m\u001b[43m(\u001b[49m\u001b[43mx_offset\u001b[49m\u001b[43m,\u001b[49m\u001b[43m \u001b[49m\u001b[43my_offset\u001b[49m\u001b[43m,\u001b[49m\u001b[43m \u001b[49m\u001b[43mx_size\u001b[49m\u001b[43m,\u001b[49m\u001b[43m \u001b[49m\u001b[43my_size\u001b[49m\u001b[43m)\u001b[49m\n",
      "File \u001b[0;32m~/repos/github/nansat/nansat/nansat.py:1517\u001b[0m, in \u001b[0;36mNansat.crop\u001b[0;34m(self, x_offset, y_offset, x_size, y_size, allow_larger)\u001b[0m\n\u001b[1;32m   1515\u001b[0m \u001b[38;5;66;03m# create super VRT and change it\u001b[39;00m\n\u001b[1;32m   1516\u001b[0m \u001b[38;5;28mself\u001b[39m\u001b[38;5;241m.\u001b[39mvrt \u001b[38;5;241m=\u001b[39m \u001b[38;5;28mself\u001b[39m\u001b[38;5;241m.\u001b[39mvrt\u001b[38;5;241m.\u001b[39mget_super_vrt()\n\u001b[0;32m-> 1517\u001b[0m \u001b[38;5;28;43mself\u001b[39;49m\u001b[38;5;241;43m.\u001b[39;49m\u001b[43mvrt\u001b[49m\u001b[38;5;241;43m.\u001b[39;49m\u001b[43mset_offset_size\u001b[49m\u001b[43m(\u001b[49m\u001b[38;5;124;43m'\u001b[39;49m\u001b[38;5;124;43mx\u001b[39;49m\u001b[38;5;124;43m'\u001b[39;49m\u001b[43m,\u001b[49m\u001b[43m \u001b[49m\u001b[43mx_offset\u001b[49m\u001b[43m,\u001b[49m\u001b[43m \u001b[49m\u001b[43mx_size\u001b[49m\u001b[43m)\u001b[49m\n\u001b[1;32m   1518\u001b[0m \u001b[38;5;28mself\u001b[39m\u001b[38;5;241m.\u001b[39mvrt\u001b[38;5;241m.\u001b[39mset_offset_size(\u001b[38;5;124m'\u001b[39m\u001b[38;5;124my\u001b[39m\u001b[38;5;124m'\u001b[39m, y_offset, y_size)\n\u001b[1;32m   1519\u001b[0m \u001b[38;5;28mself\u001b[39m\u001b[38;5;241m.\u001b[39mvrt\u001b[38;5;241m.\u001b[39mshift_cropped_gcps(x_offset, x_size, y_offset, y_size)\n",
      "File \u001b[0;32m~/repos/github/nansat/nansat/vrt.py:1638\u001b[0m, in \u001b[0;36mVRT.set_offset_size\u001b[0;34m(self, axis, offset, size)\u001b[0m\n\u001b[1;32m   1635\u001b[0m     iNode3\u001b[38;5;241m.\u001b[39mreplaceAttribute(\u001b[38;5;124m'\u001b[39m\u001b[38;5;132;01m%s\u001b[39;00m\u001b[38;5;124mSize\u001b[39m\u001b[38;5;124m'\u001b[39m\u001b[38;5;241m%\u001b[39m\u001b[38;5;28mstr\u001b[39m(axis)\u001b[38;5;241m.\u001b[39mlower(), \u001b[38;5;28mstr\u001b[39m(size))\n\u001b[1;32m   1637\u001b[0m \u001b[38;5;66;03m# write modified XML\u001b[39;00m\n\u001b[0;32m-> 1638\u001b[0m \u001b[38;5;28;43mself\u001b[39;49m\u001b[38;5;241;43m.\u001b[39;49m\u001b[43mwrite_xml\u001b[49m\u001b[43m(\u001b[49m\u001b[43mnode0\u001b[49m\u001b[38;5;241;43m.\u001b[39;49m\u001b[43mrawxml\u001b[49m\u001b[43m(\u001b[49m\u001b[43m)\u001b[49m\u001b[43m)\u001b[49m\n",
      "File \u001b[0;32m~/repos/github/nansat/nansat/vrt.py:1053\u001b[0m, in \u001b[0;36mVRT.write_xml\u001b[0;34m(self, vsi_file_content)\u001b[0m\n\u001b[1;32m   1051\u001b[0m gdal\u001b[38;5;241m.\u001b[39mVSIFCloseL(vsi_file)\n\u001b[1;32m   1052\u001b[0m \u001b[38;5;66;03m# re-open self.dataset with new content\u001b[39;00m\n\u001b[0;32m-> 1053\u001b[0m \u001b[38;5;28mself\u001b[39m\u001b[38;5;241m.\u001b[39mdataset \u001b[38;5;241m=\u001b[39m \u001b[43mgdal\u001b[49m\u001b[38;5;241;43m.\u001b[39;49m\u001b[43mOpen\u001b[49m\u001b[43m(\u001b[49m\u001b[38;5;28;43mself\u001b[39;49m\u001b[38;5;241;43m.\u001b[39;49m\u001b[43mfilename\u001b[49m\u001b[43m)\u001b[49m\n",
      "File \u001b[0;32m/modules/rhel8/conda/install/envs/production-10-2022/lib/python3.9/site-packages/osgeo/gdal.py:4232\u001b[0m, in \u001b[0;36mOpen\u001b[0;34m(*args)\u001b[0m\n\u001b[1;32m   4230\u001b[0m \u001b[38;5;28;01mdef\u001b[39;00m \u001b[38;5;21mOpen\u001b[39m(\u001b[38;5;241m*\u001b[39margs):\n\u001b[1;32m   4231\u001b[0m     \u001b[38;5;124mr\u001b[39m\u001b[38;5;124;03m\"\"\"Open(char const * utf8_path, GDALAccess eAccess=GA_ReadOnly) -> Dataset\"\"\"\u001b[39;00m\n\u001b[0;32m-> 4232\u001b[0m     \u001b[38;5;28;01mreturn\u001b[39;00m \u001b[43m_gdal\u001b[49m\u001b[38;5;241;43m.\u001b[39;49m\u001b[43mOpen\u001b[49m\u001b[43m(\u001b[49m\u001b[38;5;241;43m*\u001b[39;49m\u001b[43margs\u001b[49m\u001b[43m)\u001b[49m\n",
      "\u001b[0;31mRuntimeError\u001b[0m: Invalid dataset dimensions : 0 x 10004"
     ]
    }
   ],
   "source": [
    "n.crop_lonlat(lonlim=lonlim, latlim=latlim)"
   ]
  },
  {
   "cell_type": "code",
   "execution_count": null,
   "id": "778a57bb-837d-4bd6-8231-05888c0bdf78",
   "metadata": {},
   "outputs": [],
   "source": []
  },
  {
   "cell_type": "code",
   "execution_count": null,
   "id": "f8401985-9c00-420d-a5eb-0bbd8061f602",
   "metadata": {},
   "outputs": [],
   "source": []
  },
  {
   "cell_type": "markdown",
   "id": "b1c46597-cb47-4ac5-b403-50fb84f9eb81",
   "metadata": {},
   "source": [
    "with open(data_dir + 'in_situ_obs_with_sar_params.pickle', 'wb') as handle:\n",
    "    pickle.dump(in_situ_obs, handle, protocol=pickle.HIGHEST_PROTOCOL)\n"
   ]
  },
  {
   "cell_type": "code",
   "execution_count": null,
   "id": "aff06a66-355e-42b0-96b0-99c3adbc7ced",
   "metadata": {},
   "outputs": [],
   "source": []
  }
 ],
 "metadata": {
  "kernelspec": {
   "display_name": "Python 3 (ipykernel)",
   "language": "python",
   "name": "python3"
  },
  "language_info": {
   "codemirror_mode": {
    "name": "ipython",
    "version": 3
   },
   "file_extension": ".py",
   "mimetype": "text/x-python",
   "name": "python",
   "nbconvert_exporter": "python",
   "pygments_lexer": "ipython3",
   "version": "3.9.13"
  }
 },
 "nbformat": 4,
 "nbformat_minor": 5
}
