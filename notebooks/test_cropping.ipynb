{
 "cells": [
  {
   "cell_type": "markdown",
   "id": "46bf5e25-63cf-4f59-a8b2-42385acd4072",
   "metadata": {},
   "source": [
    "# Check why the cropping does not work for some images."
   ]
  },
  {
   "cell_type": "code",
   "execution_count": 1,
   "id": "aa0bd65e-07fc-4670-8c59-41e05c554d8a",
   "metadata": {},
   "outputs": [],
   "source": [
    "import matplotlib.pyplot as plt\n",
    "\n",
    "import sys\n",
    "sys.path.append(\"../../nansat/\")\n",
    "from nansat import Nansat\n",
    "\n",
    "sys.path.append(\"..\")\n",
    "import sar"
   ]
  },
  {
   "cell_type": "code",
   "execution_count": 2,
   "id": "5ee19fd7-40f6-43f8-a0f2-40f6c0b1201c",
   "metadata": {},
   "outputs": [],
   "source": [
    "from sentinelsat import SentinelAPI, read_geojson, geojson_to_wkt, make_path_filter\n",
    "\n",
    "local_api = SentinelAPI(None, None, \"https://colhub-archive.met.no\" ,timeout=180)\n",
    "api = SentinelAPI(None, None, \"https://scihub.copernicus.eu/dhus\", timeout=180)\n",
    "\n",
    "data_dir = \"/lustre/storeB/project/IT/geout/machine-ocean/data_raw/sentinel/\""
   ]
  },
  {
   "cell_type": "code",
   "execution_count": 3,
   "id": "132e479c-3db7-4942-b964-95f5226a7537",
   "metadata": {},
   "outputs": [
    {
     "name": "stdout",
     "output_type": "stream",
     "text": [
      "dict_keys(['Endurance_8', 'Irminger_7', 'SPURS2', 'Endurance_4', 'Irminger_6', 'Pioneer_5', 'CLIMODE', 'Endurance_9', 'Pioneer_10', 'SouthernOcean2', 'Endurance_3', 'Pioneer_3', 'SPURS1', 'Endurance_7', 'Irminger_3', 'Pioneer_7', 'Pioneer_6', 'Pioneer_8'])\n"
     ]
    }
   ],
   "source": [
    "# import dict containing metadata for in-situ data\n",
    "# https://raw.githubusercontent.com/jerabaul29/MachineOcean_WP1_WHOI/main/mo_whoi_data/data_files/in_situ_dict.py\n",
    "# from private repo at https://github.com/jerabaul29/MachineOcean_WP1_WHOI\n",
    "import time\n",
    "import os\n",
    "\n",
    "os.environ[\"TZ\"] = \"UTC\"\n",
    "time.tzset()\n",
    "\n",
    "import datetime\n",
    "import pytz\n",
    "\n",
    "utc_timezone = pytz.timezone(\"UTC\")\n",
    "\n",
    "wd = os.getcwd()\n",
    "\n",
    "os.chdir(\"../../MachineOcean_WP1_WHOI/mo_whoi_data/data_files\")\n",
    "\n",
    "import in_situ_dict\n",
    "in_situ_obs = in_situ_dict.get_in_situ_metadata()\n",
    "\n",
    "os.chdir(wd)\n",
    "\n",
    "print(in_situ_obs.keys())"
   ]
  },
  {
   "cell_type": "code",
   "execution_count": 4,
   "id": "de196868-2ab5-4b84-a0fd-1b68707d0d95",
   "metadata": {},
   "outputs": [],
   "source": [
    "##### read pickled imported in-situ measurements metadata with attached colocated Sentinel-1 sat products metadata\n",
    "# (to avoid having to rerun the API search)\n",
    "import pickle\n",
    "\n",
    "with open('in_situ_obs.pickle', 'rb') as handle:\n",
    "    in_situ_obs = pickle.load(handle)\n",
    "\n",
    "with open('products_scihub.pickle', 'rb') as handle:\n",
    "    products_scihub = pickle.load(handle)"
   ]
  },
  {
   "cell_type": "code",
   "execution_count": 5,
   "id": "1b96a3e0-3121-4faa-95cd-eacef5732774",
   "metadata": {},
   "outputs": [
    {
     "data": {
      "text/plain": [
       "dict_keys(['Endurance_8', 'Irminger_7', 'SPURS2', 'Endurance_4', 'Irminger_6', 'Pioneer_5', 'CLIMODE', 'Endurance_9', 'Pioneer_10', 'SouthernOcean2', 'Endurance_3', 'Pioneer_3', 'SPURS1', 'Endurance_7', 'Irminger_3', 'Pioneer_7', 'Pioneer_6', 'Pioneer_8'])"
      ]
     },
     "execution_count": 5,
     "metadata": {},
     "output_type": "execute_result"
    }
   ],
   "source": [
    "in_situ_obs.keys()"
   ]
  },
  {
   "cell_type": "code",
   "execution_count": null,
   "id": "41f25399-60f9-4ea4-90d8-0dcb3012da6a",
   "metadata": {},
   "outputs": [],
   "source": []
  },
  {
   "cell_type": "markdown",
   "id": "49726876-1d3f-491f-80c2-76b85e8b79de",
   "metadata": {},
   "source": [
    "# Files that failed"
   ]
  },
  {
   "cell_type": "code",
   "execution_count": 6,
   "id": "2db3db85-61b9-44be-8c6b-57d3255d771b",
   "metadata": {},
   "outputs": [],
   "source": [
    "buoy = 'Irminger_7'\n",
    "fname = 'S1B_EW_GRDM_1SDH_20210728T201123_20210728T201223_027999_03571C_4E75.SAFE'\n",
    "station_lat = in_situ_obs[buoy]['lat'][0]\n",
    "station_lon = in_situ_obs[buoy]['lon'][0]"
   ]
  },
  {
   "cell_type": "code",
   "execution_count": 7,
   "id": "cec4d09f-4f81-447c-ac61-3928f2008435",
   "metadata": {},
   "outputs": [
    {
     "data": {
      "text/plain": [
       "59.9337"
      ]
     },
     "execution_count": 7,
     "metadata": {},
     "output_type": "execute_result"
    }
   ],
   "source": [
    "station_lat"
   ]
  },
  {
   "cell_type": "code",
   "execution_count": 8,
   "id": "f3f41d65-2f54-482e-a5b2-ae58c4be233f",
   "metadata": {},
   "outputs": [
    {
     "data": {
      "text/plain": [
       "-39.47378"
      ]
     },
     "execution_count": 8,
     "metadata": {},
     "output_type": "execute_result"
    }
   ],
   "source": [
    "station_lon"
   ]
  },
  {
   "cell_type": "code",
   "execution_count": 9,
   "id": "7605b558-16fb-45dd-b6f8-f32fb995c8ab",
   "metadata": {
    "scrolled": true
   },
   "outputs": [],
   "source": [
    "epsilon = 0.00005"
   ]
  },
  {
   "cell_type": "code",
   "execution_count": 10,
   "id": "d55ef373-6297-4fe7-bde5-3b6e309b7151",
   "metadata": {
    "scrolled": true,
    "tags": []
   },
   "outputs": [
    {
     "name": "stderr",
     "output_type": "stream",
     "text": [
      "/home/paulinast/repos/github/nansat/nansat/nansat.py:1125: SyntaxWarning: \"is not\" with a literal. Did you mean \"!=\"?\n",
      "  if mappername is not '':\n",
      "/home/paulinast/repos/github/nansat/nansat/nansat.py:1125: SyntaxWarning: \"is not\" with a literal. Did you mean \"!=\"?\n",
      "  if mappername is not '':\n",
      "/home/paulinast/repos/github/nansat/nansat/nansat.py:1125: SyntaxWarning: \"is not\" with a literal. Did you mean \"!=\"?\n",
      "  if mappername is not '':\n",
      "/home/paulinast/repos/github/nansat/nansat/nansat.py:1125: SyntaxWarning: \"is not\" with a literal. Did you mean \"!=\"?\n",
      "  if mappername is not '':\n"
     ]
    },
    {
     "ename": "RuntimeError",
     "evalue": "Invalid dataset dimensions : 0 x 10003",
     "output_type": "error",
     "traceback": [
      "\u001b[0;31m---------------------------------------------------------------------------\u001b[0m",
      "\u001b[0;31mRuntimeError\u001b[0m                              Traceback (most recent call last)",
      "Cell \u001b[0;32mIn [10], line 1\u001b[0m\n\u001b[0;32m----> 1\u001b[0m s0, s0_norm, inc, az, grid_lons, grid_lats, pol \u001b[38;5;241m=\u001b[39m sar\u001b[38;5;241m.\u001b[39msar_params(\n\u001b[1;32m      2\u001b[0m     data_dir \u001b[38;5;241m+\u001b[39m fname,\n\u001b[1;32m      3\u001b[0m     station_lon\u001b[38;5;241m=\u001b[39mstation_lon,\n\u001b[1;32m      4\u001b[0m     station_lat\u001b[38;5;241m=\u001b[39mstation_lat,\n\u001b[1;32m      5\u001b[0m     epsilon\u001b[38;5;241m=\u001b[39mepsilon\n\u001b[1;32m      6\u001b[0m )\n",
      "File \u001b[0;32m~/repos/github/machine-ocean-satdata/notebooks/../sar.py:138\u001b[0m, in \u001b[0;36msar_params\u001b[0;34m(sar_fn, station_lon, station_lat, normalize, vv, epsilon)\u001b[0m\n\u001b[1;32m    135\u001b[0m n \u001b[38;5;241m=\u001b[39m Nansat(sar_fn)\n\u001b[1;32m    137\u001b[0m \u001b[38;5;28;01mif\u001b[39;00m station_lon \u001b[38;5;129;01mand\u001b[39;00m station_lat:\n\u001b[0;32m--> 138\u001b[0m     \u001b[43mcrop_sar_data\u001b[49m\u001b[43m(\u001b[49m\u001b[43mn\u001b[49m\u001b[43m,\u001b[49m\u001b[43m \u001b[49m\u001b[43mstation_lon\u001b[49m\u001b[43m,\u001b[49m\u001b[43m \u001b[49m\u001b[43mstation_lat\u001b[49m\u001b[43m,\u001b[49m\u001b[43m \u001b[49m\u001b[43mepsilon\u001b[49m\u001b[43m)\u001b[49m\n\u001b[1;32m    140\u001b[0m \u001b[38;5;66;03m# Find band number of real valued HH or VV polarization NRCS\u001b[39;00m\n\u001b[1;32m    141\u001b[0m \u001b[38;5;28;01mtry\u001b[39;00m:\n",
      "File \u001b[0;32m~/repos/github/machine-ocean-satdata/notebooks/../sar.py:90\u001b[0m, in \u001b[0;36mcrop_sar_data\u001b[0;34m(n, station_lon, station_lat, epsilon, crop_type)\u001b[0m\n\u001b[1;32m     87\u001b[0m lonlim\u001b[38;5;241m=\u001b[39m[station_lon \u001b[38;5;241m-\u001b[39m epsilon, station_lon \u001b[38;5;241m+\u001b[39m epsilon]\n\u001b[1;32m     88\u001b[0m latlim\u001b[38;5;241m=\u001b[39m[station_lat \u001b[38;5;241m-\u001b[39m epsilon, station_lat \u001b[38;5;241m+\u001b[39m epsilon]\n\u001b[0;32m---> 90\u001b[0m extent \u001b[38;5;241m=\u001b[39m \u001b[43mn\u001b[49m\u001b[38;5;241;43m.\u001b[39;49m\u001b[43mcrop_lonlat\u001b[49m\u001b[43m(\u001b[49m\u001b[43mlonlim\u001b[49m\u001b[38;5;241;43m=\u001b[39;49m\u001b[43mlonlim\u001b[49m\u001b[43m,\u001b[49m\u001b[43m \u001b[49m\u001b[43mlatlim\u001b[49m\u001b[38;5;241;43m=\u001b[39;49m\u001b[43mlatlim\u001b[49m\u001b[43m)\u001b[49m\n\u001b[1;32m     92\u001b[0m \u001b[38;5;28;01mreturn\u001b[39;00m extent\n",
      "File \u001b[0;32m~/repos/github/nansat/nansat/nansat.py:1438\u001b[0m, in \u001b[0;36mNansat.crop_lonlat\u001b[0;34m(self, lonlim, latlim)\u001b[0m\n\u001b[1;32m   1435\u001b[0m x_offset, x_size \u001b[38;5;241m=\u001b[39m offset_size(pix_corners)\n\u001b[1;32m   1436\u001b[0m y_offset, y_size \u001b[38;5;241m=\u001b[39m offset_size(lin_corners)\n\u001b[0;32m-> 1438\u001b[0m \u001b[38;5;28;01mreturn\u001b[39;00m \u001b[38;5;28;43mself\u001b[39;49m\u001b[38;5;241;43m.\u001b[39;49m\u001b[43mcrop\u001b[49m\u001b[43m(\u001b[49m\u001b[43mx_offset\u001b[49m\u001b[43m,\u001b[49m\u001b[43m \u001b[49m\u001b[43my_offset\u001b[49m\u001b[43m,\u001b[49m\u001b[43m \u001b[49m\u001b[43mx_size\u001b[49m\u001b[43m,\u001b[49m\u001b[43m \u001b[49m\u001b[43my_size\u001b[49m\u001b[43m)\u001b[49m\n",
      "File \u001b[0;32m~/repos/github/nansat/nansat/nansat.py:1517\u001b[0m, in \u001b[0;36mNansat.crop\u001b[0;34m(self, x_offset, y_offset, x_size, y_size, allow_larger)\u001b[0m\n\u001b[1;32m   1515\u001b[0m \u001b[38;5;66;03m# create super VRT and change it\u001b[39;00m\n\u001b[1;32m   1516\u001b[0m \u001b[38;5;28mself\u001b[39m\u001b[38;5;241m.\u001b[39mvrt \u001b[38;5;241m=\u001b[39m \u001b[38;5;28mself\u001b[39m\u001b[38;5;241m.\u001b[39mvrt\u001b[38;5;241m.\u001b[39mget_super_vrt()\n\u001b[0;32m-> 1517\u001b[0m \u001b[38;5;28;43mself\u001b[39;49m\u001b[38;5;241;43m.\u001b[39;49m\u001b[43mvrt\u001b[49m\u001b[38;5;241;43m.\u001b[39;49m\u001b[43mset_offset_size\u001b[49m\u001b[43m(\u001b[49m\u001b[38;5;124;43m'\u001b[39;49m\u001b[38;5;124;43mx\u001b[39;49m\u001b[38;5;124;43m'\u001b[39;49m\u001b[43m,\u001b[49m\u001b[43m \u001b[49m\u001b[43mx_offset\u001b[49m\u001b[43m,\u001b[49m\u001b[43m \u001b[49m\u001b[43mx_size\u001b[49m\u001b[43m)\u001b[49m\n\u001b[1;32m   1518\u001b[0m \u001b[38;5;28mself\u001b[39m\u001b[38;5;241m.\u001b[39mvrt\u001b[38;5;241m.\u001b[39mset_offset_size(\u001b[38;5;124m'\u001b[39m\u001b[38;5;124my\u001b[39m\u001b[38;5;124m'\u001b[39m, y_offset, y_size)\n\u001b[1;32m   1519\u001b[0m \u001b[38;5;28mself\u001b[39m\u001b[38;5;241m.\u001b[39mvrt\u001b[38;5;241m.\u001b[39mshift_cropped_gcps(x_offset, x_size, y_offset, y_size)\n",
      "File \u001b[0;32m~/repos/github/nansat/nansat/vrt.py:1638\u001b[0m, in \u001b[0;36mVRT.set_offset_size\u001b[0;34m(self, axis, offset, size)\u001b[0m\n\u001b[1;32m   1635\u001b[0m     iNode3\u001b[38;5;241m.\u001b[39mreplaceAttribute(\u001b[38;5;124m'\u001b[39m\u001b[38;5;132;01m%s\u001b[39;00m\u001b[38;5;124mSize\u001b[39m\u001b[38;5;124m'\u001b[39m\u001b[38;5;241m%\u001b[39m\u001b[38;5;28mstr\u001b[39m(axis)\u001b[38;5;241m.\u001b[39mlower(), \u001b[38;5;28mstr\u001b[39m(size))\n\u001b[1;32m   1637\u001b[0m \u001b[38;5;66;03m# write modified XML\u001b[39;00m\n\u001b[0;32m-> 1638\u001b[0m \u001b[38;5;28;43mself\u001b[39;49m\u001b[38;5;241;43m.\u001b[39;49m\u001b[43mwrite_xml\u001b[49m\u001b[43m(\u001b[49m\u001b[43mnode0\u001b[49m\u001b[38;5;241;43m.\u001b[39;49m\u001b[43mrawxml\u001b[49m\u001b[43m(\u001b[49m\u001b[43m)\u001b[49m\u001b[43m)\u001b[49m\n",
      "File \u001b[0;32m~/repos/github/nansat/nansat/vrt.py:1053\u001b[0m, in \u001b[0;36mVRT.write_xml\u001b[0;34m(self, vsi_file_content)\u001b[0m\n\u001b[1;32m   1051\u001b[0m gdal\u001b[38;5;241m.\u001b[39mVSIFCloseL(vsi_file)\n\u001b[1;32m   1052\u001b[0m \u001b[38;5;66;03m# re-open self.dataset with new content\u001b[39;00m\n\u001b[0;32m-> 1053\u001b[0m \u001b[38;5;28mself\u001b[39m\u001b[38;5;241m.\u001b[39mdataset \u001b[38;5;241m=\u001b[39m \u001b[43mgdal\u001b[49m\u001b[38;5;241;43m.\u001b[39;49m\u001b[43mOpen\u001b[49m\u001b[43m(\u001b[49m\u001b[38;5;28;43mself\u001b[39;49m\u001b[38;5;241;43m.\u001b[39;49m\u001b[43mfilename\u001b[49m\u001b[43m)\u001b[49m\n",
      "File \u001b[0;32m/modules/rhel8/conda/install/envs/production-10-2022/lib/python3.9/site-packages/osgeo/gdal.py:4232\u001b[0m, in \u001b[0;36mOpen\u001b[0;34m(*args)\u001b[0m\n\u001b[1;32m   4230\u001b[0m \u001b[38;5;28;01mdef\u001b[39;00m \u001b[38;5;21mOpen\u001b[39m(\u001b[38;5;241m*\u001b[39margs):\n\u001b[1;32m   4231\u001b[0m     \u001b[38;5;124mr\u001b[39m\u001b[38;5;124;03m\"\"\"Open(char const * utf8_path, GDALAccess eAccess=GA_ReadOnly) -> Dataset\"\"\"\u001b[39;00m\n\u001b[0;32m-> 4232\u001b[0m     \u001b[38;5;28;01mreturn\u001b[39;00m \u001b[43m_gdal\u001b[49m\u001b[38;5;241;43m.\u001b[39;49m\u001b[43mOpen\u001b[49m\u001b[43m(\u001b[49m\u001b[38;5;241;43m*\u001b[39;49m\u001b[43margs\u001b[49m\u001b[43m)\u001b[49m\n",
      "\u001b[0;31mRuntimeError\u001b[0m: Invalid dataset dimensions : 0 x 10003"
     ]
    }
   ],
   "source": [
    "s0, s0_norm, inc, az, grid_lons, grid_lats, pol = sar.sar_params(\n",
    "    data_dir + fname,\n",
    "    station_lon=station_lon,\n",
    "    station_lat=station_lat,\n",
    "    epsilon=epsilon\n",
    ")"
   ]
  },
  {
   "cell_type": "code",
   "execution_count": 11,
   "id": "836bbdef-e1dc-47b5-b35a-d1f5f4c78d59",
   "metadata": {
    "scrolled": true
   },
   "outputs": [],
   "source": [
    "epsilon = 0.0005"
   ]
  },
  {
   "cell_type": "code",
   "execution_count": 12,
   "id": "142cdf82-9a37-4cbd-9fc4-bb0ce8e03e6b",
   "metadata": {
    "scrolled": true,
    "tags": []
   },
   "outputs": [],
   "source": [
    "s0, s0_norm, inc, az, grid_lons, grid_lats, pol = sar.sar_params(\n",
    "    data_dir + fname,\n",
    "    station_lon=station_lon,\n",
    "    station_lat=station_lat,\n",
    "    epsilon=epsilon\n",
    ")"
   ]
  },
  {
   "cell_type": "code",
   "execution_count": 13,
   "id": "0a4222e9-3014-4fa6-a1d5-900853608822",
   "metadata": {},
   "outputs": [
    {
     "data": {
      "text/plain": [
       "array([[-39.4751683 , -39.474469  ],\n",
       "       [-39.47532087, -39.47462156],\n",
       "       [-39.47547344, -39.47477412]])"
      ]
     },
     "execution_count": 13,
     "metadata": {},
     "output_type": "execute_result"
    }
   ],
   "source": [
    "grid_lons"
   ]
  },
  {
   "cell_type": "markdown",
   "id": "9e9decc3-452d-42fa-9632-f08655cde902",
   "metadata": {},
   "source": [
    "# -------------------------------"
   ]
  },
  {
   "cell_type": "code",
   "execution_count": 14,
   "id": "8b76c750-b2ca-40dc-9199-c1354ae92903",
   "metadata": {},
   "outputs": [],
   "source": [
    "buoy = 'Irminger_3'\n",
    "fname = 'S1A_EW_GRDM_1SDH_20161119T202719_20161119T202824_014016_01696B_88AF.SAFE'\n",
    "station_lat = in_situ_obs[buoy]['lat'][0]\n",
    "station_lon = in_situ_obs[buoy]['lon'][0]"
   ]
  },
  {
   "cell_type": "code",
   "execution_count": 15,
   "id": "570c6141-bb91-4c00-915a-5b028e912b45",
   "metadata": {},
   "outputs": [
    {
     "data": {
      "text/plain": [
       "59.9337"
      ]
     },
     "execution_count": 15,
     "metadata": {},
     "output_type": "execute_result"
    }
   ],
   "source": [
    "station_lat"
   ]
  },
  {
   "cell_type": "code",
   "execution_count": 16,
   "id": "9ebcee65-aa44-4b4a-aee3-8da2bd1dd46f",
   "metadata": {},
   "outputs": [
    {
     "data": {
      "text/plain": [
       "-39.47378"
      ]
     },
     "execution_count": 16,
     "metadata": {},
     "output_type": "execute_result"
    }
   ],
   "source": [
    "station_lon"
   ]
  },
  {
   "cell_type": "code",
   "execution_count": 17,
   "id": "acc857e1-1776-40b8-93f5-c513e0d9311c",
   "metadata": {
    "scrolled": true,
    "tags": []
   },
   "outputs": [
    {
     "name": "stderr",
     "output_type": "stream",
     "text": [
      "/home/paulinast/repos/github/nansat/nansat/nansat.py:1125: SyntaxWarning: \"is not\" with a literal. Did you mean \"!=\"?\n",
      "  if mappername is not '':\n",
      "/home/paulinast/repos/github/nansat/nansat/nansat.py:1125: SyntaxWarning: \"is not\" with a literal. Did you mean \"!=\"?\n",
      "  if mappername is not '':\n",
      "/home/paulinast/repos/github/nansat/nansat/nansat.py:1125: SyntaxWarning: \"is not\" with a literal. Did you mean \"!=\"?\n",
      "  if mappername is not '':\n"
     ]
    },
    {
     "ename": "ValueError",
     "evalue": "Cropping region is outside the image! offset: 10411.000000 size: 2.000000",
     "output_type": "error",
     "traceback": [
      "\u001b[0;31m---------------------------------------------------------------------------\u001b[0m",
      "\u001b[0;31mValueError\u001b[0m                                Traceback (most recent call last)",
      "Cell \u001b[0;32mIn [17], line 1\u001b[0m\n\u001b[0;32m----> 1\u001b[0m s0, s0_norm, inc, az, grid_lons, grid_lats, pol \u001b[38;5;241m=\u001b[39m sar\u001b[38;5;241m.\u001b[39msar_params(\n\u001b[1;32m      2\u001b[0m     data_dir \u001b[38;5;241m+\u001b[39m fname,\n\u001b[1;32m      3\u001b[0m     station_lon\u001b[38;5;241m=\u001b[39mstation_lon,\n\u001b[1;32m      4\u001b[0m     station_lat\u001b[38;5;241m=\u001b[39mstation_lat,\n\u001b[1;32m      5\u001b[0m     epsilon\u001b[38;5;241m=\u001b[39mepsilon\n\u001b[1;32m      6\u001b[0m )\n",
      "File \u001b[0;32m~/repos/github/machine-ocean-satdata/notebooks/../sar.py:138\u001b[0m, in \u001b[0;36msar_params\u001b[0;34m(sar_fn, station_lon, station_lat, normalize, vv, epsilon)\u001b[0m\n\u001b[1;32m    135\u001b[0m n \u001b[38;5;241m=\u001b[39m Nansat(sar_fn)\n\u001b[1;32m    137\u001b[0m \u001b[38;5;28;01mif\u001b[39;00m station_lon \u001b[38;5;129;01mand\u001b[39;00m station_lat:\n\u001b[0;32m--> 138\u001b[0m     \u001b[43mcrop_sar_data\u001b[49m\u001b[43m(\u001b[49m\u001b[43mn\u001b[49m\u001b[43m,\u001b[49m\u001b[43m \u001b[49m\u001b[43mstation_lon\u001b[49m\u001b[43m,\u001b[49m\u001b[43m \u001b[49m\u001b[43mstation_lat\u001b[49m\u001b[43m,\u001b[49m\u001b[43m \u001b[49m\u001b[43mepsilon\u001b[49m\u001b[43m)\u001b[49m\n\u001b[1;32m    140\u001b[0m \u001b[38;5;66;03m# Find band number of real valued HH or VV polarization NRCS\u001b[39;00m\n\u001b[1;32m    141\u001b[0m \u001b[38;5;28;01mtry\u001b[39;00m:\n",
      "File \u001b[0;32m~/repos/github/machine-ocean-satdata/notebooks/../sar.py:90\u001b[0m, in \u001b[0;36mcrop_sar_data\u001b[0;34m(n, station_lon, station_lat, epsilon, crop_type)\u001b[0m\n\u001b[1;32m     87\u001b[0m lonlim\u001b[38;5;241m=\u001b[39m[station_lon \u001b[38;5;241m-\u001b[39m epsilon, station_lon \u001b[38;5;241m+\u001b[39m epsilon]\n\u001b[1;32m     88\u001b[0m latlim\u001b[38;5;241m=\u001b[39m[station_lat \u001b[38;5;241m-\u001b[39m epsilon, station_lat \u001b[38;5;241m+\u001b[39m epsilon]\n\u001b[0;32m---> 90\u001b[0m extent \u001b[38;5;241m=\u001b[39m \u001b[43mn\u001b[49m\u001b[38;5;241;43m.\u001b[39;49m\u001b[43mcrop_lonlat\u001b[49m\u001b[43m(\u001b[49m\u001b[43mlonlim\u001b[49m\u001b[38;5;241;43m=\u001b[39;49m\u001b[43mlonlim\u001b[49m\u001b[43m,\u001b[49m\u001b[43m \u001b[49m\u001b[43mlatlim\u001b[49m\u001b[38;5;241;43m=\u001b[39;49m\u001b[43mlatlim\u001b[49m\u001b[43m)\u001b[49m\n\u001b[1;32m     92\u001b[0m \u001b[38;5;28;01mreturn\u001b[39;00m extent\n",
      "File \u001b[0;32m~/repos/github/nansat/nansat/nansat.py:1438\u001b[0m, in \u001b[0;36mNansat.crop_lonlat\u001b[0;34m(self, lonlim, latlim)\u001b[0m\n\u001b[1;32m   1435\u001b[0m x_offset, x_size \u001b[38;5;241m=\u001b[39m offset_size(pix_corners)\n\u001b[1;32m   1436\u001b[0m y_offset, y_size \u001b[38;5;241m=\u001b[39m offset_size(lin_corners)\n\u001b[0;32m-> 1438\u001b[0m \u001b[38;5;28;01mreturn\u001b[39;00m \u001b[38;5;28;43mself\u001b[39;49m\u001b[38;5;241;43m.\u001b[39;49m\u001b[43mcrop\u001b[49m\u001b[43m(\u001b[49m\u001b[43mx_offset\u001b[49m\u001b[43m,\u001b[49m\u001b[43m \u001b[49m\u001b[43my_offset\u001b[49m\u001b[43m,\u001b[49m\u001b[43m \u001b[49m\u001b[43mx_size\u001b[49m\u001b[43m,\u001b[49m\u001b[43m \u001b[49m\u001b[43my_size\u001b[49m\u001b[43m)\u001b[49m\n",
      "File \u001b[0;32m~/repos/github/nansat/nansat/nansat.py:1502\u001b[0m, in \u001b[0;36mNansat.crop\u001b[0;34m(self, x_offset, y_offset, x_size, y_size, allow_larger)\u001b[0m\n\u001b[1;32m   1464\u001b[0m \u001b[38;5;28;01mdef\u001b[39;00m \u001b[38;5;21mcrop\u001b[39m(\u001b[38;5;28mself\u001b[39m, x_offset, y_offset, x_size, y_size, allow_larger\u001b[38;5;241m=\u001b[39m\u001b[38;5;28;01mFalse\u001b[39;00m):\n\u001b[1;32m   1465\u001b[0m     \u001b[38;5;124;03m\"\"\"Crop Nansat object\u001b[39;00m\n\u001b[1;32m   1466\u001b[0m \n\u001b[1;32m   1467\u001b[0m \u001b[38;5;124;03m    Create superVRT, modify the Source Rectangle (SrcRect) and Destination\u001b[39;00m\n\u001b[0;32m   (...)\u001b[0m\n\u001b[1;32m   1500\u001b[0m \n\u001b[1;32m   1501\u001b[0m \u001b[38;5;124;03m    \"\"\"\u001b[39;00m\n\u001b[0;32m-> 1502\u001b[0m     x_offset, x_size \u001b[38;5;241m=\u001b[39m \u001b[43mNansat\u001b[49m\u001b[38;5;241;43m.\u001b[39;49m\u001b[43m_fix_crop_offset_size\u001b[49m\u001b[43m(\u001b[49m\u001b[43mx_offset\u001b[49m\u001b[43m,\u001b[49m\u001b[43m \u001b[49m\u001b[43mx_size\u001b[49m\u001b[43m,\u001b[49m\n\u001b[1;32m   1503\u001b[0m \u001b[43m                                                    \u001b[49m\u001b[38;5;28;43mself\u001b[39;49m\u001b[38;5;241;43m.\u001b[39;49m\u001b[43mshape\u001b[49m\u001b[43m(\u001b[49m\u001b[43m)\u001b[49m\u001b[43m[\u001b[49m\u001b[38;5;241;43m1\u001b[39;49m\u001b[43m]\u001b[49m\u001b[43m,\u001b[49m\u001b[43m \u001b[49m\u001b[43mallow_larger\u001b[49m\u001b[43m)\u001b[49m\n\u001b[1;32m   1504\u001b[0m     y_offset, y_size \u001b[38;5;241m=\u001b[39m Nansat\u001b[38;5;241m.\u001b[39m_fix_crop_offset_size(y_offset, y_size,\n\u001b[1;32m   1505\u001b[0m                                                     \u001b[38;5;28mself\u001b[39m\u001b[38;5;241m.\u001b[39mshape()[\u001b[38;5;241m0\u001b[39m], allow_larger)\n\u001b[1;32m   1507\u001b[0m     extent \u001b[38;5;241m=\u001b[39m (\u001b[38;5;28mint\u001b[39m(x_offset), \u001b[38;5;28mint\u001b[39m(y_offset), \u001b[38;5;28mint\u001b[39m(x_size), \u001b[38;5;28mint\u001b[39m(y_size))\n",
      "File \u001b[0;32m~/repos/github/nansat/nansat/nansat.py:1452\u001b[0m, in \u001b[0;36mNansat._fix_crop_offset_size\u001b[0;34m(offset, size, raster_size, allow_larger)\u001b[0m\n\u001b[1;32m   1450\u001b[0m \u001b[38;5;66;03m# test if crop is totally outside\u001b[39;00m\n\u001b[1;32m   1451\u001b[0m \u001b[38;5;28;01mif\u001b[39;00m (offset \u001b[38;5;241m>\u001b[39m raster_size \u001b[38;5;129;01mor\u001b[39;00m (offset \u001b[38;5;241m+\u001b[39m size) \u001b[38;5;241m<\u001b[39m \u001b[38;5;241m0\u001b[39m):\n\u001b[0;32m-> 1452\u001b[0m     \u001b[38;5;28;01mraise\u001b[39;00m \u001b[38;5;167;01mValueError\u001b[39;00m(\u001b[38;5;124m'\u001b[39m\u001b[38;5;124mCropping region is outside the image! offset: \u001b[39m\u001b[38;5;132;01m%f\u001b[39;00m\u001b[38;5;124m size: \u001b[39m\u001b[38;5;132;01m%f\u001b[39;00m\u001b[38;5;124m'\u001b[39m\n\u001b[1;32m   1453\u001b[0m                        \u001b[38;5;241m%\u001b[39m(\u001b[38;5;28mfloat\u001b[39m(offset), \u001b[38;5;28mfloat\u001b[39m(size)))\n\u001b[1;32m   1454\u001b[0m \u001b[38;5;28;01mif\u001b[39;00m allow_larger:\n\u001b[1;32m   1455\u001b[0m     \u001b[38;5;28;01mreturn\u001b[39;00m offset, size\n",
      "\u001b[0;31mValueError\u001b[0m: Cropping region is outside the image! offset: 10411.000000 size: 2.000000"
     ]
    }
   ],
   "source": [
    "s0, s0_norm, inc, az, grid_lons, grid_lats, pol = sar.sar_params(\n",
    "    data_dir + fname,\n",
    "    station_lon=station_lon,\n",
    "    station_lat=station_lat,\n",
    "    epsilon=epsilon\n",
    ")"
   ]
  },
  {
   "cell_type": "code",
   "execution_count": 18,
   "id": "d521f79d-feb8-43e4-b617-2c20fadc86da",
   "metadata": {},
   "outputs": [
    {
     "data": {
      "text/plain": [
       "(array([-45.28665831, -47.17225249, -38.63948871, -39.7694533 ]),\n",
       " array([56.29524491, 60.09721186, 57.01300696, 60.85116796]))"
      ]
     },
     "execution_count": 18,
     "metadata": {},
     "output_type": "execute_result"
    }
   ],
   "source": [
    "n = Nansat(data_dir + fname)\n",
    "n.get_corners()"
   ]
  },
  {
   "cell_type": "code",
   "execution_count": 19,
   "id": "e8826afd-638e-49d1-92f0-a49fa981ae13",
   "metadata": {},
   "outputs": [],
   "source": [
    "fname = 'S1B_EW_GRDM_1SDH_20170804T202641_20170804T202745_006795_00BF51_CD72.SAFE'"
   ]
  },
  {
   "cell_type": "code",
   "execution_count": 20,
   "id": "d6f872a3-c23e-4dd4-8ceb-afcddd741011",
   "metadata": {
    "scrolled": true,
    "tags": []
   },
   "outputs": [
    {
     "ename": "ValueError",
     "evalue": "Cropping region is outside the image! offset: 10401.000000 size: 2.000000",
     "output_type": "error",
     "traceback": [
      "\u001b[0;31m---------------------------------------------------------------------------\u001b[0m",
      "\u001b[0;31mValueError\u001b[0m                                Traceback (most recent call last)",
      "Cell \u001b[0;32mIn [20], line 1\u001b[0m\n\u001b[0;32m----> 1\u001b[0m s0, s0_norm, inc, az, grid_lons, grid_lats, pol \u001b[38;5;241m=\u001b[39m sar\u001b[38;5;241m.\u001b[39msar_params(\n\u001b[1;32m      2\u001b[0m     data_dir \u001b[38;5;241m+\u001b[39m fname,\n\u001b[1;32m      3\u001b[0m     station_lon\u001b[38;5;241m=\u001b[39mstation_lon,\n\u001b[1;32m      4\u001b[0m     station_lat\u001b[38;5;241m=\u001b[39mstation_lat,\n\u001b[1;32m      5\u001b[0m     epsilon\u001b[38;5;241m=\u001b[39mepsilon\n\u001b[1;32m      6\u001b[0m )\n",
      "File \u001b[0;32m~/repos/github/machine-ocean-satdata/notebooks/../sar.py:138\u001b[0m, in \u001b[0;36msar_params\u001b[0;34m(sar_fn, station_lon, station_lat, normalize, vv, epsilon)\u001b[0m\n\u001b[1;32m    135\u001b[0m n \u001b[38;5;241m=\u001b[39m Nansat(sar_fn)\n\u001b[1;32m    137\u001b[0m \u001b[38;5;28;01mif\u001b[39;00m station_lon \u001b[38;5;129;01mand\u001b[39;00m station_lat:\n\u001b[0;32m--> 138\u001b[0m     \u001b[43mcrop_sar_data\u001b[49m\u001b[43m(\u001b[49m\u001b[43mn\u001b[49m\u001b[43m,\u001b[49m\u001b[43m \u001b[49m\u001b[43mstation_lon\u001b[49m\u001b[43m,\u001b[49m\u001b[43m \u001b[49m\u001b[43mstation_lat\u001b[49m\u001b[43m,\u001b[49m\u001b[43m \u001b[49m\u001b[43mepsilon\u001b[49m\u001b[43m)\u001b[49m\n\u001b[1;32m    140\u001b[0m \u001b[38;5;66;03m# Find band number of real valued HH or VV polarization NRCS\u001b[39;00m\n\u001b[1;32m    141\u001b[0m \u001b[38;5;28;01mtry\u001b[39;00m:\n",
      "File \u001b[0;32m~/repos/github/machine-ocean-satdata/notebooks/../sar.py:90\u001b[0m, in \u001b[0;36mcrop_sar_data\u001b[0;34m(n, station_lon, station_lat, epsilon, crop_type)\u001b[0m\n\u001b[1;32m     87\u001b[0m lonlim\u001b[38;5;241m=\u001b[39m[station_lon \u001b[38;5;241m-\u001b[39m epsilon, station_lon \u001b[38;5;241m+\u001b[39m epsilon]\n\u001b[1;32m     88\u001b[0m latlim\u001b[38;5;241m=\u001b[39m[station_lat \u001b[38;5;241m-\u001b[39m epsilon, station_lat \u001b[38;5;241m+\u001b[39m epsilon]\n\u001b[0;32m---> 90\u001b[0m extent \u001b[38;5;241m=\u001b[39m \u001b[43mn\u001b[49m\u001b[38;5;241;43m.\u001b[39;49m\u001b[43mcrop_lonlat\u001b[49m\u001b[43m(\u001b[49m\u001b[43mlonlim\u001b[49m\u001b[38;5;241;43m=\u001b[39;49m\u001b[43mlonlim\u001b[49m\u001b[43m,\u001b[49m\u001b[43m \u001b[49m\u001b[43mlatlim\u001b[49m\u001b[38;5;241;43m=\u001b[39;49m\u001b[43mlatlim\u001b[49m\u001b[43m)\u001b[49m\n\u001b[1;32m     92\u001b[0m \u001b[38;5;28;01mreturn\u001b[39;00m extent\n",
      "File \u001b[0;32m~/repos/github/nansat/nansat/nansat.py:1438\u001b[0m, in \u001b[0;36mNansat.crop_lonlat\u001b[0;34m(self, lonlim, latlim)\u001b[0m\n\u001b[1;32m   1435\u001b[0m x_offset, x_size \u001b[38;5;241m=\u001b[39m offset_size(pix_corners)\n\u001b[1;32m   1436\u001b[0m y_offset, y_size \u001b[38;5;241m=\u001b[39m offset_size(lin_corners)\n\u001b[0;32m-> 1438\u001b[0m \u001b[38;5;28;01mreturn\u001b[39;00m \u001b[38;5;28;43mself\u001b[39;49m\u001b[38;5;241;43m.\u001b[39;49m\u001b[43mcrop\u001b[49m\u001b[43m(\u001b[49m\u001b[43mx_offset\u001b[49m\u001b[43m,\u001b[49m\u001b[43m \u001b[49m\u001b[43my_offset\u001b[49m\u001b[43m,\u001b[49m\u001b[43m \u001b[49m\u001b[43mx_size\u001b[49m\u001b[43m,\u001b[49m\u001b[43m \u001b[49m\u001b[43my_size\u001b[49m\u001b[43m)\u001b[49m\n",
      "File \u001b[0;32m~/repos/github/nansat/nansat/nansat.py:1502\u001b[0m, in \u001b[0;36mNansat.crop\u001b[0;34m(self, x_offset, y_offset, x_size, y_size, allow_larger)\u001b[0m\n\u001b[1;32m   1464\u001b[0m \u001b[38;5;28;01mdef\u001b[39;00m \u001b[38;5;21mcrop\u001b[39m(\u001b[38;5;28mself\u001b[39m, x_offset, y_offset, x_size, y_size, allow_larger\u001b[38;5;241m=\u001b[39m\u001b[38;5;28;01mFalse\u001b[39;00m):\n\u001b[1;32m   1465\u001b[0m     \u001b[38;5;124;03m\"\"\"Crop Nansat object\u001b[39;00m\n\u001b[1;32m   1466\u001b[0m \n\u001b[1;32m   1467\u001b[0m \u001b[38;5;124;03m    Create superVRT, modify the Source Rectangle (SrcRect) and Destination\u001b[39;00m\n\u001b[0;32m   (...)\u001b[0m\n\u001b[1;32m   1500\u001b[0m \n\u001b[1;32m   1501\u001b[0m \u001b[38;5;124;03m    \"\"\"\u001b[39;00m\n\u001b[0;32m-> 1502\u001b[0m     x_offset, x_size \u001b[38;5;241m=\u001b[39m \u001b[43mNansat\u001b[49m\u001b[38;5;241;43m.\u001b[39;49m\u001b[43m_fix_crop_offset_size\u001b[49m\u001b[43m(\u001b[49m\u001b[43mx_offset\u001b[49m\u001b[43m,\u001b[49m\u001b[43m \u001b[49m\u001b[43mx_size\u001b[49m\u001b[43m,\u001b[49m\n\u001b[1;32m   1503\u001b[0m \u001b[43m                                                    \u001b[49m\u001b[38;5;28;43mself\u001b[39;49m\u001b[38;5;241;43m.\u001b[39;49m\u001b[43mshape\u001b[49m\u001b[43m(\u001b[49m\u001b[43m)\u001b[49m\u001b[43m[\u001b[49m\u001b[38;5;241;43m1\u001b[39;49m\u001b[43m]\u001b[49m\u001b[43m,\u001b[49m\u001b[43m \u001b[49m\u001b[43mallow_larger\u001b[49m\u001b[43m)\u001b[49m\n\u001b[1;32m   1504\u001b[0m     y_offset, y_size \u001b[38;5;241m=\u001b[39m Nansat\u001b[38;5;241m.\u001b[39m_fix_crop_offset_size(y_offset, y_size,\n\u001b[1;32m   1505\u001b[0m                                                     \u001b[38;5;28mself\u001b[39m\u001b[38;5;241m.\u001b[39mshape()[\u001b[38;5;241m0\u001b[39m], allow_larger)\n\u001b[1;32m   1507\u001b[0m     extent \u001b[38;5;241m=\u001b[39m (\u001b[38;5;28mint\u001b[39m(x_offset), \u001b[38;5;28mint\u001b[39m(y_offset), \u001b[38;5;28mint\u001b[39m(x_size), \u001b[38;5;28mint\u001b[39m(y_size))\n",
      "File \u001b[0;32m~/repos/github/nansat/nansat/nansat.py:1452\u001b[0m, in \u001b[0;36mNansat._fix_crop_offset_size\u001b[0;34m(offset, size, raster_size, allow_larger)\u001b[0m\n\u001b[1;32m   1450\u001b[0m \u001b[38;5;66;03m# test if crop is totally outside\u001b[39;00m\n\u001b[1;32m   1451\u001b[0m \u001b[38;5;28;01mif\u001b[39;00m (offset \u001b[38;5;241m>\u001b[39m raster_size \u001b[38;5;129;01mor\u001b[39;00m (offset \u001b[38;5;241m+\u001b[39m size) \u001b[38;5;241m<\u001b[39m \u001b[38;5;241m0\u001b[39m):\n\u001b[0;32m-> 1452\u001b[0m     \u001b[38;5;28;01mraise\u001b[39;00m \u001b[38;5;167;01mValueError\u001b[39;00m(\u001b[38;5;124m'\u001b[39m\u001b[38;5;124mCropping region is outside the image! offset: \u001b[39m\u001b[38;5;132;01m%f\u001b[39;00m\u001b[38;5;124m size: \u001b[39m\u001b[38;5;132;01m%f\u001b[39;00m\u001b[38;5;124m'\u001b[39m\n\u001b[1;32m   1453\u001b[0m                        \u001b[38;5;241m%\u001b[39m(\u001b[38;5;28mfloat\u001b[39m(offset), \u001b[38;5;28mfloat\u001b[39m(size)))\n\u001b[1;32m   1454\u001b[0m \u001b[38;5;28;01mif\u001b[39;00m allow_larger:\n\u001b[1;32m   1455\u001b[0m     \u001b[38;5;28;01mreturn\u001b[39;00m offset, size\n",
      "\u001b[0;31mValueError\u001b[0m: Cropping region is outside the image! offset: 10401.000000 size: 2.000000"
     ]
    }
   ],
   "source": [
    "s0, s0_norm, inc, az, grid_lons, grid_lats, pol = sar.sar_params(\n",
    "    data_dir + fname,\n",
    "    station_lon=station_lon,\n",
    "    station_lat=station_lat,\n",
    "    epsilon=epsilon\n",
    ")"
   ]
  },
  {
   "cell_type": "code",
   "execution_count": 21,
   "id": "6e286497-2152-45f3-87c8-4e077019a3ae",
   "metadata": {},
   "outputs": [],
   "source": [
    "fname = 'S1B_EW_GRDM_1SDH_20170720T084730_20170720T084830_006569_00B8D6_F92F.SAFE'"
   ]
  },
  {
   "cell_type": "code",
   "execution_count": 22,
   "id": "195b2040-3420-4490-8992-a34528ebcff5",
   "metadata": {},
   "outputs": [
    {
     "name": "stderr",
     "output_type": "stream",
     "text": [
      "/home/paulinast/repos/github/machine-ocean-satdata/notebooks/../sar.py:164: RuntimeWarning: divide by zero encountered in log10\n",
      "  s0 = 10.*np.log10(s0)\n"
     ]
    }
   ],
   "source": [
    "s0, s0_norm, inc, az, grid_lons, grid_lats, pol = sar.sar_params(\n",
    "    data_dir + fname,\n",
    "    station_lon=station_lon,\n",
    "    station_lat=station_lat,\n",
    "    epsilon=epsilon\n",
    ")"
   ]
  },
  {
   "cell_type": "code",
   "execution_count": 23,
   "id": "0716ddca-5e2a-4255-a032-004199b8a8fb",
   "metadata": {
    "scrolled": true,
    "tags": []
   },
   "outputs": [
    {
     "data": {
      "text/plain": [
       "----------------------------------------\n",
       "/lustre/storeB/project/IT/geout/machine-ocean/data_raw/sentinel/S1B_EW_GRDM_1SDH_20170720T084730_20170720T084830_006569_00B8D6_F92F.SAFE----------------------------------------\n",
       "Mapper: sentinel1_l1Band : 1 DN_HH\n",
       "  dataType: 2\n",
       "  name: DN_HH\n",
       "  SourceBand: 1\n",
       "  SourceFilename: /lustre/storeB/project/IT/geout/machine-ocean/data_raw/sentinel/S1B_EW_GRDM_1SDH_20170720T084730_20170720T084830_006569_00B8D6_F92F.SAFE/measurement/s1b-ew-grd-hh-20170720t084730-20170720t084830-006569-00b8d6-001.tiff\n",
       "Band : 2 DN_HV\n",
       "  dataType: 2\n",
       "  name: DN_HV\n",
       "  SourceBand: 1\n",
       "  SourceFilename: /lustre/storeB/project/IT/geout/machine-ocean/data_raw/sentinel/S1B_EW_GRDM_1SDH_20170720T084730_20170720T084830_006569_00B8D6_F92F.SAFE/measurement/s1b-ew-grd-hv-20170720t084730-20170720t084830-006569-00b8d6-002.tiff\n",
       "Band : 3 sigmaNought_HH\n",
       "  dataType: 7\n",
       "  name: sigmaNought_HH\n",
       "  SourceBand: 1\n",
       "  SourceFilename: /vsimem/RNIFDTL75X.vrt\n",
       "Band : 4 noise_HH\n",
       "  dataType: 7\n",
       "  name: noise_HH\n",
       "  SourceBand: 1\n",
       "  SourceFilename: /vsimem/XH2QCTULBV.vrt\n",
       "Band : 5 sigmaNought_HV\n",
       "  dataType: 7\n",
       "  name: sigmaNought_HV\n",
       "  SourceBand: 1\n",
       "  SourceFilename: /vsimem/MCVSRJ3ASX.vrt\n",
       "Band : 6 noise_HV\n",
       "  dataType: 7\n",
       "  name: noise_HV\n",
       "  SourceBand: 1\n",
       "  SourceFilename: /vsimem/Z7ZF4OIUUL.vrt\n",
       "Band : 7 look_direction\n",
       "  colormap: jet\n",
       "  dataType: 6\n",
       "  long_name: Sensor Azimuth Angle\n",
       "  minmax: 0 360\n",
       "  name: look_direction\n",
       "  short_name: sensor_azimuth\n",
       "  SourceBand: 1\n",
       "  SourceFilename: /vsimem/TAEZVXFEY2.vrt\n",
       "  standard_name: sensor_azimuth_angle\n",
       "  units: degrees\n",
       "  wkv: sensor_azimuth_angle\n",
       "Band : 8 sigma0_HH\n",
       "  colormap: gray\n",
       "  dataType: 6\n",
       "  long_name: Normalized Radar Cross Section\n",
       "  minmax: 0 0.1\n",
       "  name: sigma0_HH\n",
       "  PixelFunctionType: Sentinel1Calibration\n",
       "  polarization: HH\n",
       "  short_name: sigma0\n",
       "  SourceBand: 1\n",
       "  SourceFilename: /vsimem/A1UFSVL2AV.vrt\n",
       "  standard_name: surface_backwards_scattering_coefficient_of_radar_wave\n",
       "  suffix: HH\n",
       "  units: m/m\n",
       "  wkv: surface_backwards_scattering_coefficient_of_radar_wave\n",
       "Band : 9 beta0_HH\n",
       "  colormap: gray\n",
       "  dataType: 6\n",
       "  long_name: Reflectivity per unit area in slant range\n",
       "  minmax: 0 0.1\n",
       "  name: beta0_HH\n",
       "  PixelFunctionType: Sentinel1Calibration\n",
       "  polarization: HH\n",
       "  short_name: beta0\n",
       "  SourceBand: 1\n",
       "  SourceFilename: /vsimem/A1UFSVL2AV.vrt\n",
       "  standard_name: surface_backwards_brightness_coefficient_of_radar_wave\n",
       "  suffix: HH\n",
       "  units: m/m\n",
       "  wkv: surface_backwards_brightness_coefficient_of_radar_wave\n",
       "Band : 10 sigma0_HV\n",
       "  colormap: gray\n",
       "  dataType: 6\n",
       "  long_name: Normalized Radar Cross Section\n",
       "  minmax: 0 0.1\n",
       "  name: sigma0_HV\n",
       "  PixelFunctionType: Sentinel1Calibration\n",
       "  polarization: HV\n",
       "  short_name: sigma0\n",
       "  SourceBand: 2\n",
       "  SourceFilename: /vsimem/A1UFSVL2AV.vrt\n",
       "  standard_name: surface_backwards_scattering_coefficient_of_radar_wave\n",
       "  suffix: HV\n",
       "  units: m/m\n",
       "  wkv: surface_backwards_scattering_coefficient_of_radar_wave\n",
       "Band : 11 beta0_HV\n",
       "  colormap: gray\n",
       "  dataType: 6\n",
       "  long_name: Reflectivity per unit area in slant range\n",
       "  minmax: 0 0.1\n",
       "  name: beta0_HV\n",
       "  PixelFunctionType: Sentinel1Calibration\n",
       "  polarization: HV\n",
       "  short_name: beta0\n",
       "  SourceBand: 2\n",
       "  SourceFilename: /vsimem/A1UFSVL2AV.vrt\n",
       "  standard_name: surface_backwards_brightness_coefficient_of_radar_wave\n",
       "  suffix: HV\n",
       "  units: m/m\n",
       "  wkv: surface_backwards_brightness_coefficient_of_radar_wave\n",
       "Band : 12 incidence_angle\n",
       "  colormap: jet\n",
       "  dataType: 7\n",
       "  long_name: Incidence Angle\n",
       "  minmax: 0 90\n",
       "  name: incidence_angle\n",
       "  short_name: incidence_angle\n",
       "  SourceBand: 1\n",
       "  SourceFilename: /vsimem/RANQWJ34F9.vrt\n",
       "  standard_name: angle_of_incidence\n",
       "  units: degrees\n",
       "  wkv: angle_of_incidence\n",
       "Band : 13 elevation_angle\n",
       "  dataType: 7\n",
       "  name: elevation_angle\n",
       "  SourceBand: 1\n",
       "  SourceFilename: /vsimem/2A4HW1K4QU.vrt\n",
       "  wkv: angle_of_elevation\n",
       "Band : 14 sigma0_VV\n",
       "  colormap: gray\n",
       "  dataType: 6\n",
       "  long_name: Normalized Radar Cross Section\n",
       "  minmax: 0 0.1\n",
       "  name: sigma0_VV\n",
       "  PixelFunctionType: Sentinel1Sigma0HHToSigma0VV\n",
       "  polarization: VV\n",
       "  short_name: sigma0\n",
       "  SourceBand: 1\n",
       "  SourceFilename: /vsimem/A1UFSVL2AV.vrt\n",
       "  standard_name: surface_backwards_scattering_coefficient_of_radar_wave\n",
       "  suffix: VV\n",
       "  units: m/m\n",
       "  wkv: surface_backwards_scattering_coefficient_of_radar_wave\n",
       "----------------------------------------\n",
       "Domain:[10677 x 9997]\n",
       "----------------------------------------\n",
       "Projection(gcps):\n",
       "GEOGCS[\"WGS 84\",\n",
       "    DATUM[\"WGS_1984\",\n",
       "        SPHEROID[\"WGS 84\",6378137,298.257223563]],\n",
       "    PRIMEM[\"Greenwich\",0],\n",
       "    UNIT[\"degree\",0.0174532925199433]]\n",
       "----------------------------------------\n",
       "Corners (lon, lat):\n",
       "\t (-30.51,  62.12)  (-38.61,  62.92)\n",
       "\t (-32.46,  58.59)  (-39.73,  59.34)"
      ]
     },
     "execution_count": 23,
     "metadata": {},
     "output_type": "execute_result"
    }
   ],
   "source": [
    "n = Nansat(data_dir + fname)\n",
    "n"
   ]
  },
  {
   "cell_type": "code",
   "execution_count": 25,
   "id": "a6e09296-428f-4879-bbf7-db160182c1f9",
   "metadata": {},
   "outputs": [
    {
     "data": {
      "text/plain": [
       "(10555, 8332, 2, 3)"
      ]
     },
     "execution_count": 25,
     "metadata": {},
     "output_type": "execute_result"
    }
   ],
   "source": [
    "sar.crop_sar_data(n, station_lon, station_lat, epsilon)"
   ]
  },
  {
   "cell_type": "code",
   "execution_count": 28,
   "id": "6c7a262b-e7b6-4559-991a-b81b3c34e5c4",
   "metadata": {},
   "outputs": [],
   "source": [
    "# Find band number of real valued HH or VV polarization NRCS\n",
    "try:\n",
    "    band_no = n.get_band_number({\n",
    "        'standard_name': 'surface_backwards_scattering_coefficient_of_radar_wave',\n",
    "        'polarization': 'HH',\n",
    "        'dataType': '6',})\n",
    "except ValueError:\n",
    "    band_no = n.get_band_number({\n",
    "        'standard_name': 'surface_backwards_scattering_coefficient_of_radar_wave',\n",
    "        'polarization': 'VV',\n",
    "        'dataType': '6',})\n",
    "    \n",
    "pol = n.get_metadata(key='polarization', band_id=band_no)"
   ]
  },
  {
   "cell_type": "code",
   "execution_count": 29,
   "id": "27099dba-328e-44b8-b86a-a01273a07ead",
   "metadata": {},
   "outputs": [],
   "source": [
    "# Get NRCS, incidence angle, and sensor azimuth angle\n",
    "s0 = n[band_no]\n",
    "inc = n['incidence_angle']\n",
    "az = n['look_direction']"
   ]
  },
  {
   "cell_type": "code",
   "execution_count": 30,
   "id": "525c760b-a901-4958-9c9c-e48ec1c9cb39",
   "metadata": {},
   "outputs": [
    {
     "data": {
      "text/plain": [
       "array([[0., 0.],\n",
       "       [0., 0.],\n",
       "       [0., 0.]], dtype=float32)"
      ]
     },
     "execution_count": 30,
     "metadata": {},
     "output_type": "execute_result"
    }
   ],
   "source": [
    "s0"
   ]
  },
  {
   "cell_type": "code",
   "execution_count": null,
   "id": "b1320e37-e47a-4a9d-b09d-9c4407eec4c0",
   "metadata": {},
   "outputs": [],
   "source": []
  }
 ],
 "metadata": {
  "kernelspec": {
   "display_name": "Python 3 (ipykernel)",
   "language": "python",
   "name": "python3"
  },
  "language_info": {
   "codemirror_mode": {
    "name": "ipython",
    "version": 3
   },
   "file_extension": ".py",
   "mimetype": "text/x-python",
   "name": "python",
   "nbconvert_exporter": "python",
   "pygments_lexer": "ipython3",
   "version": "3.9.13"
  }
 },
 "nbformat": 4,
 "nbformat_minor": 5
}
