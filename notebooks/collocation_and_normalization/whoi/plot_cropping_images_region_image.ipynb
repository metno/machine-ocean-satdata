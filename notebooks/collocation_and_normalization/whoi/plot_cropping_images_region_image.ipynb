{
 "cells": [
  {
   "cell_type": "code",
   "execution_count": 1,
   "id": "1a62e8bf-65cd-44d5-9f19-eadee6debd58",
   "metadata": {},
   "outputs": [],
   "source": [
    "import matplotlib.pyplot as plt\n",
    "\n",
    "import sys\n",
    "sys.path.append(\"../../nansat/\")\n",
    "from nansat import Nansat\n",
    "\n",
    "sys.path.append(\"../../..\")\n",
    "import sar"
   ]
  },
  {
   "cell_type": "code",
   "execution_count": 2,
   "id": "5f2ccc2e-c2ca-4894-8905-cecd8e9fdcf7",
   "metadata": {},
   "outputs": [],
   "source": [
    "import cartopy.crs as ccrs\n",
    "import cartopy.mpl.gridliner as gridliner\n",
    "import cartopy.feature as cfeature\n",
    "import matplotlib.pyplot as plt"
   ]
  },
  {
   "cell_type": "code",
   "execution_count": 3,
   "id": "96b81252-5b6f-4052-9a86-445f6d533ac9",
   "metadata": {},
   "outputs": [],
   "source": [
    "%matplotlib inline"
   ]
  },
  {
   "cell_type": "code",
   "execution_count": 4,
   "id": "35316b3b-0997-4eda-94e7-fbe26efe28c6",
   "metadata": {},
   "outputs": [],
   "source": [
    "from sentinelsat import SentinelAPI, read_geojson, geojson_to_wkt, make_path_filter\n",
    "\n",
    "local_api = SentinelAPI(None, None, \"https://colhub-archive.met.no\" ,timeout=180)\n",
    "api = SentinelAPI(None, None, \"https://scihub.copernicus.eu/dhus\", timeout=180)\n",
    "\n",
    "data_dir = \"/lustre/storeB/project/IT/geout/machine-ocean/data_raw/sentinel/\""
   ]
  },
  {
   "cell_type": "markdown",
   "id": "bc76eaa4-666d-44fe-a63e-9a858711cd74",
   "metadata": {
    "jp-MarkdownHeadingCollapsed": true,
    "tags": []
   },
   "source": [
    "# Open in situ data"
   ]
  },
  {
   "cell_type": "code",
   "execution_count": 5,
   "id": "4d7d5c97-09ee-4e64-bf4b-7810ebc11bf4",
   "metadata": {},
   "outputs": [],
   "source": [
    "##### read pickled imported in-situ measurements metadata with attached colocated Sentinel-1 sat products metadata\n",
    "# (to avoid having to rerun the API search)\n",
    "import pickle\n",
    "\n",
    "with open('../../in_situ_obs.pickle', 'rb') as handle:\n",
    "    in_situ_obs = pickle.load(handle)\n",
    "\n",
    "with open('../../products_scihub.pickle', 'rb') as handle:\n",
    "    products_scihub = pickle.load(handle)"
   ]
  },
  {
   "cell_type": "code",
   "execution_count": 6,
   "id": "6cb58939-0c74-44b8-846f-4a19bba2fb74",
   "metadata": {},
   "outputs": [
    {
     "data": {
      "text/plain": [
       "dict_keys(['Endurance_8', 'Irminger_7', 'SPURS2', 'Endurance_4', 'Irminger_6', 'Pioneer_5', 'CLIMODE', 'Endurance_9', 'Pioneer_10', 'SouthernOcean2', 'Endurance_3', 'Pioneer_3', 'SPURS1', 'Endurance_7', 'Irminger_3', 'Pioneer_7', 'Pioneer_6', 'Pioneer_8'])"
      ]
     },
     "execution_count": 6,
     "metadata": {},
     "output_type": "execute_result"
    }
   ],
   "source": [
    "in_situ_obs.keys()"
   ]
  },
  {
   "cell_type": "markdown",
   "id": "2dbde7f2-5183-4774-ba37-0fd9957b4946",
   "metadata": {},
   "source": [
    "## Minimum epsilon to get at least 10 meters difference (size of a pixel)\n",
    "\n",
    "Approx. 1e-4"
   ]
  },
  {
   "cell_type": "code",
   "execution_count": 7,
   "id": "5cbb5b2e-bb71-4c16-ba87-15077a4f8e20",
   "metadata": {},
   "outputs": [
    {
     "data": {
      "text/plain": [
       "8.997741566866717e-05"
      ]
     },
     "execution_count": 7,
     "metadata": {},
     "output_type": "execute_result"
    }
   ],
   "source": [
    "10/111139"
   ]
  },
  {
   "cell_type": "markdown",
   "id": "e8b57c9c-93be-4664-babb-8b3963013370",
   "metadata": {},
   "source": [
    "# Examples"
   ]
  },
  {
   "cell_type": "markdown",
   "id": "60aa4b7b-5e1f-4581-b01b-3d98d01a432a",
   "metadata": {},
   "source": [
    "## 1)"
   ]
  },
  {
   "cell_type": "markdown",
   "id": "30f30d8a-6a55-4d48-92bf-e68cb9ab4b5a",
   "metadata": {
    "jp-MarkdownHeadingCollapsed": true,
    "tags": []
   },
   "source": [
    "### 1.a) Original image"
   ]
  },
  {
   "cell_type": "code",
   "execution_count": 8,
   "id": "bb21dd3c-a0c5-441b-ad0c-da32bcf3ea43",
   "metadata": {},
   "outputs": [],
   "source": [
    "buoy = 'Irminger_7'\n",
    "fname = 'S1B_EW_GRDM_1SDH_20210728T201123_20210728T201223_027999_03571C_4E75.SAFE'\n",
    "station_lat = in_situ_obs[buoy]['lat'][0]\n",
    "station_lon = in_situ_obs[buoy]['lon'][0]"
   ]
  },
  {
   "cell_type": "code",
   "execution_count": 9,
   "id": "2b77cf2b-5bad-4e3d-87d5-cf9a6fa9cf09",
   "metadata": {},
   "outputs": [
    {
     "data": {
      "text/plain": [
       "59.9337"
      ]
     },
     "execution_count": 9,
     "metadata": {},
     "output_type": "execute_result"
    }
   ],
   "source": [
    "station_lat"
   ]
  },
  {
   "cell_type": "code",
   "execution_count": 10,
   "id": "0a554ce4-5987-4162-904f-4a9225e7de18",
   "metadata": {},
   "outputs": [
    {
     "data": {
      "text/plain": [
       "-39.47378"
      ]
     },
     "execution_count": 10,
     "metadata": {},
     "output_type": "execute_result"
    }
   ],
   "source": [
    "station_lon"
   ]
  },
  {
   "cell_type": "code",
   "execution_count": 11,
   "id": "0f937e46-a199-4b8f-b01d-c8089003d990",
   "metadata": {},
   "outputs": [],
   "source": [
    "n = Nansat(data_dir + fname)"
   ]
  },
  {
   "cell_type": "code",
   "execution_count": 12,
   "id": "42f643f6-3f23-445c-92c4-dc91a68652d2",
   "metadata": {},
   "outputs": [
    {
     "name": "stderr",
     "output_type": "stream",
     "text": [
      "/tmp/ipykernel_654935/1297138187.py:25: RuntimeWarning: divide by zero encountered in log10\n",
      "  s0 = 10.*np.log10(s0)\n"
     ]
    }
   ],
   "source": [
    "import numpy as np\n",
    "s0, inc, az, pol = None, None, None, None\n",
    "# Find band number of real valued HH or VV polarization NRCS\n",
    "try:\n",
    "    band_no = n.get_band_number({\n",
    "        'standard_name': 'surface_backwards_scattering_coefficient_of_radar_wave',\n",
    "        'polarization': 'HH',\n",
    "        'dataType': '6',})\n",
    "except ValueError:\n",
    "    band_no = n.get_band_number({\n",
    "        'standard_name': 'surface_backwards_scattering_coefficient_of_radar_wave',\n",
    "        'polarization': 'VV',\n",
    "        'dataType': '6',})\n",
    "    \n",
    "# Get NRCS, incidence angle, and sensor azimuth angle\n",
    "s0 = n[band_no]\n",
    "inc = n['incidence_angle']\n",
    "az = n['look_direction']\n",
    "\n",
    "# Calculate VV polarization\n",
    "if pol=='HH' and vv:\n",
    "    s0 = calc_vv(s0, inc)\n",
    "\n",
    "# NRCS in decibel\n",
    "s0 = 10.*np.log10(s0)"
   ]
  },
  {
   "cell_type": "code",
   "execution_count": 26,
   "id": "5544ef50-642a-4eff-b4cd-2925da039a1f",
   "metadata": {},
   "outputs": [
    {
     "name": "stderr",
     "output_type": "stream",
     "text": [
      "/modules/rhel8/conda/install/envs/production-10-2022/lib/python3.9/site-packages/cartopy/mpl/gridliner.py:451: UserWarning: The .xlabels_top attribute is deprecated. Please use .top_labels to toggle visibility instead.\n",
      "  warnings.warn('The .xlabels_top attribute is deprecated. Please '\n",
      "/modules/rhel8/conda/install/envs/production-10-2022/lib/python3.9/site-packages/cartopy/mpl/gridliner.py:487: UserWarning: The .ylabels_right attribute is deprecated. Please use .right_labels to toggle visibility instead.\n",
      "  warnings.warn('The .ylabels_right attribute is deprecated. Please '\n"
     ]
    },
    {
     "data": {
      "text/plain": [
       "<matplotlib.colorbar.Colorbar at 0x149059e9c6a0>"
      ]
     },
     "execution_count": 26,
     "metadata": {},
     "output_type": "execute_result"
    },
    {
     "data": {
      "image/png": "[encoded data removed]",
      "text/plain": [
       "<Figure size 640x480 with 2 Axes>"
      ]
     },
     "metadata": {},
     "output_type": "display_data"
    }
   ],
   "source": [
    "plt.figure()\n",
    "ax1 = plt.subplot(2, 1, 1, projection=ccrs.PlateCarree())\n",
    "ax1.gridlines()\n",
    "ax1.add_feature(cfeature.LAND)\n",
    "ax1.add_feature(cfeature.COASTLINE)\n",
    "\n",
    "plt.pcolormesh(grid_lons, grid_lats, s0, transform=ccrs.PlateCarree(), axes=ax1)\n",
    "\n",
    "plt.plot([station_lon], [station_lat],\n",
    "         color='red',  marker='o', markersize=10,\n",
    "         transform=ccrs.PlateCarree(),\n",
    "         axes=ax1\n",
    "         )\n",
    "lat1, lon1, lat2, lon2 = station_lat - 7, station_lon - 7, station_lat + 7, station_lon + 7\n",
    "#lat1, lon1, lat2, lon2 = 58, -41, 61, - 38\n",
    "#ax1.set_extent([lat1, lon1, lat2, lon2], crs=ccrs.PlateCarree())\n",
    "ax1.set_xlim(lon1, lon2)\n",
    "ax1.set_ylim(lat1, lat2)\n",
    "\n",
    "gl = ax1.gridlines(crs=ccrs.PlateCarree(), draw_labels=True, linewidth=2, color='gray', alpha=0.5, linestyle='--')\n",
    "gl.xlabels_top = False\n",
    "gl.ylabels_right = False\n",
    "\n",
    "gridliner.Gridliner(axes=ax1, crs=ccrs.PlateCarree(), draw_labels=True)\n",
    "\n",
    "plt.colorbar()"
   ]
  },
  {
   "cell_type": "code",
   "execution_count": 13,
   "id": "b233f842-7edf-4dee-8c5f-8d5bf771cc29",
   "metadata": {},
   "outputs": [],
   "source": [
    "grid_lons, grid_lats = n.get_geolocation_grids()"
   ]
  },
  {
   "cell_type": "code",
   "execution_count": 14,
   "id": "537ea93d-8c5a-4645-b266-e37d5de29038",
   "metadata": {},
   "outputs": [
    {
     "data": {
      "text/plain": [
       "(array([4768.19062026]), array([1730.65128397]))"
      ]
     },
     "execution_count": 14,
     "metadata": {},
     "output_type": "execute_result"
    }
   ],
   "source": [
    "# Transform lonlat to xy\n",
    "xy = n.transform_points(colVector=[station_lon], rowVector=[station_lat], DstToSrc=1)\n",
    "xy"
   ]
  },
  {
   "cell_type": "code",
   "execution_count": 15,
   "id": "6676e622-e707-48c4-812e-c9dcb47de754",
   "metadata": {},
   "outputs": [
    {
     "data": {
      "text/plain": [
       "-39.474621570608946"
      ]
     },
     "execution_count": 15,
     "metadata": {},
     "output_type": "execute_result"
    }
   ],
   "source": [
    "grid_lons[int(xy[1]), int(xy[0])]"
   ]
  },
  {
   "cell_type": "code",
   "execution_count": 16,
   "id": "06f17a6c-72b8-4546-a91e-33eb5114ac7b",
   "metadata": {},
   "outputs": [
    {
     "data": {
      "text/plain": [
       "59.93491721865447"
      ]
     },
     "execution_count": 16,
     "metadata": {},
     "output_type": "execute_result"
    }
   ],
   "source": [
    "grid_lats[int(xy[1]), int(xy[0])]"
   ]
  },
  {
   "cell_type": "markdown",
   "id": "b2a502f8-88eb-4bb3-b98b-bb29f47f19f2",
   "metadata": {
    "jp-MarkdownHeadingCollapsed": true,
    "tags": []
   },
   "source": [
    "#### Check sizes\n",
    "\n",
    "Pixels ara not square."
   ]
  },
  {
   "cell_type": "code",
   "execution_count": 17,
   "id": "f776ed85-c799-4a4f-9e8c-d0fdcf741c0e",
   "metadata": {},
   "outputs": [
    {
     "data": {
      "text/plain": [
       "(40.40691432447351, 39.91619958054399)"
      ]
     },
     "execution_count": 17,
     "metadata": {},
     "output_type": "execute_result"
    }
   ],
   "source": [
    "n.get_pixelsize_meters()"
   ]
  },
  {
   "cell_type": "markdown",
   "id": "42f8c74a-e80a-4435-bc10-3c922f5638fa",
   "metadata": {
    "tags": []
   },
   "source": [
    "##### At first corner"
   ]
  },
  {
   "cell_type": "code",
   "execution_count": 18,
   "id": "91f5cca2-a9d0-4c5a-85fa-d05f1fe2c4f2",
   "metadata": {},
   "outputs": [
    {
     "data": {
      "text/plain": [
       "-0.000669662097649848"
      ]
     },
     "execution_count": 18,
     "metadata": {},
     "output_type": "execute_result"
    }
   ],
   "source": [
    "grid_lons[0, 0] - grid_lons[0, 1]"
   ]
  },
  {
   "cell_type": "code",
   "execution_count": 19,
   "id": "7a323dc7-96e4-4246-8ca0-34cd10127b93",
   "metadata": {},
   "outputs": [
    {
     "data": {
      "text/plain": [
       "-9.169757041149751e-05"
      ]
     },
     "execution_count": 19,
     "metadata": {},
     "output_type": "execute_result"
    }
   ],
   "source": [
    "grid_lats[0, 0] - grid_lats[0, 1]"
   ]
  },
  {
   "cell_type": "markdown",
   "id": "6dd9f7bc-16f1-46f5-86ef-e380b3aa7fb9",
   "metadata": {},
   "source": [
    "##### Corner nr. 2"
   ]
  },
  {
   "cell_type": "code",
   "execution_count": 20,
   "id": "8dc96368-f9ff-4b3c-9c19-21f0bd684a47",
   "metadata": {},
   "outputs": [
    {
     "data": {
      "text/plain": [
       "0.00019006012312416942"
      ]
     },
     "execution_count": 20,
     "metadata": {},
     "output_type": "execute_result"
    }
   ],
   "source": [
    "grid_lons[0, 0] - grid_lons[1, 0]"
   ]
  },
  {
   "cell_type": "code",
   "execution_count": 21,
   "id": "ca7d8a59-4fe6-40d0-9d59-5f8fe38220a0",
   "metadata": {},
   "outputs": [
    {
     "data": {
      "text/plain": [
       "-0.000353786006861867"
      ]
     },
     "execution_count": 21,
     "metadata": {},
     "output_type": "execute_result"
    }
   ],
   "source": [
    "grid_lats[0, 0] - grid_lats[1, 0]"
   ]
  },
  {
   "cell_type": "markdown",
   "id": "114c79c7-9f42-41d9-8d9a-3c58a9f6cea9",
   "metadata": {},
   "source": [
    "##### Corner nr. 3"
   ]
  },
  {
   "cell_type": "code",
   "execution_count": 22,
   "id": "f6a334d2-9984-4c10-95e5-acfe48fb68d4",
   "metadata": {},
   "outputs": [
    {
     "data": {
      "text/plain": [
       "0.0007869428133489009"
      ]
     },
     "execution_count": 22,
     "metadata": {},
     "output_type": "execute_result"
    }
   ],
   "source": [
    "grid_lons[-1, -1] - grid_lons[-1, -2]"
   ]
  },
  {
   "cell_type": "code",
   "execution_count": 23,
   "id": "df78914f-91f9-45c9-9bb7-75caf927933e",
   "metadata": {},
   "outputs": [
    {
     "data": {
      "text/plain": [
       "5.512421371633991e-05"
      ]
     },
     "execution_count": 23,
     "metadata": {},
     "output_type": "execute_result"
    }
   ],
   "source": [
    "grid_lats[-1, -1] - grid_lats[-1, -2]"
   ]
  },
  {
   "cell_type": "markdown",
   "id": "4768e1af-5afc-42a1-8e0f-8524cd877bd0",
   "metadata": {},
   "source": [
    "##### Corner nr. 4"
   ]
  },
  {
   "cell_type": "code",
   "execution_count": 24,
   "id": "c2f87fb4-d179-4f60-9ea9-37f8a5f85f79",
   "metadata": {},
   "outputs": [
    {
     "data": {
      "text/plain": [
       "-0.00011766836428961369"
      ]
     },
     "execution_count": 24,
     "metadata": {},
     "output_type": "execute_result"
    }
   ],
   "source": [
    "grid_lons[-1, -1] - grid_lons[-2, -1]"
   ]
  },
  {
   "cell_type": "code",
   "execution_count": 25,
   "id": "b5b8f813-c5c3-4678-8740-f71891f36a44",
   "metadata": {},
   "outputs": [
    {
     "data": {
      "text/plain": [
       "0.00035810982467410213"
      ]
     },
     "execution_count": 25,
     "metadata": {},
     "output_type": "execute_result"
    }
   ],
   "source": [
    "grid_lats[-1, -1] - grid_lats[-2, -1]"
   ]
  },
  {
   "cell_type": "markdown",
   "id": "1239aa93-6a8c-4dc7-8fe1-923750ed8a5f",
   "metadata": {},
   "source": [
    "### 1.b) Crop "
   ]
  },
  {
   "cell_type": "markdown",
   "id": "660982cc-0e65-4a5b-89c2-85e5c3a152cb",
   "metadata": {},
   "source": [
    "The nansat method transform_points() does not works properly, it does not find the exact indices. I think the problem actually is in  gdal.Transformer TransformPoints, but I have not checked it."
   ]
  },
  {
   "cell_type": "code",
   "execution_count": 211,
   "id": "f771fabf-d10b-4c5e-ab0e-53b8bd33b326",
   "metadata": {},
   "outputs": [
    {
     "data": {
      "text/plain": [
       "(array([4768.19062026]), array([1730.65128397]))"
      ]
     },
     "execution_count": 211,
     "metadata": {},
     "output_type": "execute_result"
    }
   ],
   "source": [
    "xy = n.transform_points(colVector=[station_lon], rowVector=[station_lat], DstToSrc=1)\n",
    "xy"
   ]
  },
  {
   "cell_type": "code",
   "execution_count": 212,
   "id": "e61f3701-7616-4531-b9ef-998c649ee8aa",
   "metadata": {},
   "outputs": [
    {
     "data": {
      "text/plain": [
       "1730"
      ]
     },
     "execution_count": 212,
     "metadata": {},
     "output_type": "execute_result"
    }
   ],
   "source": [
    "int(xy[1])"
   ]
  },
  {
   "cell_type": "code",
   "execution_count": 213,
   "id": "da2a3f73-70b7-436d-9056-7f573a258fd5",
   "metadata": {},
   "outputs": [
    {
     "data": {
      "text/plain": [
       "array([1731.])"
      ]
     },
     "execution_count": 213,
     "metadata": {},
     "output_type": "execute_result"
    }
   ],
   "source": [
    "np.round(xy[1])"
   ]
  },
  {
   "cell_type": "markdown",
   "id": "c3ef7206-5c0b-4001-b376-6dc9aa13d6a1",
   "metadata": {},
   "source": [
    "Need to subtract 4 to the y index to get closer to the center"
   ]
  },
  {
   "cell_type": "code",
   "execution_count": 214,
   "id": "f257ec0f-733f-4c89-bfd6-3a47717db9d7",
   "metadata": {},
   "outputs": [
    {
     "data": {
      "text/plain": [
       "-0.00023133180031464917"
      ]
     },
     "execution_count": 214,
     "metadata": {},
     "output_type": "execute_result"
    }
   ],
   "source": [
    "grid_lons[int(xy[1]) -4, int(xy[0])] - station_lon"
   ]
  },
  {
   "cell_type": "code",
   "execution_count": 215,
   "id": "08825184-e6b1-45b2-ac0c-027e9dafd295",
   "metadata": {},
   "outputs": [
    {
     "data": {
      "text/plain": [
       "-0.00020621289429101353"
      ]
     },
     "execution_count": 215,
     "metadata": {},
     "output_type": "execute_result"
    }
   ],
   "source": [
    "grid_lats[int(xy[1]) - 4, int(xy[0]) ] - station_lat"
   ]
  },
  {
   "cell_type": "code",
   "execution_count": 216,
   "id": "81d8e43f-29b5-44a8-9cdb-0b5801a4f199",
   "metadata": {},
   "outputs": [
    {
     "data": {
      "text/plain": [
       "-39.47401133180031"
      ]
     },
     "execution_count": 216,
     "metadata": {},
     "output_type": "execute_result"
    }
   ],
   "source": [
    "grid_lons[int(xy[1]) - 4, int(xy[0])]"
   ]
  },
  {
   "cell_type": "code",
   "execution_count": 217,
   "id": "8a6585c1-e593-42da-ab68-5bcf07031195",
   "metadata": {},
   "outputs": [
    {
     "data": {
      "text/plain": [
       "59.93349378710571"
      ]
     },
     "execution_count": 217,
     "metadata": {},
     "output_type": "execute_result"
    }
   ],
   "source": [
    "grid_lats[int(xy[1]) - 4, int(xy[0])]"
   ]
  },
  {
   "cell_type": "markdown",
   "id": "d2c28365-977b-4c8d-a801-5f3f5dd7d959",
   "metadata": {},
   "source": [
    "The following piece of code from one of Nils' files actually does the job. It has been implemented in sar.py"
   ]
  },
  {
   "cell_type": "code",
   "execution_count": 223,
   "id": "eaeae774-239e-48aa-89b7-fec232ecc234",
   "metadata": {},
   "outputs": [],
   "source": [
    "# Need to open again the image as cropping acts on the object n\n",
    "n = Nansat(data_dir + fname)"
   ]
  },
  {
   "cell_type": "code",
   "execution_count": 224,
   "id": "7b757cf3-eaa8-4c4a-ad9f-66c5f8390857",
   "metadata": {},
   "outputs": [],
   "source": [
    "grid_lons, grid_lats = n.get_geolocation_grids()"
   ]
  },
  {
   "cell_type": "code",
   "execution_count": 225,
   "id": "86506387-d73e-44bc-b970-8fb7deadacdb",
   "metadata": {},
   "outputs": [],
   "source": [
    "# Find x and y in the image given station lat and lon \n",
    "a = abs( grid_lats - station_lat) + abs( grid_lons - station_lon)    \n",
    "y, x= np.unravel_index(a.argmin(), a.shape)   "
   ]
  },
  {
   "cell_type": "code",
   "execution_count": 226,
   "id": "4a183cec-1a32-4712-9be0-f8e28ebcee73",
   "metadata": {},
   "outputs": [
    {
     "data": {
      "text/plain": [
       "4768"
      ]
     },
     "execution_count": 226,
     "metadata": {},
     "output_type": "execute_result"
    }
   ],
   "source": [
    "x"
   ]
  },
  {
   "cell_type": "code",
   "execution_count": 227,
   "id": "2fefde25-6d7b-4f99-adec-52d6a176ce29",
   "metadata": {},
   "outputs": [
    {
     "data": {
      "text/plain": [
       "1726"
      ]
     },
     "execution_count": 227,
     "metadata": {},
     "output_type": "execute_result"
    }
   ],
   "source": [
    "y"
   ]
  },
  {
   "cell_type": "code",
   "execution_count": 228,
   "id": "beae3455-e0b2-46c6-8b12-7f2a30a230b4",
   "metadata": {},
   "outputs": [
    {
     "data": {
      "text/plain": [
       "-0.00023133180031464917"
      ]
     },
     "execution_count": 228,
     "metadata": {},
     "output_type": "execute_result"
    }
   ],
   "source": [
    "grid_lons[y, x] - station_lon"
   ]
  },
  {
   "cell_type": "code",
   "execution_count": 229,
   "id": "4bcc9fe2-01a5-49d1-8a63-78021226ca7d",
   "metadata": {},
   "outputs": [
    {
     "data": {
      "text/plain": [
       "-0.00020621289429101353"
      ]
     },
     "execution_count": 229,
     "metadata": {},
     "output_type": "execute_result"
    }
   ],
   "source": [
    "grid_lats[y, x] - station_lat"
   ]
  },
  {
   "cell_type": "code",
   "execution_count": null,
   "id": "a9706107-f1d6-46a3-b789-b407ab1ee5bf",
   "metadata": {},
   "outputs": [],
   "source": []
  },
  {
   "cell_type": "markdown",
   "id": "87be555b-0ceb-4672-9396-c2b04e9ce8ce",
   "metadata": {
    "tags": []
   },
   "source": [
    "#### 1.b.i) Crop using indices computed with Nils' code (ROMS) "
   ]
  },
  {
   "cell_type": "code",
   "execution_count": 230,
   "id": "a36f35f7-e345-4adf-8ad4-80de32cc6fa9",
   "metadata": {},
   "outputs": [
    {
     "data": {
      "text/plain": [
       "(4765, 1723, 8, 8)"
      ]
     },
     "execution_count": 230,
     "metadata": {},
     "output_type": "execute_result"
    }
   ],
   "source": [
    "# OBS: x, y\n",
    "# The crop method uses the bottom-left corner as a reference. \n",
    "# We need to center it, and therefore we subtract i/2 to the offset.\n",
    "n.crop(x -3, y-3, 8, 8, allow_larger=True)"
   ]
  },
  {
   "cell_type": "code",
   "execution_count": 231,
   "id": "2ff7f836-3982-4af0-8eeb-2f4628a6399d",
   "metadata": {},
   "outputs": [],
   "source": [
    "grid_lons, grid_lats = n.get_geolocation_grids()"
   ]
  },
  {
   "cell_type": "code",
   "execution_count": 232,
   "id": "ac8c0bb5-fac4-47c2-8ec6-406fcb51a145",
   "metadata": {},
   "outputs": [
    {
     "data": {
      "text/plain": [
       "array([[-39.47565143, -39.47495218, -39.47425292, -39.47355366,\n",
       "        -39.4728544 , -39.47215513, -39.47145586, -39.47075659],\n",
       "       [-39.47580401, -39.47510475, -39.47440548, -39.47370621,\n",
       "        -39.47300694, -39.47230767, -39.47160839, -39.47090911],\n",
       "       [-39.47595659, -39.47525732, -39.47455804, -39.47385877,\n",
       "        -39.47315949, -39.47246021, -39.47176092, -39.47106163],\n",
       "       [-39.47610917, -39.47540989, -39.47471061, -39.47401132,\n",
       "        -39.47331204, -39.47261275, -39.47191345, -39.47121415],\n",
       "       [-39.47626175, -39.47556247, -39.47486318, -39.47416388,\n",
       "        -39.47346459, -39.47276529, -39.47206598, -39.47136668],\n",
       "       [-39.47641434, -39.47571504, -39.47501574, -39.47431644,\n",
       "        -39.47361714, -39.47291783, -39.47221852, -39.4715192 ],\n",
       "       [-39.47656692, -39.47586762, -39.47516831, -39.474469  ,\n",
       "        -39.47376969, -39.47307037, -39.47237105, -39.47167173],\n",
       "       [-39.47671951, -39.4760202 , -39.47532088, -39.47462157,\n",
       "        -39.47392224, -39.47322292, -39.47252359, -39.47182426]])"
      ]
     },
     "execution_count": 232,
     "metadata": {},
     "output_type": "execute_result"
    }
   ],
   "source": [
    "grid_lons"
   ]
  },
  {
   "cell_type": "code",
   "execution_count": 233,
   "id": "94c21f84-1eb1-4d67-96f8-30674ef2feb4",
   "metadata": {},
   "outputs": [],
   "source": [
    "s0, inc, az, pol = None, None, None, None\n",
    "# Find band number of real valued HH or VV polarization NRCS\n",
    "try:\n",
    "    band_no = n.get_band_number({\n",
    "        'standard_name': 'surface_backwards_scattering_coefficient_of_radar_wave',\n",
    "        'polarization': 'HH',\n",
    "        'dataType': '6',})\n",
    "except ValueError:\n",
    "    band_no = n.get_band_number({\n",
    "        'standard_name': 'surface_backwards_scattering_coefficient_of_radar_wave',\n",
    "        'polarization': 'VV',\n",
    "        'dataType': '6',})\n",
    "    \n",
    "# Get NRCS, incidence angle, and sensor azimuth angle\n",
    "s0 = n[band_no]\n",
    "inc = n['incidence_angle']\n",
    "az = n['look_direction']\n",
    "\n",
    "# Calculate VV polarization\n",
    "if pol=='HH' and vv:\n",
    "    s0 = calc_vv(s0, inc)\n",
    "\n",
    "# NRCS in decibel\n",
    "s0 = 10.*np.log10(s0)"
   ]
  },
  {
   "cell_type": "code",
   "execution_count": 235,
   "id": "16c17e96-d329-49c6-8ffe-f4e02cf2dded",
   "metadata": {},
   "outputs": [
    {
     "name": "stderr",
     "output_type": "stream",
     "text": [
      "/modules/rhel8/conda/install/envs/production-10-2022/lib/python3.9/site-packages/cartopy/mpl/gridliner.py:451: UserWarning: The .xlabels_top attribute is deprecated. Please use .top_labels to toggle visibility instead.\n",
      "  warnings.warn('The .xlabels_top attribute is deprecated. Please '\n",
      "/modules/rhel8/conda/install/envs/production-10-2022/lib/python3.9/site-packages/cartopy/mpl/gridliner.py:487: UserWarning: The .ylabels_right attribute is deprecated. Please use .right_labels to toggle visibility instead.\n",
      "  warnings.warn('The .ylabels_right attribute is deprecated. Please '\n"
     ]
    },
    {
     "data": {
      "text/plain": [
       "<matplotlib.colorbar.Colorbar at 0x148df64df730>"
      ]
     },
     "execution_count": 235,
     "metadata": {},
     "output_type": "execute_result"
    },
    {
     "data": {
      "image/png": "[encoded data removed]",
      "text/plain": [
       "<Figure size 640x480 with 2 Axes>"
      ]
     },
     "metadata": {},
     "output_type": "display_data"
    }
   ],
   "source": [
    "plt.figure()\n",
    "ax1 = plt.subplot(2, 1, 1, projection=ccrs.PlateCarree())\n",
    "ax1.gridlines()\n",
    "ax1.add_feature(cfeature.LAND)\n",
    "ax1.add_feature(cfeature.COASTLINE)\n",
    "\n",
    "plt.pcolormesh(grid_lons, grid_lats, s0, transform=ccrs.PlateCarree(), axes=ax1)\n",
    "\n",
    "plt.plot([station_lon], [station_lat],\n",
    "         color='red',  marker='o', markersize=2,\n",
    "         transform=ccrs.PlateCarree(),\n",
    "         axes=ax1\n",
    "         )\n",
    "lat1, lon1, lat2, lon2 = station_lat - 0.003, station_lon -0.003, station_lat + 0.003, station_lon + 0.003\n",
    "#lat1, lon1, lat2, lon2 = 58, -41, 61, - 38\n",
    "#ax1.set_extent([lat1, lon1, lat2, lon2], crs=ccrs.PlateCarree())\n",
    "ax1.set_xlim(lon1, lon2)\n",
    "ax1.set_ylim(lat1, lat2)\n",
    "\n",
    "gl = ax1.gridlines(crs=ccrs.PlateCarree(), draw_labels=True, linewidth=2, color='gray', alpha=0.5, linestyle='--')\n",
    "gl.xlabels_top = False\n",
    "gl.ylabels_right = False\n",
    "\n",
    "gridliner.Gridliner(axes=ax1, crs=ccrs.PlateCarree(), draw_labels=True)\n",
    "\n",
    "plt.colorbar()"
   ]
  },
  {
   "cell_type": "code",
   "execution_count": null,
   "id": "bad11d24-7ef0-439d-b572-a86f9c7e652f",
   "metadata": {},
   "outputs": [],
   "source": []
  },
  {
   "cell_type": "markdown",
   "id": "654a90ba-f978-422d-8682-7cfc882c5d14",
   "metadata": {},
   "source": [
    " Get a smaller image"
   ]
  },
  {
   "cell_type": "code",
   "execution_count": 236,
   "id": "58711349-86d7-4c38-b400-0cab3f5a3a63",
   "metadata": {},
   "outputs": [],
   "source": [
    "n = Nansat(data_dir + fname)"
   ]
  },
  {
   "cell_type": "code",
   "execution_count": 237,
   "id": "5ee7ca26-73ce-4f94-86b5-e284b313b708",
   "metadata": {},
   "outputs": [],
   "source": [
    "grid_lons, grid_lats = n.get_geolocation_grids()"
   ]
  },
  {
   "cell_type": "code",
   "execution_count": 238,
   "id": "a5316618-05d8-4f87-8164-87f1974617fa",
   "metadata": {},
   "outputs": [],
   "source": [
    "a = abs( grid_lats - station_lat) + abs( grid_lons - station_lon)    \n",
    "y, x= np.unravel_index(a.argmin(), a.shape)   "
   ]
  },
  {
   "cell_type": "code",
   "execution_count": 239,
   "id": "62312243-a67b-480b-856e-82e3ea54bf2a",
   "metadata": {},
   "outputs": [
    {
     "data": {
      "text/plain": [
       "(4767, 1725, 4, 4)"
      ]
     },
     "execution_count": 239,
     "metadata": {},
     "output_type": "execute_result"
    }
   ],
   "source": [
    "# OBS: x, y\n",
    "n.crop(x -1, y-1, 4, 4, allow_larger=True)"
   ]
  },
  {
   "cell_type": "code",
   "execution_count": 240,
   "id": "a0cc31c7-786b-4ac7-82e9-d1891790e689",
   "metadata": {},
   "outputs": [],
   "source": [
    "grid_lons, grid_lats = n.get_geolocation_grids()"
   ]
  },
  {
   "cell_type": "code",
   "execution_count": 241,
   "id": "875e192c-9243-451c-8e58-2025c20a891e",
   "metadata": {},
   "outputs": [
    {
     "data": {
      "text/plain": [
       "array([[-39.47455803, -39.47385876, -39.47315949, -39.47246022],\n",
       "       [-39.47471059, -39.47401132, -39.47331204, -39.47261276],\n",
       "       [-39.47486316, -39.47416387, -39.47346459, -39.4727653 ],\n",
       "       [-39.47501572, -39.47431643, -39.47361714, -39.47291784]])"
      ]
     },
     "execution_count": 241,
     "metadata": {},
     "output_type": "execute_result"
    }
   ],
   "source": [
    "grid_lons"
   ]
  },
  {
   "cell_type": "code",
   "execution_count": 242,
   "id": "f58e24cc-6b18-4969-b8b6-9db64a01578d",
   "metadata": {},
   "outputs": [],
   "source": [
    "s0, inc, az, pol = None, None, None, None\n",
    "# Find band number of real valued HH or VV polarization NRCS\n",
    "try:\n",
    "    band_no = n.get_band_number({\n",
    "        'standard_name': 'surface_backwards_scattering_coefficient_of_radar_wave',\n",
    "        'polarization': 'HH',\n",
    "        'dataType': '6',})\n",
    "except ValueError:\n",
    "    band_no = n.get_band_number({\n",
    "        'standard_name': 'surface_backwards_scattering_coefficient_of_radar_wave',\n",
    "        'polarization': 'VV',\n",
    "        'dataType': '6',})\n",
    "    \n",
    "# Get NRCS, incidence angle, and sensor azimuth angle\n",
    "s0 = n[band_no]\n",
    "inc = n['incidence_angle']\n",
    "az = n['look_direction']\n",
    "\n",
    "# Calculate VV polarization\n",
    "if pol=='HH' and vv:\n",
    "    s0 = calc_vv(s0, inc)\n",
    "\n",
    "# NRCS in decibel\n",
    "s0 = 10.*np.log10(s0)"
   ]
  },
  {
   "cell_type": "code",
   "execution_count": 243,
   "id": "4c4f566b-c0a0-459d-8aa0-256b6126e87b",
   "metadata": {},
   "outputs": [
    {
     "name": "stderr",
     "output_type": "stream",
     "text": [
      "/modules/rhel8/conda/install/envs/production-10-2022/lib/python3.9/site-packages/cartopy/mpl/gridliner.py:451: UserWarning: The .xlabels_top attribute is deprecated. Please use .top_labels to toggle visibility instead.\n",
      "  warnings.warn('The .xlabels_top attribute is deprecated. Please '\n",
      "/modules/rhel8/conda/install/envs/production-10-2022/lib/python3.9/site-packages/cartopy/mpl/gridliner.py:487: UserWarning: The .ylabels_right attribute is deprecated. Please use .right_labels to toggle visibility instead.\n",
      "  warnings.warn('The .ylabels_right attribute is deprecated. Please '\n"
     ]
    },
    {
     "data": {
      "text/plain": [
       "<matplotlib.colorbar.Colorbar at 0x1490589e3f40>"
      ]
     },
     "execution_count": 243,
     "metadata": {},
     "output_type": "execute_result"
    },
    {
     "data": {
      "image/png": "[encoded data removed]",
      "text/plain": [
       "<Figure size 640x480 with 2 Axes>"
      ]
     },
     "metadata": {},
     "output_type": "display_data"
    }
   ],
   "source": [
    "plt.figure()\n",
    "ax1 = plt.subplot(2, 1, 1, projection=ccrs.PlateCarree())\n",
    "ax1.gridlines()\n",
    "ax1.add_feature(cfeature.LAND)\n",
    "ax1.add_feature(cfeature.COASTLINE)\n",
    "\n",
    "plt.pcolormesh(grid_lons, grid_lats, s0, transform=ccrs.PlateCarree(), axes=ax1)\n",
    "\n",
    "plt.plot([station_lon], [station_lat],\n",
    "         color='red',  marker='o', markersize=2,\n",
    "         transform=ccrs.PlateCarree(),\n",
    "         axes=ax1\n",
    "         )\n",
    "lat1, lon1, lat2, lon2 = station_lat - 0.003, station_lon -0.003, station_lat + 0.003, station_lon + 0.003\n",
    "#lat1, lon1, lat2, lon2 = 58, -41, 61, - 38\n",
    "#ax1.set_extent([lat1, lon1, lat2, lon2], crs=ccrs.PlateCarree())\n",
    "ax1.set_xlim(lon1, lon2)\n",
    "ax1.set_ylim(lat1, lat2)\n",
    "\n",
    "gl = ax1.gridlines(crs=ccrs.PlateCarree(), draw_labels=True, linewidth=2, color='gray', alpha=0.5, linestyle='--')\n",
    "gl.xlabels_top = False\n",
    "gl.ylabels_right = False\n",
    "\n",
    "gridliner.Gridliner(axes=ax1, crs=ccrs.PlateCarree(), draw_labels=True)\n",
    "\n",
    "plt.colorbar()"
   ]
  },
  {
   "cell_type": "markdown",
   "id": "49bf1e83-dcaa-4c7e-b3a1-fbf8919b61dd",
   "metadata": {},
   "source": [
    "And smaller..."
   ]
  },
  {
   "cell_type": "code",
   "execution_count": 244,
   "id": "76e1049d-d7a2-4ab1-b36c-851865b57ec9",
   "metadata": {},
   "outputs": [],
   "source": [
    "n = Nansat(data_dir + fname)"
   ]
  },
  {
   "cell_type": "code",
   "execution_count": 245,
   "id": "819cfa2c-c93c-4483-9928-1e940aeca3fd",
   "metadata": {},
   "outputs": [],
   "source": [
    "grid_lons, grid_lats = n.get_geolocation_grids()"
   ]
  },
  {
   "cell_type": "code",
   "execution_count": 246,
   "id": "770fa409-7fac-434a-8b46-d6287c9291c6",
   "metadata": {},
   "outputs": [],
   "source": [
    "a = abs( grid_lats - station_lat) + abs( grid_lons - station_lon)    \n",
    "y, x= np.unravel_index(a.argmin(), a.shape)   "
   ]
  },
  {
   "cell_type": "code",
   "execution_count": 247,
   "id": "b55dadd0-f2b0-42d6-a8ba-8561ddbbfcfa",
   "metadata": {},
   "outputs": [
    {
     "data": {
      "text/plain": [
       "(4767, 1725, 3, 3)"
      ]
     },
     "execution_count": 247,
     "metadata": {},
     "output_type": "execute_result"
    }
   ],
   "source": [
    "# OBS: x, y\n",
    "n.crop(x -1, y-1, 3, 3, allow_larger=True)"
   ]
  },
  {
   "cell_type": "code",
   "execution_count": 248,
   "id": "41f697d8-4ba9-419e-8dcd-e88a3e4cc252",
   "metadata": {},
   "outputs": [],
   "source": [
    "grid_lons, grid_lats = n.get_geolocation_grids()"
   ]
  },
  {
   "cell_type": "code",
   "execution_count": 249,
   "id": "462619c1-5c5c-4ff6-9f52-7581f96fd9b6",
   "metadata": {},
   "outputs": [
    {
     "data": {
      "text/plain": [
       "array([[-39.47455804, -39.47385877, -39.47315949],\n",
       "       [-39.4747106 , -39.47401132, -39.47331204],\n",
       "       [-39.47486317, -39.47416388, -39.47346459]])"
      ]
     },
     "execution_count": 249,
     "metadata": {},
     "output_type": "execute_result"
    }
   ],
   "source": [
    "grid_lons"
   ]
  },
  {
   "cell_type": "code",
   "execution_count": 250,
   "id": "3fb50427-fda6-43ed-9b40-9735d9c9c493",
   "metadata": {},
   "outputs": [],
   "source": [
    "s0, inc, az, pol = None, None, None, None\n",
    "# Find band number of real valued HH or VV polarization NRCS\n",
    "try:\n",
    "    band_no = n.get_band_number({\n",
    "        'standard_name': 'surface_backwards_scattering_coefficient_of_radar_wave',\n",
    "        'polarization': 'HH',\n",
    "        'dataType': '6',})\n",
    "except ValueError:\n",
    "    band_no = n.get_band_number({\n",
    "        'standard_name': 'surface_backwards_scattering_coefficient_of_radar_wave',\n",
    "        'polarization': 'VV',\n",
    "        'dataType': '6',})\n",
    "    \n",
    "# Get NRCS, incidence angle, and sensor azimuth angle\n",
    "s0 = n[band_no]\n",
    "inc = n['incidence_angle']\n",
    "az = n['look_direction']\n",
    "\n",
    "# Calculate VV polarization\n",
    "if pol=='HH' and vv:\n",
    "    s0 = calc_vv(s0, inc)\n",
    "\n",
    "# NRCS in decibel\n",
    "s0 = 10.*np.log10(s0)"
   ]
  },
  {
   "cell_type": "code",
   "execution_count": 251,
   "id": "d66e04c1-6463-4ab7-8362-7427d5bd4f96",
   "metadata": {},
   "outputs": [
    {
     "name": "stderr",
     "output_type": "stream",
     "text": [
      "/modules/rhel8/conda/install/envs/production-10-2022/lib/python3.9/site-packages/cartopy/mpl/gridliner.py:451: UserWarning: The .xlabels_top attribute is deprecated. Please use .top_labels to toggle visibility instead.\n",
      "  warnings.warn('The .xlabels_top attribute is deprecated. Please '\n",
      "/modules/rhel8/conda/install/envs/production-10-2022/lib/python3.9/site-packages/cartopy/mpl/gridliner.py:487: UserWarning: The .ylabels_right attribute is deprecated. Please use .right_labels to toggle visibility instead.\n",
      "  warnings.warn('The .ylabels_right attribute is deprecated. Please '\n"
     ]
    },
    {
     "data": {
      "text/plain": [
       "<matplotlib.colorbar.Colorbar at 0x1488d18e8a60>"
      ]
     },
     "execution_count": 251,
     "metadata": {},
     "output_type": "execute_result"
    },
    {
     "data": {
      "image/png": "[encoded data removed]",
      "text/plain": [
       "<Figure size 640x480 with 2 Axes>"
      ]
     },
     "metadata": {},
     "output_type": "display_data"
    }
   ],
   "source": [
    "plt.figure()\n",
    "ax1 = plt.subplot(2, 1, 1, projection=ccrs.PlateCarree())\n",
    "ax1.gridlines()\n",
    "ax1.add_feature(cfeature.LAND)\n",
    "ax1.add_feature(cfeature.COASTLINE)\n",
    "\n",
    "plt.pcolormesh(grid_lons, grid_lats, s0, transform=ccrs.PlateCarree(), axes=ax1)\n",
    "\n",
    "plt.plot([station_lon], [station_lat],\n",
    "         color='red',  marker='o', markersize=2,\n",
    "         transform=ccrs.PlateCarree(),\n",
    "         axes=ax1\n",
    "         )\n",
    "lat1, lon1, lat2, lon2 = station_lat - 0.003, station_lon -0.003, station_lat + 0.003, station_lon + 0.003\n",
    "#lat1, lon1, lat2, lon2 = 58, -41, 61, - 38\n",
    "#ax1.set_extent([lat1, lon1, lat2, lon2], crs=ccrs.PlateCarree())\n",
    "ax1.set_xlim(lon1, lon2)\n",
    "ax1.set_ylim(lat1, lat2)\n",
    "\n",
    "gl = ax1.gridlines(crs=ccrs.PlateCarree(), draw_labels=True, linewidth=2, color='gray', alpha=0.5, linestyle='--')\n",
    "gl.xlabels_top = False\n",
    "gl.ylabels_right = False\n",
    "\n",
    "gridliner.Gridliner(axes=ax1, crs=ccrs.PlateCarree(), draw_labels=True)\n",
    "\n",
    "plt.colorbar()"
   ]
  },
  {
   "cell_type": "code",
   "execution_count": null,
   "id": "10f2ecbb-9b1f-4541-910e-47b4b24f7637",
   "metadata": {},
   "outputs": [],
   "source": []
  },
  {
   "cell_type": "code",
   "execution_count": null,
   "id": "d4af677a-71e3-44cc-b00f-201499d0b711",
   "metadata": {},
   "outputs": [],
   "source": []
  },
  {
   "cell_type": "code",
   "execution_count": null,
   "id": "baf9d774-75e1-4b64-bbf8-f0b2f8df6e02",
   "metadata": {},
   "outputs": [],
   "source": []
  },
  {
   "cell_type": "markdown",
   "id": "90ade41b-1697-4800-9ebd-79494c0a298f",
   "metadata": {},
   "source": [
    "#### 1.b.i) Crop using the indices from nansat (does not work!)"
   ]
  },
  {
   "cell_type": "markdown",
   "id": "1dfa4ab7-9d8e-423e-86ce-eeb8e69c47c2",
   "metadata": {},
   "source": [
    "We see that the station is not in the part of the image selected"
   ]
  },
  {
   "cell_type": "code",
   "execution_count": 152,
   "id": "3bf33e66-d027-4894-b580-967ad8e4a69f",
   "metadata": {},
   "outputs": [
    {
     "data": {
      "text/plain": [
       "(4768, 1730, 3, 3)"
      ]
     },
     "execution_count": 152,
     "metadata": {},
     "output_type": "execute_result"
    }
   ],
   "source": [
    "n.crop(int(xy[0]), int(xy[1]), 3, 3, allow_larger=True)"
   ]
  },
  {
   "cell_type": "code",
   "execution_count": 155,
   "id": "3ec1f7cf-d759-4f18-939b-ef2d7a80f48b",
   "metadata": {},
   "outputs": [],
   "source": [
    "grid_lons, grid_lats = n.get_geolocation_grids()"
   ]
  },
  {
   "cell_type": "code",
   "execution_count": 153,
   "id": "ff023112-3a5b-4ed1-a850-beddb2d09c85",
   "metadata": {},
   "outputs": [],
   "source": [
    "s0, inc, az, pol = None, None, None, None\n",
    "# Find band number of real valued HH or VV polarization NRCS\n",
    "try:\n",
    "    band_no = n.get_band_number({\n",
    "        'standard_name': 'surface_backwards_scattering_coefficient_of_radar_wave',\n",
    "        'polarization': 'HH',\n",
    "        'dataType': '6',})\n",
    "except ValueError:\n",
    "    band_no = n.get_band_number({\n",
    "        'standard_name': 'surface_backwards_scattering_coefficient_of_radar_wave',\n",
    "        'polarization': 'VV',\n",
    "        'dataType': '6',})\n",
    "    \n",
    "# Get NRCS, incidence angle, and sensor azimuth angle\n",
    "s0 = n[band_no]\n",
    "inc = n['incidence_angle']\n",
    "az = n['look_direction']\n",
    "\n",
    "# Calculate VV polarization\n",
    "if pol=='HH' and vv:\n",
    "    s0 = calc_vv(s0, inc)\n",
    "\n",
    "# NRCS in decibel\n",
    "s0 = 10.*np.log10(s0)"
   ]
  },
  {
   "cell_type": "code",
   "execution_count": 156,
   "id": "b0326f9d-9998-4bc5-b9c9-94ffaa76faa6",
   "metadata": {},
   "outputs": [
    {
     "name": "stderr",
     "output_type": "stream",
     "text": [
      "/modules/rhel8/conda/install/envs/production-10-2022/lib/python3.9/site-packages/cartopy/mpl/gridliner.py:451: UserWarning: The .xlabels_top attribute is deprecated. Please use .top_labels to toggle visibility instead.\n",
      "  warnings.warn('The .xlabels_top attribute is deprecated. Please '\n",
      "/modules/rhel8/conda/install/envs/production-10-2022/lib/python3.9/site-packages/cartopy/mpl/gridliner.py:487: UserWarning: The .ylabels_right attribute is deprecated. Please use .right_labels to toggle visibility instead.\n",
      "  warnings.warn('The .ylabels_right attribute is deprecated. Please '\n"
     ]
    },
    {
     "data": {
      "text/plain": [
       "<matplotlib.colorbar.Colorbar at 0x14820c8dc4c0>"
      ]
     },
     "execution_count": 156,
     "metadata": {},
     "output_type": "execute_result"
    },
    {
     "data": {
      "image/png": "[encoded data removed]",
      "text/plain": [
       "<Figure size 640x480 with 2 Axes>"
      ]
     },
     "metadata": {},
     "output_type": "display_data"
    }
   ],
   "source": [
    "plt.figure()\n",
    "ax1 = plt.subplot(2, 1, 1, projection=ccrs.PlateCarree())\n",
    "ax1.gridlines()\n",
    "ax1.add_feature(cfeature.LAND)\n",
    "ax1.add_feature(cfeature.COASTLINE)\n",
    "\n",
    "plt.pcolormesh(grid_lons, grid_lats, s0, transform=ccrs.PlateCarree(), axes=ax1)\n",
    "\n",
    "plt.plot([station_lon], [station_lat],\n",
    "         color='red',  marker='o', markersize=1,\n",
    "         transform=ccrs.PlateCarree(),\n",
    "         axes=ax1\n",
    "         )\n",
    "lat1, lon1, lat2, lon2 = station_lat - 0.003, station_lon -0.003, station_lat + 0.003, station_lon + 0.003\n",
    "#lat1, lon1, lat2, lon2 = 58, -41, 61, - 38\n",
    "#ax1.set_extent([lat1, lon1, lat2, lon2], crs=ccrs.PlateCarree())\n",
    "ax1.set_xlim(lon1, lon2)\n",
    "ax1.set_ylim(lat1, lat2)\n",
    "\n",
    "gl = ax1.gridlines(crs=ccrs.PlateCarree(), draw_labels=True, linewidth=2, color='gray', alpha=0.5, linestyle='--')\n",
    "gl.xlabels_top = False\n",
    "gl.ylabels_right = False\n",
    "\n",
    "gridliner.Gridliner(axes=ax1, crs=ccrs.PlateCarree(), draw_labels=True)\n",
    "\n",
    "plt.colorbar()"
   ]
  },
  {
   "cell_type": "code",
   "execution_count": null,
   "id": "d8ca54c7-abf1-460f-a306-a112f07286e5",
   "metadata": {},
   "outputs": [],
   "source": []
  },
  {
   "cell_type": "code",
   "execution_count": null,
   "id": "83ff3bf8-6e62-47bf-8b35-87ceb91265bf",
   "metadata": {},
   "outputs": [],
   "source": []
  },
  {
   "cell_type": "code",
   "execution_count": null,
   "id": "df721140-87e9-42bf-8e47-0f5b35e46120",
   "metadata": {},
   "outputs": [],
   "source": []
  },
  {
   "cell_type": "code",
   "execution_count": null,
   "id": "5d7624ef-2a7e-4cf0-a27e-edbc1177a5e9",
   "metadata": {},
   "outputs": [],
   "source": []
  },
  {
   "cell_type": "code",
   "execution_count": null,
   "id": "d8a2542b-38b4-491d-95cb-6636f3970ab3",
   "metadata": {},
   "outputs": [],
   "source": []
  },
  {
   "cell_type": "code",
   "execution_count": null,
   "id": "fbce8533-77ac-4f47-8ee4-80e94bda1e86",
   "metadata": {},
   "outputs": [],
   "source": []
  },
  {
   "cell_type": "code",
   "execution_count": null,
   "id": "43fcd11e-0ebf-4cc2-95c4-44a25b795e95",
   "metadata": {},
   "outputs": [],
   "source": []
  },
  {
   "cell_type": "code",
   "execution_count": 152,
   "id": "b7a20278-ed1c-4744-9f2c-e4dc49043ab5",
   "metadata": {},
   "outputs": [
    {
     "data": {
      "text/plain": [
       "(4768, 1730, 3, 3)"
      ]
     },
     "execution_count": 152,
     "metadata": {},
     "output_type": "execute_result"
    }
   ],
   "source": [
    "n.crop(int(xy[0]), int(xy[1]), 3, 3, allow_larger=True)"
   ]
  },
  {
   "cell_type": "code",
   "execution_count": 155,
   "id": "aa03d3e4-9ea7-4fb1-a297-135fdfcd023e",
   "metadata": {},
   "outputs": [],
   "source": [
    "grid_lons, grid_lats = n.get_geolocation_grids()"
   ]
  },
  {
   "cell_type": "code",
   "execution_count": 153,
   "id": "2c9ed684-22cf-4c32-a4de-6cac3aa88a80",
   "metadata": {},
   "outputs": [],
   "source": [
    "s0, inc, az, pol = None, None, None, None\n",
    "# Find band number of real valued HH or VV polarization NRCS\n",
    "try:\n",
    "    band_no = n.get_band_number({\n",
    "        'standard_name': 'surface_backwards_scattering_coefficient_of_radar_wave',\n",
    "        'polarization': 'HH',\n",
    "        'dataType': '6',})\n",
    "except ValueError:\n",
    "    band_no = n.get_band_number({\n",
    "        'standard_name': 'surface_backwards_scattering_coefficient_of_radar_wave',\n",
    "        'polarization': 'VV',\n",
    "        'dataType': '6',})\n",
    "    \n",
    "# Get NRCS, incidence angle, and sensor azimuth angle\n",
    "s0 = n[band_no]\n",
    "inc = n['incidence_angle']\n",
    "az = n['look_direction']\n",
    "\n",
    "# Calculate VV polarization\n",
    "if pol=='HH' and vv:\n",
    "    s0 = calc_vv(s0, inc)\n",
    "\n",
    "# NRCS in decibel\n",
    "s0 = 10.*np.log10(s0)"
   ]
  },
  {
   "cell_type": "code",
   "execution_count": 156,
   "id": "ef091b86-d0c7-4561-841c-6c6bec5636c8",
   "metadata": {},
   "outputs": [
    {
     "name": "stderr",
     "output_type": "stream",
     "text": [
      "/modules/rhel8/conda/install/envs/production-10-2022/lib/python3.9/site-packages/cartopy/mpl/gridliner.py:451: UserWarning: The .xlabels_top attribute is deprecated. Please use .top_labels to toggle visibility instead.\n",
      "  warnings.warn('The .xlabels_top attribute is deprecated. Please '\n",
      "/modules/rhel8/conda/install/envs/production-10-2022/lib/python3.9/site-packages/cartopy/mpl/gridliner.py:487: UserWarning: The .ylabels_right attribute is deprecated. Please use .right_labels to toggle visibility instead.\n",
      "  warnings.warn('The .ylabels_right attribute is deprecated. Please '\n"
     ]
    },
    {
     "data": {
      "text/plain": [
       "<matplotlib.colorbar.Colorbar at 0x14820c8dc4c0>"
      ]
     },
     "execution_count": 156,
     "metadata": {},
     "output_type": "execute_result"
    },
    {
     "data": {
      "image/png": "[encoded data removed]",
      "text/plain": [
       "<Figure size 640x480 with 2 Axes>"
      ]
     },
     "metadata": {},
     "output_type": "display_data"
    }
   ],
   "source": [
    "plt.figure()\n",
    "ax1 = plt.subplot(2, 1, 1, projection=ccrs.PlateCarree())\n",
    "ax1.gridlines()\n",
    "ax1.add_feature(cfeature.LAND)\n",
    "ax1.add_feature(cfeature.COASTLINE)\n",
    "\n",
    "plt.pcolormesh(grid_lons, grid_lats, s0, transform=ccrs.PlateCarree(), axes=ax1)\n",
    "\n",
    "plt.plot([station_lon], [station_lat],\n",
    "         color='red',  marker='o', markersize=1,\n",
    "         transform=ccrs.PlateCarree(),\n",
    "         axes=ax1\n",
    "         )\n",
    "lat1, lon1, lat2, lon2 = station_lat - 0.003, station_lon -0.003, station_lat + 0.003, station_lon + 0.003\n",
    "#lat1, lon1, lat2, lon2 = 58, -41, 61, - 38\n",
    "#ax1.set_extent([lat1, lon1, lat2, lon2], crs=ccrs.PlateCarree())\n",
    "ax1.set_xlim(lon1, lon2)\n",
    "ax1.set_ylim(lat1, lat2)\n",
    "\n",
    "gl = ax1.gridlines(crs=ccrs.PlateCarree(), draw_labels=True, linewidth=2, color='gray', alpha=0.5, linestyle='--')\n",
    "gl.xlabels_top = False\n",
    "gl.ylabels_right = False\n",
    "\n",
    "gridliner.Gridliner(axes=ax1, crs=ccrs.PlateCarree(), draw_labels=True)\n",
    "\n",
    "plt.colorbar()"
   ]
  },
  {
   "cell_type": "code",
   "execution_count": null,
   "id": "52177788-ac1a-43b0-ac94-2bfd3e826b92",
   "metadata": {},
   "outputs": [],
   "source": []
  },
  {
   "cell_type": "markdown",
   "id": "07b617fd-8db8-447e-89e5-7a2afac65b5f",
   "metadata": {},
   "source": [
    "#### 1.c) Crop using the former method crop_sar_sata() in sar.py that calls crop_latlon() from nansat."
   ]
  },
  {
   "cell_type": "code",
   "execution_count": 104,
   "id": "43e4691d-8d29-4e69-8d4c-7d3e30b43d65",
   "metadata": {
    "scrolled": true
   },
   "outputs": [],
   "source": [
    "epsilon = 0.0005"
   ]
  },
  {
   "cell_type": "code",
   "execution_count": 105,
   "id": "41581a12-1717-4626-a438-6ab2be10e1e5",
   "metadata": {},
   "outputs": [],
   "source": [
    "lonlim=[station_lon - epsilon, station_lon + epsilon]\n",
    "latlim=[station_lat - epsilon, station_lat + epsilon]\n",
    "\n",
    "extent = n.crop_lonlat(lonlim=lonlim, latlim=latlim)"
   ]
  },
  {
   "cell_type": "code",
   "execution_count": null,
   "id": "5df9ec84-e389-4ae6-9e22-b6922cc32cca",
   "metadata": {},
   "outputs": [],
   "source": [
    "s0, inc, az, pol = None, None, None, None\n",
    "# Find band number of real valued HH or VV polarization NRCS\n",
    "try:\n",
    "    band_no = n.get_band_number({\n",
    "        'standard_name': 'surface_backwards_scattering_coefficient_of_radar_wave',\n",
    "        'polarization': 'HH',\n",
    "        'dataType': '6',})\n",
    "except ValueError:\n",
    "    band_no = n.get_band_number({\n",
    "        'standard_name': 'surface_backwards_scattering_coefficient_of_radar_wave',\n",
    "        'polarization': 'VV',\n",
    "        'dataType': '6',})\n",
    "    \n",
    "# Get NRCS, incidence angle, and sensor azimuth angle\n",
    "s0 = n[band_no]\n",
    "inc = n['incidence_angle']\n",
    "az = n['look_direction']\n",
    "\n",
    "# Calculate VV polarization\n",
    "if pol=='HH' and vv:\n",
    "    s0 = calc_vv(s0, inc)\n",
    "\n",
    "# NRCS in decibel\n",
    "s0 = 10.*np.log10(s0)"
   ]
  },
  {
   "cell_type": "code",
   "execution_count": null,
   "id": "e111d848-b7dc-40c9-bd08-be28fad5e03b",
   "metadata": {},
   "outputs": [],
   "source": [
    "grid_lons, grid_lats = n.get_geolocation_grids()"
   ]
  },
  {
   "cell_type": "code",
   "execution_count": 108,
   "id": "6c74ff53-ba76-4ffe-b2e2-50a7411ba321",
   "metadata": {},
   "outputs": [
    {
     "name": "stderr",
     "output_type": "stream",
     "text": [
      "/modules/rhel8/conda/install/envs/production-10-2022/lib/python3.9/site-packages/cartopy/mpl/gridliner.py:451: UserWarning: The .xlabels_top attribute is deprecated. Please use .top_labels to toggle visibility instead.\n",
      "  warnings.warn('The .xlabels_top attribute is deprecated. Please '\n",
      "/modules/rhel8/conda/install/envs/production-10-2022/lib/python3.9/site-packages/cartopy/mpl/gridliner.py:487: UserWarning: The .ylabels_right attribute is deprecated. Please use .right_labels to toggle visibility instead.\n",
      "  warnings.warn('The .ylabels_right attribute is deprecated. Please '\n"
     ]
    },
    {
     "data": {
      "text/plain": [
       "<matplotlib.colorbar.Colorbar at 0x14820fe66fa0>"
      ]
     },
     "execution_count": 108,
     "metadata": {},
     "output_type": "execute_result"
    },
    {
     "data": {
      "image/png": "[encoded data removed]",
      "text/plain": [
       "<Figure size 640x480 with 2 Axes>"
      ]
     },
     "metadata": {},
     "output_type": "display_data"
    }
   ],
   "source": [
    "plt.figure()\n",
    "ax1 = plt.subplot(2, 1, 1, projection=ccrs.PlateCarree())\n",
    "ax1.gridlines()\n",
    "ax1.add_feature(cfeature.LAND)\n",
    "ax1.add_feature(cfeature.COASTLINE)\n",
    "\n",
    "plt.pcolormesh(grid_lons, grid_lats, s0, transform=ccrs.PlateCarree(), axes=ax1)\n",
    "\n",
    "plt.plot([station_lon], [station_lat],\n",
    "         color='red',  marker='o', markersize=1,\n",
    "         transform=ccrs.PlateCarree(),\n",
    "         axes=ax1\n",
    "         )\n",
    "lat1, lon1, lat2, lon2 = station_lat - 0.003, station_lon -0.003, station_lat + 0.003, station_lon + 0.003\n",
    "#lat1, lon1, lat2, lon2 = 58, -41, 61, - 38\n",
    "#ax1.set_extent([lat1, lon1, lat2, lon2], crs=ccrs.PlateCarree())\n",
    "ax1.set_xlim(lon1, lon2)\n",
    "ax1.set_ylim(lat1, lat2)\n",
    "\n",
    "gl = ax1.gridlines(crs=ccrs.PlateCarree(), draw_labels=True, linewidth=2, color='gray', alpha=0.5, linestyle='--')\n",
    "gl.xlabels_top = False\n",
    "gl.ylabels_right = False\n",
    "\n",
    "gridliner.Gridliner(axes=ax1, crs=ccrs.PlateCarree(), draw_labels=True)\n",
    "\n",
    "plt.colorbar()"
   ]
  },
  {
   "cell_type": "markdown",
   "id": "bf6901e4-b9b7-40f0-bab9-2b0acc29e98e",
   "metadata": {},
   "source": [
    "#### Same plot but setting image limits to lonlim and latlim"
   ]
  },
  {
   "cell_type": "code",
   "execution_count": 109,
   "id": "06d47b64-df45-42f1-9efc-84f544751e72",
   "metadata": {},
   "outputs": [
    {
     "name": "stderr",
     "output_type": "stream",
     "text": [
      "/modules/rhel8/conda/install/envs/production-10-2022/lib/python3.9/site-packages/cartopy/mpl/gridliner.py:451: UserWarning: The .xlabels_top attribute is deprecated. Please use .top_labels to toggle visibility instead.\n",
      "  warnings.warn('The .xlabels_top attribute is deprecated. Please '\n",
      "/modules/rhel8/conda/install/envs/production-10-2022/lib/python3.9/site-packages/cartopy/mpl/gridliner.py:487: UserWarning: The .ylabels_right attribute is deprecated. Please use .right_labels to toggle visibility instead.\n",
      "  warnings.warn('The .ylabels_right attribute is deprecated. Please '\n"
     ]
    },
    {
     "data": {
      "text/plain": [
       "<matplotlib.colorbar.Colorbar at 0x14820e9ef4f0>"
      ]
     },
     "execution_count": 109,
     "metadata": {},
     "output_type": "execute_result"
    },
    {
     "data": {
      "image/png": "[encoded data removed]",
      "text/plain": [
       "<Figure size 640x480 with 2 Axes>"
      ]
     },
     "metadata": {},
     "output_type": "display_data"
    }
   ],
   "source": [
    "plt.figure()\n",
    "ax1 = plt.subplot(2, 1, 1, projection=ccrs.PlateCarree())\n",
    "ax1.gridlines()\n",
    "ax1.add_feature(cfeature.LAND)\n",
    "ax1.add_feature(cfeature.COASTLINE)\n",
    "\n",
    "plt.pcolormesh(grid_lons, grid_lats, s0, transform=ccrs.PlateCarree(), axes=ax1)\n",
    "\n",
    "plt.plot([station_lon], [station_lat],\n",
    "         color='red',  marker='o', markersize=1,\n",
    "         transform=ccrs.PlateCarree(),\n",
    "         axes=ax1\n",
    "         )\n",
    "lat1, lon1, lat2, lon2 = latlim[0], lonlim[0], latlim[-1], lonlim[-1]\n",
    "#lat1, lon1, lat2, lon2 = 58, -41, 61, - 38\n",
    "#ax1.set_extent([lat1, lon1, lat2, lon2], crs=ccrs.PlateCarree())\n",
    "ax1.set_xlim(lon1, lon2)\n",
    "ax1.set_ylim(lat1, lat2)\n",
    "\n",
    "gl = ax1.gridlines(crs=ccrs.PlateCarree(), draw_labels=True, linewidth=2, color='gray', alpha=0.5, linestyle='--')\n",
    "gl.xlabels_top = False\n",
    "gl.ylabels_right = False\n",
    "\n",
    "gridliner.Gridliner(axes=ax1, crs=ccrs.PlateCarree(), draw_labels=True)\n",
    "\n",
    "plt.colorbar()"
   ]
  },
  {
   "cell_type": "markdown",
   "id": "0fd9fcfa-0ae5-46b4-b8da-00a3e89f4003",
   "metadata": {},
   "source": [
    "#### Compare lonlim and latlim to the lats and lons in the cropped image"
   ]
  },
  {
   "cell_type": "code",
   "execution_count": 110,
   "id": "7aa876dc-c87f-4f81-8a8c-7d911ee29689",
   "metadata": {},
   "outputs": [
    {
     "data": {
      "text/plain": [
       "array([[-39.4751683 , -39.474469  ],\n",
       "       [-39.47532087, -39.47462156],\n",
       "       [-39.47547344, -39.47477412]])"
      ]
     },
     "execution_count": 110,
     "metadata": {},
     "output_type": "execute_result"
    }
   ],
   "source": [
    "grid_lons"
   ]
  },
  {
   "cell_type": "code",
   "execution_count": 112,
   "id": "d6457e02-cb8a-4402-92f5-37391a440fdf",
   "metadata": {},
   "outputs": [
    {
     "data": {
      "text/plain": [
       "[-39.47428, -39.473279999999995]"
      ]
     },
     "execution_count": 112,
     "metadata": {},
     "output_type": "execute_result"
    }
   ],
   "source": [
    "lonlim"
   ]
  },
  {
   "cell_type": "code",
   "execution_count": 113,
   "id": "9a44530b-9188-49d3-98e5-cac08ec27c88",
   "metadata": {},
   "outputs": [
    {
     "data": {
      "text/plain": [
       "array([[59.93448765, 59.93456136],\n",
       "       [59.93484351, 59.93491722],\n",
       "       [59.93519936, 59.93527308]])"
      ]
     },
     "execution_count": 113,
     "metadata": {},
     "output_type": "execute_result"
    }
   ],
   "source": [
    "grid_lats"
   ]
  },
  {
   "cell_type": "code",
   "execution_count": 114,
   "id": "8d0a9ed6-d703-464e-8989-1969e23f4220",
   "metadata": {},
   "outputs": [
    {
     "data": {
      "text/plain": [
       "[59.9332, 59.934200000000004]"
      ]
     },
     "execution_count": 114,
     "metadata": {},
     "output_type": "execute_result"
    }
   ],
   "source": [
    "latlim"
   ]
  },
  {
   "cell_type": "code",
   "execution_count": 115,
   "id": "fe7d08d3-196a-45e0-8b22-60ba6fe6f3af",
   "metadata": {},
   "outputs": [
    {
     "data": {
      "text/plain": [
       "(40.44641865752689, 39.78415944794485)"
      ]
     },
     "execution_count": 115,
     "metadata": {},
     "output_type": "execute_result"
    }
   ],
   "source": [
    "n.get_pixelsize_meters()"
   ]
  },
  {
   "cell_type": "code",
   "execution_count": null,
   "id": "86f47a45-235a-41c6-b131-10bfccafae11",
   "metadata": {},
   "outputs": [],
   "source": []
  },
  {
   "cell_type": "code",
   "execution_count": null,
   "id": "a679f14a-61c9-4243-bf75-2262dd0c7496",
   "metadata": {},
   "outputs": [],
   "source": []
  },
  {
   "cell_type": "code",
   "execution_count": 94,
   "id": "34ca2a1f-1d57-4155-be2a-218727205b3b",
   "metadata": {},
   "outputs": [
    {
     "data": {
      "text/plain": [
       "55.5695"
      ]
     },
     "execution_count": 94,
     "metadata": {},
     "output_type": "execute_result"
    }
   ],
   "source": [
    "0.0005 * 111139"
   ]
  },
  {
   "cell_type": "code",
   "execution_count": 15,
   "id": "b5f58f42-ddb4-4a42-883b-aec491ce63db",
   "metadata": {
    "scrolled": true,
    "tags": []
   },
   "outputs": [],
   "source": [
    "s0, s0_norm, inc, az, grid_lons, grid_lats, pol = sar.sar_params(\n",
    "    data_dir + fname,\n",
    "    station_lon=station_lon,\n",
    "    station_lat=station_lat,\n",
    "    epsilon=epsilon\n",
    ")"
   ]
  },
  {
   "cell_type": "code",
   "execution_count": 17,
   "id": "61ac450f-085d-434f-9cb9-918fbd4790b0",
   "metadata": {},
   "outputs": [
    {
     "data": {
      "text/plain": [
       "array([[-32.19700276, -30.3749069 ],\n",
       "       [-31.36914996, -30.14327041],\n",
       "       [-26.77566943, -28.86989013]])"
      ]
     },
     "execution_count": 17,
     "metadata": {},
     "output_type": "execute_result"
    }
   ],
   "source": [
    "s0"
   ]
  },
  {
   "cell_type": "code",
   "execution_count": 18,
   "id": "e7fc2238-855e-4d3e-b66e-edfe6a977989",
   "metadata": {},
   "outputs": [
    {
     "data": {
      "text/plain": [
       "array([[-39.4751683 , -39.474469  ],\n",
       "       [-39.47532087, -39.47462156],\n",
       "       [-39.47547344, -39.47477412]])"
      ]
     },
     "execution_count": 18,
     "metadata": {},
     "output_type": "execute_result"
    }
   ],
   "source": [
    "grid_lons"
   ]
  },
  {
   "cell_type": "code",
   "execution_count": 19,
   "id": "1e50f443-0894-41df-9197-2c07d4e7e542",
   "metadata": {},
   "outputs": [
    {
     "data": {
      "text/plain": [
       "array([[59.93448765, 59.93456136],\n",
       "       [59.93484351, 59.93491722],\n",
       "       [59.93519936, 59.93527308]])"
      ]
     },
     "execution_count": 19,
     "metadata": {},
     "output_type": "execute_result"
    }
   ],
   "source": [
    "grid_lats"
   ]
  },
  {
   "cell_type": "code",
   "execution_count": 70,
   "id": "caf12db6-d736-4305-af05-0ae6b2e9c28f",
   "metadata": {},
   "outputs": [
    {
     "name": "stderr",
     "output_type": "stream",
     "text": [
      "/modules/rhel8/conda/install/envs/production-10-2022/lib/python3.9/site-packages/cartopy/mpl/gridliner.py:451: UserWarning: The .xlabels_top attribute is deprecated. Please use .top_labels to toggle visibility instead.\n",
      "  warnings.warn('The .xlabels_top attribute is deprecated. Please '\n",
      "/modules/rhel8/conda/install/envs/production-10-2022/lib/python3.9/site-packages/cartopy/mpl/gridliner.py:487: UserWarning: The .ylabels_right attribute is deprecated. Please use .right_labels to toggle visibility instead.\n",
      "  warnings.warn('The .ylabels_right attribute is deprecated. Please '\n"
     ]
    },
    {
     "data": {
      "text/plain": [
       "<matplotlib.colorbar.Colorbar at 0x148210ee73a0>"
      ]
     },
     "execution_count": 70,
     "metadata": {},
     "output_type": "execute_result"
    },
    {
     "data": {
      "image/png": "[encoded data removed]",
      "text/plain": [
       "<Figure size 640x480 with 2 Axes>"
      ]
     },
     "metadata": {},
     "output_type": "display_data"
    }
   ],
   "source": [
    "plt.figure()\n",
    "ax1 = plt.subplot(2, 1, 1, projection=ccrs.PlateCarree())\n",
    "ax1.gridlines()\n",
    "ax1.add_feature(cfeature.LAND)\n",
    "ax1.add_feature(cfeature.COASTLINE)\n",
    "\n",
    "plt.pcolormesh(grid_lons, grid_lats, s0, transform=ccrs.PlateCarree(), axes=ax1)\n",
    "\n",
    "plt.plot([station_lon], [station_lat],\n",
    "         color='red',  marker='o', markersize=1,\n",
    "         transform=ccrs.PlateCarree(),\n",
    "         axes=ax1\n",
    "         )\n",
    "lat1, lon1, lat2, lon2 = station_lat - 0.003, station_lon -0.003, station_lat + 0.003, station_lon + 0.003\n",
    "#lat1, lon1, lat2, lon2 = 58, -41, 61, - 38\n",
    "#ax1.set_extent([lat1, lon1, lat2, lon2], crs=ccrs.PlateCarree())\n",
    "ax1.set_xlim(lon1, lon2)\n",
    "ax1.set_ylim(lat1, lat2)\n",
    "\n",
    "gl = ax1.gridlines(crs=ccrs.PlateCarree(), draw_labels=True, linewidth=2, color='gray', alpha=0.5, linestyle='--')\n",
    "gl.xlabels_top = False\n",
    "gl.ylabels_right = False\n",
    "\n",
    "gridliner.Gridliner(axes=ax1, crs=ccrs.PlateCarree(), draw_labels=True)\n",
    "\n",
    "plt.colorbar()"
   ]
  },
  {
   "cell_type": "markdown",
   "id": "49f920ad-b40f-435a-9622-7eb344116726",
   "metadata": {},
   "source": [
    "With another epsilon"
   ]
  },
  {
   "cell_type": "code",
   "execution_count": 71,
   "id": "083f43c7-f6f3-4f7d-82cf-b7b20e69fdc6",
   "metadata": {
    "scrolled": true
   },
   "outputs": [],
   "source": [
    "epsilon = 0.005"
   ]
  },
  {
   "cell_type": "code",
   "execution_count": 72,
   "id": "c10dfe0c-2808-4172-a576-760c8f6f8783",
   "metadata": {
    "scrolled": true,
    "tags": []
   },
   "outputs": [],
   "source": [
    "s0, s0_norm, inc, az, grid_lons, grid_lats, pol = sar.sar_params(\n",
    "    data_dir + fname,\n",
    "    station_lon=station_lon,\n",
    "    station_lat=station_lat,\n",
    "    epsilon=epsilon\n",
    ")"
   ]
  },
  {
   "cell_type": "code",
   "execution_count": 80,
   "id": "f828e4b1-0db2-4ef2-845c-45292ce3c4b3",
   "metadata": {},
   "outputs": [
    {
     "data": {
      "text/plain": [
       "(30, 20)"
      ]
     },
     "execution_count": 80,
     "metadata": {},
     "output_type": "execute_result"
    }
   ],
   "source": [
    "s0.shape"
   ]
  },
  {
   "cell_type": "code",
   "execution_count": 76,
   "id": "b0d3c390-3167-429a-9bc3-5383cdbee7fe",
   "metadata": {},
   "outputs": [],
   "source": [
    "import cartopy.crs as ccrs\n",
    "import cartopy.mpl.gridliner as gridliner\n",
    "import cartopy.feature as cfeature\n",
    "import matplotlib.pyplot as plt"
   ]
  },
  {
   "cell_type": "code",
   "execution_count": 79,
   "id": "e05c690c-617e-4503-b532-03c31ecef69b",
   "metadata": {},
   "outputs": [
    {
     "name": "stderr",
     "output_type": "stream",
     "text": [
      "/modules/rhel8/conda/install/envs/production-10-2022/lib/python3.9/site-packages/cartopy/mpl/gridliner.py:451: UserWarning: The .xlabels_top attribute is deprecated. Please use .top_labels to toggle visibility instead.\n",
      "  warnings.warn('The .xlabels_top attribute is deprecated. Please '\n",
      "/modules/rhel8/conda/install/envs/production-10-2022/lib/python3.9/site-packages/cartopy/mpl/gridliner.py:487: UserWarning: The .ylabels_right attribute is deprecated. Please use .right_labels to toggle visibility instead.\n",
      "  warnings.warn('The .ylabels_right attribute is deprecated. Please '\n"
     ]
    },
    {
     "data": {
      "text/plain": [
       "<matplotlib.colorbar.Colorbar at 0x14821020bb20>"
      ]
     },
     "execution_count": 79,
     "metadata": {},
     "output_type": "execute_result"
    },
    {
     "data": {
      "image/png": "[encoded data removed]",
      "text/plain": [
       "<Figure size 640x480 with 2 Axes>"
      ]
     },
     "metadata": {},
     "output_type": "display_data"
    }
   ],
   "source": [
    "plt.figure()\n",
    "ax1 = plt.subplot(2, 1, 1, projection=ccrs.PlateCarree())\n",
    "ax1.gridlines()\n",
    "ax1.add_feature(cfeature.LAND)\n",
    "ax1.add_feature(cfeature.COASTLINE)\n",
    "\n",
    "plt.pcolormesh(grid_lons, grid_lats, s0, transform=ccrs.PlateCarree(), axes=ax1)\n",
    "\n",
    "plt.plot([station_lon], [station_lat],\n",
    "         color='red',  marker='o', markersize=1,\n",
    "         transform=ccrs.PlateCarree(),\n",
    "         axes=ax1\n",
    "         )\n",
    "lat1, lon1, lat2, lon2 = station_lat - 0.03, station_lon -0.03, station_lat + 0.03, station_lon + 0.03\n",
    "#lat1, lon1, lat2, lon2 = 58, -41, 61, - 38\n",
    "#ax1.set_extent([lat1, lon1, lat2, lon2], crs=ccrs.PlateCarree())\n",
    "ax1.set_xlim(lon1, lon2)\n",
    "ax1.set_ylim(lat1, lat2)\n",
    "\n",
    "gl = ax1.gridlines(crs=ccrs.PlateCarree(), draw_labels=True, linewidth=2, color='gray', alpha=0.5, linestyle='--')\n",
    "gl.xlabels_top = False\n",
    "gl.ylabels_right = False\n",
    "\n",
    "gridliner.Gridliner(axes=ax1, crs=ccrs.PlateCarree(), draw_labels=True)\n",
    "\n",
    "plt.colorbar()"
   ]
  }
 ],
 "metadata": {
  "kernelspec": {
   "display_name": "Python 3 (ipykernel)",
   "language": "python",
   "name": "python3"
  },
  "language_info": {
   "codemirror_mode": {
    "name": "ipython",
    "version": 3
   },
   "file_extension": ".py",
   "mimetype": "text/x-python",
   "name": "python",
   "nbconvert_exporter": "python",
   "pygments_lexer": "ipython3",
   "version": "3.9.13"
  }
 },
 "nbformat": 4,
 "nbformat_minor": 5
}
