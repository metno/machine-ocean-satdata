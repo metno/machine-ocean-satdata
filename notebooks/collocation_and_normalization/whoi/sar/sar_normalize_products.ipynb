{
 "cells": [
  {
   "cell_type": "code",
   "execution_count": 4,
   "id": "3d5d14e7-ad56-4666-809d-31cb79eafa6c",
   "metadata": {},
   "outputs": [],
   "source": [
    "import matplotlib.pyplot as plt\n",
    "\n",
    "import sys\n",
    "sys.path.append(\"../../nansat/\")\n",
    "from nansat import Nansat\n",
    "\n",
    "sys.path.append(\"../../../..\")\n",
    "import sar"
   ]
  },
  {
   "cell_type": "code",
   "execution_count": 5,
   "id": "65af194b-56cc-4425-ae6b-e240401b190f",
   "metadata": {},
   "outputs": [],
   "source": [
    "from sentinelsat import SentinelAPI, read_geojson, geojson_to_wkt, make_path_filter\n",
    "\n",
    "local_api = SentinelAPI(None, None, \"https://colhub-archive.met.no\" ,timeout=180)\n",
    "api = SentinelAPI(None, None, \"https://scihub.copernicus.eu/dhus\", timeout=180)\n",
    "\n",
    "data_dir = \"/lustre/storeB/project/IT/geout/machine-ocean/data_raw/sentinel/\""
   ]
  },
  {
   "cell_type": "code",
   "execution_count": 7,
   "id": "f8f07ae4-eee4-4313-aaf6-b2dd7f4d41ee",
   "metadata": {},
   "outputs": [
    {
     "name": "stdout",
     "output_type": "stream",
     "text": [
      "dict_keys(['Endurance_8', 'Irminger_7', 'SPURS2', 'Endurance_4', 'Irminger_6', 'Pioneer_5', 'CLIMODE', 'Endurance_9', 'Pioneer_10', 'SouthernOcean2', 'Endurance_3', 'Pioneer_3', 'SPURS1', 'Endurance_7', 'Irminger_3', 'Pioneer_7', 'Pioneer_6', 'Pioneer_8'])\n"
     ]
    }
   ],
   "source": [
    "# import dict containing metadata for in-situ data\n",
    "# https://raw.githubusercontent.com/jerabaul29/MachineOcean_WP1_WHOI/main/mo_whoi_data/data_files/in_situ_dict.py\n",
    "# from private repo at https://github.com/jerabaul29/MachineOcean_WP1_WHOI\n",
    "import time\n",
    "import os\n",
    "\n",
    "os.environ[\"TZ\"] = \"UTC\"\n",
    "time.tzset()\n",
    "\n",
    "import datetime\n",
    "import pytz\n",
    "\n",
    "utc_timezone = pytz.timezone(\"UTC\")\n",
    "\n",
    "wd = os.getcwd()\n",
    "\n",
    "os.chdir(\"../../../../../MachineOcean_WP1_WHOI/mo_whoi_data/data_files\")\n",
    "\n",
    "import in_situ_dict\n",
    "in_situ_obs = in_situ_dict.get_in_situ_metadata()\n",
    "\n",
    "os.chdir(wd)\n",
    "\n",
    "print(in_situ_obs.keys())"
   ]
  },
  {
   "cell_type": "code",
   "execution_count": 8,
   "id": "0361444f-341a-4c06-a520-7e4bcd6818a2",
   "metadata": {},
   "outputs": [
    {
     "data": {
      "text/plain": [
       "{'datetime_start': datetime.datetime(2017, 6, 9, 13, 11, 0, 17529, tzinfo=<UTC>),\n",
       " 'datetime_end': datetime.datetime(2017, 10, 31, 23, 12, 0, 16778, tzinfo=<UTC>),\n",
       " 'type': 'whoi_buoy',\n",
       " 'lat': [40.1334],\n",
       " 'lon': [-70.7785],\n",
       " 'nc_data_location': 'received, exported from .mat'}"
      ]
     },
     "execution_count": 8,
     "metadata": {},
     "output_type": "execute_result"
    }
   ],
   "source": [
    "in_situ_obs['Pioneer_7']"
   ]
  },
  {
   "cell_type": "code",
   "execution_count": 9,
   "id": "6ed69ae1-2dfa-4af8-8188-2fb06dd54197",
   "metadata": {},
   "outputs": [],
   "source": [
    "##### read pickled imported in-situ measurements metadata with attached colocated Sentinel-1 sat products metadata\n",
    "# (to avoid having to rerun the API search)\n",
    "import pickle\n",
    "\n",
    "with open('../../../in_situ_obs.pickle', 'rb') as handle:\n",
    "    in_situ_obs = pickle.load(handle)\n",
    "\n",
    "with open('../../../products_scihub.pickle', 'rb') as handle:\n",
    "    products_scihub = pickle.load(handle)"
   ]
  },
  {
   "cell_type": "code",
   "execution_count": 10,
   "id": "306be2ec-e16a-4d90-8539-0835ba4db98d",
   "metadata": {},
   "outputs": [
    {
     "data": {
      "text/plain": [
       "dict_keys(['Endurance_8', 'Irminger_7', 'SPURS2', 'Endurance_4', 'Irminger_6', 'Pioneer_5', 'CLIMODE', 'Endurance_9', 'Pioneer_10', 'SouthernOcean2', 'Endurance_3', 'Pioneer_3', 'SPURS1', 'Endurance_7', 'Irminger_3', 'Pioneer_7', 'Pioneer_6', 'Pioneer_8'])"
      ]
     },
     "execution_count": 10,
     "metadata": {},
     "output_type": "execute_result"
    }
   ],
   "source": [
    "in_situ_obs.keys()"
   ]
  },
  {
   "cell_type": "markdown",
   "id": "8237672e-4f91-467c-b655-e9e5435f7744",
   "metadata": {},
   "source": [
    "# Experiments on Endurance"
   ]
  },
  {
   "cell_type": "code",
   "execution_count": 11,
   "id": "f8382bef-6172-4018-bcda-b2e90fb9a883",
   "metadata": {
    "scrolled": true,
    "tags": []
   },
   "outputs": [
    {
     "data": {
      "text/plain": [
       "OrderedDict([('d995afdb-29f3-406f-a0e8-b2e1cf54e4b0',\n",
       "              {'title': 'S1A_IW_GRDH_1SDV_20160918T143013_20160918T143038_013108_014CE4_9241',\n",
       "               'link': \"https://scihub.copernicus.eu/dhus/odata/v1/Products('d995afdb-29f3-406f-a0e8-b2e1cf54e4b0')/$value\",\n",
       "               'link_alternative': \"https://scihub.copernicus.eu/dhus/odata/v1/Products('d995afdb-29f3-406f-a0e8-b2e1cf54e4b0')/\",\n",
       "               'link_icon': \"https://scihub.copernicus.eu/dhus/odata/v1/Products('d995afdb-29f3-406f-a0e8-b2e1cf54e4b0')/Products('Quicklook')/$value\",\n",
       "               'summary': 'Date: 2016-09-18T14:30:13.677Z, Instrument: SAR-C SAR, Mode: VV VH, Satellite: Sentinel-1, Size: 1.58 GB',\n",
       "               'ondemand': 'false',\n",
       "               'ingestiondate': datetime.datetime(2016, 9, 18, 17, 15, 47, 684000),\n",
       "               'beginposition': datetime.datetime(2016, 9, 18, 14, 30, 13, 677000),\n",
       "               'endposition': datetime.datetime(2016, 9, 18, 14, 30, 38, 676000),\n",
       "               'missiondatatakeid': 85220,\n",
       "               'orbitnumber': 13108,\n",
       "               'lastorbitnumber': 13108,\n",
       "               'relativeorbitnumber': 86,\n",
       "               'lastrelativeorbitnumber': 86,\n",
       "               'slicenumber': 4,\n",
       "               'uuid': 'd995afdb-29f3-406f-a0e8-b2e1cf54e4b0',\n",
       "               'acquisitiontype': 'NOMINAL',\n",
       "               'filename': 'S1A_IW_GRDH_1SDV_20160918T143013_20160918T143038_013108_014CE4_9241.SAFE',\n",
       "               'gmlfootprint': '<gml:Polygon srsName=\"http://www.opengis.net/gml/srs/epsg.xml#4326\" xmlns:gml=\"http://www.opengis.net/gml\">\\n   <gml:outerBoundaryIs>\\n      <gml:LinearRing>\\n         <gml:coordinates>44.144539,-124.147842 44.536331,-127.284760 46.034943,-126.952065 45.643188,-123.732040 44.144539,-124.147842</gml:coordinates>\\n      </gml:LinearRing>\\n   </gml:outerBoundaryIs>\\n</gml:Polygon>',\n",
       "               'format': 'SAFE',\n",
       "               'identifier': 'S1A_IW_GRDH_1SDV_20160918T143013_20160918T143038_013108_014CE4_9241',\n",
       "               'instrumentshortname': 'SAR-C SAR',\n",
       "               'sensoroperationalmode': 'IW',\n",
       "               'instrumentname': 'Synthetic Aperture Radar (C-band)',\n",
       "               'swathidentifier': 'IW',\n",
       "               'footprint': 'POLYGON ((-124.147842 44.144539,-127.284760 44.536331,-126.952065 46.034943,-123.732040 45.643188,-124.147842 44.144539))',\n",
       "               'platformidentifier': '2014-016A',\n",
       "               'orbitdirection': 'DESCENDING',\n",
       "               'polarisationmode': 'VV VH',\n",
       "               'productclass': 'S',\n",
       "               'producttype': 'GRD',\n",
       "               'platformname': 'Sentinel-1',\n",
       "               'size': '1.58 GB',\n",
       "               'status': 'ARCHIVED',\n",
       "               'processed': 'F'}),\n",
       "             ('3963ee7d-63a8-47c5-a611-b598ea1117d8',\n",
       "              {'title': 'S1A_IW_GRDH_1SDV_20160913T142210_20160913T142235_013035_014A71_1F7E',\n",
       "               'link': \"https://scihub.copernicus.eu/dhus/odata/v1/Products('3963ee7d-63a8-47c5-a611-b598ea1117d8')/$value\",\n",
       "               'link_alternative': \"https://scihub.copernicus.eu/dhus/odata/v1/Products('3963ee7d-63a8-47c5-a611-b598ea1117d8')/\",\n",
       "               'link_icon': \"https://scihub.copernicus.eu/dhus/odata/v1/Products('3963ee7d-63a8-47c5-a611-b598ea1117d8')/Products('Quicklook')/$value\",\n",
       "               'summary': 'Date: 2016-09-13T14:22:10.083Z, Instrument: SAR-C SAR, Mode: VV VH, Satellite: Sentinel-1, Size: 1.58 GB',\n",
       "               'ondemand': 'false',\n",
       "               'ingestiondate': datetime.datetime(2016, 9, 13, 17, 4, 39, 432000),\n",
       "               'beginposition': datetime.datetime(2016, 9, 13, 14, 22, 10, 83000),\n",
       "               'endposition': datetime.datetime(2016, 9, 13, 14, 22, 35, 83000),\n",
       "               'missiondatatakeid': 84593,\n",
       "               'orbitnumber': 13035,\n",
       "               'lastorbitnumber': 13035,\n",
       "               'relativeorbitnumber': 13,\n",
       "               'lastrelativeorbitnumber': 13,\n",
       "               'slicenumber': 4,\n",
       "               'uuid': '3963ee7d-63a8-47c5-a611-b598ea1117d8',\n",
       "               'acquisitiontype': 'NOMINAL',\n",
       "               'filename': 'S1A_IW_GRDH_1SDV_20160913T142210_20160913T142235_013035_014A71_1F7E.SAFE',\n",
       "               'gmlfootprint': '<gml:Polygon srsName=\"http://www.opengis.net/gml/srs/epsg.xml#4326\" xmlns:gml=\"http://www.opengis.net/gml\">\\n   <gml:outerBoundaryIs>\\n      <gml:LinearRing>\\n         <gml:coordinates>43.528839,-122.272758 43.919525,-125.369804 45.417812,-125.034348 45.027164,-121.856880 43.528839,-122.272758</gml:coordinates>\\n      </gml:LinearRing>\\n   </gml:outerBoundaryIs>\\n</gml:Polygon>',\n",
       "               'format': 'SAFE',\n",
       "               'identifier': 'S1A_IW_GRDH_1SDV_20160913T142210_20160913T142235_013035_014A71_1F7E',\n",
       "               'instrumentshortname': 'SAR-C SAR',\n",
       "               'sensoroperationalmode': 'IW',\n",
       "               'instrumentname': 'Synthetic Aperture Radar (C-band)',\n",
       "               'swathidentifier': 'IW',\n",
       "               'footprint': 'POLYGON ((-122.272758 43.528839,-125.369804 43.919525,-125.034348 45.417812,-121.856880 45.027164,-122.272758 43.528839))',\n",
       "               'platformidentifier': '2014-016A',\n",
       "               'orbitdirection': 'DESCENDING',\n",
       "               'polarisationmode': 'VV VH',\n",
       "               'productclass': 'S',\n",
       "               'producttype': 'GRD',\n",
       "               'platformname': 'Sentinel-1',\n",
       "               'size': '1.58 GB',\n",
       "               'status': 'ARCHIVED',\n",
       "               'processed': 'F'}),\n",
       "             ('cc2374e6-328a-4412-8027-dbf5f2a2f4e1',\n",
       "              {'title': 'S1A_IW_GRDH_1SSV_20160901T142212_20160901T142237_012860_0144D7_F0C2',\n",
       "               'link': \"https://scihub.copernicus.eu/dhus/odata/v1/Products('cc2374e6-328a-4412-8027-dbf5f2a2f4e1')/$value\",\n",
       "               'link_alternative': \"https://scihub.copernicus.eu/dhus/odata/v1/Products('cc2374e6-328a-4412-8027-dbf5f2a2f4e1')/\",\n",
       "               'link_icon': \"https://scihub.copernicus.eu/dhus/odata/v1/Products('cc2374e6-328a-4412-8027-dbf5f2a2f4e1')/Products('Quicklook')/$value\",\n",
       "               'summary': 'Date: 2016-09-01T14:22:12.926Z, Instrument: SAR-C SAR, Mode: VV, Satellite: Sentinel-1, Size: 821.18 MB',\n",
       "               'ondemand': 'false',\n",
       "               'ingestiondate': datetime.datetime(2016, 9, 1, 17, 1, 0, 226000),\n",
       "               'beginposition': datetime.datetime(2016, 9, 1, 14, 22, 12, 926000),\n",
       "               'endposition': datetime.datetime(2016, 9, 1, 14, 22, 37, 925000),\n",
       "               'missiondatatakeid': 83159,\n",
       "               'orbitnumber': 12860,\n",
       "               'lastorbitnumber': 12860,\n",
       "               'relativeorbitnumber': 13,\n",
       "               'lastrelativeorbitnumber': 13,\n",
       "               'slicenumber': 8,\n",
       "               'uuid': 'cc2374e6-328a-4412-8027-dbf5f2a2f4e1',\n",
       "               'acquisitiontype': 'NOMINAL',\n",
       "               'filename': 'S1A_IW_GRDH_1SSV_20160901T142212_20160901T142237_012860_0144D7_F0C2.SAFE',\n",
       "               'gmlfootprint': '<gml:Polygon srsName=\"http://www.opengis.net/gml/srs/epsg.xml#4326\" xmlns:gml=\"http://www.opengis.net/gml\">\\n   <gml:outerBoundaryIs>\\n      <gml:LinearRing>\\n         <gml:coordinates>43.319309,-122.313179 43.715328,-125.443184 45.213970,-125.112442 44.818150,-121.901772 43.319309,-122.313179</gml:coordinates>\\n      </gml:LinearRing>\\n   </gml:outerBoundaryIs>\\n</gml:Polygon>',\n",
       "               'format': 'SAFE',\n",
       "               'identifier': 'S1A_IW_GRDH_1SSV_20160901T142212_20160901T142237_012860_0144D7_F0C2',\n",
       "               'instrumentshortname': 'SAR-C SAR',\n",
       "               'sensoroperationalmode': 'IW',\n",
       "               'instrumentname': 'Synthetic Aperture Radar (C-band)',\n",
       "               'swathidentifier': 'IW',\n",
       "               'footprint': 'POLYGON ((-122.313179 43.319309,-125.443184 43.715328,-125.112442 45.213970,-121.901772 44.818150,-122.313179 43.319309))',\n",
       "               'platformidentifier': '2014-016A',\n",
       "               'orbitdirection': 'DESCENDING',\n",
       "               'polarisationmode': 'VV',\n",
       "               'productclass': 'S',\n",
       "               'producttype': 'GRD',\n",
       "               'platformname': 'Sentinel-1',\n",
       "               'size': '821.18 MB',\n",
       "               'status': 'ARCHIVED',\n",
       "               'processed': 'F'}),\n",
       "             ('8892ece2-b58e-42c4-a5ff-856e615c947e',\n",
       "              {'title': 'S1A_IW_GRDH_1SDV_20160822T020909_20160822T020934_012707_013FB0_55BF',\n",
       "               'link': \"https://scihub.copernicus.eu/dhus/odata/v1/Products('8892ece2-b58e-42c4-a5ff-856e615c947e')/$value\",\n",
       "               'link_alternative': \"https://scihub.copernicus.eu/dhus/odata/v1/Products('8892ece2-b58e-42c4-a5ff-856e615c947e')/\",\n",
       "               'link_icon': \"https://scihub.copernicus.eu/dhus/odata/v1/Products('8892ece2-b58e-42c4-a5ff-856e615c947e')/Products('Quicklook')/$value\",\n",
       "               'summary': 'Date: 2016-08-22T02:09:09.323Z, Instrument: SAR-C SAR, Mode: VV VH, Satellite: Sentinel-1, Size: 1.61 GB',\n",
       "               'ondemand': 'false',\n",
       "               'ingestiondate': datetime.datetime(2016, 8, 22, 7, 31, 33, 640000),\n",
       "               'beginposition': datetime.datetime(2016, 8, 22, 2, 9, 9, 323000),\n",
       "               'endposition': datetime.datetime(2016, 8, 22, 2, 9, 34, 321000),\n",
       "               'missiondatatakeid': 81840,\n",
       "               'orbitnumber': 12707,\n",
       "               'lastorbitnumber': 12707,\n",
       "               'relativeorbitnumber': 35,\n",
       "               'lastrelativeorbitnumber': 35,\n",
       "               'slicenumber': 7,\n",
       "               'uuid': '8892ece2-b58e-42c4-a5ff-856e615c947e',\n",
       "               'acquisitiontype': 'NOMINAL',\n",
       "               'filename': 'S1A_IW_GRDH_1SDV_20160822T020909_20160822T020934_012707_013FB0_55BF.SAFE',\n",
       "               'gmlfootprint': '<gml:Polygon srsName=\"http://www.opengis.net/gml/srs/epsg.xml#4326\" xmlns:gml=\"http://www.opengis.net/gml\">\\n   <gml:outerBoundaryIs>\\n      <gml:LinearRing>\\n         <gml:coordinates>44.589691,-125.632568 44.989109,-122.408524 43.490189,-122.079697 43.090492,-125.223389 44.589691,-125.632568</gml:coordinates>\\n      </gml:LinearRing>\\n   </gml:outerBoundaryIs>\\n</gml:Polygon>',\n",
       "               'format': 'SAFE',\n",
       "               'identifier': 'S1A_IW_GRDH_1SDV_20160822T020909_20160822T020934_012707_013FB0_55BF',\n",
       "               'instrumentshortname': 'SAR-C SAR',\n",
       "               'sensoroperationalmode': 'IW',\n",
       "               'instrumentname': 'Synthetic Aperture Radar (C-band)',\n",
       "               'swathidentifier': 'IW',\n",
       "               'footprint': 'POLYGON ((-125.632568 44.589691,-122.408524 44.989109,-122.079697 43.490189,-125.223389 43.090492,-125.632568 44.589691))',\n",
       "               'platformidentifier': '2014-016A',\n",
       "               'orbitdirection': 'ASCENDING',\n",
       "               'polarisationmode': 'VV VH',\n",
       "               'productclass': 'S',\n",
       "               'producttype': 'GRD',\n",
       "               'platformname': 'Sentinel-1',\n",
       "               'size': '1.61 GB',\n",
       "               'status': 'ARCHIVED',\n",
       "               'processed': 'F'}),\n",
       "             ('7f50965b-e877-4a30-8cf5-59aebd4d0e41',\n",
       "              {'title': 'S1A_IW_GRDH_1SSV_20160808T142211_20160808T142236_012510_013923_5333',\n",
       "               'link': \"https://scihub.copernicus.eu/dhus/odata/v1/Products('7f50965b-e877-4a30-8cf5-59aebd4d0e41')/$value\",\n",
       "               'link_alternative': \"https://scihub.copernicus.eu/dhus/odata/v1/Products('7f50965b-e877-4a30-8cf5-59aebd4d0e41')/\",\n",
       "               'link_icon': \"https://scihub.copernicus.eu/dhus/odata/v1/Products('7f50965b-e877-4a30-8cf5-59aebd4d0e41')/Products('Quicklook')/$value\",\n",
       "               'summary': 'Date: 2016-08-08T14:22:11.993Z, Instrument: SAR-C SAR, Mode: VV, Satellite: Sentinel-1, Size: 821.11 MB',\n",
       "               'ondemand': 'false',\n",
       "               'ingestiondate': datetime.datetime(2016, 8, 8, 17, 10, 8, 970000),\n",
       "               'beginposition': datetime.datetime(2016, 8, 8, 14, 22, 11, 993000),\n",
       "               'endposition': datetime.datetime(2016, 8, 8, 14, 22, 36, 991000),\n",
       "               'missiondatatakeid': 80163,\n",
       "               'orbitnumber': 12510,\n",
       "               'lastorbitnumber': 12510,\n",
       "               'relativeorbitnumber': 13,\n",
       "               'lastrelativeorbitnumber': 13,\n",
       "               'slicenumber': 8,\n",
       "               'uuid': '7f50965b-e877-4a30-8cf5-59aebd4d0e41',\n",
       "               'acquisitiontype': 'NOMINAL',\n",
       "               'filename': 'S1A_IW_GRDH_1SSV_20160808T142211_20160808T142236_012510_013923_5333.SAFE',\n",
       "               'gmlfootprint': '<gml:Polygon srsName=\"http://www.opengis.net/gml/srs/epsg.xml#4326\" xmlns:gml=\"http://www.opengis.net/gml\">\\n   <gml:outerBoundaryIs>\\n      <gml:LinearRing>\\n         <gml:coordinates>43.319305,-122.313904 43.715343,-125.443649 45.213982,-125.112846 44.818138,-121.902435 43.319305,-122.313904</gml:coordinates>\\n      </gml:LinearRing>\\n   </gml:outerBoundaryIs>\\n</gml:Polygon>',\n",
       "               'format': 'SAFE',\n",
       "               'identifier': 'S1A_IW_GRDH_1SSV_20160808T142211_20160808T142236_012510_013923_5333',\n",
       "               'instrumentshortname': 'SAR-C SAR',\n",
       "               'sensoroperationalmode': 'IW',\n",
       "               'instrumentname': 'Synthetic Aperture Radar (C-band)',\n",
       "               'swathidentifier': 'IW',\n",
       "               'footprint': 'POLYGON ((-122.313904 43.319305,-125.443649 43.715343,-125.112846 45.213982,-121.902435 44.818138,-122.313904 43.319305))',\n",
       "               'platformidentifier': '2014-016A',\n",
       "               'orbitdirection': 'DESCENDING',\n",
       "               'polarisationmode': 'VV',\n",
       "               'productclass': 'S',\n",
       "               'producttype': 'GRD',\n",
       "               'platformname': 'Sentinel-1',\n",
       "               'size': '821.11 MB',\n",
       "               'status': 'ARCHIVED',\n",
       "               'processed': 'F'}),\n",
       "             ('6c811dd7-3a1c-4374-8b81-6912474a2bb4',\n",
       "              {'title': 'S1A_IW_GRDH_1SSV_20160729T020924_20160729T020949_012357_013406_F602',\n",
       "               'link': \"https://scihub.copernicus.eu/dhus/odata/v1/Products('6c811dd7-3a1c-4374-8b81-6912474a2bb4')/$value\",\n",
       "               'link_alternative': \"https://scihub.copernicus.eu/dhus/odata/v1/Products('6c811dd7-3a1c-4374-8b81-6912474a2bb4')/\",\n",
       "               'link_icon': \"https://scihub.copernicus.eu/dhus/odata/v1/Products('6c811dd7-3a1c-4374-8b81-6912474a2bb4')/Products('Quicklook')/$value\",\n",
       "               'summary': 'Date: 2016-07-29T02:09:24.796Z, Instrument: SAR-C SAR, Mode: VV, Satellite: Sentinel-1, Size: 829.52 MB',\n",
       "               'ondemand': 'false',\n",
       "               'ingestiondate': datetime.datetime(2016, 7, 29, 23, 12, 25, 752000),\n",
       "               'beginposition': datetime.datetime(2016, 7, 29, 2, 9, 24, 796000),\n",
       "               'endposition': datetime.datetime(2016, 7, 29, 2, 9, 49, 795000),\n",
       "               'missiondatatakeid': 78854,\n",
       "               'orbitnumber': 12357,\n",
       "               'lastorbitnumber': 12357,\n",
       "               'relativeorbitnumber': 35,\n",
       "               'lastrelativeorbitnumber': 35,\n",
       "               'slicenumber': 9,\n",
       "               'uuid': '6c811dd7-3a1c-4374-8b81-6912474a2bb4',\n",
       "               'acquisitiontype': 'NOMINAL',\n",
       "               'filename': 'S1A_IW_GRDH_1SSV_20160729T020924_20160729T020949_012357_013406_F602.SAFE',\n",
       "               'gmlfootprint': '<gml:Polygon srsName=\"http://www.opengis.net/gml/srs/epsg.xml#4326\" xmlns:gml=\"http://www.opengis.net/gml\">\\n   <gml:outerBoundaryIs>\\n      <gml:LinearRing>\\n         <gml:coordinates>45.601967,-125.920303 46.002140,-122.633057 44.503597,-122.300606 44.103397,-125.503098 45.601967,-125.920303</gml:coordinates>\\n      </gml:LinearRing>\\n   </gml:outerBoundaryIs>\\n</gml:Polygon>',\n",
       "               'format': 'SAFE',\n",
       "               'identifier': 'S1A_IW_GRDH_1SSV_20160729T020924_20160729T020949_012357_013406_F602',\n",
       "               'instrumentshortname': 'SAR-C SAR',\n",
       "               'sensoroperationalmode': 'IW',\n",
       "               'instrumentname': 'Synthetic Aperture Radar (C-band)',\n",
       "               'swathidentifier': 'IW',\n",
       "               'footprint': 'POLYGON ((-125.920303 45.601967,-122.633057 46.002140,-122.300606 44.503597,-125.503098 44.103397,-125.920303 45.601967))',\n",
       "               'platformidentifier': '2014-016A',\n",
       "               'orbitdirection': 'ASCENDING',\n",
       "               'polarisationmode': 'VV',\n",
       "               'productclass': 'S',\n",
       "               'producttype': 'GRD',\n",
       "               'platformname': 'Sentinel-1',\n",
       "               'size': '829.52 MB',\n",
       "               'status': 'ARCHIVED',\n",
       "               'processed': 'F'}),\n",
       "             ('65ad67f9-a654-4088-b7f7-16a05af08fe4',\n",
       "              {'title': 'S1A_IW_GRDH_1SSV_20160715T142210_20160715T142235_012160_012D97_9745',\n",
       "               'link': \"https://scihub.copernicus.eu/dhus/odata/v1/Products('65ad67f9-a654-4088-b7f7-16a05af08fe4')/$value\",\n",
       "               'link_alternative': \"https://scihub.copernicus.eu/dhus/odata/v1/Products('65ad67f9-a654-4088-b7f7-16a05af08fe4')/\",\n",
       "               'link_icon': \"https://scihub.copernicus.eu/dhus/odata/v1/Products('65ad67f9-a654-4088-b7f7-16a05af08fe4')/Products('Quicklook')/$value\",\n",
       "               'summary': 'Date: 2016-07-15T14:22:10.548Z, Instrument: SAR-C SAR, Mode: VV, Satellite: Sentinel-1, Size: 821.13 MB',\n",
       "               'ondemand': 'false',\n",
       "               'ingestiondate': datetime.datetime(2016, 7, 15, 17, 8, 11, 299000),\n",
       "               'beginposition': datetime.datetime(2016, 7, 15, 14, 22, 10, 548000),\n",
       "               'endposition': datetime.datetime(2016, 7, 15, 14, 22, 35, 545000),\n",
       "               'missiondatatakeid': 77207,\n",
       "               'orbitnumber': 12160,\n",
       "               'lastorbitnumber': 12160,\n",
       "               'relativeorbitnumber': 13,\n",
       "               'lastrelativeorbitnumber': 13,\n",
       "               'slicenumber': 8,\n",
       "               'uuid': '65ad67f9-a654-4088-b7f7-16a05af08fe4',\n",
       "               'acquisitiontype': 'NOMINAL',\n",
       "               'filename': 'S1A_IW_GRDH_1SSV_20160715T142210_20160715T142235_012160_012D97_9745.SAFE',\n",
       "               'gmlfootprint': '<gml:Polygon srsName=\"http://www.opengis.net/gml/srs/epsg.xml#4326\" xmlns:gml=\"http://www.opengis.net/gml\">\\n   <gml:outerBoundaryIs>\\n      <gml:LinearRing>\\n         <gml:coordinates>43.319344,-122.313118 43.715420,-125.443108 45.213966,-125.112343 44.818089,-121.901688 43.319344,-122.313118</gml:coordinates>\\n      </gml:LinearRing>\\n   </gml:outerBoundaryIs>\\n</gml:Polygon>',\n",
       "               'format': 'SAFE',\n",
       "               'identifier': 'S1A_IW_GRDH_1SSV_20160715T142210_20160715T142235_012160_012D97_9745',\n",
       "               'instrumentshortname': 'SAR-C SAR',\n",
       "               'sensoroperationalmode': 'IW',\n",
       "               'instrumentname': 'Synthetic Aperture Radar (C-band)',\n",
       "               'swathidentifier': 'IW',\n",
       "               'footprint': 'POLYGON ((-122.313118 43.319344,-125.443108 43.715420,-125.112343 45.213966,-121.901688 44.818089,-122.313118 43.319344))',\n",
       "               'platformidentifier': '2014-016A',\n",
       "               'orbitdirection': 'DESCENDING',\n",
       "               'polarisationmode': 'VV',\n",
       "               'productclass': 'S',\n",
       "               'producttype': 'GRD',\n",
       "               'platformname': 'Sentinel-1',\n",
       "               'size': '821.13 MB',\n",
       "               'status': 'ARCHIVED',\n",
       "               'processed': 'F'}),\n",
       "             ('ce01eea0-cfd7-4ddb-9772-15f559a2d575',\n",
       "              {'title': 'S1A_IW_GRDH_1SSV_20160611T020922_20160611T020947_011657_011D78_A02D',\n",
       "               'link': \"https://scihub.copernicus.eu/dhus/odata/v1/Products('ce01eea0-cfd7-4ddb-9772-15f559a2d575')/$value\",\n",
       "               'link_alternative': \"https://scihub.copernicus.eu/dhus/odata/v1/Products('ce01eea0-cfd7-4ddb-9772-15f559a2d575')/\",\n",
       "               'link_icon': \"https://scihub.copernicus.eu/dhus/odata/v1/Products('ce01eea0-cfd7-4ddb-9772-15f559a2d575')/Products('Quicklook')/$value\",\n",
       "               'summary': 'Date: 2016-06-11T02:09:22.24Z, Instrument: SAR-C SAR, Mode: VV, Satellite: Sentinel-1, Size: 829.43 MB',\n",
       "               'ondemand': 'false',\n",
       "               'ingestiondate': datetime.datetime(2016, 6, 11, 16, 46, 17, 252000),\n",
       "               'beginposition': datetime.datetime(2016, 6, 11, 2, 9, 22, 240000),\n",
       "               'endposition': datetime.datetime(2016, 6, 11, 2, 9, 47, 237000),\n",
       "               'missiondatatakeid': 73080,\n",
       "               'orbitnumber': 11657,\n",
       "               'lastorbitnumber': 11657,\n",
       "               'relativeorbitnumber': 35,\n",
       "               'lastrelativeorbitnumber': 35,\n",
       "               'slicenumber': 9,\n",
       "               'uuid': 'ce01eea0-cfd7-4ddb-9772-15f559a2d575',\n",
       "               'acquisitiontype': 'NOMINAL',\n",
       "               'filename': 'S1A_IW_GRDH_1SSV_20160611T020922_20160611T020947_011657_011D78_A02D.SAFE',\n",
       "               'gmlfootprint': '<gml:Polygon srsName=\"http://www.opengis.net/gml/srs/epsg.xml#4326\" xmlns:gml=\"http://www.opengis.net/gml\">\\n   <gml:outerBoundaryIs>\\n      <gml:LinearRing>\\n         <gml:coordinates>45.601875,-125.920639 46.002033,-122.633522 44.503578,-122.301094 44.103394,-125.503464 45.601875,-125.920639</gml:coordinates>\\n      </gml:LinearRing>\\n   </gml:outerBoundaryIs>\\n</gml:Polygon>',\n",
       "               'format': 'SAFE',\n",
       "               'identifier': 'S1A_IW_GRDH_1SSV_20160611T020922_20160611T020947_011657_011D78_A02D',\n",
       "               'instrumentshortname': 'SAR-C SAR',\n",
       "               'sensoroperationalmode': 'IW',\n",
       "               'instrumentname': 'Synthetic Aperture Radar (C-band)',\n",
       "               'swathidentifier': 'IW',\n",
       "               'footprint': 'POLYGON ((-125.920639 45.601875,-122.633522 46.002033,-122.301094 44.503578,-125.503464 44.103394,-125.920639 45.601875))',\n",
       "               'platformidentifier': '0000-000A',\n",
       "               'orbitdirection': 'ASCENDING',\n",
       "               'polarisationmode': 'VV',\n",
       "               'productclass': 'S',\n",
       "               'producttype': 'GRD',\n",
       "               'platformname': 'Sentinel-1',\n",
       "               'size': '829.43 MB',\n",
       "               'status': 'ARCHIVED',\n",
       "               'processed': 'F'}),\n",
       "             ('cc140cdb-71c1-44ca-9562-e074d64c1e46',\n",
       "              {'title': 'S1A_IW_GRDH_1SSV_20160528T142207_20160528T142232_011460_011746_2405',\n",
       "               'link': \"https://scihub.copernicus.eu/dhus/odata/v1/Products('cc140cdb-71c1-44ca-9562-e074d64c1e46')/$value\",\n",
       "               'link_alternative': \"https://scihub.copernicus.eu/dhus/odata/v1/Products('cc140cdb-71c1-44ca-9562-e074d64c1e46')/\",\n",
       "               'link_icon': \"https://scihub.copernicus.eu/dhus/odata/v1/Products('cc140cdb-71c1-44ca-9562-e074d64c1e46')/Products('Quicklook')/$value\",\n",
       "               'summary': 'Date: 2016-05-28T14:22:07.915Z, Instrument: SAR-C SAR, Mode: VV, Satellite: Sentinel-1, Size: 821.15 MB',\n",
       "               'ondemand': 'false',\n",
       "               'ingestiondate': datetime.datetime(2016, 5, 28, 18, 11, 3, 880000),\n",
       "               'beginposition': datetime.datetime(2016, 5, 28, 14, 22, 7, 915000),\n",
       "               'endposition': datetime.datetime(2016, 5, 28, 14, 22, 32, 914000),\n",
       "               'missiondatatakeid': 71494,\n",
       "               'orbitnumber': 11460,\n",
       "               'lastorbitnumber': 11460,\n",
       "               'relativeorbitnumber': 13,\n",
       "               'lastrelativeorbitnumber': 13,\n",
       "               'slicenumber': 8,\n",
       "               'uuid': 'cc140cdb-71c1-44ca-9562-e074d64c1e46',\n",
       "               'acquisitiontype': 'NOMINAL',\n",
       "               'filename': 'S1A_IW_GRDH_1SSV_20160528T142207_20160528T142232_011460_011746_2405.SAFE',\n",
       "               'gmlfootprint': '<gml:Polygon srsName=\"http://www.opengis.net/gml/srs/epsg.xml#4326\" xmlns:gml=\"http://www.opengis.net/gml\">\\n   <gml:outerBoundaryIs>\\n      <gml:LinearRing>\\n         <gml:coordinates>43.319347,-122.313652 43.715408,-125.443520 45.214043,-125.112717 44.818176,-121.902176 43.319347,-122.313652</gml:coordinates>\\n      </gml:LinearRing>\\n   </gml:outerBoundaryIs>\\n</gml:Polygon>',\n",
       "               'format': 'SAFE',\n",
       "               'identifier': 'S1A_IW_GRDH_1SSV_20160528T142207_20160528T142232_011460_011746_2405',\n",
       "               'instrumentshortname': 'SAR-C SAR',\n",
       "               'sensoroperationalmode': 'IW',\n",
       "               'instrumentname': 'Synthetic Aperture Radar (C-band)',\n",
       "               'swathidentifier': 'IW',\n",
       "               'footprint': 'POLYGON ((-122.313652 43.319347,-125.443520 43.715408,-125.112717 45.214043,-121.902176 44.818176,-122.313652 43.319347))',\n",
       "               'platformidentifier': '0000-000A',\n",
       "               'orbitdirection': 'DESCENDING',\n",
       "               'polarisationmode': 'VV',\n",
       "               'productclass': 'S',\n",
       "               'producttype': 'GRD',\n",
       "               'platformname': 'Sentinel-1',\n",
       "               'size': '821.15 MB',\n",
       "               'status': 'ARCHIVED',\n",
       "               'processed': 'F'}),\n",
       "             ('1b2b3f6c-15bc-4467-a6fb-946f30922132',\n",
       "              {'title': 'S1A_IW_GRDH_1SSV_20160518T020920_20160518T020945_011307_011247_5A05',\n",
       "               'link': \"https://scihub.copernicus.eu/dhus/odata/v1/Products('1b2b3f6c-15bc-4467-a6fb-946f30922132')/$value\",\n",
       "               'link_alternative': \"https://scihub.copernicus.eu/dhus/odata/v1/Products('1b2b3f6c-15bc-4467-a6fb-946f30922132')/\",\n",
       "               'link_icon': \"https://scihub.copernicus.eu/dhus/odata/v1/Products('1b2b3f6c-15bc-4467-a6fb-946f30922132')/Products('Quicklook')/$value\",\n",
       "               'summary': 'Date: 2016-05-18T02:09:20.753Z, Instrument: SAR-C SAR, Mode: VV, Satellite: Sentinel-1, Size: 829.49 MB',\n",
       "               'ondemand': 'false',\n",
       "               'ingestiondate': datetime.datetime(2016, 5, 18, 8, 3, 51, 65000),\n",
       "               'beginposition': datetime.datetime(2016, 5, 18, 2, 9, 20, 753000),\n",
       "               'endposition': datetime.datetime(2016, 5, 18, 2, 9, 45, 751000),\n",
       "               'missiondatatakeid': 70215,\n",
       "               'orbitnumber': 11307,\n",
       "               'lastorbitnumber': 11307,\n",
       "               'relativeorbitnumber': 35,\n",
       "               'lastrelativeorbitnumber': 35,\n",
       "               'slicenumber': 9,\n",
       "               'uuid': '1b2b3f6c-15bc-4467-a6fb-946f30922132',\n",
       "               'acquisitiontype': 'NOMINAL',\n",
       "               'filename': 'S1A_IW_GRDH_1SSV_20160518T020920_20160518T020945_011307_011247_5A05.SAFE',\n",
       "               'gmlfootprint': '<gml:Polygon srsName=\"http://www.opengis.net/gml/srs/epsg.xml#4326\" xmlns:gml=\"http://www.opengis.net/gml\">\\n   <gml:outerBoundaryIs>\\n      <gml:LinearRing>\\n         <gml:coordinates>45.602005,-125.919472 46.002121,-122.632347 44.503574,-122.299934 44.103428,-125.502312 45.602005,-125.919472</gml:coordinates>\\n      </gml:LinearRing>\\n   </gml:outerBoundaryIs>\\n</gml:Polygon>',\n",
       "               'format': 'SAFE',\n",
       "               'identifier': 'S1A_IW_GRDH_1SSV_20160518T020920_20160518T020945_011307_011247_5A05',\n",
       "               'instrumentshortname': 'SAR-C SAR',\n",
       "               'sensoroperationalmode': 'IW',\n",
       "               'instrumentname': 'Synthetic Aperture Radar (C-band)',\n",
       "               'swathidentifier': 'IW',\n",
       "               'footprint': 'POLYGON ((-125.919472 45.602005,-122.632347 46.002121,-122.299934 44.503574,-125.502312 44.103428,-125.919472 45.602005))',\n",
       "               'platformidentifier': '0000-000A',\n",
       "               'orbitdirection': 'ASCENDING',\n",
       "               'polarisationmode': 'VV',\n",
       "               'productclass': 'S',\n",
       "               'producttype': 'GRD',\n",
       "               'platformname': 'Sentinel-1',\n",
       "               'size': '829.49 MB',\n",
       "               'status': 'ARCHIVED',\n",
       "               'processed': 'F'})])"
      ]
     },
     "execution_count": 11,
     "metadata": {},
     "output_type": "execute_result"
    }
   ],
   "source": [
    "in_situ_obs['Endurance_3']['products']"
   ]
  },
  {
   "cell_type": "code",
   "execution_count": 12,
   "id": "e999b675-c098-4cd1-ad98-74fe81a52ac8",
   "metadata": {},
   "outputs": [],
   "source": [
    "fname = 'S1A_IW_GRDH_1SDV_20160918T143013_20160918T143038_013108_014CE4_9241.SAFE'"
   ]
  },
  {
   "cell_type": "code",
   "execution_count": 13,
   "id": "944b0615-fc9b-4d72-9fad-2d594ce158fe",
   "metadata": {},
   "outputs": [
    {
     "data": {
      "text/plain": [
       "44.6393"
      ]
     },
     "execution_count": 13,
     "metadata": {},
     "output_type": "execute_result"
    }
   ],
   "source": [
    "lat = in_situ_obs['Endurance_3']['lat'][0]\n",
    "lat"
   ]
  },
  {
   "cell_type": "code",
   "execution_count": 14,
   "id": "6acf5ac1-b2e4-4ab2-ab70-20f8d1d635f8",
   "metadata": {},
   "outputs": [
    {
     "data": {
      "text/plain": [
       "-124.304"
      ]
     },
     "execution_count": 14,
     "metadata": {},
     "output_type": "execute_result"
    }
   ],
   "source": [
    "lon = in_situ_obs['Endurance_3']['lon'][0]\n",
    "lon"
   ]
  },
  {
   "cell_type": "markdown",
   "id": "d035c741-b0d1-4013-9185-5748b2ecb24b",
   "metadata": {},
   "source": [
    "## Load product"
   ]
  },
  {
   "cell_type": "code",
   "execution_count": 15,
   "id": "77623024-9fdf-4b55-9f2e-20563c47aba6",
   "metadata": {},
   "outputs": [],
   "source": [
    "n = Nansat(data_dir + fname)"
   ]
  },
  {
   "cell_type": "code",
   "execution_count": 16,
   "id": "ff4717b3-6efb-410e-89ff-ebe28fb11a98",
   "metadata": {
    "scrolled": true,
    "tags": []
   },
   "outputs": [
    {
     "data": {
      "text/plain": [
       "(array([-123.73179473, -124.14808758, -126.95166136, -127.28485376]),\n",
       " array([45.64333992, 44.14426782, 46.0351342 , 44.53608917]))"
      ]
     },
     "execution_count": 16,
     "metadata": {},
     "output_type": "execute_result"
    }
   ],
   "source": [
    "n.get_corners()"
   ]
  },
  {
   "cell_type": "markdown",
   "id": "424a46d6-6669-4289-8934-52bc4e8b4f1d",
   "metadata": {
    "tags": []
   },
   "source": [
    "## Crop product\n",
    "\n",
    "## Works but cannot control the corners!"
   ]
  },
  {
   "cell_type": "markdown",
   "id": "77ec2a85-ad07-449e-a23a-8e11b9cc17cf",
   "metadata": {},
   "source": [
    "### a)"
   ]
  },
  {
   "cell_type": "code",
   "execution_count": 13,
   "id": "f5df6783-eba5-4b20-a1c1-e451e12f9276",
   "metadata": {},
   "outputs": [],
   "source": [
    "epsilon = 0.05"
   ]
  },
  {
   "cell_type": "code",
   "execution_count": 14,
   "id": "19ecf903-db5d-4ab3-b315-b158c3f3c1ec",
   "metadata": {},
   "outputs": [],
   "source": [
    "extent = sar.crop_sar_data(n, lon, lat, epsilon)"
   ]
  },
  {
   "cell_type": "code",
   "execution_count": 15,
   "id": "3909b529-9673-4575-968c-3ea22deac287",
   "metadata": {
    "scrolled": true,
    "tags": []
   },
   "outputs": [
    {
     "data": {
      "text/plain": [
       "(array([-124.22758393, -124.25746094, -124.35029898, -124.37993915]),\n",
       " array([44.68568896, 44.57613339, 44.70237624, 44.59282289]))"
      ]
     },
     "execution_count": 15,
     "metadata": {},
     "output_type": "execute_result"
    }
   ],
   "source": [
    "n.get_corners()"
   ]
  },
  {
   "cell_type": "markdown",
   "id": "594291bb-b863-4df4-aa06-8cf4dd43f38d",
   "metadata": {},
   "source": [
    "### Is it inside the lat/lon limits?\n",
    "\n",
    "### No - corners outside the limits"
   ]
  },
  {
   "cell_type": "code",
   "execution_count": 16,
   "id": "bfabc9b3-bd0f-438a-9806-fa94ed94b60c",
   "metadata": {},
   "outputs": [
    {
     "data": {
      "text/plain": [
       "[-124.354, -124.254]"
      ]
     },
     "execution_count": 16,
     "metadata": {},
     "output_type": "execute_result"
    }
   ],
   "source": [
    "lonlim=[lon - epsilon, lon + epsilon]\n",
    "lonlim"
   ]
  },
  {
   "cell_type": "code",
   "execution_count": 17,
   "id": "2ac2e433-5da9-45dc-826f-e9acb48b1b78",
   "metadata": {},
   "outputs": [
    {
     "data": {
      "text/plain": [
       "[44.5893, 44.689299999999996]"
      ]
     },
     "execution_count": 17,
     "metadata": {},
     "output_type": "execute_result"
    }
   ],
   "source": [
    "latlim=[lat - epsilon, lat + epsilon]\n",
    "latlim"
   ]
  },
  {
   "cell_type": "code",
   "execution_count": 18,
   "id": "e9f1cced-ea21-43c1-8d71-148a61630274",
   "metadata": {},
   "outputs": [],
   "source": [
    "lons, lats = n.get_corners()"
   ]
  },
  {
   "cell_type": "code",
   "execution_count": 19,
   "id": "45bca981-276d-4e0f-ac4f-724fa921af31",
   "metadata": {},
   "outputs": [
    {
     "data": {
      "text/plain": [
       "(-124.379939147211, 44.57613339386014, -124.2275839327008, 44.70237624339955)"
      ]
     },
     "execution_count": 19,
     "metadata": {},
     "output_type": "execute_result"
    }
   ],
   "source": [
    "(min(lons), min(lats), max(lons), max(lats))"
   ]
  },
  {
   "cell_type": "code",
   "execution_count": 20,
   "id": "f4ba5bd6-6751-4aec-a983-7488f12c3ae0",
   "metadata": {},
   "outputs": [
    {
     "data": {
      "text/plain": [
       "(10.16357559530454, 9.969262476095434)"
      ]
     },
     "execution_count": 20,
     "metadata": {},
     "output_type": "execute_result"
    }
   ],
   "source": [
    "n.get_pixelsize_meters()"
   ]
  },
  {
   "cell_type": "code",
   "execution_count": 21,
   "id": "06f12a91-6ed2-4b76-b9b6-25fc8a907936",
   "metadata": {},
   "outputs": [],
   "source": [
    "# (x_offset, y_offset, x_size, y_size)"
   ]
  },
  {
   "cell_type": "code",
   "execution_count": 22,
   "id": "9bebcf98-c6ea-4a60-888a-4753b5b8acbc",
   "metadata": {},
   "outputs": [
    {
     "data": {
      "text/plain": [
       "(1, 0, 989, 1220)"
      ]
     },
     "execution_count": 22,
     "metadata": {},
     "output_type": "execute_result"
    }
   ],
   "source": [
    "n.crop_lonlat(lonlim=lonlim, latlim=latlim)"
   ]
  },
  {
   "cell_type": "code",
   "execution_count": null,
   "id": "7e0edafb-4a9e-4e80-bc0f-aa59da9b6753",
   "metadata": {},
   "outputs": [],
   "source": []
  },
  {
   "cell_type": "markdown",
   "id": "1815a1e6-beb3-48e8-b082-e9ddf2f159b9",
   "metadata": {},
   "source": [
    "### b)"
   ]
  },
  {
   "cell_type": "code",
   "execution_count": 23,
   "id": "35d07fff-2a13-48f0-aeda-89886d09b07b",
   "metadata": {},
   "outputs": [],
   "source": [
    "epsilon = 0.0005"
   ]
  },
  {
   "cell_type": "code",
   "execution_count": 24,
   "id": "04aa8630-a8dc-4172-9ef6-2d08c9a0b3a6",
   "metadata": {},
   "outputs": [],
   "source": [
    "n = Nansat(data_dir + fname)"
   ]
  },
  {
   "cell_type": "code",
   "execution_count": 25,
   "id": "d28300e1-f864-4b88-90f4-d0b8a0c82cdf",
   "metadata": {},
   "outputs": [
    {
     "data": {
      "text/plain": [
       "(2271, 11608, 10, 12)"
      ]
     },
     "execution_count": 25,
     "metadata": {},
     "output_type": "execute_result"
    }
   ],
   "source": [
    "sar.crop_sar_data(n, lon, lat, epsilon)"
   ]
  },
  {
   "cell_type": "code",
   "execution_count": 26,
   "id": "225bae93-5b4b-46c1-8b20-4fe8092cf7ab",
   "metadata": {
    "scrolled": true,
    "tags": []
   },
   "outputs": [
    {
     "data": {
      "text/plain": [
       "(array([-124.30317635, -124.30346907, -124.30441471, -124.3047074 ]),\n",
       " array([44.63974379, 44.63866619, 44.63991235, 44.63883475]))"
      ]
     },
     "execution_count": 26,
     "metadata": {},
     "output_type": "execute_result"
    }
   ],
   "source": [
    "n.get_corners()"
   ]
  },
  {
   "cell_type": "markdown",
   "id": "8746968f-dac8-483a-9370-87de90dd3779",
   "metadata": {},
   "source": [
    "### c)"
   ]
  },
  {
   "cell_type": "markdown",
   "id": "3d953709-8af5-466f-b28d-189fb75c1b12",
   "metadata": {},
   "source": [
    "#### This is the smalles epsilon that works"
   ]
  },
  {
   "cell_type": "code",
   "execution_count": 27,
   "id": "0c45fa26-2fc1-43f4-9ca1-1f1278e816a6",
   "metadata": {},
   "outputs": [],
   "source": [
    "epsilon = 0.00005"
   ]
  },
  {
   "cell_type": "code",
   "execution_count": 28,
   "id": "68e83e07-4f12-4b9a-9e61-ab761194777d",
   "metadata": {},
   "outputs": [],
   "source": [
    "n = Nansat(data_dir + fname)"
   ]
  },
  {
   "cell_type": "code",
   "execution_count": 29,
   "id": "be947e6f-08bf-4d5a-9d8e-e56cc1fee146",
   "metadata": {},
   "outputs": [
    {
     "data": {
      "text/plain": [
       "(2275, 11614, 1, 1)"
      ]
     },
     "execution_count": 29,
     "metadata": {},
     "output_type": "execute_result"
    }
   ],
   "source": [
    "sar.crop_sar_data(n, lon, lat, epsilon)"
   ]
  },
  {
   "cell_type": "code",
   "execution_count": 30,
   "id": "3ba92aa1-b8f8-489f-ab62-386c31e97178",
   "metadata": {
    "scrolled": true,
    "tags": []
   },
   "outputs": [
    {
     "data": {
      "text/plain": [
       "(array([-124.30381805, -124.30384244, -124.30394188, -124.30396627]),\n",
       " array([44.63927241, 44.63918262, 44.63928927, 44.63919947]))"
      ]
     },
     "execution_count": 30,
     "metadata": {},
     "output_type": "execute_result"
    }
   ],
   "source": [
    "n.get_corners()"
   ]
  },
  {
   "cell_type": "code",
   "execution_count": null,
   "id": "e2f23980-e3ce-43b4-b7cc-8f71babe5dad",
   "metadata": {},
   "outputs": [],
   "source": []
  },
  {
   "cell_type": "markdown",
   "id": "6b81f28b-224b-41b1-a7a2-caa91628dc13",
   "metadata": {},
   "source": [
    "### What if I use another product? Do I get the same corners?\n",
    "\n",
    "### No - probably because the image is tilted"
   ]
  },
  {
   "cell_type": "code",
   "execution_count": 31,
   "id": "c52b6f49-77d5-448d-ba85-2b99f27dc87a",
   "metadata": {},
   "outputs": [],
   "source": [
    "fname2 = 'S1A_IW_GRDH_1SDV_20160913T142210_20160913T142235_013035_014A71_1F7E.SAFE'"
   ]
  },
  {
   "cell_type": "code",
   "execution_count": 32,
   "id": "c9f144a8-ff41-4bbb-bb78-a2df2716ac48",
   "metadata": {},
   "outputs": [],
   "source": [
    "n2 = Nansat(data_dir + fname2)"
   ]
  },
  {
   "cell_type": "code",
   "execution_count": 33,
   "id": "8e781d93-eee5-4d9b-a9cf-41acf2d99e93",
   "metadata": {
    "scrolled": true,
    "tags": []
   },
   "outputs": [
    {
     "data": {
      "text/plain": [
       "(array([-121.85589143, -122.26912943, -125.03419407, -125.36737697]),\n",
       " array([45.02719571, 43.52801979, 45.41803194, 43.919014  ]))"
      ]
     },
     "execution_count": 33,
     "metadata": {},
     "output_type": "execute_result"
    }
   ],
   "source": [
    "n2.get_corners()"
   ]
  },
  {
   "cell_type": "code",
   "execution_count": 34,
   "id": "c2052fdd-1d33-43b4-a3b7-25ada761b4a8",
   "metadata": {},
   "outputs": [],
   "source": [
    "epsilon = 0.05"
   ]
  },
  {
   "cell_type": "code",
   "execution_count": 35,
   "id": "1937c859-79cf-4cf6-a4b5-35d6c420e2f8",
   "metadata": {},
   "outputs": [
    {
     "data": {
      "text/plain": [
       "(17781, 6950, 967, 1211)"
      ]
     },
     "execution_count": 35,
     "metadata": {},
     "output_type": "execute_result"
    }
   ],
   "source": [
    "sar.crop_sar_data(n2, lon, lat, epsilon)"
   ]
  },
  {
   "cell_type": "code",
   "execution_count": 36,
   "id": "ab0d684f-3f46-4c83-86b8-99a6c3215715",
   "metadata": {},
   "outputs": [
    {
     "data": {
      "text/plain": [
       "(array([-124.23083755, -124.25672235, -124.35123294, -124.37689611]),\n",
       " array([44.68652005, 44.57780005, 44.70071553, 44.59199596]))"
      ]
     },
     "execution_count": 36,
     "metadata": {},
     "output_type": "execute_result"
    }
   ],
   "source": [
    "n2.get_corners()"
   ]
  },
  {
   "cell_type": "code",
   "execution_count": 37,
   "id": "f7797c43-3914-4312-be08-e5de920371de",
   "metadata": {},
   "outputs": [
    {
     "name": "stderr",
     "output_type": "stream",
     "text": [
      "11:02:17|40|nansat|crop|WARNING! Cropping region is larger or equal to image!\n"
     ]
    },
    {
     "data": {
      "text/plain": [
       "(0, 0, 967, 1211)"
      ]
     },
     "execution_count": 37,
     "metadata": {},
     "output_type": "execute_result"
    }
   ],
   "source": [
    "n2.crop_lonlat(lonlim=lonlim, latlim=latlim)"
   ]
  },
  {
   "cell_type": "code",
   "execution_count": null,
   "id": "ec46c1e4-05a3-4467-894f-5417fbca65ef",
   "metadata": {},
   "outputs": [],
   "source": []
  },
  {
   "cell_type": "markdown",
   "id": "ac08b782-64e4-4eaf-82fe-8c52922734ef",
   "metadata": {
    "tags": []
   },
   "source": [
    "## Use sar_params to normalize the images\n",
    "\n",
    "## Works"
   ]
  },
  {
   "cell_type": "code",
   "execution_count": 38,
   "id": "da5a68d9-0194-44f6-be9f-fe89b737054f",
   "metadata": {},
   "outputs": [],
   "source": [
    "n_pixels = 9\n",
    "s0, s0_norm, inc, az, grid_lons, grid_lats, pol = sar.sar_params(\n",
    "    data_dir + fname,\n",
    "    station_lon=lon,\n",
    "    station_lat=lat,\n",
    "    x_size=n_pixels,\n",
    "    y_size=n_pixels\n",
    ")"
   ]
  },
  {
   "cell_type": "code",
   "execution_count": 39,
   "id": "5ba212d1-5483-4534-9fd0-640786580440",
   "metadata": {},
   "outputs": [
    {
     "data": {
      "text/plain": [
       "(9, 9)"
      ]
     },
     "execution_count": 39,
     "metadata": {},
     "output_type": "execute_result"
    }
   ],
   "source": [
    "s0.shape"
   ]
  },
  {
   "cell_type": "code",
   "execution_count": 40,
   "id": "5fb4dcc7-2fba-496e-b120-db4a03ac9863",
   "metadata": {},
   "outputs": [
    {
     "data": {
      "text/plain": [
       "(9, 9)"
      ]
     },
     "execution_count": 40,
     "metadata": {},
     "output_type": "execute_result"
    }
   ],
   "source": [
    "s0_norm.shape"
   ]
  },
  {
   "cell_type": "code",
   "execution_count": 41,
   "id": "bd028a51-753b-4e6e-b2b3-2dc83c7cc12e",
   "metadata": {},
   "outputs": [
    {
     "data": {
      "text/plain": [
       "(9, 9)"
      ]
     },
     "execution_count": 41,
     "metadata": {},
     "output_type": "execute_result"
    }
   ],
   "source": [
    "az.shape"
   ]
  },
  {
   "cell_type": "code",
   "execution_count": 42,
   "id": "68d81d03-f90f-4a41-b402-a488a1939798",
   "metadata": {},
   "outputs": [
    {
     "data": {
      "text/plain": [
       "(9, 9)"
      ]
     },
     "execution_count": 42,
     "metadata": {},
     "output_type": "execute_result"
    }
   ],
   "source": [
    "grid_lons.shape"
   ]
  },
  {
   "cell_type": "code",
   "execution_count": 43,
   "id": "39b85a55-dd7e-440f-aeb6-a5a835aa647c",
   "metadata": {},
   "outputs": [
    {
     "data": {
      "text/plain": [
       "(9, 9)"
      ]
     },
     "execution_count": 43,
     "metadata": {},
     "output_type": "execute_result"
    }
   ],
   "source": [
    "grid_lats.shape"
   ]
  },
  {
   "cell_type": "code",
   "execution_count": 44,
   "id": "1be2563c-ef77-40aa-85b1-2540654ef76c",
   "metadata": {},
   "outputs": [
    {
     "data": {
      "text/plain": [
       "'VV'"
      ]
     },
     "execution_count": 44,
     "metadata": {},
     "output_type": "execute_result"
    }
   ],
   "source": [
    "pol"
   ]
  },
  {
   "cell_type": "code",
   "execution_count": null,
   "id": "0fafacdd-528e-4942-998f-c20d5bd3f846",
   "metadata": {},
   "outputs": [],
   "source": []
  },
  {
   "cell_type": "code",
   "execution_count": null,
   "id": "cdaa325d-c9d9-4743-a0a5-9826f421b62f",
   "metadata": {},
   "outputs": [],
   "source": []
  },
  {
   "cell_type": "markdown",
   "id": "1a1f767b-e8a7-4391-8570-d87b53ee71e9",
   "metadata": {},
   "source": [
    "# Questions\n",
    "\n",
    "- What is the offset in extent?\n",
    "- how to use crop_interactive?\n",
    "- Is it possible to crop using the number of pixels from a certain lat/lon? E.g., 10 pixels in each direction from the center."
   ]
  },
  {
   "cell_type": "code",
   "execution_count": null,
   "id": "f6955f0d-ec36-40d8-b96a-829099ff866f",
   "metadata": {},
   "outputs": [],
   "source": []
  },
  {
   "cell_type": "markdown",
   "id": "c0631e31-6143-494b-83fb-c7e0ea896bfd",
   "metadata": {},
   "source": [
    "# Experiments on Pioneer"
   ]
  },
  {
   "cell_type": "code",
   "execution_count": 45,
   "id": "6d501197-c28f-41d5-abde-c2a4fb555235",
   "metadata": {},
   "outputs": [
    {
     "data": {
      "text/plain": [
       "dict_keys(['datetime_start', 'datetime_end', 'type', 'lat', 'lon', 'nc_data_location', 'products'])"
      ]
     },
     "execution_count": 45,
     "metadata": {},
     "output_type": "execute_result"
    }
   ],
   "source": [
    "in_situ_obs['Pioneer_7'].keys()"
   ]
  },
  {
   "cell_type": "code",
   "execution_count": 46,
   "id": "669ad25e-4ef3-4731-b7c6-8ccab6489dd8",
   "metadata": {
    "scrolled": true,
    "tags": []
   },
   "outputs": [
    {
     "data": {
      "text/plain": [
       "OrderedDict([('7e1d1641-af53-4486-bb45-8411c61d1aba',\n",
       "              {'title': 'S1A_IW_GRDH_1SDV_20171022T224224_20171022T224249_018932_01FFE8_5D27',\n",
       "               'link': \"https://scihub.copernicus.eu/dhus/odata/v1/Products('7e1d1641-af53-4486-bb45-8411c61d1aba')/$value\",\n",
       "               'link_alternative': \"https://scihub.copernicus.eu/dhus/odata/v1/Products('7e1d1641-af53-4486-bb45-8411c61d1aba')/\",\n",
       "               'link_icon': \"https://scihub.copernicus.eu/dhus/odata/v1/Products('7e1d1641-af53-4486-bb45-8411c61d1aba')/Products('Quicklook')/$value\",\n",
       "               'summary': 'Date: 2017-10-22T22:42:24.875Z, Instrument: SAR-C SAR, Mode: VV VH, Satellite: Sentinel-1, Size: 1.61 GB',\n",
       "               'ondemand': 'false',\n",
       "               'ingestiondate': datetime.datetime(2017, 10, 23, 5, 16, 24, 259000),\n",
       "               'beginposition': datetime.datetime(2017, 10, 22, 22, 42, 24, 875000),\n",
       "               'endposition': datetime.datetime(2017, 10, 22, 22, 42, 49, 874000),\n",
       "               'missiondatatakeid': 131048,\n",
       "               'orbitnumber': 18932,\n",
       "               'lastorbitnumber': 18932,\n",
       "               'relativeorbitnumber': 135,\n",
       "               'lastrelativeorbitnumber': 135,\n",
       "               'slicenumber': 5,\n",
       "               'acquisitiontype': 'NOMINAL',\n",
       "               'filename': 'S1A_IW_GRDH_1SDV_20171022T224224_20171022T224249_018932_01FFE8_5D27.SAFE',\n",
       "               'gmlfootprint': '<gml:Polygon srsName=\"http://www.opengis.net/gml/srs/epsg.xml#4326\" xmlns:gml=\"http://www.opengis.net/gml\">\\n   <gml:outerBoundaryIs>\\n      <gml:LinearRing>\\n         <gml:coordinates>40.464302,-73.116463 40.865818,-70.097900 39.365147,-69.783722 38.962429,-72.736824 40.464302,-73.116463</gml:coordinates>\\n      </gml:LinearRing>\\n   </gml:outerBoundaryIs>\\n</gml:Polygon>',\n",
       "               'format': 'SAFE',\n",
       "               'identifier': 'S1A_IW_GRDH_1SDV_20171022T224224_20171022T224249_018932_01FFE8_5D27',\n",
       "               'instrumentshortname': 'SAR-C SAR',\n",
       "               'sensoroperationalmode': 'IW',\n",
       "               'instrumentname': 'Synthetic Aperture Radar (C-band)',\n",
       "               'swathidentifier': 'IW',\n",
       "               'footprint': 'POLYGON ((-73.116463 40.464302,-70.097900 40.865818,-69.783722 39.365147,-72.736824 38.962429,-73.116463 40.464302))',\n",
       "               'platformidentifier': '2014-016A',\n",
       "               'orbitdirection': 'ASCENDING',\n",
       "               'polarisationmode': 'VV VH',\n",
       "               'productclass': 'S',\n",
       "               'producttype': 'GRD',\n",
       "               'platformname': 'Sentinel-1',\n",
       "               'size': '1.61 GB',\n",
       "               'status': 'ARCHIVED',\n",
       "               'uuid': '7e1d1641-af53-4486-bb45-8411c61d1aba'}),\n",
       "             ('c882d69c-7786-494c-9a59-7b2e4718e4dc',\n",
       "              {'title': 'S1B_IW_GRDH_1SDV_20171022T104857_20171022T104922_007941_00E06E_F905',\n",
       "               'link': \"https://scihub.copernicus.eu/dhus/odata/v1/Products('c882d69c-7786-494c-9a59-7b2e4718e4dc')/$value\",\n",
       "               'link_alternative': \"https://scihub.copernicus.eu/dhus/odata/v1/Products('c882d69c-7786-494c-9a59-7b2e4718e4dc')/\",\n",
       "               'link_icon': \"https://scihub.copernicus.eu/dhus/odata/v1/Products('c882d69c-7786-494c-9a59-7b2e4718e4dc')/Products('Quicklook')/$value\",\n",
       "               'summary': 'Date: 2017-10-22T10:48:57.625Z, Instrument: SAR-C SAR, Mode: VV VH, Satellite: Sentinel-1, Size: 1.59 GB',\n",
       "               'ondemand': 'false',\n",
       "               'ingestiondate': datetime.datetime(2017, 10, 23, 4, 54, 46, 860000),\n",
       "               'beginposition': datetime.datetime(2017, 10, 22, 10, 48, 57, 625000),\n",
       "               'endposition': datetime.datetime(2017, 10, 22, 10, 49, 22, 623000),\n",
       "               'missiondatatakeid': 57454,\n",
       "               'orbitnumber': 7941,\n",
       "               'lastorbitnumber': 7941,\n",
       "               'relativeorbitnumber': 40,\n",
       "               'lastrelativeorbitnumber': 40,\n",
       "               'slicenumber': 4,\n",
       "               'acquisitiontype': 'NOMINAL',\n",
       "               'filename': 'S1B_IW_GRDH_1SDV_20171022T104857_20171022T104922_007941_00E06E_F905.SAFE',\n",
       "               'gmlfootprint': '<gml:Polygon srsName=\"http://www.opengis.net/gml/srs/epsg.xml#4326\" xmlns:gml=\"http://www.opengis.net/gml\">\\n   <gml:outerBoundaryIs>\\n      <gml:LinearRing>\\n         <gml:coordinates>38.729294,-69.991882 39.125675,-72.885315 40.626480,-72.570915 40.231304,-69.613884 38.729294,-69.991882</gml:coordinates>\\n      </gml:LinearRing>\\n   </gml:outerBoundaryIs>\\n</gml:Polygon>',\n",
       "               'format': 'SAFE',\n",
       "               'identifier': 'S1B_IW_GRDH_1SDV_20171022T104857_20171022T104922_007941_00E06E_F905',\n",
       "               'instrumentshortname': 'SAR-C SAR',\n",
       "               'sensoroperationalmode': 'IW',\n",
       "               'instrumentname': 'Synthetic Aperture Radar (C-band)',\n",
       "               'swathidentifier': 'IW',\n",
       "               'footprint': 'POLYGON ((-69.991882 38.729294,-72.885315 39.125675,-72.570915 40.626480,-69.613884 40.231304,-69.991882 38.729294))',\n",
       "               'platformidentifier': '2016-025A',\n",
       "               'orbitdirection': 'DESCENDING',\n",
       "               'polarisationmode': 'VV VH',\n",
       "               'productclass': 'S',\n",
       "               'producttype': 'GRD',\n",
       "               'platformname': 'Sentinel-1',\n",
       "               'size': '1.59 GB',\n",
       "               'status': 'ARCHIVED',\n",
       "               'uuid': 'c882d69c-7786-494c-9a59-7b2e4718e4dc'}),\n",
       "             ('3d47e4ed-93cf-48b0-93e4-d1fbd78e422a',\n",
       "              {'title': 'S1A_IW_GRDH_1SDV_20171010T224224_20171010T224249_018757_01FA86_DB26',\n",
       "               'link': \"https://scihub.copernicus.eu/dhus/odata/v1/Products('3d47e4ed-93cf-48b0-93e4-d1fbd78e422a')/$value\",\n",
       "               'link_alternative': \"https://scihub.copernicus.eu/dhus/odata/v1/Products('3d47e4ed-93cf-48b0-93e4-d1fbd78e422a')/\",\n",
       "               'link_icon': \"https://scihub.copernicus.eu/dhus/odata/v1/Products('3d47e4ed-93cf-48b0-93e4-d1fbd78e422a')/Products('Quicklook')/$value\",\n",
       "               'summary': 'Date: 2017-10-10T22:42:24.754Z, Instrument: SAR-C SAR, Mode: VV VH, Satellite: Sentinel-1, Size: 1.61 GB',\n",
       "               'ondemand': 'false',\n",
       "               'ingestiondate': datetime.datetime(2017, 10, 12, 8, 4, 48, 461000),\n",
       "               'beginposition': datetime.datetime(2017, 10, 10, 22, 42, 24, 754000),\n",
       "               'endposition': datetime.datetime(2017, 10, 10, 22, 42, 49, 753000),\n",
       "               'missiondatatakeid': 129670,\n",
       "               'orbitnumber': 18757,\n",
       "               'lastorbitnumber': 18757,\n",
       "               'relativeorbitnumber': 135,\n",
       "               'lastrelativeorbitnumber': 135,\n",
       "               'slicenumber': 5,\n",
       "               'acquisitiontype': 'NOMINAL',\n",
       "               'filename': 'S1A_IW_GRDH_1SDV_20171010T224224_20171010T224249_018757_01FA86_DB26.SAFE',\n",
       "               'gmlfootprint': '<gml:Polygon srsName=\"http://www.opengis.net/gml/srs/epsg.xml#4326\" xmlns:gml=\"http://www.opengis.net/gml\">\\n   <gml:outerBoundaryIs>\\n      <gml:LinearRing>\\n         <gml:coordinates>40.464317,-73.117256 40.865864,-70.098824 39.365192,-69.784607 38.962448,-72.737579 40.464317,-73.117256</gml:coordinates>\\n      </gml:LinearRing>\\n   </gml:outerBoundaryIs>\\n</gml:Polygon>',\n",
       "               'format': 'SAFE',\n",
       "               'identifier': 'S1A_IW_GRDH_1SDV_20171010T224224_20171010T224249_018757_01FA86_DB26',\n",
       "               'instrumentshortname': 'SAR-C SAR',\n",
       "               'sensoroperationalmode': 'IW',\n",
       "               'instrumentname': 'Synthetic Aperture Radar (C-band)',\n",
       "               'swathidentifier': 'IW',\n",
       "               'footprint': 'POLYGON ((-73.117256 40.464317,-70.098824 40.865864,-69.784607 39.365192,-72.737579 38.962448,-73.117256 40.464317))',\n",
       "               'platformidentifier': '2014-016A',\n",
       "               'orbitdirection': 'ASCENDING',\n",
       "               'polarisationmode': 'VV VH',\n",
       "               'productclass': 'S',\n",
       "               'producttype': 'GRD',\n",
       "               'platformname': 'Sentinel-1',\n",
       "               'size': '1.61 GB',\n",
       "               'status': 'ARCHIVED',\n",
       "               'uuid': '3d47e4ed-93cf-48b0-93e4-d1fbd78e422a'}),\n",
       "             ('a542d732-39e9-46f7-8ad2-95ca6ea1f1b9',\n",
       "              {'title': 'S1B_IW_GRDH_1SDV_20171010T104840_20171010T104906_007766_00DB71_74A4',\n",
       "               'link': \"https://scihub.copernicus.eu/dhus/odata/v1/Products('a542d732-39e9-46f7-8ad2-95ca6ea1f1b9')/$value\",\n",
       "               'link_alternative': \"https://scihub.copernicus.eu/dhus/odata/v1/Products('a542d732-39e9-46f7-8ad2-95ca6ea1f1b9')/\",\n",
       "               'link_icon': \"https://scihub.copernicus.eu/dhus/odata/v1/Products('a542d732-39e9-46f7-8ad2-95ca6ea1f1b9')/Products('Quicklook')/$value\",\n",
       "               'summary': 'Date: 2017-10-10T10:48:40.735Z, Instrument: SAR-C SAR, Mode: VV VH, Satellite: Sentinel-1, Size: 1.6 GB',\n",
       "               'ondemand': 'false',\n",
       "               'ingestiondate': datetime.datetime(2017, 10, 10, 14, 6, 39, 603000),\n",
       "               'beginposition': datetime.datetime(2017, 10, 10, 10, 48, 40, 735000),\n",
       "               'endposition': datetime.datetime(2017, 10, 10, 10, 49, 6, 187000),\n",
       "               'missiondatatakeid': 56177,\n",
       "               'orbitnumber': 7766,\n",
       "               'lastorbitnumber': 7766,\n",
       "               'relativeorbitnumber': 40,\n",
       "               'lastrelativeorbitnumber': 40,\n",
       "               'slicenumber': 3,\n",
       "               'acquisitiontype': 'NOMINAL',\n",
       "               'filename': 'S1B_IW_GRDH_1SDV_20171010T104840_20171010T104906_007766_00DB71_74A4.SAFE',\n",
       "               'gmlfootprint': '<gml:Polygon srsName=\"http://www.opengis.net/gml/srs/epsg.xml#4326\" xmlns:gml=\"http://www.opengis.net/gml\">\\n   <gml:outerBoundaryIs>\\n      <gml:LinearRing>\\n         <gml:coordinates>39.709026,-69.758911 40.101833,-72.672920 41.629456,-72.349716 41.237671,-69.368141 39.709026,-69.758911</gml:coordinates>\\n      </gml:LinearRing>\\n   </gml:outerBoundaryIs>\\n</gml:Polygon>',\n",
       "               'format': 'SAFE',\n",
       "               'identifier': 'S1B_IW_GRDH_1SDV_20171010T104840_20171010T104906_007766_00DB71_74A4',\n",
       "               'instrumentshortname': 'SAR-C SAR',\n",
       "               'sensoroperationalmode': 'IW',\n",
       "               'instrumentname': 'Synthetic Aperture Radar (C-band)',\n",
       "               'swathidentifier': 'IW',\n",
       "               'footprint': 'POLYGON ((-69.758911 39.709026,-72.672920 40.101833,-72.349716 41.629456,-69.368141 41.237671,-69.758911 39.709026))',\n",
       "               'platformidentifier': '2016-025A',\n",
       "               'orbitdirection': 'DESCENDING',\n",
       "               'polarisationmode': 'VV VH',\n",
       "               'productclass': 'S',\n",
       "               'producttype': 'GRD',\n",
       "               'platformname': 'Sentinel-1',\n",
       "               'size': '1.6 GB',\n",
       "               'status': 'ARCHIVED',\n",
       "               'uuid': 'a542d732-39e9-46f7-8ad2-95ca6ea1f1b9'}),\n",
       "             ('c925dd01-3a51-4124-9c3f-5aec94b9d188',\n",
       "              {'title': 'S1A_IW_GRDH_1SDV_20170928T224224_20170928T224249_018582_01F530_D6EB',\n",
       "               'link': \"https://scihub.copernicus.eu/dhus/odata/v1/Products('c925dd01-3a51-4124-9c3f-5aec94b9d188')/$value\",\n",
       "               'link_alternative': \"https://scihub.copernicus.eu/dhus/odata/v1/Products('c925dd01-3a51-4124-9c3f-5aec94b9d188')/\",\n",
       "               'link_icon': \"https://scihub.copernicus.eu/dhus/odata/v1/Products('c925dd01-3a51-4124-9c3f-5aec94b9d188')/Products('Quicklook')/$value\",\n",
       "               'summary': 'Date: 2017-09-28T22:42:24.538Z, Instrument: SAR-C SAR, Mode: VV VH, Satellite: Sentinel-1, Size: 1.61 GB',\n",
       "               'ondemand': 'false',\n",
       "               'ingestiondate': datetime.datetime(2017, 9, 29, 3, 54, 21, 725000),\n",
       "               'beginposition': datetime.datetime(2017, 9, 28, 22, 42, 24, 538000),\n",
       "               'endposition': datetime.datetime(2017, 9, 28, 22, 42, 49, 535000),\n",
       "               'missiondatatakeid': 128304,\n",
       "               'orbitnumber': 18582,\n",
       "               'lastorbitnumber': 18582,\n",
       "               'relativeorbitnumber': 135,\n",
       "               'lastrelativeorbitnumber': 135,\n",
       "               'slicenumber': 5,\n",
       "               'acquisitiontype': 'NOMINAL',\n",
       "               'filename': 'S1A_IW_GRDH_1SDV_20170928T224224_20170928T224249_018582_01F530_D6EB.SAFE',\n",
       "               'gmlfootprint': '<gml:Polygon srsName=\"http://www.opengis.net/gml/srs/epsg.xml#4326\" xmlns:gml=\"http://www.opengis.net/gml\">\\n   <gml:outerBoundaryIs>\\n      <gml:LinearRing>\\n         <gml:coordinates>40.464264,-73.117195 40.865799,-70.098877 39.365219,-69.784683 38.962486,-72.737549 40.464264,-73.117195</gml:coordinates>\\n      </gml:LinearRing>\\n   </gml:outerBoundaryIs>\\n</gml:Polygon>',\n",
       "               'format': 'SAFE',\n",
       "               'identifier': 'S1A_IW_GRDH_1SDV_20170928T224224_20170928T224249_018582_01F530_D6EB',\n",
       "               'instrumentshortname': 'SAR-C SAR',\n",
       "               'sensoroperationalmode': 'IW',\n",
       "               'instrumentname': 'Synthetic Aperture Radar (C-band)',\n",
       "               'swathidentifier': 'IW',\n",
       "               'footprint': 'POLYGON ((-73.117195 40.464264,-70.098877 40.865799,-69.784683 39.365219,-72.737549 38.962486,-73.117195 40.464264))',\n",
       "               'platformidentifier': '2014-016A',\n",
       "               'orbitdirection': 'ASCENDING',\n",
       "               'polarisationmode': 'VV VH',\n",
       "               'productclass': 'S',\n",
       "               'producttype': 'GRD',\n",
       "               'platformname': 'Sentinel-1',\n",
       "               'size': '1.61 GB',\n",
       "               'status': 'ARCHIVED',\n",
       "               'uuid': 'c925dd01-3a51-4124-9c3f-5aec94b9d188'}),\n",
       "             ('443ea012-e193-4a85-8788-bef674cabd7c',\n",
       "              {'title': 'S1A_IW_GRDH_1SDV_20170916T224224_20170916T224249_018407_01EFDA_A8C7',\n",
       "               'link': \"https://scihub.copernicus.eu/dhus/odata/v1/Products('443ea012-e193-4a85-8788-bef674cabd7c')/$value\",\n",
       "               'link_alternative': \"https://scihub.copernicus.eu/dhus/odata/v1/Products('443ea012-e193-4a85-8788-bef674cabd7c')/\",\n",
       "               'link_icon': \"https://scihub.copernicus.eu/dhus/odata/v1/Products('443ea012-e193-4a85-8788-bef674cabd7c')/Products('Quicklook')/$value\",\n",
       "               'summary': 'Date: 2017-09-16T22:42:24.276Z, Instrument: SAR-C SAR, Mode: VV VH, Satellite: Sentinel-1, Size: 1.61 GB',\n",
       "               'ondemand': 'false',\n",
       "               'ingestiondate': datetime.datetime(2017, 9, 17, 4, 2, 29, 120000),\n",
       "               'beginposition': datetime.datetime(2017, 9, 16, 22, 42, 24, 276000),\n",
       "               'endposition': datetime.datetime(2017, 9, 16, 22, 42, 49, 275000),\n",
       "               'missiondatatakeid': 126938,\n",
       "               'orbitnumber': 18407,\n",
       "               'lastorbitnumber': 18407,\n",
       "               'relativeorbitnumber': 135,\n",
       "               'lastrelativeorbitnumber': 135,\n",
       "               'slicenumber': 5,\n",
       "               'acquisitiontype': 'NOMINAL',\n",
       "               'filename': 'S1A_IW_GRDH_1SDV_20170916T224224_20170916T224249_018407_01EFDA_A8C7.SAFE',\n",
       "               'gmlfootprint': '<gml:Polygon srsName=\"http://www.opengis.net/gml/srs/epsg.xml#4326\" xmlns:gml=\"http://www.opengis.net/gml\">\\n   <gml:outerBoundaryIs>\\n      <gml:LinearRing>\\n         <gml:coordinates>40.464451,-73.116234 40.865917,-70.098015 39.365242,-69.783852 38.962578,-72.736610 40.464451,-73.116234</gml:coordinates>\\n      </gml:LinearRing>\\n   </gml:outerBoundaryIs>\\n</gml:Polygon>',\n",
       "               'format': 'SAFE',\n",
       "               'identifier': 'S1A_IW_GRDH_1SDV_20170916T224224_20170916T224249_018407_01EFDA_A8C7',\n",
       "               'instrumentshortname': 'SAR-C SAR',\n",
       "               'sensoroperationalmode': 'IW',\n",
       "               'instrumentname': 'Synthetic Aperture Radar (C-band)',\n",
       "               'swathidentifier': 'IW',\n",
       "               'footprint': 'POLYGON ((-73.116234 40.464451,-70.098015 40.865917,-69.783852 39.365242,-72.736610 38.962578,-73.116234 40.464451))',\n",
       "               'platformidentifier': '2014-016A',\n",
       "               'orbitdirection': 'ASCENDING',\n",
       "               'polarisationmode': 'VV VH',\n",
       "               'productclass': 'S',\n",
       "               'producttype': 'GRD',\n",
       "               'platformname': 'Sentinel-1',\n",
       "               'size': '1.61 GB',\n",
       "               'status': 'ARCHIVED',\n",
       "               'uuid': '443ea012-e193-4a85-8788-bef674cabd7c'}),\n",
       "             ('83cb7b5f-a4e7-47da-8ede-74d27e15abfb',\n",
       "              {'title': 'S1A_IW_GRDH_1SDV_20170823T224223_20170823T224248_018057_01E51C_DE72',\n",
       "               'link': \"https://scihub.copernicus.eu/dhus/odata/v1/Products('83cb7b5f-a4e7-47da-8ede-74d27e15abfb')/$value\",\n",
       "               'link_alternative': \"https://scihub.copernicus.eu/dhus/odata/v1/Products('83cb7b5f-a4e7-47da-8ede-74d27e15abfb')/\",\n",
       "               'link_icon': \"https://scihub.copernicus.eu/dhus/odata/v1/Products('83cb7b5f-a4e7-47da-8ede-74d27e15abfb')/Products('Quicklook')/$value\",\n",
       "               'summary': 'Date: 2017-08-23T22:42:23.338Z, Instrument: SAR-C SAR, Mode: VV VH, Satellite: Sentinel-1, Size: 1.61 GB',\n",
       "               'ondemand': 'false',\n",
       "               'ingestiondate': datetime.datetime(2017, 8, 24, 5, 48, 23, 207000),\n",
       "               'beginposition': datetime.datetime(2017, 8, 23, 22, 42, 23, 338000),\n",
       "               'endposition': datetime.datetime(2017, 8, 23, 22, 42, 48, 337000),\n",
       "               'missiondatatakeid': 124188,\n",
       "               'orbitnumber': 18057,\n",
       "               'lastorbitnumber': 18057,\n",
       "               'relativeorbitnumber': 135,\n",
       "               'lastrelativeorbitnumber': 135,\n",
       "               'slicenumber': 5,\n",
       "               'acquisitiontype': 'NOMINAL',\n",
       "               'filename': 'S1A_IW_GRDH_1SDV_20170823T224223_20170823T224248_018057_01E51C_DE72.SAFE',\n",
       "               'gmlfootprint': '<gml:Polygon srsName=\"http://www.opengis.net/gml/srs/epsg.xml#4326\" xmlns:gml=\"http://www.opengis.net/gml\">\\n   <gml:outerBoundaryIs>\\n      <gml:LinearRing>\\n         <gml:coordinates>40.464508,-73.114487 40.865932,-70.096138 39.365253,-69.782021 38.962624,-72.734917 40.464508,-73.114487</gml:coordinates>\\n      </gml:LinearRing>\\n   </gml:outerBoundaryIs>\\n</gml:Polygon>',\n",
       "               'format': 'SAFE',\n",
       "               'identifier': 'S1A_IW_GRDH_1SDV_20170823T224223_20170823T224248_018057_01E51C_DE72',\n",
       "               'instrumentshortname': 'SAR-C SAR',\n",
       "               'sensoroperationalmode': 'IW',\n",
       "               'instrumentname': 'Synthetic Aperture Radar (C-band)',\n",
       "               'swathidentifier': 'IW',\n",
       "               'footprint': 'POLYGON ((-73.114487 40.464508,-70.096138 40.865932,-69.782021 39.365253,-72.734917 38.962624,-73.114487 40.464508))',\n",
       "               'platformidentifier': '2014-016A',\n",
       "               'orbitdirection': 'ASCENDING',\n",
       "               'polarisationmode': 'VV VH',\n",
       "               'productclass': 'S',\n",
       "               'producttype': 'GRD',\n",
       "               'platformname': 'Sentinel-1',\n",
       "               'size': '1.61 GB',\n",
       "               'status': 'ARCHIVED',\n",
       "               'uuid': '83cb7b5f-a4e7-47da-8ede-74d27e15abfb'}),\n",
       "             ('24a6cea2-69a1-49af-872c-8653b47aa09d',\n",
       "              {'title': 'S1B_IW_GRDH_1SDV_20170823T104839_20170823T104904_007066_00C72C_6916',\n",
       "               'link': \"https://scihub.copernicus.eu/dhus/odata/v1/Products('24a6cea2-69a1-49af-872c-8653b47aa09d')/$value\",\n",
       "               'link_alternative': \"https://scihub.copernicus.eu/dhus/odata/v1/Products('24a6cea2-69a1-49af-872c-8653b47aa09d')/\",\n",
       "               'link_icon': \"https://scihub.copernicus.eu/dhus/odata/v1/Products('24a6cea2-69a1-49af-872c-8653b47aa09d')/Products('Quicklook')/$value\",\n",
       "               'summary': 'Date: 2017-08-23T10:48:39.231Z, Instrument: SAR-C SAR, Mode: VV VH, Satellite: Sentinel-1, Size: 1.6 GB',\n",
       "               'ondemand': 'false',\n",
       "               'ingestiondate': datetime.datetime(2017, 8, 23, 13, 42, 52, 192000),\n",
       "               'beginposition': datetime.datetime(2017, 8, 23, 10, 48, 39, 231000),\n",
       "               'endposition': datetime.datetime(2017, 8, 23, 10, 49, 4, 667000),\n",
       "               'missiondatatakeid': 50988,\n",
       "               'orbitnumber': 7066,\n",
       "               'lastorbitnumber': 7066,\n",
       "               'relativeorbitnumber': 40,\n",
       "               'lastrelativeorbitnumber': 40,\n",
       "               'slicenumber': 3,\n",
       "               'acquisitiontype': 'NOMINAL',\n",
       "               'filename': 'S1B_IW_GRDH_1SDV_20170823T104839_20170823T104904_007066_00C72C_6916.SAFE',\n",
       "               'gmlfootprint': '<gml:Polygon srsName=\"http://www.opengis.net/gml/srs/epsg.xml#4326\" xmlns:gml=\"http://www.opengis.net/gml\">\\n   <gml:outerBoundaryIs>\\n      <gml:LinearRing>\\n         <gml:coordinates>39.709957,-69.759323 40.102650,-72.673042 41.629379,-72.350098 41.237709,-69.368866 39.709957,-69.759323</gml:coordinates>\\n      </gml:LinearRing>\\n   </gml:outerBoundaryIs>\\n</gml:Polygon>',\n",
       "               'format': 'SAFE',\n",
       "               'identifier': 'S1B_IW_GRDH_1SDV_20170823T104839_20170823T104904_007066_00C72C_6916',\n",
       "               'instrumentshortname': 'SAR-C SAR',\n",
       "               'sensoroperationalmode': 'IW',\n",
       "               'instrumentname': 'Synthetic Aperture Radar (C-band)',\n",
       "               'swathidentifier': 'IW',\n",
       "               'footprint': 'POLYGON ((-69.759323 39.709957,-72.673042 40.102650,-72.350098 41.629379,-69.368866 41.237709,-69.759323 39.709957))',\n",
       "               'platformidentifier': '2016-025A',\n",
       "               'orbitdirection': 'DESCENDING',\n",
       "               'polarisationmode': 'VV VH',\n",
       "               'productclass': 'S',\n",
       "               'producttype': 'GRD',\n",
       "               'platformname': 'Sentinel-1',\n",
       "               'size': '1.6 GB',\n",
       "               'status': 'ARCHIVED',\n",
       "               'uuid': '24a6cea2-69a1-49af-872c-8653b47aa09d'}),\n",
       "             ('257259ca-74ac-43f2-8187-82f6e84140bf',\n",
       "              {'title': 'S1A_IW_GRDH_1SDV_20170811T224222_20170811T224247_017882_01DFCC_1FEB',\n",
       "               'link': \"https://scihub.copernicus.eu/dhus/odata/v1/Products('257259ca-74ac-43f2-8187-82f6e84140bf')/$value\",\n",
       "               'link_alternative': \"https://scihub.copernicus.eu/dhus/odata/v1/Products('257259ca-74ac-43f2-8187-82f6e84140bf')/\",\n",
       "               'link_icon': \"https://scihub.copernicus.eu/dhus/odata/v1/Products('257259ca-74ac-43f2-8187-82f6e84140bf')/Products('Quicklook')/$value\",\n",
       "               'summary': 'Date: 2017-08-11T22:42:22.725Z, Instrument: SAR-C SAR, Mode: VV VH, Satellite: Sentinel-1, Size: 1.61 GB',\n",
       "               'ondemand': 'false',\n",
       "               'ingestiondate': datetime.datetime(2017, 8, 12, 5, 12, 23, 557000),\n",
       "               'beginposition': datetime.datetime(2017, 8, 11, 22, 42, 22, 725000),\n",
       "               'endposition': datetime.datetime(2017, 8, 11, 22, 42, 47, 723000),\n",
       "               'missiondatatakeid': 122828,\n",
       "               'orbitnumber': 17882,\n",
       "               'lastorbitnumber': 17882,\n",
       "               'relativeorbitnumber': 135,\n",
       "               'lastrelativeorbitnumber': 135,\n",
       "               'slicenumber': 5,\n",
       "               'acquisitiontype': 'NOMINAL',\n",
       "               'filename': 'S1A_IW_GRDH_1SDV_20170811T224222_20170811T224247_017882_01DFCC_1FEB.SAFE',\n",
       "               'gmlfootprint': '<gml:Polygon srsName=\"http://www.opengis.net/gml/srs/epsg.xml#4326\" xmlns:gml=\"http://www.opengis.net/gml\">\\n   <gml:outerBoundaryIs>\\n      <gml:LinearRing>\\n         <gml:coordinates>40.464397,-73.115906 40.865849,-70.097809 39.365173,-69.783653 38.962524,-72.736305 40.464397,-73.115906</gml:coordinates>\\n      </gml:LinearRing>\\n   </gml:outerBoundaryIs>\\n</gml:Polygon>',\n",
       "               'format': 'SAFE',\n",
       "               'identifier': 'S1A_IW_GRDH_1SDV_20170811T224222_20170811T224247_017882_01DFCC_1FEB',\n",
       "               'instrumentshortname': 'SAR-C SAR',\n",
       "               'sensoroperationalmode': 'IW',\n",
       "               'instrumentname': 'Synthetic Aperture Radar (C-band)',\n",
       "               'swathidentifier': 'IW',\n",
       "               'footprint': 'POLYGON ((-73.115906 40.464397,-70.097809 40.865849,-69.783653 39.365173,-72.736305 38.962524,-73.115906 40.464397))',\n",
       "               'platformidentifier': '2014-016A',\n",
       "               'orbitdirection': 'ASCENDING',\n",
       "               'polarisationmode': 'VV VH',\n",
       "               'productclass': 'S',\n",
       "               'producttype': 'GRD',\n",
       "               'platformname': 'Sentinel-1',\n",
       "               'size': '1.61 GB',\n",
       "               'status': 'ARCHIVED',\n",
       "               'uuid': '257259ca-74ac-43f2-8187-82f6e84140bf'}),\n",
       "             ('f7ef3950-8289-4207-ab58-d18091bf751a',\n",
       "              {'title': 'S1A_IW_GRDH_1SDV_20170730T224222_20170730T224247_017707_01DA78_3B66',\n",
       "               'link': \"https://scihub.copernicus.eu/dhus/odata/v1/Products('f7ef3950-8289-4207-ab58-d18091bf751a')/$value\",\n",
       "               'link_alternative': \"https://scihub.copernicus.eu/dhus/odata/v1/Products('f7ef3950-8289-4207-ab58-d18091bf751a')/\",\n",
       "               'link_icon': \"https://scihub.copernicus.eu/dhus/odata/v1/Products('f7ef3950-8289-4207-ab58-d18091bf751a')/Products('Quicklook')/$value\",\n",
       "               'summary': 'Date: 2017-07-30T22:42:22.166Z, Instrument: SAR-C SAR, Mode: VV VH, Satellite: Sentinel-1, Size: 1.61 GB',\n",
       "               'ondemand': 'false',\n",
       "               'ingestiondate': datetime.datetime(2017, 7, 31, 4, 4, 30, 861000),\n",
       "               'beginposition': datetime.datetime(2017, 7, 30, 22, 42, 22, 166000),\n",
       "               'endposition': datetime.datetime(2017, 7, 30, 22, 42, 47, 165000),\n",
       "               'missiondatatakeid': 121464,\n",
       "               'orbitnumber': 17707,\n",
       "               'lastorbitnumber': 17707,\n",
       "               'relativeorbitnumber': 135,\n",
       "               'lastrelativeorbitnumber': 135,\n",
       "               'slicenumber': 5,\n",
       "               'acquisitiontype': 'NOMINAL',\n",
       "               'filename': 'S1A_IW_GRDH_1SDV_20170730T224222_20170730T224247_017707_01DA78_3B66.SAFE',\n",
       "               'gmlfootprint': '<gml:Polygon srsName=\"http://www.opengis.net/gml/srs/epsg.xml#4326\" xmlns:gml=\"http://www.opengis.net/gml\">\\n   <gml:outerBoundaryIs>\\n      <gml:LinearRing>\\n         <gml:coordinates>40.464390,-73.115997 40.865845,-70.097900 39.365170,-69.783737 38.962517,-72.736382 40.464390,-73.115997</gml:coordinates>\\n      </gml:LinearRing>\\n   </gml:outerBoundaryIs>\\n</gml:Polygon>',\n",
       "               'format': 'SAFE',\n",
       "               'identifier': 'S1A_IW_GRDH_1SDV_20170730T224222_20170730T224247_017707_01DA78_3B66',\n",
       "               'instrumentshortname': 'SAR-C SAR',\n",
       "               'sensoroperationalmode': 'IW',\n",
       "               'instrumentname': 'Synthetic Aperture Radar (C-band)',\n",
       "               'swathidentifier': 'IW',\n",
       "               'footprint': 'POLYGON ((-73.115997 40.464390,-70.097900 40.865845,-69.783737 39.365170,-72.736382 38.962517,-73.115997 40.464390))',\n",
       "               'platformidentifier': '2014-016A',\n",
       "               'orbitdirection': 'ASCENDING',\n",
       "               'polarisationmode': 'VV VH',\n",
       "               'productclass': 'S',\n",
       "               'producttype': 'GRD',\n",
       "               'platformname': 'Sentinel-1',\n",
       "               'size': '1.61 GB',\n",
       "               'status': 'ARCHIVED',\n",
       "               'uuid': 'f7ef3950-8289-4207-ab58-d18091bf751a'}),\n",
       "             ('23be2c5f-a7d1-4ec1-809e-6d795b28761c',\n",
       "              {'title': 'S1B_IW_GRDH_1SDV_20170730T104838_20170730T104903_006716_00BD05_1883',\n",
       "               'link': \"https://scihub.copernicus.eu/dhus/odata/v1/Products('23be2c5f-a7d1-4ec1-809e-6d795b28761c')/$value\",\n",
       "               'link_alternative': \"https://scihub.copernicus.eu/dhus/odata/v1/Products('23be2c5f-a7d1-4ec1-809e-6d795b28761c')/\",\n",
       "               'link_icon': \"https://scihub.copernicus.eu/dhus/odata/v1/Products('23be2c5f-a7d1-4ec1-809e-6d795b28761c')/Products('Quicklook')/$value\",\n",
       "               'summary': 'Date: 2017-07-30T10:48:38.056Z, Instrument: SAR-C SAR, Mode: VV VH, Satellite: Sentinel-1, Size: 1.6 GB',\n",
       "               'ondemand': 'false',\n",
       "               'ingestiondate': datetime.datetime(2017, 7, 30, 13, 42, 15, 180000),\n",
       "               'beginposition': datetime.datetime(2017, 7, 30, 10, 48, 38, 56000),\n",
       "               'endposition': datetime.datetime(2017, 7, 30, 10, 49, 3, 478000),\n",
       "               'missiondatatakeid': 48389,\n",
       "               'orbitnumber': 6716,\n",
       "               'lastorbitnumber': 6716,\n",
       "               'relativeorbitnumber': 40,\n",
       "               'lastrelativeorbitnumber': 40,\n",
       "               'slicenumber': 3,\n",
       "               'acquisitiontype': 'NOMINAL',\n",
       "               'filename': 'S1B_IW_GRDH_1SDV_20170730T104838_20170730T104903_006716_00BD05_1883.SAFE',\n",
       "               'gmlfootprint': '<gml:Polygon srsName=\"http://www.opengis.net/gml/srs/epsg.xml#4326\" xmlns:gml=\"http://www.opengis.net/gml\">\\n   <gml:outerBoundaryIs>\\n      <gml:LinearRing>\\n         <gml:coordinates>39.710701,-69.759155 40.103436,-72.673012 41.629356,-72.350227 41.237644,-69.368881 39.710701,-69.759155</gml:coordinates>\\n      </gml:LinearRing>\\n   </gml:outerBoundaryIs>\\n</gml:Polygon>',\n",
       "               'format': 'SAFE',\n",
       "               'identifier': 'S1B_IW_GRDH_1SDV_20170730T104838_20170730T104903_006716_00BD05_1883',\n",
       "               'instrumentshortname': 'SAR-C SAR',\n",
       "               'sensoroperationalmode': 'IW',\n",
       "               'instrumentname': 'Synthetic Aperture Radar (C-band)',\n",
       "               'swathidentifier': 'IW',\n",
       "               'footprint': 'POLYGON ((-69.759155 39.710701,-72.673012 40.103436,-72.350227 41.629356,-69.368881 41.237644,-69.759155 39.710701))',\n",
       "               'platformidentifier': '2016-025A',\n",
       "               'orbitdirection': 'DESCENDING',\n",
       "               'polarisationmode': 'VV VH',\n",
       "               'productclass': 'S',\n",
       "               'producttype': 'GRD',\n",
       "               'platformname': 'Sentinel-1',\n",
       "               'size': '1.6 GB',\n",
       "               'status': 'ARCHIVED',\n",
       "               'uuid': '23be2c5f-a7d1-4ec1-809e-6d795b28761c'}),\n",
       "             ('cc42efbf-02ed-4ad4-ad73-69725339da4a',\n",
       "              {'title': 'S1A_IW_GRDH_1SDV_20170718T224221_20170718T224246_017532_01D51F_B909',\n",
       "               'link': \"https://scihub.copernicus.eu/dhus/odata/v1/Products('cc42efbf-02ed-4ad4-ad73-69725339da4a')/$value\",\n",
       "               'link_alternative': \"https://scihub.copernicus.eu/dhus/odata/v1/Products('cc42efbf-02ed-4ad4-ad73-69725339da4a')/\",\n",
       "               'link_icon': \"https://scihub.copernicus.eu/dhus/odata/v1/Products('cc42efbf-02ed-4ad4-ad73-69725339da4a')/Products('Quicklook')/$value\",\n",
       "               'summary': 'Date: 2017-07-18T22:42:21.29Z, Instrument: SAR-C SAR, Mode: VV VH, Satellite: Sentinel-1, Size: 1.61 GB',\n",
       "               'ondemand': 'false',\n",
       "               'ingestiondate': datetime.datetime(2017, 7, 19, 3, 50, 12, 761000),\n",
       "               'beginposition': datetime.datetime(2017, 7, 18, 22, 42, 21, 290000),\n",
       "               'endposition': datetime.datetime(2017, 7, 18, 22, 42, 46, 289000),\n",
       "               'missiondatatakeid': 120095,\n",
       "               'orbitnumber': 17532,\n",
       "               'lastorbitnumber': 17532,\n",
       "               'relativeorbitnumber': 135,\n",
       "               'lastrelativeorbitnumber': 135,\n",
       "               'slicenumber': 5,\n",
       "               'acquisitiontype': 'NOMINAL',\n",
       "               'filename': 'S1A_IW_GRDH_1SDV_20170718T224221_20170718T224246_017532_01D51F_B909.SAFE',\n",
       "               'gmlfootprint': '<gml:Polygon srsName=\"http://www.opengis.net/gml/srs/epsg.xml#4326\" xmlns:gml=\"http://www.opengis.net/gml\">\\n   <gml:outerBoundaryIs>\\n      <gml:LinearRing>\\n         <gml:coordinates>40.464268,-73.115791 40.865738,-70.097702 39.365067,-69.783539 38.962391,-72.736176 40.464268,-73.115791</gml:coordinates>\\n      </gml:LinearRing>\\n   </gml:outerBoundaryIs>\\n</gml:Polygon>',\n",
       "               'format': 'SAFE',\n",
       "               'identifier': 'S1A_IW_GRDH_1SDV_20170718T224221_20170718T224246_017532_01D51F_B909',\n",
       "               'instrumentshortname': 'SAR-C SAR',\n",
       "               'sensoroperationalmode': 'IW',\n",
       "               'instrumentname': 'Synthetic Aperture Radar (C-band)',\n",
       "               'swathidentifier': 'IW',\n",
       "               'footprint': 'POLYGON ((-73.115791 40.464268,-70.097702 40.865738,-69.783539 39.365067,-72.736176 38.962391,-73.115791 40.464268))',\n",
       "               'platformidentifier': '2014-016A',\n",
       "               'orbitdirection': 'ASCENDING',\n",
       "               'polarisationmode': 'VV VH',\n",
       "               'productclass': 'S',\n",
       "               'producttype': 'GRD',\n",
       "               'platformname': 'Sentinel-1',\n",
       "               'size': '1.61 GB',\n",
       "               'status': 'ARCHIVED',\n",
       "               'uuid': 'cc42efbf-02ed-4ad4-ad73-69725339da4a'}),\n",
       "             ('a54c47ae-f211-4b0e-b6bf-b80b30443a9c',\n",
       "              {'title': 'S1B_IW_GRDH_1SDV_20170706T104836_20170706T104901_006366_00B2FE_7FF3',\n",
       "               'link': \"https://scihub.copernicus.eu/dhus/odata/v1/Products('a54c47ae-f211-4b0e-b6bf-b80b30443a9c')/$value\",\n",
       "               'link_alternative': \"https://scihub.copernicus.eu/dhus/odata/v1/Products('a54c47ae-f211-4b0e-b6bf-b80b30443a9c')/\",\n",
       "               'link_icon': \"https://scihub.copernicus.eu/dhus/odata/v1/Products('a54c47ae-f211-4b0e-b6bf-b80b30443a9c')/Products('Quicklook')/$value\",\n",
       "               'summary': 'Date: 2017-07-06T10:48:36.446Z, Instrument: SAR-C SAR, Mode: VV VH, Satellite: Sentinel-1, Size: 1.6 GB',\n",
       "               'ondemand': 'false',\n",
       "               'ingestiondate': datetime.datetime(2017, 7, 6, 13, 42, 7, 558000),\n",
       "               'beginposition': datetime.datetime(2017, 7, 6, 10, 48, 36, 446000),\n",
       "               'endposition': datetime.datetime(2017, 7, 6, 10, 49, 1, 867000),\n",
       "               'missiondatatakeid': 45822,\n",
       "               'orbitnumber': 6366,\n",
       "               'lastorbitnumber': 6366,\n",
       "               'relativeorbitnumber': 40,\n",
       "               'lastrelativeorbitnumber': 40,\n",
       "               'slicenumber': 3,\n",
       "               'acquisitiontype': 'NOMINAL',\n",
       "               'filename': 'S1B_IW_GRDH_1SDV_20170706T104836_20170706T104901_006366_00B2FE_7FF3.SAFE',\n",
       "               'gmlfootprint': '<gml:Polygon srsName=\"http://www.opengis.net/gml/srs/epsg.xml#4326\" xmlns:gml=\"http://www.opengis.net/gml\">\\n   <gml:outerBoundaryIs>\\n      <gml:LinearRing>\\n         <gml:coordinates>39.710926,-69.758995 40.103622,-72.672874 41.629456,-72.350143 41.237782,-69.368782 39.710926,-69.758995</gml:coordinates>\\n      </gml:LinearRing>\\n   </gml:outerBoundaryIs>\\n</gml:Polygon>',\n",
       "               'format': 'SAFE',\n",
       "               'identifier': 'S1B_IW_GRDH_1SDV_20170706T104836_20170706T104901_006366_00B2FE_7FF3',\n",
       "               'instrumentshortname': 'SAR-C SAR',\n",
       "               'sensoroperationalmode': 'IW',\n",
       "               'instrumentname': 'Synthetic Aperture Radar (C-band)',\n",
       "               'swathidentifier': 'IW',\n",
       "               'footprint': 'POLYGON ((-69.758995 39.710926,-72.672874 40.103622,-72.350143 41.629456,-69.368782 41.237782,-69.758995 39.710926))',\n",
       "               'platformidentifier': '2016-025A',\n",
       "               'orbitdirection': 'DESCENDING',\n",
       "               'polarisationmode': 'VV VH',\n",
       "               'productclass': 'S',\n",
       "               'producttype': 'GRD',\n",
       "               'platformname': 'Sentinel-1',\n",
       "               'size': '1.6 GB',\n",
       "               'status': 'ARCHIVED',\n",
       "               'uuid': 'a54c47ae-f211-4b0e-b6bf-b80b30443a9c'}),\n",
       "             ('138a79e4-c0a7-40dc-a757-81fef176d0b7',\n",
       "              {'title': 'S1A_IW_GRDH_1SDV_20170624T224220_20170624T224245_017182_01CA82_856D',\n",
       "               'link': \"https://scihub.copernicus.eu/dhus/odata/v1/Products('138a79e4-c0a7-40dc-a757-81fef176d0b7')/$value\",\n",
       "               'link_alternative': \"https://scihub.copernicus.eu/dhus/odata/v1/Products('138a79e4-c0a7-40dc-a757-81fef176d0b7')/\",\n",
       "               'link_icon': \"https://scihub.copernicus.eu/dhus/odata/v1/Products('138a79e4-c0a7-40dc-a757-81fef176d0b7')/Products('Quicklook')/$value\",\n",
       "               'summary': 'Date: 2017-06-24T22:42:20.089Z, Instrument: SAR-C SAR, Mode: VV VH, Satellite: Sentinel-1, Size: 1.61 GB',\n",
       "               'ondemand': 'false',\n",
       "               'ingestiondate': datetime.datetime(2017, 6, 25, 4, 2, 46, 957000),\n",
       "               'beginposition': datetime.datetime(2017, 6, 24, 22, 42, 20, 89000),\n",
       "               'endposition': datetime.datetime(2017, 6, 24, 22, 42, 45, 87000),\n",
       "               'missiondatatakeid': 117378,\n",
       "               'orbitnumber': 17182,\n",
       "               'lastorbitnumber': 17182,\n",
       "               'relativeorbitnumber': 135,\n",
       "               'lastrelativeorbitnumber': 135,\n",
       "               'slicenumber': 5,\n",
       "               'acquisitiontype': 'NOMINAL',\n",
       "               'filename': 'S1A_IW_GRDH_1SDV_20170624T224220_20170624T224245_017182_01CA82_856D.SAFE',\n",
       "               'gmlfootprint': '<gml:Polygon srsName=\"http://www.opengis.net/gml/srs/epsg.xml#4326\" xmlns:gml=\"http://www.opengis.net/gml\">\\n   <gml:outerBoundaryIs>\\n      <gml:LinearRing>\\n         <gml:coordinates>40.464363,-73.114784 40.865757,-70.096680 39.365078,-69.782570 38.962482,-72.735229 40.464363,-73.114784</gml:coordinates>\\n      </gml:LinearRing>\\n   </gml:outerBoundaryIs>\\n</gml:Polygon>',\n",
       "               'format': 'SAFE',\n",
       "               'identifier': 'S1A_IW_GRDH_1SDV_20170624T224220_20170624T224245_017182_01CA82_856D',\n",
       "               'instrumentshortname': 'SAR-C SAR',\n",
       "               'sensoroperationalmode': 'IW',\n",
       "               'instrumentname': 'Synthetic Aperture Radar (C-band)',\n",
       "               'swathidentifier': 'IW',\n",
       "               'footprint': 'POLYGON ((-73.114784 40.464363,-70.096680 40.865757,-69.782570 39.365078,-72.735229 38.962482,-73.114784 40.464363))',\n",
       "               'platformidentifier': '2014-016A',\n",
       "               'orbitdirection': 'ASCENDING',\n",
       "               'polarisationmode': 'VV VH',\n",
       "               'productclass': 'S',\n",
       "               'producttype': 'GRD',\n",
       "               'platformname': 'Sentinel-1',\n",
       "               'size': '1.61 GB',\n",
       "               'status': 'ARCHIVED',\n",
       "               'uuid': '138a79e4-c0a7-40dc-a757-81fef176d0b7'}),\n",
       "             ('eb114830-e564-4351-9afb-5f2d109a0dba',\n",
       "              {'title': 'S1A_IW_GRDH_1SDV_20170612T224219_20170612T224244_017007_01C52B_7624',\n",
       "               'link': \"https://scihub.copernicus.eu/dhus/odata/v1/Products('eb114830-e564-4351-9afb-5f2d109a0dba')/$value\",\n",
       "               'link_alternative': \"https://scihub.copernicus.eu/dhus/odata/v1/Products('eb114830-e564-4351-9afb-5f2d109a0dba')/\",\n",
       "               'link_icon': \"https://scihub.copernicus.eu/dhus/odata/v1/Products('eb114830-e564-4351-9afb-5f2d109a0dba')/Products('Quicklook')/$value\",\n",
       "               'summary': 'Date: 2017-06-12T22:42:19.348Z, Instrument: SAR-C SAR, Mode: VV VH, Satellite: Sentinel-1, Size: 1.61 GB',\n",
       "               'ondemand': 'false',\n",
       "               'ingestiondate': datetime.datetime(2017, 6, 13, 4, 0, 47, 710000),\n",
       "               'beginposition': datetime.datetime(2017, 6, 12, 22, 42, 19, 348000),\n",
       "               'endposition': datetime.datetime(2017, 6, 12, 22, 42, 44, 347000),\n",
       "               'missiondatatakeid': 116011,\n",
       "               'orbitnumber': 17007,\n",
       "               'lastorbitnumber': 17007,\n",
       "               'relativeorbitnumber': 135,\n",
       "               'lastrelativeorbitnumber': 135,\n",
       "               'slicenumber': 5,\n",
       "               'acquisitiontype': 'NOMINAL',\n",
       "               'filename': 'S1A_IW_GRDH_1SDV_20170612T224219_20170612T224244_017007_01C52B_7624.SAFE',\n",
       "               'gmlfootprint': '<gml:Polygon srsName=\"http://www.opengis.net/gml/srs/epsg.xml#4326\" xmlns:gml=\"http://www.opengis.net/gml\">\\n   <gml:outerBoundaryIs>\\n      <gml:LinearRing>\\n         <gml:coordinates>40.464268,-73.115517 40.865719,-70.097305 39.365044,-69.783165 38.962391,-72.735924 40.464268,-73.115517</gml:coordinates>\\n      </gml:LinearRing>\\n   </gml:outerBoundaryIs>\\n</gml:Polygon>',\n",
       "               'format': 'SAFE',\n",
       "               'identifier': 'S1A_IW_GRDH_1SDV_20170612T224219_20170612T224244_017007_01C52B_7624',\n",
       "               'instrumentshortname': 'SAR-C SAR',\n",
       "               'sensoroperationalmode': 'IW',\n",
       "               'instrumentname': 'Synthetic Aperture Radar (C-band)',\n",
       "               'swathidentifier': 'IW',\n",
       "               'footprint': 'POLYGON ((-73.115517 40.464268,-70.097305 40.865719,-69.783165 39.365044,-72.735924 38.962391,-73.115517 40.464268))',\n",
       "               'platformidentifier': '2014-016A',\n",
       "               'orbitdirection': 'ASCENDING',\n",
       "               'polarisationmode': 'VV VH',\n",
       "               'productclass': 'S',\n",
       "               'producttype': 'GRD',\n",
       "               'platformname': 'Sentinel-1',\n",
       "               'size': '1.61 GB',\n",
       "               'status': 'ARCHIVED',\n",
       "               'uuid': 'eb114830-e564-4351-9afb-5f2d109a0dba'}),\n",
       "             ('54ebf099-d5ff-495e-ac7e-3598b2954512',\n",
       "              {'title': 'S1B_IW_GRDH_1SDV_20170612T104835_20170612T104900_006016_00A8F4_F976',\n",
       "               'link': \"https://scihub.copernicus.eu/dhus/odata/v1/Products('54ebf099-d5ff-495e-ac7e-3598b2954512')/$value\",\n",
       "               'link_alternative': \"https://scihub.copernicus.eu/dhus/odata/v1/Products('54ebf099-d5ff-495e-ac7e-3598b2954512')/\",\n",
       "               'link_icon': \"https://scihub.copernicus.eu/dhus/odata/v1/Products('54ebf099-d5ff-495e-ac7e-3598b2954512')/Products('Quicklook')/$value\",\n",
       "               'summary': 'Date: 2017-06-12T10:48:35.322Z, Instrument: SAR-C SAR, Mode: VV VH, Satellite: Sentinel-1, Size: 1.6 GB',\n",
       "               'ondemand': 'false',\n",
       "               'ingestiondate': datetime.datetime(2017, 6, 12, 13, 44, 17, 567000),\n",
       "               'beginposition': datetime.datetime(2017, 6, 12, 10, 48, 35, 322000),\n",
       "               'endposition': datetime.datetime(2017, 6, 12, 10, 49, 0, 740000),\n",
       "               'missiondatatakeid': 43252,\n",
       "               'orbitnumber': 6016,\n",
       "               'lastorbitnumber': 6016,\n",
       "               'relativeorbitnumber': 40,\n",
       "               'lastrelativeorbitnumber': 40,\n",
       "               'slicenumber': 3,\n",
       "               'acquisitiontype': 'NOMINAL',\n",
       "               'filename': 'S1B_IW_GRDH_1SDV_20170612T104835_20170612T104900_006016_00A8F4_F976.SAFE',\n",
       "               'gmlfootprint': '<gml:Polygon srsName=\"http://www.opengis.net/gml/srs/epsg.xml#4326\" xmlns:gml=\"http://www.opengis.net/gml\">\\n   <gml:outerBoundaryIs>\\n      <gml:LinearRing>\\n         <gml:coordinates>39.711079,-69.759834 40.103783,-72.673714 41.629436,-72.351006 41.237751,-69.369652 39.711079,-69.759834</gml:coordinates>\\n      </gml:LinearRing>\\n   </gml:outerBoundaryIs>\\n</gml:Polygon>',\n",
       "               'format': 'SAFE',\n",
       "               'identifier': 'S1B_IW_GRDH_1SDV_20170612T104835_20170612T104900_006016_00A8F4_F976',\n",
       "               'instrumentshortname': 'SAR-C SAR',\n",
       "               'sensoroperationalmode': 'IW',\n",
       "               'instrumentname': 'Synthetic Aperture Radar (C-band)',\n",
       "               'swathidentifier': 'IW',\n",
       "               'footprint': 'POLYGON ((-69.759834 39.711079,-72.673714 40.103783,-72.351006 41.629436,-69.369652 41.237751,-69.759834 39.711079))',\n",
       "               'platformidentifier': '2016-025A',\n",
       "               'orbitdirection': 'DESCENDING',\n",
       "               'polarisationmode': 'VV VH',\n",
       "               'productclass': 'S',\n",
       "               'producttype': 'GRD',\n",
       "               'platformname': 'Sentinel-1',\n",
       "               'size': '1.6 GB',\n",
       "               'status': 'ARCHIVED',\n",
       "               'uuid': '54ebf099-d5ff-495e-ac7e-3598b2954512'})])"
      ]
     },
     "execution_count": 46,
     "metadata": {},
     "output_type": "execute_result"
    }
   ],
   "source": [
    "in_situ_obs['Pioneer_7']['products']"
   ]
  },
  {
   "cell_type": "code",
   "execution_count": 47,
   "id": "aac2ca09-4c05-47a7-8b27-e5058ad198d0",
   "metadata": {
    "scrolled": true,
    "tags": []
   },
   "outputs": [
    {
     "name": "stdout",
     "output_type": "stream",
     "text": [
      "----------------------------------------\n",
      "/lustre/storeB/project/IT/geout/machine-ocean/data_raw/sentinel/S1A_IW_GRDH_1SDV_20171022T224224_20171022T224249_018932_01FFE8_5D27.SAFE----------------------------------------\n",
      "Mapper: sentinel1_l1Band : 1 DN_VH\n",
      "  dataType: 2\n",
      "  name: DN_VH\n",
      "  SourceBand: 1\n",
      "  SourceFilename: /lustre/storeB/project/IT/geout/machine-ocean/data_raw/sentinel/S1A_IW_GRDH_1SDV_20171022T224224_20171022T224249_018932_01FFE8_5D27.SAFE/measurement/s1a-iw-grd-vh-20171022t224224-20171022t224249-018932-01ffe8-002.tiff\n",
      "Band : 2 DN_VV\n",
      "  dataType: 2\n",
      "  name: DN_VV\n",
      "  SourceBand: 1\n",
      "  SourceFilename: /lustre/storeB/project/IT/geout/machine-ocean/data_raw/sentinel/S1A_IW_GRDH_1SDV_20171022T224224_20171022T224249_018932_01FFE8_5D27.SAFE/measurement/s1a-iw-grd-vv-20171022t224224-20171022t224249-018932-01ffe8-001.tiff\n",
      "Band : 3 sigmaNought_VH\n",
      "  dataType: 7\n",
      "  name: sigmaNought_VH\n",
      "  SourceBand: 1\n",
      "  SourceFilename: /vsimem/4DC6RZOZNW.vrt\n",
      "Band : 4 noise_VH\n",
      "  dataType: 7\n",
      "  name: noise_VH\n",
      "  SourceBand: 1\n",
      "  SourceFilename: /vsimem/OGB6LFX2FT.vrt\n",
      "Band : 5 sigmaNought_VV\n",
      "  dataType: 7\n",
      "  name: sigmaNought_VV\n",
      "  SourceBand: 1\n",
      "  SourceFilename: /vsimem/6ARAEPGELQ.vrt\n",
      "Band : 6 noise_VV\n",
      "  dataType: 7\n",
      "  name: noise_VV\n",
      "  SourceBand: 1\n",
      "  SourceFilename: /vsimem/9T1NOWEID2.vrt\n",
      "Band : 7 look_direction\n",
      "  colormap: jet\n",
      "  dataType: 6\n",
      "  long_name: Sensor Azimuth Angle\n",
      "  minmax: 0 360\n",
      "  name: look_direction\n",
      "  short_name: sensor_azimuth\n",
      "  SourceBand: 1\n",
      "  SourceFilename: /vsimem/8TRMZRM9SP.vrt\n",
      "  standard_name: sensor_azimuth_angle\n",
      "  units: degrees\n",
      "  wkv: sensor_azimuth_angle\n",
      "Band : 8 sigma0_VH\n",
      "  colormap: gray\n",
      "  dataType: 6\n",
      "  long_name: Normalized Radar Cross Section\n",
      "  minmax: 0 0.1\n",
      "  name: sigma0_VH\n",
      "  PixelFunctionType: Sentinel1Calibration\n",
      "  polarization: VH\n",
      "  short_name: sigma0\n",
      "  SourceBand: 1\n",
      "  SourceFilename: /vsimem/6GXQAV6258.vrt\n",
      "  standard_name: surface_backwards_scattering_coefficient_of_radar_wave\n",
      "  suffix: VH\n",
      "  units: m/m\n",
      "  wkv: surface_backwards_scattering_coefficient_of_radar_wave\n",
      "Band : 9 beta0_VH\n",
      "  colormap: gray\n",
      "  dataType: 6\n",
      "  long_name: Reflectivity per unit area in slant range\n",
      "  minmax: 0 0.1\n",
      "  name: beta0_VH\n",
      "  PixelFunctionType: Sentinel1Calibration\n",
      "  polarization: VH\n",
      "  short_name: beta0\n",
      "  SourceBand: 1\n",
      "  SourceFilename: /vsimem/6GXQAV6258.vrt\n",
      "  standard_name: surface_backwards_brightness_coefficient_of_radar_wave\n",
      "  suffix: VH\n",
      "  units: m/m\n",
      "  wkv: surface_backwards_brightness_coefficient_of_radar_wave\n",
      "Band : 10 sigma0_VV\n",
      "  colormap: gray\n",
      "  dataType: 6\n",
      "  long_name: Normalized Radar Cross Section\n",
      "  minmax: 0 0.1\n",
      "  name: sigma0_VV\n",
      "  PixelFunctionType: Sentinel1Calibration\n",
      "  polarization: VV\n",
      "  short_name: sigma0\n",
      "  SourceBand: 2\n",
      "  SourceFilename: /vsimem/6GXQAV6258.vrt\n",
      "  standard_name: surface_backwards_scattering_coefficient_of_radar_wave\n",
      "  suffix: VV\n",
      "  units: m/m\n",
      "  wkv: surface_backwards_scattering_coefficient_of_radar_wave\n",
      "Band : 11 beta0_VV\n",
      "  colormap: gray\n",
      "  dataType: 6\n",
      "  long_name: Reflectivity per unit area in slant range\n",
      "  minmax: 0 0.1\n",
      "  name: beta0_VV\n",
      "  PixelFunctionType: Sentinel1Calibration\n",
      "  polarization: VV\n",
      "  short_name: beta0\n",
      "  SourceBand: 2\n",
      "  SourceFilename: /vsimem/6GXQAV6258.vrt\n",
      "  standard_name: surface_backwards_brightness_coefficient_of_radar_wave\n",
      "  suffix: VV\n",
      "  units: m/m\n",
      "  wkv: surface_backwards_brightness_coefficient_of_radar_wave\n",
      "Band : 12 incidence_angle\n",
      "  colormap: jet\n",
      "  dataType: 7\n",
      "  long_name: Incidence Angle\n",
      "  minmax: 0 90\n",
      "  name: incidence_angle\n",
      "  short_name: incidence_angle\n",
      "  SourceBand: 1\n",
      "  SourceFilename: /vsimem/JWAIVIXHOS.vrt\n",
      "  standard_name: angle_of_incidence\n",
      "  units: degrees\n",
      "  wkv: angle_of_incidence\n",
      "Band : 13 elevation_angle\n",
      "  dataType: 7\n",
      "  name: elevation_angle\n",
      "  SourceBand: 1\n",
      "  SourceFilename: /vsimem/8OPCDKUB2V.vrt\n",
      "  wkv: angle_of_elevation\n",
      "----------------------------------------\n",
      "Domain:[25911 x 16701]\n",
      "----------------------------------------\n",
      "Projection(gcps):\n",
      "GEOGCS[\"WGS 84\",\n",
      "    DATUM[\"WGS_1984\",\n",
      "        SPHEROID[\"WGS 84\",6378137,298.257223563]],\n",
      "    PRIMEM[\"Greenwich\",0],\n",
      "    UNIT[\"degree\",0.0174532925199433]]\n",
      "----------------------------------------\n",
      "Corners (lon, lat):\n",
      "\t (-72.74,  38.96)  (-69.78,  39.36)\n",
      "\t (-73.12,  40.46)  (-70.10,  40.87)\n",
      "\n"
     ]
    }
   ],
   "source": [
    "# (might have to compile some code in Nansat, see warning when importing from nansat)\n",
    "# (in nansat root dir: python setup.py build_ext --inplace)\n",
    "\n",
    "# Install nansat dependency (not found in conda env production-10-2022)\n",
    "#%pip install --user pythesint\n",
    "\n",
    "# if you are running on you own laptop you will also need to do:\n",
    "#!sudo apt-get install libgdal-dev\n",
    "#!pip install --user GDAL==$(gdal-config --version | awk -F'[.]' '{print $1\".\"$2}')\n",
    "\n",
    "# list a SAR product with Nansat\n",
    "n = Nansat(data_dir + \"S1A_IW_GRDH_1SDV_20171022T224224_20171022T224249_018932_01FFE8_5D27.SAFE\")\n",
    "print(n)\n",
    "\n"
   ]
  },
  {
   "cell_type": "code",
   "execution_count": 48,
   "id": "51e4bc46-2d17-4f8e-8f57-0268df0cfc20",
   "metadata": {
    "scrolled": true,
    "tags": []
   },
   "outputs": [
    {
     "name": "stdout",
     "output_type": "stream",
     "text": [
      "Variable           Type              Data/Info\n",
      "----------------------------------------------\n",
      "Nansat             type              <class 'nansat.nansat.Nansat'>\n",
      "SentinelAPI        type              <class 'sentinelsat.sentinel.SentinelAPI'>\n",
      "api                SentinelAPI       <sentinelsat.sentinel.Sen<...>object at 0x146771a13a30>\n",
      "az                 ndarray           9x9: 81 elems, type `float32`, 324 bytes\n",
      "b1                 ndarray           16701x25911: 432739611 elems, type `uint16`, 865479222 bytes (825.3853054046631 Mb)\n",
      "data_dir           str               /lustre/storeB/project/IT<...>-ocean/data_raw/sentinel/\n",
      "datetime           module            <module 'datetime' from '<...>b/python3.9/datetime.py'>\n",
      "epsilon            float             0.05\n",
      "extent             tuple             n=4\n",
      "fname              str               S1A_IW_GRDH_1SDV_20160918<...>8_013108_014CE4_9241.SAFE\n",
      "fname2             str               S1A_IW_GRDH_1SDV_20160913<...>5_013035_014A71_1F7E.SAFE\n",
      "geojson_to_wkt     function          <function geojson_to_wkt at 0x14673faf45e0>\n",
      "grid_lats          ndarray           9x9: 81 elems, type `float64`, 648 bytes\n",
      "grid_lons          ndarray           9x9: 81 elems, type `float64`, 648 bytes\n",
      "handle             BufferedReader    <_io.BufferedReader name=<...>/products_scihub.pickle'>\n",
      "in_situ_dict       module            <module 'in_situ_dict' fr<...>a_files/in_situ_dict.py'>\n",
      "in_situ_obs        dict              n=18\n",
      "inc                ndarray           9x9: 81 elems, type `float64`, 648 bytes\n",
      "lat                float64           44.6393\n",
      "latlim             list              n=2\n",
      "lats               ndarray           4: 4 elems, type `float64`, 32 bytes\n",
      "local_api          SentinelAPI       <sentinelsat.sentinel.Sen<...>object at 0x146771a13520>\n",
      "lon                float64           -124.304\n",
      "lonlim             list              n=2\n",
      "lons               ndarray           4: 4 elems, type `float64`, 32 bytes\n",
      "make_path_filter   function          <function make_path_filter at 0x14673faf4d30>\n",
      "n                  Nansat            -------------------------<...>0.46)  (-70.10,  40.87)\\n\n",
      "n2                 Nansat            -------------------------<...>.58)  (-124.38,  44.59)\\n\n",
      "n_pixels           int               9\n",
      "os                 module            <module 'os' from '/modul<...>022/lib/python3.9/os.py'>\n",
      "pickle             module            <module 'pickle' from '/m<...>lib/python3.9/pickle.py'>\n",
      "plt                module            <module 'matplotlib.pyplo<...>es/matplotlib/pyplot.py'>\n",
      "pol                str               VV\n",
      "products_scihub    dict              n=1054\n",
      "pytz               module            <module 'pytz' from '/mod<...>ckages/pytz/__init__.py'>\n",
      "read_geojson       function          <function read_geojson at 0x14673fc9a4c0>\n",
      "s0                 ndarray           9x9: 81 elems, type `float32`, 324 bytes\n",
      "s0_norm            ndarray           9x9: 81 elems, type `float64`, 648 bytes\n",
      "sar                module            <module 'sar' from '/home<...>on/whoi/../../../sar.py'>\n",
      "sys                module            <module 'sys' (built-in)>\n",
      "time               module            <module 'time' (built-in)>\n",
      "utc_timezone       UTC               UTC\n",
      "wd                 str               /home/paulinast/repos/git<...>on_and_normalization/whoi\n"
     ]
    },
    {
     "data": {
      "image/png": "[encoded data removed]",
      "text/plain": [
       "<Figure size 640x480 with 2 Axes>"
      ]
     },
     "metadata": {},
     "output_type": "display_data"
    }
   ],
   "source": [
    "%matplotlib inline\n",
    "# plot a SAR product with Nansat\n",
    "b1 = n[1]\n",
    "\n",
    "%whos\n",
    "plt.imshow(b1);plt.colorbar()\n",
    "plt.show()\n",
    "\n",
    "# write to file\n",
    "#n.write_figure('map.png', pltshow=True)"
   ]
  },
  {
   "cell_type": "code",
   "execution_count": 11,
   "id": "7b82b9a7-4a4a-4a76-8160-90fe58a8ca93",
   "metadata": {},
   "outputs": [
    {
     "data": {
      "text/plain": [
       "942"
      ]
     },
     "execution_count": 11,
     "metadata": {},
     "output_type": "execute_result"
    }
   ],
   "source": [
    "b1.max()"
   ]
  },
  {
   "cell_type": "code",
   "execution_count": 49,
   "id": "8a3df885-d405-4411-bd73-e48aa070fde3",
   "metadata": {
    "scrolled": true,
    "tags": []
   },
   "outputs": [
    {
     "data": {
      "text/plain": [
       "----------------------------------------\n",
       "/lustre/storeB/project/IT/geout/machine-ocean/data_raw/sentinel/S1A_IW_GRDH_1SDV_20171022T224224_20171022T224249_018932_01FFE8_5D27.SAFE----------------------------------------\n",
       "Mapper: sentinel1_l1Band : 1 DN_VH\n",
       "  dataType: 2\n",
       "  name: DN_VH\n",
       "  SourceBand: 1\n",
       "  SourceFilename: /vsimem/JLVOSIVE6E.vrt\n",
       "Band : 2 DN_VV\n",
       "  dataType: 2\n",
       "  name: DN_VV\n",
       "  SourceBand: 2\n",
       "  SourceFilename: /vsimem/JLVOSIVE6E.vrt\n",
       "Band : 3 sigmaNought_VH\n",
       "  dataType: 7\n",
       "  name: sigmaNought_VH\n",
       "  SourceBand: 3\n",
       "  SourceFilename: /vsimem/JLVOSIVE6E.vrt\n",
       "Band : 4 noise_VH\n",
       "  dataType: 7\n",
       "  name: noise_VH\n",
       "  SourceBand: 4\n",
       "  SourceFilename: /vsimem/JLVOSIVE6E.vrt\n",
       "Band : 5 sigmaNought_VV\n",
       "  dataType: 7\n",
       "  name: sigmaNought_VV\n",
       "  SourceBand: 5\n",
       "  SourceFilename: /vsimem/JLVOSIVE6E.vrt\n",
       "Band : 6 noise_VV\n",
       "  dataType: 7\n",
       "  name: noise_VV\n",
       "  SourceBand: 6\n",
       "  SourceFilename: /vsimem/JLVOSIVE6E.vrt\n",
       "Band : 7 look_direction\n",
       "  colormap: jet\n",
       "  dataType: 6\n",
       "  long_name: Sensor Azimuth Angle\n",
       "  minmax: 0 360\n",
       "  name: look_direction\n",
       "  short_name: sensor_azimuth\n",
       "  SourceBand: 7\n",
       "  SourceFilename: /vsimem/JLVOSIVE6E.vrt\n",
       "  standard_name: sensor_azimuth_angle\n",
       "  units: degrees\n",
       "  wkv: sensor_azimuth_angle\n",
       "Band : 8 sigma0_VH\n",
       "  colormap: gray\n",
       "  dataType: 6\n",
       "  long_name: Normalized Radar Cross Section\n",
       "  minmax: 0 0.1\n",
       "  name: sigma0_VH\n",
       "  polarization: VH\n",
       "  short_name: sigma0\n",
       "  SourceBand: 8\n",
       "  SourceFilename: /vsimem/JLVOSIVE6E.vrt\n",
       "  standard_name: surface_backwards_scattering_coefficient_of_radar_wave\n",
       "  suffix: VH\n",
       "  units: m/m\n",
       "  wkv: surface_backwards_scattering_coefficient_of_radar_wave\n",
       "Band : 9 beta0_VH\n",
       "  colormap: gray\n",
       "  dataType: 6\n",
       "  long_name: Reflectivity per unit area in slant range\n",
       "  minmax: 0 0.1\n",
       "  name: beta0_VH\n",
       "  polarization: VH\n",
       "  short_name: beta0\n",
       "  SourceBand: 9\n",
       "  SourceFilename: /vsimem/JLVOSIVE6E.vrt\n",
       "  standard_name: surface_backwards_brightness_coefficient_of_radar_wave\n",
       "  suffix: VH\n",
       "  units: m/m\n",
       "  wkv: surface_backwards_brightness_coefficient_of_radar_wave\n",
       "Band : 10 sigma0_VV\n",
       "  colormap: gray\n",
       "  dataType: 6\n",
       "  long_name: Normalized Radar Cross Section\n",
       "  minmax: 0 0.1\n",
       "  name: sigma0_VV\n",
       "  polarization: VV\n",
       "  short_name: sigma0\n",
       "  SourceBand: 10\n",
       "  SourceFilename: /vsimem/JLVOSIVE6E.vrt\n",
       "  standard_name: surface_backwards_scattering_coefficient_of_radar_wave\n",
       "  suffix: VV\n",
       "  units: m/m\n",
       "  wkv: surface_backwards_scattering_coefficient_of_radar_wave\n",
       "Band : 11 beta0_VV\n",
       "  colormap: gray\n",
       "  dataType: 6\n",
       "  long_name: Reflectivity per unit area in slant range\n",
       "  minmax: 0 0.1\n",
       "  name: beta0_VV\n",
       "  polarization: VV\n",
       "  short_name: beta0\n",
       "  SourceBand: 11\n",
       "  SourceFilename: /vsimem/JLVOSIVE6E.vrt\n",
       "  standard_name: surface_backwards_brightness_coefficient_of_radar_wave\n",
       "  suffix: VV\n",
       "  units: m/m\n",
       "  wkv: surface_backwards_brightness_coefficient_of_radar_wave\n",
       "Band : 12 incidence_angle\n",
       "  colormap: jet\n",
       "  dataType: 7\n",
       "  long_name: Incidence Angle\n",
       "  minmax: 0 90\n",
       "  name: incidence_angle\n",
       "  short_name: incidence_angle\n",
       "  SourceBand: 12\n",
       "  SourceFilename: /vsimem/JLVOSIVE6E.vrt\n",
       "  standard_name: angle_of_incidence\n",
       "  units: degrees\n",
       "  wkv: angle_of_incidence\n",
       "Band : 13 elevation_angle\n",
       "  dataType: 7\n",
       "  name: elevation_angle\n",
       "  SourceBand: 13\n",
       "  SourceFilename: /vsimem/JLVOSIVE6E.vrt\n",
       "  wkv: angle_of_elevation\n",
       "----------------------------------------\n",
       "Domain:[10 x 12]\n",
       "----------------------------------------\n",
       "Projection(gcps):\n",
       "GEOGCS[\"WGS 84\",\n",
       "    DATUM[\"WGS_1984\",\n",
       "        SPHEROID[\"WGS 84\",6378137,298.257223563]],\n",
       "    PRIMEM[\"Greenwich\",0],\n",
       "    UNIT[\"degree\",0.0174532925199433]]\n",
       "----------------------------------------\n",
       "Corners (lon, lat):\n",
       "\t (-70.78,  40.13)  (-70.78,  40.13)\n",
       "\t (-70.78,  40.13)  (-70.78,  40.13)"
      ]
     },
     "execution_count": 49,
     "metadata": {},
     "output_type": "execute_result"
    }
   ],
   "source": [
    "#extent = n.crop_lonlat(lonlim=[-70.77,-70.78], latlim=[40.13,40.14]) \n",
    "epsilon =  0.0005\n",
    "n.crop_lonlat(lonlim=[-70.7785 - epsilon, -70.7785 + epsilon], latlim=[40.1334 - epsilon, 40.1334 + epsilon])\n",
    "n\n",
    "#'lat': [40.1334],\n",
    "#'lon': [-70.7785]"
   ]
  },
  {
   "cell_type": "code",
   "execution_count": 50,
   "id": "0d77c4f7-8ea2-4952-ae25-05a96fcc16ee",
   "metadata": {},
   "outputs": [
    {
     "data": {
      "text/plain": [
       "'VV'"
      ]
     },
     "execution_count": 50,
     "metadata": {},
     "output_type": "execute_result"
    }
   ],
   "source": [
    "try:\n",
    "    band_no = n.get_band_number({\n",
    "        'standard_name': 'surface_backwards_scattering_coefficient_of_radar_wave',\n",
    "        'polarization': 'HH',\n",
    "        'dataType': '6',})\n",
    "except ValueError:\n",
    "    band_no = n.get_band_number({\n",
    "        'standard_name': 'surface_backwards_scattering_coefficient_of_radar_wave',\n",
    "        'polarization': 'VV',\n",
    "        'dataType': '6',})\n",
    "pol = n.get_metadata(key='polarization', band_id=band_no)\n",
    "pol"
   ]
  },
  {
   "cell_type": "code",
   "execution_count": 51,
   "id": "7fe3deb0-4e81-4373-a310-502827c54b5e",
   "metadata": {},
   "outputs": [],
   "source": [
    "# Get NRCS, incidence angle, and sensor azimuth angle\n",
    "s0 = n[band_no]\n",
    "inc = n['incidence_angle']\n",
    "az = n['look_direction']"
   ]
  },
  {
   "cell_type": "markdown",
   "id": "6cc426b5-e267-46f3-a61a-c6c74a3d769d",
   "metadata": {
    "tags": []
   },
   "source": [
    "# Test the normalization function with different crop sizes"
   ]
  },
  {
   "cell_type": "code",
   "execution_count": 15,
   "id": "d72a9cab-ffcd-4b55-8cb9-66d96c40fb00",
   "metadata": {},
   "outputs": [],
   "source": [
    "station_lon = -70.7785\n",
    "station_lat = 40.1334"
   ]
  },
  {
   "cell_type": "markdown",
   "id": "11fa3c94-ff5f-4b1d-9522-fe50d543d93f",
   "metadata": {},
   "source": [
    "## epsilon = 0.00005"
   ]
  },
  {
   "cell_type": "code",
   "execution_count": 16,
   "id": "90a9e354-2bfc-461e-803d-b7b6198654cb",
   "metadata": {},
   "outputs": [
    {
     "name": "stdout",
     "output_type": "stream",
     "text": [
      "CPU times: user 513 ms, sys: 30.3 ms, total: 543 ms\n",
      "Wall time: 563 ms\n"
     ]
    }
   ],
   "source": [
    "%%time\n",
    "\n",
    "# plot a normalize SAR product\n",
    "\n",
    "# this is VERY memory consuming. I ran this on PPI with: qlogin -q bigmem-r8.q -pe mpi 32\n",
    "# bigmem-r8.q queue is pretty busy... this may also run with: qlogin -q research-r8.q (but I have not tested it.. might have to tune mem)\n",
    "\n",
    "s0, s0_norm, inc, az, grid_lons, grid_lats, pol = sar.sar_params(\n",
    "    data_dir + \"S1A_IW_GRDH_1SDV_20171022T224224_20171022T224249_018932_01FFE8_5D27.SAFE\",\n",
    "    station_lon=station_lon,\n",
    "    station_lat=station_lat,\n",
    "    epsilon=0.00005\n",
    ")"
   ]
  },
  {
   "cell_type": "code",
   "execution_count": 17,
   "id": "48e5719b-2966-4a1c-b303-cd54bd1c34a0",
   "metadata": {},
   "outputs": [
    {
     "data": {
      "text/plain": [
       "array([[-31.700638]], dtype=float32)"
      ]
     },
     "execution_count": 17,
     "metadata": {},
     "output_type": "execute_result"
    }
   ],
   "source": [
    "s0"
   ]
  },
  {
   "cell_type": "markdown",
   "id": "70c2e052-3ef5-4946-a8ef-44263939bf77",
   "metadata": {},
   "source": [
    "## epsilon = 0.0005"
   ]
  },
  {
   "cell_type": "code",
   "execution_count": 18,
   "id": "bd49153b-3fbe-4aa8-b07b-6af81331098b",
   "metadata": {},
   "outputs": [
    {
     "name": "stdout",
     "output_type": "stream",
     "text": [
      "CPU times: user 558 ms, sys: 11.2 ms, total: 569 ms\n",
      "Wall time: 586 ms\n"
     ]
    }
   ],
   "source": [
    "%%time\n",
    "\n",
    "sys.path.append(\"..\")\n",
    "import sar\n",
    "\n",
    "# plot a normalize SAR product\n",
    "\n",
    "# this is VERY memory consuming. I ran this on PPI with: qlogin -q bigmem-r8.q -pe mpi 32\n",
    "# bigmem-r8.q queue is pretty busy... this may also run with: qlogin -q research-r8.q (but I have not tested it.. might have to tune mem)\n",
    "\n",
    "s0, s0_norm, inc, az, grid_lons, grid_lats, pol = sar.sar_params(\n",
    "    data_dir + \"S1A_IW_GRDH_1SDV_20171022T224224_20171022T224249_018932_01FFE8_5D27.SAFE\",\n",
    "    station_lon=station_lon,\n",
    "    station_lat=station_lat,\n",
    "    epsilon=0.0005\n",
    ")"
   ]
  },
  {
   "cell_type": "code",
   "execution_count": 19,
   "id": "4b1e46e7-43af-41eb-99a9-85797dad0f7d",
   "metadata": {},
   "outputs": [
    {
     "data": {
      "text/plain": [
       "array([[-27.61842 , -28.778214, -29.647482, -27.987953, -29.64739 ,\n",
       "        -32.94355 , -37.160572, -33.638702, -30.6133  , -30.116785],\n",
       "       [-27.263847, -27.263802, -27.263754, -27.618284, -27.263662,\n",
       "        -26.279257, -26.922903, -29.647253, -30.6133  , -31.139833],\n",
       "       [-30.117197, -27.988043, -30.117104, -31.140108, -25.680037,\n",
       "        -23.626745, -24.592793, -27.618101, -27.618055, -26.922768],\n",
       "       [-29.647575, -28.374147, -30.117104, -28.374054, -27.618237,\n",
       "        -26.595142, -27.263569, -27.618101, -25.395046, -24.340874],\n",
       "       [-29.202045, -28.778214, -27.263754, -26.595232, -29.201862,\n",
       "        -32.94355 , -31.139969, -27.263525, -25.97432 , -26.279072],\n",
       "       [-31.70082 , -34.394745, -30.117104, -28.778122, -28.374008,\n",
       "        -32.299854, -32.943504, -27.263525, -27.987724, -31.700409],\n",
       "       [-28.374193, -30.613623, -30.613575, -31.140108, -31.700638,\n",
       "        -31.700592, -29.20177 , -26.595049, -26.922813, -29.647161],\n",
       "       [-30.117197, -29.202002, -31.140156, -31.140108, -30.117012,\n",
       "        -29.201817, -27.618145, -27.618101, -26.922813, -26.279072],\n",
       "       [-33.639023, -29.64753 , -27.987997, -26.923042, -27.987904,\n",
       "        -28.77803 , -28.777985, -30.116875, -28.373825, -26.59496 ],\n",
       "       [-32.94378 , -29.202002, -27.987997, -28.778122, -28.778076,\n",
       "        -31.700592, -32.29981 , -29.201727, -29.647207, -30.116785],\n",
       "       [-31.140247, -31.140202, -31.140156, -32.94364 , -31.140062,\n",
       "        -29.647346, -27.618145, -27.263525, -28.373825, -29.201633],\n",
       "       [-27.98809 , -27.618374, -26.923086, -27.263708, -28.778076,\n",
       "        -29.647346, -28.777985, -27.618101, -27.618055, -29.647161]],\n",
       "      dtype=float32)"
      ]
     },
     "execution_count": 19,
     "metadata": {},
     "output_type": "execute_result"
    }
   ],
   "source": [
    "s0"
   ]
  },
  {
   "cell_type": "code",
   "execution_count": 20,
   "id": "0eb2dcb2-a2cc-4213-92aa-792f9058e708",
   "metadata": {},
   "outputs": [
    {
     "ename": "NameError",
     "evalue": "name 'lon' is not defined",
     "output_type": "error",
     "traceback": [
      "\u001b[0;31m---------------------------------------------------------------------------\u001b[0m",
      "\u001b[0;31mNameError\u001b[0m                                 Traceback (most recent call last)",
      "Cell \u001b[0;32mIn [20], line 1\u001b[0m\n\u001b[0;32m----> 1\u001b[0m lon\u001b[38;5;241m.\u001b[39mshape\n",
      "\u001b[0;31mNameError\u001b[0m: name 'lon' is not defined"
     ]
    }
   ],
   "source": [
    "lon.shape"
   ]
  },
  {
   "cell_type": "code",
   "execution_count": null,
   "id": "6e6d1126-6ac5-4560-8461-204e0cca13c2",
   "metadata": {},
   "outputs": [],
   "source": [
    "import numpy as np\n",
    "\n",
    "# Find index of pixel at desired location (input longitude and latitude variables)\n",
    "y_idx = []\n",
    "x_idx = []\n",
    "\n",
    "# something like this?? or do we need something more accurate? \n",
    "abslat = np.abs(lat-station_lat)\n",
    "abslon = np.abs(lon-station_lon)\n",
    "cor = np.maximum(abslon, abslat)\n",
    "([y_idx], [x_idx]) = np.where(cor == np.min(cor))"
   ]
  },
  {
   "cell_type": "code",
   "execution_count": null,
   "id": "1d328a44-8780-481c-8d8c-3dbcbb151d82",
   "metadata": {},
   "outputs": [],
   "source": [
    "y_idx"
   ]
  },
  {
   "cell_type": "code",
   "execution_count": null,
   "id": "b2b17264-6fec-4f82-9b35-aa0fb7f4f113",
   "metadata": {},
   "outputs": [],
   "source": [
    "x_idx"
   ]
  },
  {
   "cell_type": "code",
   "execution_count": null,
   "id": "acab0f04-794f-4693-8ca6-8293b0603350",
   "metadata": {},
   "outputs": [],
   "source": [
    "s0[x_idx, y_idx]"
   ]
  },
  {
   "cell_type": "code",
   "execution_count": null,
   "id": "f3245940-2c82-4238-ae0a-fb89d3746cd6",
   "metadata": {},
   "outputs": [],
   "source": []
  },
  {
   "cell_type": "markdown",
   "id": "f97aa888-ae17-458b-978e-2052b48ff698",
   "metadata": {},
   "source": [
    "## epsilon = 0.005"
   ]
  },
  {
   "cell_type": "code",
   "execution_count": 29,
   "id": "932c134d-96a8-46ac-b08e-dc06c1caa302",
   "metadata": {},
   "outputs": [
    {
     "name": "stdout",
     "output_type": "stream",
     "text": [
      "CPU times: user 637 ms, sys: 14.8 ms, total: 652 ms\n",
      "Wall time: 742 ms\n"
     ]
    }
   ],
   "source": [
    "%%time\n",
    "\n",
    "sys.path.append(\"..\")\n",
    "import sar\n",
    "\n",
    "# plot a normalize SAR product\n",
    "\n",
    "# this is VERY memory consuming. I ran this on PPI with: qlogin -q bigmem-r8.q -pe mpi 32\n",
    "# bigmem-r8.q queue is pretty busy... this may also run with: qlogin -q research-r8.q (but I have not tested it.. might have to tune mem)\n",
    "\n",
    "s0, s0_norm, inc, az, grid_lons, grid_lats, pol = sar.sar_params(\n",
    "    data_dir + \"S1A_IW_GRDH_1SDV_20171022T224224_20171022T224249_018932_01FFE8_5D27.SAFE\",\n",
    "    station_lon=station_lon,\n",
    "    station_lat=station_lat,\n",
    "    epsilon=0.005\n",
    ")"
   ]
  },
  {
   "cell_type": "code",
   "execution_count": 30,
   "id": "c739289b-5421-4d1e-91cd-9d08d9304ef6",
   "metadata": {},
   "outputs": [
    {
     "data": {
      "text/plain": [
       "(122, 103)"
      ]
     },
     "execution_count": 30,
     "metadata": {},
     "output_type": "execute_result"
    }
   ],
   "source": [
    "s0.shape"
   ]
  },
  {
   "cell_type": "code",
   "execution_count": 31,
   "id": "435e7652-2636-49ec-a5ad-90f5f9deef1c",
   "metadata": {},
   "outputs": [
    {
     "data": {
      "text/plain": [
       "(12, 10)"
      ]
     },
     "execution_count": 31,
     "metadata": {},
     "output_type": "execute_result"
    }
   ],
   "source": [
    "lon.shape"
   ]
  },
  {
   "cell_type": "code",
   "execution_count": 32,
   "id": "58472f18-445f-49de-89ff-b45d48f9c55e",
   "metadata": {},
   "outputs": [],
   "source": [
    "import numpy as np\n",
    "\n",
    "# Find index of pixel at desired location (input longitude and latitude variables)\n",
    "y_idx = []\n",
    "x_idx = []\n",
    "\n",
    "# something like this?? or do we need something more accurate? \n",
    "abslat = np.abs(lat-station_lat)\n",
    "abslon = np.abs(lon-station_lon)\n",
    "cor = np.maximum(abslon, abslat)\n",
    "([y_idx], [x_idx]) = np.where(cor == np.min(cor))"
   ]
  },
  {
   "cell_type": "code",
   "execution_count": 33,
   "id": "54e7f78c-40a3-45dd-9482-b92d28676f7a",
   "metadata": {},
   "outputs": [
    {
     "data": {
      "text/plain": [
       "40.1334"
      ]
     },
     "execution_count": 33,
     "metadata": {},
     "output_type": "execute_result"
    }
   ],
   "source": [
    "station_lat"
   ]
  },
  {
   "cell_type": "code",
   "execution_count": 34,
   "id": "a146afae-59c6-4507-bc6a-6e9523720f90",
   "metadata": {},
   "outputs": [
    {
     "data": {
      "text/plain": [
       "40.1276512729377"
      ]
     },
     "execution_count": 34,
     "metadata": {},
     "output_type": "execute_result"
    }
   ],
   "source": [
    "grid_lats[x_idx, y_idx]"
   ]
  },
  {
   "cell_type": "code",
   "execution_count": 35,
   "id": "5a464a3d-d43a-4bd8-a948-f637d4bf4383",
   "metadata": {},
   "outputs": [
    {
     "data": {
      "text/plain": [
       "40.12766611488924"
      ]
     },
     "execution_count": 35,
     "metadata": {},
     "output_type": "execute_result"
    }
   ],
   "source": [
    "grid_lats[x_idx, y_idx+1]"
   ]
  },
  {
   "cell_type": "code",
   "execution_count": 36,
   "id": "325ce99e-5c37-409d-a9bc-272d084a10e6",
   "metadata": {},
   "outputs": [
    {
     "data": {
      "text/plain": [
       "-70.7785"
      ]
     },
     "execution_count": 36,
     "metadata": {},
     "output_type": "execute_result"
    }
   ],
   "source": [
    "station_lon"
   ]
  },
  {
   "cell_type": "code",
   "execution_count": 37,
   "id": "e6481665-3d85-408e-ac12-e85240d0cd16",
   "metadata": {},
   "outputs": [
    {
     "data": {
      "text/plain": [
       "-30.119076"
      ]
     },
     "execution_count": 37,
     "metadata": {},
     "output_type": "execute_result"
    }
   ],
   "source": [
    "s0[x_idx, y_idx]"
   ]
  },
  {
   "cell_type": "markdown",
   "id": "e8ae66ce-0edc-4445-ad60-5c8d06de30b4",
   "metadata": {},
   "source": [
    "### Check neighbour values"
   ]
  },
  {
   "cell_type": "markdown",
   "id": "ced2bd26-1381-4fae-9b67-ab015f6db324",
   "metadata": {},
   "source": [
    "The differences in the locations are very small, but the values change a lot"
   ]
  },
  {
   "cell_type": "code",
   "execution_count": 38,
   "id": "7eb1ebfe-0bc0-4f62-93aa-4671f7481545",
   "metadata": {},
   "outputs": [
    {
     "data": {
      "text/plain": [
       "-28.78014"
      ]
     },
     "execution_count": 38,
     "metadata": {},
     "output_type": "execute_result"
    }
   ],
   "source": [
    "s0[x_idx-1, y_idx]"
   ]
  },
  {
   "cell_type": "code",
   "execution_count": 39,
   "id": "efa8b474-9008-4289-9772-a826dac2601f",
   "metadata": {},
   "outputs": [
    {
     "data": {
      "text/plain": [
       "-27.265774"
      ]
     },
     "execution_count": 39,
     "metadata": {},
     "output_type": "execute_result"
    }
   ],
   "source": [
    "s0[x_idx-1, y_idx-1]"
   ]
  },
  {
   "cell_type": "code",
   "execution_count": 40,
   "id": "858f1b76-4f3a-4f26-bc46-b36341be5a62",
   "metadata": {},
   "outputs": [
    {
     "data": {
      "text/plain": [
       "-28.376026"
      ]
     },
     "execution_count": 40,
     "metadata": {},
     "output_type": "execute_result"
    }
   ],
   "source": [
    "s0[x_idx-1, y_idx+1]"
   ]
  },
  {
   "cell_type": "code",
   "execution_count": 41,
   "id": "3781ff7d-3eda-4d0e-830b-5f32c167e7e7",
   "metadata": {},
   "outputs": [
    {
     "data": {
      "text/plain": [
       "-29.649452"
      ]
     },
     "execution_count": 41,
     "metadata": {},
     "output_type": "execute_result"
    }
   ],
   "source": [
    "s0[x_idx+1, y_idx]"
   ]
  },
  {
   "cell_type": "code",
   "execution_count": 42,
   "id": "924ab066-8361-4423-a8c5-8f8da094b637",
   "metadata": {},
   "outputs": [
    {
     "data": {
      "text/plain": [
       "-28.37612"
      ]
     },
     "execution_count": 42,
     "metadata": {},
     "output_type": "execute_result"
    }
   ],
   "source": [
    "s0[x_idx+1, y_idx-1]"
   ]
  },
  {
   "cell_type": "code",
   "execution_count": 43,
   "id": "e4b8b52c-933c-4766-8b1f-4409845c8920",
   "metadata": {},
   "outputs": [
    {
     "data": {
      "text/plain": [
       "-32.301918"
      ]
     },
     "execution_count": 43,
     "metadata": {},
     "output_type": "execute_result"
    }
   ],
   "source": [
    "s0[x_idx+1, y_idx +1]"
   ]
  },
  {
   "cell_type": "code",
   "execution_count": 44,
   "id": "f0c9f465-b596-4883-9c66-863ded003b16",
   "metadata": {},
   "outputs": [
    {
     "data": {
      "text/plain": [
       "-28.37612"
      ]
     },
     "execution_count": 44,
     "metadata": {},
     "output_type": "execute_result"
    }
   ],
   "source": [
    "s0[x_idx, y_idx -1]"
   ]
  },
  {
   "cell_type": "code",
   "execution_count": 45,
   "id": "020de1c9-0f12-4d47-bc64-a51986e85f0c",
   "metadata": {},
   "outputs": [
    {
     "data": {
      "text/plain": [
       "-29.649408"
      ]
     },
     "execution_count": 45,
     "metadata": {},
     "output_type": "execute_result"
    }
   ],
   "source": [
    "s0[x_idx, y_idx +1]"
   ]
  },
  {
   "cell_type": "markdown",
   "id": "001febac-8e1a-4251-966e-f6fd67b554e8",
   "metadata": {},
   "source": []
  },
  {
   "cell_type": "markdown",
   "id": "dbba63c0-bbc0-4cc3-beaf-ee5606e1c587",
   "metadata": {},
   "source": [
    "## epsilon = 0.05"
   ]
  },
  {
   "cell_type": "code",
   "execution_count": 46,
   "id": "d2cf3686-7c3f-4103-919b-f8f0925a809c",
   "metadata": {},
   "outputs": [
    {
     "name": "stdout",
     "output_type": "stream",
     "text": [
      "CPU times: user 1.9 s, sys: 160 ms, total: 2.06 s\n",
      "Wall time: 2.35 s\n"
     ]
    }
   ],
   "source": [
    "%%time\n",
    "\n",
    "sys.path.append(\"..\")\n",
    "import sar\n",
    "\n",
    "# plot a normalize SAR product\n",
    "\n",
    "# this is VERY memory consuming. I ran this on PPI with: qlogin -q bigmem-r8.q -pe mpi 32\n",
    "# bigmem-r8.q queue is pretty busy... this may also run with: qlogin -q research-r8.q (but I have not tested it.. might have to tune mem)\n",
    "\n",
    "s0, s0_norm, inc, az, grid_lons, grid_lats, pol = sar.sar_params(\n",
    "    data_dir + \"S1A_IW_GRDH_1SDV_20171022T224224_20171022T224249_018932_01FFE8_5D27.SAFE\",\n",
    "    station_lon=station_lon,\n",
    "    station_lat=station_lat,\n",
    "    epsilon=0.05\n",
    ")"
   ]
  },
  {
   "cell_type": "code",
   "execution_count": 47,
   "id": "2c813aea-a9fd-45ed-b569-ff776195448f",
   "metadata": {},
   "outputs": [
    {
     "data": {
      "text/plain": [
       "(1220, 1026)"
      ]
     },
     "execution_count": 47,
     "metadata": {},
     "output_type": "execute_result"
    }
   ],
   "source": [
    "s0.shape"
   ]
  },
  {
   "cell_type": "code",
   "execution_count": 48,
   "id": "de5fffbd-535b-41cd-9831-caf0c04260ef",
   "metadata": {},
   "outputs": [
    {
     "data": {
      "text/plain": [
       "(1220, 1026)"
      ]
     },
     "execution_count": 48,
     "metadata": {},
     "output_type": "execute_result"
    }
   ],
   "source": [
    "grid_lons.shape"
   ]
  },
  {
   "cell_type": "code",
   "execution_count": 49,
   "id": "ec3bb35d-0443-4c92-8e2a-3ff8ef9a3bae",
   "metadata": {},
   "outputs": [],
   "source": [
    "import numpy as np\n",
    "\n",
    "# Find index of pixel at desired location (input longitude and latitude variables)\n",
    "y_idx = []\n",
    "x_idx = []\n",
    "\n",
    "# something like this?? or do we need something more accurate? \n",
    "abslat = np.abs(lat-station_lat)\n",
    "abslon = np.abs(lon-station_lon)\n",
    "cor = np.maximum(abslon, abslat)\n",
    "([y_idx], [x_idx]) = np.where(cor == np.min(cor))"
   ]
  },
  {
   "cell_type": "code",
   "execution_count": 50,
   "id": "0a45da24-41ce-4269-9797-49e971a56087",
   "metadata": {},
   "outputs": [
    {
     "data": {
      "text/plain": [
       "40.1334"
      ]
     },
     "execution_count": 50,
     "metadata": {},
     "output_type": "execute_result"
    }
   ],
   "source": [
    "station_lat"
   ]
  },
  {
   "cell_type": "code",
   "execution_count": 51,
   "id": "05079ae6-bf28-4cc9-b160-751285ab85ce",
   "metadata": {},
   "outputs": [
    {
     "data": {
      "text/plain": [
       "40.071427915548064"
      ]
     },
     "execution_count": 51,
     "metadata": {},
     "output_type": "execute_result"
    }
   ],
   "source": [
    "grid_lats[x_idx, y_idx]"
   ]
  },
  {
   "cell_type": "code",
   "execution_count": 52,
   "id": "dee5ac70-0fb7-4eda-827a-b7f7503315b5",
   "metadata": {},
   "outputs": [
    {
     "data": {
      "text/plain": [
       "40.071442811908796"
      ]
     },
     "execution_count": 52,
     "metadata": {},
     "output_type": "execute_result"
    }
   ],
   "source": [
    "grid_lats[x_idx, y_idx+1]"
   ]
  },
  {
   "cell_type": "code",
   "execution_count": 53,
   "id": "d8a1c432-b32a-4310-b7ba-d9b6d8b32608",
   "metadata": {},
   "outputs": [
    {
     "data": {
      "text/plain": [
       "-70.7785"
      ]
     },
     "execution_count": 53,
     "metadata": {},
     "output_type": "execute_result"
    }
   ],
   "source": [
    "station_lon"
   ]
  },
  {
   "cell_type": "code",
   "execution_count": 54,
   "id": "75ddaf87-8387-458b-bdef-137c8675176b",
   "metadata": {},
   "outputs": [
    {
     "data": {
      "text/plain": [
       "-25.418646"
      ]
     },
     "execution_count": 54,
     "metadata": {},
     "output_type": "execute_result"
    }
   ],
   "source": [
    "s0[x_idx, y_idx]"
   ]
  },
  {
   "cell_type": "markdown",
   "id": "a6fe1ef7-1222-460e-aa58-748c0ba62242",
   "metadata": {},
   "source": [
    "### We see that the the latitudes are different when we use different epsilon.\n",
    "### Therefore, we need to use another distance function"
   ]
  },
  {
   "cell_type": "markdown",
   "id": "01c0cfa4-e9c0-459d-a3eb-392b77813c57",
   "metadata": {
    "tags": []
   },
   "source": [
    "## Use another distance function"
   ]
  },
  {
   "cell_type": "code",
   "execution_count": 21,
   "id": "3e46b990-27ee-488a-9ffa-5441f3fdf4ea",
   "metadata": {},
   "outputs": [],
   "source": [
    "x_idx, y_idx = sar.get_idx_of_station_in_cropped_image(grid_lons, grid_lats, station_lat, station_lon)"
   ]
  },
  {
   "cell_type": "code",
   "execution_count": 22,
   "id": "72ac6413-87c6-4548-b629-bd19e01bf337",
   "metadata": {},
   "outputs": [
    {
     "data": {
      "text/plain": [
       "6"
      ]
     },
     "execution_count": 22,
     "metadata": {},
     "output_type": "execute_result"
    }
   ],
   "source": [
    "x_idx"
   ]
  },
  {
   "cell_type": "code",
   "execution_count": 23,
   "id": "7718b5f9-aacb-4999-aac1-c581ec87540d",
   "metadata": {},
   "outputs": [
    {
     "data": {
      "text/plain": [
       "5"
      ]
     },
     "execution_count": 23,
     "metadata": {},
     "output_type": "execute_result"
    }
   ],
   "source": [
    "y_idx"
   ]
  },
  {
   "cell_type": "code",
   "execution_count": 24,
   "id": "47eb6ce8-475f-4a8a-a2b1-f4159f15cac5",
   "metadata": {},
   "outputs": [
    {
     "data": {
      "text/plain": [
       "40.133368062625294"
      ]
     },
     "execution_count": 24,
     "metadata": {},
     "output_type": "execute_result"
    }
   ],
   "source": [
    "grid_lats[x_idx, y_idx]"
   ]
  },
  {
   "cell_type": "code",
   "execution_count": 25,
   "id": "d33d73f7-308d-4b99-a77e-1fd2ba16181e",
   "metadata": {},
   "outputs": [
    {
     "data": {
      "text/plain": [
       "-70.77847875460428"
      ]
     },
     "execution_count": 25,
     "metadata": {},
     "output_type": "execute_result"
    }
   ],
   "source": [
    "grid_lons[x_idx, y_idx]"
   ]
  },
  {
   "cell_type": "code",
   "execution_count": 26,
   "id": "9e1336dc-db81-4491-adba-ccecee106428",
   "metadata": {},
   "outputs": [
    {
     "data": {
      "text/plain": [
       "-31.700592"
      ]
     },
     "execution_count": 26,
     "metadata": {},
     "output_type": "execute_result"
    }
   ],
   "source": [
    "s0[x_idx, y_idx]"
   ]
  },
  {
   "cell_type": "code",
   "execution_count": null,
   "id": "29311783-7f86-4bc4-8259-a25216d34356",
   "metadata": {},
   "outputs": [],
   "source": []
  },
  {
   "cell_type": "markdown",
   "id": "4141e4dd-d489-429b-a565-f21539b22cbf",
   "metadata": {},
   "source": [
    "# Fill in in_situ_obs dict with SAR data"
   ]
  },
  {
   "cell_type": "code",
   "execution_count": 17,
   "id": "0c9fed4e-2f27-4fb2-ac82-914ac0046900",
   "metadata": {},
   "outputs": [],
   "source": [
    "with open(data_dir + 'in_situ_obs_with_sar_params.pickle', 'rb') as handle:\n",
    "    in_situ_obs = pickle.load(handle)"
   ]
  },
  {
   "cell_type": "code",
   "execution_count": 18,
   "id": "2976da44-d557-4c3b-9faa-7ae7136277c0",
   "metadata": {},
   "outputs": [
    {
     "data": {
      "text/plain": [
       "dict_keys(['Endurance_8', 'Irminger_7', 'SPURS2', 'Endurance_4', 'Irminger_6', 'Pioneer_5', 'CLIMODE', 'Endurance_9', 'Pioneer_10', 'SouthernOcean2', 'Endurance_3', 'Pioneer_3', 'SPURS1', 'Endurance_7', 'Irminger_3', 'Pioneer_7', 'Pioneer_6', 'Pioneer_8'])"
      ]
     },
     "execution_count": 18,
     "metadata": {},
     "output_type": "execute_result"
    }
   ],
   "source": [
    "in_situ_obs.keys()"
   ]
  },
  {
   "cell_type": "code",
   "execution_count": 19,
   "id": "e3af2688-6c9c-49e9-9a8d-4042f164ff1b",
   "metadata": {},
   "outputs": [
    {
     "data": {
      "text/plain": [
       "dict_keys(['title', 'link', 'link_alternative', 'link_icon', 'summary', 'ondemand', 'beginposition', 'endposition', 'ingestiondate', 'missiondatatakeid', 'slicenumber', 'orbitnumber', 'lastorbitnumber', 'relativeorbitnumber', 'lastrelativeorbitnumber', 'filename', 'format', 'identifier', 'size', 'status', 'timeliness', 'sensoroperationalmode', 'swathidentifier', 'orbitdirection', 'producttype', 'platformname', 'platformidentifier', 'instrumentname', 'instrumentshortname', 'productclass', 'polarisationmode', 'acquisitiontype', 'gmlfootprint', 'footprint', 'uuid', 'sar_params'])"
      ]
     },
     "execution_count": 19,
     "metadata": {},
     "output_type": "execute_result"
    }
   ],
   "source": [
    "in_situ_obs['Irminger_7']['products']['600bc942-80f1-43e1-83e0-c4397a8b5891'].keys()"
   ]
  },
  {
   "cell_type": "markdown",
   "id": "d1b82407-47af-4a87-93bf-588af8e2e8f9",
   "metadata": {},
   "source": [
    "# Too slow :("
   ]
  },
  {
   "cell_type": "markdown",
   "id": "4e2d0dc9-5fd7-4ae7-ae38-951b27b4f530",
   "metadata": {},
   "source": [
    "Wrote a new script, crop_sar.py, with this part of the code"
   ]
  },
  {
   "cell_type": "code",
   "execution_count": null,
   "id": "d6d1fb72-7f62-4fb7-841e-73bb1158afcb",
   "metadata": {
    "scrolled": true,
    "tags": []
   },
   "outputs": [
    {
     "name": "stdout",
     "output_type": "stream",
     "text": [
      "Endurance_8\n"
     ]
    }
   ],
   "source": [
    "#crop_size = [0.00005]\n",
    "crop_size = [3, 9]\n",
    "count = 0\n",
    "for buoy in in_situ_obs.keys():\n",
    "    station_lat = in_situ_obs[buoy]['lat'][0]\n",
    "    station_lon = in_situ_obs[buoy]['lon'][0]\n",
    "    print(buoy)\n",
    "    for product in in_situ_obs[buoy]['products']:\n",
    "        fname = in_situ_obs[buoy]['products'][product]['filename']\n",
    "        n = Nansat(data_dir + fname)\n",
    "        grid_lons_original, grid_lats_original = n.get_geolocation_grids()\n",
    "        x, y = latlon2xy(grid_lats_original, grid_lons_original, station_lat, station_lon)\n",
    "        \n",
    "        if 'sar_params' not in in_situ_obs[buoy]['products'][product].keys():\n",
    "            in_situ_obs[buoy]['products'][product]['sar_params'] = {}\n",
    "        \n",
    "            for size in crop_size:\n",
    "                if str(size) not in in_situ_obs[buoy]['products'][product]['sar_params']:\n",
    "                    try:\n",
    "                        s0, s0_norm, inc, az, grid_lons, grid_lats, pol = sar.sar_params(\n",
    "                            n=n,\n",
    "                            station_lon=station_lon,\n",
    "                            station_lat=station_lat,\n",
    "                            x_size=size,\n",
    "                            y_size=size,\n",
    "                            x=x,\n",
    "                            y=y\n",
    "                        )\n",
    "\n",
    "                        crop_param_dict = {\n",
    "                            'x_size' : size,\n",
    "                            'y_size' : size,\n",
    "                            's0' : s0, \n",
    "                            's0_norm' : s0_norm,\n",
    "                            'inc' : inc,\n",
    "                            'az' : az,\n",
    "                            'grid_lons' : grid_lons,\n",
    "                            'grid_lats' : grid_lats,\n",
    "                            'pol' : pol\n",
    "                        }\n",
    "\n",
    "                        in_situ_obs[buoy]['products'][product]['sar_params'][str(size)] = crop_param_dict\n",
    "                    except:\n",
    "                        print('Buoy ', buoy, 'File ', fname, ' cannot be normalized for epsilon = ', size) # Check if the image exists and if the crop area is within the image\n",
    "                        count = count - 1\n",
    "print('Number of images that were not cropped: ', count)"
   ]
  },
  {
   "cell_type": "markdown",
   "id": "efa2e6ba-3fef-4937-a2ad-bc41a891fabd",
   "metadata": {},
   "source": [
    "count"
   ]
  },
  {
   "cell_type": "markdown",
   "id": "7b7118a3-0d88-4f6c-8bcd-0e70c2642986",
   "metadata": {},
   "source": [
    "with open(data_dir + 'in_situ_obs_with_sar_params.pickle', 'wb') as handle:\n",
    "    pickle.dump(in_situ_obs, handle, protocol=pickle.HIGHEST_PROTOCOL)"
   ]
  },
  {
   "cell_type": "code",
   "execution_count": 12,
   "id": "3f567b04-ab95-4399-981b-60e62afd4a5c",
   "metadata": {},
   "outputs": [
    {
     "data": {
      "text/plain": [
       "-23.202358"
      ]
     },
     "execution_count": 12,
     "metadata": {},
     "output_type": "execute_result"
    }
   ],
   "source": [
    "in_situ_obs[buoy]['products'][product]['sar_params'][str(epsilon)]['s0'].mean()"
   ]
  },
  {
   "cell_type": "code",
   "execution_count": null,
   "id": "3499039a-ae57-439c-81d1-36e526e08a7d",
   "metadata": {},
   "outputs": [],
   "source": []
  },
  {
   "cell_type": "code",
   "execution_count": 9,
   "id": "0dda7cb2-2342-42cb-9a38-75d8fcf33f9d",
   "metadata": {},
   "outputs": [
    {
     "name": "stdout",
     "output_type": "stream",
     "text": [
      "0.626990795135498\n"
     ]
    }
   ],
   "source": [
    "start_time = time.time()\n",
    "n = Nansat(data_dir + 'S1A_IW_GRDH_1SDV_20181126T142233_20181126T142258_024760_02B976_067A.SAFE')\n",
    "end_time = time.time()\n",
    "print(end_time - start_time)"
   ]
  },
  {
   "cell_type": "code",
   "execution_count": 12,
   "id": "086bf6ff-0e3d-494c-a3d1-94f0ea80bf9a",
   "metadata": {},
   "outputs": [
    {
     "name": "stdout",
     "output_type": "stream",
     "text": [
      "571.0898320674896\n"
     ]
    }
   ],
   "source": [
    "start_time = time.time()\n",
    "grid_lons_original, grid_lats_original = n.get_geolocation_grids()\n",
    "end_time = time.time()\n",
    "print(end_time - start_time)"
   ]
  },
  {
   "cell_type": "code",
   "execution_count": 13,
   "id": "1e7fd596-9630-4ab2-b80f-29e20ceccf52",
   "metadata": {},
   "outputs": [
    {
     "ename": "NameError",
     "evalue": "name 'latlon2xy' is not defined",
     "output_type": "error",
     "traceback": [
      "\u001b[0;31m---------------------------------------------------------------------------\u001b[0m",
      "\u001b[0;31mNameError\u001b[0m                                 Traceback (most recent call last)",
      "Cell \u001b[0;32mIn [13], line 2\u001b[0m\n\u001b[1;32m      1\u001b[0m start_time \u001b[38;5;241m=\u001b[39m time\u001b[38;5;241m.\u001b[39mtime()\n\u001b[0;32m----> 2\u001b[0m x, y \u001b[38;5;241m=\u001b[39m latlon2xy(grid_lats_original, grid_lons_original, station_lat, station_lon)\n\u001b[1;32m      3\u001b[0m end_time \u001b[38;5;241m=\u001b[39m time\u001b[38;5;241m.\u001b[39mtime()\n\u001b[1;32m      4\u001b[0m \u001b[38;5;28mprint\u001b[39m(end_time \u001b[38;5;241m-\u001b[39m start_time)\n",
      "\u001b[0;31mNameError\u001b[0m: name 'latlon2xy' is not defined"
     ]
    }
   ],
   "source": [
    "start_time = time.time()\n",
    "x, y = latlon2xy(grid_lats_original, grid_lons_original, station_lat, station_lon)\n",
    "end_time = time.time()\n",
    "print(end_time - start_time)"
   ]
  },
  {
   "cell_type": "code",
   "execution_count": null,
   "id": "7ed21dd8-1348-484e-9f45-232a6aa164f2",
   "metadata": {},
   "outputs": [],
   "source": []
  },
  {
   "cell_type": "code",
   "execution_count": null,
   "id": "2d2e14ce-7764-4e65-9a60-b86053c1e755",
   "metadata": {},
   "outputs": [],
   "source": []
  },
  {
   "cell_type": "code",
   "execution_count": null,
   "id": "8a200534-0f85-434b-a0b7-7be4230bbda4",
   "metadata": {},
   "outputs": [],
   "source": []
  },
  {
   "cell_type": "code",
   "execution_count": null,
   "id": "59d719f0-1906-4198-9a0c-ac08acc0586a",
   "metadata": {},
   "outputs": [],
   "source": []
  },
  {
   "cell_type": "code",
   "execution_count": null,
   "id": "f3ef2e4f-ab0e-40e1-a636-ddcfebf7ca25",
   "metadata": {},
   "outputs": [],
   "source": []
  },
  {
   "cell_type": "code",
   "execution_count": null,
   "id": "53b28d75-2b4a-4a08-b7d5-546c67ac7522",
   "metadata": {},
   "outputs": [],
   "source": []
  },
  {
   "cell_type": "code",
   "execution_count": null,
   "id": "cbae033f-8787-4b50-9ed7-836f57cc6fc8",
   "metadata": {},
   "outputs": [],
   "source": [
    "start_time = time.time()\n",
    "n = Nansat(data_dir + 'S1A_IW_GRDH_1SDV_20181126T142233_20181126T142258_024760_02B976_067A.SAFE')\n",
    "end_time = time.time()\n",
    "print(end_time - start_time)"
   ]
  },
  {
   "cell_type": "code",
   "execution_count": 13,
   "id": "b7de134b-7978-4c3a-9c46-c81568a37df9",
   "metadata": {
    "scrolled": true,
    "tags": []
   },
   "outputs": [
    {
     "data": {
      "text/plain": [
       "{'title': 'S1B_EW_GRDM_1SDH_20170720T084730_20170720T084830_006569_00B8D6_F92F',\n",
       " 'link': \"https://scihub.copernicus.eu/dhus/odata/v1/Products('ac7398fb-855a-4d9c-8975-6eb9698062e7')/$value\",\n",
       " 'link_alternative': \"https://scihub.copernicus.eu/dhus/odata/v1/Products('ac7398fb-855a-4d9c-8975-6eb9698062e7')/\",\n",
       " 'link_icon': \"https://scihub.copernicus.eu/dhus/odata/v1/Products('ac7398fb-855a-4d9c-8975-6eb9698062e7')/Products('Quicklook')/$value\",\n",
       " 'summary': 'Date: 2017-07-20T08:47:30.151Z, Instrument: SAR-C SAR, Mode: HH HV, Satellite: Sentinel-1, Size: 414.92 MB',\n",
       " 'ondemand': 'false',\n",
       " 'ingestiondate': datetime.datetime(2017, 7, 20, 11, 50, 11, 970000),\n",
       " 'beginposition': datetime.datetime(2017, 7, 20, 8, 47, 30, 151000),\n",
       " 'endposition': datetime.datetime(2017, 7, 20, 8, 48, 30, 144000),\n",
       " 'missiondatatakeid': 47318,\n",
       " 'orbitnumber': 6569,\n",
       " 'lastorbitnumber': 6569,\n",
       " 'relativeorbitnumber': 68,\n",
       " 'lastrelativeorbitnumber': 68,\n",
       " 'slicenumber': 9,\n",
       " 'acquisitiontype': 'NOMINAL',\n",
       " 'filename': 'S1B_EW_GRDM_1SDH_20170720T084730_20170720T084830_006569_00B8D6_F92F.SAFE',\n",
       " 'gmlfootprint': '<gml:Polygon srsName=\"http://www.opengis.net/gml/srs/epsg.xml#4326\" xmlns:gml=\"http://www.opengis.net/gml\">\\n   <gml:outerBoundaryIs>\\n      <gml:LinearRing>\\n         <gml:coordinates>58.588970,-32.453896 59.343998,-39.735390 62.918892,-38.618221 62.120735,-30.502453 58.588970,-32.453896</gml:coordinates>\\n      </gml:LinearRing>\\n   </gml:outerBoundaryIs>\\n</gml:Polygon>',\n",
       " 'format': 'SAFE',\n",
       " 'identifier': 'S1B_EW_GRDM_1SDH_20170720T084730_20170720T084830_006569_00B8D6_F92F',\n",
       " 'instrumentshortname': 'SAR-C SAR',\n",
       " 'sensoroperationalmode': 'EW',\n",
       " 'instrumentname': 'Synthetic Aperture Radar (C-band)',\n",
       " 'swathidentifier': 'EW',\n",
       " 'footprint': 'POLYGON ((-32.453896 58.588970,-39.735390 59.343998,-38.618221 62.918892,-30.502453 62.120735,-32.453896 58.588970))',\n",
       " 'platformidentifier': '2016-025A',\n",
       " 'orbitdirection': 'ASCENDING',\n",
       " 'polarisationmode': 'HH HV',\n",
       " 'productclass': 'S',\n",
       " 'producttype': 'GRD',\n",
       " 'platformname': 'Sentinel-1',\n",
       " 'size': '414.92 MB',\n",
       " 'status': 'ARCHIVED',\n",
       " 'uuid': 'ac7398fb-855a-4d9c-8975-6eb9698062e7',\n",
       " 'sar_params': {'0.0005': {'epsilon': 0.0005,\n",
       "   's0': array([[-inf, -inf],\n",
       "          [-inf, -inf],\n",
       "          [-inf, -inf]]),\n",
       "   's0_norm': array([[-inf, -inf],\n",
       "          [-inf, -inf],\n",
       "          [-inf, -inf]]),\n",
       "   'inc': array([[46.75822332, 46.76019097],\n",
       "          [46.75823636, 46.76020401],\n",
       "          [46.75824939, 46.76021705]]),\n",
       "   'az': array([[278.35025, 278.3496 ],\n",
       "          [278.35013, 278.3495 ],\n",
       "          [278.35   , 278.34937]], dtype=float32),\n",
       "   'grid_lons': array([[-39.47643941, -39.47715024],\n",
       "          [-39.47654449, -39.47725531],\n",
       "          [-39.47664956, -39.47736037]]),\n",
       "   'grid_lats': array([[59.93183168, 59.93188289],\n",
       "          [59.93147317, 59.93152439],\n",
       "          [59.93111467, 59.93116588]]),\n",
       "   'pol': 'HH'},\n",
       "  '0.005': {'epsilon': 0.005,\n",
       "   's0': array([[-inf, -inf, -inf, -inf, -inf, -inf, -inf, -inf, -inf, -inf, -inf,\n",
       "           -inf, -inf, -inf, -inf, -inf, -inf, -inf],\n",
       "          [-inf, -inf, -inf, -inf, -inf, -inf, -inf, -inf, -inf, -inf, -inf,\n",
       "           -inf, -inf, -inf, -inf, -inf, -inf, -inf],\n",
       "          [-inf, -inf, -inf, -inf, -inf, -inf, -inf, -inf, -inf, -inf, -inf,\n",
       "           -inf, -inf, -inf, -inf, -inf, -inf, -inf],\n",
       "          [-inf, -inf, -inf, -inf, -inf, -inf, -inf, -inf, -inf, -inf, -inf,\n",
       "           -inf, -inf, -inf, -inf, -inf, -inf, -inf],\n",
       "          [-inf, -inf, -inf, -inf, -inf, -inf, -inf, -inf, -inf, -inf, -inf,\n",
       "           -inf, -inf, -inf, -inf, -inf, -inf, -inf],\n",
       "          [-inf, -inf, -inf, -inf, -inf, -inf, -inf, -inf, -inf, -inf, -inf,\n",
       "           -inf, -inf, -inf, -inf, -inf, -inf, -inf],\n",
       "          [-inf, -inf, -inf, -inf, -inf, -inf, -inf, -inf, -inf, -inf, -inf,\n",
       "           -inf, -inf, -inf, -inf, -inf, -inf, -inf],\n",
       "          [-inf, -inf, -inf, -inf, -inf, -inf, -inf, -inf, -inf, -inf, -inf,\n",
       "           -inf, -inf, -inf, -inf, -inf, -inf, -inf],\n",
       "          [-inf, -inf, -inf, -inf, -inf, -inf, -inf, -inf, -inf, -inf, -inf,\n",
       "           -inf, -inf, -inf, -inf, -inf, -inf, -inf],\n",
       "          [-inf, -inf, -inf, -inf, -inf, -inf, -inf, -inf, -inf, -inf, -inf,\n",
       "           -inf, -inf, -inf, -inf, -inf, -inf, -inf],\n",
       "          [-inf, -inf, -inf, -inf, -inf, -inf, -inf, -inf, -inf, -inf, -inf,\n",
       "           -inf, -inf, -inf, -inf, -inf, -inf, -inf],\n",
       "          [-inf, -inf, -inf, -inf, -inf, -inf, -inf, -inf, -inf, -inf, -inf,\n",
       "           -inf, -inf, -inf, -inf, -inf, -inf, -inf],\n",
       "          [-inf, -inf, -inf, -inf, -inf, -inf, -inf, -inf, -inf, -inf, -inf,\n",
       "           -inf, -inf, -inf, -inf, -inf, -inf, -inf],\n",
       "          [-inf, -inf, -inf, -inf, -inf, -inf, -inf, -inf, -inf, -inf, -inf,\n",
       "           -inf, -inf, -inf, -inf, -inf, -inf, -inf],\n",
       "          [-inf, -inf, -inf, -inf, -inf, -inf, -inf, -inf, -inf, -inf, -inf,\n",
       "           -inf, -inf, -inf, -inf, -inf, -inf, -inf],\n",
       "          [-inf, -inf, -inf, -inf, -inf, -inf, -inf, -inf, -inf, -inf, -inf,\n",
       "           -inf, -inf, -inf, -inf, -inf, -inf, -inf],\n",
       "          [-inf, -inf, -inf, -inf, -inf, -inf, -inf, -inf, -inf, -inf, -inf,\n",
       "           -inf, -inf, -inf, -inf, -inf, -inf, -inf],\n",
       "          [-inf, -inf, -inf, -inf, -inf, -inf, -inf, -inf, -inf, -inf, -inf,\n",
       "           -inf, -inf, -inf, -inf, -inf, -inf, -inf],\n",
       "          [-inf, -inf, -inf, -inf, -inf, -inf, -inf, -inf, -inf, -inf, -inf,\n",
       "           -inf, -inf, -inf, -inf, -inf, -inf, -inf],\n",
       "          [-inf, -inf, -inf, -inf, -inf, -inf, -inf, -inf, -inf, -inf, -inf,\n",
       "           -inf, -inf, -inf, -inf, -inf, -inf, -inf],\n",
       "          [-inf, -inf, -inf, -inf, -inf, -inf, -inf, -inf, -inf, -inf, -inf,\n",
       "           -inf, -inf, -inf, -inf, -inf, -inf, -inf],\n",
       "          [-inf, -inf, -inf, -inf, -inf, -inf, -inf, -inf, -inf, -inf, -inf,\n",
       "           -inf, -inf, -inf, -inf, -inf, -inf, -inf],\n",
       "          [-inf, -inf, -inf, -inf, -inf, -inf, -inf, -inf, -inf, -inf, -inf,\n",
       "           -inf, -inf, -inf, -inf, -inf, -inf, -inf],\n",
       "          [-inf, -inf, -inf, -inf, -inf, -inf, -inf, -inf, -inf, -inf, -inf,\n",
       "           -inf, -inf, -inf, -inf, -inf, -inf, -inf],\n",
       "          [-inf, -inf, -inf, -inf, -inf, -inf, -inf, -inf, -inf, -inf, -inf,\n",
       "           -inf, -inf, -inf, -inf, -inf, -inf, -inf],\n",
       "          [-inf, -inf, -inf, -inf, -inf, -inf, -inf, -inf, -inf, -inf, -inf,\n",
       "           -inf, -inf, -inf, -inf, -inf, -inf, -inf],\n",
       "          [-inf, -inf, -inf, -inf, -inf, -inf, -inf, -inf, -inf, -inf, -inf,\n",
       "           -inf, -inf, -inf, -inf, -inf, -inf, -inf],\n",
       "          [-inf, -inf, -inf, -inf, -inf, -inf, -inf, -inf, -inf, -inf, -inf,\n",
       "           -inf, -inf, -inf, -inf, -inf, -inf, -inf],\n",
       "          [-inf, -inf, -inf, -inf, -inf, -inf, -inf, -inf, -inf, -inf, -inf,\n",
       "           -inf, -inf, -inf, -inf, -inf, -inf, -inf]]),\n",
       "   's0_norm': array([[-inf, -inf, -inf, -inf, -inf, -inf, -inf, -inf, -inf, -inf, -inf,\n",
       "           -inf, -inf, -inf, -inf, -inf, -inf, -inf],\n",
       "          [-inf, -inf, -inf, -inf, -inf, -inf, -inf, -inf, -inf, -inf, -inf,\n",
       "           -inf, -inf, -inf, -inf, -inf, -inf, -inf],\n",
       "          [-inf, -inf, -inf, -inf, -inf, -inf, -inf, -inf, -inf, -inf, -inf,\n",
       "           -inf, -inf, -inf, -inf, -inf, -inf, -inf],\n",
       "          [-inf, -inf, -inf, -inf, -inf, -inf, -inf, -inf, -inf, -inf, -inf,\n",
       "           -inf, -inf, -inf, -inf, -inf, -inf, -inf],\n",
       "          [-inf, -inf, -inf, -inf, -inf, -inf, -inf, -inf, -inf, -inf, -inf,\n",
       "           -inf, -inf, -inf, -inf, -inf, -inf, -inf],\n",
       "          [-inf, -inf, -inf, -inf, -inf, -inf, -inf, -inf, -inf, -inf, -inf,\n",
       "           -inf, -inf, -inf, -inf, -inf, -inf, -inf],\n",
       "          [-inf, -inf, -inf, -inf, -inf, -inf, -inf, -inf, -inf, -inf, -inf,\n",
       "           -inf, -inf, -inf, -inf, -inf, -inf, -inf],\n",
       "          [-inf, -inf, -inf, -inf, -inf, -inf, -inf, -inf, -inf, -inf, -inf,\n",
       "           -inf, -inf, -inf, -inf, -inf, -inf, -inf],\n",
       "          [-inf, -inf, -inf, -inf, -inf, -inf, -inf, -inf, -inf, -inf, -inf,\n",
       "           -inf, -inf, -inf, -inf, -inf, -inf, -inf],\n",
       "          [-inf, -inf, -inf, -inf, -inf, -inf, -inf, -inf, -inf, -inf, -inf,\n",
       "           -inf, -inf, -inf, -inf, -inf, -inf, -inf],\n",
       "          [-inf, -inf, -inf, -inf, -inf, -inf, -inf, -inf, -inf, -inf, -inf,\n",
       "           -inf, -inf, -inf, -inf, -inf, -inf, -inf],\n",
       "          [-inf, -inf, -inf, -inf, -inf, -inf, -inf, -inf, -inf, -inf, -inf,\n",
       "           -inf, -inf, -inf, -inf, -inf, -inf, -inf],\n",
       "          [-inf, -inf, -inf, -inf, -inf, -inf, -inf, -inf, -inf, -inf, -inf,\n",
       "           -inf, -inf, -inf, -inf, -inf, -inf, -inf],\n",
       "          [-inf, -inf, -inf, -inf, -inf, -inf, -inf, -inf, -inf, -inf, -inf,\n",
       "           -inf, -inf, -inf, -inf, -inf, -inf, -inf],\n",
       "          [-inf, -inf, -inf, -inf, -inf, -inf, -inf, -inf, -inf, -inf, -inf,\n",
       "           -inf, -inf, -inf, -inf, -inf, -inf, -inf],\n",
       "          [-inf, -inf, -inf, -inf, -inf, -inf, -inf, -inf, -inf, -inf, -inf,\n",
       "           -inf, -inf, -inf, -inf, -inf, -inf, -inf],\n",
       "          [-inf, -inf, -inf, -inf, -inf, -inf, -inf, -inf, -inf, -inf, -inf,\n",
       "           -inf, -inf, -inf, -inf, -inf, -inf, -inf],\n",
       "          [-inf, -inf, -inf, -inf, -inf, -inf, -inf, -inf, -inf, -inf, -inf,\n",
       "           -inf, -inf, -inf, -inf, -inf, -inf, -inf],\n",
       "          [-inf, -inf, -inf, -inf, -inf, -inf, -inf, -inf, -inf, -inf, -inf,\n",
       "           -inf, -inf, -inf, -inf, -inf, -inf, -inf],\n",
       "          [-inf, -inf, -inf, -inf, -inf, -inf, -inf, -inf, -inf, -inf, -inf,\n",
       "           -inf, -inf, -inf, -inf, -inf, -inf, -inf],\n",
       "          [-inf, -inf, -inf, -inf, -inf, -inf, -inf, -inf, -inf, -inf, -inf,\n",
       "           -inf, -inf, -inf, -inf, -inf, -inf, -inf],\n",
       "          [-inf, -inf, -inf, -inf, -inf, -inf, -inf, -inf, -inf, -inf, -inf,\n",
       "           -inf, -inf, -inf, -inf, -inf, -inf, -inf],\n",
       "          [-inf, -inf, -inf, -inf, -inf, -inf, -inf, -inf, -inf, -inf, -inf,\n",
       "           -inf, -inf, -inf, -inf, -inf, -inf, -inf],\n",
       "          [-inf, -inf, -inf, -inf, -inf, -inf, -inf, -inf, -inf, -inf, -inf,\n",
       "           -inf, -inf, -inf, -inf, -inf, -inf, -inf],\n",
       "          [-inf, -inf, -inf, -inf, -inf, -inf, -inf, -inf, -inf, -inf, -inf,\n",
       "           -inf, -inf, -inf, -inf, -inf, -inf, -inf],\n",
       "          [-inf, -inf, -inf, -inf, -inf, -inf, -inf, -inf, -inf, -inf, -inf,\n",
       "           -inf, -inf, -inf, -inf, -inf, -inf, -inf],\n",
       "          [-inf, -inf, -inf, -inf, -inf, -inf, -inf, -inf, -inf, -inf, -inf,\n",
       "           -inf, -inf, -inf, -inf, -inf, -inf, -inf],\n",
       "          [-inf, -inf, -inf, -inf, -inf, -inf, -inf, -inf, -inf, -inf, -inf,\n",
       "           -inf, -inf, -inf, -inf, -inf, -inf, -inf],\n",
       "          [-inf, -inf, -inf, -inf, -inf, -inf, -inf, -inf, -inf, -inf, -inf,\n",
       "           -inf, -inf, -inf, -inf, -inf, -inf, -inf]]),\n",
       "   'inc': array([[46.74229953, 46.74426719, 46.74623485, 46.74820251, 46.75017017,\n",
       "           46.75213783, 46.75410549, 46.75607315, 46.75804081, 46.76000847,\n",
       "           46.76197613, 46.76394379, 46.76591145, 46.76787911, 46.76984677,\n",
       "           46.77181444, 46.7737821 , 46.77574976],\n",
       "          [46.74231257, 46.74428023, 46.74624789, 46.74821555, 46.75018321,\n",
       "           46.75215087, 46.75411853, 46.75608619, 46.75805385, 46.76002151,\n",
       "           46.76198917, 46.76395683, 46.76592449, 46.76789215, 46.76985981,\n",
       "           46.77182747, 46.77379513, 46.77576279],\n",
       "          [46.74232561, 46.74429327, 46.74626093, 46.74822859, 46.75019625,\n",
       "           46.7521639 , 46.75413156, 46.75609922, 46.75806688, 46.76003454,\n",
       "           46.7620022 , 46.76396986, 46.76593752, 46.76790518, 46.76987284,\n",
       "           46.7718405 , 46.77380816, 46.77577582],\n",
       "          [46.74233865, 46.74430631, 46.74627397, 46.74824163, 46.75020928,\n",
       "           46.75217694, 46.7541446 , 46.75611226, 46.75807992, 46.76004758,\n",
       "           46.76201524, 46.7639829 , 46.76595056, 46.76791822, 46.76988587,\n",
       "           46.77185353, 46.77382119, 46.77578885],\n",
       "          [46.74235169, 46.74431935, 46.74628701, 46.74825466, 46.75022232,\n",
       "           46.75218998, 46.75415764, 46.7561253 , 46.75809296, 46.76006062,\n",
       "           46.76202827, 46.76399593, 46.76596359, 46.76793125, 46.76989891,\n",
       "           46.77186657, 46.77383422, 46.77580188],\n",
       "          [46.74236473, 46.74433239, 46.74630005, 46.7482677 , 46.75023536,\n",
       "           46.75220302, 46.75417068, 46.75613834, 46.75810599, 46.76007365,\n",
       "           46.76204131, 46.76400897, 46.76597662, 46.76794428, 46.76991194,\n",
       "           46.7718796 , 46.77384726, 46.77581491],\n",
       "          [46.74237777, 46.74434543, 46.74631309, 46.74828074, 46.7502484 ,\n",
       "           46.75221606, 46.75418371, 46.75615137, 46.75811903, 46.76008669,\n",
       "           46.76205434, 46.764022  , 46.76598966, 46.76795732, 46.76992497,\n",
       "           46.77189263, 46.77386029, 46.77582795],\n",
       "          [46.74239081, 46.74435847, 46.74632613, 46.74829378, 46.75026144,\n",
       "           46.7522291 , 46.75419675, 46.75616441, 46.75813207, 46.76009972,\n",
       "           46.76206738, 46.76403504, 46.76600269, 46.76797035, 46.76993801,\n",
       "           46.77190566, 46.77387332, 46.77584098],\n",
       "          [46.74240385, 46.74437151, 46.74633917, 46.74830682, 46.75027448,\n",
       "           46.75224213, 46.75420979, 46.75617745, 46.7581451 , 46.76011276,\n",
       "           46.76208041, 46.76404807, 46.76601573, 46.76798338, 46.76995104,\n",
       "           46.7719187 , 46.77388635, 46.77585401],\n",
       "          [46.74241689, 46.74438455, 46.7463522 , 46.74831986, 46.75028752,\n",
       "           46.75225517, 46.75422283, 46.75619048, 46.75815814, 46.76012579,\n",
       "           46.76209345, 46.76406111, 46.76602876, 46.76799642, 46.76996407,\n",
       "           46.77193173, 46.77389938, 46.77586704],\n",
       "          [46.74242993, 46.74439759, 46.74636524, 46.7483329 , 46.75030056,\n",
       "           46.75226821, 46.75423587, 46.75620352, 46.75817118, 46.76013883,\n",
       "           46.76210649, 46.76407414, 46.7660418 , 46.76800945, 46.76997711,\n",
       "           46.77194476, 46.77391242, 46.77588007],\n",
       "          [46.74244298, 46.74441063, 46.74637828, 46.74834594, 46.75031359,\n",
       "           46.75228125, 46.7542489 , 46.75621656, 46.75818421, 46.76015187,\n",
       "           46.76211952, 46.76408718, 46.76605483, 46.76802248, 46.76999014,\n",
       "           46.77195779, 46.77392545, 46.7758931 ],\n",
       "          [46.74245602, 46.74442367, 46.74639132, 46.74835898, 46.75032663,\n",
       "           46.75229429, 46.75426194, 46.75622959, 46.75819725, 46.7601649 ,\n",
       "           46.76213256, 46.76410021, 46.76606786, 46.76803552, 46.77000317,\n",
       "           46.77197083, 46.77393848, 46.77590613],\n",
       "          [46.74246906, 46.74443671, 46.74640436, 46.74837202, 46.75033967,\n",
       "           46.75230732, 46.75427498, 46.75624263, 46.75821028, 46.76017794,\n",
       "           46.76214559, 46.76411325, 46.7660809 , 46.76804855, 46.77001621,\n",
       "           46.77198386, 46.77395151, 46.77591917],\n",
       "          [46.7424821 , 46.74444975, 46.7464174 , 46.74838506, 46.75035271,\n",
       "           46.75232036, 46.75428802, 46.75625567, 46.75822332, 46.76019097,\n",
       "           46.76215863, 46.76412628, 46.76609393, 46.76806159, 46.77002924,\n",
       "           46.77199689, 46.77396454, 46.7759322 ],\n",
       "          [46.74249514, 46.74446279, 46.74643044, 46.7483981 , 46.75036575,\n",
       "           46.7523334 , 46.75430105, 46.75626871, 46.75823636, 46.76020401,\n",
       "           46.76217166, 46.76413931, 46.76610697, 46.76807462, 46.77004227,\n",
       "           46.77200992, 46.77397758, 46.77594523],\n",
       "          [46.74250818, 46.74447583, 46.74644348, 46.74841114, 46.75037879,\n",
       "           46.75234644, 46.75431409, 46.75628174, 46.75824939, 46.76021705,\n",
       "           46.7621847 , 46.76415235, 46.76612   , 46.76808765, 46.7700553 ,\n",
       "           46.77202296, 46.77399061, 46.77595826],\n",
       "          [46.74252122, 46.74448887, 46.74645652, 46.74842417, 46.75039183,\n",
       "           46.75235948, 46.75432713, 46.75629478, 46.75826243, 46.76023008,\n",
       "           46.76219773, 46.76416538, 46.76613304, 46.76810069, 46.77006834,\n",
       "           46.77203599, 46.77400364, 46.77597129],\n",
       "          [46.74253426, 46.74450191, 46.74646956, 46.74843721, 46.75040486,\n",
       "           46.75237252, 46.75434017, 46.75630782, 46.75827547, 46.76024312,\n",
       "           46.76221077, 46.76417842, 46.76614607, 46.76811372, 46.77008137,\n",
       "           46.77204902, 46.77401667, 46.77598432],\n",
       "          [46.7425473 , 46.74451495, 46.7464826 , 46.74845025, 46.7504179 ,\n",
       "           46.75238555, 46.7543532 , 46.75632085, 46.7582885 , 46.76025615,\n",
       "           46.7622238 , 46.76419145, 46.7661591 , 46.76812675, 46.7700944 ,\n",
       "           46.77206205, 46.7740297 , 46.77599735],\n",
       "          [46.74256034, 46.74452799, 46.74649564, 46.74846329, 46.75043094,\n",
       "           46.75239859, 46.75436624, 46.75633389, 46.75830154, 46.76026919,\n",
       "           46.76223684, 46.76420449, 46.76617214, 46.76813979, 46.77010744,\n",
       "           46.77207509, 46.77404274, 46.77601039],\n",
       "          [46.74257339, 46.74454103, 46.74650868, 46.74847633, 46.75044398,\n",
       "           46.75241163, 46.75437928, 46.75634693, 46.75831458, 46.76028223,\n",
       "           46.76224987, 46.76421752, 46.76618517, 46.76815282, 46.77012047,\n",
       "           46.77208812, 46.77405577, 46.77602342],\n",
       "          [46.74258643, 46.74455407, 46.74652172, 46.74848937, 46.75045702,\n",
       "           46.75242467, 46.75439232, 46.75635996, 46.75832761, 46.76029526,\n",
       "           46.76226291, 46.76423056, 46.76619821, 46.76816585, 46.7701335 ,\n",
       "           46.77210115, 46.7740688 , 46.77603645],\n",
       "          [46.74259947, 46.74456711, 46.74653476, 46.74850241, 46.75047006,\n",
       "           46.75243771, 46.75440535, 46.756373  , 46.75834065, 46.7603083 ,\n",
       "           46.76227595, 46.76424359, 46.76621124, 46.76817889, 46.77014654,\n",
       "           46.77211418, 46.77408183, 46.77604948],\n",
       "          [46.74261251, 46.74458016, 46.7465478 , 46.74851545, 46.7504831 ,\n",
       "           46.75245074, 46.75441839, 46.75638604, 46.75835369, 46.76032133,\n",
       "           46.76228898, 46.76425663, 46.76622427, 46.76819192, 46.77015957,\n",
       "           46.77212722, 46.77409486, 46.77606251],\n",
       "          [46.74262555, 46.7445932 , 46.74656084, 46.74852849, 46.75049614,\n",
       "           46.75246378, 46.75443143, 46.75639908, 46.75836672, 46.76033437,\n",
       "           46.76230202, 46.76426966, 46.76623731, 46.76820496, 46.7701726 ,\n",
       "           46.77214025, 46.7741079 , 46.77607554],\n",
       "          [46.74263859, 46.74460624, 46.74657388, 46.74854153, 46.75050917,\n",
       "           46.75247682, 46.75444447, 46.75641211, 46.75837976, 46.76034741,\n",
       "           46.76231505, 46.7642827 , 46.76625034, 46.76821799, 46.77018564,\n",
       "           46.77215328, 46.77412093, 46.77608857],\n",
       "          [46.74265163, 46.74461928, 46.74658692, 46.74855457, 46.75052221,\n",
       "           46.75248986, 46.7544575 , 46.75642515, 46.7583928 , 46.76036044,\n",
       "           46.76232809, 46.76429573, 46.76626338, 46.76823102, 46.77019867,\n",
       "           46.77216631, 46.77413396, 46.77610161],\n",
       "          [46.74266467, 46.74463232, 46.74659996, 46.74856761, 46.75053525,\n",
       "           46.7525029 , 46.75447054, 46.75643819, 46.75840583, 46.76037348,\n",
       "           46.76234112, 46.76430877, 46.76627641, 46.76824406, 46.7702117 ,\n",
       "           46.77217935, 46.77414699, 46.77611464]]),\n",
       "   'az': array([[278.3569 , 278.35626, 278.35562, 278.35498, 278.35434, 278.35373,\n",
       "           278.3531 , 278.35245, 278.3518 , 278.35117, 278.35052, 278.3499 ,\n",
       "           278.34927, 278.34863, 278.348  , 278.34735, 278.3467 , 278.3461 ],\n",
       "          [278.35678, 278.35614, 278.35553, 278.3549 , 278.35425, 278.3536 ,\n",
       "           278.35297, 278.35233, 278.35168, 278.35107, 278.35043, 278.3498 ,\n",
       "           278.34915, 278.3485 , 278.34787, 278.34726, 278.34662, 278.34598],\n",
       "          [278.3567 , 278.35605, 278.3554 , 278.35477, 278.35413, 278.3535 ,\n",
       "           278.35284, 278.35223, 278.3516 , 278.35095, 278.3503 , 278.34967,\n",
       "           278.34903, 278.34842, 278.34778, 278.34714, 278.3465 , 278.34586],\n",
       "          [278.35657, 278.35593, 278.3553 , 278.35464, 278.354  , 278.3534 ,\n",
       "           278.35275, 278.3521 , 278.35147, 278.35083, 278.3502 , 278.34958,\n",
       "           278.34894, 278.3483 , 278.34766, 278.34702, 278.34637, 278.34576],\n",
       "          [278.35645, 278.3558 , 278.35516, 278.35455, 278.3539 , 278.35327,\n",
       "           278.35263, 278.352  , 278.35135, 278.35074, 278.3501 , 278.34946,\n",
       "           278.34882, 278.34818, 278.34753, 278.34692, 278.34628, 278.34564],\n",
       "          [278.35632, 278.3557 , 278.35507, 278.35443, 278.3538 , 278.35315,\n",
       "           278.3525 , 278.3519 , 278.35126, 278.35062, 278.34998, 278.34933,\n",
       "           278.3487 , 278.34808, 278.34744, 278.3468 , 278.34616, 278.34552],\n",
       "          [278.35623, 278.3556 , 278.35495, 278.3543 , 278.35367, 278.35306,\n",
       "           278.35242, 278.35178, 278.35114, 278.3505 , 278.34985, 278.3492 ,\n",
       "           278.3486 , 278.34796, 278.34732, 278.34668, 278.34604, 278.34543],\n",
       "          [278.3561 , 278.35547, 278.35483, 278.35422, 278.35358, 278.35294,\n",
       "           278.3523 , 278.35165, 278.351  , 278.35037, 278.34976, 278.34912,\n",
       "           278.34848, 278.34784, 278.3472 , 278.34656, 278.34595, 278.3453 ],\n",
       "          [278.356  , 278.35538, 278.35474, 278.3541 , 278.35345, 278.3528 ,\n",
       "           278.35217, 278.35153, 278.35092, 278.35028, 278.34964, 278.349  ,\n",
       "           278.34836, 278.34772, 278.3471 , 278.34647, 278.34583, 278.34518],\n",
       "          [278.3559 , 278.35526, 278.3546 , 278.35397, 278.35333, 278.3527 ,\n",
       "           278.35208, 278.35144, 278.3508 , 278.35016, 278.34952, 278.34888,\n",
       "           278.34827, 278.34763, 278.347  , 278.34634, 278.3457 , 278.34506],\n",
       "          [278.35577, 278.35513, 278.3545 , 278.35388, 278.35324, 278.3526 ,\n",
       "           278.35196, 278.35132, 278.35068, 278.35004, 278.34943, 278.3488 ,\n",
       "           278.34814, 278.3475 , 278.34686, 278.34622, 278.3456 , 278.34497],\n",
       "          [278.35565, 278.35504, 278.3544 , 278.35376, 278.35312, 278.35248,\n",
       "           278.35184, 278.3512 , 278.3506 , 278.34995, 278.3493 , 278.34866,\n",
       "           278.34802, 278.34738, 278.34677, 278.34613, 278.3455 , 278.34485],\n",
       "          [278.35556, 278.35492, 278.35428, 278.35364, 278.353  , 278.35236,\n",
       "           278.35175, 278.3511 , 278.35046, 278.34982, 278.34918, 278.34854,\n",
       "           278.34793, 278.3473 , 278.34665, 278.346  , 278.34537, 278.34473],\n",
       "          [278.35544, 278.3548 , 278.35416, 278.35352, 278.3529 , 278.35226,\n",
       "           278.35162, 278.35098, 278.35034, 278.3497 , 278.34906, 278.34845,\n",
       "           278.3478 , 278.34717, 278.34653, 278.3459 , 278.34528, 278.34464],\n",
       "          [278.35532, 278.35468, 278.35406, 278.35342, 278.35278, 278.35214,\n",
       "           278.3515 , 278.35086, 278.35025, 278.3496 , 278.34897, 278.34833,\n",
       "           278.3477 , 278.34705, 278.34644, 278.3458 , 278.34515, 278.3445 ],\n",
       "          [278.35522, 278.35458, 278.35394, 278.3533 , 278.35266, 278.35202,\n",
       "           278.3514 , 278.35077, 278.35013, 278.3495 , 278.34885, 278.3482 ,\n",
       "           278.34756, 278.34695, 278.3463 , 278.34567, 278.34503, 278.3444 ],\n",
       "          [278.3551 , 278.35446, 278.35382, 278.35318, 278.35257, 278.35193,\n",
       "           278.3513 , 278.35065, 278.35   , 278.34937, 278.34872, 278.3481 ,\n",
       "           278.34747, 278.34683, 278.3462 , 278.34555, 278.3449 , 278.3443 ],\n",
       "          [278.35498, 278.35434, 278.35373, 278.3531 , 278.35245, 278.3518 ,\n",
       "           278.35117, 278.35052, 278.34988, 278.34927, 278.34863, 278.348  ,\n",
       "           278.34735, 278.3467 , 278.34607, 278.34546, 278.34482, 278.34418],\n",
       "          [278.3549 , 278.35425, 278.3536 , 278.35297, 278.35233, 278.35168,\n",
       "           278.35104, 278.35043, 278.3498 , 278.34915, 278.3485 , 278.34787,\n",
       "           278.34723, 278.34662, 278.34598, 278.34534, 278.3447 , 278.34406],\n",
       "          [278.35477, 278.35413, 278.3535 , 278.35284, 278.3522 , 278.3516 ,\n",
       "           278.35095, 278.3503 , 278.34967, 278.34903, 278.3484 , 278.34778,\n",
       "           278.34714, 278.3465 , 278.34586, 278.3452 , 278.34457, 278.34396],\n",
       "          [278.35464, 278.354  , 278.3534 , 278.35275, 278.3521 , 278.35147,\n",
       "           278.35083, 278.3502 , 278.34955, 278.34894, 278.3483 , 278.34766,\n",
       "           278.34702, 278.34637, 278.34573, 278.34512, 278.34448, 278.34384],\n",
       "          [278.35455, 278.3539 , 278.35327, 278.35263, 278.352  , 278.35135,\n",
       "           278.3507 , 278.3501 , 278.34946, 278.34882, 278.34818, 278.34753,\n",
       "           278.3469 , 278.34628, 278.34564, 278.345  , 278.34436, 278.34372],\n",
       "          [278.35443, 278.3538 , 278.35315, 278.3525 , 278.35187, 278.35126,\n",
       "           278.35062, 278.34998, 278.34933, 278.3487 , 278.34805, 278.3474 ,\n",
       "           278.3468 , 278.34616, 278.34552, 278.34488, 278.34424, 278.34363],\n",
       "          [278.3543 , 278.35367, 278.35303, 278.35242, 278.35178, 278.35114,\n",
       "           278.3505 , 278.34985, 278.3492 , 278.34857, 278.34796, 278.34732,\n",
       "           278.34668, 278.34604, 278.3454 , 278.3448 , 278.34415, 278.3435 ],\n",
       "          [278.3542 , 278.35358, 278.35294, 278.3523 , 278.35165, 278.351  ,\n",
       "           278.35037, 278.34976, 278.34912, 278.34848, 278.34784, 278.3472 ,\n",
       "           278.34656, 278.34592, 278.3453 , 278.34467, 278.34402, 278.34338],\n",
       "          [278.3541 , 278.35345, 278.3528 , 278.35217, 278.35153, 278.35092,\n",
       "           278.35028, 278.34964, 278.349  , 278.34836, 278.34772, 278.34708,\n",
       "           278.34647, 278.34583, 278.34518, 278.34454, 278.3439 , 278.34326],\n",
       "          [278.35397, 278.35333, 278.3527 , 278.35208, 278.35144, 278.3508 ,\n",
       "           278.35016, 278.34952, 278.34888, 278.34824, 278.34763, 278.347  ,\n",
       "           278.34634, 278.3457 , 278.34506, 278.34442, 278.3438 , 278.34317],\n",
       "          [278.35385, 278.35324, 278.3526 , 278.35196, 278.35132, 278.35068,\n",
       "           278.35004, 278.3494 , 278.3488 , 278.34814, 278.3475 , 278.34686,\n",
       "           278.34622, 278.34558, 278.34497, 278.34433, 278.3437 , 278.34305],\n",
       "          [278.35376, 278.35312, 278.35248, 278.35184, 278.3512 , 278.35056,\n",
       "           278.34995, 278.3493 , 278.34866, 278.34802, 278.34738, 278.34674,\n",
       "           278.34613, 278.3455 , 278.34485, 278.3442 , 278.34357, 278.34293]],\n",
       "         dtype=float32),\n",
       "   'grid_lons': array([[-39.46928061, -39.46999153, -39.47070245, -39.47141338,\n",
       "           -39.47212431, -39.47283524, -39.47354618, -39.47425711,\n",
       "           -39.47496806, -39.475679  , -39.47638995, -39.4771009 ,\n",
       "           -39.47781186, -39.47852282, -39.47923378, -39.47994474,\n",
       "           -39.48065571, -39.48136668],\n",
       "          [-39.46938579, -39.4700967 , -39.47080761, -39.47151853,\n",
       "           -39.47222945, -39.47294038, -39.4736513 , -39.47436223,\n",
       "           -39.47507317, -39.47578411, -39.47649505, -39.47720599,\n",
       "           -39.47791694, -39.47862789, -39.47933884, -39.4800498 ,\n",
       "           -39.48076076, -39.48147172],\n",
       "          [-39.46949096, -39.47020186, -39.47091277, -39.47162368,\n",
       "           -39.47233459, -39.47304551, -39.47375643, -39.47446735,\n",
       "           -39.47517828, -39.47588921, -39.47660014, -39.47731108,\n",
       "           -39.47802202, -39.47873296, -39.47944391, -39.48015486,\n",
       "           -39.48086581, -39.48157676],\n",
       "          [-39.46959613, -39.47030702, -39.47101792, -39.47172883,\n",
       "           -39.47243973, -39.47315064, -39.47386155, -39.47457247,\n",
       "           -39.47528339, -39.47599431, -39.47670523, -39.47741616,\n",
       "           -39.47812709, -39.47883803, -39.47954897, -39.48025991,\n",
       "           -39.48097085, -39.4816818 ],\n",
       "          [-39.4697013 , -39.47041218, -39.47112308, -39.47183397,\n",
       "           -39.47254487, -39.47325577, -39.47396667, -39.47467758,\n",
       "           -39.47538849, -39.47609941, -39.47681032, -39.47752124,\n",
       "           -39.47823217, -39.47894309, -39.47965402, -39.48036496,\n",
       "           -39.4810759 , -39.48178684],\n",
       "          [-39.46980646, -39.47051734, -39.47122822, -39.47193911,\n",
       "           -39.47265   , -39.47336089, -39.47407179, -39.47478269,\n",
       "           -39.47549359, -39.4762045 , -39.47691541, -39.47762632,\n",
       "           -39.47833724, -39.47904816, -39.47975908, -39.48047001,\n",
       "           -39.48118093, -39.48189187],\n",
       "          [-39.46991162, -39.4706225 , -39.47133337, -39.47204425,\n",
       "           -39.47275513, -39.47346602, -39.47417691, -39.4748878 ,\n",
       "           -39.47559869, -39.47630959, -39.47702049, -39.4777314 ,\n",
       "           -39.47844231, -39.47915322, -39.47986413, -39.48057505,\n",
       "           -39.48128597, -39.4819969 ],\n",
       "          [-39.47001678, -39.47072765, -39.47143852, -39.47214939,\n",
       "           -39.47286026, -39.47357114, -39.47428202, -39.4749929 ,\n",
       "           -39.47570379, -39.47641468, -39.47712557, -39.47783647,\n",
       "           -39.47854737, -39.47925828, -39.47996918, -39.48068009,\n",
       "           -39.48139101, -39.48210192],\n",
       "          [-39.47012194, -39.4708328 , -39.47154366, -39.47225452,\n",
       "           -39.47296539, -39.47367626, -39.47438713, -39.47509801,\n",
       "           -39.47580888, -39.47651977, -39.47723065, -39.47794154,\n",
       "           -39.47865244, -39.47936333, -39.48007423, -39.48078513,\n",
       "           -39.48149604, -39.48220695],\n",
       "          [-39.47022709, -39.47093794, -39.4716488 , -39.47235965,\n",
       "           -39.47307051, -39.47378137, -39.47449224, -39.47520311,\n",
       "           -39.47591398, -39.47662485, -39.47733573, -39.47804661,\n",
       "           -39.4787575 , -39.47946838, -39.48017928, -39.48089017,\n",
       "           -39.48160107, -39.48231197],\n",
       "          [-39.47033225, -39.47104309, -39.47175393, -39.47246478,\n",
       "           -39.47317563, -39.47388648, -39.47459734, -39.4753082 ,\n",
       "           -39.47601907, -39.47672993, -39.4774408 , -39.47815168,\n",
       "           -39.47886256, -39.47957344, -39.48028432, -39.48099521,\n",
       "           -39.4817061 , -39.48241699],\n",
       "          [-39.4704374 , -39.47114823, -39.47185907, -39.47256991,\n",
       "           -39.47328075, -39.4739916 , -39.47470245, -39.4754133 ,\n",
       "           -39.47612415, -39.47683501, -39.47754588, -39.47825674,\n",
       "           -39.47896761, -39.47967848, -39.48038936, -39.48110024,\n",
       "           -39.48181112, -39.48252201],\n",
       "          [-39.47054254, -39.47125337, -39.4719642 , -39.47267503,\n",
       "           -39.47338587, -39.4740967 , -39.47480755, -39.47551839,\n",
       "           -39.47622924, -39.47694009, -39.47765094, -39.4783618 ,\n",
       "           -39.47907266, -39.47978353, -39.4804944 , -39.48120527,\n",
       "           -39.48191614, -39.48262702],\n",
       "          [-39.47064769, -39.47135851, -39.47206933, -39.47278015,\n",
       "           -39.47349098, -39.47420181, -39.47491264, -39.47562348,\n",
       "           -39.47633432, -39.47704516, -39.47775601, -39.47846686,\n",
       "           -39.47917772, -39.47988857, -39.48059943, -39.4813103 ,\n",
       "           -39.48202116, -39.48273203],\n",
       "          [-39.47075283, -39.47146364, -39.47217445, -39.47288527,\n",
       "           -39.47359609, -39.47430691, -39.47501774, -39.47572857,\n",
       "           -39.4764394 , -39.47715024, -39.47786108, -39.47857192,\n",
       "           -39.47928276, -39.47999361, -39.48070446, -39.48141532,\n",
       "           -39.48212618, -39.48283704],\n",
       "          [-39.47085797, -39.47156877, -39.47227958, -39.47299039,\n",
       "           -39.4737012 , -39.47441201, -39.47512283, -39.47583365,\n",
       "           -39.47654448, -39.47725531, -39.47796614, -39.47867697,\n",
       "           -39.47938781, -39.48009865, -39.48080949, -39.48152034,\n",
       "           -39.48223119, -39.48294205],\n",
       "          [-39.47096311, -39.4716739 , -39.4723847 , -39.4730955 ,\n",
       "           -39.4738063 , -39.47451711, -39.47522792, -39.47593873,\n",
       "           -39.47664955, -39.47736037, -39.4780712 , -39.47878202,\n",
       "           -39.47949285, -39.48020369, -39.48091452, -39.48162536,\n",
       "           -39.48233621, -39.48304705],\n",
       "          [-39.47106824, -39.47177903, -39.47248982, -39.47320061,\n",
       "           -39.47391141, -39.47462221, -39.47533301, -39.47604381,\n",
       "           -39.47675462, -39.47746544, -39.47817625, -39.47888707,\n",
       "           -39.47959789, -39.48030872, -39.48101955, -39.48173038,\n",
       "           -39.48244121, -39.48315205],\n",
       "          [-39.47117337, -39.47188415, -39.47259493, -39.47330572,\n",
       "           -39.47401651, -39.4747273 , -39.47543809, -39.47614889,\n",
       "           -39.47685969, -39.4775705 , -39.47828131, -39.47899212,\n",
       "           -39.47970293, -39.48041375, -39.48112457, -39.48183539,\n",
       "           -39.48254622, -39.48325705],\n",
       "          [-39.4712785 , -39.47198927, -39.47270005, -39.47341083,\n",
       "           -39.47412161, -39.47483239, -39.47554318, -39.47625397,\n",
       "           -39.47696476, -39.47767556, -39.47838636, -39.47909716,\n",
       "           -39.47980797, -39.48051878, -39.48122959, -39.48194041,\n",
       "           -39.48265123, -39.48336205],\n",
       "          [-39.47138363, -39.47209439, -39.47280516, -39.47351593,\n",
       "           -39.4742267 , -39.47493748, -39.47564826, -39.47635904,\n",
       "           -39.47706982, -39.47778061, -39.47849141, -39.4792022 ,\n",
       "           -39.479913  , -39.4806238 , -39.48133461, -39.48204542,\n",
       "           -39.48275623, -39.48346704],\n",
       "          [-39.47148875, -39.47219951, -39.47291027, -39.47362103,\n",
       "           -39.47433179, -39.47504256, -39.47575333, -39.47646411,\n",
       "           -39.47717489, -39.47788567, -39.47859645, -39.47930724,\n",
       "           -39.48001803, -39.48072882, -39.48143962, -39.48215042,\n",
       "           -39.48286123, -39.48357203],\n",
       "          [-39.47159388, -39.47230462, -39.47301537, -39.47372613,\n",
       "           -39.47443688, -39.47514765, -39.47585841, -39.47656918,\n",
       "           -39.47727995, -39.47799072, -39.4787015 , -39.47941228,\n",
       "           -39.48012306, -39.48083385, -39.48154463, -39.48225543,\n",
       "           -39.48296622, -39.48367702],\n",
       "          [-39.471699  , -39.47240974, -39.47312048, -39.47383122,\n",
       "           -39.47454197, -39.47525273, -39.47596348, -39.47667424,\n",
       "           -39.477385  , -39.47809577, -39.47880654, -39.47951731,\n",
       "           -39.48022808, -39.48093886, -39.48164964, -39.48236043,\n",
       "           -39.48307122, -39.48378201],\n",
       "          [-39.47180411, -39.47251484, -39.47322558, -39.47393632,\n",
       "           -39.47464706, -39.4753578 , -39.47606855, -39.4767793 ,\n",
       "           -39.47749006, -39.47820081, -39.47891158, -39.47962234,\n",
       "           -39.48033311, -39.48104388, -39.48175465, -39.48246543,\n",
       "           -39.48317621, -39.48388699],\n",
       "          [-39.47190923, -39.47261995, -39.47333068, -39.47404141,\n",
       "           -39.47475214, -39.47546288, -39.47617362, -39.47688436,\n",
       "           -39.47759511, -39.47830586, -39.47901661, -39.47972737,\n",
       "           -39.48043813, -39.48114889, -39.48185966, -39.48257043,\n",
       "           -39.4832812 , -39.48399198],\n",
       "          [-39.47201434, -39.47272505, -39.47343577, -39.4741465 ,\n",
       "           -39.47485722, -39.47556795, -39.47627868, -39.47698942,\n",
       "           -39.47770016, -39.4784109 , -39.47912165, -39.47983239,\n",
       "           -39.48054315, -39.4812539 , -39.48196466, -39.48267542,\n",
       "           -39.48338619, -39.48409695],\n",
       "          [-39.47211945, -39.47283016, -39.47354087, -39.47425158,\n",
       "           -39.4749623 , -39.47567302, -39.47638375, -39.47709447,\n",
       "           -39.4778052 , -39.47851594, -39.47922668, -39.47993742,\n",
       "           -39.48064816, -39.48135891, -39.48206966, -39.48278041,\n",
       "           -39.48349117, -39.48420193],\n",
       "          [-39.47222455, -39.47293526, -39.47364596, -39.47435667,\n",
       "           -39.47506738, -39.47577809, -39.47648881, -39.47719953,\n",
       "           -39.47791025, -39.47862098, -39.47933171, -39.48004244,\n",
       "           -39.48075317, -39.48146391, -39.48217466, -39.4828854 ,\n",
       "           -39.48359615, -39.4843069 ]]),\n",
       "   'grid_lats': array([[59.93644083, 59.93649208, 59.93654333, 59.93659458, 59.93664582,\n",
       "           59.93669706, 59.93674829, 59.93679952, 59.93685075, 59.93690197,\n",
       "           59.93695319, 59.9370044 , 59.93705561, 59.93710682, 59.93715802,\n",
       "           59.93720922, 59.93726042, 59.93731161],\n",
       "          [59.93608233, 59.93613358, 59.93618483, 59.93623607, 59.93628732,\n",
       "           59.93633855, 59.93638979, 59.93644102, 59.93649224, 59.93654346,\n",
       "           59.93659468, 59.9366459 , 59.93669711, 59.93674831, 59.93679951,\n",
       "           59.93685071, 59.93690191, 59.9369531 ],\n",
       "          [59.93572383, 59.93577508, 59.93582633, 59.93587757, 59.93592881,\n",
       "           59.93598005, 59.93603128, 59.93608251, 59.93613374, 59.93618496,\n",
       "           59.93623618, 59.93628739, 59.9363386 , 59.93638981, 59.93644101,\n",
       "           59.93649221, 59.9365434 , 59.93659459],\n",
       "          [59.93536533, 59.93541658, 59.93546783, 59.93551907, 59.93557031,\n",
       "           59.93562155, 59.93567278, 59.93572401, 59.93577523, 59.93582645,\n",
       "           59.93587767, 59.93592888, 59.93598009, 59.9360313 , 59.9360825 ,\n",
       "           59.9361337 , 59.93618489, 59.93623608],\n",
       "          [59.93500683, 59.93505808, 59.93510932, 59.93516057, 59.93521181,\n",
       "           59.93526304, 59.93531428, 59.9353655 , 59.93541673, 59.93546795,\n",
       "           59.93551917, 59.93557038, 59.93562159, 59.93567279, 59.935724  ,\n",
       "           59.93577519, 59.93582639, 59.93587758],\n",
       "          [59.93464832, 59.93469958, 59.93475082, 59.93480207, 59.93485331,\n",
       "           59.93490454, 59.93495577, 59.935007  , 59.93505822, 59.93510944,\n",
       "           59.93516066, 59.93521187, 59.93526308, 59.93531429, 59.93536549,\n",
       "           59.93541669, 59.93546788, 59.93551907],\n",
       "          [59.93428982, 59.93434107, 59.93439232, 59.93444356, 59.9344948 ,\n",
       "           59.93454604, 59.93459727, 59.9346485 , 59.93469972, 59.93475094,\n",
       "           59.93480216, 59.93485337, 59.93490458, 59.93495578, 59.93500698,\n",
       "           59.93505818, 59.93510937, 59.93516056],\n",
       "          [59.93393132, 59.93398257, 59.93403382, 59.93408506, 59.9341363 ,\n",
       "           59.93418753, 59.93423876, 59.93428999, 59.93434122, 59.93439243,\n",
       "           59.93444365, 59.93449486, 59.93454607, 59.93459727, 59.93464847,\n",
       "           59.93469967, 59.93475086, 59.93480205],\n",
       "          [59.93357282, 59.93362407, 59.93367532, 59.93372656, 59.9337778 ,\n",
       "           59.93382903, 59.93388026, 59.93393149, 59.93398271, 59.93403393,\n",
       "           59.93408514, 59.93413636, 59.93418756, 59.93423877, 59.93428997,\n",
       "           59.93434116, 59.93439235, 59.93444354],\n",
       "          [59.93321432, 59.93326557, 59.93331681, 59.93336805, 59.93341929,\n",
       "           59.93347053, 59.93352176, 59.93357298, 59.93362421, 59.93367542,\n",
       "           59.93372664, 59.93377785, 59.93382906, 59.93388026, 59.93393146,\n",
       "           59.93398265, 59.93403385, 59.93408503],\n",
       "          [59.93285582, 59.93290706, 59.93295831, 59.93300955, 59.93306079,\n",
       "           59.93311202, 59.93316325, 59.93321448, 59.9332657 , 59.93331692,\n",
       "           59.93336813, 59.93341934, 59.93347055, 59.93352175, 59.93357295,\n",
       "           59.93362415, 59.93367534, 59.93372653],\n",
       "          [59.93249731, 59.93254856, 59.93259981, 59.93265105, 59.93270229,\n",
       "           59.93275352, 59.93280475, 59.93285597, 59.93290719, 59.93295841,\n",
       "           59.93300963, 59.93306084, 59.93311204, 59.93316325, 59.93321444,\n",
       "           59.93326564, 59.93331683, 59.93336802],\n",
       "          [59.93213881, 59.93219006, 59.9322413 , 59.93229254, 59.93234378,\n",
       "           59.93239501, 59.93244624, 59.93249747, 59.93254869, 59.93259991,\n",
       "           59.93265112, 59.93270233, 59.93275354, 59.93280474, 59.93285594,\n",
       "           59.93290713, 59.93295832, 59.93300951],\n",
       "          [59.93178031, 59.93183156, 59.9318828 , 59.93193404, 59.93198528,\n",
       "           59.93203651, 59.93208774, 59.93213896, 59.93219018, 59.9322414 ,\n",
       "           59.93229261, 59.93234382, 59.93239503, 59.93244623, 59.93249743,\n",
       "           59.93254862, 59.93259981, 59.932651  ],\n",
       "          [59.93142181, 59.93147305, 59.9315243 , 59.93157554, 59.93162677,\n",
       "           59.93167801, 59.93172923, 59.93178046, 59.93183168, 59.9318829 ,\n",
       "           59.93193411, 59.93198532, 59.93203652, 59.93208772, 59.93213892,\n",
       "           59.93219011, 59.9322413 , 59.93229249],\n",
       "          [59.9310633 , 59.93111455, 59.93116579, 59.93121703, 59.93126827,\n",
       "           59.9313195 , 59.93137073, 59.93142195, 59.93147317, 59.93152439,\n",
       "           59.9315756 , 59.93162681, 59.93167801, 59.93172922, 59.93178041,\n",
       "           59.93183161, 59.93188279, 59.93193398],\n",
       "          [59.9307048 , 59.93075605, 59.93080729, 59.93085853, 59.93090977,\n",
       "           59.930961  , 59.93101222, 59.93106345, 59.93111467, 59.93116588,\n",
       "           59.93121709, 59.9312683 , 59.93131951, 59.93137071, 59.9314219 ,\n",
       "           59.9314731 , 59.93152429, 59.93157547],\n",
       "          [59.9303463 , 59.93039755, 59.93044879, 59.93050003, 59.93055126,\n",
       "           59.93060249, 59.93065372, 59.93070494, 59.93075616, 59.93080738,\n",
       "           59.93085859, 59.9309098 , 59.930961  , 59.9310122 , 59.9310634 ,\n",
       "           59.93111459, 59.93116578, 59.93121696],\n",
       "          [59.9299878 , 59.93003904, 59.93009028, 59.93014152, 59.93019276,\n",
       "           59.93024399, 59.93029521, 59.93034644, 59.93039765, 59.93044887,\n",
       "           59.93050008, 59.93055129, 59.93060249, 59.93065369, 59.93070489,\n",
       "           59.93075608, 59.93080727, 59.93085845],\n",
       "          [59.92962929, 59.92968054, 59.92973178, 59.92978302, 59.92983425,\n",
       "           59.92988548, 59.92993671, 59.92998793, 59.93003915, 59.93009036,\n",
       "           59.93014157, 59.93019278, 59.93024398, 59.93029518, 59.93034638,\n",
       "           59.93039757, 59.93044876, 59.93049994],\n",
       "          [59.92927079, 59.92932204, 59.92937328, 59.92942451, 59.92947575,\n",
       "           59.92952698, 59.9295782 , 59.92962942, 59.92968064, 59.92973186,\n",
       "           59.92978307, 59.92983427, 59.92988548, 59.92993667, 59.92998787,\n",
       "           59.93003906, 59.93009025, 59.93014143],\n",
       "          [59.92891229, 59.92896353, 59.92901477, 59.92906601, 59.92911724,\n",
       "           59.92916847, 59.9292197 , 59.92927092, 59.92932214, 59.92937335,\n",
       "           59.92942456, 59.92947577, 59.92952697, 59.92957817, 59.92962936,\n",
       "           59.92968055, 59.92973174, 59.92978292],\n",
       "          [59.92855378, 59.92860503, 59.92865627, 59.9287075 , 59.92875874,\n",
       "           59.92880997, 59.92886119, 59.92891241, 59.92896363, 59.92901484,\n",
       "           59.92906605, 59.92911726, 59.92916846, 59.92921966, 59.92927085,\n",
       "           59.92932204, 59.92937323, 59.92942441],\n",
       "          [59.92819528, 59.92824652, 59.92829776, 59.928349  , 59.92840023,\n",
       "           59.92845146, 59.92850268, 59.92855391, 59.92860512, 59.92865634,\n",
       "           59.92870754, 59.92875875, 59.92880995, 59.92886115, 59.92891234,\n",
       "           59.92896353, 59.92901472, 59.9290659 ],\n",
       "          [59.92783678, 59.92788802, 59.92793926, 59.92799049, 59.92804173,\n",
       "           59.92809295, 59.92814418, 59.9281954 , 59.92824662, 59.92829783,\n",
       "           59.92834904, 59.92840024, 59.92845144, 59.92850264, 59.92855383,\n",
       "           59.92860502, 59.92865621, 59.92870739],\n",
       "          [59.92747827, 59.92752952, 59.92758075, 59.92763199, 59.92768322,\n",
       "           59.92773445, 59.92778567, 59.92783689, 59.92788811, 59.92793932,\n",
       "           59.92799053, 59.92804173, 59.92809293, 59.92814413, 59.92819532,\n",
       "           59.92824651, 59.9282977 , 59.92834888],\n",
       "          [59.92711977, 59.92717101, 59.92722225, 59.92727348, 59.92732472,\n",
       "           59.92737594, 59.92742717, 59.92747839, 59.9275296 , 59.92758081,\n",
       "           59.92763202, 59.92768322, 59.92773442, 59.92778562, 59.92783681,\n",
       "           59.927888  , 59.92793919, 59.92799037],\n",
       "          [59.92676126, 59.92681251, 59.92686374, 59.92691498, 59.92696621,\n",
       "           59.92701744, 59.92706866, 59.92711988, 59.92717109, 59.92722231,\n",
       "           59.92727351, 59.92732472, 59.92737592, 59.92742711, 59.9274783 ,\n",
       "           59.92752949, 59.92758068, 59.92763186],\n",
       "          [59.92640276, 59.926454  , 59.92650524, 59.92655647, 59.9266077 ,\n",
       "           59.92665893, 59.92671015, 59.92676137, 59.92681259, 59.9268638 ,\n",
       "           59.926915  , 59.92696621, 59.92701741, 59.9270686 , 59.92711979,\n",
       "           59.92717098, 59.92722217, 59.92727335]]),\n",
       "   'pol': 'HH'},\n",
       "  '0.001': {'epsilon': 0.001,\n",
       "   's0': array([[-inf, -inf, -inf, -inf],\n",
       "          [-inf, -inf, -inf, -inf],\n",
       "          [-inf, -inf, -inf, -inf],\n",
       "          [-inf, -inf, -inf, -inf],\n",
       "          [-inf, -inf, -inf, -inf],\n",
       "          [-inf, -inf, -inf, -inf]]),\n",
       "   's0_norm': array([[-inf, -inf, -inf, -inf],\n",
       "          [-inf, -inf, -inf, -inf],\n",
       "          [-inf, -inf, -inf, -inf],\n",
       "          [-inf, -inf, -inf, -inf],\n",
       "          [-inf, -inf, -inf, -inf],\n",
       "          [-inf, -inf, -inf, -inf]]),\n",
       "   'inc': array([[46.75622959, 46.75819725, 46.7601649 , 46.76213256],\n",
       "          [46.75624263, 46.75821028, 46.76017794, 46.76214559],\n",
       "          [46.75625567, 46.75822332, 46.76019097, 46.76215863],\n",
       "          [46.75626871, 46.75823636, 46.76020401, 46.76217166],\n",
       "          [46.75628174, 46.75824939, 46.76021705, 46.7621847 ],\n",
       "          [46.75629478, 46.75826243, 46.76023008, 46.76219773]]),\n",
       "   'az': array([[278.3511 , 278.35046, 278.34982, 278.34918],\n",
       "          [278.35098, 278.35034, 278.3497 , 278.34906],\n",
       "          [278.35086, 278.35025, 278.3496 , 278.34897],\n",
       "          [278.35077, 278.35013, 278.3495 , 278.34885],\n",
       "          [278.35065, 278.35   , 278.34937, 278.34872],\n",
       "          [278.35052, 278.34988, 278.34927, 278.34863]], dtype=float32),\n",
       "   'grid_lons': array([[-39.4755184 , -39.47622924, -39.47694009, -39.47765094],\n",
       "          [-39.47562349, -39.47633433, -39.47704516, -39.477756  ],\n",
       "          [-39.47572858, -39.47643941, -39.47715024, -39.47786107],\n",
       "          [-39.47583367, -39.47654448, -39.47725531, -39.47796613],\n",
       "          [-39.47593875, -39.47664956, -39.47736037, -39.47807119],\n",
       "          [-39.47604383, -39.47675463, -39.47746544, -39.47817625]]),\n",
       "   'grid_lats': array([[59.93249747, 59.93254869, 59.93259991, 59.93265112],\n",
       "          [59.93213897, 59.93219019, 59.9322414 , 59.93229262],\n",
       "          [59.93178046, 59.93183168, 59.9318829 , 59.93193411],\n",
       "          [59.93142195, 59.93147317, 59.93152439, 59.9315756 ],\n",
       "          [59.93106345, 59.93111467, 59.93116588, 59.93121709],\n",
       "          [59.93070494, 59.93075616, 59.93080737, 59.93085859]]),\n",
       "   'pol': 'HH'},\n",
       "  '0.05': {'epsilon': 0.05,\n",
       "   's0': array([[-59.71403486, -53.6931744 , -53.69291426, ...,         -inf,\n",
       "                   -inf,         -inf],\n",
       "          [-53.69343416, -59.71377353, -53.69291347, ...,         -inf,\n",
       "                   -inf,         -inf],\n",
       "          [-53.69343338, -59.71377274, -53.69291269, ...,         -inf,\n",
       "                   -inf,         -inf],\n",
       "          ...,\n",
       "          [-53.69320691, -59.71354629, -53.69268625, ...,         -inf,\n",
       "                   -inf,         -inf],\n",
       "          [-59.71380604, -59.71354551, -53.69268547, ...,         -inf,\n",
       "                   -inf,         -inf],\n",
       "          [-59.71380526, -59.71354472, -59.7132846 , ...,         -inf,\n",
       "                   -inf,         -inf]]),\n",
       "   's0_norm': array([[-27.60251509, -24.59132137, -24.59042782, ...,         -inf,\n",
       "                   -inf,         -inf],\n",
       "          [-24.59220966, -27.60161586, -24.59042235, ...,         -inf,\n",
       "                   -inf,         -inf],\n",
       "          [-24.59220419, -27.60161039, -24.59041688, ...,         -inf,\n",
       "                   -inf,         -inf],\n",
       "          ...,\n",
       "          [-24.59062356, -27.60002983, -24.58883639, ...,         -inf,\n",
       "                   -inf,         -inf],\n",
       "          [-27.60091804, -27.60002436, -24.58883092, ...,         -inf,\n",
       "                   -inf,         -inf],\n",
       "          [-27.60091257, -27.60001889, -27.59912541, ...,         -inf,\n",
       "                   -inf,         -inf]]),\n",
       "   'inc': array([[46.58119161, 46.58315934, 46.58512708, ..., 46.92948065,\n",
       "           46.93144838, 46.93341612],\n",
       "          [46.5812047 , 46.58317243, 46.58514016, ..., 46.92949364,\n",
       "           46.93146137, 46.9334291 ],\n",
       "          [46.58121778, 46.58318552, 46.58515325, ..., 46.92950662,\n",
       "           46.93147436, 46.93344209],\n",
       "          ...,\n",
       "          [46.58499974, 46.58696731, 46.58893488, ..., 46.93325991,\n",
       "           46.93522748, 46.93719505],\n",
       "          [46.58501283, 46.5869804 , 46.58894797, ..., 46.9332729 ,\n",
       "           46.93524047, 46.93720804],\n",
       "          [46.58502591, 46.58699348, 46.58896105, ..., 46.93328588,\n",
       "           46.93525345, 46.93722102]]),\n",
       "   'az': array([[278.4232 , 278.42255, 278.4219 , ..., 278.3112 , 278.3106 ,\n",
       "           278.31003],\n",
       "          [278.42307, 278.42245, 278.4218 , ..., 278.31107, 278.3105 ,\n",
       "           278.30994],\n",
       "          [278.42297, 278.42233, 278.4217 , ..., 278.31097, 278.3104 ,\n",
       "           278.3098 ],\n",
       "          ...,\n",
       "          [278.39056, 278.38995, 278.3893 , ..., 278.27826, 278.27768,\n",
       "           278.2771 ],\n",
       "          [278.39047, 278.38983, 278.3892 , ..., 278.27814, 278.27756,\n",
       "           278.27698],\n",
       "          [278.39035, 278.3897 , 278.38907, ..., 278.278  , 278.27744,\n",
       "           278.2769 ]], dtype=float32),\n",
       "   'grid_lons': array([[-39.39771817, -39.39842986, -39.39914155, ..., -39.52373757,\n",
       "           -39.52444983, -39.5251621 ],\n",
       "          [-39.39782431, -39.39853599, -39.39924767, ..., -39.52384233,\n",
       "           -39.52455458, -39.52526684],\n",
       "          [-39.39793045, -39.39864212, -39.39935379, ..., -39.52394708,\n",
       "           -39.52465933, -39.52537158],\n",
       "          ...,\n",
       "          [-39.42849882, -39.42920823, -39.42991765, ..., -39.55411555,\n",
       "           -39.55482554, -39.55553554],\n",
       "          [-39.42860423, -39.42931363, -39.43002304, ..., -39.55421958,\n",
       "           -39.55492956, -39.55563955],\n",
       "          [-39.42870963, -39.42941903, -39.43012843, ..., -39.5543236 ,\n",
       "           -39.55503357, -39.55574355]]),\n",
       "   'grid_lats': array([[59.97959324, 59.97964486, 59.97969647, ..., 59.98866972,\n",
       "           59.98872065, 59.98877159],\n",
       "          [59.97923479, 59.9792864 , 59.97933802, ..., 59.98831119,\n",
       "           59.98836213, 59.98841306],\n",
       "          [59.97887633, 59.97892795, 59.97897957, ..., 59.98795267,\n",
       "           59.98800361, 59.98805454],\n",
       "          ...,\n",
       "          [59.87527847, 59.87532998, 59.87538147, ..., 59.8843341 ,\n",
       "           59.88438492, 59.88443574],\n",
       "          [59.87491999, 59.87497149, 59.87502298, ..., 59.88397554,\n",
       "           59.88402636, 59.88407718],\n",
       "          [59.8745615 , 59.874613  , 59.87466449, ..., 59.88361698,\n",
       "           59.8836678 , 59.88371862]]),\n",
       "   'pol': 'HH'}}}"
      ]
     },
     "execution_count": 13,
     "metadata": {},
     "output_type": "execute_result"
    }
   ],
   "source": [
    "\n",
    "in_situ_obs['Irminger_3']['products']['ac7398fb-855a-4d9c-8975-6eb9698062e7']"
   ]
  },
  {
   "cell_type": "code",
   "execution_count": 14,
   "id": "d578b132-902f-4f75-ae2c-fbf44ca0b0a6",
   "metadata": {},
   "outputs": [],
   "source": [
    "fname = in_situ_obs['Irminger_3']['products']['ac7398fb-855a-4d9c-8975-6eb9698062e7']['filename']"
   ]
  },
  {
   "cell_type": "code",
   "execution_count": 15,
   "id": "ffc1a206-d1d1-4423-b43b-fb9b62a8fbae",
   "metadata": {},
   "outputs": [
    {
     "data": {
      "text/plain": [
       "'S1B_EW_GRDM_1SDH_20170720T084730_20170720T084830_006569_00B8D6_F92F.SAFE'"
      ]
     },
     "execution_count": 15,
     "metadata": {},
     "output_type": "execute_result"
    }
   ],
   "source": [
    "fname"
   ]
  },
  {
   "cell_type": "code",
   "execution_count": 16,
   "id": "d8c6fca1-936b-4c24-ad06-b823bdf391c3",
   "metadata": {},
   "outputs": [
    {
     "data": {
      "text/plain": [
       "True"
      ]
     },
     "execution_count": 16,
     "metadata": {},
     "output_type": "execute_result"
    }
   ],
   "source": [
    "import os\n",
    "os.path.exists(data_dir + 'S1B_EW_GRDM_1SDH_20161120T090355_20161120T090455_003040_0052B3_FD0E.zip')"
   ]
  },
  {
   "cell_type": "code",
   "execution_count": 122,
   "id": "a94533a5-37a4-4310-a5f9-7335b879d91b",
   "metadata": {
    "scrolled": true,
    "tags": []
   },
   "outputs": [
    {
     "name": "stderr",
     "output_type": "stream",
     "text": [
      "02:06:49|40|nansat|_get_dataset_metadata|GDAL could not open /lustre/storeB/project/IT/geout/machine-ocean/data_raw/sentinel/S1B_EW_GRDM_1SDH_20170720T084730_20170720T084830_006569_00B8D6_F92F.SAFE, trying to read with Nansat mappers...\n"
     ]
    },
    {
     "ename": "OSError",
     "evalue": "/lustre/storeB/project/IT/geout/machine-ocean/data_raw/sentinel/S1B_EW_GRDM_1SDH_20170720T084730_20170720T084830_006569_00B8D6_F92F.SAFE: File does not exist",
     "output_type": "error",
     "traceback": [
      "\u001b[0;31m---------------------------------------------------------------------------\u001b[0m",
      "\u001b[0;31mOSError\u001b[0m                                   Traceback (most recent call last)",
      "Cell \u001b[0;32mIn [122], line 1\u001b[0m\n\u001b[0;32m----> 1\u001b[0m n \u001b[38;5;241m=\u001b[39m Nansat(data_dir \u001b[38;5;241m+\u001b[39mfname)\n\u001b[1;32m      2\u001b[0m n\n",
      "File \u001b[0;32m~/repos/github/nansat/nansat/nansat.py:159\u001b[0m, in \u001b[0;36mNansat.__init__\u001b[0;34m(self, filename, mapper, log_level, **kwargs)\u001b[0m\n\u001b[1;32m    157\u001b[0m \u001b[38;5;28mself\u001b[39m\u001b[38;5;241m.\u001b[39m_init_empty(filename, log_level)\n\u001b[1;32m    158\u001b[0m \u001b[38;5;66;03m# Create VRT object with mapping of variables\u001b[39;00m\n\u001b[0;32m--> 159\u001b[0m \u001b[38;5;28mself\u001b[39m\u001b[38;5;241m.\u001b[39mvrt \u001b[38;5;241m=\u001b[39m \u001b[38;5;28;43mself\u001b[39;49m\u001b[38;5;241;43m.\u001b[39;49m\u001b[43m_get_mapper\u001b[49m\u001b[43m(\u001b[49m\u001b[43mmapper\u001b[49m\u001b[43m,\u001b[49m\u001b[43m \u001b[49m\u001b[38;5;241;43m*\u001b[39;49m\u001b[38;5;241;43m*\u001b[39;49m\u001b[43mkwargs\u001b[49m\u001b[43m)\u001b[49m\n",
      "File \u001b[0;32m~/repos/github/nansat/nansat/nansat.py:1185\u001b[0m, in \u001b[0;36mNansat._get_mapper\u001b[0;34m(self, mappername, **kwargs)\u001b[0m\n\u001b[1;32m   1182\u001b[0m \u001b[38;5;28;01mif\u001b[39;00m tmp_vrt \u001b[38;5;129;01mis\u001b[39;00m \u001b[38;5;28;01mNone\u001b[39;00m \u001b[38;5;129;01mand\u001b[39;00m gdal_dataset \u001b[38;5;129;01mis\u001b[39;00m \u001b[38;5;28;01mNone\u001b[39;00m:\n\u001b[1;32m   1183\u001b[0m     \u001b[38;5;66;03m# check if given data file exists\u001b[39;00m\n\u001b[1;32m   1184\u001b[0m     \u001b[38;5;28;01mif\u001b[39;00m \u001b[38;5;129;01mnot\u001b[39;00m os\u001b[38;5;241m.\u001b[39mpath\u001b[38;5;241m.\u001b[39misfile(\u001b[38;5;28mself\u001b[39m\u001b[38;5;241m.\u001b[39mfilename):\n\u001b[0;32m-> 1185\u001b[0m         \u001b[38;5;28;01mraise\u001b[39;00m \u001b[38;5;167;01mIOError\u001b[39;00m(\u001b[38;5;124m'\u001b[39m\u001b[38;5;132;01m%s\u001b[39;00m\u001b[38;5;124m: File does not exist\u001b[39m\u001b[38;5;124m'\u001b[39m \u001b[38;5;241m%\u001b[39m (\u001b[38;5;28mself\u001b[39m\u001b[38;5;241m.\u001b[39mfilename))\n\u001b[1;32m   1186\u001b[0m     \u001b[38;5;28;01mraise\u001b[39;00m NansatReadError(\u001b[38;5;124m'\u001b[39m\u001b[38;5;132;01m%s\u001b[39;00m\u001b[38;5;124m: File cannot be read with NANSAT - \u001b[39m\u001b[38;5;124m'\u001b[39m\n\u001b[1;32m   1187\u001b[0m             \u001b[38;5;124m'\u001b[39m\u001b[38;5;124mconsider writing a mapper\u001b[39m\u001b[38;5;124m'\u001b[39m \u001b[38;5;241m%\u001b[39m \u001b[38;5;28mself\u001b[39m\u001b[38;5;241m.\u001b[39mfilename)\n\u001b[1;32m   1189\u001b[0m \u001b[38;5;28;01mreturn\u001b[39;00m tmp_vrt\n",
      "\u001b[0;31mOSError\u001b[0m: /lustre/storeB/project/IT/geout/machine-ocean/data_raw/sentinel/S1B_EW_GRDM_1SDH_20170720T084730_20170720T084830_006569_00B8D6_F92F.SAFE: File does not exist"
     ]
    }
   ],
   "source": [
    "n = Nansat(data_dir +fname)\n",
    "n"
   ]
  },
  {
   "cell_type": "code",
   "execution_count": 111,
   "id": "b88c894f-dbe5-4563-a046-c6666fe2fdda",
   "metadata": {},
   "outputs": [],
   "source": [
    "lons, lats = n.get_geolocation_grids()"
   ]
  },
  {
   "cell_type": "code",
   "execution_count": 95,
   "id": "1912569e-d92e-482f-a113-b8c4fb951a0b",
   "metadata": {},
   "outputs": [],
   "source": [
    "lonlim=[station_lon - epsilon, station_lon + epsilon]\n",
    "latlim=[station_lat - epsilon, station_lat + epsilon]"
   ]
  },
  {
   "cell_type": "code",
   "execution_count": 96,
   "id": "f3d0dda8-8048-413b-9acc-9dd98cc09e91",
   "metadata": {},
   "outputs": [
    {
     "data": {
      "text/plain": [
       "[-39.47383, -39.473729999999996]"
      ]
     },
     "execution_count": 96,
     "metadata": {},
     "output_type": "execute_result"
    }
   ],
   "source": [
    "lonlim"
   ]
  },
  {
   "cell_type": "code",
   "execution_count": 97,
   "id": "07f1d92d-31be-4d78-b7ec-37ca67a21628",
   "metadata": {},
   "outputs": [
    {
     "data": {
      "text/plain": [
       "[59.93365, 59.93375]"
      ]
     },
     "execution_count": 97,
     "metadata": {},
     "output_type": "execute_result"
    }
   ],
   "source": [
    "latlim"
   ]
  },
  {
   "cell_type": "code",
   "execution_count": 112,
   "id": "f51a0e5e-03a9-430d-8d92-3f92ecfd2aa4",
   "metadata": {},
   "outputs": [
    {
     "ename": "RuntimeError",
     "evalue": "Invalid dataset dimensions : 0 x 10004",
     "output_type": "error",
     "traceback": [
      "\u001b[0;31m---------------------------------------------------------------------------\u001b[0m",
      "\u001b[0;31mRuntimeError\u001b[0m                              Traceback (most recent call last)",
      "Cell \u001b[0;32mIn [112], line 1\u001b[0m\n\u001b[0;32m----> 1\u001b[0m n\u001b[38;5;241m.\u001b[39mcrop_lonlat(lonlim\u001b[38;5;241m=\u001b[39mlonlim, latlim\u001b[38;5;241m=\u001b[39mlatlim)\n",
      "File \u001b[0;32m~/repos/github/nansat/nansat/nansat.py:1438\u001b[0m, in \u001b[0;36mNansat.crop_lonlat\u001b[0;34m(self, lonlim, latlim)\u001b[0m\n\u001b[1;32m   1435\u001b[0m x_offset, x_size \u001b[38;5;241m=\u001b[39m offset_size(pix_corners)\n\u001b[1;32m   1436\u001b[0m y_offset, y_size \u001b[38;5;241m=\u001b[39m offset_size(lin_corners)\n\u001b[0;32m-> 1438\u001b[0m \u001b[38;5;28;01mreturn\u001b[39;00m \u001b[38;5;28;43mself\u001b[39;49m\u001b[38;5;241;43m.\u001b[39;49m\u001b[43mcrop\u001b[49m\u001b[43m(\u001b[49m\u001b[43mx_offset\u001b[49m\u001b[43m,\u001b[49m\u001b[43m \u001b[49m\u001b[43my_offset\u001b[49m\u001b[43m,\u001b[49m\u001b[43m \u001b[49m\u001b[43mx_size\u001b[49m\u001b[43m,\u001b[49m\u001b[43m \u001b[49m\u001b[43my_size\u001b[49m\u001b[43m)\u001b[49m\n",
      "File \u001b[0;32m~/repos/github/nansat/nansat/nansat.py:1517\u001b[0m, in \u001b[0;36mNansat.crop\u001b[0;34m(self, x_offset, y_offset, x_size, y_size, allow_larger)\u001b[0m\n\u001b[1;32m   1515\u001b[0m \u001b[38;5;66;03m# create super VRT and change it\u001b[39;00m\n\u001b[1;32m   1516\u001b[0m \u001b[38;5;28mself\u001b[39m\u001b[38;5;241m.\u001b[39mvrt \u001b[38;5;241m=\u001b[39m \u001b[38;5;28mself\u001b[39m\u001b[38;5;241m.\u001b[39mvrt\u001b[38;5;241m.\u001b[39mget_super_vrt()\n\u001b[0;32m-> 1517\u001b[0m \u001b[38;5;28;43mself\u001b[39;49m\u001b[38;5;241;43m.\u001b[39;49m\u001b[43mvrt\u001b[49m\u001b[38;5;241;43m.\u001b[39;49m\u001b[43mset_offset_size\u001b[49m\u001b[43m(\u001b[49m\u001b[38;5;124;43m'\u001b[39;49m\u001b[38;5;124;43mx\u001b[39;49m\u001b[38;5;124;43m'\u001b[39;49m\u001b[43m,\u001b[49m\u001b[43m \u001b[49m\u001b[43mx_offset\u001b[49m\u001b[43m,\u001b[49m\u001b[43m \u001b[49m\u001b[43mx_size\u001b[49m\u001b[43m)\u001b[49m\n\u001b[1;32m   1518\u001b[0m \u001b[38;5;28mself\u001b[39m\u001b[38;5;241m.\u001b[39mvrt\u001b[38;5;241m.\u001b[39mset_offset_size(\u001b[38;5;124m'\u001b[39m\u001b[38;5;124my\u001b[39m\u001b[38;5;124m'\u001b[39m, y_offset, y_size)\n\u001b[1;32m   1519\u001b[0m \u001b[38;5;28mself\u001b[39m\u001b[38;5;241m.\u001b[39mvrt\u001b[38;5;241m.\u001b[39mshift_cropped_gcps(x_offset, x_size, y_offset, y_size)\n",
      "File \u001b[0;32m~/repos/github/nansat/nansat/vrt.py:1638\u001b[0m, in \u001b[0;36mVRT.set_offset_size\u001b[0;34m(self, axis, offset, size)\u001b[0m\n\u001b[1;32m   1635\u001b[0m     iNode3\u001b[38;5;241m.\u001b[39mreplaceAttribute(\u001b[38;5;124m'\u001b[39m\u001b[38;5;132;01m%s\u001b[39;00m\u001b[38;5;124mSize\u001b[39m\u001b[38;5;124m'\u001b[39m\u001b[38;5;241m%\u001b[39m\u001b[38;5;28mstr\u001b[39m(axis)\u001b[38;5;241m.\u001b[39mlower(), \u001b[38;5;28mstr\u001b[39m(size))\n\u001b[1;32m   1637\u001b[0m \u001b[38;5;66;03m# write modified XML\u001b[39;00m\n\u001b[0;32m-> 1638\u001b[0m \u001b[38;5;28;43mself\u001b[39;49m\u001b[38;5;241;43m.\u001b[39;49m\u001b[43mwrite_xml\u001b[49m\u001b[43m(\u001b[49m\u001b[43mnode0\u001b[49m\u001b[38;5;241;43m.\u001b[39;49m\u001b[43mrawxml\u001b[49m\u001b[43m(\u001b[49m\u001b[43m)\u001b[49m\u001b[43m)\u001b[49m\n",
      "File \u001b[0;32m~/repos/github/nansat/nansat/vrt.py:1053\u001b[0m, in \u001b[0;36mVRT.write_xml\u001b[0;34m(self, vsi_file_content)\u001b[0m\n\u001b[1;32m   1051\u001b[0m gdal\u001b[38;5;241m.\u001b[39mVSIFCloseL(vsi_file)\n\u001b[1;32m   1052\u001b[0m \u001b[38;5;66;03m# re-open self.dataset with new content\u001b[39;00m\n\u001b[0;32m-> 1053\u001b[0m \u001b[38;5;28mself\u001b[39m\u001b[38;5;241m.\u001b[39mdataset \u001b[38;5;241m=\u001b[39m \u001b[43mgdal\u001b[49m\u001b[38;5;241;43m.\u001b[39;49m\u001b[43mOpen\u001b[49m\u001b[43m(\u001b[49m\u001b[38;5;28;43mself\u001b[39;49m\u001b[38;5;241;43m.\u001b[39;49m\u001b[43mfilename\u001b[49m\u001b[43m)\u001b[49m\n",
      "File \u001b[0;32m/modules/rhel8/conda/install/envs/production-10-2022/lib/python3.9/site-packages/osgeo/gdal.py:4232\u001b[0m, in \u001b[0;36mOpen\u001b[0;34m(*args)\u001b[0m\n\u001b[1;32m   4230\u001b[0m \u001b[38;5;28;01mdef\u001b[39;00m \u001b[38;5;21mOpen\u001b[39m(\u001b[38;5;241m*\u001b[39margs):\n\u001b[1;32m   4231\u001b[0m     \u001b[38;5;124mr\u001b[39m\u001b[38;5;124;03m\"\"\"Open(char const * utf8_path, GDALAccess eAccess=GA_ReadOnly) -> Dataset\"\"\"\u001b[39;00m\n\u001b[0;32m-> 4232\u001b[0m     \u001b[38;5;28;01mreturn\u001b[39;00m \u001b[43m_gdal\u001b[49m\u001b[38;5;241;43m.\u001b[39;49m\u001b[43mOpen\u001b[49m\u001b[43m(\u001b[49m\u001b[38;5;241;43m*\u001b[39;49m\u001b[43margs\u001b[49m\u001b[43m)\u001b[49m\n",
      "\u001b[0;31mRuntimeError\u001b[0m: Invalid dataset dimensions : 0 x 10004"
     ]
    }
   ],
   "source": [
    "n.crop_lonlat(lonlim=lonlim, latlim=latlim)"
   ]
  },
  {
   "cell_type": "code",
   "execution_count": null,
   "id": "778a57bb-837d-4bd6-8231-05888c0bdf78",
   "metadata": {},
   "outputs": [],
   "source": []
  },
  {
   "cell_type": "code",
   "execution_count": null,
   "id": "f8401985-9c00-420d-a5eb-0bbd8061f602",
   "metadata": {},
   "outputs": [],
   "source": []
  },
  {
   "cell_type": "markdown",
   "id": "03e71b23-2a54-4af8-be2b-c41996cd0fd1",
   "metadata": {},
   "source": [
    "with open(data_dir + 'in_situ_obs_with_sar_params.pickle', 'wb') as handle:\n",
    "    pickle.dump(in_situ_obs, handle, protocol=pickle.HIGHEST_PROTOCOL)\n"
   ]
  },
  {
   "cell_type": "code",
   "execution_count": null,
   "id": "aff06a66-355e-42b0-96b0-99c3adbc7ced",
   "metadata": {},
   "outputs": [],
   "source": []
  }
 ],
 "metadata": {
  "kernelspec": {
   "display_name": "Python 3 (ipykernel)",
   "language": "python",
   "name": "python3"
  },
  "language_info": {
   "codemirror_mode": {
    "name": "ipython",
    "version": 3
   },
   "file_extension": ".py",
   "mimetype": "text/x-python",
   "name": "python",
   "nbconvert_exporter": "python",
   "pygments_lexer": "ipython3",
   "version": "3.9.16"
  }
 },
 "nbformat": 4,
 "nbformat_minor": 5
}
